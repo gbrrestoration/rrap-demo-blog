{
 "cells": [
  {
   "cell_type": "markdown",
   "metadata": {},
   "source": [
    "# RRAP-IS Modelling Workflow Demonstration Notebook\n",
    "\n",
    "> A tutorial of RRAP-IS system use from a modeller's perspective.   \n",
    "\n",
    "- toc: true \n",
    "- badges: true\n",
    "- comments: true\n",
    "- categories: [jupyter]"
   ]
  },
  {
   "cell_type": "markdown",
   "metadata": {},
   "source": [
    "## About\n",
    "\n",
    "This notebook is a demonstration of ... RRAP data repository. "
   ]
  },
  {
   "cell_type": "markdown",
   "metadata": {},
   "source": [
    "### Run all imports\n",
    "\n",
    "Keep all your imports at the top of a notebook.  It allows for easier management."
   ]
  },
  {
   "cell_type": "code",
   "execution_count": null,
   "metadata": {},
   "outputs": [],
   "source": [
    "import requests\n",
    "import os\n",
    "import sys\n",
    "import json\n",
    "from bs4 import BeautifulSoup\n",
    "from IPython.display import IFrame, display, HTML, JSON, Markdown, Image\n",
    "from mdsisclienttools.auth.TokenManager import DeviceFlowManager\n",
    "\n",
    "import numpy as np\n",
    "import pandas as pd\n",
    "\n",
    "import warnings\n",
    "warnings.filterwarnings(action='once')"
   ]
  },
  {
   "cell_type": "markdown",
   "metadata": {},
   "source": [
    "### Define global variables\n",
    "\n",
    "Similar to import we like to define notebook variable at the top and reuse them throughout the notebook"
   ]
  },
  {
   "cell_type": "code",
   "execution_count": null,
   "metadata": {},
   "outputs": [
    {
     "data": {
      "text/plain": [
       "'Checking base urls'"
      ]
     },
     "metadata": {},
     "output_type": "display_data"
    },
    {
     "name": "stdout",
     "output_type": "stream",
     "text": [
      "Testing - https://data-api.testing.rrap-is.com - Passed\n",
      "Testing - https://registry-api.testing.rrap-is.com - Passed\n",
      "Testing - https://prov-api.testing.rrap-is.com - Passed\n",
      "Testing - https://auth.dev.rrap-is.com/auth/realms/rrap - Passed\n",
      "Testing - https://data.testing.rrap-is.com - Passed\n"
     ]
    }
   ],
   "source": [
    "data_store = \"https://data.testing.rrap-is.com\"\n",
    "data_api = \"https://data-api.testing.rrap-is.com\"\n",
    "registry_api = \"https://registry-api.testing.rrap-is.com\"\n",
    "prov_api = \"https://prov-api.testing.rrap-is.com\"\n",
    "auth_server = \"https://auth.dev.rrap-is.com/auth/realms/rrap\"\n",
    "# garbage = \"https://frogs.are.green\"\n",
    "base_urls = {'data_api': data_api, 'registry_api': registry_api, 'prov_api': prov_api, 'auth_server': auth_server, 'data_store': data_store}#, 'garbage': garbage}\n",
    "display(f'Checking base urls')\n",
    "\n",
    "for key, url in base_urls.items():\n",
    "    try:\n",
    "        print(f'Testing - {url}', end=\"\")\n",
    "        r = requests.get(url)\n",
    "        r.raise_for_status()\n",
    "        print(f' - Passed')\n",
    "    except requests.exceptions.HTTPError as err:\n",
    "        print(f' - Fail')\n",
    "        raise SystemExit(err)\n",
    "    except requests.exceptions.RequestException as e:\n",
    "        # catastrophic error. bail.\n",
    "        print(f' - Fail')\n",
    "        raise SystemExit(e)"
   ]
  },
  {
   "cell_type": "markdown",
   "metadata": {},
   "source": [
    "## Authentication\n",
    "\n",
    "### Setup tokens using device authorisation flow against keycloak server\n",
    "\n",
    "This could result in a browser window being opened if you don't have valid tokens cached in local storage.\n",
    "\n",
    "[Return to Top](#toc)"
   ]
  },
  {
   "cell_type": "code",
   "execution_count": null,
   "metadata": {},
   "outputs": [],
   "source": [
    "# this caches the tokens\n",
    "local_token_storage = \".tokens.json\"\n",
    "\n",
    "token_manager = DeviceFlowManager(\n",
    "    stage=\"TEST\",\n",
    "    keycloak_endpoint=auth_server,\n",
    "    local_storage_location=local_token_storage\n",
    ")"
   ]
  },
  {
   "cell_type": "markdown",
   "metadata": {},
   "source": [
    "## Endpoint Documentation\n",
    "Endpoint documentation can be found by appending either `/docs` or `/redoc` on the end a base URL.\n",
    "\n",
    "For example:\n",
    "<ul>\n",
    "  <li><a href=\"https://prov-api.testing.rrap-is.com/redoc\" target=\"_blank\">Provenance API</a></li>\n",
    "  <li><a href=\"https://data-api.testing.rrap-is.com/redoc\" target=\"_blank\">Data API</a></li>\n",
    "  <li><a href=\"https://registry-api.testing.rrap-is.com/redoc\" target=\"_blank\">Registry API</a></li>\n",
    "</ul>\n",
    "\n",
    "\n",
    "\n",
    "Then select from the menu an endpoint function call e.g. `/register/mint-dataset`\n",
    "\n",
    "Then append the function call onto the base url e.g. `https://data-api.testing.rrap-is.com/register/mint-dataset`\n",
    "\n",
    "[Return to Top](#toc)"
   ]
  },
  {
   "cell_type": "markdown",
   "metadata": {},
   "source": [
    "## Demonstration\n",
    "\n",
    "This demonstration illustrates how the RRAP-IS system can be integrated within a modelling scenario to use registered project data, upload and register model outputs and discover provenance information (what data was used for a particular model run and what are the associated outputs).\n",
    "\n",
    "For the demonstration a fictitious model is used, the data is actual RRAP data and the provenance information is only "
   ]
  },
  {
   "cell_type": "markdown",
   "metadata": {},
   "source": [
    "### Model\n",
    "\n",
    "We should be able to discover a model within the Registry or we can register a new model. First we will show how to list existing registered models and then we will demonstrate registering a new model.  Then we will use the registery to obtain a model."
   ]
  },
  {
   "cell_type": "markdown",
   "metadata": {},
   "source": [
    "#### List all existing models"
   ]
  },
  {
   "cell_type": "markdown",
   "metadata": {},
   "source": [
    "#### Register a new model"
   ]
  },
  {
   "cell_type": "markdown",
   "metadata": {},
   "source": [
    "#### Obtain the newly Registered Model for use"
   ]
  },
  {
   "cell_type": "markdown",
   "metadata": {},
   "source": [
    "### Data\n",
    "\n",
    "Similar to models we should use registered data else we should register new data and then use the registry to obtain the data.  We will demonstrate listing existing dataset and registering a new dataset.  Finally we will demonstrate using the registry to obtain data for a model run, register the run and the results/outputs from the run along with who (Modeller and Organisation) ran the model."
   ]
  },
  {
   "cell_type": "markdown",
   "metadata": {},
   "source": [
    "#### List existing datasets"
   ]
  },
  {
   "cell_type": "markdown",
   "metadata": {},
   "source": [
    "#### Register a new dataset"
   ]
  },
  {
   "cell_type": "markdown",
   "metadata": {},
   "source": [
    "#### Download and use a registered dataset"
   ]
  },
  {
   "cell_type": "markdown",
   "metadata": {},
   "source": [
    "#### Execute the model and register the outputs"
   ]
  },
  {
   "cell_type": "markdown",
   "metadata": {},
   "source": [
    "### Provenance\n",
    "\n",
    "As all data, modellers, organisations and activities (**specific to producing data used in decisions**) are registered in RRAP-IS it is possible to travers the linage between these entities.  This can be useful in discovering what data (or modeller/model/s) was used to produce certain outputs. "
   ]
  }
 ],
 "metadata": {
  "kernelspec": {
   "display_name": "Python 3.8.10 ('.venv_mvp_demo': venv)",
   "language": "python",
   "name": "python3"
  },
  "language_info": {
   "name": "python",
   "version": "3.8.10"
  },
  "orig_nbformat": 4,
  "vscode": {
   "interpreter": {
    "hash": "82192c8bf994ccb98e90315dae66d7955fd943f30aa2f212d7500edf0bb63e27"
   }
  }
 },
 "nbformat": 4,
 "nbformat_minor": 2
}
