{
 "cells": [
  {
   "cell_type": "markdown",
   "metadata": {},
   "source": [
    "# RRAP-IS Modelling Workflow Demonstration Notebook\n",
    "\n",
    "> A tutorial of RRAP-IS system use from a modeller's perspective.   \n",
    "\n",
    "- toc: true \n",
    "- badges: true\n",
    "- comments: true\n",
    "- categories: [jupyter]"
   ]
  },
  {
   "cell_type": "markdown",
   "metadata": {},
   "source": [
    "## About\n",
    "\n",
    "This notebook is a demonstration of integrating the RRAP-IS with a simple model run.\n",
    "\n",
    "![](assets/data_store_prov_store_overview.jpg)\n",
    "\n",
    "![](assets/provOverview.png)"
   ]
  },
  {
   "cell_type": "markdown",
   "metadata": {},
   "source": [
    "### Run all imports\n",
    "\n",
    "Keep all your imports at the top of a notebook.  It allows for easier management."
   ]
  },
  {
   "cell_type": "code",
   "execution_count": null,
   "metadata": {},
   "outputs": [],
   "source": [
    "%%capture\n",
    "import requests\n",
    "import os\n",
    "import sys\n",
    "import json\n",
    "from json2html import *\n",
    "from bs4 import BeautifulSoup\n",
    "from IPython.display import IFrame, display, HTML, JSON, Markdown, Image\n",
    "from mdsisclienttools.auth.TokenManager import DeviceFlowManager\n",
    "import mdsisclienttools.datastore.ReadWriteHelper as IOHelper\n",
    "from urllib.error import HTTPError\n",
    "import networkx as nx\n",
    "import nx_altair as nxa\n",
    "from networkx.readwrite import json_graph\n",
    "\n",
    "import numpy as np\n",
    "import pandas as pd\n",
    "import holoviews as hv\n",
    "from holoviews import opts\n",
    "hv.extension('bokeh')\n",
    "defaults = dict(width=800, height=600)\n",
    "hv.opts.defaults(opts.EdgePaths(**defaults), opts.Graph(**defaults), opts.Nodes(**defaults))\n",
    "\n",
    "import warnings\n",
    "warnings.filterwarnings(action='once')"
   ]
  },
  {
   "cell_type": "markdown",
   "metadata": {},
   "source": [
    "### Define global variables\n",
    "\n",
    "Similar to import we like to define notebook variable at the top and reuse them throughout the notebook"
   ]
  },
  {
   "cell_type": "code",
   "execution_count": null,
   "metadata": {},
   "outputs": [],
   "source": [
    "data_store = \"https://data.testing.rrap-is.com\"\n",
    "data_api = \"https://data-api.testing.rrap-is.com\"\n",
    "registry_api = \"https://registry-api.testing.rrap-is.com\"\n",
    "prov_api = \"https://prov-api.testing.rrap-is.com\"\n",
    "auth_server = \"https://auth.dev.rrap-is.com/auth/realms/rrap\"\n",
    "# garbage = \"https://frogs.are.green\"\n",
    "base_urls = {'data_api': data_api, 'registry_api': registry_api, 'prov_api': prov_api, 'auth_server': auth_server, 'data_store': data_store}#, 'garbage': garbage}\n",
    "display(f'Checking base urls')\n",
    "\n",
    "for key, url in base_urls.items():\n",
    "    try:\n",
    "        print(f'Testing - {url}', end=\"\")\n",
    "        r = requests.get(url)\n",
    "        r.raise_for_status()\n",
    "        print(f' - Passed')\n",
    "    except requests.exceptions.HTTPError as err:\n",
    "        print(f' - Fail')\n",
    "        raise SystemExit(err)\n",
    "    except requests.exceptions.RequestException as e:\n",
    "        # catastrophic error. bail.\n",
    "        print(f' - Fail')\n",
    "        raise SystemExit(e)"
   ]
  },
  {
   "cell_type": "markdown",
   "metadata": {},
   "source": [
    "## Authentication\n",
    "\n",
    "### Setup tokens using device authorisation flow against keycloak server\n",
    "\n",
    "This could result in a browser window being opened if you don't have valid tokens cached in local storage.\n",
    "\n",
    "[Return to Top](#toc)"
   ]
  },
  {
   "cell_type": "code",
   "execution_count": null,
   "metadata": {},
   "outputs": [],
   "source": [
    "# this caches the tokens\n",
    "local_token_storage = \".tokens.json\"\n",
    "\n",
    "token_manager = DeviceFlowManager(\n",
    "    stage=\"TEST\",\n",
    "    keycloak_endpoint=auth_server,\n",
    "    local_storage_location=local_token_storage\n",
    ")"
   ]
  },
  {
   "cell_type": "markdown",
   "metadata": {},
   "source": [
    "## Endpoint Documentation\n",
    "Endpoint documentation can be found by appending either `/docs` or `/redoc` on the end a base URL.\n",
    "\n",
    "For example:\n",
    "<ul>\n",
    "  <li><a href=\"https://prov-api.testing.rrap-is.com/redoc\" target=\"_blank\">Provenance API</a></li>\n",
    "  <li><a href=\"https://data-api.testing.rrap-is.com/redoc\" target=\"_blank\">Data API</a></li>\n",
    "  <li><a href=\"https://registry-api.testing.rrap-is.com/redoc\" target=\"_blank\">Registry API</a></li>\n",
    "</ul>\n",
    "\n",
    "\n",
    "\n",
    "Then select from the menu an endpoint function call e.g. `/register/mint-dataset`\n",
    "\n",
    "Then append the function call onto the base url e.g. `https://data-api.testing.rrap-is.com/register/mint-dataset`\n",
    "\n",
    "[Return to Top](#toc)"
   ]
  },
  {
   "cell_type": "markdown",
   "metadata": {},
   "source": [
    "## Notebook helper functions\n",
    "[Return to Top](#toc)"
   ]
  },
  {
   "cell_type": "code",
   "execution_count": null,
   "metadata": {},
   "outputs": [],
   "source": [
    "from enum import Enum\n",
    "from enum_switch import Switch\n",
    "\n",
    "def wrap_html_table(data):\n",
    "    soup = BeautifulSoup(data)\n",
    "\n",
    "    ul_tag = soup.find(\"table\")\n",
    "    div_tag = soup.new_tag(\"div\")\n",
    "    div_tag['style'] = \"width: auto; height: 400px; overflow-y: auto; \"\n",
    "    ul_tag.wrap(div_tag)\n",
    "    new_tag = soup.new_tag(\"details\")\n",
    "    div_tag.wrap(new_tag)\n",
    "    \n",
    "    tag = soup.new_tag(\"summary\")\n",
    "    tag.string = \"Results\"\n",
    "    soup.div.insert_after(tag)\n",
    "\n",
    "    return soup.prettify()\n",
    "    \n",
    "def json_to_md(response_json):\n",
    "        json_obj_in_html = json2html.convert( response_json  )\n",
    "        return wrap_html_table(json_obj_in_html)\n",
    "    \n",
    "def handle_request(method, url, params=None, payload=None, auth=None):\n",
    "    try:\n",
    "        if params:\n",
    "            response = requests.request(method, url=url, params=params, auth=auth)\n",
    "        elif payload:\n",
    "            response = requests.request(method, url=url, json=payload, auth=auth)\n",
    "        else:\n",
    "            response = requests.request(method, url=url, auth=auth)\n",
    "        # If the response was successful, no Exception will be raised\n",
    "        response.raise_for_status()\n",
    "\n",
    "    except HTTPError as http_err:\n",
    "        print(f'HTTP error occurred: {http_err}')  # Python 3.6\n",
    "        return {\"error\": http_err}\n",
    "    except Exception as err:\n",
    "        print(f'Other error occurred: {err}')  # Python 3.6\n",
    "        return {\"error\": err }\n",
    "    else:\n",
    "        return response.json()\n",
    "        \n",
    "class ProvType(Enum):\n",
    "    AGENT = 1\n",
    "    ACTIVITY = 2\n",
    "    ENTITY = 3\n",
    "\n",
    "class ItemType(Enum):\n",
    "    MODEL = 1\n",
    "    PERSON = 2\n",
    "    ORGANISATION = 3\n",
    "    MODELRUN = 4\n",
    "    MODEL_RUN_WORKFLOW = 5\n",
    "\n",
    "class ProvTypeFromItemType(Switch):\n",
    "    def MODEL(self):\n",
    "        return ProvType.ENTITY\n",
    "\n",
    "    def PERSON(self):\n",
    "        return ProvType.AGENT    \n",
    "\n",
    "    def ORGANISATION(self):\n",
    "        return ProvType.AGENT    \n",
    "\n",
    "    def MODELRUN(self):\n",
    "        return ProvType.ACTIVITY\n",
    "\n",
    "    def MODEL_RUN_WORKFLOW(self):\n",
    "        return ProvType.ENTITY\n",
    "\n",
    "prov_of_item = ProvTypeFromItemType(ItemType)\n",
    "provs = [print(prov_of_item(t)) for t in ItemType]\n",
    "\n",
    "def register_item(payload, item_type, auth):\n",
    "    prov_type = prov_of_item(item_type)\n",
    "    postfix = f'/registry/{prov_type.name.lower()}/{item_type.name.lower()}/create'\n",
    "    endpoint = registry_api + postfix \n",
    "    return handle_request(\"POST\", endpoint, None, payload, auth=auth())\n",
    "\n",
    "def registry_list(item_type, auth):\n",
    "    prov_type = prov_of_item(item_type)\n",
    "    postfix = f'/registry/{prov_type.name.lower()}/{item_type.name.lower()}/list'\n",
    "    endpoint = registry_api + postfix\n",
    "    return handle_request(\"GET\", endpoint, None, None, auth=auth())\n",
    "\n",
    "def registry_fetch(params, item_type, auth):\n",
    "    prov_type = prov_of_item(item_type)\n",
    "    postfix = f'/registry/{prov_type.name.lower()}/{item_type.name.lower()}/fetch'\n",
    "    endpoint = registry_api + postfix\n",
    "    return handle_request(\"GET\", endpoint, params, None, auth=auth())"
   ]
  },
  {
   "cell_type": "markdown",
   "metadata": {},
   "source": [
    "## Demonstration\n",
    "\n",
    "This demonstration illustrates how the RRAP-IS system can be integrated within a modelling scenario to use registered project data, upload and register model outputs and discover provenance information (what data was used for a particular model run and what are the associated outputs).\n",
    "\n",
    "For the demonstration a fictitious model is used, the data is actual RRAP data and the provenance information is only derived from this exercise\n",
    "\n",
    "[Return to Top](#toc)"
   ]
  },
  {
   "cell_type": "markdown",
   "metadata": {},
   "source": [
    "### Data\n",
    "\n",
    "Similar to models we should use registered data else we should register new data and then use the registry to obtain the data.  We will demonstrate listing existing dataset and registering a new dataset.  Finally we will demonstrate using the registry to obtain data for a model run, register the run and the results/outputs from the run along with who (Modeller and Organisation) ran the model."
   ]
  },
  {
   "cell_type": "markdown",
   "metadata": {},
   "source": [
    "#### List existing dataset"
   ]
  },
  {
   "cell_type": "code",
   "execution_count": null,
   "metadata": {},
   "outputs": [],
   "source": [
    "auth = token_manager.get_auth\n",
    "dataset_id = '10378.1/1689073'\n",
    "postfix = \"/registry/items/fetch-dataset\"\n",
    "param = f'handle_id={dataset_id}'\n",
    "endpoint = data_api + postfix \n",
    "response_json = handle_request(\"GET\", endpoint, param, None, auth())\n",
    "HTML(json_to_md(response_json))"
   ]
  },
  {
   "cell_type": "markdown",
   "metadata": {},
   "source": [
    "#### Register a new dataset"
   ]
  },
  {
   "cell_type": "code",
   "execution_count": null,
   "metadata": {},
   "outputs": [],
   "source": [
    "# Using RRAP-IS python packages\n",
    "auth = token_manager.get_auth\n",
    "postfix = \"/register/mint-dataset\"\n",
    "payload =  {\n",
    "  \"author\": {\n",
    "    \"name\": \"Andrew Freebairn\",\n",
    "    \"email\": \"andrew.freebairn@csiro.au\",\n",
    "    \"orcid\": \"https://orcid.org/0000-0001-9429-6559\",\n",
    "    \"organisation\": {\n",
    "      \"name\": \"CSIRO\",\n",
    "      \"ror\": \"https://ror.org/03qn8fb07\"\n",
    "    }\n",
    "  },\n",
    "  \"dataset_info\": {\n",
    "    \"name\": \"MVP Demo Dataset\",\n",
    "    \"description\": \"For demonstration purposes\",\n",
    "    \"publisher\": {\n",
    "      \"name\": \"Andrew\",\n",
    "      \"ror\": \"https://ror.org/057xz1h85\"\n",
    "    },\n",
    "    \"created_date\": \"2022-08-05\",\n",
    "    \"published_date\": \"2022-08-05\",\n",
    "    \"license\": \"https://creativecommons.org/licenses/by/4.0/\",\n",
    "    \"keywords\": [\n",
    "      \"keyword1\"\n",
    "    ],\n",
    "    \"version\": \"0.0.1\"\n",
    "  }\n",
    "}\n",
    "endpoint = data_api + postfix \n",
    "\n",
    "response_json = handle_request(\"POST\", endpoint, None, payload, auth())\n",
    "new_handle = response_json['handle']\n",
    "HTML(json_to_md(response_json))"
   ]
  },
  {
   "cell_type": "markdown",
   "metadata": {},
   "source": [
    "#### Uploaded the data associated with the above metadata registry"
   ]
  },
  {
   "cell_type": "code",
   "execution_count": null,
   "metadata": {},
   "outputs": [],
   "source": [
    "auth = token_manager.get_auth\n",
    "IOHelper.upload(new_handle, auth(), \"./data/demo_model_input.csv\", data_api)"
   ]
  },
  {
   "cell_type": "markdown",
   "metadata": {},
   "source": [
    "#### Download a registered dataset\n",
    "Download to a specific directory where the model will be able to use this dataset.\n",
    "\n",
    "Note: that a folder is specified which will download all files in the specified folder.  If a file is specified it will be the only download."
   ]
  },
  {
   "cell_type": "code",
   "execution_count": null,
   "metadata": {},
   "outputs": [],
   "source": [
    "auth = token_manager.get_auth\n",
    "IOHelper.download('./data/', new_handle, auth(), data_api)"
   ]
  },
  {
   "cell_type": "markdown",
   "metadata": {},
   "source": [
    "### Model\n",
    "\n",
    "We should be able to discover a model within the registry or we can register a new model. First we will show how to list existing registered models and then we will demonstrate registering a new model.  Then we will use the registery to obtain a model.\n",
    "\n",
    "Note: The model used here is for demonstration purposes, the actual model will/can be more sophisticated. \n",
    "\n",
    "[Return to Top](#toc)"
   ]
  },
  {
   "cell_type": "markdown",
   "metadata": {},
   "source": [
    "#### List all existing models"
   ]
  },
  {
   "cell_type": "code",
   "execution_count": null,
   "metadata": {},
   "outputs": [],
   "source": [
    "## List all models\n",
    "auth = token_manager.get_auth\n",
    "response_json = registry_list(ItemType.MODEL, auth)\n",
    "\n",
    "HTML(json_to_md(response_json))"
   ]
  },
  {
   "cell_type": "markdown",
   "metadata": {},
   "source": [
    "#### Register a new model\n",
    "To register a model it first needs to be in a system where it is version and retrievable via that version code. We suggest using GitHub and will demonstrate the use here.  Once in a version control system we can register it in the RRAP-IS.\n",
    "1. Commit the model to GitHub (This is done outside of the Jupyter env)\n",
    "1. Register the model with RRAP-IS Registry\n"
   ]
  },
  {
   "cell_type": "code",
   "execution_count": null,
   "metadata": {},
   "outputs": [],
   "source": [
    "model = [{\n",
    "    \"display_name\": \"RRAP-IS Demo\",\n",
    "    \"name\": \"DEMO\",\n",
    "    \"description\": \"Dummy model for demonstartion purposes\",\n",
    "    \"documentation_url\": \"https://github.com/gbrrestoration/rrap-demo-model/blob/main/README.md\",\n",
    "    \"source_url\": \"https://github.com/gbrrestoration/rrap-demo-model.git\"\n",
    "    }]\n",
    "auth = token_manager.get_auth\n",
    "response_json = [register_item(model, ItemType.MODEL, auth) for model in model]\n",
    "HTML(json_to_md(response_json))"
   ]
  },
  {
   "cell_type": "markdown",
   "metadata": {},
   "source": [
    "#### Or fetch a pre-registered model"
   ]
  },
  {
   "cell_type": "code",
   "execution_count": null,
   "metadata": {},
   "outputs": [],
   "source": [
    "param = {\n",
    "    \"id\": \"10378.1/1691432\",\n",
    "    \"seed_allowed\": True\n",
    "}\n",
    "auth = token_manager.get_auth\n",
    "response_json = registry_fetch(param, ItemType.MODEL, auth)\n",
    "HTML(json_to_md(response_json))"
   ]
  },
  {
   "cell_type": "markdown",
   "metadata": {},
   "source": [
    "#### Obtain the newly registered model for use\n",
    "\n",
    "With the above information download the model"
   ]
  },
  {
   "cell_type": "code",
   "execution_count": null,
   "metadata": {},
   "outputs": [],
   "source": [
    "from pathlib import Path\n",
    "from git import Repo\n",
    "model_repo = response_json['item']['source_url']\n",
    "repo_dir = Path(\"rrapDemoModel\")\n",
    "repo_dir.mkdir(exist_ok=True)\n",
    "if any(Path(repo_dir).iterdir()):\n",
    "    print('pull ....')\n",
    "    repo = Repo(str(repo_dir.resolve()))\n",
    "    assert not repo.bare\n",
    "    o = repo.remotes['origin']\n",
    "    o.pull()\n",
    "else:\n",
    "    print('cloning ....')\n",
    "    repo = Repo.clone_from(model_repo, repo_dir, branch='main')   \n",
    "print(repo)\n"
   ]
  },
  {
   "cell_type": "markdown",
   "metadata": {},
   "source": [
    "#### Execute the model "
   ]
  },
  {
   "cell_type": "code",
   "execution_count": null,
   "metadata": {},
   "outputs": [],
   "source": [
    "import sys\n",
    "sys.path.insert(0, str(repo_dir.resolve())) \n",
    "demo = __import__(\"demomodel\") \n",
    "\n",
    "d_demo = demo.demo_model()\n",
    "d_demo.runtimestep()"
   ]
  },
  {
   "cell_type": "markdown",
   "metadata": {},
   "source": [
    "### Register the outputs"
   ]
  },
  {
   "cell_type": "code",
   "execution_count": null,
   "metadata": {},
   "outputs": [],
   "source": [
    "# Register outputs\n",
    "auth = token_manager.get_auth\n",
    "postfix = \"/register/mint-dataset\"\n",
    "payload =  {\n",
    "  \"author\": {\n",
    "    \"name\": \"Andrew Freebairn\",\n",
    "    \"email\": \"andrew.freebairn@csiro.au\",\n",
    "    \"orcid\": \"https://orcid.org/0000-0001-9429-6559\",\n",
    "    \"organisation\": {\n",
    "      \"name\": \"CSIRO\",\n",
    "      \"ror\": \"https://ror.org/03qn8fb07\"\n",
    "    }\n",
    "  },\n",
    "  \"dataset_info\": {\n",
    "    \"name\": \"MVP Demo Outputs\",\n",
    "    \"description\": \"For demonstration purposes\",\n",
    "    \"publisher\": {\n",
    "      \"name\": \"Andrew\",\n",
    "      \"ror\": \"https://ror.org/057xz1h85\"\n",
    "    },\n",
    "    \"created_date\": \"2022-08-05\",\n",
    "    \"published_date\": \"2022-08-05\",\n",
    "    \"license\": \"https://creativecommons.org/licenses/by/4.0/\",\n",
    "    \"keywords\": [\n",
    "      \"keyword1\"\n",
    "    ],\n",
    "    \"version\": \"0.0.1\"\n",
    "  }\n",
    "}\n",
    "endpoint = data_api + postfix \n",
    "\n",
    "response_json = handle_request(\"POST\", endpoint, None, payload, auth())\n",
    "new_handle = response_json['handle']\n",
    "HTML(json_to_md(response_json))"
   ]
  },
  {
   "cell_type": "markdown",
   "metadata": {},
   "source": [
    "### Upload model outputs"
   ]
  },
  {
   "cell_type": "code",
   "execution_count": null,
   "metadata": {},
   "outputs": [],
   "source": [
    "auth = token_manager.get_auth\n",
    "IOHelper.upload(new_handle, auth(), \"readme.txt\", data_api)"
   ]
  },
  {
   "cell_type": "markdown",
   "metadata": {},
   "source": [
    "### Register model run\n",
    "\n",
    "To register a run we first must identify (find within the registry or construct):\n",
    "- Workflow definition\n",
    "- Input and output dataset and respective templates\n",
    "- Modeller\n",
    "- Associated Organisation\n",
    "\n",
    "Will also need to apply Start and End times"
   ]
  },
  {
   "cell_type": "markdown",
   "metadata": {},
   "source": [
    "#### Data\n",
    "\n",
    "Input\n",
    "- Dataset id: `10378.1/1691395`\n",
    "- Dataset template `id: 10378.1/1690478`\n",
    "\n",
    "Output\n",
    "- Dataset id: `10378.1/1691397`\n",
    "- Dataset template id: `10378.1/1690478`\n",
    "\n",
    "Modeller\n",
    "- id: `10378.1/1691138`\n",
    "\n",
    "Assc Organisation\n",
    "- id: `10378.1/1691139`\n",
    "\n",
    "#### Workflow definition register\n",
    "\n",
    "As this is the first time this model has been defined it should be registered"
   ]
  },
  {
   "cell_type": "code",
   "execution_count": null,
   "metadata": {},
   "outputs": [],
   "source": [
    "workflows = [{\n",
    "  \"display_name\": \"Demonstration Workflow Definition\",\n",
    "  \"version\": \"0.0.1\",\n",
    "  \"software\": \"10378.1/1691396\",\n",
    "  \"automation_schedule\": {},\n",
    "  \"input_templates\": [\n",
    "    \"10378.1/1690478\"\n",
    "  ],\n",
    "  \"output_templates\": [\n",
    "    \"10378.1/1690478\"\n",
    "  ]\n",
    "}]\n",
    "\n",
    "auth = token_manager.get_auth\n",
    "responses_json = [register_item(wf, ItemType.MODEL_RUN_WORKFLOW, auth) for wf in workflows]\n",
    "HTML(json_to_md(responses_json))"
   ]
  },
  {
   "cell_type": "code",
   "execution_count": null,
   "metadata": {},
   "outputs": [],
   "source": [
    "# Register the model run\n",
    "auth = token_manager.get_auth\n",
    "postfix = \"/model_run/register_complete\"\n",
    "payload = {\n",
    "  \"start_time\": 0,\n",
    "  \"end_time\": 1662467929,\n",
    "  \"workflow_definition\": {\n",
    "    \"id\": \"10378.1/1691427\"\n",
    "  },\n",
    "  \"inputs\": {\n",
    "    \"datasets\": {\n",
    "      \"10378.1/1690478\": {\n",
    "        \"template\": {\n",
    "          \"id\": \"10378.1/1690478\"\n",
    "        },\n",
    "        \"dataset_type\": \"DATA_STORE\",\n",
    "        \"dataset\": {\n",
    "          \"id\": \"10378.1/1691395\"\n",
    "        }\n",
    "      }\n",
    "    }\n",
    "  },\n",
    "  \"outputs\": {\n",
    "    \"datasets\": {\n",
    "      \"10378.1/1690478\": {\n",
    "        \"template\": {\n",
    "          \"id\": \"10378.1/1690478\"\n",
    "        },\n",
    "        \"dataset_type\": \"DATA_STORE\",\n",
    "        \"dataset\": {\n",
    "          \"id\": \"10378.1/1691397\"\n",
    "        }\n",
    "      }\n",
    "    }\n",
    "  },\n",
    "  \"associations\": {\n",
    "    \"modeller\": {\n",
    "      \"id\": \"10378.1/1691138\"\n",
    "    },\n",
    "    \"requesting_organisation\": {\n",
    "      \"id\": \"10378.1/1691139\"\n",
    "    }\n",
    "  }\n",
    "}\n",
    "endpoint = prov_api + postfix \n",
    "\n",
    "response_json = handle_request('POST', endpoint, None, payload, auth())\n",
    "HTML(json_to_md(response_json))"
   ]
  },
  {
   "cell_type": "markdown",
   "metadata": {},
   "source": [
    "### Provenance\n",
    "\n",
    "As all data, modellers, organisations and activities (**specific to producing data used in decisions**) are registered in RRAP-IS it is possible to traverse the linage between these entities.  This can be useful in discovering what data (or modeller/model/s) was used to produce certain outputs.\n",
    "\n",
    "Let's explore all entities associated with a modeller\n",
    "\n",
    "[Return to Top](#toc)"
   ]
  },
  {
   "cell_type": "code",
   "execution_count": null,
   "metadata": {},
   "outputs": [],
   "source": [
    "auth = token_manager.get_auth\n",
    "postfix = \"/explore/downstream\"\n",
    "params = {\n",
    "    \"starting_id\": \"10378.1/1691138\",\n",
    "    \"depth\": 1\n",
    "}\n",
    "endpoint = prov_api + postfix \n",
    "\n",
    "response_json = handle_request('GET', endpoint, params, None, auth())\n",
    "result_graph = response_json[\"graph\"]\n",
    "\n",
    "networkx_graph = json_graph.node_link_graph(result_graph)\n",
    "im = hv.Graph.from_networkx(networkx_graph, nx.layout.fruchterman_reingold_layout).opts(tools=['hover','tap'],\n",
    "                                                                          node_size=10,\n",
    "                                                                          node_color='item_category',\n",
    "                                                                          cmap = ['blue','orange', 'green', 'red'],\n",
    "                                                                          directed=True, \n",
    "                                                                          arrowhead_length=0.02,\n",
    "                                                                          bgcolor='pink')\n",
    "labels = hv.Labels(im.nodes, ['x', 'y'], 'item_category').opts(opts.Labels(text_font_size='12pt', text_color='blue', xoffset=0, yoffset=0.05, bgcolor='white'))\n",
    "labels_2 = hv.Labels(im.nodes, ['x', 'y'], 'item_subtype').opts(opts.Labels(text_font_size='8pt', xoffset=0, yoffset=-0.05, bgcolor='white'))\n",
    "hv_graph = (im * labels * labels_2)\n",
    "\n",
    "hv.save(hv_graph, 'network.html', backend='bokeh')\n",
    "\n",
    "HTML(\"network.html\")"
   ]
  },
  {
   "cell_type": "markdown",
   "metadata": {},
   "source": [
    "[Return to Top](#toc)"
   ]
  }
 ],
 "metadata": {
  "kernelspec": {
   "display_name": "Python 3.10.4 ('.venv1': venv)",
   "language": "python",
   "name": "python3"
  },
  "language_info": {
   "codemirror_mode": {
    "name": "ipython",
    "version": 3
   },
   "file_extension": ".py",
   "mimetype": "text/x-python",
   "name": "python",
   "nbconvert_exporter": "python",
   "pygments_lexer": "ipython3",
   "version": "3.10.4"
  },
  "orig_nbformat": 4,
  "vscode": {
   "interpreter": {
    "hash": "b569a0f1ab8748731643dcf3ea277d23d13a1c2a76e866a2a6232d27dbf9a823"
   }
  }
 },
 "nbformat": 4,
 "nbformat_minor": 2
}
