{
 "cells": [
  {
   "cell_type": "markdown",
   "metadata": {},
   "source": [
    "# RRAP-IS Modelling Workflow Demonstration Notebook\n",
    "\n",
    "> A tutorial of RRAP-IS system use from a modeller's perspective.   \n",
    "\n",
    "- toc: true \n",
    "- badges: true\n",
    "- comments: true\n",
    "- categories: [jupyter]"
   ]
  },
  {
   "cell_type": "markdown",
   "metadata": {},
   "source": [
    "## About\n",
    "\n",
    "This notebook is a demonstration of ... RRAP data repository. "
   ]
  },
  {
   "cell_type": "markdown",
   "metadata": {},
   "source": [
    "### Run all imports\n",
    "\n",
    "Keep all your imports at the top of a notebook.  It allows for easier management."
   ]
  },
  {
   "cell_type": "code",
   "execution_count": null,
   "metadata": {},
   "outputs": [],
   "source": [
    "import requests\n",
    "import os\n",
    "import sys\n",
    "import json\n",
    "from json2html import *\n",
    "from bs4 import BeautifulSoup\n",
    "from IPython.display import IFrame, display, HTML, JSON, Markdown, Image\n",
    "from mdsisclienttools.auth.TokenManager import DeviceFlowManager\n",
    "import mdsisclienttools.datastore.ReadWriteHelper as IOHelper\n",
    "import mdsisclienttools\n",
    "import numpy as np\n",
    "import pandas as pd\n",
    "\n",
    "import warnings\n",
    "warnings.filterwarnings(action='once')"
   ]
  },
  {
   "cell_type": "markdown",
   "metadata": {},
   "source": [
    "### Define global variables\n",
    "\n",
    "Similar to import we like to define notebook variable at the top and reuse them throughout the notebook"
   ]
  },
  {
   "cell_type": "code",
   "execution_count": null,
   "metadata": {},
   "outputs": [],
   "source": [
    "data_store = \"https://data.testing.rrap-is.com\"\n",
    "data_api = \"https://data-api.testing.rrap-is.com\"\n",
    "registry_api = \"https://registry-api.testing.rrap-is.com\"\n",
    "prov_api = \"https://prov-api.testing.rrap-is.com\"\n",
    "auth_server = \"https://auth.dev.rrap-is.com/auth/realms/rrap\"\n",
    "# garbage = \"https://frogs.are.green\"\n",
    "base_urls = {'data_api': data_api, 'registry_api': registry_api, 'prov_api': prov_api, 'auth_server': auth_server, 'data_store': data_store}#, 'garbage': garbage}\n",
    "display(f'Checking base urls')\n",
    "\n",
    "for key, url in base_urls.items():\n",
    "    try:\n",
    "        print(f'Testing - {url}', end=\"\")\n",
    "        r = requests.get(url)\n",
    "        r.raise_for_status()\n",
    "        print(f' - Passed')\n",
    "    except requests.exceptions.HTTPError as err:\n",
    "        print(f' - Fail')\n",
    "        raise SystemExit(err)\n",
    "    except requests.exceptions.RequestException as e:\n",
    "        # catastrophic error. bail.\n",
    "        print(f' - Fail')\n",
    "        raise SystemExit(e)"
   ]
  },
  {
   "cell_type": "markdown",
   "metadata": {},
   "source": [
    "## Authentication\n",
    "\n",
    "### Setup tokens using device authorisation flow against keycloak server\n",
    "\n",
    "This could result in a browser window being opened if you don't have valid tokens cached in local storage.\n",
    "\n",
    "[Return to Top](#toc)"
   ]
  },
  {
   "cell_type": "code",
   "execution_count": null,
   "metadata": {},
   "outputs": [],
   "source": [
    "# this caches the tokens\n",
    "local_token_storage = \".tokens.json\"\n",
    "\n",
    "token_manager = DeviceFlowManager(\n",
    "    stage=\"TEST\",\n",
    "    keycloak_endpoint=auth_server,\n",
    "    local_storage_location=local_token_storage\n",
    ")"
   ]
  },
  {
   "cell_type": "markdown",
   "metadata": {},
   "source": [
    "## Endpoint Documentation\n",
    "Endpoint documentation can be found by appending either `/docs` or `/redoc` on the end a base URL.\n",
    "\n",
    "For example:\n",
    "<ul>\n",
    "  <li><a href=\"https://prov-api.testing.rrap-is.com/redoc\" target=\"_blank\">Provenance API</a></li>\n",
    "  <li><a href=\"https://data-api.testing.rrap-is.com/redoc\" target=\"_blank\">Data API</a></li>\n",
    "  <li><a href=\"https://registry-api.testing.rrap-is.com/redoc\" target=\"_blank\">Registry API</a></li>\n",
    "</ul>\n",
    "\n",
    "\n",
    "\n",
    "Then select from the menu an endpoint function call e.g. `/register/mint-dataset`\n",
    "\n",
    "Then append the function call onto the base url e.g. `https://data-api.testing.rrap-is.com/register/mint-dataset`\n",
    "\n",
    "[Return to Top](#toc)"
   ]
  },
  {
   "cell_type": "markdown",
   "metadata": {},
   "source": [
    "## Notebook helper functions\n",
    "[Return to Top](#toc)"
   ]
  },
  {
   "cell_type": "code",
   "execution_count": null,
   "metadata": {},
   "outputs": [],
   "source": [
    "from enum import Enum\n",
    "from enum_switch import Switch\n",
    "\n",
    "def wrap_html_table(data):\n",
    "    soup = BeautifulSoup(data)\n",
    "\n",
    "    ul_tag = soup.find(\"table\")\n",
    "    div_tag = soup.new_tag(\"div\")\n",
    "    div_tag['style'] = \"width: auto; height: 400px; overflow-y: auto; \"\n",
    "    ul_tag.wrap(div_tag)\n",
    "    new_tag = soup.new_tag(\"details\")\n",
    "    div_tag.wrap(new_tag)\n",
    "    \n",
    "    tag = soup.new_tag(\"summary\")\n",
    "    tag.string = \"Results\"\n",
    "    soup.div.insert_after(tag)\n",
    "\n",
    "    return soup.prettify()\n",
    "    \n",
    "def json_to_md(response_json):\n",
    "        json_obj_in_html = json2html.convert( response_json  )\n",
    "        return wrap_html_table(json_obj_in_html)\n",
    "    \n",
    "def handle_request(method, url, params=None, payload=None, auth=None):\n",
    "    try:\n",
    "        if params:\n",
    "            response = requests.request(method, url=url, params=params, auth=auth)\n",
    "        elif payload:\n",
    "            response = requests.request(method, url=url, json=payload, auth=auth)\n",
    "        else:\n",
    "            response = requests.request(method, url=url, auth=auth)\n",
    "        # If the response was successful, no Exception will be raised\n",
    "        response.raise_for_status()\n",
    "\n",
    "    except HTTPError as http_err:\n",
    "        print(f'HTTP error occurred: {http_err}')  # Python 3.6\n",
    "        return {\"error\": http_err}\n",
    "    except Exception as err:\n",
    "        print(f'Other error occurred: {err}')  # Python 3.6\n",
    "        return {\"error\": err }\n",
    "    else:\n",
    "        return response.json()\n",
    "        \n",
    "class ProvType(Enum):\n",
    "    AGENT = 1\n",
    "    ACTIVITY = 2\n",
    "    ENTITY = 3\n",
    "\n",
    "class ItemType(Enum):\n",
    "    MODEL = 1\n",
    "    PERSON = 2\n",
    "    ORGANISATION = 3\n",
    "    MODELRUN = 4\n",
    "    MODEL_RUN_WORKFLOW = 5\n",
    "\n",
    "class ProvTypeFromItemType(Switch):\n",
    "    def MODEL(self):\n",
    "        return ProvType.ENTITY\n",
    "\n",
    "    def PERSON(self):\n",
    "        return ProvType.AGENT    \n",
    "\n",
    "    def ORGANISATION(self):\n",
    "        return ProvType.AGENT    \n",
    "\n",
    "    def MODELRUN(self):\n",
    "        return ProvType.ACTIVITY\n",
    "\n",
    "    def MODEL_RUN_WORKFLOW(self):\n",
    "        return ProvType.ENTITY\n",
    "\n",
    "prov_of_item = ProvTypeFromItemType(ItemType)\n",
    "provs = [print(prov_of_item(t)) for t in ItemType]\n",
    "\n",
    "def register_item(payload, item_type, auth):\n",
    "    prov_type = prov_of_item(item_type)\n",
    "    postfix = f'/registry/{prov_type.name.lower()}/{item_type.name.lower()}/create'\n",
    "    endpoint = registry_api + postfix \n",
    "    return handle_request(\"POST\", endpoint, None, payload, auth=auth())\n",
    "\n",
    "def registry_list(item_type, auth):\n",
    "    prov_type = prov_of_item(item_type)\n",
    "    postfix = f'/registry/{prov_type.name.lower()}/{item_type.name.lower()}/list'\n",
    "    endpoint = registry_api + postfix\n",
    "    return handle_request(\"GET\", endpoint, None, None, auth=auth())"
   ]
  },
  {
   "cell_type": "markdown",
   "metadata": {},
   "source": [
    "## Demonstration\n",
    "\n",
    "This demonstration illustrates how the RRAP-IS system can be integrated within a modelling scenario to use registered project data, upload and register model outputs and discover provenance information (what data was used for a particular model run and what are the associated outputs).\n",
    "\n",
    "For the demonstration a fictitious model is used, the data is actual RRAP data and the provenance information is only "
   ]
  },
  {
   "cell_type": "markdown",
   "metadata": {},
   "source": [
    "### Model\n",
    "\n",
    "We should be able to discover a model within the Registry or we can register a new model. First we will show how to list existing registered models and then we will demonstrate registering a new model.  Then we will use the registery to obtain a model."
   ]
  },
  {
   "cell_type": "markdown",
   "metadata": {},
   "source": [
    "#### List all existing models"
   ]
  },
  {
   "cell_type": "code",
   "execution_count": null,
   "metadata": {},
   "outputs": [],
   "source": [
    "## List all models\n",
    "auth = token_manager.get_auth\n",
    "response_json = registry_list(ItemType.MODEL, auth)\n",
    "\n",
    "HTML(json_to_md(response_json))"
   ]
  },
  {
   "cell_type": "markdown",
   "metadata": {},
   "source": [
    "#### Register a new model\n",
    "To register a model it first needs to be in a system where it is version and retievable via that version code. We suggest using GitHub and will demonstrate the use here.  Once in a version control system we can register it in the RRAP-IS.\n",
    "1. Commit the model to GitHub (This is done outside of the Jupyter env)\n",
    "1. Register the model with RRAP-IS Registry\n",
    "\n",
    "\n",
    "Note: That the `source_url` is a permalink which can be used to download the model file."
   ]
  },
  {
   "cell_type": "code",
   "execution_count": null,
   "metadata": {},
   "outputs": [],
   "source": [
    "model = [{\n",
    "    \"display_name\": \"RRAP-IS Demo\",\n",
    "    \"name\": \"DEMO\",\n",
    "    \"description\": \"Dummy model for demonstartion purposes\",\n",
    "    \"documentation_url\": \"https://github.com/gbrrestoration/rrap-demo-model/blob/main/README.md\",\n",
    "    \"source_url\": \"https://github.com/gbrrestoration/rrap-demo-model/raw/main/demomodel.py\"\n",
    "    }]\n",
    "auth = token_manager.get_auth\n",
    "response_json = [register_item(model, ItemType.MODEL, auth) for model in model]\n",
    "HTML(json_to_md(response_json))"
   ]
  },
  {
   "cell_type": "markdown",
   "metadata": {},
   "source": [
    "#### Obtain the newly Registered Model for use\n",
    "\n",
    "With the above information download the model"
   ]
  },
  {
   "cell_type": "code",
   "execution_count": null,
   "metadata": {},
   "outputs": [],
   "source": [
    "from subprocess import Popen, PIPE\n",
    "model_source_url = response_json[0]['created_item']['source_url']\n",
    "location = './data'\n",
    "args = ['wget', '-r', '-l', '1', '-p', '-nd', '-P', location, model_source_url]\n",
    "result = Popen(args, stdout=PIPE)\n",
    "(out,err) = result.communicate()\n",
    "print(out, err)"
   ]
  },
  {
   "cell_type": "markdown",
   "metadata": {},
   "source": [
    "### Data\n",
    "\n",
    "Similar to models we should use registered data else we should register new data and then use the registry to obtain the data.  We will demonstrate listing existing dataset and registering a new dataset.  Finally we will demonstrate using the registry to obtain data for a model run, register the run and the results/outputs from the run along with who (Modeller and Organisation) ran the model."
   ]
  },
  {
   "cell_type": "markdown",
   "metadata": {},
   "source": [
    "#### List existing dataset"
   ]
  },
  {
   "cell_type": "code",
   "execution_count": null,
   "metadata": {},
   "outputs": [],
   "source": [
    "auth = token_manager.get_auth\n",
    "dataset_id = '10378.1/1689073'\n",
    "postfix = \"/registry/items/fetch-dataset\"\n",
    "param = f'handle_id={dataset_id}'\n",
    "endpoint = data_api + postfix \n",
    "response_json = handle_request(\"GET\", endpoint, param, None, auth())\n",
    "HTML(json_to_md(response_json))"
   ]
  },
  {
   "cell_type": "markdown",
   "metadata": {},
   "source": [
    "#### Register a new dataset"
   ]
  },
  {
   "cell_type": "code",
   "execution_count": null,
   "metadata": {},
   "outputs": [],
   "source": [
    "# Using RRAP-IS python packages\n",
    "auth = token_manager.get_auth\n",
    "postfix = \"/register/mint-dataset\"\n",
    "payload =  {\n",
    "  \"author\": {\n",
    "    \"name\": \"Andrew Freebairn\",\n",
    "    \"email\": \"andrew.freebairn@csiro.au\",\n",
    "    \"orcid\": \"https://orcid.org/0000-0001-9429-6559\",\n",
    "    \"organisation\": {\n",
    "      \"name\": \"CSIRO\",\n",
    "      \"ror\": \"https://ror.org/03qn8fb07\"\n",
    "    }\n",
    "  },\n",
    "  \"dataset_info\": {\n",
    "    \"name\": \"MVP Demo Dataset\",\n",
    "    \"description\": \"For demonstration purposes\",\n",
    "    \"publisher\": {\n",
    "      \"name\": \"Andrew\",\n",
    "      \"ror\": \"https://ror.org/057xz1h85\"\n",
    "    },\n",
    "    \"created_date\": \"2022-08-05\",\n",
    "    \"published_date\": \"2022-08-05\",\n",
    "    \"license\": \"https://creativecommons.org/licenses/by/4.0/\",\n",
    "    \"keywords\": [\n",
    "      \"keyword1\"\n",
    "    ],\n",
    "    \"version\": \"0.0.1\"\n",
    "  }\n",
    "}\n",
    "endpoint = data_api + postfix \n",
    "\n",
    "response_json = handle_request(\"POST\", endpoint, None, payload, auth())\n",
    "new_handle = response_json['handle']\n",
    "HTML(json_to_md(response_json))"
   ]
  },
  {
   "cell_type": "markdown",
   "metadata": {},
   "source": [
    "#### Download and use a registered dataset"
   ]
  },
  {
   "cell_type": "code",
   "execution_count": null,
   "metadata": {},
   "outputs": [],
   "source": [
    "auth = token_manager.get_auth\n",
    "IOHelper.download('./data', new_handle, auth(), data_api)"
   ]
  },
  {
   "cell_type": "markdown",
   "metadata": {},
   "source": [
    "#### Execute the model "
   ]
  },
  {
   "cell_type": "code",
   "execution_count": null,
   "metadata": {},
   "outputs": [],
   "source": [
    "import data.demomodel as demo\n",
    "\n",
    "d_demo = demo.demo_model()\n",
    "d_demo.runtimestep()"
   ]
  },
  {
   "cell_type": "markdown",
   "metadata": {},
   "source": [
    "### Register the outputs and model run"
   ]
  },
  {
   "cell_type": "markdown",
   "metadata": {},
   "source": [
    "### Provenance\n",
    "\n",
    "As all data, modellers, organisations and activities (**specific to producing data used in decisions**) are registered in RRAP-IS it is possible to travers the linage between these entities.  This can be useful in discovering what data (or modeller/model/s) was used to produce certain outputs. "
   ]
  }
 ],
 "metadata": {
  "kernelspec": {
   "display_name": "Python 3.8.10 ('.venv_mvp_demo': venv)",
   "language": "python",
   "name": "python3"
  },
  "language_info": {
   "codemirror_mode": {
    "name": "ipython",
    "version": 3
   },
   "file_extension": ".py",
   "mimetype": "text/x-python",
   "name": "python",
   "nbconvert_exporter": "python",
   "pygments_lexer": "ipython3",
   "version": "3.8.10"
  },
  "orig_nbformat": 4,
  "vscode": {
   "interpreter": {
    "hash": "82192c8bf994ccb98e90315dae66d7955fd943f30aa2f212d7500edf0bb63e27"
   }
  }
 },
 "nbformat": 4,
 "nbformat_minor": 2
}
