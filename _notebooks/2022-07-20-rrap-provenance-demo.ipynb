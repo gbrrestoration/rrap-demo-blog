{
 "cells": [
  {
   "cell_type": "markdown",
   "metadata": {},
   "source": [
    "# RRAP-IS Provenance Demo Notebook\n",
    "\n",
    "> A tutorial of RRAP authentication using Jupyter notebooks.\n",
    "\n",
    "- toc: true \n",
    "- badges: true\n",
    "- comments: true\n",
    "- categories: [jupyter]"
   ]
  },
  {
   "cell_type": "markdown",
   "metadata": {},
   "source": [
    "## About\n",
    "\n",
    "This notebook is a demonstration of generating a record of a model run and searching the provenance database to identify linkages between data, models, users and organisations with the RRAP-IS system.  "
   ]
  },
  {
   "cell_type": "markdown",
   "metadata": {},
   "source": [
    "### Run all imports\n",
    "\n",
    "Keep all your imports at the top of a notebook.  It allows for easier management."
   ]
  },
  {
   "cell_type": "code",
   "execution_count": null,
   "metadata": {},
   "outputs": [],
   "source": [
    "%%capture\n",
    "import requests\n",
    "import os\n",
    "import sys\n",
    "import json\n",
    "from json2html import *\n",
    "from bs4 import BeautifulSoup\n",
    "from IPython.display import IFrame, display, HTML, JSON, Markdown, Image\n",
    "from mdsisclienttools.auth.TokenManager import DeviceFlowManager\n",
    "from urllib.error import HTTPError\n",
    "import networkx as nx\n",
    "import nx_altair as nxa\n",
    "from networkx.readwrite import json_graph\n",
    "\n",
    "import numpy as np\n",
    "import pandas as pd\n",
    "import holoviews as hv\n",
    "from holoviews import opts\n",
    "hv.extension('bokeh')\n",
    "defaults = dict(width=800, height=600)\n",
    "hv.opts.defaults(opts.EdgePaths(**defaults), opts.Graph(**defaults), opts.Nodes(**defaults))\n",
    "\n",
    "import warnings\n",
    "warnings.filterwarnings(action='once')"
   ]
  },
  {
   "cell_type": "markdown",
   "metadata": {},
   "source": [
    "### Define global variables\n",
    "\n",
    "Similar to import we like to define notebook variable at the top and reuse them throughout the notebook"
   ]
  },
  {
   "cell_type": "code",
   "execution_count": null,
   "metadata": {},
   "outputs": [],
   "source": [
    "data_api = \"https://data-api.testing.rrap-is.com\"\n",
    "registry_api = \"https://registry-api.testing.rrap-is.com\"\n",
    "prov_api = \"https://prov-api.testing.rrap-is.com\"\n",
    "auth_server = \"https://auth.dev.rrap-is.com/auth/realms/rrap\"\n",
    "# garbage = \"https://frogs.are.green\"\n",
    "base_urls = {'data_api': data_api, 'registry_api': registry_api, 'prov_api': prov_api, 'auth_server': auth_server}#, 'garbage': garbage}\n",
    "display(f'Checking base urls')\n",
    "\n",
    "for key, url in base_urls.items():\n",
    "    try:\n",
    "        print(f'Testing - {url}', end=\"\")\n",
    "        r = requests.get(url)\n",
    "        r.raise_for_status()\n",
    "        print(f' - Passed')\n",
    "    except requests.exceptions.HTTPError as err:\n",
    "        print(f' - Fail')\n",
    "        raise SystemExit()\n",
    "    except requests.exceptions.RequestException as e:\n",
    "        # catastrophic error. bail.\n",
    "        print(f' - Fail')\n",
    "        raise SystemExit()"
   ]
  },
  {
   "cell_type": "markdown",
   "metadata": {},
   "source": [
    "## Authentication\n",
    "\n",
    "### Setup tokens using device authorisation flow against keycloak server\n",
    "\n",
    "This could result in a browser window being opened if you don't have valid tokens cached in local storage.\n",
    "\n",
    "[Return to Top](#toc)"
   ]
  },
  {
   "cell_type": "code",
   "execution_count": null,
   "metadata": {},
   "outputs": [],
   "source": [
    "# this caches the tokens\n",
    "local_token_storage = \".tokens.json\"\n",
    "\n",
    "token_manager = DeviceFlowManager(\n",
    "    stage=\"TEST\",\n",
    "    keycloak_endpoint=auth_server,\n",
    "    local_storage_location=local_token_storage\n",
    ")"
   ]
  },
  {
   "cell_type": "markdown",
   "metadata": {},
   "source": [
    "## Helper functions\n",
    "\n",
    "[Return to Top](#toc)"
   ]
  },
  {
   "cell_type": "code",
   "execution_count": null,
   "metadata": {},
   "outputs": [],
   "source": [
    "def wrap_html_table(data):\n",
    "    soup = BeautifulSoup(data)\n",
    "\n",
    "    ul_tag = soup.find(\"table\")\n",
    "    div_tag = soup.new_tag(\"div\")\n",
    "    div_tag['style'] = \"width: auto; height: 400px; overflow-y: auto; \"\n",
    "    ul_tag.wrap(div_tag)\n",
    "    new_tag = soup.new_tag(\"details\")\n",
    "    div_tag.wrap(new_tag)\n",
    "    \n",
    "    tag = soup.new_tag(\"summary\")\n",
    "    tag.string = \"Results\"\n",
    "    soup.div.insert_after(tag)\n",
    "\n",
    "    return soup.prettify()\n",
    "    \n",
    "def json_to_md(response_json):\n",
    "        json_obj_in_html = json2html.convert( response_json  )\n",
    "        return wrap_html_table(json_obj_in_html)\n",
    "    \n",
    "def handle_request(method, url, params=None, payload=None, auth=None):\n",
    "    try:\n",
    "        if params:\n",
    "            response = requests.request(method, url=url, params=params, auth=auth)\n",
    "        elif payload:\n",
    "            response = requests.request(method, url=url, json=payload, auth=auth)\n",
    "        else:\n",
    "            response = requests.request(method, url=url, auth=auth)\n",
    "        # If the response was successful, no Exception will be raised\n",
    "        response.raise_for_status()\n",
    "\n",
    "    except HTTPError as http_err:\n",
    "        print(f'HTTP error occurred: {http_err}')  # Python 3.6\n",
    "        return response.json()\n",
    "    except Exception as err:\n",
    "        print(f'Other error occurred: {err}')  # Python 3.6\n",
    "        return response.json()\n",
    "    else:\n",
    "        return response.json()"
   ]
  },
  {
   "cell_type": "markdown",
   "metadata": {},
   "source": [
    "## Endpoint Documentation\n",
    "Endpoint documentation can be found by appending either `/docs` or `/redoc` on the end a base URL.\n",
    "\n",
    "For example:\n",
    "<ul>\n",
    "  <li><a href=\"https://prov-api.testing.rrap-is.com/redoc\" target=\"_blank\">Redoc FastAPI</a></li>\n",
    "  <li><a href=\"https://prov-api.testing.rrap-is.com/docs\" target=\"_blank\">Docs FastAPI</a> </li>\n",
    "</ul>\n",
    "\n",
    "[Return to Top](#toc)"
   ]
  },
  {
   "cell_type": "markdown",
   "metadata": {},
   "source": [
    "## Demonstration"
   ]
  },
  {
   "cell_type": "markdown",
   "metadata": {},
   "source": [
    "### Register a model run\n",
    "A model run consists of ten main elements where many have already been registered in the RRAP-IS Registry.  \n",
    "\n",
    "These elements are:\n",
    "- Start Time\n",
    "- End Time\n",
    "- Workflow definition*\n",
    "- Input dataset*\n",
    "- Input template*\n",
    "- Output dataset*\n",
    "- Output template*\n",
    "- Modeller* and\n",
    "- Requesting Organisation*\n",
    "\n",
    "*pre-registered elements.\n",
    "\n",
    "For examples of registering elements please see <a href=\"/rrap-demo-blog/jupyter/2022/08/18/rrap-registry.html\" target=\"_blank\">RRAP-IS Register blog post</a> or <a href=\"/rrap-demo-blog/jupyter/registry/2022/09/02/registry-query.html\" target=\"_blank\">RRAP-IS Register Query blog post</a>\n",
    "\n",
    "see <a href=\"https://prov-api.testing.rrap-is.com/redoc#tag/Model-Runs/operation/register_model_run_complete_model_run_register_complete_post\" target=\"_blank\">Endpoint documentation</a>"
   ]
  },
  {
   "cell_type": "code",
   "execution_count": null,
   "metadata": {},
   "outputs": [],
   "source": [
    "auth = token_manager.get_auth\n",
    "postfix = \"/model_run/register_complete\"\n",
    "payload = {\n",
    "  \"start_time\": 0,\n",
    "  \"end_time\": 1662467929,\n",
    "  \"workflow_template_id\": \"10378.1/1691971\",\n",
    "\n",
    "  \"inputs\": [\n",
    "    {\n",
    "      \"dataset_template_id\" : \"10378.1/1691954\",\n",
    "      \"dataset_id\" : \"10378.1/1686927\",\n",
    "      \"dataset_type\" : \"DATA_STORE\",\n",
    "      \"resources\" : {\n",
    "        \"property1\" : \"Input Coral 121\"\n",
    "      } \n",
    "    }\n",
    "  ],\n",
    "\n",
    "  \"outputs\": [\n",
    "    {\n",
    "      \"dataset_template_id\" : \"10378.1/1691955\",\n",
    "      \"dataset_id\" : \"10378.1/1691958\",\n",
    "      \"dataset_type\" : \"DATA_STORE\",\n",
    "      \"resources\" : {\n",
    "        \"property1\" : \"Output Coral 144\"\n",
    "      } \n",
    "    }\n",
    "  ],\n",
    "\n",
    "  \"associations\": {\n",
    "    \"modeller_id\": \"10378.1/1690388\",\n",
    "    \"requesting_organisation_id\" : \"10378.1/1690430\"\n",
    "  }\n",
    "}\n",
    "endpoint = prov_api + postfix \n",
    "\n",
    "response_json = handle_request('POST', endpoint, None, payload, auth())\n",
    "HTML(json_to_md(response_json))\n",
    "\n"
   ]
  },
  {
   "cell_type": "markdown",
   "metadata": {},
   "source": [
    "## Exploring linkages across RRAP-IS data, models, modellers and organisation\n",
    "Simple exploration functions include:\n",
    "- Searching upstream (option to only looks so far) from a point and\n",
    "- Searching downstream (option to only looks so far) from a point\n",
    "\n",
    "\n",
    "### Explore Upstream Provenance\n",
    "Lets explore back upstream from the generated output from the above completed model run.  We will limit it to a depth of one, so only the directly linked elements\n",
    "\n",
    "[Return to Top](#toc)"
   ]
  },
  {
   "cell_type": "code",
   "execution_count": null,
   "metadata": {
    "tags": []
   },
   "outputs": [],
   "source": [
    "auth = token_manager.get_auth\n",
    "postfix = \"/explore/upstream\"\n",
    "params = {\n",
    "    \"starting_id\": \"10378.1/1688634\",\n",
    "    \"depth\": 1\n",
    "}\n",
    "\n",
    "endpoint = prov_api + postfix\n",
    "\n",
    "response_json = handle_request('GET', endpoint, params, None, auth())\n",
    "result_graph = response_json[\"graph\"]\n",
    "\n",
    "networkx_graph = json_graph.node_link_graph(result_graph)\n",
    "im = hv.Graph.from_networkx(networkx_graph, nx.layout.circular_layout).opts(tools=['hover','tap'],\n",
    "                                                                          node_size=10,\n",
    "                                                                          node_color='item_category',\n",
    "                                                                          cmap = ['blue','orange', 'green', 'red'],\n",
    "                                                                          directed=True, \n",
    "                                                                          arrowhead_length=0.02,\n",
    "                                                                          bgcolor='pink')\n",
    "labels = hv.Labels(im.nodes, ['x', 'y'], 'item_category').opts(opts.Labels(text_font_size='12pt', text_color='blue', xoffset=0, yoffset=0.05, bgcolor='white'))\n",
    "labels_2 = hv.Labels(im.nodes, ['x', 'y'], 'item_subtype').opts(opts.Labels(text_font_size='8pt', xoffset=0, yoffset=-0.05, bgcolor='white'))\n",
    "hv_graph = (im * labels * labels_2)\n",
    "\n",
    "hv.save(hv_graph, 'lineage_network.html', backend='bokeh')\n",
    "\n",
    "HTML('lineage_network.html')"
   ]
  },
  {
   "cell_type": "markdown",
   "metadata": {},
   "source": [
    "### Explore Downstream Provence\n",
    "Lets explore forward downstream from the generated model definition defined above.  We will limit it to a depth of one, so only the directly linked elements\n",
    "\n",
    "[Return to Top](#toc)"
   ]
  },
  {
   "cell_type": "code",
   "execution_count": null,
   "metadata": {},
   "outputs": [],
   "source": [
    "auth = token_manager.get_auth\n",
    "postfix = \"/explore/downstream\"\n",
    "params = {\n",
    "    \"starting_id\": \"10378.1/1691197\",\n",
    "    \"depth\": 1\n",
    "}\n",
    "endpoint = prov_api + postfix \n",
    "\n",
    "response_json = handle_request('GET', endpoint, params, None, auth())\n",
    "result_graph = response_json[\"graph\"]\n",
    "\n",
    "networkx_graph = json_graph.node_link_graph(result_graph)\n",
    "im = hv.Graph.from_networkx(networkx_graph, nx.layout.fruchterman_reingold_layout).opts(tools=['hover','tap'],\n",
    "                                                                          node_size=10,\n",
    "                                                                          node_color='item_category',\n",
    "                                                                          cmap = ['blue','orange', 'green', 'red'],\n",
    "                                                                          directed=True, \n",
    "                                                                          arrowhead_length=0.02,\n",
    "                                                                          bgcolor='pink')\n",
    "labels = hv.Labels(im.nodes, ['x', 'y'], 'item_category').opts(opts.Labels(text_font_size='12pt', text_color='blue', xoffset=0, yoffset=0.05, bgcolor='white'))\n",
    "labels_2 = hv.Labels(im.nodes, ['x', 'y'], 'item_subtype').opts(opts.Labels(text_font_size='8pt', xoffset=0, yoffset=-0.05, bgcolor='white'))\n",
    "hv_graph = (im * labels * labels_2)\n",
    "\n",
    "hv.save(hv_graph, 'network.html', backend='bokeh')\n",
    "\n",
    "HTML(\"network.html\")"
   ]
  },
  {
   "cell_type": "markdown",
   "metadata": {},
   "source": [
    "[Return to Top](#toc)"
   ]
  }
 ],
 "metadata": {
  "kernelspec": {
   "display_name": "Python 3.10.4 ('.venv1': venv)",
   "language": "python",
   "name": "python3"
  },
  "language_info": {
   "codemirror_mode": {
    "name": "ipython",
    "version": 3
   },
   "file_extension": ".py",
   "mimetype": "text/x-python",
   "name": "python",
   "nbconvert_exporter": "python",
   "pygments_lexer": "ipython3",
   "version": "3.10.4"
  },
  "vscode": {
   "interpreter": {
    "hash": "b569a0f1ab8748731643dcf3ea277d23d13a1c2a76e866a2a6232d27dbf9a823"
   }
  }
 },
 "nbformat": 4,
 "nbformat_minor": 4
}
