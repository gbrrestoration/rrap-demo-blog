{
 "cells": [
  {
   "cell_type": "markdown",
   "metadata": {},
   "source": [
    "# RRAP-IS Provenance Demo Notebook\n",
    "\n",
    "> A tutorial of RRAP authentication using Jupyter notebooks.\n",
    "\n",
    "- toc: true \n",
    "- badges: true\n",
    "- comments: true\n",
    "- categories: [jupyter]"
   ]
  },
  {
   "cell_type": "markdown",
   "metadata": {},
   "source": [
    "## About\n",
    "\n",
    "This notebook is a demonstration of generating a record of a model run and searching the provenance database to identify linkages between data, models, users and organisations with the RRAP-IS system.  "
   ]
  },
  {
   "cell_type": "markdown",
   "metadata": {},
   "source": [
    "### Run all imports\n",
    "\n",
    "Keep all your imports at the top of a notebook.  It allows for easier management."
   ]
  },
  {
   "cell_type": "code",
   "execution_count": 1,
   "metadata": {},
   "outputs": [],
   "source": [
    "%%capture\n",
    "import requests\n",
    "import os\n",
    "import sys\n",
    "import json\n",
    "from json2html import *\n",
    "from bs4 import BeautifulSoup\n",
    "from IPython.display import IFrame, display, HTML, JSON, Markdown, Image\n",
    "from mdsisclienttools.auth.TokenManager import DeviceFlowManager\n",
    "from urllib.error import HTTPError\n",
    "import networkx as nx\n",
    "import nx_altair as nxa\n",
    "from networkx.readwrite import json_graph\n",
    "\n",
    "import numpy as np\n",
    "import pandas as pd\n",
    "import holoviews as hv\n",
    "from holoviews import opts\n",
    "hv.extension('bokeh')\n",
    "defaults = dict(width=800, height=600)\n",
    "hv.opts.defaults(opts.EdgePaths(**defaults), opts.Graph(**defaults), opts.Nodes(**defaults))\n",
    "\n",
    "import warnings\n",
    "warnings.filterwarnings(action='once')"
   ]
  },
  {
   "cell_type": "markdown",
   "metadata": {},
   "source": [
    "### Define global variables\n",
    "\n",
    "Similar to import we like to define notebook variable at the top and reuse them throughout the notebook"
   ]
  },
  {
   "cell_type": "code",
   "execution_count": 2,
   "metadata": {},
   "outputs": [
    {
     "data": {
      "text/plain": [
       "'Checking base urls'"
      ]
     },
     "metadata": {},
     "output_type": "display_data"
    },
    {
     "name": "stdout",
     "output_type": "stream",
     "text": [
      "Testing - https://data-api.testing.rrap-is.com - Passed\n",
      "Testing - https://registry-api.testing.rrap-is.com - Passed\n",
      "Testing - https://prov-api.testing.rrap-is.com - Passed\n",
      "Testing - https://auth.dev.rrap-is.com/auth/realms/rrap - Passed\n"
     ]
    }
   ],
   "source": [
    "data_api = \"https://data-api.testing.rrap-is.com\"\n",
    "registry_api = \"https://registry-api.testing.rrap-is.com\"\n",
    "prov_api = \"https://prov-api.testing.rrap-is.com\"\n",
    "auth_server = \"https://auth.dev.rrap-is.com/auth/realms/rrap\"\n",
    "# garbage = \"https://frogs.are.green\"\n",
    "base_urls = {'data_api': data_api, 'registry_api': registry_api, 'prov_api': prov_api, 'auth_server': auth_server}#, 'garbage': garbage}\n",
    "display(f'Checking base urls')\n",
    "\n",
    "for key, url in base_urls.items():\n",
    "    try:\n",
    "        print(f'Testing - {url}', end=\"\")\n",
    "        r = requests.get(url)\n",
    "        r.raise_for_status()\n",
    "        print(f' - Passed')\n",
    "    except requests.exceptions.HTTPError as err:\n",
    "        print(f' - Fail')\n",
    "        raise SystemExit()\n",
    "    except requests.exceptions.RequestException as e:\n",
    "        # catastrophic error. bail.\n",
    "        print(f' - Fail')\n",
    "        raise SystemExit()"
   ]
  },
  {
   "cell_type": "markdown",
   "metadata": {},
   "source": [
    "## Authentication\n",
    "\n",
    "### Setup tokens using device authorisation flow against keycloak server\n",
    "\n",
    "This could result in a browser window being opened if you don't have valid tokens cached in local storage.\n",
    "\n",
    "[Return to Top](#toc)"
   ]
  },
  {
   "cell_type": "code",
   "execution_count": 3,
   "metadata": {},
   "outputs": [
    {
     "name": "stdout",
     "output_type": "stream",
     "text": [
      "Using storage type: FILE.\n",
      "Attempting to generate authorisation tokens.\n",
      "\n",
      "Looking for existing tokens in local storage.\n",
      "\n",
      "Validating found tokens\n",
      "\n",
      "Trying to use found tokens to refresh the access token.\n",
      "\n",
      "Token refresh successful.\n",
      "\n"
     ]
    }
   ],
   "source": [
    "# this caches the tokens\n",
    "local_token_storage = \".tokens.json\"\n",
    "\n",
    "token_manager = DeviceFlowManager(\n",
    "    stage=\"TEST\",\n",
    "    keycloak_endpoint=auth_server,\n",
    "    local_storage_location=local_token_storage\n",
    ")"
   ]
  },
  {
   "cell_type": "markdown",
   "metadata": {},
   "source": [
    "## Helper functions\n",
    "\n",
    "[Return to Top](#toc)"
   ]
  },
  {
   "cell_type": "code",
   "execution_count": 4,
   "metadata": {},
   "outputs": [],
   "source": [
    "def wrap_html_table(data):\n",
    "    soup = BeautifulSoup(data)\n",
    "\n",
    "    ul_tag = soup.find(\"table\")\n",
    "    div_tag = soup.new_tag(\"div\")\n",
    "    div_tag['style'] = \"width: auto; height: 400px; overflow-y: auto; \"\n",
    "    ul_tag.wrap(div_tag)\n",
    "    new_tag = soup.new_tag(\"details\")\n",
    "    div_tag.wrap(new_tag)\n",
    "    \n",
    "    tag = soup.new_tag(\"summary\")\n",
    "    tag.string = \"Results\"\n",
    "    soup.div.insert_after(tag)\n",
    "\n",
    "    return soup.prettify()\n",
    "    \n",
    "def json_to_md(response_json):\n",
    "        json_obj_in_html = json2html.convert( response_json  )\n",
    "        return wrap_html_table(json_obj_in_html)\n",
    "    \n",
    "def handle_request(method, url, params=None, payload=None, auth=None):\n",
    "    try:\n",
    "        if params:\n",
    "            response = requests.request(method, url=url, params=params, auth=auth)\n",
    "        elif payload:\n",
    "            response = requests.request(method, url=url, json=payload, auth=auth)\n",
    "        else:\n",
    "            response = requests.request(method, url=url, auth=auth)\n",
    "        # If the response was successful, no Exception will be raised\n",
    "        response.raise_for_status()\n",
    "\n",
    "    except HTTPError as http_err:\n",
    "        print(f'HTTP error occurred: {http_err}')  # Python 3.6\n",
    "        return response.json()\n",
    "    except Exception as err:\n",
    "        print(f'Other error occurred: {err}')  # Python 3.6\n",
    "        return response.json()\n",
    "    else:\n",
    "        return response.json()"
   ]
  },
  {
   "cell_type": "markdown",
   "metadata": {},
   "source": [
    "## Endpoint Documentation\n",
    "Endpoint documentation can be found by appending either `/docs` or `/redoc` on the end a base URL.\n",
    "\n",
    "For example:\n",
    "<ul>\n",
    "  <li><a href=\"https://prov-api.testing.rrap-is.com/redoc\" target=\"_blank\">Redoc FastAPI</a></li>\n",
    "  <li><a href=\"https://prov-api.testing.rrap-is.com/docs\" target=\"_blank\">Docs FastAPI</a> </li>\n",
    "</ul>\n",
    "\n",
    "[Return to Top](#toc)"
   ]
  },
  {
   "cell_type": "markdown",
   "metadata": {},
   "source": [
    "## Demonstration"
   ]
  },
  {
   "cell_type": "markdown",
   "metadata": {},
   "source": [
    "### Register a model run\n",
    "A model run consists of ten main elements where many have already been registered in the RRAP-IS Registry.  \n",
    "\n",
    "These elements are:\n",
    "- Start Time\n",
    "- End Time\n",
    "- Workflow definition*\n",
    "- Input dataset*\n",
    "- Input template*\n",
    "- Output dataset*\n",
    "- Output template*\n",
    "- Modeller* and\n",
    "- Requesting Organisation*\n",
    "\n",
    "*pre-registered elements.\n",
    "\n",
    "For examples of registering elements please see <a href=\"/rrap-demo-blog/jupyter/2022/08/18/rrap-registry.html\" target=\"_blank\">RRAP-IS Register blog post</a> or <a href=\"/rrap-demo-blog/jupyter/registry/2022/09/02/registry-query.html\" target=\"_blank\">RRAP-IS Register Query blog post</a>\n",
    "\n",
    "see <a href=\"https://prov-api.testing.rrap-is.com/redoc#tag/Model-Runs/operation/register_model_run_complete_model_run_register_complete_post\" target=\"_blank\">Endpoint documentation</a>"
   ]
  },
  {
   "cell_type": "code",
   "execution_count": 5,
   "metadata": {},
   "outputs": [
    {
     "name": "stdout",
     "output_type": "stream",
     "text": [
      "Other error occurred: 400 Client Error: Bad Request for url: https://prov-api.testing.rrap-is.com/model_run/register_complete\n"
     ]
    },
    {
     "data": {
      "text/html": [
       "<details>\n",
       " <div style=\"width: auto; height: 400px; overflow-y: auto; \">\n",
       "  <table border=\"1\">\n",
       "   <tr>\n",
       "    <th>\n",
       "     detail\n",
       "    </th>\n",
       "    <td>\n",
       "     Failed to validate an entity's ID in the record, error: Provided model run workflow definition with id 10378.1/1691971 was not a valid id, error: Failed to retrieve item with details: Could not find the given key (10378.1/1691971) in the registry...\n",
       "    </td>\n",
       "   </tr>\n",
       "  </table>\n",
       " </div>\n",
       " <summary>\n",
       "  Results\n",
       " </summary>\n",
       "</details>"
      ],
      "text/plain": [
       "<IPython.core.display.HTML object>"
      ]
     },
     "execution_count": 5,
     "metadata": {},
     "output_type": "execute_result"
    }
   ],
   "source": [
    "auth = token_manager.get_auth\n",
    "postfix = \"/model_run/register_complete\"\n",
    "payload = {\n",
    "  \"start_time\": 0,\n",
    "  \"end_time\": 1662467929,\n",
    "  \"workflow_template_id\": \"10378.1/1691971\",\n",
    "\n",
    "  \"inputs\": [\n",
    "    {\n",
    "      \"dataset_template_id\" : \"10378.1/1691954\",\n",
    "      \"dataset_id\" : \"10378.1/1686927\",\n",
    "      \"dataset_type\" : \"DATA_STORE\",\n",
    "      \"resources\" : {\n",
    "        \"property1\" : \"Input Coral 121\"\n",
    "      } \n",
    "    }\n",
    "  ],\n",
    "\n",
    "  \"outputs\": [\n",
    "    {\n",
    "      \"dataset_template_id\" : \"10378.1/1691955\",\n",
    "      \"dataset_id\" : \"10378.1/1691958\",\n",
    "      \"dataset_type\" : \"DATA_STORE\",\n",
    "      \"resources\" : {\n",
    "        \"property1\" : \"Output Coral 144\"\n",
    "      } \n",
    "    }\n",
    "  ],\n",
    "\n",
    "  \"associations\": {\n",
    "    \"modeller_id\": \"10378.1/1690388\",\n",
    "    \"requesting_organisation_id\" : \"10378.1/1690430\"\n",
    "  }\n",
    "}\n",
    "endpoint = prov_api + postfix \n",
    "\n",
    "response_json = handle_request('POST', endpoint, None, payload, auth())\n",
    "HTML(json_to_md(response_json))\n",
    "\n"
   ]
  },
  {
   "cell_type": "markdown",
   "metadata": {},
   "source": [
    "## Exploring linkages across RRAP-IS data, models, modellers and organisation\n",
    "Simple exploration functions include:\n",
    "- Searching upstream (option to only looks so far) from a point and\n",
    "- Searching downstream (option to only looks so far) from a point\n",
    "\n",
    "\n",
    "### Explore Upstream Provenance\n",
    "Lets explore back upstream from the generated output from the above completed model run.  We will limit it to a depth of one, so only the directly linked elements\n",
    "\n",
    "[Return to Top](#toc)"
   ]
  },
  {
   "cell_type": "code",
   "execution_count": 6,
   "metadata": {
    "tags": []
   },
   "outputs": [
    {
     "ename": "DataError",
     "evalue": "Supplied data does not contain specified dimensions, the following dimensions were not found: ['item_category']\n\nPandasInterface expects tabular data, for more information on supported datatypes see http://holoviews.org/user_guide/Tabular_Datasets.html",
     "output_type": "error",
     "traceback": [
      "\u001b[0;31m---------------------------------------------------------------------------\u001b[0m",
      "\u001b[0;31mDataError\u001b[0m                                 Traceback (most recent call last)",
      "Cell \u001b[0;32mIn[6], line 21\u001b[0m\n\u001b[1;32m     13\u001b[0m networkx_graph \u001b[39m=\u001b[39m json_graph\u001b[39m.\u001b[39mnode_link_graph(result_graph)\n\u001b[1;32m     14\u001b[0m im \u001b[39m=\u001b[39m hv\u001b[39m.\u001b[39mGraph\u001b[39m.\u001b[39mfrom_networkx(networkx_graph, nx\u001b[39m.\u001b[39mlayout\u001b[39m.\u001b[39mcircular_layout)\u001b[39m.\u001b[39mopts(tools\u001b[39m=\u001b[39m[\u001b[39m'\u001b[39m\u001b[39mhover\u001b[39m\u001b[39m'\u001b[39m,\u001b[39m'\u001b[39m\u001b[39mtap\u001b[39m\u001b[39m'\u001b[39m],\n\u001b[1;32m     15\u001b[0m                                                                           node_size\u001b[39m=\u001b[39m\u001b[39m10\u001b[39m,\n\u001b[1;32m     16\u001b[0m                                                                           node_color\u001b[39m=\u001b[39m\u001b[39m'\u001b[39m\u001b[39mitem_category\u001b[39m\u001b[39m'\u001b[39m,\n\u001b[0;32m   (...)\u001b[0m\n\u001b[1;32m     19\u001b[0m                                                                           arrowhead_length\u001b[39m=\u001b[39m\u001b[39m0.02\u001b[39m,\n\u001b[1;32m     20\u001b[0m                                                                           bgcolor\u001b[39m=\u001b[39m\u001b[39m'\u001b[39m\u001b[39mpink\u001b[39m\u001b[39m'\u001b[39m)\n\u001b[0;32m---> 21\u001b[0m labels \u001b[39m=\u001b[39m hv\u001b[39m.\u001b[39;49mLabels(im\u001b[39m.\u001b[39;49mnodes, [\u001b[39m'\u001b[39;49m\u001b[39mx\u001b[39;49m\u001b[39m'\u001b[39;49m, \u001b[39m'\u001b[39;49m\u001b[39my\u001b[39;49m\u001b[39m'\u001b[39;49m], \u001b[39m'\u001b[39;49m\u001b[39mitem_category\u001b[39;49m\u001b[39m'\u001b[39;49m)\u001b[39m.\u001b[39mopts(opts\u001b[39m.\u001b[39mLabels(text_font_size\u001b[39m=\u001b[39m\u001b[39m'\u001b[39m\u001b[39m12pt\u001b[39m\u001b[39m'\u001b[39m, text_color\u001b[39m=\u001b[39m\u001b[39m'\u001b[39m\u001b[39mblue\u001b[39m\u001b[39m'\u001b[39m, xoffset\u001b[39m=\u001b[39m\u001b[39m0\u001b[39m, yoffset\u001b[39m=\u001b[39m\u001b[39m0.05\u001b[39m, bgcolor\u001b[39m=\u001b[39m\u001b[39m'\u001b[39m\u001b[39mwhite\u001b[39m\u001b[39m'\u001b[39m))\n\u001b[1;32m     22\u001b[0m labels_2 \u001b[39m=\u001b[39m hv\u001b[39m.\u001b[39mLabels(im\u001b[39m.\u001b[39mnodes, [\u001b[39m'\u001b[39m\u001b[39mx\u001b[39m\u001b[39m'\u001b[39m, \u001b[39m'\u001b[39m\u001b[39my\u001b[39m\u001b[39m'\u001b[39m], \u001b[39m'\u001b[39m\u001b[39mitem_subtype\u001b[39m\u001b[39m'\u001b[39m)\u001b[39m.\u001b[39mopts(opts\u001b[39m.\u001b[39mLabels(text_font_size\u001b[39m=\u001b[39m\u001b[39m'\u001b[39m\u001b[39m8pt\u001b[39m\u001b[39m'\u001b[39m, xoffset\u001b[39m=\u001b[39m\u001b[39m0\u001b[39m, yoffset\u001b[39m=\u001b[39m\u001b[39m-\u001b[39m\u001b[39m0.05\u001b[39m, bgcolor\u001b[39m=\u001b[39m\u001b[39m'\u001b[39m\u001b[39mwhite\u001b[39m\u001b[39m'\u001b[39m))\n\u001b[1;32m     23\u001b[0m hv_graph \u001b[39m=\u001b[39m (im \u001b[39m*\u001b[39m labels \u001b[39m*\u001b[39m labels_2)\n",
      "File \u001b[0;32m~/repos/rrap-demo-blog/.venv/lib/python3.10/site-packages/holoviews/core/data/__init__.py:342\u001b[0m, in \u001b[0;36mDataset.__init__\u001b[0;34m(self, data, kdims, vdims, **kwargs)\u001b[0m\n\u001b[1;32m    340\u001b[0m (data, \u001b[39mself\u001b[39m\u001b[39m.\u001b[39minterface, dims, extra_kws) \u001b[39m=\u001b[39m initialized\n\u001b[1;32m    341\u001b[0m \u001b[39msuper\u001b[39m(Dataset, \u001b[39mself\u001b[39m)\u001b[39m.\u001b[39m\u001b[39m__init__\u001b[39m(data, \u001b[39m*\u001b[39m\u001b[39m*\u001b[39m\u001b[39mdict\u001b[39m(kwargs, \u001b[39m*\u001b[39m\u001b[39m*\u001b[39m\u001b[39mdict\u001b[39m(dims, \u001b[39m*\u001b[39m\u001b[39m*\u001b[39mextra_kws)))\n\u001b[0;32m--> 342\u001b[0m \u001b[39mself\u001b[39;49m\u001b[39m.\u001b[39;49minterface\u001b[39m.\u001b[39;49mvalidate(\u001b[39mself\u001b[39;49m, validate_vdims)\n\u001b[1;32m    344\u001b[0m \u001b[39m# Handle _pipeline property\u001b[39;00m\n\u001b[1;32m    345\u001b[0m \u001b[39mif\u001b[39;00m input_pipeline \u001b[39mis\u001b[39;00m \u001b[39mNone\u001b[39;00m:\n",
      "File \u001b[0;32m~/repos/rrap-demo-blog/.venv/lib/python3.10/site-packages/holoviews/core/data/pandas.py:160\u001b[0m, in \u001b[0;36mPandasInterface.validate\u001b[0;34m(cls, dataset, vdims)\u001b[0m\n\u001b[1;32m    158\u001b[0m not_found \u001b[39m=\u001b[39m [d \u001b[39mfor\u001b[39;00m d \u001b[39min\u001b[39;00m dimensions \u001b[39mif\u001b[39;00m d \u001b[39mnot\u001b[39;00m \u001b[39min\u001b[39;00m cols]\n\u001b[1;32m    159\u001b[0m \u001b[39mif\u001b[39;00m not_found:\n\u001b[0;32m--> 160\u001b[0m     \u001b[39mraise\u001b[39;00m DataError(\u001b[39m\"\u001b[39m\u001b[39mSupplied data does not contain specified \u001b[39m\u001b[39m\"\u001b[39m\n\u001b[1;32m    161\u001b[0m                     \u001b[39m\"\u001b[39m\u001b[39mdimensions, the following dimensions were \u001b[39m\u001b[39m\"\u001b[39m\n\u001b[1;32m    162\u001b[0m                     \u001b[39m\"\u001b[39m\u001b[39mnot found: \u001b[39m\u001b[39m%s\u001b[39;00m\u001b[39m\"\u001b[39m \u001b[39m%\u001b[39m \u001b[39mrepr\u001b[39m(not_found), \u001b[39mcls\u001b[39m)\n",
      "\u001b[0;31mDataError\u001b[0m: Supplied data does not contain specified dimensions, the following dimensions were not found: ['item_category']\n\nPandasInterface expects tabular data, for more information on supported datatypes see http://holoviews.org/user_guide/Tabular_Datasets.html"
     ]
    }
   ],
   "source": [
    "auth = token_manager.get_auth\n",
    "postfix = \"/explore/upstream\"\n",
    "params = {\n",
    "    \"starting_id\": \"10378.1/1688634\",\n",
    "    \"depth\": 1\n",
    "}\n",
    "\n",
    "endpoint = prov_api + postfix\n",
    "\n",
    "response_json = handle_request('GET', endpoint, params, None, auth())\n",
    "result_graph = response_json[\"graph\"]\n",
    "\n",
    "networkx_graph = json_graph.node_link_graph(result_graph)\n",
    "im = hv.Graph.from_networkx(networkx_graph, nx.layout.circular_layout).opts(tools=['hover','tap'],\n",
    "                                                                          node_size=10,\n",
    "                                                                          node_color='item_category',\n",
    "                                                                          cmap = ['blue','orange', 'green', 'red'],\n",
    "                                                                          directed=True, \n",
    "                                                                          arrowhead_length=0.02,\n",
    "                                                                          bgcolor='pink')\n",
    "labels = hv.Labels(im.nodes, ['x', 'y'], 'item_category').opts(opts.Labels(text_font_size='12pt', text_color='blue', xoffset=0, yoffset=0.05, bgcolor='white'))\n",
    "labels_2 = hv.Labels(im.nodes, ['x', 'y'], 'item_subtype').opts(opts.Labels(text_font_size='8pt', xoffset=0, yoffset=-0.05, bgcolor='white'))\n",
    "hv_graph = (im * labels * labels_2)\n",
    "\n",
    "hv.save(hv_graph, 'lineage_network.html', backend='bokeh')\n",
    "\n",
    "HTML('lineage_network.html')"
   ]
  },
  {
   "cell_type": "markdown",
   "metadata": {},
   "source": [
    "### Explore Downstream Provence\n",
    "Lets explore forward downstream from the generated model definition defined above.  We will limit it to a depth of one, so only the directly linked elements\n",
    "\n",
    "[Return to Top](#toc)"
   ]
  },
  {
   "cell_type": "code",
   "execution_count": 1,
   "metadata": {},
   "outputs": [
    {
     "ename": "NameError",
     "evalue": "name 'token_manager' is not defined",
     "output_type": "error",
     "traceback": [
      "\u001b[0;31m---------------------------------------------------------------------------\u001b[0m",
      "\u001b[0;31mNameError\u001b[0m                                 Traceback (most recent call last)",
      "Cell \u001b[0;32mIn[1], line 1\u001b[0m\n\u001b[0;32m----> 1\u001b[0m auth \u001b[39m=\u001b[39m token_manager\u001b[39m.\u001b[39mget_auth\n\u001b[1;32m      2\u001b[0m postfix \u001b[39m=\u001b[39m \u001b[39m\"\u001b[39m\u001b[39m/explore/downstream\u001b[39m\u001b[39m\"\u001b[39m\n\u001b[1;32m      3\u001b[0m params \u001b[39m=\u001b[39m {\n\u001b[1;32m      4\u001b[0m     \u001b[39m\"\u001b[39m\u001b[39mstarting_id\u001b[39m\u001b[39m\"\u001b[39m: \u001b[39m\"\u001b[39m\u001b[39m10378.1/1691197\u001b[39m\u001b[39m\"\u001b[39m,\n\u001b[1;32m      5\u001b[0m     \u001b[39m\"\u001b[39m\u001b[39mdepth\u001b[39m\u001b[39m\"\u001b[39m: \u001b[39m1\u001b[39m\n\u001b[1;32m      6\u001b[0m }\n",
      "\u001b[0;31mNameError\u001b[0m: name 'token_manager' is not defined"
     ]
    }
   ],
   "source": [
    "auth = token_manager.get_auth\n",
    "postfix = \"/explore/downstream\"\n",
    "params = {\n",
    "    \"starting_id\": \"10378.1/1691197\",\n",
    "    \"depth\": 1\n",
    "}\n",
    "endpoint = prov_api + postfix \n",
    "\n",
    "response_json = handle_request('GET', endpoint, params, None, auth())\n",
    "result_graph = response_json[\"graph\"]\n",
    "\n",
    "networkx_graph = json_graph.node_link_graph(result_graph)\n",
    "im = hv.Graph.from_networkx(networkx_graph, nx.layout.fruchterman_reingold_layout).opts(tools=['hover','tap'],\n",
    "                                                                          node_size=10,\n",
    "                                                                          node_color='item_category',\n",
    "                                                                          cmap = ['blue','orange', 'green', 'red'],\n",
    "                                                                          directed=True, \n",
    "                                                                          arrowhead_length=0.02,\n",
    "                                                                          bgcolor='pink')\n",
    "labels = hv.Labels(im.nodes, ['x', 'y'], 'item_category').opts(opts.Labels(text_font_size='12pt', text_color='blue', xoffset=0, yoffset=0.05, bgcolor='white'))\n",
    "labels_2 = hv.Labels(im.nodes, ['x', 'y'], 'item_subtype').opts(opts.Labels(text_font_size='8pt', xoffset=0, yoffset=-0.05, bgcolor='white'))\n",
    "hv_graph = (im * labels * labels_2)\n",
    "\n",
    "hv.save(hv_graph, 'network.html', backend='bokeh')\n",
    "\n",
    "HTML(\"network.html\")"
   ]
  },
  {
   "cell_type": "markdown",
   "metadata": {},
   "source": [
    "[Return to Top](#toc)"
   ]
  },
  {
   "cell_type": "markdown",
   "metadata": {},
   "source": []
  }
 ],
 "metadata": {
  "kernelspec": {
   "display_name": "Python 3.10.4 ('.venv': venv)",
   "language": "python",
   "name": "python3"
  },
  "language_info": {
   "codemirror_mode": {
    "name": "ipython",
    "version": 3
   },
   "file_extension": ".py",
   "mimetype": "text/x-python",
   "name": "python",
   "nbconvert_exporter": "python",
   "pygments_lexer": "ipython3",
   "version": "3.10.4"
  },
  "vscode": {
   "interpreter": {
    "hash": "3d1275a2fb951f0c374bcc16cfb7eb7840ea16246984712301e7ada442de4250"
   }
  }
 },
 "nbformat": 4,
 "nbformat_minor": 4
}
