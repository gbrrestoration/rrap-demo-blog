{
 "cells": [
  {
   "cell_type": "markdown",
   "metadata": {},
   "source": [
    "# RRAP-IS Provenance Demo Notebook\n",
    "\n",
    "> A tutorial of RRAP authentication using Jupyter notebooks.\n",
    "\n",
    "- toc: true \n",
    "- badges: true\n",
    "- comments: true\n",
    "- categories: [jupyter]"
   ]
  },
  {
   "cell_type": "markdown",
   "metadata": {},
   "source": [
    "## About\n",
    "\n",
    "This notebook is a demonstration of generating a record of a model run and searching the provenance database to identify linkages between data, models, users and organisations with the RRAP-IS system.  "
   ]
  },
  {
   "cell_type": "markdown",
   "metadata": {},
   "source": [
    "### Run all imports\n",
    "\n",
    "Keep all your imports at the top of a notebook.  It allows for easier management."
   ]
  },
  {
   "cell_type": "code",
   "execution_count": 2,
   "metadata": {},
   "outputs": [],
   "source": [
    "%%capture\n",
    "import requests\n",
    "import os\n",
    "import sys\n",
    "import json\n",
    "from json2html import *\n",
    "from bs4 import BeautifulSoup\n",
    "from IPython.display import IFrame, display, HTML, JSON, Markdown, Image\n",
    "from mdsisclienttools.auth.TokenManager import DeviceFlowManager\n",
    "from urllib.error import HTTPError\n",
    "import networkx as nx\n",
    "import nx_altair as nxa\n",
    "from networkx.readwrite import json_graph\n",
    "\n",
    "import numpy as np\n",
    "import pandas as pd\n",
    "import holoviews as hv\n",
    "from holoviews import opts\n",
    "hv.extension('bokeh')\n",
    "defaults = dict(width=800, height=600)\n",
    "hv.opts.defaults(opts.EdgePaths(**defaults), opts.Graph(**defaults), opts.Nodes(**defaults))\n",
    "\n",
    "import warnings\n",
    "warnings.filterwarnings(action='once')"
   ]
  },
  {
   "cell_type": "markdown",
   "metadata": {},
   "source": [
    "### Define global variables\n",
    "\n",
    "Similar to import we like to define notebook variable at the top and reuse them throughout the notebook"
   ]
  },
  {
   "cell_type": "code",
   "execution_count": 3,
   "metadata": {},
   "outputs": [
    {
     "data": {
      "text/plain": [
       "'Checking base urls'"
      ]
     },
     "metadata": {},
     "output_type": "display_data"
    },
    {
     "name": "stdout",
     "output_type": "stream",
     "text": [
      "Testing - https://data-api.testing.rrap-is.com - Passed\n",
      "Testing - https://registry-api.testing.rrap-is.com - Passed\n",
      "Testing - https://prov-api.testing.rrap-is.com - Passed\n",
      "Testing - https://auth.dev.rrap-is.com/auth/realms/rrap - Passed\n"
     ]
    }
   ],
   "source": [
    "data_api = \"https://data-api.testing.rrap-is.com\"\n",
    "registry_api = \"https://registry-api.testing.rrap-is.com\"\n",
    "prov_api = \"https://prov-api.testing.rrap-is.com\"\n",
    "auth_server = \"https://auth.dev.rrap-is.com/auth/realms/rrap\"\n",
    "# garbage = \"https://frogs.are.green\"\n",
    "base_urls = {'data_api': data_api, 'registry_api': registry_api, 'prov_api': prov_api, 'auth_server': auth_server}#, 'garbage': garbage}\n",
    "display(f'Checking base urls')\n",
    "\n",
    "for key, url in base_urls.items():\n",
    "    try:\n",
    "        print(f'Testing - {url}', end=\"\")\n",
    "        r = requests.get(url)\n",
    "        r.raise_for_status()\n",
    "        print(f' - Passed')\n",
    "    except requests.exceptions.HTTPError as err:\n",
    "        print(f' - Fail')\n",
    "        raise SystemExit()\n",
    "    except requests.exceptions.RequestException as e:\n",
    "        # catastrophic error. bail.\n",
    "        print(f' - Fail')\n",
    "        raise SystemExit()"
   ]
  },
  {
   "cell_type": "markdown",
   "metadata": {},
   "source": [
    "## Authentication\n",
    "\n",
    "### Setup tokens using device authorisation flow against keycloak server\n",
    "\n",
    "This could result in a browser window being opened if you don't have valid tokens cached in local storage.\n",
    "\n",
    "[Return to Top](#toc)"
   ]
  },
  {
   "cell_type": "code",
   "execution_count": 4,
   "metadata": {},
   "outputs": [
    {
     "name": "stdout",
     "output_type": "stream",
     "text": [
      "Using storage type: FILE.\n",
      "Attempting to generate authorisation tokens.\n",
      "\n",
      "Looking for existing tokens in local storage.\n",
      "\n",
      "Validating found tokens\n",
      "\n",
      "Trying to use found tokens to refresh the access token.\n",
      "\n",
      "Tokens found in storage but they are not valid.\n",
      "\n",
      "Initiating device auth flow to setup offline access token.\n",
      "\n",
      "Decoding response\n",
      "\n",
      "Please authorise using the following endpoint.\n",
      "\n",
      "Verification URL: https://auth.dev.rrap-is.com/auth/realms/rrap/device?user_code=KIRM-TXCI\n",
      "User Code: KIRM-TXCI\n",
      "\n",
      "Awaiting completion\n",
      "\n",
      "\n",
      "Token generation complete. Authorisation successful.\n",
      "\n"
     ]
    },
    {
     "name": "stderr",
     "output_type": "stream",
     "text": [
      "/home/ross/repos/rrap-demo-blog/.venv/lib/python3.10/site-packages/mdsisclienttools/auth/TokenManager.py:407: ResourceWarning: unclosed <ssl.SSLSocket fd=68, family=AddressFamily.AF_INET, type=SocketKind.SOCK_STREAM, proto=6, laddr=('172.31.4.212', 44126), raddr=('54.253.194.144', 443)>\n",
      "  oauth_tokens = self.await_device_auth_flow_completion(\n"
     ]
    }
   ],
   "source": [
    "# this caches the tokens\n",
    "local_token_storage = \".tokens.json\"\n",
    "\n",
    "token_manager = DeviceFlowManager(\n",
    "    stage=\"TEST\",\n",
    "    keycloak_endpoint=auth_server,\n",
    "    local_storage_location=local_token_storage\n",
    ")"
   ]
  },
  {
   "cell_type": "markdown",
   "metadata": {},
   "source": [
    "## Helper functions\n",
    "\n",
    "[Return to Top](#toc)"
   ]
  },
  {
   "cell_type": "code",
   "execution_count": 5,
   "metadata": {},
   "outputs": [],
   "source": [
    "def wrap_html_table(data):\n",
    "    soup = BeautifulSoup(data)\n",
    "\n",
    "    ul_tag = soup.find(\"table\")\n",
    "    div_tag = soup.new_tag(\"div\")\n",
    "    div_tag['style'] = \"width: auto; height: 400px; overflow-y: auto; \"\n",
    "    ul_tag.wrap(div_tag)\n",
    "    new_tag = soup.new_tag(\"details\")\n",
    "    div_tag.wrap(new_tag)\n",
    "    \n",
    "    tag = soup.new_tag(\"summary\")\n",
    "    tag.string = \"Results\"\n",
    "    soup.div.insert_after(tag)\n",
    "\n",
    "    return soup.prettify()\n",
    "    \n",
    "def json_to_md(response_json):\n",
    "        json_obj_in_html = json2html.convert( response_json  )\n",
    "        return wrap_html_table(json_obj_in_html)\n",
    "    \n",
    "def handle_request(method, url, params=None, payload=None, auth=None):\n",
    "    try:\n",
    "        if params:\n",
    "            response = requests.request(method, url=url, params=params, auth=auth)\n",
    "        elif payload:\n",
    "            response = requests.request(method, url=url, json=payload, auth=auth)\n",
    "        else:\n",
    "            response = requests.request(method, url=url, auth=auth)\n",
    "        # If the response was successful, no Exception will be raised\n",
    "        response.raise_for_status()\n",
    "\n",
    "    except HTTPError as http_err:\n",
    "        print(f'HTTP error occurred: {http_err}')  # Python 3.6\n",
    "        return response.json()\n",
    "    except Exception as err:\n",
    "        print(f'Other error occurred: {err}')  # Python 3.6\n",
    "        return response.json()\n",
    "    else:\n",
    "        return response.json()"
   ]
  },
  {
   "cell_type": "markdown",
   "metadata": {},
   "source": [
    "## Endpoint Documentation\n",
    "Endpoint documentation can be found by appending either `/docs` or `/redoc` on the end a base URL.\n",
    "\n",
    "For example:\n",
    "<ul>\n",
    "  <li><a href=\"https://prov-api.testing.rrap-is.com/redoc\" target=\"_blank\">Redoc FastAPI</a></li>\n",
    "  <li><a href=\"https://prov-api.testing.rrap-is.com/docs\" target=\"_blank\">Docs FastAPI</a> </li>\n",
    "</ul>\n",
    "\n",
    "[Return to Top](#toc)"
   ]
  },
  {
   "cell_type": "markdown",
   "metadata": {},
   "source": [
    "## Demonstration"
   ]
  },
  {
   "cell_type": "markdown",
   "metadata": {},
   "source": [
    "### Register a model run\n",
    "A model run consists of ten main elements where many have already been registered in the RRAP-IS Registry.  \n",
    "\n",
    "These elements are:\n",
    "- Start Time\n",
    "- End Time\n",
    "- Workflow definition*\n",
    "- Input dataset*\n",
    "- Input template*\n",
    "- Output dataset*\n",
    "- Output template*\n",
    "- Modeller* and\n",
    "- Requesting Organisation*\n",
    "\n",
    "*pre-registered elements.\n",
    "\n",
    "For examples of registering elements please see <a href=\"/rrap-demo-blog/jupyter/2022/08/18/rrap-registry.html\" target=\"_blank\">RRAP-IS Register blog post</a> or <a href=\"/rrap-demo-blog/jupyter/registry/2022/09/02/registry-query.html\" target=\"_blank\">RRAP-IS Register Query blog post</a>\n",
    "\n",
    "see <a href=\"https://prov-api.testing.rrap-is.com/redoc#tag/Model-Runs/operation/register_model_run_complete_model_run_register_complete_post\" target=\"_blank\">Endpoint documentation</a>"
   ]
  },
  {
   "cell_type": "code",
   "execution_count": 37,
   "metadata": {},
   "outputs": [],
   "source": [
    "from enum import Enum\n",
    "from enum_switch import Switch\n",
    "class ProvType(Enum):\n",
    "    AGENT = 1\n",
    "    ACTIVITY = 2\n",
    "    ENTITY = 3\n",
    "\n",
    "class ItemType(Enum):\n",
    "    MODEL = 1\n",
    "    PERSON = 2\n",
    "    ORGANISATION = 3\n",
    "    MODELRUN = 4\n",
    "    MODEL_RUN_WORKFLOW = 5\n",
    "    DATASET_TEMPLATE = 6\n",
    "\n",
    "class ProvTypeFromItemType(Switch):\n",
    "    def MODEL(self):\n",
    "        return ProvType.ENTITY\n",
    "\n",
    "    def PERSON(self):\n",
    "        return ProvType.AGENT    \n",
    "\n",
    "    def ORGANISATION(self):\n",
    "        return ProvType.AGENT    \n",
    "\n",
    "    def MODELRUN(self):\n",
    "        return ProvType.ACTIVITY\n",
    "\n",
    "    def MODEL_RUN_WORKFLOW(self):\n",
    "        return ProvType.ENTITY\n",
    "    \n",
    "    def DATASET_TEMPLATE(self):\n",
    "        return ProvType.ENTITY\n",
    "\n",
    "prov_of_item = ProvTypeFromItemType(ItemType)"
   ]
  },
  {
   "cell_type": "code",
   "execution_count": 38,
   "metadata": {},
   "outputs": [],
   "source": [
    "def register_item(payload, item_type, auth):\n",
    "    prov_type = prov_of_item(item_type)\n",
    "    postfix = f'/registry/{prov_type.name.lower()}/{item_type.name.lower()}/create'\n",
    "    endpoint = registry_api + postfix \n",
    "    return requests.post(endpoint, json=payload, auth=auth())"
   ]
  },
  {
   "cell_type": "code",
   "execution_count": 40,
   "metadata": {},
   "outputs": [
    {
     "name": "stdout",
     "output_type": "stream",
     "text": [
      "Token validation failed due to error: Signature has expired.\n",
      "Refreshing using refresh token\n",
      "\n",
      "{'status': {'success': True, 'details': 'Successfully uploaded the complete item. Return item includes handle id.'}, 'created_item': {'display_name': 'Ross Petridis', 'email': 'ross.petridis@csiro.au', 'first_name': 'Ross', 'last_name': 'Petridis', 'orcid': 'https://orcid.org/0000-0002-3798-9719', 'id': '10378.1/1695722', 'created_timestamp': 1669855699, 'updated_timestamp': 1669855699, 'item_category': 'AGENT', 'item_subtype': 'PERSON', 'record_type': 'COMPLETE_ITEM'}}\n"
     ]
    },
    {
     "ename": "KeyError",
     "evalue": "'id'",
     "output_type": "error",
     "traceback": [
      "\u001b[0;31m---------------------------------------------------------------------------\u001b[0m",
      "\u001b[0;31mKeyError\u001b[0m                                  Traceback (most recent call last)",
      "Cell \u001b[0;32mIn[40], line 11\u001b[0m\n\u001b[1;32m      9\u001b[0m response \u001b[39m=\u001b[39m register_item(person_payload, ItemType\u001b[39m.\u001b[39mPERSON, auth)\n\u001b[1;32m     10\u001b[0m \u001b[39mprint\u001b[39m(response\u001b[39m.\u001b[39mjson())\n\u001b[0;32m---> 11\u001b[0m person_id \u001b[39m=\u001b[39m response\u001b[39m.\u001b[39;49mjson()[\u001b[39m\"\u001b[39;49m\u001b[39mid\u001b[39;49m\u001b[39m\"\u001b[39;49m]\n",
      "\u001b[0;31mKeyError\u001b[0m: 'id'"
     ]
    }
   ],
   "source": [
    "person_payload = {\n",
    "    \"display_name\": \"Ross Petridis\",\n",
    "    \"first_name\": \"Ross\",\n",
    "    \"last_name\": \"Petridis\",\n",
    "    \"email\": \"ross.petridis@csiro.au \",\n",
    "    \"orcid\": \"https://orcid.org/0000-0002-3798-9719\"\n",
    "    }\n",
    "auth = token_manager.get_auth\n",
    "response = register_item(person_payload, ItemType.PERSON, auth)\n",
    "print(response.json())\n",
    "person_id = response.json()[\"created_item\"][\"id\"]"
   ]
  },
  {
   "cell_type": "code",
   "execution_count": 46,
   "metadata": {},
   "outputs": [],
   "source": [
    "model_payload = {\n",
    "    \"display_name\": \"ADRIA\",\n",
    "    \"name\": \"ADRIA\",\n",
    "    \"description\": \"Coral Community Network\",\n",
    "    \"documentation_url\": \"https://github.com/gbrrestoration/CoCoNet-model/blob/main/README.md\",\n",
    "    \"source_url\": \"https://gbrrestoration.org/\"\n",
    "    }\n",
    "auth = token_manager.get_auth\n",
    "response = register_item(model_payload, ItemType.MODEL, auth)\n",
    "model_id = response.json()[\"created_item\"]['id']"
   ]
  },
  {
   "cell_type": "code",
   "execution_count": 47,
   "metadata": {},
   "outputs": [],
   "source": [
    "template_payload = {\n",
    "  \"display_name\": \"Example dataset template\",\n",
    "  \"description\": \"Description for example dataset template\",\n",
    "  \"defined_resources\": [],\n",
    "  \"deferred_resources\": []\n",
    "}\n",
    "\n",
    "\n",
    "response = register_item(template_payload, ItemType.DATASET_TEMPLATE, auth)\n",
    "dataset_template_id = response.json()['created_item']['id']\n"
   ]
  },
  {
   "cell_type": "code",
   "execution_count": 48,
   "metadata": {},
   "outputs": [],
   "source": [
    "\n",
    "modelrun_workflow_template_paylaod = {\n",
    "  \"display_name\": \"Workflow def using ADRIA model (software)\",\n",
    "  \"software_id\": model_id,\n",
    "  \"software_version\": \"1.0\",\n",
    "  \"annotations\": {\n",
    "    \"required\": [],\n",
    "    \"optional\": [],\n",
    "  },\n",
    "  \"input_templates\": [\n",
    "    {\n",
    "      \"template_id\" : dataset_template_id\n",
    "    }\n",
    "  ],\n",
    "  \"output_templates\": [\n",
    "    {\n",
    "      \"template_id\" : dataset_template_id\n",
    "    }\n",
    "  ]\n",
    "}\n",
    "\n",
    "auth = token_manager.get_auth\n",
    "response = register_item(modelrun_workflow_template_paylaod, ItemType.MODEL_RUN_WORKFLOW, auth)\n",
    "workflow_def_id = response.json()['created_item']['id']"
   ]
  },
  {
   "cell_type": "code",
   "execution_count": 57,
   "metadata": {},
   "outputs": [],
   "source": [
    "auth = token_manager.get_auth\n",
    "postfix = \"/model_run/register_complete\"\n",
    "payload = {\n",
    "  \"start_time\": 0,\n",
    "  \"end_time\": 1662467929,\n",
    "  \"workflow_template_id\": workflow_def_id,\n",
    "\n",
    "  \"inputs\": [\n",
    "    {\n",
    "      \"dataset_template_id\" : dataset_template_id,\n",
    "      \"dataset_id\" : \"10378.1/1691958\",\n",
    "      \"dataset_type\" : \"DATA_STORE\",\n",
    "      \"resources\" : {\n",
    "        \n",
    "      } \n",
    "    }\n",
    "  ],\n",
    "\n",
    "  \"outputs\": [\n",
    "    {\n",
    "      \"dataset_template_id\" : dataset_template_id,\n",
    "      \"dataset_id\" : \"10378.1/1691958\",\n",
    "      \"dataset_type\" : \"DATA_STORE\",\n",
    "      \"resources\" : {\n",
    "        \n",
    "      } \n",
    "    }\n",
    "  ],\n",
    "\n",
    "  \"associations\": {\n",
    "    \"modeller_id\": person_id,\n",
    "  }\n",
    "}\n",
    "endpoint = prov_api + postfix \n",
    "\n",
    "response_json = handle_request('POST', endpoint, None, payload, auth())\n",
    "HTML(json_to_md(response_json))\n",
    "model_run_id = response_json['record_info']['id']"
   ]
  },
  {
   "cell_type": "markdown",
   "metadata": {},
   "source": [
    "## Exploring linkages across RRAP-IS data, models, modellers and organisation\n",
    "Simple exploration functions include:\n",
    "- Searching upstream (option to only looks so far) from a point and\n",
    "- Searching downstream (option to only looks so far) from a point\n",
    "\n",
    "\n",
    "### Explore Upstream Provenance\n",
    "Lets explore back upstream from the generated output from the above completed model run.  We will limit it to a depth of one, so only the directly linked elements\n",
    "\n",
    "[Return to Top](#toc)"
   ]
  },
  {
   "cell_type": "code",
   "execution_count": 58,
   "metadata": {
    "tags": []
   },
   "outputs": [],
   "source": [
    "auth = token_manager.get_auth\n",
    "postfix = \"/explore/upstream\"\n",
    "params = {\n",
    "    \"starting_id\": model_run_id,\n",
    "    \"depth\": 1\n",
    "}\n",
    "\n",
    "endpoint = prov_api + postfix\n",
    "\n",
    "response_json = handle_request('GET', endpoint, params, None, auth())\n",
    "result_graph = response_json[\"graph\"]\n",
    "\n",
    "networkx_graph = json_graph.node_link_graph(result_graph)\n",
    "im = hv.Graph.from_networkx(networkx_graph, nx.layout.circular_layout).opts(tools=['hover','tap'],\n",
    "                                                                          node_size=10,\n",
    "                                                                          node_color='item_category',\n",
    "                                                                          cmap = ['blue','orange', 'green', 'red'],\n",
    "                                                                          directed=True, \n",
    "                                                                          arrowhead_length=0.02,\n",
    "                                                                          bgcolor='pink')\n"
   ]
  },
  {
   "cell_type": "code",
   "execution_count": 59,
   "metadata": {},
   "outputs": [
    {
     "data": {
      "text/html": [
       "<div>\n",
       "<style scoped>\n",
       "    .dataframe tbody tr th:only-of-type {\n",
       "        vertical-align: middle;\n",
       "    }\n",
       "\n",
       "    .dataframe tbody tr th {\n",
       "        vertical-align: top;\n",
       "    }\n",
       "\n",
       "    .dataframe thead th {\n",
       "        text-align: right;\n",
       "    }\n",
       "</style>\n",
       "<table border=\"1\" class=\"dataframe\">\n",
       "  <thead>\n",
       "    <tr style=\"text-align: right;\">\n",
       "      <th></th>\n",
       "      <th>x</th>\n",
       "      <th>y</th>\n",
       "      <th>index</th>\n",
       "      <th>item_category</th>\n",
       "      <th>item_subtype</th>\n",
       "    </tr>\n",
       "  </thead>\n",
       "  <tbody>\n",
       "    <tr>\n",
       "      <th>0</th>\n",
       "      <td>0.309017</td>\n",
       "      <td>0.951057</td>\n",
       "      <td>10378.1/1691958</td>\n",
       "      <td>ENTITY</td>\n",
       "      <td>DATASET</td>\n",
       "    </tr>\n",
       "    <tr>\n",
       "      <th>1</th>\n",
       "      <td>0.309017</td>\n",
       "      <td>-0.951057</td>\n",
       "      <td>10378.1/1695722</td>\n",
       "      <td>AGENT</td>\n",
       "      <td>PERSON</td>\n",
       "    </tr>\n",
       "    <tr>\n",
       "      <th>2</th>\n",
       "      <td>-0.809017</td>\n",
       "      <td>0.587785</td>\n",
       "      <td>10378.1/1695723</td>\n",
       "      <td>ENTITY</td>\n",
       "      <td>MODEL</td>\n",
       "    </tr>\n",
       "    <tr>\n",
       "      <th>3</th>\n",
       "      <td>-0.809017</td>\n",
       "      <td>-0.587785</td>\n",
       "      <td>10378.1/1695725</td>\n",
       "      <td>ENTITY</td>\n",
       "      <td>MODEL_RUN_WORKFLOW_TEMPLATE</td>\n",
       "    </tr>\n",
       "    <tr>\n",
       "      <th>4</th>\n",
       "      <td>1.000000</td>\n",
       "      <td>0.000000</td>\n",
       "      <td>10378.1/1695727</td>\n",
       "      <td>ACTIVITY</td>\n",
       "      <td>MODEL_RUN</td>\n",
       "    </tr>\n",
       "  </tbody>\n",
       "</table>\n",
       "</div>"
      ],
      "text/plain": [
       "          x         y            index item_category  \\\n",
       "0  0.309017  0.951057  10378.1/1691958        ENTITY   \n",
       "1  0.309017 -0.951057  10378.1/1695722         AGENT   \n",
       "2 -0.809017  0.587785  10378.1/1695723        ENTITY   \n",
       "3 -0.809017 -0.587785  10378.1/1695725        ENTITY   \n",
       "4  1.000000  0.000000  10378.1/1695727      ACTIVITY   \n",
       "\n",
       "                  item_subtype  \n",
       "0                      DATASET  \n",
       "1                       PERSON  \n",
       "2                        MODEL  \n",
       "3  MODEL_RUN_WORKFLOW_TEMPLATE  \n",
       "4                    MODEL_RUN  "
      ]
     },
     "execution_count": 59,
     "metadata": {},
     "output_type": "execute_result"
    }
   ],
   "source": [
    "im.nodes.data\n"
   ]
  },
  {
   "cell_type": "code",
   "execution_count": 62,
   "metadata": {},
   "outputs": [],
   "source": [
    "labels = hv.Labels(im.nodes, ['x', 'y'], 'item_category').opts(opts.Labels(text_font_size='12pt', text_color='blue', xoffset=0, yoffset=0.05, bgcolor='white'))\n"
   ]
  },
  {
   "cell_type": "code",
   "execution_count": 63,
   "metadata": {},
   "outputs": [
    {
     "data": {
      "text/html": [
       "\n",
       "\n",
       "<!DOCTYPE html>\n",
       "<html lang=\"en\">\n",
       "  <head>\n",
       "      <meta charset=\"utf-8\">\n",
       "      <title>lineage_network</title>\n",
       "              <link rel=\"stylesheet\" href=\"https://cdn.holoviz.org/panel/0.14.1/dist/css/loading.css\" type=\"text/css\" />\n",
       "            <link rel=\"stylesheet\" href=\"https://cdn.holoviz.org/panel/0.14.1/dist/css/debugger.css\" type=\"text/css\" />\n",
       "            <link rel=\"stylesheet\" href=\"https://cdn.holoviz.org/panel/0.14.1/dist/css/json.css\" type=\"text/css\" />\n",
       "            <link rel=\"stylesheet\" href=\"https://cdn.holoviz.org/panel/0.14.1/dist/css/alerts.css\" type=\"text/css\" />\n",
       "            <link rel=\"stylesheet\" href=\"https://cdn.holoviz.org/panel/0.14.1/dist/css/dataframe.css\" type=\"text/css\" />\n",
       "            <link rel=\"stylesheet\" href=\"https://cdn.holoviz.org/panel/0.14.1/dist/css/card.css\" type=\"text/css\" />\n",
       "            <link rel=\"stylesheet\" href=\"https://cdn.holoviz.org/panel/0.14.1/dist/css/widgets.css\" type=\"text/css\" />\n",
       "            <link rel=\"stylesheet\" href=\"https://cdn.holoviz.org/panel/0.14.1/dist/css/markdown.css\" type=\"text/css\" />\n",
       "            <style>\n",
       "                \n",
       "            .bk.pn-loading.arc:before {\n",
       "              background-image: url(\"data:image/svg+xml;base64,PHN2ZyB4bWxucz0iaHR0cDovL3d3dy53My5vcmcvMjAwMC9zdmciIHN0eWxlPSJtYXJnaW46IGF1dG87IGJhY2tncm91bmQ6IG5vbmU7IGRpc3BsYXk6IGJsb2NrOyBzaGFwZS1yZW5kZXJpbmc6IGF1dG87IiB2aWV3Qm94PSIwIDAgMTAwIDEwMCIgcHJlc2VydmVBc3BlY3RSYXRpbz0ieE1pZFlNaWQiPiAgPGNpcmNsZSBjeD0iNTAiIGN5PSI1MCIgZmlsbD0ibm9uZSIgc3Ryb2tlPSIjYzNjM2MzIiBzdHJva2Utd2lkdGg9IjEwIiByPSIzNSIgc3Ryb2tlLWRhc2hhcnJheT0iMTY0LjkzMzYxNDMxMzQ2NDE1IDU2Ljk3Nzg3MTQzNzgyMTM4Ij4gICAgPGFuaW1hdGVUcmFuc2Zvcm0gYXR0cmlidXRlTmFtZT0idHJhbnNmb3JtIiB0eXBlPSJyb3RhdGUiIHJlcGVhdENvdW50PSJpbmRlZmluaXRlIiBkdXI9IjFzIiB2YWx1ZXM9IjAgNTAgNTA7MzYwIDUwIDUwIiBrZXlUaW1lcz0iMDsxIj48L2FuaW1hdGVUcmFuc2Zvcm0+ICA8L2NpcmNsZT48L3N2Zz4=\");\n",
       "              background-size: auto calc(min(50%, 400px));\n",
       "            }\n",
       "            \n",
       "            </style>\n",
       "\n",
       "          <script type=\"text/javascript\" src=\"https://cdn.bokeh.org/bokeh/release/bokeh-2.4.3.min.js\"></script><script type=\"text/javascript\" src=\"https://cdn.bokeh.org/bokeh/release/bokeh-gl-2.4.3.min.js\"></script><script type=\"text/javascript\" src=\"https://cdn.bokeh.org/bokeh/release/bokeh-widgets-2.4.3.min.js\"></script><script type=\"text/javascript\" src=\"https://cdn.bokeh.org/bokeh/release/bokeh-tables-2.4.3.min.js\"></script><script type=\"text/javascript\" src=\"https://cdn.holoviz.org/panel/0.14.1/dist/panel.min.js\"></script><script type=\"text/javascript\">\n",
       "            Bokeh.set_log_level(\"info\");\n",
       "        </script>\n",
       "  </head>\n",
       "  <body>\n",
       "          \n",
       "              <div class=\"bk-root\" id=\"b86a1c8a-a5bd-4d7d-a323-f1098723982a\" data-root-id=\"1964\"></div>\n",
       "      \n",
       "        <script type=\"application/json\" id=\"2205\">\n",
       "          {\"6da15d87-0ab6-4eee-8e66-0fe56367764c\":{\"defs\":[{\"extends\":null,\"module\":null,\"name\":\"ReactiveHTML1\",\"overrides\":[],\"properties\":[]},{\"extends\":null,\"module\":null,\"name\":\"FlexBox1\",\"overrides\":[],\"properties\":[{\"default\":\"flex-start\",\"kind\":null,\"name\":\"align_content\"},{\"default\":\"flex-start\",\"kind\":null,\"name\":\"align_items\"},{\"default\":\"row\",\"kind\":null,\"name\":\"flex_direction\"},{\"default\":\"wrap\",\"kind\":null,\"name\":\"flex_wrap\"},{\"default\":\"flex-start\",\"kind\":null,\"name\":\"justify_content\"}]},{\"extends\":null,\"module\":null,\"name\":\"GridStack1\",\"overrides\":[],\"properties\":[{\"default\":\"warn\",\"kind\":null,\"name\":\"mode\"},{\"default\":null,\"kind\":null,\"name\":\"ncols\"},{\"default\":null,\"kind\":null,\"name\":\"nrows\"},{\"default\":true,\"kind\":null,\"name\":\"allow_resize\"},{\"default\":true,\"kind\":null,\"name\":\"allow_drag\"},{\"default\":[],\"kind\":null,\"name\":\"state\"}]},{\"extends\":null,\"module\":null,\"name\":\"click1\",\"overrides\":[],\"properties\":[{\"default\":\"\",\"kind\":null,\"name\":\"terminal_output\"},{\"default\":\"\",\"kind\":null,\"name\":\"debug_name\"},{\"default\":0,\"kind\":null,\"name\":\"clears\"}]},{\"extends\":null,\"module\":null,\"name\":\"NotificationAreaBase1\",\"overrides\":[],\"properties\":[{\"default\":\"bottom-right\",\"kind\":null,\"name\":\"position\"},{\"default\":0,\"kind\":null,\"name\":\"_clear\"}]},{\"extends\":null,\"module\":null,\"name\":\"NotificationArea1\",\"overrides\":[],\"properties\":[{\"default\":[],\"kind\":null,\"name\":\"notifications\"},{\"default\":\"bottom-right\",\"kind\":null,\"name\":\"position\"},{\"default\":0,\"kind\":null,\"name\":\"_clear\"},{\"default\":[{\"background\":\"#ffc107\",\"icon\":{\"className\":\"fas fa-exclamation-triangle\",\"color\":\"white\",\"tagName\":\"i\"},\"type\":\"warning\"},{\"background\":\"#007bff\",\"icon\":{\"className\":\"fas fa-info-circle\",\"color\":\"white\",\"tagName\":\"i\"},\"type\":\"info\"}],\"kind\":null,\"name\":\"types\"}]},{\"extends\":null,\"module\":null,\"name\":\"Notification\",\"overrides\":[],\"properties\":[{\"default\":null,\"kind\":null,\"name\":\"background\"},{\"default\":3000,\"kind\":null,\"name\":\"duration\"},{\"default\":null,\"kind\":null,\"name\":\"icon\"},{\"default\":\"\",\"kind\":null,\"name\":\"message\"},{\"default\":null,\"kind\":null,\"name\":\"notification_type\"},{\"default\":false,\"kind\":null,\"name\":\"_destroyed\"}]},{\"extends\":null,\"module\":null,\"name\":\"TemplateActions1\",\"overrides\":[],\"properties\":[{\"default\":0,\"kind\":null,\"name\":\"open_modal\"},{\"default\":0,\"kind\":null,\"name\":\"close_modal\"}]},{\"extends\":null,\"module\":null,\"name\":\"MaterialTemplateActions1\",\"overrides\":[],\"properties\":[{\"default\":0,\"kind\":null,\"name\":\"open_modal\"},{\"default\":0,\"kind\":null,\"name\":\"close_modal\"}]}],\"roots\":{\"references\":[{\"attributes\":{},\"id\":\"2051\",\"type\":\"Selection\"},{\"attributes\":{\"fill_alpha\":{\"value\":0.2},\"fill_color\":{\"field\":\"node_color\",\"transform\":{\"id\":\"2007\"}},\"hatch_alpha\":{\"value\":0.2},\"hatch_color\":{\"field\":\"node_color\",\"transform\":{\"id\":\"2007\"}},\"line_alpha\":{\"value\":0.2},\"size\":{\"value\":10}},\"id\":\"2015\",\"type\":\"Circle\"},{\"attributes\":{},\"id\":\"2072\",\"type\":\"Selection\"},{\"attributes\":{\"coordinates\":null,\"data_source\":{\"id\":\"2008\"},\"glyph\":{\"id\":\"2011\"},\"group\":null,\"hover_glyph\":{\"id\":\"2014\"},\"muted_glyph\":{\"id\":\"2015\"},\"nonselection_glyph\":{\"id\":\"2012\"},\"selection_glyph\":{\"id\":\"2013\"},\"view\":{\"id\":\"2017\"}},\"id\":\"2016\",\"type\":\"GlyphRenderer\"},{\"attributes\":{\"source\":{\"id\":\"2050\"}},\"id\":\"2057\",\"type\":\"CDSView\"},{\"attributes\":{\"angle\":{\"value\":0},\"text\":{\"field\":\"item_category\"},\"text_align\":{\"value\":\"center\"},\"text_alpha\":{\"value\":1.0},\"text_baseline\":{\"value\":\"middle\"},\"text_color\":{\"value\":\"blue\"},\"text_font_size\":{\"value\":\"12pt\"},\"text_font_style\":{\"value\":\"normal\"},\"text_line_height\":{\"value\":1.2},\"x\":{\"field\":\"x\",\"transform\":{\"id\":\"2037\"}},\"x_offset\":{\"value\":0},\"y\":{\"field\":\"y\",\"transform\":{\"id\":\"2038\"}},\"y_offset\":{\"value\":0}},\"id\":\"2047\",\"type\":\"Text\"},{\"attributes\":{\"fill_color\":{\"field\":\"node_color\",\"transform\":{\"id\":\"2007\"}},\"hatch_color\":{\"field\":\"node_color\",\"transform\":{\"id\":\"2007\"}},\"size\":{\"value\":10}},\"id\":\"2011\",\"type\":\"Circle\"},{\"attributes\":{\"source\":{\"id\":\"2039\"}},\"id\":\"2046\",\"type\":\"CDSView\"},{\"attributes\":{\"axis_label\":\"x\",\"coordinates\":null,\"formatter\":{\"id\":\"2002\"},\"group\":null,\"major_label_policy\":{\"id\":\"2003\"},\"ticker\":{\"id\":\"1979\"}},\"id\":\"1978\",\"type\":\"LinearAxis\"},{\"attributes\":{\"source\":{\"id\":\"2009\"}},\"id\":\"2023\",\"type\":\"CDSView\"},{\"attributes\":{\"coordinates\":null,\"data_source\":{\"id\":\"2039\"},\"glyph\":{\"id\":\"2042\"},\"group\":null,\"hover_glyph\":null,\"muted_glyph\":{\"id\":\"2044\"},\"nonselection_glyph\":{\"id\":\"2043\"},\"selection_glyph\":{\"id\":\"2047\"},\"view\":{\"id\":\"2046\"}},\"id\":\"2045\",\"type\":\"GlyphRenderer\"},{\"attributes\":{\"margin\":[5,5,5,5],\"name\":\"HSpacer02472\",\"sizing_mode\":\"stretch_width\"},\"id\":\"1965\",\"type\":\"Spacer\"},{\"attributes\":{\"text\":{\"field\":\"item_category\"},\"text_align\":{\"value\":\"center\"},\"text_alpha\":{\"value\":0.1},\"text_baseline\":{\"value\":\"middle\"},\"text_color\":{\"value\":\"blue\"},\"text_font_size\":{\"value\":\"12pt\"},\"x\":{\"field\":\"x\",\"transform\":{\"id\":\"2037\"}},\"y\":{\"field\":\"y\",\"transform\":{\"id\":\"2038\"}}},\"id\":\"2043\",\"type\":\"Text\"},{\"attributes\":{\"text\":{\"field\":\"item_category\"},\"text_align\":{\"value\":\"center\"},\"text_alpha\":{\"value\":0.2},\"text_baseline\":{\"value\":\"middle\"},\"text_color\":{\"value\":\"blue\"},\"text_font_size\":{\"value\":\"12pt\"},\"x\":{\"field\":\"x\",\"transform\":{\"id\":\"2037\"}},\"y\":{\"field\":\"y\",\"transform\":{\"id\":\"2038\"}}},\"id\":\"2044\",\"type\":\"Text\"},{\"attributes\":{},\"id\":\"2040\",\"type\":\"Selection\"},{\"attributes\":{\"range\":null,\"value\":0.05},\"id\":\"2038\",\"type\":\"Dodge\"},{\"attributes\":{\"data\":{\"item_category\":[\"ENTITY\",\"AGENT\",\"ENTITY\",\"ENTITY\",\"ACTIVITY\"],\"x\":{\"__ndarray__\":\"hXfjCe/G0z/Vd+Op78bTP9678bx34+m/zrvxnHfj6b8AAAAAAADwPw==\",\"dtype\":\"float64\",\"order\":\"little\",\"shape\":[5]},\"y\":{\"__ndarray__\":\"GIc3Lw5v7j8IhzcPDm/uv4WRZwkjz+I/lZFnKSPP4r8AAAAAAAAAAA==\",\"dtype\":\"float64\",\"order\":\"little\",\"shape\":[5]}},\"selected\":{\"id\":\"2040\"},\"selection_policy\":{\"id\":\"2066\"}},\"id\":\"2039\",\"type\":\"ColumnDataSource\"},{\"attributes\":{},\"id\":\"1976\",\"type\":\"LinearScale\"},{\"attributes\":{\"bottom_units\":\"screen\",\"coordinates\":null,\"fill_alpha\":0.5,\"fill_color\":\"lightgrey\",\"group\":null,\"left_units\":\"screen\",\"level\":\"overlay\",\"line_alpha\":1.0,\"line_color\":\"black\",\"line_dash\":[4,4],\"line_width\":2,\"right_units\":\"screen\",\"syncable\":false,\"top_units\":\"screen\"},\"id\":\"1992\",\"type\":\"BoxAnnotation\"},{\"attributes\":{\"range\":null},\"id\":\"2037\",\"type\":\"Dodge\"},{\"attributes\":{\"fill_color\":{\"value\":\"limegreen\"},\"hatch_color\":{\"field\":\"node_color\",\"transform\":{\"id\":\"2007\"}},\"size\":{\"value\":10}},\"id\":\"2014\",\"type\":\"Circle\"},{\"attributes\":{\"source\":{\"id\":\"2008\"}},\"id\":\"2017\",\"type\":\"CDSView\"},{\"attributes\":{},\"id\":\"2002\",\"type\":\"BasicTickFormatter\"},{\"attributes\":{\"factors\":[\"ENTITY\",\"AGENT\",\"ACTIVITY\"],\"palette\":[\"blue\",\"orange\",\"green\"]},\"id\":\"2007\",\"type\":\"CategoricalColorMapper\"},{\"attributes\":{},\"id\":\"2033\",\"type\":\"NodesAndLinkedEdges\"},{\"attributes\":{\"axis\":{\"id\":\"1982\"},\"coordinates\":null,\"dimension\":1,\"grid_line_color\":null,\"group\":null,\"ticker\":null},\"id\":\"1985\",\"type\":\"Grid\"},{\"attributes\":{\"background_fill_color\":\"pink\",\"below\":[{\"id\":\"1978\"}],\"center\":[{\"id\":\"1981\"},{\"id\":\"1985\"}],\"left\":[{\"id\":\"1982\"}],\"margin\":[5,5,5,5],\"min_border_bottom\":10,\"min_border_left\":10,\"min_border_right\":10,\"min_border_top\":10,\"renderers\":[{\"id\":\"2024\"},{\"id\":\"2045\"},{\"id\":\"2056\"}],\"sizing_mode\":\"fixed\",\"title\":{\"id\":\"1970\"},\"toolbar\":{\"id\":\"1993\"},\"width\":800,\"x_range\":{\"id\":\"1966\"},\"x_scale\":{\"id\":\"1974\"},\"y_range\":{\"id\":\"1967\"},\"y_scale\":{\"id\":\"1976\"}},\"id\":\"1969\",\"subtype\":\"Figure\",\"type\":\"Plot\"},{\"attributes\":{},\"id\":\"2073\",\"type\":\"UnionRenderers\"},{\"attributes\":{\"end\":1.1356762792371595,\"reset_end\":1.1356762792371595,\"reset_start\":-0.944693335732619,\"start\":-0.944693335732619,\"tags\":[[[\"x\",\"x\",null]]]},\"id\":\"1966\",\"type\":\"Range1d\"},{\"attributes\":{\"data\":{\"index\":{\"__ndarray__\":\"AAAAAAEAAAACAAAAAwAAAAQAAAA=\",\"dtype\":\"int32\",\"order\":\"little\",\"shape\":[5]},\"index_hover\":[\"10378.1/1691958\",\"10378.1/1695722\",\"10378.1/1695723\",\"10378.1/1695725\",\"10378.1/1695727\"],\"item_category\":[\"ENTITY\",\"AGENT\",\"ENTITY\",\"ENTITY\",\"ACTIVITY\"],\"item_subtype\":[\"DATASET\",\"PERSON\",\"MODEL\",\"MODEL_RUN_WORKFLOW_TEMPLATE\",\"MODEL_RUN\"],\"node_color\":[\"ENTITY\",\"AGENT\",\"ENTITY\",\"ENTITY\",\"ACTIVITY\"]},\"selected\":{\"id\":\"2072\"},\"selection_policy\":{\"id\":\"2071\"}},\"id\":\"2008\",\"type\":\"ColumnDataSource\"},{\"attributes\":{},\"id\":\"2074\",\"type\":\"Selection\"},{\"attributes\":{},\"id\":\"1983\",\"type\":\"BasicTicker\"},{\"attributes\":{\"coordinates\":null,\"data_source\":{\"id\":\"2009\"},\"glyph\":{\"id\":\"2018\"},\"group\":null,\"hover_glyph\":{\"id\":\"2020\"},\"muted_glyph\":{\"id\":\"2021\"},\"nonselection_glyph\":{\"id\":\"2019\"},\"view\":{\"id\":\"2023\"}},\"id\":\"2022\",\"type\":\"GlyphRenderer\"},{\"attributes\":{\"children\":[{\"id\":\"1965\"},{\"id\":\"1969\"},{\"id\":\"2075\"}],\"margin\":[0,0,0,0],\"name\":\"Row02468\",\"tags\":[\"embedded\"]},\"id\":\"1964\",\"type\":\"Row\"},{\"attributes\":{\"coordinates\":null,\"data_source\":{\"id\":\"2050\"},\"glyph\":{\"id\":\"2053\"},\"group\":null,\"hover_glyph\":null,\"muted_glyph\":{\"id\":\"2055\"},\"nonselection_glyph\":{\"id\":\"2054\"},\"selection_glyph\":{\"id\":\"2058\"},\"view\":{\"id\":\"2057\"}},\"id\":\"2056\",\"type\":\"GlyphRenderer\"},{\"attributes\":{},\"id\":\"1988\",\"type\":\"WheelZoomTool\"},{\"attributes\":{},\"id\":\"2066\",\"type\":\"UnionRenderers\"},{\"attributes\":{},\"id\":\"1986\",\"type\":\"SaveTool\"},{\"attributes\":{\"overlay\":{\"id\":\"1992\"}},\"id\":\"1989\",\"type\":\"BoxZoomTool\"},{\"attributes\":{\"text\":{\"field\":\"item_subtype\"},\"text_align\":{\"value\":\"center\"},\"text_alpha\":{\"value\":0.2},\"text_baseline\":{\"value\":\"middle\"},\"text_color\":{\"value\":\"black\"},\"text_font_size\":{\"value\":\"8pt\"},\"x\":{\"field\":\"x\",\"transform\":{\"id\":\"2048\"}},\"y\":{\"field\":\"y\",\"transform\":{\"id\":\"2049\"}}},\"id\":\"2055\",\"type\":\"Text\"},{\"attributes\":{},\"id\":\"1990\",\"type\":\"ResetTool\"},{\"attributes\":{\"callback\":null},\"id\":\"1991\",\"type\":\"TapTool\"},{\"attributes\":{\"range\":null},\"id\":\"2048\",\"type\":\"Dodge\"},{\"attributes\":{\"range\":null,\"value\":-0.05},\"id\":\"2049\",\"type\":\"Dodge\"},{\"attributes\":{\"fill_alpha\":{\"value\":0.2},\"fill_color\":{\"field\":\"node_color\",\"transform\":{\"id\":\"2007\"}},\"hatch_alpha\":{\"value\":0.2},\"hatch_color\":{\"field\":\"node_color\",\"transform\":{\"id\":\"2007\"}},\"line_alpha\":{\"value\":0.2},\"size\":{\"value\":10}},\"id\":\"2012\",\"type\":\"Circle\"},{\"attributes\":{\"text\":{\"field\":\"item_subtype\"},\"text_align\":{\"value\":\"center\"},\"text_alpha\":{\"value\":0.1},\"text_baseline\":{\"value\":\"middle\"},\"text_color\":{\"value\":\"black\"},\"text_font_size\":{\"value\":\"8pt\"},\"x\":{\"field\":\"x\",\"transform\":{\"id\":\"2048\"}},\"y\":{\"field\":\"y\",\"transform\":{\"id\":\"2049\"}}},\"id\":\"2054\",\"type\":\"Text\"},{\"attributes\":{},\"id\":\"1987\",\"type\":\"PanTool\"},{\"attributes\":{},\"id\":\"1974\",\"type\":\"LinearScale\"},{\"attributes\":{\"margin\":[5,5,5,5],\"name\":\"HSpacer02473\",\"sizing_mode\":\"stretch_width\"},\"id\":\"2075\",\"type\":\"Spacer\"},{\"attributes\":{\"text\":{\"field\":\"item_subtype\"},\"text_align\":{\"value\":\"center\"},\"text_baseline\":{\"value\":\"middle\"},\"text_color\":{\"value\":\"black\"},\"text_font_size\":{\"value\":\"8pt\"},\"x\":{\"field\":\"x\",\"transform\":{\"id\":\"2048\"}},\"y\":{\"field\":\"y\",\"transform\":{\"id\":\"2049\"}}},\"id\":\"2053\",\"type\":\"Text\"},{\"attributes\":{\"graph_layout\":{\"0\":[0.3090169521873281,0.9510565683560541],\"1\":[0.3090171011989445,-0.9510565087514076],\"2\":[-0.8090170564954595,0.587785261505403],\"3\":[-0.809016996890813,-0.5877853211100496],\"4\":[1.0,0.0]}},\"id\":\"2010\",\"type\":\"StaticLayoutProvider\"},{\"attributes\":{\"data\":{\"item_subtype\":[\"DATASET\",\"PERSON\",\"MODEL\",\"MODEL_RUN_WORKFLOW_TEMPLATE\",\"MODEL_RUN\"],\"x\":{\"__ndarray__\":\"hXfjCe/G0z/Vd+Op78bTP9678bx34+m/zrvxnHfj6b8AAAAAAADwPw==\",\"dtype\":\"float64\",\"order\":\"little\",\"shape\":[5]},\"y\":{\"__ndarray__\":\"GIc3Lw5v7j8IhzcPDm/uv4WRZwkjz+I/lZFnKSPP4r8AAAAAAAAAAA==\",\"dtype\":\"float64\",\"order\":\"little\",\"shape\":[5]}},\"selected\":{\"id\":\"2051\"},\"selection_policy\":{\"id\":\"2068\"}},\"id\":\"2050\",\"type\":\"ColumnDataSource\"},{\"attributes\":{},\"id\":\"2068\",\"type\":\"UnionRenderers\"},{\"attributes\":{\"tools\":[{\"id\":\"1968\"},{\"id\":\"1986\"},{\"id\":\"1987\"},{\"id\":\"1988\"},{\"id\":\"1989\"},{\"id\":\"1990\"},{\"id\":\"1991\"}]},\"id\":\"1993\",\"type\":\"Toolbar\"},{\"attributes\":{\"axis_label\":\"y\",\"coordinates\":null,\"formatter\":{\"id\":\"2005\"},\"group\":null,\"major_label_policy\":{\"id\":\"2006\"},\"ticker\":{\"id\":\"1983\"}},\"id\":\"1982\",\"type\":\"LinearAxis\"},{\"attributes\":{\"angle\":{\"value\":0},\"text\":{\"field\":\"item_subtype\"},\"text_align\":{\"value\":\"center\"},\"text_alpha\":{\"value\":1.0},\"text_baseline\":{\"value\":\"middle\"},\"text_color\":{\"value\":\"black\"},\"text_font_size\":{\"value\":\"8pt\"},\"text_font_style\":{\"value\":\"normal\"},\"text_line_height\":{\"value\":1.2},\"x\":{\"field\":\"x\",\"transform\":{\"id\":\"2048\"}},\"x_offset\":{\"value\":0},\"y\":{\"field\":\"y\",\"transform\":{\"id\":\"2049\"}},\"y_offset\":{\"value\":0}},\"id\":\"2058\",\"type\":\"Text\"},{\"attributes\":{\"axis\":{\"id\":\"1978\"},\"coordinates\":null,\"grid_line_color\":null,\"group\":null,\"ticker\":null},\"id\":\"1981\",\"type\":\"Grid\"},{\"attributes\":{\"line_alpha\":{\"value\":0.2},\"line_width\":{\"value\":2}},\"id\":\"2021\",\"type\":\"MultiLine\"},{\"attributes\":{\"line_width\":{\"value\":2}},\"id\":\"2018\",\"type\":\"MultiLine\"},{\"attributes\":{\"callback\":null,\"renderers\":[{\"id\":\"2024\"}],\"tags\":[\"hv_created\"],\"tooltips\":[[\"index\",\"@{index_hover}\"],[\"item_category\",\"@{item_category}\"],[\"item_subtype\",\"@{item_subtype}\"]]},\"id\":\"1968\",\"type\":\"HoverTool\"},{\"attributes\":{},\"id\":\"2006\",\"type\":\"AllLabels\"},{\"attributes\":{\"text\":{\"field\":\"item_category\"},\"text_align\":{\"value\":\"center\"},\"text_baseline\":{\"value\":\"middle\"},\"text_color\":{\"value\":\"blue\"},\"text_font_size\":{\"value\":\"12pt\"},\"x\":{\"field\":\"x\",\"transform\":{\"id\":\"2037\"}},\"y\":{\"field\":\"y\",\"transform\":{\"id\":\"2038\"}}},\"id\":\"2042\",\"type\":\"Text\"},{\"attributes\":{\"line_alpha\":{\"value\":0.2},\"line_width\":{\"value\":2}},\"id\":\"2019\",\"type\":\"MultiLine\"},{\"attributes\":{\"data\":{\"end\":{\"__ndarray__\":\"AAAAAAIAAAADAAAAAQAAAA==\",\"dtype\":\"int32\",\"order\":\"little\",\"shape\":[4]},\"start\":{\"__ndarray__\":\"BAAAAAQAAAAEAAAABAAAAA==\",\"dtype\":\"int32\",\"order\":\"little\",\"shape\":[4]},\"xs\":[{\"__ndarray__\":\"AAAAAAAA8D+Fd+MJ78bTPwAAAAAAAPh/ymPjkFak1j+Fd+MJ78bTPxdiwsC7j9Q/\",\"dtype\":\"float64\",\"order\":\"little\",\"shape\":[6]},{\"__ndarray__\":\"AAAAAAAA8D/eu/G8d+PpvwAAAAAAAPh/i6djC7c26L/eu/G8d+Ppvw/63/dunOi/\",\"dtype\":\"float64\",\"order\":\"little\",\"shape\":[6]},{\"__ndarray__\":\"AAAAAAAA8D/Ou/Gcd+PpvwAAAAAAAPh/uAKZ2G6c6L/Ou/Gcd+Ppv+tMTeu2Nui/\",\"dtype\":\"float64\",\"order\":\"little\",\"shape\":[6]},{\"__ndarray__\":\"AAAAAAAA8D/Vd+Op78bTPwAAAAAAAPh/l5bFXLyP1D/Vd+Op78bTP+3evi5XpNY/\",\"dtype\":\"float64\",\"order\":\"little\",\"shape\":[6]}],\"ys\":[{\"__ndarray__\":\"AAAAAAAAAAAYhzcvDm/uPwAAAAAAAPh/px75CleO7T8YhzcvDm/uP7nB1ynczOw/\",\"dtype\":\"float64\",\"order\":\"little\",\"shape\":[6]},{\"__ndarray__\":\"AAAAAAAAAACFkWcJI8/iPwAAAAAAAPh/1DMqZOHw4j+FkWcJI8/iP1TzvL7St+E/\",\"dtype\":\"float64\",\"order\":\"little\",\"shape\":[6]},{\"__ndarray__\":\"AAAAAAAAAACVkWcpI8/ivwAAAAAAAPh/vk3k3dK34b+VkWcpI8/iv9crDoPh8OK/\",\"dtype\":\"float64\",\"order\":\"little\",\"shape\":[6]},{\"__ndarray__\":\"AAAAAAAAAAAIhzcPDm/uvwAAAAAAAPh/hThdCdzM7L8IhzcPDm/uv1WROelWju2/\",\"dtype\":\"float64\",\"order\":\"little\",\"shape\":[6]}]},\"selected\":{\"id\":\"2074\"},\"selection_policy\":{\"id\":\"2073\"}},\"id\":\"2009\",\"type\":\"ColumnDataSource\"},{\"attributes\":{\"end\":1.1412678760668002,\"reset_end\":1.1412678760668002,\"reset_start\":-1.1412678164621537,\"start\":-1.1412678164621537,\"tags\":[[[\"y\",\"y\",null]]]},\"id\":\"1967\",\"type\":\"Range1d\"},{\"attributes\":{\"line_color\":{\"value\":\"limegreen\"},\"line_width\":{\"value\":2}},\"id\":\"2020\",\"type\":\"MultiLine\"},{\"attributes\":{},\"id\":\"2035\",\"type\":\"NodesAndLinkedEdges\"},{\"attributes\":{\"fill_color\":{\"field\":\"node_color\",\"transform\":{\"id\":\"2007\"}},\"hatch_color\":{\"field\":\"node_color\",\"transform\":{\"id\":\"2007\"}},\"size\":{\"value\":10}},\"id\":\"2013\",\"type\":\"Circle\"},{\"attributes\":{},\"id\":\"2003\",\"type\":\"AllLabels\"},{\"attributes\":{},\"id\":\"2005\",\"type\":\"BasicTickFormatter\"},{\"attributes\":{\"coordinates\":null,\"group\":null,\"text_color\":\"black\",\"text_font_size\":\"12pt\"},\"id\":\"1970\",\"type\":\"Title\"},{\"attributes\":{\"coordinates\":null,\"edge_renderer\":{\"id\":\"2022\"},\"group\":null,\"inspection_policy\":{\"id\":\"2035\"},\"layout_provider\":{\"id\":\"2010\"},\"node_renderer\":{\"id\":\"2016\"},\"selection_policy\":{\"id\":\"2033\"}},\"id\":\"2024\",\"type\":\"GraphRenderer\"},{\"attributes\":{},\"id\":\"1979\",\"type\":\"BasicTicker\"},{\"attributes\":{},\"id\":\"2071\",\"type\":\"UnionRenderers\"}],\"root_ids\":[\"1964\"]},\"title\":\"Bokeh Application\",\"version\":\"2.4.3\"}}\n",
       "        </script>\n",
       "        <script type=\"text/javascript\">\n",
       "          (function() {\n",
       "            const fn = function() {\n",
       "              Bokeh.safely(function() {\n",
       "                (function(root) {\n",
       "                  function embed_document(root) {\n",
       "                  const docs_json = document.getElementById('2205').textContent;\n",
       "                  const render_items = [{\"docid\":\"6da15d87-0ab6-4eee-8e66-0fe56367764c\",\"root_ids\":[\"1964\"],\"roots\":{\"1964\":\"b86a1c8a-a5bd-4d7d-a323-f1098723982a\"}}];\n",
       "                  root.Bokeh.embed.embed_items(docs_json, render_items);\n",
       "                  }\n",
       "                  if (root.Bokeh !== undefined) {\n",
       "                    embed_document(root);\n",
       "                  } else {\n",
       "                    let attempts = 0;\n",
       "                    const timer = setInterval(function(root) {\n",
       "                      if (root.Bokeh !== undefined) {\n",
       "                        clearInterval(timer);\n",
       "                        embed_document(root);\n",
       "                      } else {\n",
       "                        attempts++;\n",
       "                        if (attempts > 100) {\n",
       "                          clearInterval(timer);\n",
       "                          console.log(\"Bokeh: ERROR: Unable to run BokehJS code because BokehJS library is missing\");\n",
       "                        }\n",
       "                      }\n",
       "                    }, 10, root)\n",
       "                  }\n",
       "                })(window);\n",
       "              });\n",
       "            };\n",
       "            if (document.readyState != \"loading\") fn();\n",
       "            else document.addEventListener(\"DOMContentLoaded\", fn);\n",
       "          })();\n",
       "        </script>\n",
       "  </body>\n",
       "</html>"
      ],
      "text/plain": [
       "<IPython.core.display.HTML object>"
      ]
     },
     "execution_count": 63,
     "metadata": {},
     "output_type": "execute_result"
    }
   ],
   "source": [
    "labels_2 = hv.Labels(im.nodes, ['x', 'y'], 'item_subtype').opts(opts.Labels(text_font_size='8pt', xoffset=0, yoffset=-0.05, bgcolor='white'))\n",
    "hv_graph = (im * labels * labels_2)\n",
    "\n",
    "hv.save(hv_graph, 'lineage_network.html', backend='bokeh')\n",
    "\n",
    "HTML('lineage_network.html')"
   ]
  },
  {
   "cell_type": "code",
   "execution_count": null,
   "metadata": {},
   "outputs": [],
   "source": []
  },
  {
   "cell_type": "markdown",
   "metadata": {},
   "source": [
    "### Explore Downstream Provence\n",
    "Lets explore forward downstream from the generated model definition defined above.  We will limit it to a depth of one, so only the directly linked elements\n",
    "\n",
    "[Return to Top](#toc)"
   ]
  },
  {
   "cell_type": "code",
   "execution_count": 64,
   "metadata": {},
   "outputs": [
    {
     "name": "stdout",
     "output_type": "stream",
     "text": [
      "Token validation failed due to error: Signature has expired.\n",
      "Refreshing using refresh token\n",
      "\n"
     ]
    }
   ],
   "source": [
    "auth = token_manager.get_auth\n",
    "postfix = \"/explore/downstream\"\n",
    "params = {\n",
    "    #\"starting_id\": \"10378.1/1691197\",\n",
    "    \"starting_id\": model_run_id,\n",
    "    \"depth\": 1\n",
    "}\n",
    "endpoint = prov_api + postfix \n",
    "\n",
    "response_json = handle_request('GET', endpoint, params, None, auth())\n"
   ]
  },
  {
   "cell_type": "code",
   "execution_count": 24,
   "metadata": {},
   "outputs": [
    {
     "name": "stdout",
     "output_type": "stream",
     "text": [
      "{'status': {'success': True, 'details': 'Made downstream query (with depth 1) to neo4j backend.'}, 'record_count': 0, 'graph': {'directed': True, 'multigraph': False, 'graph': {}, 'nodes': [], 'links': []}}\n"
     ]
    }
   ],
   "source": [
    "print(response_json)"
   ]
  },
  {
   "cell_type": "code",
   "execution_count": 65,
   "metadata": {},
   "outputs": [
    {
     "data": {
      "text/html": [
       "\n",
       "\n",
       "<!DOCTYPE html>\n",
       "<html lang=\"en\">\n",
       "  <head>\n",
       "      <meta charset=\"utf-8\">\n",
       "      <title>network</title>\n",
       "              <link rel=\"stylesheet\" href=\"https://cdn.holoviz.org/panel/0.14.1/dist/css/loading.css\" type=\"text/css\" />\n",
       "            <link rel=\"stylesheet\" href=\"https://cdn.holoviz.org/panel/0.14.1/dist/css/debugger.css\" type=\"text/css\" />\n",
       "            <link rel=\"stylesheet\" href=\"https://cdn.holoviz.org/panel/0.14.1/dist/css/json.css\" type=\"text/css\" />\n",
       "            <link rel=\"stylesheet\" href=\"https://cdn.holoviz.org/panel/0.14.1/dist/css/alerts.css\" type=\"text/css\" />\n",
       "            <link rel=\"stylesheet\" href=\"https://cdn.holoviz.org/panel/0.14.1/dist/css/dataframe.css\" type=\"text/css\" />\n",
       "            <link rel=\"stylesheet\" href=\"https://cdn.holoviz.org/panel/0.14.1/dist/css/card.css\" type=\"text/css\" />\n",
       "            <link rel=\"stylesheet\" href=\"https://cdn.holoviz.org/panel/0.14.1/dist/css/widgets.css\" type=\"text/css\" />\n",
       "            <link rel=\"stylesheet\" href=\"https://cdn.holoviz.org/panel/0.14.1/dist/css/markdown.css\" type=\"text/css\" />\n",
       "            <style>\n",
       "                \n",
       "            .bk.pn-loading.arc:before {\n",
       "              background-image: url(\"data:image/svg+xml;base64,PHN2ZyB4bWxucz0iaHR0cDovL3d3dy53My5vcmcvMjAwMC9zdmciIHN0eWxlPSJtYXJnaW46IGF1dG87IGJhY2tncm91bmQ6IG5vbmU7IGRpc3BsYXk6IGJsb2NrOyBzaGFwZS1yZW5kZXJpbmc6IGF1dG87IiB2aWV3Qm94PSIwIDAgMTAwIDEwMCIgcHJlc2VydmVBc3BlY3RSYXRpbz0ieE1pZFlNaWQiPiAgPGNpcmNsZSBjeD0iNTAiIGN5PSI1MCIgZmlsbD0ibm9uZSIgc3Ryb2tlPSIjYzNjM2MzIiBzdHJva2Utd2lkdGg9IjEwIiByPSIzNSIgc3Ryb2tlLWRhc2hhcnJheT0iMTY0LjkzMzYxNDMxMzQ2NDE1IDU2Ljk3Nzg3MTQzNzgyMTM4Ij4gICAgPGFuaW1hdGVUcmFuc2Zvcm0gYXR0cmlidXRlTmFtZT0idHJhbnNmb3JtIiB0eXBlPSJyb3RhdGUiIHJlcGVhdENvdW50PSJpbmRlZmluaXRlIiBkdXI9IjFzIiB2YWx1ZXM9IjAgNTAgNTA7MzYwIDUwIDUwIiBrZXlUaW1lcz0iMDsxIj48L2FuaW1hdGVUcmFuc2Zvcm0+ICA8L2NpcmNsZT48L3N2Zz4=\");\n",
       "              background-size: auto calc(min(50%, 400px));\n",
       "            }\n",
       "            \n",
       "            </style>\n",
       "\n",
       "          <script type=\"text/javascript\" src=\"https://cdn.bokeh.org/bokeh/release/bokeh-2.4.3.min.js\"></script><script type=\"text/javascript\" src=\"https://cdn.bokeh.org/bokeh/release/bokeh-gl-2.4.3.min.js\"></script><script type=\"text/javascript\" src=\"https://cdn.bokeh.org/bokeh/release/bokeh-widgets-2.4.3.min.js\"></script><script type=\"text/javascript\" src=\"https://cdn.bokeh.org/bokeh/release/bokeh-tables-2.4.3.min.js\"></script><script type=\"text/javascript\" src=\"https://cdn.holoviz.org/panel/0.14.1/dist/panel.min.js\"></script><script type=\"text/javascript\">\n",
       "            Bokeh.set_log_level(\"info\");\n",
       "        </script>\n",
       "  </head>\n",
       "  <body>\n",
       "          \n",
       "              <div class=\"bk-root\" id=\"3f9b85e6-1c9f-4b54-a465-e8acd6e0a3e9\" data-root-id=\"2206\"></div>\n",
       "      \n",
       "        <script type=\"application/json\" id=\"2447\">\n",
       "          {\"990e828d-a2c4-4b7c-b5c1-5940816af5ec\":{\"defs\":[{\"extends\":null,\"module\":null,\"name\":\"ReactiveHTML1\",\"overrides\":[],\"properties\":[]},{\"extends\":null,\"module\":null,\"name\":\"FlexBox1\",\"overrides\":[],\"properties\":[{\"default\":\"flex-start\",\"kind\":null,\"name\":\"align_content\"},{\"default\":\"flex-start\",\"kind\":null,\"name\":\"align_items\"},{\"default\":\"row\",\"kind\":null,\"name\":\"flex_direction\"},{\"default\":\"wrap\",\"kind\":null,\"name\":\"flex_wrap\"},{\"default\":\"flex-start\",\"kind\":null,\"name\":\"justify_content\"}]},{\"extends\":null,\"module\":null,\"name\":\"GridStack1\",\"overrides\":[],\"properties\":[{\"default\":\"warn\",\"kind\":null,\"name\":\"mode\"},{\"default\":null,\"kind\":null,\"name\":\"ncols\"},{\"default\":null,\"kind\":null,\"name\":\"nrows\"},{\"default\":true,\"kind\":null,\"name\":\"allow_resize\"},{\"default\":true,\"kind\":null,\"name\":\"allow_drag\"},{\"default\":[],\"kind\":null,\"name\":\"state\"}]},{\"extends\":null,\"module\":null,\"name\":\"click1\",\"overrides\":[],\"properties\":[{\"default\":\"\",\"kind\":null,\"name\":\"terminal_output\"},{\"default\":\"\",\"kind\":null,\"name\":\"debug_name\"},{\"default\":0,\"kind\":null,\"name\":\"clears\"}]},{\"extends\":null,\"module\":null,\"name\":\"NotificationAreaBase1\",\"overrides\":[],\"properties\":[{\"default\":\"bottom-right\",\"kind\":null,\"name\":\"position\"},{\"default\":0,\"kind\":null,\"name\":\"_clear\"}]},{\"extends\":null,\"module\":null,\"name\":\"NotificationArea1\",\"overrides\":[],\"properties\":[{\"default\":[],\"kind\":null,\"name\":\"notifications\"},{\"default\":\"bottom-right\",\"kind\":null,\"name\":\"position\"},{\"default\":0,\"kind\":null,\"name\":\"_clear\"},{\"default\":[{\"background\":\"#ffc107\",\"icon\":{\"className\":\"fas fa-exclamation-triangle\",\"color\":\"white\",\"tagName\":\"i\"},\"type\":\"warning\"},{\"background\":\"#007bff\",\"icon\":{\"className\":\"fas fa-info-circle\",\"color\":\"white\",\"tagName\":\"i\"},\"type\":\"info\"}],\"kind\":null,\"name\":\"types\"}]},{\"extends\":null,\"module\":null,\"name\":\"Notification\",\"overrides\":[],\"properties\":[{\"default\":null,\"kind\":null,\"name\":\"background\"},{\"default\":3000,\"kind\":null,\"name\":\"duration\"},{\"default\":null,\"kind\":null,\"name\":\"icon\"},{\"default\":\"\",\"kind\":null,\"name\":\"message\"},{\"default\":null,\"kind\":null,\"name\":\"notification_type\"},{\"default\":false,\"kind\":null,\"name\":\"_destroyed\"}]},{\"extends\":null,\"module\":null,\"name\":\"TemplateActions1\",\"overrides\":[],\"properties\":[{\"default\":0,\"kind\":null,\"name\":\"open_modal\"},{\"default\":0,\"kind\":null,\"name\":\"close_modal\"}]},{\"extends\":null,\"module\":null,\"name\":\"MaterialTemplateActions1\",\"overrides\":[],\"properties\":[{\"default\":0,\"kind\":null,\"name\":\"open_modal\"},{\"default\":0,\"kind\":null,\"name\":\"close_modal\"}]}],\"roots\":{\"references\":[{\"attributes\":{},\"id\":\"2275\",\"type\":\"NodesAndLinkedEdges\"},{\"attributes\":{\"fill_alpha\":{\"value\":0.2},\"fill_color\":{\"field\":\"node_color\",\"transform\":{\"id\":\"2249\"}},\"hatch_alpha\":{\"value\":0.2},\"hatch_color\":{\"field\":\"node_color\",\"transform\":{\"id\":\"2249\"}},\"line_alpha\":{\"value\":0.2},\"size\":{\"value\":10}},\"id\":\"2257\",\"type\":\"Circle\"},{\"attributes\":{},\"id\":\"2245\",\"type\":\"AllLabels\"},{\"attributes\":{\"range\":null},\"id\":\"2290\",\"type\":\"Dodge\"},{\"attributes\":{},\"id\":\"2277\",\"type\":\"NodesAndLinkedEdges\"},{\"attributes\":{},\"id\":\"2218\",\"type\":\"LinearScale\"},{\"attributes\":{\"range\":null,\"value\":-0.05},\"id\":\"2291\",\"type\":\"Dodge\"},{\"attributes\":{\"coordinates\":null,\"group\":null,\"text_color\":\"black\",\"text_font_size\":\"12pt\"},\"id\":\"2212\",\"type\":\"Title\"},{\"attributes\":{\"text\":{\"field\":\"index\"},\"text_align\":{\"value\":\"center\"},\"text_alpha\":{\"value\":0.1},\"text_baseline\":{\"value\":\"middle\"},\"text_color\":{\"value\":\"black\"},\"text_font_size\":{\"value\":\"8pt\"},\"x\":{\"field\":\"x\",\"transform\":{\"id\":\"2290\"}},\"y\":{\"field\":\"y\",\"transform\":{\"id\":\"2291\"}}},\"id\":\"2296\",\"type\":\"Text\"},{\"attributes\":{\"axis\":{\"id\":\"2220\"},\"coordinates\":null,\"grid_line_color\":null,\"group\":null,\"ticker\":null},\"id\":\"2223\",\"type\":\"Grid\"},{\"attributes\":{},\"id\":\"2221\",\"type\":\"BasicTicker\"},{\"attributes\":{\"axis_label\":\"x\",\"coordinates\":null,\"formatter\":{\"id\":\"2244\"},\"group\":null,\"major_label_policy\":{\"id\":\"2245\"},\"ticker\":{\"id\":\"2221\"}},\"id\":\"2220\",\"type\":\"LinearAxis\"},{\"attributes\":{},\"id\":\"2229\",\"type\":\"PanTool\"},{\"attributes\":{\"margin\":[5,5,5,5],\"name\":\"HSpacer02844\",\"sizing_mode\":\"stretch_width\"},\"id\":\"2317\",\"type\":\"Spacer\"},{\"attributes\":{\"margin\":[5,5,5,5],\"name\":\"HSpacer02843\",\"sizing_mode\":\"stretch_width\"},\"id\":\"2207\",\"type\":\"Spacer\"},{\"attributes\":{\"text\":{\"field\":\"index\"},\"text_align\":{\"value\":\"center\"},\"text_baseline\":{\"value\":\"middle\"},\"text_color\":{\"value\":\"black\"},\"text_font_size\":{\"value\":\"8pt\"},\"x\":{\"field\":\"x\",\"transform\":{\"id\":\"2290\"}},\"y\":{\"field\":\"y\",\"transform\":{\"id\":\"2291\"}}},\"id\":\"2295\",\"type\":\"Text\"},{\"attributes\":{\"axis_label\":\"y\",\"coordinates\":null,\"formatter\":{\"id\":\"2247\"},\"group\":null,\"major_label_policy\":{\"id\":\"2248\"},\"ticker\":{\"id\":\"2225\"}},\"id\":\"2224\",\"type\":\"LinearAxis\"},{\"attributes\":{\"data\":{\"index\":[\"10378.1/1691958\",\"10378.1/1695727\"],\"x\":{\"__ndarray__\":\"gsD0k92lvT+CwPST3aW9vw==\",\"dtype\":\"float64\",\"order\":\"little\",\"shape\":[2]},\"y\":{\"__ndarray__\":\"AAAAAAAA8D8AAAAAAADwvw==\",\"dtype\":\"float64\",\"order\":\"little\",\"shape\":[2]}},\"selected\":{\"id\":\"2293\"},\"selection_policy\":{\"id\":\"2310\"}},\"id\":\"2292\",\"type\":\"ColumnDataSource\"},{\"attributes\":{\"children\":[{\"id\":\"2207\"},{\"id\":\"2211\"},{\"id\":\"2317\"}],\"margin\":[0,0,0,0],\"name\":\"Row02839\",\"tags\":[\"embedded\"]},\"id\":\"2206\",\"type\":\"Row\"},{\"attributes\":{\"axis\":{\"id\":\"2224\"},\"coordinates\":null,\"dimension\":1,\"grid_line_color\":null,\"group\":null,\"ticker\":null},\"id\":\"2227\",\"type\":\"Grid\"},{\"attributes\":{\"callback\":null,\"renderers\":[{\"id\":\"2266\"}],\"tags\":[\"hv_created\"],\"tooltips\":[[\"index\",\"@{index_hover}\"],[\"item_category\",\"@{item_category}\"],[\"item_subtype\",\"@{item_subtype}\"]]},\"id\":\"2210\",\"type\":\"HoverTool\"},{\"attributes\":{},\"id\":\"2310\",\"type\":\"UnionRenderers\"},{\"attributes\":{},\"id\":\"2225\",\"type\":\"BasicTicker\"},{\"attributes\":{\"angle\":{\"value\":0},\"text\":{\"field\":\"index\"},\"text_align\":{\"value\":\"center\"},\"text_alpha\":{\"value\":1.0},\"text_baseline\":{\"value\":\"middle\"},\"text_color\":{\"value\":\"black\"},\"text_font_size\":{\"value\":\"8pt\"},\"text_font_style\":{\"value\":\"normal\"},\"text_line_height\":{\"value\":1.2},\"x\":{\"field\":\"x\",\"transform\":{\"id\":\"2290\"}},\"x_offset\":{\"value\":0},\"y\":{\"field\":\"y\",\"transform\":{\"id\":\"2291\"}},\"y_offset\":{\"value\":0}},\"id\":\"2300\",\"type\":\"Text\"},{\"attributes\":{},\"id\":\"2230\",\"type\":\"WheelZoomTool\"},{\"attributes\":{},\"id\":\"2228\",\"type\":\"SaveTool\"},{\"attributes\":{\"overlay\":{\"id\":\"2234\"}},\"id\":\"2231\",\"type\":\"BoxZoomTool\"},{\"attributes\":{},\"id\":\"2232\",\"type\":\"ResetTool\"},{\"attributes\":{\"callback\":null},\"id\":\"2233\",\"type\":\"TapTool\"},{\"attributes\":{\"source\":{\"id\":\"2250\"}},\"id\":\"2259\",\"type\":\"CDSView\"},{\"attributes\":{\"bottom_units\":\"screen\",\"coordinates\":null,\"fill_alpha\":0.5,\"fill_color\":\"lightgrey\",\"group\":null,\"left_units\":\"screen\",\"level\":\"overlay\",\"line_alpha\":1.0,\"line_color\":\"black\",\"line_dash\":[4,4],\"line_width\":2,\"right_units\":\"screen\",\"syncable\":false,\"top_units\":\"screen\"},\"id\":\"2234\",\"type\":\"BoxAnnotation\"},{\"attributes\":{\"fill_color\":{\"field\":\"node_color\",\"transform\":{\"id\":\"2249\"}},\"hatch_color\":{\"field\":\"node_color\",\"transform\":{\"id\":\"2249\"}},\"size\":{\"value\":10}},\"id\":\"2253\",\"type\":\"Circle\"},{\"attributes\":{\"text\":{\"field\":\"index\"},\"text_align\":{\"value\":\"center\"},\"text_alpha\":{\"value\":0.2},\"text_baseline\":{\"value\":\"middle\"},\"text_color\":{\"value\":\"blue\"},\"text_font_size\":{\"value\":\"12pt\"},\"x\":{\"field\":\"x\",\"transform\":{\"id\":\"2279\"}},\"y\":{\"field\":\"y\",\"transform\":{\"id\":\"2280\"}}},\"id\":\"2286\",\"type\":\"Text\"},{\"attributes\":{\"tools\":[{\"id\":\"2210\"},{\"id\":\"2228\"},{\"id\":\"2229\"},{\"id\":\"2230\"},{\"id\":\"2231\"},{\"id\":\"2232\"},{\"id\":\"2233\"}]},\"id\":\"2235\",\"type\":\"Toolbar\"},{\"attributes\":{},\"id\":\"2244\",\"type\":\"BasicTickFormatter\"},{\"attributes\":{},\"id\":\"2313\",\"type\":\"UnionRenderers\"},{\"attributes\":{\"end\":1.2,\"reset_end\":1.2,\"reset_start\":-1.2,\"start\":-1.2,\"tags\":[[[\"y\",\"y\",null]]]},\"id\":\"2209\",\"type\":\"Range1d\"},{\"attributes\":{},\"id\":\"2247\",\"type\":\"BasicTickFormatter\"},{\"attributes\":{},\"id\":\"2282\",\"type\":\"Selection\"},{\"attributes\":{},\"id\":\"2314\",\"type\":\"Selection\"},{\"attributes\":{},\"id\":\"2248\",\"type\":\"AllLabels\"},{\"attributes\":{\"coordinates\":null,\"data_source\":{\"id\":\"2281\"},\"glyph\":{\"id\":\"2284\"},\"group\":null,\"hover_glyph\":null,\"muted_glyph\":{\"id\":\"2286\"},\"nonselection_glyph\":{\"id\":\"2285\"},\"selection_glyph\":{\"id\":\"2289\"},\"view\":{\"id\":\"2288\"}},\"id\":\"2287\",\"type\":\"GlyphRenderer\"},{\"attributes\":{\"coordinates\":null,\"data_source\":{\"id\":\"2250\"},\"glyph\":{\"id\":\"2253\"},\"group\":null,\"hover_glyph\":{\"id\":\"2256\"},\"muted_glyph\":{\"id\":\"2257\"},\"nonselection_glyph\":{\"id\":\"2254\"},\"selection_glyph\":{\"id\":\"2255\"},\"view\":{\"id\":\"2259\"}},\"id\":\"2258\",\"type\":\"GlyphRenderer\"},{\"attributes\":{\"source\":{\"id\":\"2281\"}},\"id\":\"2288\",\"type\":\"CDSView\"},{\"attributes\":{\"graph_layout\":{\"0\":[0.11581215727051311,1.0],\"1\":[-0.11581215727051311,-1.0]}},\"id\":\"2252\",\"type\":\"StaticLayoutProvider\"},{\"attributes\":{\"source\":{\"id\":\"2292\"}},\"id\":\"2299\",\"type\":\"CDSView\"},{\"attributes\":{\"text\":{\"field\":\"index\"},\"text_align\":{\"value\":\"center\"},\"text_baseline\":{\"value\":\"middle\"},\"text_color\":{\"value\":\"blue\"},\"text_font_size\":{\"value\":\"12pt\"},\"x\":{\"field\":\"x\",\"transform\":{\"id\":\"2279\"}},\"y\":{\"field\":\"y\",\"transform\":{\"id\":\"2280\"}}},\"id\":\"2284\",\"type\":\"Text\"},{\"attributes\":{},\"id\":\"2293\",\"type\":\"Selection\"},{\"attributes\":{\"fill_color\":{\"value\":\"limegreen\"},\"hatch_color\":{\"field\":\"node_color\",\"transform\":{\"id\":\"2249\"}},\"size\":{\"value\":10}},\"id\":\"2256\",\"type\":\"Circle\"},{\"attributes\":{\"fill_alpha\":{\"value\":0.2},\"fill_color\":{\"field\":\"node_color\",\"transform\":{\"id\":\"2249\"}},\"hatch_alpha\":{\"value\":0.2},\"hatch_color\":{\"field\":\"node_color\",\"transform\":{\"id\":\"2249\"}},\"line_alpha\":{\"value\":0.2},\"size\":{\"value\":10}},\"id\":\"2254\",\"type\":\"Circle\"},{\"attributes\":{\"angle\":{\"value\":0},\"text\":{\"field\":\"index\"},\"text_align\":{\"value\":\"center\"},\"text_alpha\":{\"value\":1.0},\"text_baseline\":{\"value\":\"middle\"},\"text_color\":{\"value\":\"blue\"},\"text_font_size\":{\"value\":\"12pt\"},\"text_font_style\":{\"value\":\"normal\"},\"text_line_height\":{\"value\":1.2},\"x\":{\"field\":\"x\",\"transform\":{\"id\":\"2279\"}},\"x_offset\":{\"value\":0},\"y\":{\"field\":\"y\",\"transform\":{\"id\":\"2280\"}},\"y_offset\":{\"value\":0}},\"id\":\"2289\",\"type\":\"Text\"},{\"attributes\":{\"coordinates\":null,\"edge_renderer\":{\"id\":\"2264\"},\"group\":null,\"inspection_policy\":{\"id\":\"2277\"},\"layout_provider\":{\"id\":\"2252\"},\"node_renderer\":{\"id\":\"2258\"},\"selection_policy\":{\"id\":\"2275\"}},\"id\":\"2266\",\"type\":\"GraphRenderer\"},{\"attributes\":{\"data\":{\"end\":{\"__ndarray__\":\"AQAAAA==\",\"dtype\":\"int32\",\"order\":\"little\",\"shape\":[1]},\"start\":{\"__ndarray__\":\"AAAAAA==\",\"dtype\":\"int32\",\"order\":\"little\",\"shape\":[1]},\"xs\":[{\"__ndarray__\":\"gsD0k92lvT+CwPST3aW9vwAAAAAAAPh/hp+3+kc8wL+CwPST3aW9v6bVS/Myori/\",\"dtype\":\"float64\",\"order\":\"little\",\"shape\":[6]}],\"ys\":[{\"__ndarray__\":\"AAAAAAAA8D8AAAAAAADwvwAAAAAAAPh/aE5glr3C7r8AAAAAAADwv+8W2SXJ3+6/\",\"dtype\":\"float64\",\"order\":\"little\",\"shape\":[6]}]},\"selected\":{\"id\":\"2316\"},\"selection_policy\":{\"id\":\"2315\"}},\"id\":\"2251\",\"type\":\"ColumnDataSource\"},{\"attributes\":{\"fill_color\":{\"field\":\"node_color\",\"transform\":{\"id\":\"2249\"}},\"hatch_color\":{\"field\":\"node_color\",\"transform\":{\"id\":\"2249\"}},\"size\":{\"value\":10}},\"id\":\"2255\",\"type\":\"Circle\"},{\"attributes\":{\"range\":null},\"id\":\"2279\",\"type\":\"Dodge\"},{\"attributes\":{\"background_fill_color\":\"pink\",\"below\":[{\"id\":\"2220\"}],\"center\":[{\"id\":\"2223\"},{\"id\":\"2227\"}],\"left\":[{\"id\":\"2224\"}],\"margin\":[5,5,5,5],\"min_border_bottom\":10,\"min_border_left\":10,\"min_border_right\":10,\"min_border_top\":10,\"renderers\":[{\"id\":\"2266\"},{\"id\":\"2287\"},{\"id\":\"2298\"}],\"sizing_mode\":\"fixed\",\"title\":{\"id\":\"2212\"},\"toolbar\":{\"id\":\"2235\"},\"width\":800,\"x_range\":{\"id\":\"2208\"},\"x_scale\":{\"id\":\"2216\"},\"y_range\":{\"id\":\"2209\"},\"y_scale\":{\"id\":\"2218\"}},\"id\":\"2211\",\"subtype\":\"Figure\",\"type\":\"Plot\"},{\"attributes\":{\"data\":{\"index\":[\"10378.1/1691958\",\"10378.1/1695727\"],\"x\":{\"__ndarray__\":\"gsD0k92lvT+CwPST3aW9vw==\",\"dtype\":\"float64\",\"order\":\"little\",\"shape\":[2]},\"y\":{\"__ndarray__\":\"AAAAAAAA8D8AAAAAAADwvw==\",\"dtype\":\"float64\",\"order\":\"little\",\"shape\":[2]}},\"selected\":{\"id\":\"2282\"},\"selection_policy\":{\"id\":\"2308\"}},\"id\":\"2281\",\"type\":\"ColumnDataSource\"},{\"attributes\":{\"text\":{\"field\":\"index\"},\"text_align\":{\"value\":\"center\"},\"text_alpha\":{\"value\":0.1},\"text_baseline\":{\"value\":\"middle\"},\"text_color\":{\"value\":\"blue\"},\"text_font_size\":{\"value\":\"12pt\"},\"x\":{\"field\":\"x\",\"transform\":{\"id\":\"2279\"}},\"y\":{\"field\":\"y\",\"transform\":{\"id\":\"2280\"}}},\"id\":\"2285\",\"type\":\"Text\"},{\"attributes\":{\"line_width\":{\"value\":2}},\"id\":\"2260\",\"type\":\"MultiLine\"},{\"attributes\":{},\"id\":\"2315\",\"type\":\"UnionRenderers\"},{\"attributes\":{},\"id\":\"2316\",\"type\":\"Selection\"},{\"attributes\":{\"source\":{\"id\":\"2251\"}},\"id\":\"2265\",\"type\":\"CDSView\"},{\"attributes\":{\"line_alpha\":{\"value\":0.2},\"line_width\":{\"value\":2}},\"id\":\"2263\",\"type\":\"MultiLine\"},{\"attributes\":{\"line_color\":{\"value\":\"limegreen\"},\"line_width\":{\"value\":2}},\"id\":\"2262\",\"type\":\"MultiLine\"},{\"attributes\":{},\"id\":\"2216\",\"type\":\"LinearScale\"},{\"attributes\":{\"data\":{\"index\":{\"__ndarray__\":\"AAAAAAEAAAA=\",\"dtype\":\"int32\",\"order\":\"little\",\"shape\":[2]},\"index_hover\":[\"10378.1/1691958\",\"10378.1/1695727\"],\"item_category\":[\"ENTITY\",\"ACTIVITY\"],\"item_subtype\":[\"DATASET\",\"MODEL_RUN\"],\"node_color\":[\"ENTITY\",\"ACTIVITY\"]},\"selected\":{\"id\":\"2314\"},\"selection_policy\":{\"id\":\"2313\"}},\"id\":\"2250\",\"type\":\"ColumnDataSource\"},{\"attributes\":{\"end\":0.13318398086109007,\"reset_end\":0.13318398086109007,\"reset_start\":-0.13318398086109007,\"start\":-0.13318398086109007,\"tags\":[[[\"x\",\"x\",null]]]},\"id\":\"2208\",\"type\":\"Range1d\"},{\"attributes\":{\"factors\":[\"ENTITY\",\"ACTIVITY\"],\"palette\":[\"blue\",\"orange\"]},\"id\":\"2249\",\"type\":\"CategoricalColorMapper\"},{\"attributes\":{\"coordinates\":null,\"data_source\":{\"id\":\"2292\"},\"glyph\":{\"id\":\"2295\"},\"group\":null,\"hover_glyph\":null,\"muted_glyph\":{\"id\":\"2297\"},\"nonselection_glyph\":{\"id\":\"2296\"},\"selection_glyph\":{\"id\":\"2300\"},\"view\":{\"id\":\"2299\"}},\"id\":\"2298\",\"type\":\"GlyphRenderer\"},{\"attributes\":{\"coordinates\":null,\"data_source\":{\"id\":\"2251\"},\"glyph\":{\"id\":\"2260\"},\"group\":null,\"hover_glyph\":{\"id\":\"2262\"},\"muted_glyph\":{\"id\":\"2263\"},\"nonselection_glyph\":{\"id\":\"2261\"},\"view\":{\"id\":\"2265\"}},\"id\":\"2264\",\"type\":\"GlyphRenderer\"},{\"attributes\":{\"range\":null,\"value\":0.05},\"id\":\"2280\",\"type\":\"Dodge\"},{\"attributes\":{},\"id\":\"2308\",\"type\":\"UnionRenderers\"},{\"attributes\":{\"line_alpha\":{\"value\":0.2},\"line_width\":{\"value\":2}},\"id\":\"2261\",\"type\":\"MultiLine\"},{\"attributes\":{\"text\":{\"field\":\"index\"},\"text_align\":{\"value\":\"center\"},\"text_alpha\":{\"value\":0.2},\"text_baseline\":{\"value\":\"middle\"},\"text_color\":{\"value\":\"black\"},\"text_font_size\":{\"value\":\"8pt\"},\"x\":{\"field\":\"x\",\"transform\":{\"id\":\"2290\"}},\"y\":{\"field\":\"y\",\"transform\":{\"id\":\"2291\"}}},\"id\":\"2297\",\"type\":\"Text\"}],\"root_ids\":[\"2206\"]},\"title\":\"Bokeh Application\",\"version\":\"2.4.3\"}}\n",
       "        </script>\n",
       "        <script type=\"text/javascript\">\n",
       "          (function() {\n",
       "            const fn = function() {\n",
       "              Bokeh.safely(function() {\n",
       "                (function(root) {\n",
       "                  function embed_document(root) {\n",
       "                  const docs_json = document.getElementById('2447').textContent;\n",
       "                  const render_items = [{\"docid\":\"990e828d-a2c4-4b7c-b5c1-5940816af5ec\",\"root_ids\":[\"2206\"],\"roots\":{\"2206\":\"3f9b85e6-1c9f-4b54-a465-e8acd6e0a3e9\"}}];\n",
       "                  root.Bokeh.embed.embed_items(docs_json, render_items);\n",
       "                  }\n",
       "                  if (root.Bokeh !== undefined) {\n",
       "                    embed_document(root);\n",
       "                  } else {\n",
       "                    let attempts = 0;\n",
       "                    const timer = setInterval(function(root) {\n",
       "                      if (root.Bokeh !== undefined) {\n",
       "                        clearInterval(timer);\n",
       "                        embed_document(root);\n",
       "                      } else {\n",
       "                        attempts++;\n",
       "                        if (attempts > 100) {\n",
       "                          clearInterval(timer);\n",
       "                          console.log(\"Bokeh: ERROR: Unable to run BokehJS code because BokehJS library is missing\");\n",
       "                        }\n",
       "                      }\n",
       "                    }, 10, root)\n",
       "                  }\n",
       "                })(window);\n",
       "              });\n",
       "            };\n",
       "            if (document.readyState != \"loading\") fn();\n",
       "            else document.addEventListener(\"DOMContentLoaded\", fn);\n",
       "          })();\n",
       "        </script>\n",
       "  </body>\n",
       "</html>"
      ],
      "text/plain": [
       "<IPython.core.display.HTML object>"
      ]
     },
     "execution_count": 65,
     "metadata": {},
     "output_type": "execute_result"
    }
   ],
   "source": [
    "result_graph = response_json[\"graph\"]\n",
    "\n",
    "networkx_graph = json_graph.node_link_graph(result_graph)\n",
    "im = hv.Graph.from_networkx(networkx_graph, nx.layout.fruchterman_reingold_layout).opts(tools=['hover','tap'],\n",
    "                                                                          node_size=10,\n",
    "                                                                          node_color='item_category',\n",
    "                                                                          cmap = ['blue','orange', 'green', 'red'],\n",
    "                                                                          directed=True, \n",
    "                                                                          arrowhead_length=0.02,\n",
    "                                                                          bgcolor='pink')\n",
    "labels = hv.Labels(im.nodes, ['x', 'y'], 'index').opts(opts.Labels(text_font_size='12pt', text_color='blue', xoffset=0, yoffset=0.05, bgcolor='white'))\n",
    "labels_2 = hv.Labels(im.nodes, ['x', 'y'], 'index').opts(opts.Labels(text_font_size='8pt', xoffset=0, yoffset=-0.05, bgcolor='white'))\n",
    "hv_graph = (im * labels * labels_2)\n",
    "\n",
    "hv.save(hv_graph, 'network.html', backend='bokeh')\n",
    "\n",
    "HTML(\"network.html\")"
   ]
  },
  {
   "cell_type": "markdown",
   "metadata": {},
   "source": [
    "[Return to Top](#toc)"
   ]
  },
  {
   "cell_type": "markdown",
   "metadata": {},
   "source": []
  }
 ],
 "metadata": {
  "kernelspec": {
   "display_name": "Python 3.10.4 ('.venv': venv)",
   "language": "python",
   "name": "python3"
  },
  "language_info": {
   "codemirror_mode": {
    "name": "ipython",
    "version": 3
   },
   "file_extension": ".py",
   "mimetype": "text/x-python",
   "name": "python",
   "nbconvert_exporter": "python",
   "pygments_lexer": "ipython3",
   "version": "3.10.4"
  },
  "vscode": {
   "interpreter": {
    "hash": "3d1275a2fb951f0c374bcc16cfb7eb7840ea16246984712301e7ada442de4250"
   }
  }
 },
 "nbformat": 4,
 "nbformat_minor": 4
}
