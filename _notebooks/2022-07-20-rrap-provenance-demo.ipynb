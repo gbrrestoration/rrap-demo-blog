{
 "cells": [
  {
   "cell_type": "markdown",
   "metadata": {},
   "source": [
    "# RRAP-IS Provenance Demo Notebook\n",
    "\n",
    "> A tutorial of RRAP authentication using Jupyter notebooks.\n",
    "\n",
    "- toc: true \n",
    "- badges: true\n",
    "- comments: true\n",
    "- categories: [jupyter]"
   ]
  },
  {
   "cell_type": "markdown",
   "metadata": {},
   "source": [
    "## About\n",
    "\n",
    "This notebook is a demonstration of generating a record of a model run and searching the provenance database to identify linkages between data, models, users and organisations with the RRAP-IS system.  "
   ]
  },
  {
   "cell_type": "markdown",
   "metadata": {},
   "source": [
    "### Run all imports\n",
    "\n",
    "Keep all your imports at the top of a notebook.  It allows for easier management."
   ]
  },
  {
   "cell_type": "code",
   "execution_count": 12,
   "metadata": {},
   "outputs": [],
   "source": [
    "%%capture\n",
    "import requests\n",
    "import os\n",
    "import sys\n",
    "import json\n",
    "from json2html import *\n",
    "from bs4 import BeautifulSoup\n",
    "from IPython.display import IFrame, display, HTML, JSON, Markdown, Image\n",
    "from mdsisclienttools.auth.TokenManager import DeviceFlowManager\n",
    "from urllib.error import HTTPError\n",
    "import networkx as nx\n",
    "import nx_altair as nxa\n",
    "from networkx.readwrite import json_graph\n",
    "from enum import Enum\n",
    "from enum_switch import Switch\n",
    "\n",
    "import numpy as np\n",
    "import pandas as pd\n",
    "import holoviews as hv\n",
    "from holoviews import opts\n",
    "hv.extension('bokeh')\n",
    "defaults = dict(width=800, height=600)\n",
    "hv.opts.defaults(opts.EdgePaths(**defaults), opts.Graph(**defaults), opts.Nodes(**defaults))\n",
    "\n",
    "import warnings\n",
    "warnings.filterwarnings(action='once')"
   ]
  },
  {
   "cell_type": "markdown",
   "metadata": {},
   "source": [
    "### Define global variables\n",
    "\n",
    "Similar to import we like to define notebook variable at the top and reuse them throughout the notebook"
   ]
  },
  {
   "cell_type": "code",
   "execution_count": 13,
   "metadata": {},
   "outputs": [
    {
     "data": {
      "text/plain": [
       "'Checking base urls'"
      ]
     },
     "metadata": {},
     "output_type": "display_data"
    },
    {
     "name": "stdout",
     "output_type": "stream",
     "text": [
      "Testing - https://data-api.testing.rrap-is.com - Passed\n",
      "Testing - https://registry-api.testing.rrap-is.com - Passed\n",
      "Testing - https://prov-api.testing.rrap-is.com - Passed\n",
      "Testing - https://auth.dev.rrap-is.com/auth/realms/rrap - Passed\n"
     ]
    }
   ],
   "source": [
    "data_api = \"https://data-api.testing.rrap-is.com\"\n",
    "registry_api = \"https://registry-api.testing.rrap-is.com\"\n",
    "prov_api = \"https://prov-api.testing.rrap-is.com\"\n",
    "auth_server = \"https://auth.dev.rrap-is.com/auth/realms/rrap\"\n",
    "# garbage = \"https://frogs.are.green\"\n",
    "base_urls = {'data_api': data_api, 'registry_api': registry_api, 'prov_api': prov_api, 'auth_server': auth_server}#, 'garbage': garbage}\n",
    "display(f'Checking base urls')\n",
    "\n",
    "for key, url in base_urls.items():\n",
    "    try:\n",
    "        print(f'Testing - {url}', end=\"\")\n",
    "        r = requests.get(url)\n",
    "        r.raise_for_status()\n",
    "        print(f' - Passed')\n",
    "    except requests.exceptions.HTTPError as err:\n",
    "        print(f' - Fail')\n",
    "        raise SystemExit()\n",
    "    except requests.exceptions.RequestException as e:\n",
    "        # catastrophic error. bail.\n",
    "        print(f' - Fail')\n",
    "        raise SystemExit()"
   ]
  },
  {
   "cell_type": "markdown",
   "metadata": {},
   "source": [
    "## Authentication\n",
    "\n",
    "### Setup tokens using device authorisation flow against keycloak server\n",
    "\n",
    "This could result in a browser window being opened if you don't have valid tokens cached in local storage.\n",
    "\n",
    "[Return to Top](#toc)"
   ]
  },
  {
   "cell_type": "code",
   "execution_count": 14,
   "metadata": {},
   "outputs": [
    {
     "name": "stdout",
     "output_type": "stream",
     "text": [
      "Using storage type: FILE.\n",
      "Attempting to generate authorisation tokens.\n",
      "\n",
      "Looking for existing tokens in local storage.\n",
      "\n",
      "Validating found tokens\n",
      "\n",
      "Trying to use found tokens to refresh the access token.\n",
      "\n",
      "Tokens found in storage but they are not valid.\n",
      "\n",
      "Initiating device auth flow to setup offline access token.\n",
      "\n",
      "Decoding response\n",
      "\n",
      "Please authorise using the following endpoint.\n",
      "\n",
      "Verification URL: https://auth.dev.rrap-is.com/auth/realms/rrap/device?user_code=SGOQ-WXDI\n",
      "User Code: SGOQ-WXDI\n",
      "\n",
      "Awaiting completion\n",
      "\n",
      "\n",
      "Token generation complete. Authorisation successful.\n",
      "\n"
     ]
    },
    {
     "name": "stderr",
     "output_type": "stream",
     "text": [
      "/home/ross/repos/rrap-demo-blog/.venv/lib/python3.8/site-packages/mdsisclienttools/auth/TokenManager.py:407: ResourceWarning: unclosed <ssl.SSLSocket fd=68, family=AddressFamily.AF_INET, type=SocketKind.SOCK_STREAM, proto=6, laddr=('172.31.4.212', 60770), raddr=('54.206.189.78', 443)>\n",
      "  oauth_tokens = self.await_device_auth_flow_completion(\n"
     ]
    }
   ],
   "source": [
    "# this caches the tokens\n",
    "local_token_storage = \".tokens.json\"\n",
    "\n",
    "token_manager = DeviceFlowManager(\n",
    "    stage=\"TEST\",\n",
    "    keycloak_endpoint=auth_server,\n",
    "    local_storage_location=local_token_storage\n",
    ")"
   ]
  },
  {
   "cell_type": "markdown",
   "metadata": {},
   "source": [
    "## Helper functions and Classes\n",
    "\n",
    "[Return to Top](#toc)"
   ]
  },
  {
   "cell_type": "code",
   "execution_count": 15,
   "metadata": {},
   "outputs": [
    {
     "name": "stdout",
     "output_type": "stream",
     "text": [
      "ProvType.ENTITY\n",
      "ProvType.AGENT\n",
      "ProvType.AGENT\n",
      "ProvType.ACTIVITY\n",
      "ProvType.ENTITY\n",
      "ProvType.ENTITY\n"
     ]
    }
   ],
   "source": [
    "def wrap_html_table(data):\n",
    "    soup = BeautifulSoup(data)\n",
    "\n",
    "    ul_tag = soup.find(\"table\")\n",
    "    div_tag = soup.new_tag(\"div\")\n",
    "    div_tag['style'] = \"width: auto; height: 400px; overflow-y: auto; \"\n",
    "    ul_tag.wrap(div_tag)\n",
    "    new_tag = soup.new_tag(\"details\")\n",
    "    div_tag.wrap(new_tag)\n",
    "    \n",
    "    tag = soup.new_tag(\"summary\")\n",
    "    tag.string = \"Results\"\n",
    "    soup.div.insert_after(tag)\n",
    "\n",
    "    return soup.prettify()\n",
    "    \n",
    "def json_to_md(response_json):\n",
    "        json_obj_in_html = json2html.convert( response_json  )\n",
    "        return wrap_html_table(json_obj_in_html)\n",
    "    \n",
    "def handle_request(method, url, params=None, payload=None, auth=None):\n",
    "    try:\n",
    "        if params:\n",
    "            response = requests.request(method, url=url, params=params, auth=auth)\n",
    "        elif payload:\n",
    "            response = requests.request(method, url=url, json=payload, auth=auth)\n",
    "        else:\n",
    "            response = requests.request(method, url=url, auth=auth)\n",
    "        # If the response was successful, no Exception will be raised\n",
    "        response.raise_for_status()\n",
    "\n",
    "    except HTTPError as http_err:\n",
    "        print(f'HTTP error occurred: {http_err}')  # Python 3.6\n",
    "        return response.json()\n",
    "    except Exception as err:\n",
    "        print(f'Other error occurred: {err}')  # Python 3.6\n",
    "        return response.json()\n",
    "    else:\n",
    "        return response.json()\n",
    "\n",
    "\n",
    "class ProvType(Enum):\n",
    "    AGENT = 1\n",
    "    ACTIVITY = 2\n",
    "    ENTITY = 3\n",
    "\n",
    "class ItemType(Enum):\n",
    "    MODEL = 1\n",
    "    PERSON = 2\n",
    "    ORGANISATION = 3\n",
    "    MODELRUN = 4\n",
    "    MODEL_RUN_WORKFLOW = 5\n",
    "    DATASET_TEMPLATE = 6\n",
    "\n",
    "class ProvTypeFromItemType(Switch):\n",
    "    def MODEL(self):\n",
    "        return ProvType.ENTITY\n",
    "\n",
    "    def PERSON(self):\n",
    "        return ProvType.AGENT    \n",
    "\n",
    "    def ORGANISATION(self):\n",
    "        return ProvType.AGENT    \n",
    "\n",
    "    def MODELRUN(self):\n",
    "        return ProvType.ACTIVITY\n",
    "\n",
    "    def MODEL_RUN_WORKFLOW(self):\n",
    "        return ProvType.ENTITY\n",
    "    \n",
    "    def DATASET_TEMPLATE(self):\n",
    "        return ProvType.ENTITY\n",
    "\n",
    "def register_item(payload, item_type, auth):\n",
    "    prov_type = prov_of_item(item_type)\n",
    "    postfix = f'/registry/{prov_type.name.lower()}/{item_type.name.lower()}/create'\n",
    "    endpoint = registry_api + postfix \n",
    "    return requests.post(endpoint, json=payload, auth=auth())\n",
    "\n",
    "prov_of_item = ProvTypeFromItemType(ItemType)\n",
    "provs = [print(prov_of_item(t)) for t in ItemType]        "
   ]
  },
  {
   "cell_type": "markdown",
   "metadata": {},
   "source": [
    "## Endpoint Documentation\n",
    "Endpoint documentation can be found by appending either `/docs` or `/redoc` on the end a base URL.\n",
    "\n",
    "For example:\n",
    "<ul>\n",
    "  <li><a href=\"https://prov-api.testing.rrap-is.com/redoc\" target=\"_blank\">Redoc FastAPI</a></li>\n",
    "  <li><a href=\"https://prov-api.testing.rrap-is.com/docs\" target=\"_blank\">Docs FastAPI</a> </li>\n",
    "</ul>\n",
    "\n",
    "[Return to Top](#toc)"
   ]
  },
  {
   "cell_type": "markdown",
   "metadata": {},
   "source": [
    "## Demonstration"
   ]
  },
  {
   "cell_type": "markdown",
   "metadata": {},
   "source": [
    "### Register a model run\n",
    "A model run consists of ten main elements where many have already been registered in the RRAP-IS Registry.  \n",
    "\n",
    "These elements are:\n",
    "- Start Time\n",
    "- End Time\n",
    "- Workflow definition*\n",
    "- Input dataset*\n",
    "- Input template*\n",
    "- Output dataset*\n",
    "- Output template*\n",
    "- Modeller* and\n",
    "- Requesting Organisation*\n",
    "\n",
    "*pre-registered elements.\n",
    "\n",
    "For examples of registering elements please see <a href=\"/rrap-demo-blog/jupyter/2022/08/18/rrap-registry.html\" target=\"_blank\">RRAP-IS Register blog post</a> or <a href=\"/rrap-demo-blog/jupyter/registry/2022/09/02/registry-query.html\" target=\"_blank\">RRAP-IS Register Query blog post</a>\n",
    "\n",
    "see <a href=\"https://prov-api.testing.rrap-is.com/redoc#tag/Model-Runs/operation/register_model_run_complete_model_run_register_complete_post\" target=\"_blank\">Endpoint documentation</a>"
   ]
  },
  {
   "cell_type": "markdown",
   "metadata": {},
   "source": [
    "## Register Modeller/Person"
   ]
  },
  {
   "cell_type": "code",
   "execution_count": 16,
   "metadata": {},
   "outputs": [],
   "source": [
    "person_payload = {\n",
    "    \"display_name\": \"Ross Petridis\",\n",
    "    \"first_name\": \"Ross\",\n",
    "    \"last_name\": \"Petridis\",\n",
    "    \"email\": \"ross.petridis@csiro.au \",\n",
    "    \"orcid\": \"https://orcid.org/0000-0002-3798-9719\"\n",
    "    }\n",
    "auth = token_manager.get_auth\n",
    "response = register_item(person_payload, ItemType.PERSON, auth)\n",
    "person_id = response.json()[\"created_item\"][\"id\"]"
   ]
  },
  {
   "cell_type": "markdown",
   "metadata": {},
   "source": [
    "## Register a Model"
   ]
  },
  {
   "cell_type": "code",
   "execution_count": 17,
   "metadata": {},
   "outputs": [],
   "source": [
    "model_payload = {\n",
    "    \"display_name\": \"ADRIA\",\n",
    "    \"name\": \"ADRIA\",\n",
    "    \"description\": \"Coral Community Network\",\n",
    "    \"documentation_url\": \"https://github.com/gbrrestoration/CoCoNet-model/blob/main/README.md\",\n",
    "    \"source_url\": \"https://gbrrestoration.org/\"\n",
    "    }\n",
    "auth = token_manager.get_auth\n",
    "response = register_item(model_payload, ItemType.MODEL, auth)\n",
    "model_id = response.json()[\"created_item\"]['id']"
   ]
  },
  {
   "cell_type": "markdown",
   "metadata": {},
   "source": [
    "## Register a Dataset Template"
   ]
  },
  {
   "cell_type": "code",
   "execution_count": 18,
   "metadata": {},
   "outputs": [],
   "source": [
    "template_payload = {\n",
    "  \"display_name\": \"Example dataset template\",\n",
    "  \"description\": \"Description for example dataset template\",\n",
    "  \"defined_resources\": [],\n",
    "  \"deferred_resources\": []\n",
    "}\n",
    "response = register_item(template_payload, ItemType.DATASET_TEMPLATE, auth)\n",
    "dataset_template_id = response.json()['created_item']['id']"
   ]
  },
  {
   "cell_type": "markdown",
   "metadata": {},
   "source": [
    "## Register Model Run Workflow Template"
   ]
  },
  {
   "cell_type": "code",
   "execution_count": 19,
   "metadata": {},
   "outputs": [],
   "source": [
    "modelrun_workflow_template_payload = {\n",
    "  \"display_name\": \"Workflow def using ADRIA model (software)\",\n",
    "  \"software_id\": model_id,\n",
    "  \"software_version\": \"1.0\",\n",
    "  \"annotations\": {\n",
    "    \"required\": [],\n",
    "    \"optional\": [],\n",
    "  },\n",
    "  \"input_templates\": [\n",
    "    {\n",
    "      \"template_id\" : dataset_template_id\n",
    "    }\n",
    "  ],\n",
    "  \"output_templates\": [\n",
    "    {\n",
    "      \"template_id\" : dataset_template_id\n",
    "    }\n",
    "  ]\n",
    "}\n",
    "\n",
    "auth = token_manager.get_auth\n",
    "response = register_item(modelrun_workflow_template_payload, ItemType.MODEL_RUN_WORKFLOW, auth)\n",
    "workflow_def_id = response.json()['created_item']['id']"
   ]
  },
  {
   "cell_type": "markdown",
   "metadata": {},
   "source": [
    "## Register the Model Run (Provenance)"
   ]
  },
  {
   "cell_type": "code",
   "execution_count": 20,
   "metadata": {},
   "outputs": [],
   "source": [
    "auth = token_manager.get_auth\n",
    "postfix = \"/model_run/register_complete\"\n",
    "payload = {\n",
    "  \"start_time\": 0,\n",
    "  \"end_time\": 1662467929,\n",
    "  \"workflow_template_id\": workflow_def_id,\n",
    "\n",
    "  \"inputs\": [\n",
    "    {\n",
    "      \"dataset_template_id\" : dataset_template_id,\n",
    "      \"dataset_id\" : \"10378.1/1691958\",\n",
    "      \"dataset_type\" : \"DATA_STORE\",\n",
    "      \"resources\" : {\n",
    "        \n",
    "      } \n",
    "    }\n",
    "  ],\n",
    "\n",
    "  \"outputs\": [\n",
    "    {\n",
    "      \"dataset_template_id\" : dataset_template_id,\n",
    "      \"dataset_id\" : \"10378.1/1691958\",\n",
    "      \"dataset_type\" : \"DATA_STORE\",\n",
    "      \"resources\" : {\n",
    "        \n",
    "      } \n",
    "    }\n",
    "  ],\n",
    "\n",
    "  \"associations\": {\n",
    "    \"modeller_id\": person_id,\n",
    "  }\n",
    "}\n",
    "endpoint = prov_api + postfix \n",
    "\n",
    "response_json = handle_request('POST', endpoint, None, payload, auth())\n",
    "HTML(json_to_md(response_json))\n",
    "model_run_id = response_json['record_info']['id']"
   ]
  },
  {
   "cell_type": "markdown",
   "metadata": {},
   "source": [
    "## Exploring linkages across RRAP-IS data, models, modellers and organisation\n",
    "Simple exploration functions include:\n",
    "- Searching upstream (option to only looks so far) from a point and\n",
    "- Searching downstream (option to only looks so far) from a point\n",
    "\n",
    "\n",
    "### Explore Upstream Provenance\n",
    "Lets explore back upstream from the generated output from the above completed model run.  We will limit it to a depth of one, so only the directly linked elements\n",
    "\n",
    "[Return to Top](#toc)"
   ]
  },
  {
   "cell_type": "code",
   "execution_count": 21,
   "metadata": {
    "tags": []
   },
   "outputs": [
    {
     "name": "stderr",
     "output_type": "stream",
     "text": [
      "/home/ross/repos/rrap-demo-blog/.venv/lib/python3.8/site-packages/holoviews/core/util.py:975: RuntimeWarning: invalid value encountered in cast\n",
      "  arr = np.array(values)\n",
      "/home/ross/repos/rrap-demo-blog/.venv/lib/python3.8/site-packages/holoviews/core/util.py:975: RuntimeWarning: invalid value encountered in cast\n",
      "  arr = np.array(values)\n",
      "/home/ross/repos/rrap-demo-blog/.venv/lib/python3.8/site-packages/holoviews/core/util.py:975: RuntimeWarning: invalid value encountered in cast\n",
      "  arr = np.array(values)\n",
      "/home/ross/repos/rrap-demo-blog/.venv/lib/python3.8/site-packages/holoviews/core/util.py:975: RuntimeWarning: invalid value encountered in cast\n",
      "  arr = np.array(values)\n",
      "/home/ross/repos/rrap-demo-blog/.venv/lib/python3.8/site-packages/holoviews/core/util.py:975: RuntimeWarning: invalid value encountered in cast\n",
      "  arr = np.array(values)\n",
      "/home/ross/repos/rrap-demo-blog/.venv/lib/python3.8/site-packages/holoviews/core/util.py:975: RuntimeWarning: invalid value encountered in cast\n",
      "  arr = np.array(values)\n",
      "/home/ross/repos/rrap-demo-blog/.venv/lib/python3.8/site-packages/holoviews/core/util.py:975: RuntimeWarning: invalid value encountered in cast\n",
      "  arr = np.array(values)\n",
      "/home/ross/repos/rrap-demo-blog/.venv/lib/python3.8/site-packages/holoviews/core/util.py:975: RuntimeWarning: invalid value encountered in cast\n",
      "  arr = np.array(values)\n",
      "/home/ross/repos/rrap-demo-blog/.venv/lib/python3.8/site-packages/holoviews/core/util.py:975: RuntimeWarning: invalid value encountered in cast\n",
      "  arr = np.array(values)\n",
      "/home/ross/repos/rrap-demo-blog/.venv/lib/python3.8/site-packages/holoviews/core/util.py:975: RuntimeWarning: invalid value encountered in cast\n",
      "  arr = np.array(values)\n",
      "/home/ross/repos/rrap-demo-blog/.venv/lib/python3.8/site-packages/holoviews/core/util.py:975: RuntimeWarning: invalid value encountered in cast\n",
      "  arr = np.array(values)\n",
      "/home/ross/repos/rrap-demo-blog/.venv/lib/python3.8/site-packages/holoviews/core/util.py:975: RuntimeWarning: invalid value encountered in cast\n",
      "  arr = np.array(values)\n",
      "/home/ross/repos/rrap-demo-blog/.venv/lib/python3.8/site-packages/holoviews/core/util.py:975: RuntimeWarning: invalid value encountered in cast\n",
      "  arr = np.array(values)\n",
      "/home/ross/repos/rrap-demo-blog/.venv/lib/python3.8/site-packages/holoviews/core/util.py:975: RuntimeWarning: invalid value encountered in cast\n",
      "  arr = np.array(values)\n",
      "/home/ross/repos/rrap-demo-blog/.venv/lib/python3.8/site-packages/holoviews/core/util.py:975: RuntimeWarning: invalid value encountered in cast\n",
      "  arr = np.array(values)\n",
      "/home/ross/repos/rrap-demo-blog/.venv/lib/python3.8/site-packages/holoviews/core/util.py:975: RuntimeWarning: invalid value encountered in cast\n",
      "  arr = np.array(values)\n"
     ]
    },
    {
     "data": {
      "text/html": [
       "\n",
       "\n",
       "<!DOCTYPE html>\n",
       "<html lang=\"en\">\n",
       "  <head>\n",
       "      <meta charset=\"utf-8\">\n",
       "      <title>lineage_network</title>\n",
       "              <link rel=\"stylesheet\" href=\"https://cdn.holoviz.org/panel/0.14.2/dist/css/loading.css\" type=\"text/css\" />\n",
       "            <link rel=\"stylesheet\" href=\"https://cdn.holoviz.org/panel/0.14.2/dist/css/debugger.css\" type=\"text/css\" />\n",
       "            <link rel=\"stylesheet\" href=\"https://cdn.holoviz.org/panel/0.14.2/dist/css/json.css\" type=\"text/css\" />\n",
       "            <link rel=\"stylesheet\" href=\"https://cdn.holoviz.org/panel/0.14.2/dist/css/alerts.css\" type=\"text/css\" />\n",
       "            <link rel=\"stylesheet\" href=\"https://cdn.holoviz.org/panel/0.14.2/dist/css/dataframe.css\" type=\"text/css\" />\n",
       "            <link rel=\"stylesheet\" href=\"https://cdn.holoviz.org/panel/0.14.2/dist/css/card.css\" type=\"text/css\" />\n",
       "            <link rel=\"stylesheet\" href=\"https://cdn.holoviz.org/panel/0.14.2/dist/css/widgets.css\" type=\"text/css\" />\n",
       "            <link rel=\"stylesheet\" href=\"https://cdn.holoviz.org/panel/0.14.2/dist/css/markdown.css\" type=\"text/css\" />\n",
       "            <style>\n",
       "                \n",
       "            .bk.pn-loading.arc:before {\n",
       "              background-image: url(\"data:image/svg+xml;base64,PHN2ZyB4bWxucz0iaHR0cDovL3d3dy53My5vcmcvMjAwMC9zdmciIHN0eWxlPSJtYXJnaW46IGF1dG87IGJhY2tncm91bmQ6IG5vbmU7IGRpc3BsYXk6IGJsb2NrOyBzaGFwZS1yZW5kZXJpbmc6IGF1dG87IiB2aWV3Qm94PSIwIDAgMTAwIDEwMCIgcHJlc2VydmVBc3BlY3RSYXRpbz0ieE1pZFlNaWQiPiAgPGNpcmNsZSBjeD0iNTAiIGN5PSI1MCIgZmlsbD0ibm9uZSIgc3Ryb2tlPSIjYzNjM2MzIiBzdHJva2Utd2lkdGg9IjEwIiByPSIzNSIgc3Ryb2tlLWRhc2hhcnJheT0iMTY0LjkzMzYxNDMxMzQ2NDE1IDU2Ljk3Nzg3MTQzNzgyMTM4Ij4gICAgPGFuaW1hdGVUcmFuc2Zvcm0gYXR0cmlidXRlTmFtZT0idHJhbnNmb3JtIiB0eXBlPSJyb3RhdGUiIHJlcGVhdENvdW50PSJpbmRlZmluaXRlIiBkdXI9IjFzIiB2YWx1ZXM9IjAgNTAgNTA7MzYwIDUwIDUwIiBrZXlUaW1lcz0iMDsxIj48L2FuaW1hdGVUcmFuc2Zvcm0+ICA8L2NpcmNsZT48L3N2Zz4=\");\n",
       "              background-size: auto calc(min(50%, 400px));\n",
       "            }\n",
       "            \n",
       "            </style>\n",
       "\n",
       "          <script type=\"text/javascript\" src=\"https://cdn.bokeh.org/bokeh/release/bokeh-2.4.3.min.js\"></script><script type=\"text/javascript\" src=\"https://cdn.bokeh.org/bokeh/release/bokeh-gl-2.4.3.min.js\"></script><script type=\"text/javascript\" src=\"https://cdn.bokeh.org/bokeh/release/bokeh-widgets-2.4.3.min.js\"></script><script type=\"text/javascript\" src=\"https://cdn.bokeh.org/bokeh/release/bokeh-tables-2.4.3.min.js\"></script><script type=\"text/javascript\" src=\"https://cdn.holoviz.org/panel/0.14.2/dist/panel.min.js\"></script><script type=\"text/javascript\">\n",
       "            Bokeh.set_log_level(\"info\");\n",
       "        </script>\n",
       "  </head>\n",
       "  <body>\n",
       "          \n",
       "              <div class=\"bk-root\" id=\"e9aab28a-183f-4590-ab65-e219581aea14\" data-root-id=\"1486\"></div>\n",
       "      \n",
       "        <script type=\"application/json\" id=\"1727\">\n",
       "          {\"962bb079-deb9-48ec-bfe1-73561bfe4360\":{\"defs\":[{\"extends\":null,\"module\":null,\"name\":\"ReactiveHTML1\",\"overrides\":[],\"properties\":[]},{\"extends\":null,\"module\":null,\"name\":\"FlexBox1\",\"overrides\":[],\"properties\":[{\"default\":\"flex-start\",\"kind\":null,\"name\":\"align_content\"},{\"default\":\"flex-start\",\"kind\":null,\"name\":\"align_items\"},{\"default\":\"row\",\"kind\":null,\"name\":\"flex_direction\"},{\"default\":\"wrap\",\"kind\":null,\"name\":\"flex_wrap\"},{\"default\":\"flex-start\",\"kind\":null,\"name\":\"justify_content\"}]},{\"extends\":null,\"module\":null,\"name\":\"GridStack1\",\"overrides\":[],\"properties\":[{\"default\":\"warn\",\"kind\":null,\"name\":\"mode\"},{\"default\":null,\"kind\":null,\"name\":\"ncols\"},{\"default\":null,\"kind\":null,\"name\":\"nrows\"},{\"default\":true,\"kind\":null,\"name\":\"allow_resize\"},{\"default\":true,\"kind\":null,\"name\":\"allow_drag\"},{\"default\":[],\"kind\":null,\"name\":\"state\"}]},{\"extends\":null,\"module\":null,\"name\":\"click1\",\"overrides\":[],\"properties\":[{\"default\":\"\",\"kind\":null,\"name\":\"terminal_output\"},{\"default\":\"\",\"kind\":null,\"name\":\"debug_name\"},{\"default\":0,\"kind\":null,\"name\":\"clears\"}]},{\"extends\":null,\"module\":null,\"name\":\"NotificationAreaBase1\",\"overrides\":[],\"properties\":[{\"default\":\"bottom-right\",\"kind\":null,\"name\":\"position\"},{\"default\":0,\"kind\":null,\"name\":\"_clear\"}]},{\"extends\":null,\"module\":null,\"name\":\"NotificationArea1\",\"overrides\":[],\"properties\":[{\"default\":[],\"kind\":null,\"name\":\"notifications\"},{\"default\":\"bottom-right\",\"kind\":null,\"name\":\"position\"},{\"default\":0,\"kind\":null,\"name\":\"_clear\"},{\"default\":[{\"background\":\"#ffc107\",\"icon\":{\"className\":\"fas fa-exclamation-triangle\",\"color\":\"white\",\"tagName\":\"i\"},\"type\":\"warning\"},{\"background\":\"#007bff\",\"icon\":{\"className\":\"fas fa-info-circle\",\"color\":\"white\",\"tagName\":\"i\"},\"type\":\"info\"}],\"kind\":null,\"name\":\"types\"}]},{\"extends\":null,\"module\":null,\"name\":\"Notification\",\"overrides\":[],\"properties\":[{\"default\":null,\"kind\":null,\"name\":\"background\"},{\"default\":3000,\"kind\":null,\"name\":\"duration\"},{\"default\":null,\"kind\":null,\"name\":\"icon\"},{\"default\":\"\",\"kind\":null,\"name\":\"message\"},{\"default\":null,\"kind\":null,\"name\":\"notification_type\"},{\"default\":false,\"kind\":null,\"name\":\"_destroyed\"}]},{\"extends\":null,\"module\":null,\"name\":\"TemplateActions1\",\"overrides\":[],\"properties\":[{\"default\":0,\"kind\":null,\"name\":\"open_modal\"},{\"default\":0,\"kind\":null,\"name\":\"close_modal\"}]},{\"extends\":null,\"module\":null,\"name\":\"MaterialTemplateActions1\",\"overrides\":[],\"properties\":[{\"default\":0,\"kind\":null,\"name\":\"open_modal\"},{\"default\":0,\"kind\":null,\"name\":\"close_modal\"}]}],\"roots\":{\"references\":[{\"attributes\":{\"angle\":{\"value\":0},\"text\":{\"field\":\"item_category\"},\"text_align\":{\"value\":\"center\"},\"text_alpha\":{\"value\":1.0},\"text_baseline\":{\"value\":\"middle\"},\"text_color\":{\"value\":\"blue\"},\"text_font_size\":{\"value\":\"12pt\"},\"text_font_style\":{\"value\":\"normal\"},\"text_line_height\":{\"value\":1.2},\"x\":{\"field\":\"x\",\"transform\":{\"id\":\"1559\"}},\"x_offset\":{\"value\":0},\"y\":{\"field\":\"y\",\"transform\":{\"id\":\"1560\"}},\"y_offset\":{\"value\":0}},\"id\":\"1569\",\"type\":\"Text\"},{\"attributes\":{},\"id\":\"1528\",\"type\":\"AllLabels\"},{\"attributes\":{\"callback\":null,\"renderers\":[{\"id\":\"1546\"}],\"tags\":[\"hv_created\"],\"tooltips\":[[\"index\",\"@{index_hover}\"],[\"item_category\",\"@{item_category}\"],[\"item_subtype\",\"@{item_subtype}\"]]},\"id\":\"1490\",\"type\":\"HoverTool\"},{\"attributes\":{\"end\":1.1412678760668002,\"reset_end\":1.1412678760668002,\"reset_start\":-1.1412678164621537,\"start\":-1.1412678164621537,\"tags\":[[[\"y\",\"y\",null]]]},\"id\":\"1489\",\"type\":\"Range1d\"},{\"attributes\":{\"text\":{\"field\":\"item_category\"},\"text_align\":{\"value\":\"center\"},\"text_alpha\":{\"value\":0.2},\"text_baseline\":{\"value\":\"middle\"},\"text_color\":{\"value\":\"blue\"},\"text_font_size\":{\"value\":\"12pt\"},\"x\":{\"field\":\"x\",\"transform\":{\"id\":\"1559\"}},\"y\":{\"field\":\"y\",\"transform\":{\"id\":\"1560\"}}},\"id\":\"1566\",\"type\":\"Text\"},{\"attributes\":{},\"id\":\"1525\",\"type\":\"AllLabels\"},{\"attributes\":{\"coordinates\":null,\"group\":null,\"text_color\":\"black\",\"text_font_size\":\"12pt\"},\"id\":\"1492\",\"type\":\"Title\"},{\"attributes\":{\"axis\":{\"id\":\"1500\"},\"coordinates\":null,\"grid_line_color\":null,\"group\":null,\"ticker\":null},\"id\":\"1503\",\"type\":\"Grid\"},{\"attributes\":{\"line_alpha\":{\"value\":0.2},\"line_width\":{\"value\":2}},\"id\":\"1541\",\"type\":\"MultiLine\"},{\"attributes\":{\"factors\":[\"ENTITY\",\"AGENT\",\"ACTIVITY\"],\"palette\":[\"blue\",\"orange\",\"green\"]},\"id\":\"1529\",\"type\":\"CategoricalColorMapper\"},{\"attributes\":{\"margin\":[5,5,5,5],\"name\":\"HSpacer02079\",\"sizing_mode\":\"stretch_width\"},\"id\":\"1597\",\"type\":\"Spacer\"},{\"attributes\":{\"graph_layout\":{\"0\":[0.3090169521873281,0.9510565683560541],\"1\":[0.3090171011989445,-0.9510565087514076],\"2\":[-0.8090170564954595,0.587785261505403],\"3\":[-0.809016996890813,-0.5877853211100496],\"4\":[1.0,0.0]}},\"id\":\"1532\",\"type\":\"StaticLayoutProvider\"},{\"attributes\":{\"background_fill_color\":\"pink\",\"below\":[{\"id\":\"1500\"}],\"center\":[{\"id\":\"1503\"},{\"id\":\"1507\"}],\"left\":[{\"id\":\"1504\"}],\"margin\":[5,5,5,5],\"min_border_bottom\":10,\"min_border_left\":10,\"min_border_right\":10,\"min_border_top\":10,\"renderers\":[{\"id\":\"1546\"},{\"id\":\"1567\"},{\"id\":\"1578\"}],\"sizing_mode\":\"fixed\",\"title\":{\"id\":\"1492\"},\"toolbar\":{\"id\":\"1515\"},\"width\":800,\"x_range\":{\"id\":\"1488\"},\"x_scale\":{\"id\":\"1496\"},\"y_range\":{\"id\":\"1489\"},\"y_scale\":{\"id\":\"1498\"}},\"id\":\"1491\",\"subtype\":\"Figure\",\"type\":\"Plot\"},{\"attributes\":{\"fill_alpha\":{\"value\":0.2},\"fill_color\":{\"field\":\"node_color\",\"transform\":{\"id\":\"1529\"}},\"hatch_alpha\":{\"value\":0.2},\"hatch_color\":{\"field\":\"node_color\",\"transform\":{\"id\":\"1529\"}},\"line_alpha\":{\"value\":0.2},\"size\":{\"value\":10}},\"id\":\"1534\",\"type\":\"Circle\"},{\"attributes\":{\"children\":[{\"id\":\"1487\"},{\"id\":\"1491\"},{\"id\":\"1597\"}],\"margin\":[0,0,0,0],\"name\":\"Row02074\",\"tags\":[\"embedded\"]},\"id\":\"1486\",\"type\":\"Row\"},{\"attributes\":{\"angle\":{\"value\":0},\"text\":{\"field\":\"item_subtype\"},\"text_align\":{\"value\":\"center\"},\"text_alpha\":{\"value\":1.0},\"text_baseline\":{\"value\":\"middle\"},\"text_color\":{\"value\":\"black\"},\"text_font_size\":{\"value\":\"8pt\"},\"text_font_style\":{\"value\":\"normal\"},\"text_line_height\":{\"value\":1.2},\"x\":{\"field\":\"x\",\"transform\":{\"id\":\"1570\"}},\"x_offset\":{\"value\":0},\"y\":{\"field\":\"y\",\"transform\":{\"id\":\"1571\"}},\"y_offset\":{\"value\":0}},\"id\":\"1580\",\"type\":\"Text\"},{\"attributes\":{\"data\":{\"index\":{\"__ndarray__\":\"AAAAAAEAAAACAAAAAwAAAAQAAAA=\",\"dtype\":\"int32\",\"order\":\"little\",\"shape\":[5]},\"index_hover\":[\"10378.1/1691958\",\"10378.1/1696137\",\"10378.1/1696138\",\"10378.1/1696141\",\"10378.1/1696142\"],\"item_category\":[\"ENTITY\",\"AGENT\",\"ENTITY\",\"ENTITY\",\"ACTIVITY\"],\"item_subtype\":[\"DATASET\",\"PERSON\",\"MODEL\",\"MODEL_RUN_WORKFLOW_TEMPLATE\",\"MODEL_RUN\"],\"node_color\":[\"ENTITY\",\"AGENT\",\"ENTITY\",\"ENTITY\",\"ACTIVITY\"]},\"selected\":{\"id\":\"1594\"},\"selection_policy\":{\"id\":\"1593\"}},\"id\":\"1530\",\"type\":\"ColumnDataSource\"},{\"attributes\":{\"line_alpha\":{\"value\":0.2},\"line_width\":{\"value\":2}},\"id\":\"1543\",\"type\":\"MultiLine\"},{\"attributes\":{},\"id\":\"1588\",\"type\":\"UnionRenderers\"},{\"attributes\":{},\"id\":\"1590\",\"type\":\"UnionRenderers\"},{\"attributes\":{\"text\":{\"field\":\"item_category\"},\"text_align\":{\"value\":\"center\"},\"text_alpha\":{\"value\":0.1},\"text_baseline\":{\"value\":\"middle\"},\"text_color\":{\"value\":\"blue\"},\"text_font_size\":{\"value\":\"12pt\"},\"x\":{\"field\":\"x\",\"transform\":{\"id\":\"1559\"}},\"y\":{\"field\":\"y\",\"transform\":{\"id\":\"1560\"}}},\"id\":\"1565\",\"type\":\"Text\"},{\"attributes\":{\"line_color\":{\"value\":\"limegreen\"},\"line_width\":{\"value\":2}},\"id\":\"1542\",\"type\":\"MultiLine\"},{\"attributes\":{},\"id\":\"1496\",\"type\":\"LinearScale\"},{\"attributes\":{},\"id\":\"1498\",\"type\":\"LinearScale\"},{\"attributes\":{},\"id\":\"1555\",\"type\":\"NodesAndLinkedEdges\"},{\"attributes\":{},\"id\":\"1501\",\"type\":\"BasicTicker\"},{\"attributes\":{\"axis_label\":\"x\",\"coordinates\":null,\"formatter\":{\"id\":\"1524\"},\"group\":null,\"major_label_policy\":{\"id\":\"1525\"},\"ticker\":{\"id\":\"1501\"}},\"id\":\"1500\",\"type\":\"LinearAxis\"},{\"attributes\":{},\"id\":\"1509\",\"type\":\"PanTool\"},{\"attributes\":{\"fill_color\":{\"value\":\"limegreen\"},\"hatch_color\":{\"field\":\"node_color\",\"transform\":{\"id\":\"1529\"}},\"size\":{\"value\":10}},\"id\":\"1536\",\"type\":\"Circle\"},{\"attributes\":{\"axis_label\":\"y\",\"coordinates\":null,\"formatter\":{\"id\":\"1527\"},\"group\":null,\"major_label_policy\":{\"id\":\"1528\"},\"ticker\":{\"id\":\"1505\"}},\"id\":\"1504\",\"type\":\"LinearAxis\"},{\"attributes\":{\"axis\":{\"id\":\"1504\"},\"coordinates\":null,\"dimension\":1,\"grid_line_color\":null,\"group\":null,\"ticker\":null},\"id\":\"1507\",\"type\":\"Grid\"},{\"attributes\":{},\"id\":\"1505\",\"type\":\"BasicTicker\"},{\"attributes\":{},\"id\":\"1510\",\"type\":\"WheelZoomTool\"},{\"attributes\":{\"fill_alpha\":{\"value\":0.2},\"fill_color\":{\"field\":\"node_color\",\"transform\":{\"id\":\"1529\"}},\"hatch_alpha\":{\"value\":0.2},\"hatch_color\":{\"field\":\"node_color\",\"transform\":{\"id\":\"1529\"}},\"line_alpha\":{\"value\":0.2},\"size\":{\"value\":10}},\"id\":\"1537\",\"type\":\"Circle\"},{\"attributes\":{},\"id\":\"1508\",\"type\":\"SaveTool\"},{\"attributes\":{\"data\":{\"end\":{\"__ndarray__\":\"AAAAAAIAAAADAAAAAQAAAA==\",\"dtype\":\"int32\",\"order\":\"little\",\"shape\":[4]},\"start\":{\"__ndarray__\":\"BAAAAAQAAAAEAAAABAAAAA==\",\"dtype\":\"int32\",\"order\":\"little\",\"shape\":[4]},\"xs\":[{\"__ndarray__\":\"AAAAAAAA8D+Fd+MJ78bTPwAAAAAAAPh/ymPjkFak1j+Fd+MJ78bTPxdiwsC7j9Q/\",\"dtype\":\"float64\",\"order\":\"little\",\"shape\":[6]},{\"__ndarray__\":\"AAAAAAAA8D/eu/G8d+PpvwAAAAAAAPh/i6djC7c26L/eu/G8d+Ppvw/63/dunOi/\",\"dtype\":\"float64\",\"order\":\"little\",\"shape\":[6]},{\"__ndarray__\":\"AAAAAAAA8D/Ou/Gcd+PpvwAAAAAAAPh/uAKZ2G6c6L/Ou/Gcd+Ppv+tMTeu2Nui/\",\"dtype\":\"float64\",\"order\":\"little\",\"shape\":[6]},{\"__ndarray__\":\"AAAAAAAA8D/Vd+Op78bTPwAAAAAAAPh/l5bFXLyP1D/Vd+Op78bTP+3evi5XpNY/\",\"dtype\":\"float64\",\"order\":\"little\",\"shape\":[6]}],\"ys\":[{\"__ndarray__\":\"AAAAAAAAAAAYhzcvDm/uPwAAAAAAAPh/px75CleO7T8YhzcvDm/uP7nB1ynczOw/\",\"dtype\":\"float64\",\"order\":\"little\",\"shape\":[6]},{\"__ndarray__\":\"AAAAAAAAAACFkWcJI8/iPwAAAAAAAPh/1DMqZOHw4j+FkWcJI8/iP1TzvL7St+E/\",\"dtype\":\"float64\",\"order\":\"little\",\"shape\":[6]},{\"__ndarray__\":\"AAAAAAAAAACVkWcpI8/ivwAAAAAAAPh/vk3k3dK34b+VkWcpI8/iv9crDoPh8OK/\",\"dtype\":\"float64\",\"order\":\"little\",\"shape\":[6]},{\"__ndarray__\":\"AAAAAAAAAAAIhzcPDm/uvwAAAAAAAPh/hDhdCdzM7L8IhzcPDm/uv1WROelWju2/\",\"dtype\":\"float64\",\"order\":\"little\",\"shape\":[6]}]},\"selected\":{\"id\":\"1596\"},\"selection_policy\":{\"id\":\"1595\"}},\"id\":\"1531\",\"type\":\"ColumnDataSource\"},{\"attributes\":{\"source\":{\"id\":\"1531\"}},\"id\":\"1545\",\"type\":\"CDSView\"},{\"attributes\":{},\"id\":\"1593\",\"type\":\"UnionRenderers\"},{\"attributes\":{\"overlay\":{\"id\":\"1514\"}},\"id\":\"1511\",\"type\":\"BoxZoomTool\"},{\"attributes\":{},\"id\":\"1512\",\"type\":\"ResetTool\"},{\"attributes\":{\"fill_color\":{\"field\":\"node_color\",\"transform\":{\"id\":\"1529\"}},\"hatch_color\":{\"field\":\"node_color\",\"transform\":{\"id\":\"1529\"}},\"size\":{\"value\":10}},\"id\":\"1533\",\"type\":\"Circle\"},{\"attributes\":{\"coordinates\":null,\"data_source\":{\"id\":\"1531\"},\"glyph\":{\"id\":\"1540\"},\"group\":null,\"hover_glyph\":{\"id\":\"1542\"},\"muted_glyph\":{\"id\":\"1543\"},\"nonselection_glyph\":{\"id\":\"1541\"},\"view\":{\"id\":\"1545\"}},\"id\":\"1544\",\"type\":\"GlyphRenderer\"},{\"attributes\":{\"text\":{\"field\":\"item_subtype\"},\"text_align\":{\"value\":\"center\"},\"text_alpha\":{\"value\":0.2},\"text_baseline\":{\"value\":\"middle\"},\"text_color\":{\"value\":\"black\"},\"text_font_size\":{\"value\":\"8pt\"},\"x\":{\"field\":\"x\",\"transform\":{\"id\":\"1570\"}},\"y\":{\"field\":\"y\",\"transform\":{\"id\":\"1571\"}}},\"id\":\"1577\",\"type\":\"Text\"},{\"attributes\":{\"callback\":null},\"id\":\"1513\",\"type\":\"TapTool\"},{\"attributes\":{\"text\":{\"field\":\"item_subtype\"},\"text_align\":{\"value\":\"center\"},\"text_alpha\":{\"value\":0.1},\"text_baseline\":{\"value\":\"middle\"},\"text_color\":{\"value\":\"black\"},\"text_font_size\":{\"value\":\"8pt\"},\"x\":{\"field\":\"x\",\"transform\":{\"id\":\"1570\"}},\"y\":{\"field\":\"y\",\"transform\":{\"id\":\"1571\"}}},\"id\":\"1576\",\"type\":\"Text\"},{\"attributes\":{\"coordinates\":null,\"data_source\":{\"id\":\"1561\"},\"glyph\":{\"id\":\"1564\"},\"group\":null,\"hover_glyph\":null,\"muted_glyph\":{\"id\":\"1566\"},\"nonselection_glyph\":{\"id\":\"1565\"},\"selection_glyph\":{\"id\":\"1569\"},\"view\":{\"id\":\"1568\"}},\"id\":\"1567\",\"type\":\"GlyphRenderer\"},{\"attributes\":{\"bottom_units\":\"screen\",\"coordinates\":null,\"fill_alpha\":0.5,\"fill_color\":\"lightgrey\",\"group\":null,\"left_units\":\"screen\",\"level\":\"overlay\",\"line_alpha\":1.0,\"line_color\":\"black\",\"line_dash\":[4,4],\"line_width\":2,\"right_units\":\"screen\",\"syncable\":false,\"top_units\":\"screen\"},\"id\":\"1514\",\"type\":\"BoxAnnotation\"},{\"attributes\":{\"line_width\":{\"value\":2}},\"id\":\"1540\",\"type\":\"MultiLine\"},{\"attributes\":{\"coordinates\":null,\"edge_renderer\":{\"id\":\"1544\"},\"group\":null,\"inspection_policy\":{\"id\":\"1557\"},\"layout_provider\":{\"id\":\"1532\"},\"node_renderer\":{\"id\":\"1538\"},\"selection_policy\":{\"id\":\"1555\"}},\"id\":\"1546\",\"type\":\"GraphRenderer\"},{\"attributes\":{\"margin\":[5,5,5,5],\"name\":\"HSpacer02078\",\"sizing_mode\":\"stretch_width\"},\"id\":\"1487\",\"type\":\"Spacer\"},{\"attributes\":{\"text\":{\"field\":\"item_subtype\"},\"text_align\":{\"value\":\"center\"},\"text_baseline\":{\"value\":\"middle\"},\"text_color\":{\"value\":\"black\"},\"text_font_size\":{\"value\":\"8pt\"},\"x\":{\"field\":\"x\",\"transform\":{\"id\":\"1570\"}},\"y\":{\"field\":\"y\",\"transform\":{\"id\":\"1571\"}}},\"id\":\"1575\",\"type\":\"Text\"},{\"attributes\":{\"range\":null},\"id\":\"1559\",\"type\":\"Dodge\"},{\"attributes\":{\"range\":null},\"id\":\"1570\",\"type\":\"Dodge\"},{\"attributes\":{},\"id\":\"1594\",\"type\":\"Selection\"},{\"attributes\":{\"data\":{\"item_category\":[\"ENTITY\",\"AGENT\",\"ENTITY\",\"ENTITY\",\"ACTIVITY\"],\"x\":{\"__ndarray__\":\"hXfjCe/G0z/Vd+Op78bTP9678bx34+m/zrvxnHfj6b8AAAAAAADwPw==\",\"dtype\":\"float64\",\"order\":\"little\",\"shape\":[5]},\"y\":{\"__ndarray__\":\"GIc3Lw5v7j8IhzcPDm/uv4WRZwkjz+I/lZFnKSPP4r8AAAAAAAAAAA==\",\"dtype\":\"float64\",\"order\":\"little\",\"shape\":[5]}},\"selected\":{\"id\":\"1562\"},\"selection_policy\":{\"id\":\"1588\"}},\"id\":\"1561\",\"type\":\"ColumnDataSource\"},{\"attributes\":{\"range\":null,\"value\":0.05},\"id\":\"1560\",\"type\":\"Dodge\"},{\"attributes\":{},\"id\":\"1557\",\"type\":\"NodesAndLinkedEdges\"},{\"attributes\":{\"text\":{\"field\":\"item_category\"},\"text_align\":{\"value\":\"center\"},\"text_baseline\":{\"value\":\"middle\"},\"text_color\":{\"value\":\"blue\"},\"text_font_size\":{\"value\":\"12pt\"},\"x\":{\"field\":\"x\",\"transform\":{\"id\":\"1559\"}},\"y\":{\"field\":\"y\",\"transform\":{\"id\":\"1560\"}}},\"id\":\"1564\",\"type\":\"Text\"},{\"attributes\":{},\"id\":\"1562\",\"type\":\"Selection\"},{\"attributes\":{},\"id\":\"1596\",\"type\":\"Selection\"},{\"attributes\":{\"source\":{\"id\":\"1572\"}},\"id\":\"1579\",\"type\":\"CDSView\"},{\"attributes\":{},\"id\":\"1573\",\"type\":\"Selection\"},{\"attributes\":{},\"id\":\"1595\",\"type\":\"UnionRenderers\"},{\"attributes\":{\"source\":{\"id\":\"1530\"}},\"id\":\"1539\",\"type\":\"CDSView\"},{\"attributes\":{\"source\":{\"id\":\"1561\"}},\"id\":\"1568\",\"type\":\"CDSView\"},{\"attributes\":{\"fill_color\":{\"field\":\"node_color\",\"transform\":{\"id\":\"1529\"}},\"hatch_color\":{\"field\":\"node_color\",\"transform\":{\"id\":\"1529\"}},\"size\":{\"value\":10}},\"id\":\"1535\",\"type\":\"Circle\"},{\"attributes\":{\"end\":1.1356762792371595,\"reset_end\":1.1356762792371595,\"reset_start\":-0.944693335732619,\"start\":-0.944693335732619,\"tags\":[[[\"x\",\"x\",null]]]},\"id\":\"1488\",\"type\":\"Range1d\"},{\"attributes\":{\"data\":{\"item_subtype\":[\"DATASET\",\"PERSON\",\"MODEL\",\"MODEL_RUN_WORKFLOW_TEMPLATE\",\"MODEL_RUN\"],\"x\":{\"__ndarray__\":\"hXfjCe/G0z/Vd+Op78bTP9678bx34+m/zrvxnHfj6b8AAAAAAADwPw==\",\"dtype\":\"float64\",\"order\":\"little\",\"shape\":[5]},\"y\":{\"__ndarray__\":\"GIc3Lw5v7j8IhzcPDm/uv4WRZwkjz+I/lZFnKSPP4r8AAAAAAAAAAA==\",\"dtype\":\"float64\",\"order\":\"little\",\"shape\":[5]}},\"selected\":{\"id\":\"1573\"},\"selection_policy\":{\"id\":\"1590\"}},\"id\":\"1572\",\"type\":\"ColumnDataSource\"},{\"attributes\":{\"coordinates\":null,\"data_source\":{\"id\":\"1572\"},\"glyph\":{\"id\":\"1575\"},\"group\":null,\"hover_glyph\":null,\"muted_glyph\":{\"id\":\"1577\"},\"nonselection_glyph\":{\"id\":\"1576\"},\"selection_glyph\":{\"id\":\"1580\"},\"view\":{\"id\":\"1579\"}},\"id\":\"1578\",\"type\":\"GlyphRenderer\"},{\"attributes\":{\"tools\":[{\"id\":\"1490\"},{\"id\":\"1508\"},{\"id\":\"1509\"},{\"id\":\"1510\"},{\"id\":\"1511\"},{\"id\":\"1512\"},{\"id\":\"1513\"}]},\"id\":\"1515\",\"type\":\"Toolbar\"},{\"attributes\":{\"coordinates\":null,\"data_source\":{\"id\":\"1530\"},\"glyph\":{\"id\":\"1533\"},\"group\":null,\"hover_glyph\":{\"id\":\"1536\"},\"muted_glyph\":{\"id\":\"1537\"},\"nonselection_glyph\":{\"id\":\"1534\"},\"selection_glyph\":{\"id\":\"1535\"},\"view\":{\"id\":\"1539\"}},\"id\":\"1538\",\"type\":\"GlyphRenderer\"},{\"attributes\":{},\"id\":\"1524\",\"type\":\"BasicTickFormatter\"},{\"attributes\":{\"range\":null,\"value\":-0.05},\"id\":\"1571\",\"type\":\"Dodge\"},{\"attributes\":{},\"id\":\"1527\",\"type\":\"BasicTickFormatter\"}],\"root_ids\":[\"1486\"]},\"title\":\"Bokeh Application\",\"version\":\"2.4.3\"}}\n",
       "        </script>\n",
       "        <script type=\"text/javascript\">\n",
       "          (function() {\n",
       "            const fn = function() {\n",
       "              Bokeh.safely(function() {\n",
       "                (function(root) {\n",
       "                  function embed_document(root) {\n",
       "                  const docs_json = document.getElementById('1727').textContent;\n",
       "                  const render_items = [{\"docid\":\"962bb079-deb9-48ec-bfe1-73561bfe4360\",\"root_ids\":[\"1486\"],\"roots\":{\"1486\":\"e9aab28a-183f-4590-ab65-e219581aea14\"}}];\n",
       "                  root.Bokeh.embed.embed_items(docs_json, render_items);\n",
       "                  }\n",
       "                  if (root.Bokeh !== undefined) {\n",
       "                    embed_document(root);\n",
       "                  } else {\n",
       "                    let attempts = 0;\n",
       "                    const timer = setInterval(function(root) {\n",
       "                      if (root.Bokeh !== undefined) {\n",
       "                        clearInterval(timer);\n",
       "                        embed_document(root);\n",
       "                      } else {\n",
       "                        attempts++;\n",
       "                        if (attempts > 100) {\n",
       "                          clearInterval(timer);\n",
       "                          console.log(\"Bokeh: ERROR: Unable to run BokehJS code because BokehJS library is missing\");\n",
       "                        }\n",
       "                      }\n",
       "                    }, 10, root)\n",
       "                  }\n",
       "                })(window);\n",
       "              });\n",
       "            };\n",
       "            if (document.readyState != \"loading\") fn();\n",
       "            else document.addEventListener(\"DOMContentLoaded\", fn);\n",
       "          })();\n",
       "        </script>\n",
       "  </body>\n",
       "</html>"
      ],
      "text/plain": [
       "<IPython.core.display.HTML object>"
      ]
     },
     "execution_count": 21,
     "metadata": {},
     "output_type": "execute_result"
    }
   ],
   "source": [
    "auth = token_manager.get_auth\n",
    "postfix = \"/explore/upstream\"\n",
    "params = {\n",
    "    \"starting_id\": model_run_id,\n",
    "    \"depth\": 1\n",
    "}\n",
    "\n",
    "endpoint = prov_api + postfix\n",
    "\n",
    "response_json = handle_request('GET', endpoint, params, None, auth())\n",
    "result_graph = response_json[\"graph\"]\n",
    "\n",
    "networkx_graph = json_graph.node_link_graph(result_graph)\n",
    "im = hv.Graph.from_networkx(networkx_graph, nx.layout.circular_layout).opts(tools=['hover','tap'],\n",
    "                                                                          node_size=10,\n",
    "                                                                          node_color='item_category',\n",
    "                                                                          cmap = ['blue','orange', 'green', 'red'],\n",
    "                                                                          directed=True, \n",
    "                                                                          arrowhead_length=0.02,\n",
    "                                                                          bgcolor='pink')\n",
    "\n",
    "labels = hv.Labels(im.nodes, ['x', 'y'], 'item_category').opts(opts.Labels(text_font_size='12pt', text_color='blue', xoffset=0, yoffset=0.05, bgcolor='white'))\n",
    "labels_2 = hv.Labels(im.nodes, ['x', 'y'], 'item_subtype').opts(opts.Labels(text_font_size='8pt', xoffset=0, yoffset=-0.05, bgcolor='white'))\n",
    "hv_graph = (im * labels * labels_2)\n",
    "hv.save(hv_graph, 'lineage_network.html', backend='bokeh')\n",
    "HTML('lineage_network.html')"
   ]
  },
  {
   "cell_type": "markdown",
   "metadata": {},
   "source": [
    "### Explore Downstream Provence\n",
    "Lets explore forward downstream from the generated model definition defined above.  We will limit it to a depth of one, so only the directly linked elements\n",
    "\n",
    "[Return to Top](#toc)"
   ]
  },
  {
   "cell_type": "code",
   "execution_count": 22,
   "metadata": {},
   "outputs": [
    {
     "name": "stderr",
     "output_type": "stream",
     "text": [
      "/home/ross/repos/rrap-demo-blog/.venv/lib/python3.8/site-packages/holoviews/core/util.py:975: RuntimeWarning: invalid value encountered in cast\n",
      "  arr = np.array(values)\n",
      "/home/ross/repos/rrap-demo-blog/.venv/lib/python3.8/site-packages/holoviews/core/util.py:975: RuntimeWarning: invalid value encountered in cast\n",
      "  arr = np.array(values)\n",
      "/home/ross/repos/rrap-demo-blog/.venv/lib/python3.8/site-packages/holoviews/core/util.py:975: RuntimeWarning: invalid value encountered in cast\n",
      "  arr = np.array(values)\n",
      "/home/ross/repos/rrap-demo-blog/.venv/lib/python3.8/site-packages/holoviews/core/util.py:975: RuntimeWarning: invalid value encountered in cast\n",
      "  arr = np.array(values)\n",
      "/home/ross/repos/rrap-demo-blog/.venv/lib/python3.8/site-packages/holoviews/core/util.py:975: RuntimeWarning: invalid value encountered in cast\n",
      "  arr = np.array(values)\n",
      "/home/ross/repos/rrap-demo-blog/.venv/lib/python3.8/site-packages/holoviews/core/util.py:975: RuntimeWarning: invalid value encountered in cast\n",
      "  arr = np.array(values)\n",
      "/home/ross/repos/rrap-demo-blog/.venv/lib/python3.8/site-packages/holoviews/core/util.py:975: RuntimeWarning: invalid value encountered in cast\n",
      "  arr = np.array(values)\n",
      "/home/ross/repos/rrap-demo-blog/.venv/lib/python3.8/site-packages/holoviews/core/util.py:975: RuntimeWarning: invalid value encountered in cast\n",
      "  arr = np.array(values)\n",
      "/home/ross/repos/rrap-demo-blog/.venv/lib/python3.8/site-packages/holoviews/core/util.py:975: RuntimeWarning: invalid value encountered in cast\n",
      "  arr = np.array(values)\n",
      "/home/ross/repos/rrap-demo-blog/.venv/lib/python3.8/site-packages/holoviews/core/util.py:975: RuntimeWarning: invalid value encountered in cast\n",
      "  arr = np.array(values)\n",
      "/home/ross/repos/rrap-demo-blog/.venv/lib/python3.8/site-packages/holoviews/core/util.py:975: RuntimeWarning: invalid value encountered in cast\n",
      "  arr = np.array(values)\n",
      "/home/ross/repos/rrap-demo-blog/.venv/lib/python3.8/site-packages/holoviews/core/util.py:975: RuntimeWarning: invalid value encountered in cast\n",
      "  arr = np.array(values)\n",
      "/home/ross/repos/rrap-demo-blog/.venv/lib/python3.8/site-packages/holoviews/core/util.py:975: RuntimeWarning: invalid value encountered in cast\n",
      "  arr = np.array(values)\n",
      "/home/ross/repos/rrap-demo-blog/.venv/lib/python3.8/site-packages/holoviews/core/util.py:975: RuntimeWarning: invalid value encountered in cast\n",
      "  arr = np.array(values)\n"
     ]
    },
    {
     "data": {
      "text/html": [
       "\n",
       "\n",
       "<!DOCTYPE html>\n",
       "<html lang=\"en\">\n",
       "  <head>\n",
       "      <meta charset=\"utf-8\">\n",
       "      <title>network</title>\n",
       "              <link rel=\"stylesheet\" href=\"https://cdn.holoviz.org/panel/0.14.2/dist/css/loading.css\" type=\"text/css\" />\n",
       "            <link rel=\"stylesheet\" href=\"https://cdn.holoviz.org/panel/0.14.2/dist/css/debugger.css\" type=\"text/css\" />\n",
       "            <link rel=\"stylesheet\" href=\"https://cdn.holoviz.org/panel/0.14.2/dist/css/json.css\" type=\"text/css\" />\n",
       "            <link rel=\"stylesheet\" href=\"https://cdn.holoviz.org/panel/0.14.2/dist/css/alerts.css\" type=\"text/css\" />\n",
       "            <link rel=\"stylesheet\" href=\"https://cdn.holoviz.org/panel/0.14.2/dist/css/dataframe.css\" type=\"text/css\" />\n",
       "            <link rel=\"stylesheet\" href=\"https://cdn.holoviz.org/panel/0.14.2/dist/css/card.css\" type=\"text/css\" />\n",
       "            <link rel=\"stylesheet\" href=\"https://cdn.holoviz.org/panel/0.14.2/dist/css/widgets.css\" type=\"text/css\" />\n",
       "            <link rel=\"stylesheet\" href=\"https://cdn.holoviz.org/panel/0.14.2/dist/css/markdown.css\" type=\"text/css\" />\n",
       "            <style>\n",
       "                \n",
       "            .bk.pn-loading.arc:before {\n",
       "              background-image: url(\"data:image/svg+xml;base64,PHN2ZyB4bWxucz0iaHR0cDovL3d3dy53My5vcmcvMjAwMC9zdmciIHN0eWxlPSJtYXJnaW46IGF1dG87IGJhY2tncm91bmQ6IG5vbmU7IGRpc3BsYXk6IGJsb2NrOyBzaGFwZS1yZW5kZXJpbmc6IGF1dG87IiB2aWV3Qm94PSIwIDAgMTAwIDEwMCIgcHJlc2VydmVBc3BlY3RSYXRpbz0ieE1pZFlNaWQiPiAgPGNpcmNsZSBjeD0iNTAiIGN5PSI1MCIgZmlsbD0ibm9uZSIgc3Ryb2tlPSIjYzNjM2MzIiBzdHJva2Utd2lkdGg9IjEwIiByPSIzNSIgc3Ryb2tlLWRhc2hhcnJheT0iMTY0LjkzMzYxNDMxMzQ2NDE1IDU2Ljk3Nzg3MTQzNzgyMTM4Ij4gICAgPGFuaW1hdGVUcmFuc2Zvcm0gYXR0cmlidXRlTmFtZT0idHJhbnNmb3JtIiB0eXBlPSJyb3RhdGUiIHJlcGVhdENvdW50PSJpbmRlZmluaXRlIiBkdXI9IjFzIiB2YWx1ZXM9IjAgNTAgNTA7MzYwIDUwIDUwIiBrZXlUaW1lcz0iMDsxIj48L2FuaW1hdGVUcmFuc2Zvcm0+ICA8L2NpcmNsZT48L3N2Zz4=\");\n",
       "              background-size: auto calc(min(50%, 400px));\n",
       "            }\n",
       "            \n",
       "            </style>\n",
       "\n",
       "          <script type=\"text/javascript\" src=\"https://cdn.bokeh.org/bokeh/release/bokeh-2.4.3.min.js\"></script><script type=\"text/javascript\" src=\"https://cdn.bokeh.org/bokeh/release/bokeh-gl-2.4.3.min.js\"></script><script type=\"text/javascript\" src=\"https://cdn.bokeh.org/bokeh/release/bokeh-widgets-2.4.3.min.js\"></script><script type=\"text/javascript\" src=\"https://cdn.bokeh.org/bokeh/release/bokeh-tables-2.4.3.min.js\"></script><script type=\"text/javascript\" src=\"https://cdn.holoviz.org/panel/0.14.2/dist/panel.min.js\"></script><script type=\"text/javascript\">\n",
       "            Bokeh.set_log_level(\"info\");\n",
       "        </script>\n",
       "  </head>\n",
       "  <body>\n",
       "          \n",
       "              <div class=\"bk-root\" id=\"f009bc24-2bf5-430d-af0d-b60f21f0973b\" data-root-id=\"1728\"></div>\n",
       "      \n",
       "        <script type=\"application/json\" id=\"1969\">\n",
       "          {\"c506c66b-5ada-4d7e-9792-977b05cdca67\":{\"defs\":[{\"extends\":null,\"module\":null,\"name\":\"ReactiveHTML1\",\"overrides\":[],\"properties\":[]},{\"extends\":null,\"module\":null,\"name\":\"FlexBox1\",\"overrides\":[],\"properties\":[{\"default\":\"flex-start\",\"kind\":null,\"name\":\"align_content\"},{\"default\":\"flex-start\",\"kind\":null,\"name\":\"align_items\"},{\"default\":\"row\",\"kind\":null,\"name\":\"flex_direction\"},{\"default\":\"wrap\",\"kind\":null,\"name\":\"flex_wrap\"},{\"default\":\"flex-start\",\"kind\":null,\"name\":\"justify_content\"}]},{\"extends\":null,\"module\":null,\"name\":\"GridStack1\",\"overrides\":[],\"properties\":[{\"default\":\"warn\",\"kind\":null,\"name\":\"mode\"},{\"default\":null,\"kind\":null,\"name\":\"ncols\"},{\"default\":null,\"kind\":null,\"name\":\"nrows\"},{\"default\":true,\"kind\":null,\"name\":\"allow_resize\"},{\"default\":true,\"kind\":null,\"name\":\"allow_drag\"},{\"default\":[],\"kind\":null,\"name\":\"state\"}]},{\"extends\":null,\"module\":null,\"name\":\"click1\",\"overrides\":[],\"properties\":[{\"default\":\"\",\"kind\":null,\"name\":\"terminal_output\"},{\"default\":\"\",\"kind\":null,\"name\":\"debug_name\"},{\"default\":0,\"kind\":null,\"name\":\"clears\"}]},{\"extends\":null,\"module\":null,\"name\":\"NotificationAreaBase1\",\"overrides\":[],\"properties\":[{\"default\":\"bottom-right\",\"kind\":null,\"name\":\"position\"},{\"default\":0,\"kind\":null,\"name\":\"_clear\"}]},{\"extends\":null,\"module\":null,\"name\":\"NotificationArea1\",\"overrides\":[],\"properties\":[{\"default\":[],\"kind\":null,\"name\":\"notifications\"},{\"default\":\"bottom-right\",\"kind\":null,\"name\":\"position\"},{\"default\":0,\"kind\":null,\"name\":\"_clear\"},{\"default\":[{\"background\":\"#ffc107\",\"icon\":{\"className\":\"fas fa-exclamation-triangle\",\"color\":\"white\",\"tagName\":\"i\"},\"type\":\"warning\"},{\"background\":\"#007bff\",\"icon\":{\"className\":\"fas fa-info-circle\",\"color\":\"white\",\"tagName\":\"i\"},\"type\":\"info\"}],\"kind\":null,\"name\":\"types\"}]},{\"extends\":null,\"module\":null,\"name\":\"Notification\",\"overrides\":[],\"properties\":[{\"default\":null,\"kind\":null,\"name\":\"background\"},{\"default\":3000,\"kind\":null,\"name\":\"duration\"},{\"default\":null,\"kind\":null,\"name\":\"icon\"},{\"default\":\"\",\"kind\":null,\"name\":\"message\"},{\"default\":null,\"kind\":null,\"name\":\"notification_type\"},{\"default\":false,\"kind\":null,\"name\":\"_destroyed\"}]},{\"extends\":null,\"module\":null,\"name\":\"TemplateActions1\",\"overrides\":[],\"properties\":[{\"default\":0,\"kind\":null,\"name\":\"open_modal\"},{\"default\":0,\"kind\":null,\"name\":\"close_modal\"}]},{\"extends\":null,\"module\":null,\"name\":\"MaterialTemplateActions1\",\"overrides\":[],\"properties\":[{\"default\":0,\"kind\":null,\"name\":\"open_modal\"},{\"default\":0,\"kind\":null,\"name\":\"close_modal\"}]}],\"roots\":{\"references\":[{\"attributes\":{\"text\":{\"field\":\"index\"},\"text_align\":{\"value\":\"center\"},\"text_alpha\":{\"value\":0.2},\"text_baseline\":{\"value\":\"middle\"},\"text_color\":{\"value\":\"blue\"},\"text_font_size\":{\"value\":\"12pt\"},\"x\":{\"field\":\"x\",\"transform\":{\"id\":\"1801\"}},\"y\":{\"field\":\"y\",\"transform\":{\"id\":\"1802\"}}},\"id\":\"1808\",\"type\":\"Text\"},{\"attributes\":{\"line_alpha\":{\"value\":0.2},\"line_width\":{\"value\":2}},\"id\":\"1785\",\"type\":\"MultiLine\"},{\"attributes\":{\"range\":null,\"value\":0.05},\"id\":\"1802\",\"type\":\"Dodge\"},{\"attributes\":{},\"id\":\"1804\",\"type\":\"Selection\"},{\"attributes\":{\"margin\":[5,5,5,5],\"name\":\"HSpacer02449\",\"sizing_mode\":\"stretch_width\"},\"id\":\"1729\",\"type\":\"Spacer\"},{\"attributes\":{},\"id\":\"1797\",\"type\":\"NodesAndLinkedEdges\"},{\"attributes\":{\"range\":null},\"id\":\"1801\",\"type\":\"Dodge\"},{\"attributes\":{\"text\":{\"field\":\"index\"},\"text_align\":{\"value\":\"center\"},\"text_alpha\":{\"value\":0.1},\"text_baseline\":{\"value\":\"middle\"},\"text_color\":{\"value\":\"blue\"},\"text_font_size\":{\"value\":\"12pt\"},\"x\":{\"field\":\"x\",\"transform\":{\"id\":\"1801\"}},\"y\":{\"field\":\"y\",\"transform\":{\"id\":\"1802\"}}},\"id\":\"1807\",\"type\":\"Text\"},{\"attributes\":{},\"id\":\"1799\",\"type\":\"NodesAndLinkedEdges\"},{\"attributes\":{},\"id\":\"1835\",\"type\":\"UnionRenderers\"},{\"attributes\":{},\"id\":\"1738\",\"type\":\"LinearScale\"},{\"attributes\":{},\"id\":\"1836\",\"type\":\"Selection\"},{\"attributes\":{\"range\":null,\"value\":-0.05},\"id\":\"1813\",\"type\":\"Dodge\"},{\"attributes\":{\"coordinates\":null,\"data_source\":{\"id\":\"1814\"},\"glyph\":{\"id\":\"1817\"},\"group\":null,\"hover_glyph\":null,\"muted_glyph\":{\"id\":\"1819\"},\"nonselection_glyph\":{\"id\":\"1818\"},\"selection_glyph\":{\"id\":\"1822\"},\"view\":{\"id\":\"1821\"}},\"id\":\"1820\",\"type\":\"GlyphRenderer\"},{\"attributes\":{\"children\":[{\"id\":\"1729\"},{\"id\":\"1733\"},{\"id\":\"1839\"}],\"margin\":[0,0,0,0],\"name\":\"Row02445\",\"tags\":[\"embedded\"]},\"id\":\"1728\",\"type\":\"Row\"},{\"attributes\":{\"source\":{\"id\":\"1773\"}},\"id\":\"1787\",\"type\":\"CDSView\"},{\"attributes\":{\"text\":{\"field\":\"index\"},\"text_align\":{\"value\":\"center\"},\"text_alpha\":{\"value\":0.2},\"text_baseline\":{\"value\":\"middle\"},\"text_color\":{\"value\":\"black\"},\"text_font_size\":{\"value\":\"8pt\"},\"x\":{\"field\":\"x\",\"transform\":{\"id\":\"1812\"}},\"y\":{\"field\":\"y\",\"transform\":{\"id\":\"1813\"}}},\"id\":\"1819\",\"type\":\"Text\"},{\"attributes\":{},\"id\":\"1767\",\"type\":\"AllLabels\"},{\"attributes\":{\"callback\":null,\"renderers\":[{\"id\":\"1788\"}],\"tags\":[\"hv_created\"],\"tooltips\":[[\"index\",\"@{index_hover}\"],[\"item_category\",\"@{item_category}\"],[\"item_subtype\",\"@{item_subtype}\"]]},\"id\":\"1732\",\"type\":\"HoverTool\"},{\"attributes\":{\"angle\":{\"value\":0},\"text\":{\"field\":\"index\"},\"text_align\":{\"value\":\"center\"},\"text_alpha\":{\"value\":1.0},\"text_baseline\":{\"value\":\"middle\"},\"text_color\":{\"value\":\"blue\"},\"text_font_size\":{\"value\":\"12pt\"},\"text_font_style\":{\"value\":\"normal\"},\"text_line_height\":{\"value\":1.2},\"x\":{\"field\":\"x\",\"transform\":{\"id\":\"1801\"}},\"x_offset\":{\"value\":0},\"y\":{\"field\":\"y\",\"transform\":{\"id\":\"1802\"}},\"y_offset\":{\"value\":0}},\"id\":\"1811\",\"type\":\"Text\"},{\"attributes\":{\"coordinates\":null,\"edge_renderer\":{\"id\":\"1786\"},\"group\":null,\"inspection_policy\":{\"id\":\"1799\"},\"layout_provider\":{\"id\":\"1774\"},\"node_renderer\":{\"id\":\"1780\"},\"selection_policy\":{\"id\":\"1797\"}},\"id\":\"1788\",\"type\":\"GraphRenderer\"},{\"attributes\":{\"data\":{\"index\":[\"10378.1/1691958\",\"10378.1/1696142\"],\"x\":{\"__ndarray__\":\"AR6FjdjD5b8EHoWN2MPlPw==\",\"dtype\":\"float64\",\"order\":\"little\",\"shape\":[2]},\"y\":{\"__ndarray__\":\"AAAAAAAA8D8AAAAAAADwvw==\",\"dtype\":\"float64\",\"order\":\"little\",\"shape\":[2]}},\"selected\":{\"id\":\"1804\"},\"selection_policy\":{\"id\":\"1830\"}},\"id\":\"1803\",\"type\":\"ColumnDataSource\"},{\"attributes\":{\"coordinates\":null,\"data_source\":{\"id\":\"1803\"},\"glyph\":{\"id\":\"1806\"},\"group\":null,\"hover_glyph\":null,\"muted_glyph\":{\"id\":\"1808\"},\"nonselection_glyph\":{\"id\":\"1807\"},\"selection_glyph\":{\"id\":\"1811\"},\"view\":{\"id\":\"1810\"}},\"id\":\"1809\",\"type\":\"GlyphRenderer\"},{\"attributes\":{},\"id\":\"1766\",\"type\":\"BasicTickFormatter\"},{\"attributes\":{\"coordinates\":null,\"data_source\":{\"id\":\"1773\"},\"glyph\":{\"id\":\"1782\"},\"group\":null,\"hover_glyph\":{\"id\":\"1784\"},\"muted_glyph\":{\"id\":\"1785\"},\"nonselection_glyph\":{\"id\":\"1783\"},\"view\":{\"id\":\"1787\"}},\"id\":\"1786\",\"type\":\"GlyphRenderer\"},{\"attributes\":{\"line_color\":{\"value\":\"limegreen\"},\"line_width\":{\"value\":2}},\"id\":\"1784\",\"type\":\"MultiLine\"},{\"attributes\":{},\"id\":\"1769\",\"type\":\"BasicTickFormatter\"},{\"attributes\":{\"source\":{\"id\":\"1803\"}},\"id\":\"1810\",\"type\":\"CDSView\"},{\"attributes\":{\"text\":{\"field\":\"index\"},\"text_align\":{\"value\":\"center\"},\"text_baseline\":{\"value\":\"middle\"},\"text_color\":{\"value\":\"blue\"},\"text_font_size\":{\"value\":\"12pt\"},\"x\":{\"field\":\"x\",\"transform\":{\"id\":\"1801\"}},\"y\":{\"field\":\"y\",\"transform\":{\"id\":\"1802\"}}},\"id\":\"1806\",\"type\":\"Text\"},{\"attributes\":{},\"id\":\"1837\",\"type\":\"UnionRenderers\"},{\"attributes\":{\"end\":0.7821805170699724,\"reset_end\":0.7821805170699724,\"reset_start\":-0.782180517069972,\"start\":-0.782180517069972,\"tags\":[[[\"x\",\"x\",null]]]},\"id\":\"1730\",\"type\":\"Range1d\"},{\"attributes\":{},\"id\":\"1770\",\"type\":\"AllLabels\"},{\"attributes\":{\"source\":{\"id\":\"1814\"}},\"id\":\"1821\",\"type\":\"CDSView\"},{\"attributes\":{\"background_fill_color\":\"pink\",\"below\":[{\"id\":\"1742\"}],\"center\":[{\"id\":\"1745\"},{\"id\":\"1749\"}],\"left\":[{\"id\":\"1746\"}],\"margin\":[5,5,5,5],\"min_border_bottom\":10,\"min_border_left\":10,\"min_border_right\":10,\"min_border_top\":10,\"renderers\":[{\"id\":\"1788\"},{\"id\":\"1809\"},{\"id\":\"1820\"}],\"sizing_mode\":\"fixed\",\"title\":{\"id\":\"1734\"},\"toolbar\":{\"id\":\"1757\"},\"width\":800,\"x_range\":{\"id\":\"1730\"},\"x_scale\":{\"id\":\"1738\"},\"y_range\":{\"id\":\"1731\"},\"y_scale\":{\"id\":\"1740\"}},\"id\":\"1733\",\"subtype\":\"Figure\",\"type\":\"Plot\"},{\"attributes\":{},\"id\":\"1838\",\"type\":\"Selection\"},{\"attributes\":{\"graph_layout\":{\"0\":[-0.680156971365193,1.0],\"1\":[0.6801569713651934,-1.0]}},\"id\":\"1774\",\"type\":\"StaticLayoutProvider\"},{\"attributes\":{\"coordinates\":null,\"group\":null,\"text_color\":\"black\",\"text_font_size\":\"12pt\"},\"id\":\"1734\",\"type\":\"Title\"},{\"attributes\":{\"source\":{\"id\":\"1772\"}},\"id\":\"1781\",\"type\":\"CDSView\"},{\"attributes\":{\"data\":{\"end\":{\"__ndarray__\":\"AQAAAA==\",\"dtype\":\"int32\",\"order\":\"little\",\"shape\":[1]},\"start\":{\"__ndarray__\":\"AAAAAA==\",\"dtype\":\"int32\",\"order\":\"little\",\"shape\":[1]},\"xs\":[{\"__ndarray__\":\"AR6FjdjD5b8EHoWN2MPlPwAAAAAAAPh/Sxz3JIp45D8EHoWN2MPlP3iJO8VVc+U/\",\"dtype\":\"float64\",\"order\":\"little\",\"shape\":[6]}],\"ys\":[{\"__ndarray__\":\"AAAAAAAA8D8AAAAAAADwvwAAAAAAAPh/JEa5o40m778AAAAAAADwvzMfgBj5e+6/\",\"dtype\":\"float64\",\"order\":\"little\",\"shape\":[6]}]},\"selected\":{\"id\":\"1838\"},\"selection_policy\":{\"id\":\"1837\"}},\"id\":\"1773\",\"type\":\"ColumnDataSource\"},{\"attributes\":{},\"id\":\"1830\",\"type\":\"UnionRenderers\"},{\"attributes\":{\"range\":null},\"id\":\"1812\",\"type\":\"Dodge\"},{\"attributes\":{\"text\":{\"field\":\"index\"},\"text_align\":{\"value\":\"center\"},\"text_alpha\":{\"value\":0.1},\"text_baseline\":{\"value\":\"middle\"},\"text_color\":{\"value\":\"black\"},\"text_font_size\":{\"value\":\"8pt\"},\"x\":{\"field\":\"x\",\"transform\":{\"id\":\"1812\"}},\"y\":{\"field\":\"y\",\"transform\":{\"id\":\"1813\"}}},\"id\":\"1818\",\"type\":\"Text\"},{\"attributes\":{},\"id\":\"1747\",\"type\":\"BasicTicker\"},{\"attributes\":{\"data\":{\"index\":{\"__ndarray__\":\"AAAAAAEAAAA=\",\"dtype\":\"int32\",\"order\":\"little\",\"shape\":[2]},\"index_hover\":[\"10378.1/1691958\",\"10378.1/1696142\"],\"item_category\":[\"ENTITY\",\"ACTIVITY\"],\"item_subtype\":[\"DATASET\",\"MODEL_RUN\"],\"node_color\":[\"ENTITY\",\"ACTIVITY\"]},\"selected\":{\"id\":\"1836\"},\"selection_policy\":{\"id\":\"1835\"}},\"id\":\"1772\",\"type\":\"ColumnDataSource\"},{\"attributes\":{\"line_alpha\":{\"value\":0.2},\"line_width\":{\"value\":2}},\"id\":\"1783\",\"type\":\"MultiLine\"},{\"attributes\":{\"fill_alpha\":{\"value\":0.2},\"fill_color\":{\"field\":\"node_color\",\"transform\":{\"id\":\"1771\"}},\"hatch_alpha\":{\"value\":0.2},\"hatch_color\":{\"field\":\"node_color\",\"transform\":{\"id\":\"1771\"}},\"line_alpha\":{\"value\":0.2},\"size\":{\"value\":10}},\"id\":\"1776\",\"type\":\"Circle\"},{\"attributes\":{},\"id\":\"1832\",\"type\":\"UnionRenderers\"},{\"attributes\":{\"factors\":[\"ENTITY\",\"ACTIVITY\"],\"palette\":[\"blue\",\"orange\"]},\"id\":\"1771\",\"type\":\"CategoricalColorMapper\"},{\"attributes\":{},\"id\":\"1740\",\"type\":\"LinearScale\"},{\"attributes\":{\"data\":{\"index\":[\"10378.1/1691958\",\"10378.1/1696142\"],\"x\":{\"__ndarray__\":\"AR6FjdjD5b8EHoWN2MPlPw==\",\"dtype\":\"float64\",\"order\":\"little\",\"shape\":[2]},\"y\":{\"__ndarray__\":\"AAAAAAAA8D8AAAAAAADwvw==\",\"dtype\":\"float64\",\"order\":\"little\",\"shape\":[2]}},\"selected\":{\"id\":\"1815\"},\"selection_policy\":{\"id\":\"1832\"}},\"id\":\"1814\",\"type\":\"ColumnDataSource\"},{\"attributes\":{\"axis\":{\"id\":\"1742\"},\"coordinates\":null,\"grid_line_color\":null,\"group\":null,\"ticker\":null},\"id\":\"1745\",\"type\":\"Grid\"},{\"attributes\":{\"coordinates\":null,\"data_source\":{\"id\":\"1772\"},\"glyph\":{\"id\":\"1775\"},\"group\":null,\"hover_glyph\":{\"id\":\"1778\"},\"muted_glyph\":{\"id\":\"1779\"},\"nonselection_glyph\":{\"id\":\"1776\"},\"selection_glyph\":{\"id\":\"1777\"},\"view\":{\"id\":\"1781\"}},\"id\":\"1780\",\"type\":\"GlyphRenderer\"},{\"attributes\":{},\"id\":\"1815\",\"type\":\"Selection\"},{\"attributes\":{\"axis_label\":\"x\",\"coordinates\":null,\"formatter\":{\"id\":\"1766\"},\"group\":null,\"major_label_policy\":{\"id\":\"1767\"},\"ticker\":{\"id\":\"1743\"}},\"id\":\"1742\",\"type\":\"LinearAxis\"},{\"attributes\":{\"fill_alpha\":{\"value\":0.2},\"fill_color\":{\"field\":\"node_color\",\"transform\":{\"id\":\"1771\"}},\"hatch_alpha\":{\"value\":0.2},\"hatch_color\":{\"field\":\"node_color\",\"transform\":{\"id\":\"1771\"}},\"line_alpha\":{\"value\":0.2},\"size\":{\"value\":10}},\"id\":\"1779\",\"type\":\"Circle\"},{\"attributes\":{\"angle\":{\"value\":0},\"text\":{\"field\":\"index\"},\"text_align\":{\"value\":\"center\"},\"text_alpha\":{\"value\":1.0},\"text_baseline\":{\"value\":\"middle\"},\"text_color\":{\"value\":\"black\"},\"text_font_size\":{\"value\":\"8pt\"},\"text_font_style\":{\"value\":\"normal\"},\"text_line_height\":{\"value\":1.2},\"x\":{\"field\":\"x\",\"transform\":{\"id\":\"1812\"}},\"x_offset\":{\"value\":0},\"y\":{\"field\":\"y\",\"transform\":{\"id\":\"1813\"}},\"y_offset\":{\"value\":0}},\"id\":\"1822\",\"type\":\"Text\"},{\"attributes\":{\"end\":1.2,\"reset_end\":1.2,\"reset_start\":-1.2,\"start\":-1.2,\"tags\":[[[\"y\",\"y\",null]]]},\"id\":\"1731\",\"type\":\"Range1d\"},{\"attributes\":{},\"id\":\"1743\",\"type\":\"BasicTicker\"},{\"attributes\":{\"fill_color\":{\"value\":\"limegreen\"},\"hatch_color\":{\"field\":\"node_color\",\"transform\":{\"id\":\"1771\"}},\"size\":{\"value\":10}},\"id\":\"1778\",\"type\":\"Circle\"},{\"attributes\":{\"margin\":[5,5,5,5],\"name\":\"HSpacer02450\",\"sizing_mode\":\"stretch_width\"},\"id\":\"1839\",\"type\":\"Spacer\"},{\"attributes\":{},\"id\":\"1751\",\"type\":\"PanTool\"},{\"attributes\":{\"axis_label\":\"y\",\"coordinates\":null,\"formatter\":{\"id\":\"1769\"},\"group\":null,\"major_label_policy\":{\"id\":\"1770\"},\"ticker\":{\"id\":\"1747\"}},\"id\":\"1746\",\"type\":\"LinearAxis\"},{\"attributes\":{\"axis\":{\"id\":\"1746\"},\"coordinates\":null,\"dimension\":1,\"grid_line_color\":null,\"group\":null,\"ticker\":null},\"id\":\"1749\",\"type\":\"Grid\"},{\"attributes\":{\"text\":{\"field\":\"index\"},\"text_align\":{\"value\":\"center\"},\"text_baseline\":{\"value\":\"middle\"},\"text_color\":{\"value\":\"black\"},\"text_font_size\":{\"value\":\"8pt\"},\"x\":{\"field\":\"x\",\"transform\":{\"id\":\"1812\"}},\"y\":{\"field\":\"y\",\"transform\":{\"id\":\"1813\"}}},\"id\":\"1817\",\"type\":\"Text\"},{\"attributes\":{\"line_width\":{\"value\":2}},\"id\":\"1782\",\"type\":\"MultiLine\"},{\"attributes\":{},\"id\":\"1752\",\"type\":\"WheelZoomTool\"},{\"attributes\":{},\"id\":\"1750\",\"type\":\"SaveTool\"},{\"attributes\":{\"overlay\":{\"id\":\"1756\"}},\"id\":\"1753\",\"type\":\"BoxZoomTool\"},{\"attributes\":{\"fill_color\":{\"field\":\"node_color\",\"transform\":{\"id\":\"1771\"}},\"hatch_color\":{\"field\":\"node_color\",\"transform\":{\"id\":\"1771\"}},\"size\":{\"value\":10}},\"id\":\"1775\",\"type\":\"Circle\"},{\"attributes\":{},\"id\":\"1754\",\"type\":\"ResetTool\"},{\"attributes\":{\"fill_color\":{\"field\":\"node_color\",\"transform\":{\"id\":\"1771\"}},\"hatch_color\":{\"field\":\"node_color\",\"transform\":{\"id\":\"1771\"}},\"size\":{\"value\":10}},\"id\":\"1777\",\"type\":\"Circle\"},{\"attributes\":{\"callback\":null},\"id\":\"1755\",\"type\":\"TapTool\"},{\"attributes\":{\"bottom_units\":\"screen\",\"coordinates\":null,\"fill_alpha\":0.5,\"fill_color\":\"lightgrey\",\"group\":null,\"left_units\":\"screen\",\"level\":\"overlay\",\"line_alpha\":1.0,\"line_color\":\"black\",\"line_dash\":[4,4],\"line_width\":2,\"right_units\":\"screen\",\"syncable\":false,\"top_units\":\"screen\"},\"id\":\"1756\",\"type\":\"BoxAnnotation\"},{\"attributes\":{\"tools\":[{\"id\":\"1732\"},{\"id\":\"1750\"},{\"id\":\"1751\"},{\"id\":\"1752\"},{\"id\":\"1753\"},{\"id\":\"1754\"},{\"id\":\"1755\"}]},\"id\":\"1757\",\"type\":\"Toolbar\"}],\"root_ids\":[\"1728\"]},\"title\":\"Bokeh Application\",\"version\":\"2.4.3\"}}\n",
       "        </script>\n",
       "        <script type=\"text/javascript\">\n",
       "          (function() {\n",
       "            const fn = function() {\n",
       "              Bokeh.safely(function() {\n",
       "                (function(root) {\n",
       "                  function embed_document(root) {\n",
       "                  const docs_json = document.getElementById('1969').textContent;\n",
       "                  const render_items = [{\"docid\":\"c506c66b-5ada-4d7e-9792-977b05cdca67\",\"root_ids\":[\"1728\"],\"roots\":{\"1728\":\"f009bc24-2bf5-430d-af0d-b60f21f0973b\"}}];\n",
       "                  root.Bokeh.embed.embed_items(docs_json, render_items);\n",
       "                  }\n",
       "                  if (root.Bokeh !== undefined) {\n",
       "                    embed_document(root);\n",
       "                  } else {\n",
       "                    let attempts = 0;\n",
       "                    const timer = setInterval(function(root) {\n",
       "                      if (root.Bokeh !== undefined) {\n",
       "                        clearInterval(timer);\n",
       "                        embed_document(root);\n",
       "                      } else {\n",
       "                        attempts++;\n",
       "                        if (attempts > 100) {\n",
       "                          clearInterval(timer);\n",
       "                          console.log(\"Bokeh: ERROR: Unable to run BokehJS code because BokehJS library is missing\");\n",
       "                        }\n",
       "                      }\n",
       "                    }, 10, root)\n",
       "                  }\n",
       "                })(window);\n",
       "              });\n",
       "            };\n",
       "            if (document.readyState != \"loading\") fn();\n",
       "            else document.addEventListener(\"DOMContentLoaded\", fn);\n",
       "          })();\n",
       "        </script>\n",
       "  </body>\n",
       "</html>"
      ],
      "text/plain": [
       "<IPython.core.display.HTML object>"
      ]
     },
     "execution_count": 22,
     "metadata": {},
     "output_type": "execute_result"
    }
   ],
   "source": [
    "auth = token_manager.get_auth\n",
    "postfix = \"/explore/downstream\"\n",
    "params = {\n",
    "    #\"starting_id\": \"10378.1/1691197\",\n",
    "    \"starting_id\": model_run_id,\n",
    "    \"depth\": 1\n",
    "}\n",
    "endpoint = prov_api + postfix \n",
    "\n",
    "response_json = handle_request('GET', endpoint, params, None, auth())\n",
    "\n",
    "result_graph = response_json[\"graph\"]\n",
    "\n",
    "networkx_graph = json_graph.node_link_graph(result_graph)\n",
    "im = hv.Graph.from_networkx(networkx_graph, nx.layout.fruchterman_reingold_layout).opts(tools=['hover','tap'],\n",
    "                                                                          node_size=10,\n",
    "                                                                          node_color='item_category',\n",
    "                                                                          cmap = ['blue','orange', 'green', 'red'],\n",
    "                                                                          directed=True, \n",
    "                                                                          arrowhead_length=0.02,\n",
    "                                                                          bgcolor='pink')\n",
    "labels = hv.Labels(im.nodes, ['x', 'y'], 'index').opts(opts.Labels(text_font_size='12pt', text_color='blue', xoffset=0, yoffset=0.05, bgcolor='white'))\n",
    "labels_2 = hv.Labels(im.nodes, ['x', 'y'], 'index').opts(opts.Labels(text_font_size='8pt', xoffset=0, yoffset=-0.05, bgcolor='white'))\n",
    "hv_graph = (im * labels * labels_2)\n",
    "hv.save(hv_graph, 'network.html', backend='bokeh')\n",
    "HTML(\"network.html\")"
   ]
  },
  {
   "cell_type": "markdown",
   "metadata": {},
   "source": [
    "[Return to Top](#toc)"
   ]
  },
  {
   "cell_type": "markdown",
   "metadata": {},
   "source": []
  }
 ],
 "metadata": {
  "kernelspec": {
   "display_name": "Python 3.10.4 ('.venv': venv)",
   "language": "python",
   "name": "python3"
  },
  "language_info": {
   "codemirror_mode": {
    "name": "ipython",
    "version": 3
   },
   "file_extension": ".py",
   "mimetype": "text/x-python",
   "name": "python",
   "nbconvert_exporter": "python",
   "pygments_lexer": "ipython3",
   "version": "3.8.10"
  },
  "vscode": {
   "interpreter": {
    "hash": "3d1275a2fb951f0c374bcc16cfb7eb7840ea16246984712301e7ada442de4250"
   }
  }
 },
 "nbformat": 4,
 "nbformat_minor": 4
}
