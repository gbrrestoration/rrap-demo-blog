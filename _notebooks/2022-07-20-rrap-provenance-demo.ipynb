{
 "cells": [
  {
   "cell_type": "markdown",
   "metadata": {},
   "source": [
    "# RRAP-IS Provenance Demo Notebook\n",
    "\n",
    "> A tutorial of RRAP authentication using Jupyter notebooks.\n",
    "\n",
    "- toc: true \n",
    "- badges: true\n",
    "- comments: true\n",
    "- categories: [jupyter]"
   ]
  },
  {
   "cell_type": "markdown",
   "metadata": {},
   "source": [
    "## About\n",
    "\n",
    "This notebook is a demonstration of generating a record of a model run and searching the provenance database to identify linkages between data, models, users and organisations with the RRAP-IS system.  "
   ]
  },
  {
   "cell_type": "markdown",
   "metadata": {},
   "source": [
    "### Run all imports\n",
    "\n",
    "Keep all your imports at the top of a notebook.  It allows for easier management."
   ]
  },
  {
   "cell_type": "code",
   "execution_count": null,
   "metadata": {},
   "outputs": [],
   "source": [
    "import requests\n",
    "import os\n",
    "import sys\n",
    "import json\n",
    "import json2tree\n",
    "from bs4 import BeautifulSoup\n",
    "from IPython.display import IFrame, display, HTML, JSON, Markdown, Image\n",
    "from mdsisclienttools.auth.TokenManager import DeviceFlowManager\n",
    "\n",
    "import networkx as nx\n",
    "import nx_altair as nxa\n",
    "from networkx.readwrite import json_graph\n",
    "\n",
    "import numpy as np\n",
    "import pandas as pd\n",
    "import holoviews as hv\n",
    "from holoviews import opts\n",
    "hv.extension('bokeh')\n",
    "defaults = dict(width=800, height=600)\n",
    "hv.opts.defaults(opts.EdgePaths(**defaults), opts.Graph(**defaults), opts.Nodes(**defaults))\n",
    "\n",
    "import warnings\n",
    "warnings.filterwarnings(action='once')"
   ]
  },
  {
   "cell_type": "markdown",
   "metadata": {},
   "source": [
    "### Define global variables\n",
    "\n",
    "Similar to import we like to define notebook variable at the top and reuse them throughout the notebook"
   ]
  },
  {
   "cell_type": "code",
   "execution_count": 2,
   "metadata": {},
   "outputs": [
    {
     "data": {
      "text/plain": [
       "'Checking base urls'"
      ]
     },
     "metadata": {},
     "output_type": "display_data"
    },
    {
     "name": "stdout",
     "output_type": "stream",
     "text": [
      "Testing - https://data-api.testing.rrap-is.com - Passed\n",
      "Testing - https://registry-api.testing.rrap-is.com - Passed\n",
      "Testing - https://prov-api.testing.rrap-is.com - Passed\n",
      "Testing - https://auth.dev.rrap-is.com/auth/realms/rrap - Passed\n"
     ]
    }
   ],
   "source": [
    "data_api = \"https://data-api.testing.rrap-is.com\"\n",
    "registry_api = \"https://registry-api.testing.rrap-is.com\"\n",
    "prov_api = \"https://prov-api.testing.rrap-is.com\"\n",
    "auth_server = \"https://auth.dev.rrap-is.com/auth/realms/rrap\"\n",
    "# garbage = \"https://frogs.are.green\"\n",
    "base_urls = {'data_api': data_api, 'registry_api': registry_api, 'prov_api': prov_api, 'auth_server': auth_server}#, 'garbage': garbage}\n",
    "display(f'Checking base urls')\n",
    "\n",
    "for key, url in base_urls.items():\n",
    "    try:\n",
    "        print(f'Testing - {url}', end=\"\")\n",
    "        r = requests.get(url)\n",
    "        r.raise_for_status()\n",
    "        print(f' - Passed')\n",
    "    except requests.exceptions.HTTPError as err:\n",
    "        print(f' - Fail')\n",
    "        raise SystemExit(err)\n",
    "    except requests.exceptions.RequestException as e:\n",
    "        # catastrophic error. bail.\n",
    "        print(f' - Fail')\n",
    "        raise SystemExit(e)"
   ]
  },
  {
   "cell_type": "markdown",
   "metadata": {},
   "source": [
    "## Authentication\n",
    "\n",
    "### Setup tokens using device authorisation flow against keycloak server\n",
    "\n",
    "This could result in a browser window being opened if you don't have valid tokens cached in local storage.\n",
    "\n",
    "[Return to Top](#toc)"
   ]
  },
  {
   "cell_type": "code",
   "execution_count": null,
   "metadata": {},
   "outputs": [],
   "source": [
    "# this caches the tokens\n",
    "local_token_storage = \".tokens.json\"\n",
    "\n",
    "token_manager = DeviceFlowManager(\n",
    "    stage=\"TEST\",\n",
    "    keycloak_endpoint=auth_server,\n",
    "    local_storage_location=local_token_storage\n",
    ")"
   ]
  },
  {
   "cell_type": "markdown",
   "metadata": {},
   "source": [
    "## Endpoint Documentation\n",
    "Endpoint documentation can be found by appending either `/docs` or `/redoc` on the end a base URL.\n",
    "\n",
    "For example:\n",
    "<ul>\n",
    "  <li><a href=\"https://prov-api.testing.rrap-is.com//redoc\" target=\"_blank\">Redoc FastAPI</a></li>\n",
    "  <li><a href=\"https://prov-api.testing.rrap-is.com//docs\" target=\"_blank\">Docs FastAPI</a> </li>\n",
    "</ul>\n",
    "\n",
    "Then select from the menu an endpoint function call e.g. `/explore/lineage`\n",
    "\n",
    "Then append the function call onto the base url e.g. `https://prov-api.testing.rrap-is.com/explore/lineage`\n",
    "\n",
    "[Return to Top](#toc)"
   ]
  },
  {
   "cell_type": "markdown",
   "metadata": {},
   "source": [
    "## Demonstration"
   ]
  },
  {
   "cell_type": "markdown",
   "metadata": {},
   "source": [
    "### Register a model run\n",
    "see <a href=\"https://prov-api.testing.rrap-is.com/redoc#tag/Model-Runs/operation/register_model_run_complete_model_run_register_complete_post\" target=\"_blank\">Endpoint documentation</a>"
   ]
  },
  {
   "cell_type": "code",
   "execution_count": 10,
   "metadata": {},
   "outputs": [
    {
     "name": "stdout",
     "output_type": "stream",
     "text": [
      "{\n",
      "  \"success\": true,\n",
      "  \"details\": \"All successful.\"\n",
      "}\n"
     ]
    }
   ],
   "source": [
    "auth = token_manager.get_auth\n",
    "postfix = \"/model_run/register_complete\"\n",
    "payload = {\n",
    "  \"inputs\": {\n",
    "    \"datasets\": [\n",
    "      {\n",
    "        \"id\": \"10378.1/1687286\"\n",
    "      }\n",
    "    ],\n",
    "    \"config_files\": [\n",
    "      {\n",
    "        \"id\": \"10378.1/1687612\"\n",
    "      }\n",
    "    ],\n",
    "    \"parameter_files\": [\n",
    "      {\n",
    "        \"id\": \"10378.1/1687695\"\n",
    "      }\n",
    "    ]\n",
    "  },\n",
    "  \"outputs\": {\n",
    "    \"datasets\": [\n",
    "      {\n",
    "        \"id\": \"10378.1/1687280\"\n",
    "      }\n",
    "    ]\n",
    "  },\n",
    "  \"associations\": {\n",
    "    \"model\": {\n",
    "      \"id\": \"10378.1/1687693\"\n",
    "    },\n",
    "    \"modeller\": {\n",
    "      \"id\": \"10378.1/1687696\"\n",
    "    },\n",
    "    \"requesting_organisation\": {\n",
    "      \"id\": \"10378.1/1687697\"\n",
    "    }\n",
    "  }\n",
    "}\n",
    "endpoint = prov_api + postfix \n",
    "\n",
    "# When making the request, use auth=auth() - this will ensure tokens are valid\n",
    "# right at the point of using them, including potentially auto refreshing!\n",
    "response = requests.post(endpoint, json=payload, auth=auth())\n",
    "\n",
    "\n",
    "print(json.dumps(response.json()['status'], indent=2))"
   ]
  },
  {
   "cell_type": "markdown",
   "metadata": {},
   "source": [
    "### Explore lineage"
   ]
  },
  {
   "cell_type": "code",
   "execution_count": 6,
   "metadata": {
    "tags": []
   },
   "outputs": [
    {
     "data": {
      "text/html": [
       "\n",
       "\n",
       "<!DOCTYPE html>\n",
       "<html lang=\"en\">\n",
       "  <head>\n",
       "      <meta charset=\"utf-8\">\n",
       "      <title>lineage_network</title>\n",
       "              <link rel=\"stylesheet\" href=\"https://cdn.jsdelivr.net/npm/notyf@3/notyf.min.css\" type=\"text/css\" />\n",
       "            <link rel=\"stylesheet\" href=\"https://cdnjs.cloudflare.com/ajax/libs/font-awesome/5.15.1/css/all.min.css\" type=\"text/css\" />\n",
       "            <link rel=\"stylesheet\" href=\"https://unpkg.com/@holoviz/panel@0.13.1/dist/css/loading.css\" type=\"text/css\" />\n",
       "            <link rel=\"stylesheet\" href=\"https://unpkg.com/@holoviz/panel@0.13.1/dist/css/debugger.css\" type=\"text/css\" />\n",
       "            <link rel=\"stylesheet\" href=\"https://unpkg.com/@holoviz/panel@0.13.1/dist/css/json.css\" type=\"text/css\" />\n",
       "            <link rel=\"stylesheet\" href=\"https://unpkg.com/@holoviz/panel@0.13.1/dist/css/alerts.css\" type=\"text/css\" />\n",
       "            <link rel=\"stylesheet\" href=\"https://unpkg.com/@holoviz/panel@0.13.1/dist/css/dataframe.css\" type=\"text/css\" />\n",
       "            <link rel=\"stylesheet\" href=\"https://unpkg.com/@holoviz/panel@0.13.1/dist/css/card.css\" type=\"text/css\" />\n",
       "            <link rel=\"stylesheet\" href=\"https://unpkg.com/@holoviz/panel@0.13.1/dist/css/widgets.css\" type=\"text/css\" />\n",
       "            <link rel=\"stylesheet\" href=\"https://unpkg.com/@holoviz/panel@0.13.1/dist/css/markdown.css\" type=\"text/css\" />\n",
       "            <style>\n",
       "                \n",
       "            .bk.pn-loading.arcs:before {\n",
       "              background-image: url(\"data:image/svg+xml;base64,PHN2ZyB4bWxucz0iaHR0cDovL3d3dy53My5vcmcvMjAwMC9zdmciIHhtbG5zOnhsaW5rPSJodHRwOi8vd3d3LnczLm9yZy8xOTk5L3hsaW5rIiBzdHlsZT0ibWFyZ2luOiBhdXRvOyBiYWNrZ3JvdW5kOiBub25lOyBkaXNwbGF5OiBibG9jazsgc2hhcGUtcmVuZGVyaW5nOiBhdXRvOyIgdmlld0JveD0iMCAwIDEwMCAxMDAiIHByZXNlcnZlQXNwZWN0UmF0aW89InhNaWRZTWlkIj4gIDxjaXJjbGUgY3g9IjUwIiBjeT0iNTAiIHI9IjMyIiBzdHJva2Utd2lkdGg9IjgiIHN0cm9rZT0iI2MzYzNjMyIgc3Ryb2tlLWRhc2hhcnJheT0iNTAuMjY1NDgyNDU3NDM2NjkgNTAuMjY1NDgyNDU3NDM2NjkiIGZpbGw9Im5vbmUiIHN0cm9rZS1saW5lY2FwPSJyb3VuZCI+ICAgIDxhbmltYXRlVHJhbnNmb3JtIGF0dHJpYnV0ZU5hbWU9InRyYW5zZm9ybSIgdHlwZT0icm90YXRlIiByZXBlYXRDb3VudD0iaW5kZWZpbml0ZSIgZHVyPSIxcyIga2V5VGltZXM9IjA7MSIgdmFsdWVzPSIwIDUwIDUwOzM2MCA1MCA1MCI+PC9hbmltYXRlVHJhbnNmb3JtPiAgPC9jaXJjbGU+PC9zdmc+\");\n",
       "              background-size: auto calc(min(50%, 400px));\n",
       "            }\n",
       "            \n",
       "            </style>\n",
       "\n",
       "          <script type=\"text/javascript\" src=\"https://cdn.bokeh.org/bokeh/release/bokeh-2.4.3.min.js\"></script><script type=\"text/javascript\" src=\"https://cdn.bokeh.org/bokeh/release/bokeh-gl-2.4.3.min.js\"></script><script type=\"text/javascript\" src=\"https://cdn.bokeh.org/bokeh/release/bokeh-widgets-2.4.3.min.js\"></script><script type=\"text/javascript\" src=\"https://cdn.bokeh.org/bokeh/release/bokeh-tables-2.4.3.min.js\"></script><script type=\"text/javascript\" src=\"https://cdn.jsdelivr.net/npm/notyf@3/notyf.min.js\"></script><script type=\"text/javascript\" src=\"https://unpkg.com/@holoviz/panel@0.13.1/dist/panel.min.js\"></script><script type=\"text/javascript\">\n",
       "            Bokeh.set_log_level(\"info\");\n",
       "        </script>\n",
       "  </head>\n",
       "  <body>\n",
       "          \n",
       "              <div class=\"bk-root\" id=\"4c2c52f3-6405-48ca-9142-02df4b418606\" data-root-id=\"1002\"></div>\n",
       "      \n",
       "        <script type=\"application/json\" id=\"1183\">\n",
       "          {\"ed74df40-7c46-4085-b9c5-c5a4638aa287\":{\"defs\":[{\"extends\":null,\"module\":null,\"name\":\"ReactiveHTML1\",\"overrides\":[],\"properties\":[]},{\"extends\":null,\"module\":null,\"name\":\"FlexBox1\",\"overrides\":[],\"properties\":[{\"default\":\"flex-start\",\"kind\":null,\"name\":\"align_content\"},{\"default\":\"flex-start\",\"kind\":null,\"name\":\"align_items\"},{\"default\":\"row\",\"kind\":null,\"name\":\"flex_direction\"},{\"default\":\"wrap\",\"kind\":null,\"name\":\"flex_wrap\"},{\"default\":\"flex-start\",\"kind\":null,\"name\":\"justify_content\"}]},{\"extends\":null,\"module\":null,\"name\":\"GridStack1\",\"overrides\":[],\"properties\":[{\"default\":\"warn\",\"kind\":null,\"name\":\"mode\"},{\"default\":null,\"kind\":null,\"name\":\"ncols\"},{\"default\":null,\"kind\":null,\"name\":\"nrows\"},{\"default\":true,\"kind\":null,\"name\":\"allow_resize\"},{\"default\":true,\"kind\":null,\"name\":\"allow_drag\"},{\"default\":[],\"kind\":null,\"name\":\"state\"}]},{\"extends\":null,\"module\":null,\"name\":\"click1\",\"overrides\":[],\"properties\":[{\"default\":\"\",\"kind\":null,\"name\":\"terminal_output\"},{\"default\":\"\",\"kind\":null,\"name\":\"debug_name\"},{\"default\":0,\"kind\":null,\"name\":\"clears\"}]},{\"extends\":null,\"module\":null,\"name\":\"NotificationAreaBase1\",\"overrides\":[],\"properties\":[{\"default\":\"bottom-right\",\"kind\":null,\"name\":\"position\"},{\"default\":0,\"kind\":null,\"name\":\"_clear\"}]},{\"extends\":null,\"module\":null,\"name\":\"NotificationArea1\",\"overrides\":[],\"properties\":[{\"default\":[],\"kind\":null,\"name\":\"notifications\"},{\"default\":\"bottom-right\",\"kind\":null,\"name\":\"position\"},{\"default\":0,\"kind\":null,\"name\":\"_clear\"},{\"default\":[{\"background\":\"#ffc107\",\"icon\":{\"className\":\"fas fa-exclamation-triangle\",\"color\":\"white\",\"tagName\":\"i\"},\"type\":\"warning\"},{\"background\":\"#007bff\",\"icon\":{\"className\":\"fas fa-info-circle\",\"color\":\"white\",\"tagName\":\"i\"},\"type\":\"info\"}],\"kind\":null,\"name\":\"types\"}]},{\"extends\":null,\"module\":null,\"name\":\"Notification\",\"overrides\":[],\"properties\":[{\"default\":null,\"kind\":null,\"name\":\"background\"},{\"default\":3000,\"kind\":null,\"name\":\"duration\"},{\"default\":null,\"kind\":null,\"name\":\"icon\"},{\"default\":\"\",\"kind\":null,\"name\":\"message\"},{\"default\":null,\"kind\":null,\"name\":\"notification_type\"},{\"default\":false,\"kind\":null,\"name\":\"_destroyed\"}]},{\"extends\":null,\"module\":null,\"name\":\"TemplateActions1\",\"overrides\":[],\"properties\":[{\"default\":0,\"kind\":null,\"name\":\"open_modal\"},{\"default\":0,\"kind\":null,\"name\":\"close_modal\"}]},{\"extends\":null,\"module\":null,\"name\":\"MaterialTemplateActions1\",\"overrides\":[],\"properties\":[{\"default\":0,\"kind\":null,\"name\":\"open_modal\"},{\"default\":0,\"kind\":null,\"name\":\"close_modal\"}]}],\"roots\":{\"references\":[{\"attributes\":{\"children\":[{\"id\":\"1003\"},{\"id\":\"1007\"},{\"id\":\"1085\"}],\"margin\":[0,0,0,0],\"name\":\"Row01062\",\"tags\":[\"embedded\"]},\"id\":\"1002\",\"type\":\"Row\"},{\"attributes\":{},\"id\":\"1026\",\"type\":\"WheelZoomTool\"},{\"attributes\":{},\"id\":\"1081\",\"type\":\"UnionRenderers\"},{\"attributes\":{\"end\":1.1465513588260803,\"reset_end\":1.1465513588260803,\"reset_start\":-1.1240592903136877,\"start\":-1.1240592903136877,\"tags\":[[[\"x\",\"x\",null]]]},\"id\":\"1004\",\"type\":\"Range1d\"},{\"attributes\":{},\"id\":\"1071\",\"type\":\"BasicTickFormatter\"},{\"attributes\":{\"callback\":null},\"id\":\"1029\",\"type\":\"TapTool\"},{\"attributes\":{\"fill_color\":{\"value\":\"limegreen\"},\"hatch_color\":{\"value\":\"#30a2da\"},\"size\":{\"value\":15}},\"id\":\"1044\",\"type\":\"Circle\"},{\"attributes\":{},\"id\":\"1084\",\"type\":\"Selection\"},{\"attributes\":{\"end\":0.9872895949438493,\"reset_end\":0.9872895949438493,\"reset_start\":-1.1806626904494408,\"start\":-1.1806626904494408,\"tags\":[[[\"y\",\"y\",null]]]},\"id\":\"1005\",\"type\":\"Range1d\"},{\"attributes\":{\"line_width\":{\"value\":2}},\"id\":\"1048\",\"type\":\"MultiLine\"},{\"attributes\":{},\"id\":\"1024\",\"type\":\"SaveTool\"},{\"attributes\":{\"overlay\":{\"id\":\"1030\"}},\"id\":\"1027\",\"type\":\"BoxZoomTool\"},{\"attributes\":{\"source\":{\"id\":\"1039\"}},\"id\":\"1047\",\"type\":\"CDSView\"},{\"attributes\":{\"fill_alpha\":{\"value\":0.2},\"fill_color\":{\"value\":\"#30a2da\"},\"hatch_alpha\":{\"value\":0.2},\"hatch_color\":{\"value\":\"#30a2da\"},\"line_alpha\":{\"value\":0.2},\"size\":{\"value\":15}},\"id\":\"1043\",\"type\":\"Circle\"},{\"attributes\":{\"coordinates\":null,\"edge_renderer\":{\"id\":\"1052\"},\"group\":null,\"inspection_policy\":{\"id\":\"1065\"},\"layout_provider\":{\"id\":\"1041\"},\"node_renderer\":{\"id\":\"1046\"},\"selection_policy\":{\"id\":\"1063\"}},\"id\":\"1054\",\"type\":\"GraphRenderer\"},{\"attributes\":{\"line_color\":{\"value\":\"limegreen\"},\"line_width\":{\"value\":2}},\"id\":\"1050\",\"type\":\"MultiLine\"},{\"attributes\":{\"data\":{\"index\":{\"__ndarray__\":\"AAAAAAEAAAACAAAAAwAAAAQAAAAFAAAABgAAAAcAAAAIAAAACQAAAAoAAAA=\",\"dtype\":\"int32\",\"order\":\"little\",\"shape\":[11]},\"index_hover\":[\"10378.1/1687235\",\"10378.1/1687363\",\"10378.1/1687582\",\"10378.1/1687583\",\"10378.1/1687584\",\"10378.1/1687585\",\"10378.1/1687587\",\"10378.1/1687588\",\"10378.1/1687590\",\"10378.1/1687602\",\"10378.1/1687607\"],\"item_category\":[\"ENTITY\",\"ENTITY\",\"ENTITY\",\"ENTITY\",\"ENTITY\",\"AGENT\",\"ACTIVITY\",\"ENTITY\",\"ACTIVITY\",\"ENTITY\",\"ACTIVITY\"],\"item_subtype\":[\"DATASET\",\"DATASET\",\"MODEL\",\"CONFIG_FILE\",\"PARAMETER_FILE\",\"PERSON\",\"MODEL_RUN\",\"DATASET\",\"MODEL_RUN\",\"MODEL\",\"MODEL_RUN\"]},\"selected\":{\"id\":\"1082\"},\"selection_policy\":{\"id\":\"1081\"}},\"id\":\"1039\",\"type\":\"ColumnDataSource\"},{\"attributes\":{\"data\":{\"end\":{\"__ndarray__\":\"CAAAAAUAAAAAAAAABAAAAAMAAAACAAAABQAAAAYAAAAFAAAACgAAAAEAAAAEAAAAAwAAAAIAAAAFAAAAAQAAAAQAAAADAAAACQAAAAUAAAA=\",\"dtype\":\"int32\",\"order\":\"little\",\"shape\":[20]},\"start\":{\"__ndarray__\":\"BwAAAAcAAAAIAAAACAAAAAgAAAAIAAAACAAAAAAAAAAAAAAAAAAAAAYAAAAGAAAABgAAAAYAAAAGAAAACgAAAAoAAAAKAAAACgAAAAoAAAA=\",\"dtype\":\"int32\",\"order\":\"little\",\"shape\":[20]}},\"selected\":{\"id\":\"1084\"},\"selection_policy\":{\"id\":\"1083\"}},\"id\":\"1040\",\"type\":\"ColumnDataSource\"},{\"attributes\":{\"axis\":{\"id\":\"1020\"},\"coordinates\":null,\"dimension\":1,\"grid_line_color\":null,\"group\":null,\"ticker\":null},\"id\":\"1023\",\"type\":\"Grid\"},{\"attributes\":{},\"id\":\"1014\",\"type\":\"LinearScale\"},{\"attributes\":{},\"id\":\"1063\",\"type\":\"NodesAndLinkedEdges\"},{\"attributes\":{},\"id\":\"1082\",\"type\":\"Selection\"},{\"attributes\":{\"tools\":[{\"id\":\"1006\"},{\"id\":\"1024\"},{\"id\":\"1025\"},{\"id\":\"1026\"},{\"id\":\"1027\"},{\"id\":\"1028\"},{\"id\":\"1029\"}]},\"id\":\"1031\",\"type\":\"Toolbar\"},{\"attributes\":{\"axis_label\":\"x\",\"coordinates\":null,\"formatter\":{\"id\":\"1068\"},\"group\":null,\"major_label_policy\":{\"id\":\"1069\"},\"ticker\":{\"id\":\"1017\"}},\"id\":\"1016\",\"type\":\"LinearAxis\"},{\"attributes\":{\"axis\":{\"id\":\"1016\"},\"coordinates\":null,\"grid_line_color\":null,\"group\":null,\"ticker\":null},\"id\":\"1019\",\"type\":\"Grid\"},{\"attributes\":{\"line_alpha\":{\"value\":0.2},\"line_width\":{\"value\":2}},\"id\":\"1051\",\"type\":\"MultiLine\"},{\"attributes\":{},\"id\":\"1072\",\"type\":\"AllLabels\"},{\"attributes\":{\"line_alpha\":{\"value\":0.2},\"line_width\":{\"value\":2}},\"id\":\"1049\",\"type\":\"MultiLine\"},{\"attributes\":{\"axis_label\":\"y\",\"coordinates\":null,\"formatter\":{\"id\":\"1071\"},\"group\":null,\"major_label_policy\":{\"id\":\"1072\"},\"ticker\":{\"id\":\"1021\"}},\"id\":\"1020\",\"type\":\"LinearAxis\"},{\"attributes\":{},\"id\":\"1068\",\"type\":\"BasicTickFormatter\"},{\"attributes\":{},\"id\":\"1012\",\"type\":\"LinearScale\"},{\"attributes\":{\"fill_color\":{\"value\":\"#30a2da\"},\"hatch_color\":{\"value\":\"#30a2da\"},\"size\":{\"value\":15}},\"id\":\"1042\",\"type\":\"Circle\"},{\"attributes\":{\"coordinates\":null,\"group\":null,\"text_color\":\"black\",\"text_font_size\":\"12pt\"},\"id\":\"1008\",\"type\":\"Title\"},{\"attributes\":{\"bottom_units\":\"screen\",\"coordinates\":null,\"fill_alpha\":0.5,\"fill_color\":\"lightgrey\",\"group\":null,\"left_units\":\"screen\",\"level\":\"overlay\",\"line_alpha\":1.0,\"line_color\":\"black\",\"line_dash\":[4,4],\"line_width\":2,\"right_units\":\"screen\",\"syncable\":false,\"top_units\":\"screen\"},\"id\":\"1030\",\"type\":\"BoxAnnotation\"},{\"attributes\":{},\"id\":\"1028\",\"type\":\"ResetTool\"},{\"attributes\":{},\"id\":\"1069\",\"type\":\"AllLabels\"},{\"attributes\":{},\"id\":\"1065\",\"type\":\"NodesAndLinkedEdges\"},{\"attributes\":{},\"id\":\"1025\",\"type\":\"PanTool\"},{\"attributes\":{},\"id\":\"1021\",\"type\":\"BasicTicker\"},{\"attributes\":{\"fill_alpha\":{\"value\":0.2},\"fill_color\":{\"value\":\"#30a2da\"},\"hatch_alpha\":{\"value\":0.2},\"hatch_color\":{\"value\":\"#30a2da\"},\"line_alpha\":{\"value\":0.2},\"size\":{\"value\":15}},\"id\":\"1045\",\"type\":\"Circle\"},{\"attributes\":{},\"id\":\"1083\",\"type\":\"UnionRenderers\"},{\"attributes\":{\"margin\":[5,5,5,5],\"name\":\"HSpacer01066\",\"sizing_mode\":\"stretch_width\"},\"id\":\"1003\",\"type\":\"Spacer\"},{\"attributes\":{\"below\":[{\"id\":\"1016\"}],\"center\":[{\"id\":\"1019\"},{\"id\":\"1023\"}],\"left\":[{\"id\":\"1020\"}],\"margin\":[5,5,5,5],\"min_border_bottom\":10,\"min_border_left\":10,\"min_border_right\":10,\"min_border_top\":10,\"renderers\":[{\"id\":\"1054\"}],\"sizing_mode\":\"fixed\",\"title\":{\"id\":\"1008\"},\"toolbar\":{\"id\":\"1031\"},\"width\":800,\"x_range\":{\"id\":\"1004\"},\"x_scale\":{\"id\":\"1012\"},\"y_range\":{\"id\":\"1005\"},\"y_scale\":{\"id\":\"1014\"}},\"id\":\"1007\",\"subtype\":\"Figure\",\"type\":\"Plot\"},{\"attributes\":{\"callback\":null,\"renderers\":[{\"id\":\"1054\"}],\"tags\":[\"hv_created\"],\"tooltips\":[[\"index\",\"@{index_hover}\"],[\"item_category\",\"@{item_category}\"],[\"item_subtype\",\"@{item_subtype}\"]]},\"id\":\"1006\",\"type\":\"HoverTool\"},{\"attributes\":{},\"id\":\"1017\",\"type\":\"BasicTicker\"},{\"attributes\":{\"graph_layout\":{\"0\":[0.10253045328409842,0.3184446453117467],\"1\":[-0.9759759871089201,-0.311579861066718],\"10\":[0.020011365265529733,-0.011882035293185567],\"2\":[-0.45484503557769,-0.9513897310873336],\"3\":[0.9984680556213128,-0.11064496689469552],\"4\":[-0.514075886442913,0.8066269044944084],\"5\":[0.31403997291529523,0.7730857182830767],\"6\":[-0.09953989171168093,0.003709150136627636],\"7\":[0.19377113065489074,0.4226934372804265],\"8\":[0.05721180305038097,0.06093673883564654],\"9\":[0.35840402004969607,-1.0]}},\"id\":\"1041\",\"type\":\"StaticLayoutProvider\"},{\"attributes\":{\"coordinates\":null,\"data_source\":{\"id\":\"1039\"},\"glyph\":{\"id\":\"1042\"},\"group\":null,\"hover_glyph\":{\"id\":\"1044\"},\"muted_glyph\":{\"id\":\"1045\"},\"nonselection_glyph\":{\"id\":\"1043\"},\"view\":{\"id\":\"1047\"}},\"id\":\"1046\",\"type\":\"GlyphRenderer\"},{\"attributes\":{\"coordinates\":null,\"data_source\":{\"id\":\"1040\"},\"glyph\":{\"id\":\"1048\"},\"group\":null,\"hover_glyph\":{\"id\":\"1050\"},\"muted_glyph\":{\"id\":\"1051\"},\"nonselection_glyph\":{\"id\":\"1049\"},\"view\":{\"id\":\"1053\"}},\"id\":\"1052\",\"type\":\"GlyphRenderer\"},{\"attributes\":{\"source\":{\"id\":\"1040\"}},\"id\":\"1053\",\"type\":\"CDSView\"},{\"attributes\":{\"margin\":[5,5,5,5],\"name\":\"HSpacer01067\",\"sizing_mode\":\"stretch_width\"},\"id\":\"1085\",\"type\":\"Spacer\"}],\"root_ids\":[\"1002\"]},\"title\":\"Bokeh Application\",\"version\":\"2.4.3\"}}\n",
       "        </script>\n",
       "        <script type=\"text/javascript\">\n",
       "          (function() {\n",
       "            const fn = function() {\n",
       "              Bokeh.safely(function() {\n",
       "                (function(root) {\n",
       "                  function embed_document(root) {\n",
       "                  const docs_json = document.getElementById('1183').textContent;\n",
       "                  const render_items = [{\"docid\":\"ed74df40-7c46-4085-b9c5-c5a4638aa287\",\"root_ids\":[\"1002\"],\"roots\":{\"1002\":\"4c2c52f3-6405-48ca-9142-02df4b418606\"}}];\n",
       "                  root.Bokeh.embed.embed_items(docs_json, render_items);\n",
       "                  }\n",
       "                  if (root.Bokeh !== undefined) {\n",
       "                    embed_document(root);\n",
       "                  } else {\n",
       "                    let attempts = 0;\n",
       "                    const timer = setInterval(function(root) {\n",
       "                      if (root.Bokeh !== undefined) {\n",
       "                        clearInterval(timer);\n",
       "                        embed_document(root);\n",
       "                      } else {\n",
       "                        attempts++;\n",
       "                        if (attempts > 100) {\n",
       "                          clearInterval(timer);\n",
       "                          console.log(\"Bokeh: ERROR: Unable to run BokehJS code because BokehJS library is missing\");\n",
       "                        }\n",
       "                      }\n",
       "                    }, 10, root)\n",
       "                  }\n",
       "                })(window);\n",
       "              });\n",
       "            };\n",
       "            if (document.readyState != \"loading\") fn();\n",
       "            else document.addEventListener(\"DOMContentLoaded\", fn);\n",
       "          })();\n",
       "        </script>\n",
       "  </body>\n",
       "</html>"
      ],
      "text/plain": [
       "<IPython.core.display.HTML object>"
      ]
     },
     "execution_count": 6,
     "metadata": {},
     "output_type": "execute_result"
    }
   ],
   "source": [
    "auth = token_manager.get_auth\n",
    "postfix = \"/explore/lineage\"\n",
    "params = {\n",
    "    \"starting_id\": \"10378.1/1687588\",\n",
    "    \"depth\": 10\n",
    "}\n",
    "endpoint = prov_api + postfix\n",
    "\n",
    "response = requests.get(endpoint, params=params, auth=auth())\n",
    "\n",
    "result_graph = response.json()[\"graph\"]\n",
    "\n",
    "a_graph = json_graph.node_link_graph(result_graph)\n",
    "im = hv.Graph.from_networkx(a_graph, nx.layout.fruchterman_reingold_layout)#.opts(tools=['hover'])\n",
    "\n",
    "hv.save(im, 'lineage_network.html', backend='bokeh')\n",
    "\n",
    "HTML('lineage_network.html')"
   ]
  },
  {
   "cell_type": "markdown",
   "metadata": {},
   "source": [
    "### Explore Children"
   ]
  },
  {
   "cell_type": "code",
   "execution_count": 7,
   "metadata": {},
   "outputs": [
    {
     "data": {
      "text/html": [
       "\n",
       "\n",
       "<!DOCTYPE html>\n",
       "<html lang=\"en\">\n",
       "  <head>\n",
       "      <meta charset=\"utf-8\">\n",
       "      <title>network</title>\n",
       "              <link rel=\"stylesheet\" href=\"https://cdn.jsdelivr.net/npm/notyf@3/notyf.min.css\" type=\"text/css\" />\n",
       "            <link rel=\"stylesheet\" href=\"https://cdnjs.cloudflare.com/ajax/libs/font-awesome/5.15.1/css/all.min.css\" type=\"text/css\" />\n",
       "            <link rel=\"stylesheet\" href=\"https://unpkg.com/@holoviz/panel@0.13.1/dist/css/loading.css\" type=\"text/css\" />\n",
       "            <link rel=\"stylesheet\" href=\"https://unpkg.com/@holoviz/panel@0.13.1/dist/css/debugger.css\" type=\"text/css\" />\n",
       "            <link rel=\"stylesheet\" href=\"https://unpkg.com/@holoviz/panel@0.13.1/dist/css/json.css\" type=\"text/css\" />\n",
       "            <link rel=\"stylesheet\" href=\"https://unpkg.com/@holoviz/panel@0.13.1/dist/css/alerts.css\" type=\"text/css\" />\n",
       "            <link rel=\"stylesheet\" href=\"https://unpkg.com/@holoviz/panel@0.13.1/dist/css/dataframe.css\" type=\"text/css\" />\n",
       "            <link rel=\"stylesheet\" href=\"https://unpkg.com/@holoviz/panel@0.13.1/dist/css/card.css\" type=\"text/css\" />\n",
       "            <link rel=\"stylesheet\" href=\"https://unpkg.com/@holoviz/panel@0.13.1/dist/css/widgets.css\" type=\"text/css\" />\n",
       "            <link rel=\"stylesheet\" href=\"https://unpkg.com/@holoviz/panel@0.13.1/dist/css/markdown.css\" type=\"text/css\" />\n",
       "            <style>\n",
       "                \n",
       "            .bk.pn-loading.arcs:before {\n",
       "              background-image: url(\"data:image/svg+xml;base64,PHN2ZyB4bWxucz0iaHR0cDovL3d3dy53My5vcmcvMjAwMC9zdmciIHhtbG5zOnhsaW5rPSJodHRwOi8vd3d3LnczLm9yZy8xOTk5L3hsaW5rIiBzdHlsZT0ibWFyZ2luOiBhdXRvOyBiYWNrZ3JvdW5kOiBub25lOyBkaXNwbGF5OiBibG9jazsgc2hhcGUtcmVuZGVyaW5nOiBhdXRvOyIgdmlld0JveD0iMCAwIDEwMCAxMDAiIHByZXNlcnZlQXNwZWN0UmF0aW89InhNaWRZTWlkIj4gIDxjaXJjbGUgY3g9IjUwIiBjeT0iNTAiIHI9IjMyIiBzdHJva2Utd2lkdGg9IjgiIHN0cm9rZT0iI2MzYzNjMyIgc3Ryb2tlLWRhc2hhcnJheT0iNTAuMjY1NDgyNDU3NDM2NjkgNTAuMjY1NDgyNDU3NDM2NjkiIGZpbGw9Im5vbmUiIHN0cm9rZS1saW5lY2FwPSJyb3VuZCI+ICAgIDxhbmltYXRlVHJhbnNmb3JtIGF0dHJpYnV0ZU5hbWU9InRyYW5zZm9ybSIgdHlwZT0icm90YXRlIiByZXBlYXRDb3VudD0iaW5kZWZpbml0ZSIgZHVyPSIxcyIga2V5VGltZXM9IjA7MSIgdmFsdWVzPSIwIDUwIDUwOzM2MCA1MCA1MCI+PC9hbmltYXRlVHJhbnNmb3JtPiAgPC9jaXJjbGU+PC9zdmc+\");\n",
       "              background-size: auto calc(min(50%, 400px));\n",
       "            }\n",
       "            \n",
       "            </style>\n",
       "\n",
       "          <script type=\"text/javascript\" src=\"https://cdn.bokeh.org/bokeh/release/bokeh-2.4.3.min.js\"></script><script type=\"text/javascript\" src=\"https://cdn.bokeh.org/bokeh/release/bokeh-gl-2.4.3.min.js\"></script><script type=\"text/javascript\" src=\"https://cdn.bokeh.org/bokeh/release/bokeh-widgets-2.4.3.min.js\"></script><script type=\"text/javascript\" src=\"https://cdn.bokeh.org/bokeh/release/bokeh-tables-2.4.3.min.js\"></script><script type=\"text/javascript\" src=\"https://cdn.jsdelivr.net/npm/notyf@3/notyf.min.js\"></script><script type=\"text/javascript\" src=\"https://unpkg.com/@holoviz/panel@0.13.1/dist/panel.min.js\"></script><script type=\"text/javascript\">\n",
       "            Bokeh.set_log_level(\"info\");\n",
       "        </script>\n",
       "  </head>\n",
       "  <body>\n",
       "          \n",
       "              <div class=\"bk-root\" id=\"888568df-5c3e-4833-9da9-f9de17f4ba3f\" data-root-id=\"1184\"></div>\n",
       "      \n",
       "        <script type=\"application/json\" id=\"1363\">\n",
       "          {\"a29d40b8-8144-4567-9b12-5c9d4ce80350\":{\"defs\":[{\"extends\":null,\"module\":null,\"name\":\"ReactiveHTML1\",\"overrides\":[],\"properties\":[]},{\"extends\":null,\"module\":null,\"name\":\"FlexBox1\",\"overrides\":[],\"properties\":[{\"default\":\"flex-start\",\"kind\":null,\"name\":\"align_content\"},{\"default\":\"flex-start\",\"kind\":null,\"name\":\"align_items\"},{\"default\":\"row\",\"kind\":null,\"name\":\"flex_direction\"},{\"default\":\"wrap\",\"kind\":null,\"name\":\"flex_wrap\"},{\"default\":\"flex-start\",\"kind\":null,\"name\":\"justify_content\"}]},{\"extends\":null,\"module\":null,\"name\":\"GridStack1\",\"overrides\":[],\"properties\":[{\"default\":\"warn\",\"kind\":null,\"name\":\"mode\"},{\"default\":null,\"kind\":null,\"name\":\"ncols\"},{\"default\":null,\"kind\":null,\"name\":\"nrows\"},{\"default\":true,\"kind\":null,\"name\":\"allow_resize\"},{\"default\":true,\"kind\":null,\"name\":\"allow_drag\"},{\"default\":[],\"kind\":null,\"name\":\"state\"}]},{\"extends\":null,\"module\":null,\"name\":\"click1\",\"overrides\":[],\"properties\":[{\"default\":\"\",\"kind\":null,\"name\":\"terminal_output\"},{\"default\":\"\",\"kind\":null,\"name\":\"debug_name\"},{\"default\":0,\"kind\":null,\"name\":\"clears\"}]},{\"extends\":null,\"module\":null,\"name\":\"NotificationAreaBase1\",\"overrides\":[],\"properties\":[{\"default\":\"bottom-right\",\"kind\":null,\"name\":\"position\"},{\"default\":0,\"kind\":null,\"name\":\"_clear\"}]},{\"extends\":null,\"module\":null,\"name\":\"NotificationArea1\",\"overrides\":[],\"properties\":[{\"default\":[],\"kind\":null,\"name\":\"notifications\"},{\"default\":\"bottom-right\",\"kind\":null,\"name\":\"position\"},{\"default\":0,\"kind\":null,\"name\":\"_clear\"},{\"default\":[{\"background\":\"#ffc107\",\"icon\":{\"className\":\"fas fa-exclamation-triangle\",\"color\":\"white\",\"tagName\":\"i\"},\"type\":\"warning\"},{\"background\":\"#007bff\",\"icon\":{\"className\":\"fas fa-info-circle\",\"color\":\"white\",\"tagName\":\"i\"},\"type\":\"info\"}],\"kind\":null,\"name\":\"types\"}]},{\"extends\":null,\"module\":null,\"name\":\"Notification\",\"overrides\":[],\"properties\":[{\"default\":null,\"kind\":null,\"name\":\"background\"},{\"default\":3000,\"kind\":null,\"name\":\"duration\"},{\"default\":null,\"kind\":null,\"name\":\"icon\"},{\"default\":\"\",\"kind\":null,\"name\":\"message\"},{\"default\":null,\"kind\":null,\"name\":\"notification_type\"},{\"default\":false,\"kind\":null,\"name\":\"_destroyed\"}]},{\"extends\":null,\"module\":null,\"name\":\"TemplateActions1\",\"overrides\":[],\"properties\":[{\"default\":0,\"kind\":null,\"name\":\"open_modal\"},{\"default\":0,\"kind\":null,\"name\":\"close_modal\"}]},{\"extends\":null,\"module\":null,\"name\":\"MaterialTemplateActions1\",\"overrides\":[],\"properties\":[{\"default\":0,\"kind\":null,\"name\":\"open_modal\"},{\"default\":0,\"kind\":null,\"name\":\"close_modal\"}]}],\"roots\":{\"references\":[{\"attributes\":{\"children\":[{\"id\":\"1185\"},{\"id\":\"1189\"},{\"id\":\"1265\"}],\"margin\":[0,0,0,0],\"name\":\"Row01155\",\"tags\":[\"embedded\"]},\"id\":\"1184\",\"type\":\"Row\"},{\"attributes\":{},\"id\":\"1262\",\"type\":\"Selection\"},{\"attributes\":{},\"id\":\"1249\",\"type\":\"AllLabels\"},{\"attributes\":{},\"id\":\"1245\",\"type\":\"NodesAndLinkedEdges\"},{\"attributes\":{\"coordinates\":null,\"group\":null,\"text_color\":\"black\",\"text_font_size\":\"12pt\"},\"id\":\"1190\",\"type\":\"Title\"},{\"attributes\":{\"callback\":null,\"renderers\":[{\"id\":\"1234\"}],\"tags\":[\"hv_created\"],\"tooltips\":[[\"index\",\"@{index_hover}\"],[\"item_category\",\"@{item_category}\"],[\"item_subtype\",\"@{item_subtype}\"]]},\"id\":\"1188\",\"type\":\"HoverTool\"},{\"attributes\":{},\"id\":\"1248\",\"type\":\"BasicTickFormatter\"},{\"attributes\":{},\"id\":\"1251\",\"type\":\"BasicTickFormatter\"},{\"attributes\":{},\"id\":\"1252\",\"type\":\"AllLabels\"},{\"attributes\":{\"fill_color\":{\"value\":\"limegreen\"},\"hatch_color\":{\"value\":\"#30a2da\"},\"size\":{\"value\":15}},\"id\":\"1224\",\"type\":\"Circle\"},{\"attributes\":{\"axis_label\":\"x\",\"coordinates\":null,\"formatter\":{\"id\":\"1248\"},\"group\":null,\"major_label_policy\":{\"id\":\"1249\"},\"ticker\":{\"id\":\"1199\"}},\"id\":\"1198\",\"type\":\"LinearAxis\"},{\"attributes\":{},\"id\":\"1199\",\"type\":\"BasicTicker\"},{\"attributes\":{\"coordinates\":null,\"edge_renderer\":{\"id\":\"1232\"},\"group\":null,\"inspection_policy\":{\"id\":\"1245\"},\"layout_provider\":{\"id\":\"1221\"},\"node_renderer\":{\"id\":\"1226\"},\"selection_policy\":{\"id\":\"1243\"}},\"id\":\"1234\",\"type\":\"GraphRenderer\"},{\"attributes\":{\"data\":{\"index\":{\"__ndarray__\":\"AAAAAAEAAAACAAAA\",\"dtype\":\"int32\",\"order\":\"little\",\"shape\":[3]},\"index_hover\":[\"10378.1/1687588\",\"10378.1/1687589\",\"10378.1/1687591\"],\"item_category\":[\"ENTITY\",\"ENTITY\",\"ACTIVITY\"],\"item_subtype\":[\"DATASET\",\"DATASET\",\"MODEL_RUN\"]},\"selected\":{\"id\":\"1262\"},\"selection_policy\":{\"id\":\"1261\"}},\"id\":\"1219\",\"type\":\"ColumnDataSource\"},{\"attributes\":{\"end\":1.138576010514976,\"reset_end\":1.138576010514976,\"reset_start\":-0.9862561507146584,\"start\":-0.9862561507146584,\"tags\":[[[\"x\",\"x\",null]]]},\"id\":\"1186\",\"type\":\"Range1d\"},{\"attributes\":{},\"id\":\"1207\",\"type\":\"PanTool\"},{\"attributes\":{\"graph_layout\":{\"0\":[0.9999999999999999,0.32121852232293846],\"1\":[-0.8476801401996823,-0.2611655417587387],\"2\":[-0.1523198598003171,-0.06005298056419979]}},\"id\":\"1221\",\"type\":\"StaticLayoutProvider\"},{\"attributes\":{\"axis_label\":\"y\",\"coordinates\":null,\"formatter\":{\"id\":\"1251\"},\"group\":null,\"major_label_policy\":{\"id\":\"1252\"},\"ticker\":{\"id\":\"1203\"}},\"id\":\"1202\",\"type\":\"LinearAxis\"},{\"attributes\":{\"axis\":{\"id\":\"1202\"},\"coordinates\":null,\"dimension\":1,\"grid_line_color\":null,\"group\":null,\"ticker\":null},\"id\":\"1205\",\"type\":\"Grid\"},{\"attributes\":{\"margin\":[5,5,5,5],\"name\":\"HSpacer01160\",\"sizing_mode\":\"stretch_width\"},\"id\":\"1265\",\"type\":\"Spacer\"},{\"attributes\":{},\"id\":\"1203\",\"type\":\"BasicTicker\"},{\"attributes\":{},\"id\":\"1263\",\"type\":\"UnionRenderers\"},{\"attributes\":{},\"id\":\"1208\",\"type\":\"WheelZoomTool\"},{\"attributes\":{},\"id\":\"1264\",\"type\":\"Selection\"},{\"attributes\":{\"fill_color\":{\"value\":\"#30a2da\"},\"hatch_color\":{\"value\":\"#30a2da\"},\"size\":{\"value\":15}},\"id\":\"1222\",\"type\":\"Circle\"},{\"attributes\":{\"fill_alpha\":{\"value\":0.2},\"fill_color\":{\"value\":\"#30a2da\"},\"hatch_alpha\":{\"value\":0.2},\"hatch_color\":{\"value\":\"#30a2da\"},\"line_alpha\":{\"value\":0.2},\"size\":{\"value\":15}},\"id\":\"1225\",\"type\":\"Circle\"},{\"attributes\":{},\"id\":\"1206\",\"type\":\"SaveTool\"},{\"attributes\":{\"data\":{\"end\":{\"__ndarray__\":\"AAAAAAIAAAA=\",\"dtype\":\"int32\",\"order\":\"little\",\"shape\":[2]},\"start\":{\"__ndarray__\":\"AgAAAAEAAAA=\",\"dtype\":\"int32\",\"order\":\"little\",\"shape\":[2]}},\"selected\":{\"id\":\"1264\"},\"selection_policy\":{\"id\":\"1263\"}},\"id\":\"1220\",\"type\":\"ColumnDataSource\"},{\"attributes\":{\"overlay\":{\"id\":\"1211\"}},\"id\":\"1209\",\"type\":\"BoxZoomTool\"},{\"attributes\":{\"coordinates\":null,\"data_source\":{\"id\":\"1219\"},\"glyph\":{\"id\":\"1222\"},\"group\":null,\"hover_glyph\":{\"id\":\"1224\"},\"muted_glyph\":{\"id\":\"1225\"},\"nonselection_glyph\":{\"id\":\"1223\"},\"view\":{\"id\":\"1227\"}},\"id\":\"1226\",\"type\":\"GlyphRenderer\"},{\"attributes\":{},\"id\":\"1210\",\"type\":\"ResetTool\"},{\"attributes\":{\"source\":{\"id\":\"1219\"}},\"id\":\"1227\",\"type\":\"CDSView\"},{\"attributes\":{\"coordinates\":null,\"data_source\":{\"id\":\"1220\"},\"glyph\":{\"id\":\"1228\"},\"group\":null,\"hover_glyph\":{\"id\":\"1230\"},\"muted_glyph\":{\"id\":\"1231\"},\"nonselection_glyph\":{\"id\":\"1229\"},\"view\":{\"id\":\"1233\"}},\"id\":\"1232\",\"type\":\"GlyphRenderer\"},{\"attributes\":{\"below\":[{\"id\":\"1198\"}],\"center\":[{\"id\":\"1201\"},{\"id\":\"1205\"}],\"left\":[{\"id\":\"1202\"}],\"margin\":[5,5,5,5],\"min_border_bottom\":10,\"min_border_left\":10,\"min_border_right\":10,\"min_border_top\":10,\"renderers\":[{\"id\":\"1234\"}],\"sizing_mode\":\"fixed\",\"title\":{\"id\":\"1190\"},\"toolbar\":{\"id\":\"1212\"},\"width\":800,\"x_range\":{\"id\":\"1186\"},\"x_scale\":{\"id\":\"1194\"},\"y_range\":{\"id\":\"1187\"},\"y_scale\":{\"id\":\"1196\"}},\"id\":\"1189\",\"subtype\":\"Figure\",\"type\":\"Plot\"},{\"attributes\":{\"bottom_units\":\"screen\",\"coordinates\":null,\"fill_alpha\":0.5,\"fill_color\":\"lightgrey\",\"group\":null,\"left_units\":\"screen\",\"level\":\"overlay\",\"line_alpha\":1.0,\"line_color\":\"black\",\"line_dash\":[4,4],\"line_width\":2,\"right_units\":\"screen\",\"syncable\":false,\"top_units\":\"screen\"},\"id\":\"1211\",\"type\":\"BoxAnnotation\"},{\"attributes\":{\"fill_alpha\":{\"value\":0.2},\"fill_color\":{\"value\":\"#30a2da\"},\"hatch_alpha\":{\"value\":0.2},\"hatch_color\":{\"value\":\"#30a2da\"},\"line_alpha\":{\"value\":0.2},\"size\":{\"value\":15}},\"id\":\"1223\",\"type\":\"Circle\"},{\"attributes\":{\"end\":0.37945692873110615,\"reset_end\":0.37945692873110615,\"reset_start\":-0.3194039481669064,\"start\":-0.3194039481669064,\"tags\":[[[\"y\",\"y\",null]]]},\"id\":\"1187\",\"type\":\"Range1d\"},{\"attributes\":{\"tools\":[{\"id\":\"1188\"},{\"id\":\"1206\"},{\"id\":\"1207\"},{\"id\":\"1208\"},{\"id\":\"1209\"},{\"id\":\"1210\"}]},\"id\":\"1212\",\"type\":\"Toolbar\"},{\"attributes\":{\"margin\":[5,5,5,5],\"name\":\"HSpacer01159\",\"sizing_mode\":\"stretch_width\"},\"id\":\"1185\",\"type\":\"Spacer\"},{\"attributes\":{\"line_width\":{\"value\":2}},\"id\":\"1228\",\"type\":\"MultiLine\"},{\"attributes\":{\"line_alpha\":{\"value\":0.2},\"line_width\":{\"value\":2}},\"id\":\"1231\",\"type\":\"MultiLine\"},{\"attributes\":{\"source\":{\"id\":\"1220\"}},\"id\":\"1233\",\"type\":\"CDSView\"},{\"attributes\":{},\"id\":\"1194\",\"type\":\"LinearScale\"},{\"attributes\":{\"line_alpha\":{\"value\":0.2},\"line_width\":{\"value\":2}},\"id\":\"1229\",\"type\":\"MultiLine\"},{\"attributes\":{\"line_color\":{\"value\":\"limegreen\"},\"line_width\":{\"value\":2}},\"id\":\"1230\",\"type\":\"MultiLine\"},{\"attributes\":{},\"id\":\"1261\",\"type\":\"UnionRenderers\"},{\"attributes\":{},\"id\":\"1243\",\"type\":\"NodesAndLinkedEdges\"},{\"attributes\":{\"axis\":{\"id\":\"1198\"},\"coordinates\":null,\"grid_line_color\":null,\"group\":null,\"ticker\":null},\"id\":\"1201\",\"type\":\"Grid\"},{\"attributes\":{},\"id\":\"1196\",\"type\":\"LinearScale\"}],\"root_ids\":[\"1184\"]},\"title\":\"Bokeh Application\",\"version\":\"2.4.3\"}}\n",
       "        </script>\n",
       "        <script type=\"text/javascript\">\n",
       "          (function() {\n",
       "            const fn = function() {\n",
       "              Bokeh.safely(function() {\n",
       "                (function(root) {\n",
       "                  function embed_document(root) {\n",
       "                  const docs_json = document.getElementById('1363').textContent;\n",
       "                  const render_items = [{\"docid\":\"a29d40b8-8144-4567-9b12-5c9d4ce80350\",\"root_ids\":[\"1184\"],\"roots\":{\"1184\":\"888568df-5c3e-4833-9da9-f9de17f4ba3f\"}}];\n",
       "                  root.Bokeh.embed.embed_items(docs_json, render_items);\n",
       "                  }\n",
       "                  if (root.Bokeh !== undefined) {\n",
       "                    embed_document(root);\n",
       "                  } else {\n",
       "                    let attempts = 0;\n",
       "                    const timer = setInterval(function(root) {\n",
       "                      if (root.Bokeh !== undefined) {\n",
       "                        clearInterval(timer);\n",
       "                        embed_document(root);\n",
       "                      } else {\n",
       "                        attempts++;\n",
       "                        if (attempts > 100) {\n",
       "                          clearInterval(timer);\n",
       "                          console.log(\"Bokeh: ERROR: Unable to run BokehJS code because BokehJS library is missing\");\n",
       "                        }\n",
       "                      }\n",
       "                    }, 10, root)\n",
       "                  }\n",
       "                })(window);\n",
       "              });\n",
       "            };\n",
       "            if (document.readyState != \"loading\") fn();\n",
       "            else document.addEventListener(\"DOMContentLoaded\", fn);\n",
       "          })();\n",
       "        </script>\n",
       "  </body>\n",
       "</html>"
      ],
      "text/plain": [
       "<IPython.core.display.HTML object>"
      ]
     },
     "execution_count": 7,
     "metadata": {},
     "output_type": "execute_result"
    }
   ],
   "source": [
    "auth = token_manager.get_auth\n",
    "postfix = \"/explore/children\"\n",
    "params = {\n",
    "    \"starting_id\": \"10378.1/1687588\"\n",
    "}\n",
    "endpoint = prov_api + postfix \n",
    "\n",
    "response = requests.get(endpoint, params=params, auth=auth())\n",
    "\n",
    "result_graph = response.json()[\"graph\"]\n",
    "\n",
    "a_graph = json_graph.node_link_graph(result_graph)\n",
    "im = hv.Graph.from_networkx(a_graph, nx.layout.fruchterman_reingold_layout).opts(tools=['hover'])\n",
    "\n",
    "hv.save(im, 'network.html', backend='bokeh')\n",
    "HTML('network.html')"
   ]
  },
  {
   "cell_type": "markdown",
   "metadata": {},
   "source": [
    "[Return to Top](#toc)"
   ]
  }
 ],
 "metadata": {
  "kernelspec": {
   "display_name": "Py3 rrap MVP Demo",
   "language": "python",
   "name": "mvp_demo_venv"
  },
  "language_info": {
   "codemirror_mode": {
    "name": "ipython",
    "version": 3
   },
   "file_extension": ".py",
   "mimetype": "text/x-python",
   "name": "python",
   "nbconvert_exporter": "python",
   "pygments_lexer": "ipython3",
   "version": "3.8.10"
  },
  "vscode": {
   "interpreter": {
    "hash": "916dbcbb3f70747c44a77c7bcd40155683ae19c65e1c03b4aa3499c5328201f1"
   }
  }
 },
 "nbformat": 4,
 "nbformat_minor": 4
}
