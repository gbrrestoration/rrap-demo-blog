{
 "cells": [
  {
   "cell_type": "markdown",
   "metadata": {},
   "source": [
    "# RRAP-IS Provenance Demo Notebook\n",
    "\n",
    "> A tutorial of RRAP authentication using Jupyter notebooks.\n",
    "\n",
    "- toc: true \n",
    "- badges: true\n",
    "- comments: true\n",
    "- categories: [jupyter]"
   ]
  },
  {
   "cell_type": "markdown",
   "metadata": {},
   "source": [
    "## About\n",
    "\n",
    "This notebook is a demonstration of generating a record of a model run and searching the provenance database to identify linkages between data, models, users and organisations with the RRAP-IS system.  "
   ]
  },
  {
   "cell_type": "markdown",
   "metadata": {},
   "source": [
    "### Run all imports\n",
    "\n",
    "Keep all your imports at the top of a notebook.  It allows for easier management."
   ]
  },
  {
   "cell_type": "code",
   "execution_count": 1,
   "metadata": {},
   "outputs": [],
   "source": [
    "%%capture\n",
    "import requests\n",
    "import os\n",
    "import sys\n",
    "import json\n",
    "from json2html import *\n",
    "from bs4 import BeautifulSoup\n",
    "from IPython.display import IFrame, display, HTML, JSON, Markdown, Image\n",
    "from mdsisclienttools.auth.TokenManager import DeviceFlowManager\n",
    "from urllib.error import HTTPError\n",
    "import networkx as nx\n",
    "import nx_altair as nxa\n",
    "from networkx.readwrite import json_graph\n",
    "from enum import Enum\n",
    "from enum_switch import Switch\n",
    "\n",
    "import numpy as np\n",
    "import pandas as pd\n",
    "import holoviews as hv\n",
    "from holoviews import opts\n",
    "hv.extension('bokeh')\n",
    "defaults = dict(width=800, height=600)\n",
    "hv.opts.defaults(opts.EdgePaths(**defaults), opts.Graph(**defaults), opts.Nodes(**defaults))\n",
    "\n",
    "import warnings\n",
    "warnings.filterwarnings(action='once')"
   ]
  },
  {
   "cell_type": "markdown",
   "metadata": {},
   "source": [
    "### Define global variables\n",
    "\n",
    "Similar to import we like to define notebook variable at the top and reuse them throughout the notebook"
   ]
  },
  {
   "cell_type": "code",
   "execution_count": 2,
   "metadata": {},
   "outputs": [
    {
     "data": {
      "text/plain": [
       "'Checking base urls'"
      ]
     },
     "metadata": {},
     "output_type": "display_data"
    },
    {
     "name": "stdout",
     "output_type": "stream",
     "text": [
      "Testing - https://data-api.testing.rrap-is.com - Passed\n",
      "Testing - https://registry-api.testing.rrap-is.com - Passed\n",
      "Testing - https://prov-api.testing.rrap-is.com - Passed\n",
      "Testing - https://auth.dev.rrap-is.com/auth/realms/rrap - Passed\n"
     ]
    }
   ],
   "source": [
    "data_api = \"https://data-api.testing.rrap-is.com\"\n",
    "registry_api = \"https://registry-api.testing.rrap-is.com\"\n",
    "prov_api = \"https://prov-api.testing.rrap-is.com\"\n",
    "auth_server = \"https://auth.dev.rrap-is.com/auth/realms/rrap\"\n",
    "# garbage = \"https://frogs.are.green\"\n",
    "base_urls = {'data_api': data_api, 'registry_api': registry_api, 'prov_api': prov_api, 'auth_server': auth_server}#, 'garbage': garbage}\n",
    "display(f'Checking base urls')\n",
    "\n",
    "for key, url in base_urls.items():\n",
    "    try:\n",
    "        print(f'Testing - {url}', end=\"\")\n",
    "        r = requests.get(url)\n",
    "        r.raise_for_status()\n",
    "        print(f' - Passed')\n",
    "    except requests.exceptions.HTTPError as err:\n",
    "        print(f' - Fail')\n",
    "        raise SystemExit()\n",
    "    except requests.exceptions.RequestException as e:\n",
    "        # catastrophic error. bail.\n",
    "        print(f' - Fail')\n",
    "        raise SystemExit()"
   ]
  },
  {
   "cell_type": "markdown",
   "metadata": {},
   "source": [
    "## Authentication\n",
    "\n",
    "### Setup tokens using device authorisation flow against keycloak server\n",
    "\n",
    "This could result in a browser window being opened if you don't have valid tokens cached in local storage.\n",
    "\n",
    "[Return to Top](#toc)"
   ]
  },
  {
   "cell_type": "code",
   "execution_count": 3,
   "metadata": {},
   "outputs": [
    {
     "name": "stdout",
     "output_type": "stream",
     "text": [
      "Using storage type: FILE.\n",
      "Attempting to generate authorisation tokens.\n",
      "\n",
      "Looking for existing tokens in local storage.\n",
      "\n",
      "Validating found tokens\n",
      "\n",
      "Found tokens valid, using.\n",
      "\n"
     ]
    }
   ],
   "source": [
    "# this caches the tokens\n",
    "local_token_storage = \".tokens.json\"\n",
    "\n",
    "token_manager = DeviceFlowManager(\n",
    "    stage=\"TEST\",\n",
    "    keycloak_endpoint=auth_server,\n",
    "    local_storage_location=local_token_storage\n",
    ")"
   ]
  },
  {
   "cell_type": "markdown",
   "metadata": {},
   "source": [
    "## Helper functions and Classes\n",
    "\n",
    "[Return to Top](#toc)"
   ]
  },
  {
   "cell_type": "code",
   "execution_count": 4,
   "metadata": {},
   "outputs": [
    {
     "name": "stdout",
     "output_type": "stream",
     "text": [
      "ProvType.ENTITY\n",
      "ProvType.AGENT\n",
      "ProvType.AGENT\n",
      "ProvType.ACTIVITY\n",
      "ProvType.ENTITY\n",
      "ProvType.ENTITY\n"
     ]
    }
   ],
   "source": [
    "def wrap_html_table(data):\n",
    "    soup = BeautifulSoup(data)\n",
    "\n",
    "    ul_tag = soup.find(\"table\")\n",
    "    div_tag = soup.new_tag(\"div\")\n",
    "    div_tag['style'] = \"width: auto; height: 400px; overflow-y: auto; \"\n",
    "    ul_tag.wrap(div_tag)\n",
    "    new_tag = soup.new_tag(\"details\")\n",
    "    div_tag.wrap(new_tag)\n",
    "    \n",
    "    tag = soup.new_tag(\"summary\")\n",
    "    tag.string = \"Results\"\n",
    "    soup.div.insert_after(tag)\n",
    "\n",
    "    return soup.prettify()\n",
    "    \n",
    "def json_to_md(response_json):\n",
    "        json_obj_in_html = json2html.convert( response_json  )\n",
    "        return wrap_html_table(json_obj_in_html)\n",
    "    \n",
    "def handle_request(method, url, params=None, payload=None, auth=None):\n",
    "    try:\n",
    "        if params:\n",
    "            response = requests.request(method, url=url, params=params, auth=auth)\n",
    "        elif payload:\n",
    "            response = requests.request(method, url=url, json=payload, auth=auth)\n",
    "        else:\n",
    "            response = requests.request(method, url=url, auth=auth)\n",
    "        # If the response was successful, no Exception will be raised\n",
    "        response.raise_for_status()\n",
    "\n",
    "    except HTTPError as http_err:\n",
    "        print(f'HTTP error occurred: {http_err}')  # Python 3.6\n",
    "        return response.json()\n",
    "    except Exception as err:\n",
    "        print(f'Other error occurred: {err}')  # Python 3.6\n",
    "        return response.json()\n",
    "    else:\n",
    "        return response.json()\n",
    "\n",
    "\n",
    "class ProvType(Enum):\n",
    "    AGENT = 1\n",
    "    ACTIVITY = 2\n",
    "    ENTITY = 3\n",
    "\n",
    "class ItemType(Enum):\n",
    "    MODEL = 1\n",
    "    PERSON = 2\n",
    "    ORGANISATION = 3\n",
    "    MODELRUN = 4\n",
    "    MODEL_RUN_WORKFLOW = 5\n",
    "    DATASET_TEMPLATE = 6\n",
    "\n",
    "class ProvTypeFromItemType(Switch):\n",
    "    def MODEL(self):\n",
    "        return ProvType.ENTITY\n",
    "\n",
    "    def PERSON(self):\n",
    "        return ProvType.AGENT    \n",
    "\n",
    "    def ORGANISATION(self):\n",
    "        return ProvType.AGENT    \n",
    "\n",
    "    def MODELRUN(self):\n",
    "        return ProvType.ACTIVITY\n",
    "\n",
    "    def MODEL_RUN_WORKFLOW(self):\n",
    "        return ProvType.ENTITY\n",
    "    \n",
    "    def DATASET_TEMPLATE(self):\n",
    "        return ProvType.ENTITY\n",
    "\n",
    "def register_item(payload, item_type, auth):\n",
    "    prov_type = prov_of_item(item_type)\n",
    "    postfix = f'/registry/{prov_type.name.lower()}/{item_type.name.lower()}/create'\n",
    "    endpoint = registry_api + postfix \n",
    "    return requests.post(endpoint, json=payload, auth=auth())\n",
    "\n",
    "prov_of_item = ProvTypeFromItemType(ItemType)\n",
    "provs = [print(prov_of_item(t)) for t in ItemType]        "
   ]
  },
  {
   "cell_type": "markdown",
   "metadata": {},
   "source": [
    "## Endpoint Documentation\n",
    "Endpoint documentation can be found by appending either `/docs` or `/redoc` on the end a base URL.\n",
    "\n",
    "For example:\n",
    "<ul>\n",
    "  <li><a href=\"https://prov-api.testing.rrap-is.com/redoc\" target=\"_blank\">Redoc FastAPI</a></li>\n",
    "  <li><a href=\"https://prov-api.testing.rrap-is.com/docs\" target=\"_blank\">Docs FastAPI</a> </li>\n",
    "</ul>\n",
    "\n",
    "[Return to Top](#toc)"
   ]
  },
  {
   "cell_type": "markdown",
   "metadata": {},
   "source": [
    "## Demonstration"
   ]
  },
  {
   "cell_type": "markdown",
   "metadata": {},
   "source": [
    "### Register a model run\n",
    "A model run consists of ten main elements where many have already been registered in the RRAP-IS Registry.  \n",
    "\n",
    "These elements are:\n",
    "- Start Time\n",
    "- End Time\n",
    "- Workflow definition*\n",
    "- Input dataset*\n",
    "- Input template*\n",
    "- Output dataset*\n",
    "- Output template*\n",
    "- Modeller* and\n",
    "- Requesting Organisation*\n",
    "\n",
    "*pre-registered elements.\n",
    "\n",
    "For examples of registering elements please see <a href=\"/rrap-demo-blog/jupyter/2022/08/18/rrap-registry.html\" target=\"_blank\">RRAP-IS Register blog post</a> or <a href=\"/rrap-demo-blog/jupyter/registry/2022/09/02/registry-query.html\" target=\"_blank\">RRAP-IS Register Query blog post</a>\n",
    "\n",
    "see <a href=\"https://prov-api.testing.rrap-is.com/redoc#tag/Model-Runs/operation/register_model_run_complete_model_run_register_complete_post\" target=\"_blank\">Endpoint documentation</a>"
   ]
  },
  {
   "cell_type": "markdown",
   "metadata": {},
   "source": [
    "## Register Modeller/Person"
   ]
  },
  {
   "cell_type": "code",
   "execution_count": 5,
   "metadata": {},
   "outputs": [],
   "source": [
    "person_payload = {\n",
    "    \"display_name\": \"Ross Petridis\",\n",
    "    \"first_name\": \"Ross\",\n",
    "    \"last_name\": \"Petridis\",\n",
    "    \"email\": \"ross.petridis@csiro.au \",\n",
    "    \"orcid\": \"https://orcid.org/0000-0002-3798-9719\"\n",
    "    }\n",
    "auth = token_manager.get_auth\n",
    "response = register_item(person_payload, ItemType.PERSON, auth)\n",
    "person_id = response.json()[\"created_item\"][\"id\"]"
   ]
  },
  {
   "cell_type": "markdown",
   "metadata": {},
   "source": [
    "## Register a Model"
   ]
  },
  {
   "cell_type": "code",
   "execution_count": 6,
   "metadata": {},
   "outputs": [],
   "source": [
    "model_payload = {\n",
    "    \"display_name\": \"ADRIA\",\n",
    "    \"name\": \"ADRIA\",\n",
    "    \"description\": \"Coral Community Network\",\n",
    "    \"documentation_url\": \"https://github.com/gbrrestoration/CoCoNet-model/blob/main/README.md\",\n",
    "    \"source_url\": \"https://gbrrestoration.org/\"\n",
    "    }\n",
    "auth = token_manager.get_auth\n",
    "response = register_item(model_payload, ItemType.MODEL, auth)\n",
    "model_id = response.json()[\"created_item\"]['id']"
   ]
  },
  {
   "cell_type": "markdown",
   "metadata": {},
   "source": [
    "## Register a Dataset Template"
   ]
  },
  {
   "cell_type": "code",
   "execution_count": 7,
   "metadata": {},
   "outputs": [],
   "source": [
    "template_payload = {\n",
    "  \"display_name\": \"Example dataset template\",\n",
    "  \"description\": \"Description for example dataset template\",\n",
    "  \"defined_resources\": [],\n",
    "  \"deferred_resources\": []\n",
    "}\n",
    "response = register_item(template_payload, ItemType.DATASET_TEMPLATE, auth)\n",
    "dataset_template_id = response.json()['created_item']['id']"
   ]
  },
  {
   "cell_type": "markdown",
   "metadata": {},
   "source": [
    "## Register Model Run Workflow Template"
   ]
  },
  {
   "cell_type": "code",
   "execution_count": 11,
   "metadata": {},
   "outputs": [
    {
     "name": "stdout",
     "output_type": "stream",
     "text": [
      "Token validation failed due to error: Signature has expired.\n",
      "Refreshing using refresh token\n",
      "\n"
     ]
    }
   ],
   "source": [
    "modelrun_workflow_template_payload = {\n",
    "  \"display_name\": \"Workflow def using ADRIA model (software)\",\n",
    "  \"software_id\": model_id,\n",
    "  \"software_version\": \"1.0\",\n",
    "  \"annotations\": {\n",
    "    \"required\": [],\n",
    "    \"optional\": [],\n",
    "  },\n",
    "  \"input_templates\": [\n",
    "    {\n",
    "      \"template_id\" : dataset_template_id\n",
    "    }\n",
    "  ],\n",
    "  \"output_templates\": [\n",
    "    {\n",
    "      \"template_id\" : dataset_template_id\n",
    "    }\n",
    "  ]\n",
    "}\n",
    "\n",
    "auth = token_manager.get_auth\n",
    "response = register_item(modelrun_workflow_template_payload, ItemType.MODEL_RUN_WORKFLOW, auth)\n",
    "workflow_def_id = response.json()['created_item']['id']"
   ]
  },
  {
   "cell_type": "markdown",
   "metadata": {},
   "source": [
    "## Register the Model Run (Provenance)"
   ]
  },
  {
   "cell_type": "code",
   "execution_count": 12,
   "metadata": {},
   "outputs": [],
   "source": [
    "auth = token_manager.get_auth\n",
    "postfix = \"/model_run/register_complete\"\n",
    "payload = {\n",
    "  \"start_time\": 0,\n",
    "  \"end_time\": 1662467929,\n",
    "  \"workflow_template_id\": workflow_def_id,\n",
    "\n",
    "  \"inputs\": [\n",
    "    {\n",
    "      \"dataset_template_id\" : dataset_template_id,\n",
    "      \"dataset_id\" : \"10378.1/1691958\",\n",
    "      \"dataset_type\" : \"DATA_STORE\",\n",
    "      \"resources\" : {\n",
    "        \n",
    "      } \n",
    "    }\n",
    "  ],\n",
    "\n",
    "  \"outputs\": [\n",
    "    {\n",
    "      \"dataset_template_id\" : dataset_template_id,\n",
    "      \"dataset_id\" : \"10378.1/1691958\",\n",
    "      \"dataset_type\" : \"DATA_STORE\",\n",
    "      \"resources\" : {\n",
    "        \n",
    "      } \n",
    "    }\n",
    "  ],\n",
    "\n",
    "  \"associations\": {\n",
    "    \"modeller_id\": person_id,\n",
    "  }\n",
    "}\n",
    "endpoint = prov_api + postfix \n",
    "\n",
    "response_json = handle_request('POST', endpoint, None, payload, auth())\n",
    "HTML(json_to_md(response_json))\n",
    "model_run_id = response_json['record_info']['id']"
   ]
  },
  {
   "cell_type": "markdown",
   "metadata": {},
   "source": [
    "## Exploring linkages across RRAP-IS data, models, modellers and organisation\n",
    "Simple exploration functions include:\n",
    "- Searching upstream (option to only looks so far) from a point and\n",
    "- Searching downstream (option to only looks so far) from a point\n",
    "\n",
    "\n",
    "### Explore Upstream Provenance\n",
    "Lets explore back upstream from the generated output from the above completed model run.  We will limit it to a depth of one, so only the directly linked elements\n",
    "\n",
    "[Return to Top](#toc)"
   ]
  },
  {
   "cell_type": "code",
   "execution_count": 13,
   "metadata": {
    "tags": []
   },
   "outputs": [
    {
     "data": {
      "text/html": [
       "\n",
       "\n",
       "<!DOCTYPE html>\n",
       "<html lang=\"en\">\n",
       "  <head>\n",
       "      <meta charset=\"utf-8\">\n",
       "      <title>lineage_network</title>\n",
       "              <link rel=\"stylesheet\" href=\"https://cdn.holoviz.org/panel/0.14.1/dist/css/loading.css\" type=\"text/css\" />\n",
       "            <link rel=\"stylesheet\" href=\"https://cdn.holoviz.org/panel/0.14.1/dist/css/debugger.css\" type=\"text/css\" />\n",
       "            <link rel=\"stylesheet\" href=\"https://cdn.holoviz.org/panel/0.14.1/dist/css/json.css\" type=\"text/css\" />\n",
       "            <link rel=\"stylesheet\" href=\"https://cdn.holoviz.org/panel/0.14.1/dist/css/alerts.css\" type=\"text/css\" />\n",
       "            <link rel=\"stylesheet\" href=\"https://cdn.holoviz.org/panel/0.14.1/dist/css/dataframe.css\" type=\"text/css\" />\n",
       "            <link rel=\"stylesheet\" href=\"https://cdn.holoviz.org/panel/0.14.1/dist/css/card.css\" type=\"text/css\" />\n",
       "            <link rel=\"stylesheet\" href=\"https://cdn.holoviz.org/panel/0.14.1/dist/css/widgets.css\" type=\"text/css\" />\n",
       "            <link rel=\"stylesheet\" href=\"https://cdn.holoviz.org/panel/0.14.1/dist/css/markdown.css\" type=\"text/css\" />\n",
       "            <style>\n",
       "                \n",
       "            .bk.pn-loading.arc:before {\n",
       "              background-image: url(\"data:image/svg+xml;base64,PHN2ZyB4bWxucz0iaHR0cDovL3d3dy53My5vcmcvMjAwMC9zdmciIHN0eWxlPSJtYXJnaW46IGF1dG87IGJhY2tncm91bmQ6IG5vbmU7IGRpc3BsYXk6IGJsb2NrOyBzaGFwZS1yZW5kZXJpbmc6IGF1dG87IiB2aWV3Qm94PSIwIDAgMTAwIDEwMCIgcHJlc2VydmVBc3BlY3RSYXRpbz0ieE1pZFlNaWQiPiAgPGNpcmNsZSBjeD0iNTAiIGN5PSI1MCIgZmlsbD0ibm9uZSIgc3Ryb2tlPSIjYzNjM2MzIiBzdHJva2Utd2lkdGg9IjEwIiByPSIzNSIgc3Ryb2tlLWRhc2hhcnJheT0iMTY0LjkzMzYxNDMxMzQ2NDE1IDU2Ljk3Nzg3MTQzNzgyMTM4Ij4gICAgPGFuaW1hdGVUcmFuc2Zvcm0gYXR0cmlidXRlTmFtZT0idHJhbnNmb3JtIiB0eXBlPSJyb3RhdGUiIHJlcGVhdENvdW50PSJpbmRlZmluaXRlIiBkdXI9IjFzIiB2YWx1ZXM9IjAgNTAgNTA7MzYwIDUwIDUwIiBrZXlUaW1lcz0iMDsxIj48L2FuaW1hdGVUcmFuc2Zvcm0+ICA8L2NpcmNsZT48L3N2Zz4=\");\n",
       "              background-size: auto calc(min(50%, 400px));\n",
       "            }\n",
       "            \n",
       "            </style>\n",
       "\n",
       "          <script type=\"text/javascript\" src=\"https://cdn.bokeh.org/bokeh/release/bokeh-2.4.3.min.js\"></script><script type=\"text/javascript\" src=\"https://cdn.bokeh.org/bokeh/release/bokeh-gl-2.4.3.min.js\"></script><script type=\"text/javascript\" src=\"https://cdn.bokeh.org/bokeh/release/bokeh-widgets-2.4.3.min.js\"></script><script type=\"text/javascript\" src=\"https://cdn.bokeh.org/bokeh/release/bokeh-tables-2.4.3.min.js\"></script><script type=\"text/javascript\" src=\"https://cdn.holoviz.org/panel/0.14.1/dist/panel.min.js\"></script><script type=\"text/javascript\">\n",
       "            Bokeh.set_log_level(\"info\");\n",
       "        </script>\n",
       "  </head>\n",
       "  <body>\n",
       "          \n",
       "              <div class=\"bk-root\" id=\"4a1b3b0a-8737-46df-a613-f994f0cbeb12\" data-root-id=\"1002\"></div>\n",
       "      \n",
       "        <script type=\"application/json\" id=\"1243\">\n",
       "          {\"7e460e1f-de35-4068-b410-00256ffb36e1\":{\"defs\":[{\"extends\":null,\"module\":null,\"name\":\"ReactiveHTML1\",\"overrides\":[],\"properties\":[]},{\"extends\":null,\"module\":null,\"name\":\"FlexBox1\",\"overrides\":[],\"properties\":[{\"default\":\"flex-start\",\"kind\":null,\"name\":\"align_content\"},{\"default\":\"flex-start\",\"kind\":null,\"name\":\"align_items\"},{\"default\":\"row\",\"kind\":null,\"name\":\"flex_direction\"},{\"default\":\"wrap\",\"kind\":null,\"name\":\"flex_wrap\"},{\"default\":\"flex-start\",\"kind\":null,\"name\":\"justify_content\"}]},{\"extends\":null,\"module\":null,\"name\":\"GridStack1\",\"overrides\":[],\"properties\":[{\"default\":\"warn\",\"kind\":null,\"name\":\"mode\"},{\"default\":null,\"kind\":null,\"name\":\"ncols\"},{\"default\":null,\"kind\":null,\"name\":\"nrows\"},{\"default\":true,\"kind\":null,\"name\":\"allow_resize\"},{\"default\":true,\"kind\":null,\"name\":\"allow_drag\"},{\"default\":[],\"kind\":null,\"name\":\"state\"}]},{\"extends\":null,\"module\":null,\"name\":\"click1\",\"overrides\":[],\"properties\":[{\"default\":\"\",\"kind\":null,\"name\":\"terminal_output\"},{\"default\":\"\",\"kind\":null,\"name\":\"debug_name\"},{\"default\":0,\"kind\":null,\"name\":\"clears\"}]},{\"extends\":null,\"module\":null,\"name\":\"NotificationAreaBase1\",\"overrides\":[],\"properties\":[{\"default\":\"bottom-right\",\"kind\":null,\"name\":\"position\"},{\"default\":0,\"kind\":null,\"name\":\"_clear\"}]},{\"extends\":null,\"module\":null,\"name\":\"NotificationArea1\",\"overrides\":[],\"properties\":[{\"default\":[],\"kind\":null,\"name\":\"notifications\"},{\"default\":\"bottom-right\",\"kind\":null,\"name\":\"position\"},{\"default\":0,\"kind\":null,\"name\":\"_clear\"},{\"default\":[{\"background\":\"#ffc107\",\"icon\":{\"className\":\"fas fa-exclamation-triangle\",\"color\":\"white\",\"tagName\":\"i\"},\"type\":\"warning\"},{\"background\":\"#007bff\",\"icon\":{\"className\":\"fas fa-info-circle\",\"color\":\"white\",\"tagName\":\"i\"},\"type\":\"info\"}],\"kind\":null,\"name\":\"types\"}]},{\"extends\":null,\"module\":null,\"name\":\"Notification\",\"overrides\":[],\"properties\":[{\"default\":null,\"kind\":null,\"name\":\"background\"},{\"default\":3000,\"kind\":null,\"name\":\"duration\"},{\"default\":null,\"kind\":null,\"name\":\"icon\"},{\"default\":\"\",\"kind\":null,\"name\":\"message\"},{\"default\":null,\"kind\":null,\"name\":\"notification_type\"},{\"default\":false,\"kind\":null,\"name\":\"_destroyed\"}]},{\"extends\":null,\"module\":null,\"name\":\"TemplateActions1\",\"overrides\":[],\"properties\":[{\"default\":0,\"kind\":null,\"name\":\"open_modal\"},{\"default\":0,\"kind\":null,\"name\":\"close_modal\"}]},{\"extends\":null,\"module\":null,\"name\":\"MaterialTemplateActions1\",\"overrides\":[],\"properties\":[{\"default\":0,\"kind\":null,\"name\":\"open_modal\"},{\"default\":0,\"kind\":null,\"name\":\"close_modal\"}]}],\"roots\":{\"references\":[{\"attributes\":{},\"id\":\"1109\",\"type\":\"UnionRenderers\"},{\"attributes\":{},\"id\":\"1110\",\"type\":\"Selection\"},{\"attributes\":{},\"id\":\"1040\",\"type\":\"BasicTickFormatter\"},{\"attributes\":{\"callback\":null,\"renderers\":[{\"id\":\"1062\"}],\"tags\":[\"hv_created\"],\"tooltips\":[[\"index\",\"@{index_hover}\"],[\"item_category\",\"@{item_category}\"],[\"item_subtype\",\"@{item_subtype}\"]]},\"id\":\"1006\",\"type\":\"HoverTool\"},{\"attributes\":{\"line_alpha\":{\"value\":0.2},\"line_width\":{\"value\":2}},\"id\":\"1057\",\"type\":\"MultiLine\"},{\"attributes\":{\"tools\":[{\"id\":\"1006\"},{\"id\":\"1024\"},{\"id\":\"1025\"},{\"id\":\"1026\"},{\"id\":\"1027\"},{\"id\":\"1028\"},{\"id\":\"1029\"}]},\"id\":\"1031\",\"type\":\"Toolbar\"},{\"attributes\":{\"source\":{\"id\":\"1046\"}},\"id\":\"1055\",\"type\":\"CDSView\"},{\"attributes\":{\"range\":null},\"id\":\"1075\",\"type\":\"Dodge\"},{\"attributes\":{\"end\":1.1412678760668002,\"reset_end\":1.1412678760668002,\"reset_start\":-1.1412678164621537,\"start\":-1.1412678164621537,\"tags\":[[[\"y\",\"y\",null]]]},\"id\":\"1005\",\"type\":\"Range1d\"},{\"attributes\":{\"coordinates\":null,\"edge_renderer\":{\"id\":\"1060\"},\"group\":null,\"inspection_policy\":{\"id\":\"1073\"},\"layout_provider\":{\"id\":\"1048\"},\"node_renderer\":{\"id\":\"1054\"},\"selection_policy\":{\"id\":\"1071\"}},\"id\":\"1062\",\"type\":\"GraphRenderer\"},{\"attributes\":{\"margin\":[5,5,5,5],\"name\":\"HSpacer01119\",\"sizing_mode\":\"stretch_width\"},\"id\":\"1003\",\"type\":\"Spacer\"},{\"attributes\":{\"children\":[{\"id\":\"1003\"},{\"id\":\"1007\"},{\"id\":\"1113\"}],\"margin\":[0,0,0,0],\"name\":\"Row01115\",\"tags\":[\"embedded\"]},\"id\":\"1002\",\"type\":\"Row\"},{\"attributes\":{\"text\":{\"field\":\"item_subtype\"},\"text_align\":{\"value\":\"center\"},\"text_alpha\":{\"value\":0.2},\"text_baseline\":{\"value\":\"middle\"},\"text_color\":{\"value\":\"black\"},\"text_font_size\":{\"value\":\"8pt\"},\"x\":{\"field\":\"x\",\"transform\":{\"id\":\"1086\"}},\"y\":{\"field\":\"y\",\"transform\":{\"id\":\"1087\"}}},\"id\":\"1093\",\"type\":\"Text\"},{\"attributes\":{},\"id\":\"1041\",\"type\":\"AllLabels\"},{\"attributes\":{},\"id\":\"1012\",\"type\":\"LinearScale\"},{\"attributes\":{\"coordinates\":null,\"data_source\":{\"id\":\"1088\"},\"glyph\":{\"id\":\"1091\"},\"group\":null,\"hover_glyph\":null,\"muted_glyph\":{\"id\":\"1093\"},\"nonselection_glyph\":{\"id\":\"1092\"},\"selection_glyph\":{\"id\":\"1096\"},\"view\":{\"id\":\"1095\"}},\"id\":\"1094\",\"type\":\"GlyphRenderer\"},{\"attributes\":{\"data\":{\"index\":{\"__ndarray__\":\"AAAAAAEAAAACAAAAAwAAAAQAAAA=\",\"dtype\":\"int32\",\"order\":\"little\",\"shape\":[5]},\"index_hover\":[\"10378.1/1691958\",\"10378.1/1695735\",\"10378.1/1695736\",\"10378.1/1695739\",\"10378.1/1695740\"],\"item_category\":[\"ENTITY\",\"AGENT\",\"ENTITY\",\"ENTITY\",\"ACTIVITY\"],\"item_subtype\":[\"DATASET\",\"PERSON\",\"MODEL\",\"MODEL_RUN_WORKFLOW_TEMPLATE\",\"MODEL_RUN\"],\"node_color\":[\"ENTITY\",\"AGENT\",\"ENTITY\",\"ENTITY\",\"ACTIVITY\"]},\"selected\":{\"id\":\"1110\"},\"selection_policy\":{\"id\":\"1109\"}},\"id\":\"1046\",\"type\":\"ColumnDataSource\"},{\"attributes\":{\"background_fill_color\":\"pink\",\"below\":[{\"id\":\"1016\"}],\"center\":[{\"id\":\"1019\"},{\"id\":\"1023\"}],\"left\":[{\"id\":\"1020\"}],\"margin\":[5,5,5,5],\"min_border_bottom\":10,\"min_border_left\":10,\"min_border_right\":10,\"min_border_top\":10,\"renderers\":[{\"id\":\"1062\"},{\"id\":\"1083\"},{\"id\":\"1094\"}],\"sizing_mode\":\"fixed\",\"title\":{\"id\":\"1008\"},\"toolbar\":{\"id\":\"1031\"},\"width\":800,\"x_range\":{\"id\":\"1004\"},\"x_scale\":{\"id\":\"1012\"},\"y_range\":{\"id\":\"1005\"},\"y_scale\":{\"id\":\"1014\"}},\"id\":\"1007\",\"subtype\":\"Figure\",\"type\":\"Plot\"},{\"attributes\":{},\"id\":\"1111\",\"type\":\"UnionRenderers\"},{\"attributes\":{},\"id\":\"1112\",\"type\":\"Selection\"},{\"attributes\":{\"coordinates\":null,\"group\":null,\"text_color\":\"black\",\"text_font_size\":\"12pt\"},\"id\":\"1008\",\"type\":\"Title\"},{\"attributes\":{\"fill_color\":{\"field\":\"node_color\",\"transform\":{\"id\":\"1045\"}},\"hatch_color\":{\"field\":\"node_color\",\"transform\":{\"id\":\"1045\"}},\"size\":{\"value\":10}},\"id\":\"1051\",\"type\":\"Circle\"},{\"attributes\":{\"axis\":{\"id\":\"1016\"},\"coordinates\":null,\"grid_line_color\":null,\"group\":null,\"ticker\":null},\"id\":\"1019\",\"type\":\"Grid\"},{\"attributes\":{\"line_color\":{\"value\":\"limegreen\"},\"line_width\":{\"value\":2}},\"id\":\"1058\",\"type\":\"MultiLine\"},{\"attributes\":{},\"id\":\"1014\",\"type\":\"LinearScale\"},{\"attributes\":{\"factors\":[\"ENTITY\",\"AGENT\",\"ACTIVITY\"],\"palette\":[\"blue\",\"orange\",\"green\"]},\"id\":\"1045\",\"type\":\"CategoricalColorMapper\"},{\"attributes\":{},\"id\":\"1106\",\"type\":\"UnionRenderers\"},{\"attributes\":{\"axis_label\":\"x\",\"coordinates\":null,\"formatter\":{\"id\":\"1040\"},\"group\":null,\"major_label_policy\":{\"id\":\"1041\"},\"ticker\":{\"id\":\"1017\"}},\"id\":\"1016\",\"type\":\"LinearAxis\"},{\"attributes\":{},\"id\":\"1089\",\"type\":\"Selection\"},{\"attributes\":{},\"id\":\"1025\",\"type\":\"PanTool\"},{\"attributes\":{\"fill_color\":{\"field\":\"node_color\",\"transform\":{\"id\":\"1045\"}},\"hatch_color\":{\"field\":\"node_color\",\"transform\":{\"id\":\"1045\"}},\"size\":{\"value\":10}},\"id\":\"1049\",\"type\":\"Circle\"},{\"attributes\":{},\"id\":\"1017\",\"type\":\"BasicTicker\"},{\"attributes\":{\"range\":null},\"id\":\"1086\",\"type\":\"Dodge\"},{\"attributes\":{\"axis_label\":\"y\",\"coordinates\":null,\"formatter\":{\"id\":\"1043\"},\"group\":null,\"major_label_policy\":{\"id\":\"1044\"},\"ticker\":{\"id\":\"1021\"}},\"id\":\"1020\",\"type\":\"LinearAxis\"},{\"attributes\":{\"axis\":{\"id\":\"1020\"},\"coordinates\":null,\"dimension\":1,\"grid_line_color\":null,\"group\":null,\"ticker\":null},\"id\":\"1023\",\"type\":\"Grid\"},{\"attributes\":{},\"id\":\"1021\",\"type\":\"BasicTicker\"},{\"attributes\":{},\"id\":\"1026\",\"type\":\"WheelZoomTool\"},{\"attributes\":{\"fill_color\":{\"value\":\"limegreen\"},\"hatch_color\":{\"field\":\"node_color\",\"transform\":{\"id\":\"1045\"}},\"size\":{\"value\":10}},\"id\":\"1052\",\"type\":\"Circle\"},{\"attributes\":{\"coordinates\":null,\"data_source\":{\"id\":\"1077\"},\"glyph\":{\"id\":\"1080\"},\"group\":null,\"hover_glyph\":null,\"muted_glyph\":{\"id\":\"1082\"},\"nonselection_glyph\":{\"id\":\"1081\"},\"selection_glyph\":{\"id\":\"1085\"},\"view\":{\"id\":\"1084\"}},\"id\":\"1083\",\"type\":\"GlyphRenderer\"},{\"attributes\":{},\"id\":\"1024\",\"type\":\"SaveTool\"},{\"attributes\":{\"text\":{\"field\":\"item_subtype\"},\"text_align\":{\"value\":\"center\"},\"text_baseline\":{\"value\":\"middle\"},\"text_color\":{\"value\":\"black\"},\"text_font_size\":{\"value\":\"8pt\"},\"x\":{\"field\":\"x\",\"transform\":{\"id\":\"1086\"}},\"y\":{\"field\":\"y\",\"transform\":{\"id\":\"1087\"}}},\"id\":\"1091\",\"type\":\"Text\"},{\"attributes\":{\"data\":{\"end\":{\"__ndarray__\":\"AAAAAAIAAAADAAAAAQAAAA==\",\"dtype\":\"int32\",\"order\":\"little\",\"shape\":[4]},\"start\":{\"__ndarray__\":\"BAAAAAQAAAAEAAAABAAAAA==\",\"dtype\":\"int32\",\"order\":\"little\",\"shape\":[4]},\"xs\":[{\"__ndarray__\":\"AAAAAAAA8D+Fd+MJ78bTPwAAAAAAAPh/ymPjkFak1j+Fd+MJ78bTPxdiwsC7j9Q/\",\"dtype\":\"float64\",\"order\":\"little\",\"shape\":[6]},{\"__ndarray__\":\"AAAAAAAA8D/eu/G8d+PpvwAAAAAAAPh/i6djC7c26L/eu/G8d+Ppvw/63/dunOi/\",\"dtype\":\"float64\",\"order\":\"little\",\"shape\":[6]},{\"__ndarray__\":\"AAAAAAAA8D/Ou/Gcd+PpvwAAAAAAAPh/uAKZ2G6c6L/Ou/Gcd+Ppv+tMTeu2Nui/\",\"dtype\":\"float64\",\"order\":\"little\",\"shape\":[6]},{\"__ndarray__\":\"AAAAAAAA8D/Vd+Op78bTPwAAAAAAAPh/l5bFXLyP1D/Vd+Op78bTP+3evi5XpNY/\",\"dtype\":\"float64\",\"order\":\"little\",\"shape\":[6]}],\"ys\":[{\"__ndarray__\":\"AAAAAAAAAAAYhzcvDm/uPwAAAAAAAPh/px75CleO7T8YhzcvDm/uP7nB1ynczOw/\",\"dtype\":\"float64\",\"order\":\"little\",\"shape\":[6]},{\"__ndarray__\":\"AAAAAAAAAACFkWcJI8/iPwAAAAAAAPh/1DMqZOHw4j+FkWcJI8/iP1TzvL7St+E/\",\"dtype\":\"float64\",\"order\":\"little\",\"shape\":[6]},{\"__ndarray__\":\"AAAAAAAAAACVkWcpI8/ivwAAAAAAAPh/vk3k3dK34b+VkWcpI8/iv9crDoPh8OK/\",\"dtype\":\"float64\",\"order\":\"little\",\"shape\":[6]},{\"__ndarray__\":\"AAAAAAAAAAAIhzcPDm/uvwAAAAAAAPh/hThdCdzM7L8IhzcPDm/uv1WROelWju2/\",\"dtype\":\"float64\",\"order\":\"little\",\"shape\":[6]}]},\"selected\":{\"id\":\"1112\"},\"selection_policy\":{\"id\":\"1111\"}},\"id\":\"1047\",\"type\":\"ColumnDataSource\"},{\"attributes\":{\"overlay\":{\"id\":\"1030\"}},\"id\":\"1027\",\"type\":\"BoxZoomTool\"},{\"attributes\":{},\"id\":\"1028\",\"type\":\"ResetTool\"},{\"attributes\":{\"callback\":null},\"id\":\"1029\",\"type\":\"TapTool\"},{\"attributes\":{\"text\":{\"field\":\"item_subtype\"},\"text_align\":{\"value\":\"center\"},\"text_alpha\":{\"value\":0.1},\"text_baseline\":{\"value\":\"middle\"},\"text_color\":{\"value\":\"black\"},\"text_font_size\":{\"value\":\"8pt\"},\"x\":{\"field\":\"x\",\"transform\":{\"id\":\"1086\"}},\"y\":{\"field\":\"y\",\"transform\":{\"id\":\"1087\"}}},\"id\":\"1092\",\"type\":\"Text\"},{\"attributes\":{\"source\":{\"id\":\"1088\"}},\"id\":\"1095\",\"type\":\"CDSView\"},{\"attributes\":{\"line_width\":{\"value\":2}},\"id\":\"1056\",\"type\":\"MultiLine\"},{\"attributes\":{\"source\":{\"id\":\"1047\"}},\"id\":\"1061\",\"type\":\"CDSView\"},{\"attributes\":{},\"id\":\"1071\",\"type\":\"NodesAndLinkedEdges\"},{\"attributes\":{\"bottom_units\":\"screen\",\"coordinates\":null,\"fill_alpha\":0.5,\"fill_color\":\"lightgrey\",\"group\":null,\"left_units\":\"screen\",\"level\":\"overlay\",\"line_alpha\":1.0,\"line_color\":\"black\",\"line_dash\":[4,4],\"line_width\":2,\"right_units\":\"screen\",\"syncable\":false,\"top_units\":\"screen\"},\"id\":\"1030\",\"type\":\"BoxAnnotation\"},{\"attributes\":{\"source\":{\"id\":\"1077\"}},\"id\":\"1084\",\"type\":\"CDSView\"},{\"attributes\":{\"data\":{\"item_category\":[\"ENTITY\",\"AGENT\",\"ENTITY\",\"ENTITY\",\"ACTIVITY\"],\"x\":{\"__ndarray__\":\"hXfjCe/G0z/Vd+Op78bTP9678bx34+m/zrvxnHfj6b8AAAAAAADwPw==\",\"dtype\":\"float64\",\"order\":\"little\",\"shape\":[5]},\"y\":{\"__ndarray__\":\"GIc3Lw5v7j8IhzcPDm/uv4WRZwkjz+I/lZFnKSPP4r8AAAAAAAAAAA==\",\"dtype\":\"float64\",\"order\":\"little\",\"shape\":[5]}},\"selected\":{\"id\":\"1078\"},\"selection_policy\":{\"id\":\"1104\"}},\"id\":\"1077\",\"type\":\"ColumnDataSource\"},{\"attributes\":{\"graph_layout\":{\"0\":[0.3090169521873281,0.9510565683560541],\"1\":[0.3090171011989445,-0.9510565087514076],\"2\":[-0.8090170564954595,0.587785261505403],\"3\":[-0.809016996890813,-0.5877853211100496],\"4\":[1.0,0.0]}},\"id\":\"1048\",\"type\":\"StaticLayoutProvider\"},{\"attributes\":{\"margin\":[5,5,5,5],\"name\":\"HSpacer01120\",\"sizing_mode\":\"stretch_width\"},\"id\":\"1113\",\"type\":\"Spacer\"},{\"attributes\":{},\"id\":\"1073\",\"type\":\"NodesAndLinkedEdges\"},{\"attributes\":{\"coordinates\":null,\"data_source\":{\"id\":\"1047\"},\"glyph\":{\"id\":\"1056\"},\"group\":null,\"hover_glyph\":{\"id\":\"1058\"},\"muted_glyph\":{\"id\":\"1059\"},\"nonselection_glyph\":{\"id\":\"1057\"},\"view\":{\"id\":\"1061\"}},\"id\":\"1060\",\"type\":\"GlyphRenderer\"},{\"attributes\":{\"data\":{\"item_subtype\":[\"DATASET\",\"PERSON\",\"MODEL\",\"MODEL_RUN_WORKFLOW_TEMPLATE\",\"MODEL_RUN\"],\"x\":{\"__ndarray__\":\"hXfjCe/G0z/Vd+Op78bTP9678bx34+m/zrvxnHfj6b8AAAAAAADwPw==\",\"dtype\":\"float64\",\"order\":\"little\",\"shape\":[5]},\"y\":{\"__ndarray__\":\"GIc3Lw5v7j8IhzcPDm/uv4WRZwkjz+I/lZFnKSPP4r8AAAAAAAAAAA==\",\"dtype\":\"float64\",\"order\":\"little\",\"shape\":[5]}},\"selected\":{\"id\":\"1089\"},\"selection_policy\":{\"id\":\"1106\"}},\"id\":\"1088\",\"type\":\"ColumnDataSource\"},{\"attributes\":{\"end\":1.1356762792371595,\"reset_end\":1.1356762792371595,\"reset_start\":-0.944693335732619,\"start\":-0.944693335732619,\"tags\":[[[\"x\",\"x\",null]]]},\"id\":\"1004\",\"type\":\"Range1d\"},{\"attributes\":{\"text\":{\"field\":\"item_category\"},\"text_align\":{\"value\":\"center\"},\"text_baseline\":{\"value\":\"middle\"},\"text_color\":{\"value\":\"blue\"},\"text_font_size\":{\"value\":\"12pt\"},\"x\":{\"field\":\"x\",\"transform\":{\"id\":\"1075\"}},\"y\":{\"field\":\"y\",\"transform\":{\"id\":\"1076\"}}},\"id\":\"1080\",\"type\":\"Text\"},{\"attributes\":{},\"id\":\"1043\",\"type\":\"BasicTickFormatter\"},{\"attributes\":{\"fill_alpha\":{\"value\":0.2},\"fill_color\":{\"field\":\"node_color\",\"transform\":{\"id\":\"1045\"}},\"hatch_alpha\":{\"value\":0.2},\"hatch_color\":{\"field\":\"node_color\",\"transform\":{\"id\":\"1045\"}},\"line_alpha\":{\"value\":0.2},\"size\":{\"value\":10}},\"id\":\"1050\",\"type\":\"Circle\"},{\"attributes\":{},\"id\":\"1104\",\"type\":\"UnionRenderers\"},{\"attributes\":{\"fill_alpha\":{\"value\":0.2},\"fill_color\":{\"field\":\"node_color\",\"transform\":{\"id\":\"1045\"}},\"hatch_alpha\":{\"value\":0.2},\"hatch_color\":{\"field\":\"node_color\",\"transform\":{\"id\":\"1045\"}},\"line_alpha\":{\"value\":0.2},\"size\":{\"value\":10}},\"id\":\"1053\",\"type\":\"Circle\"},{\"attributes\":{\"angle\":{\"value\":0},\"text\":{\"field\":\"item_category\"},\"text_align\":{\"value\":\"center\"},\"text_alpha\":{\"value\":1.0},\"text_baseline\":{\"value\":\"middle\"},\"text_color\":{\"value\":\"blue\"},\"text_font_size\":{\"value\":\"12pt\"},\"text_font_style\":{\"value\":\"normal\"},\"text_line_height\":{\"value\":1.2},\"x\":{\"field\":\"x\",\"transform\":{\"id\":\"1075\"}},\"x_offset\":{\"value\":0},\"y\":{\"field\":\"y\",\"transform\":{\"id\":\"1076\"}},\"y_offset\":{\"value\":0}},\"id\":\"1085\",\"type\":\"Text\"},{\"attributes\":{\"coordinates\":null,\"data_source\":{\"id\":\"1046\"},\"glyph\":{\"id\":\"1049\"},\"group\":null,\"hover_glyph\":{\"id\":\"1052\"},\"muted_glyph\":{\"id\":\"1053\"},\"nonselection_glyph\":{\"id\":\"1050\"},\"selection_glyph\":{\"id\":\"1051\"},\"view\":{\"id\":\"1055\"}},\"id\":\"1054\",\"type\":\"GlyphRenderer\"},{\"attributes\":{\"text\":{\"field\":\"item_category\"},\"text_align\":{\"value\":\"center\"},\"text_alpha\":{\"value\":0.2},\"text_baseline\":{\"value\":\"middle\"},\"text_color\":{\"value\":\"blue\"},\"text_font_size\":{\"value\":\"12pt\"},\"x\":{\"field\":\"x\",\"transform\":{\"id\":\"1075\"}},\"y\":{\"field\":\"y\",\"transform\":{\"id\":\"1076\"}}},\"id\":\"1082\",\"type\":\"Text\"},{\"attributes\":{\"angle\":{\"value\":0},\"text\":{\"field\":\"item_subtype\"},\"text_align\":{\"value\":\"center\"},\"text_alpha\":{\"value\":1.0},\"text_baseline\":{\"value\":\"middle\"},\"text_color\":{\"value\":\"black\"},\"text_font_size\":{\"value\":\"8pt\"},\"text_font_style\":{\"value\":\"normal\"},\"text_line_height\":{\"value\":1.2},\"x\":{\"field\":\"x\",\"transform\":{\"id\":\"1086\"}},\"x_offset\":{\"value\":0},\"y\":{\"field\":\"y\",\"transform\":{\"id\":\"1087\"}},\"y_offset\":{\"value\":0}},\"id\":\"1096\",\"type\":\"Text\"},{\"attributes\":{\"text\":{\"field\":\"item_category\"},\"text_align\":{\"value\":\"center\"},\"text_alpha\":{\"value\":0.1},\"text_baseline\":{\"value\":\"middle\"},\"text_color\":{\"value\":\"blue\"},\"text_font_size\":{\"value\":\"12pt\"},\"x\":{\"field\":\"x\",\"transform\":{\"id\":\"1075\"}},\"y\":{\"field\":\"y\",\"transform\":{\"id\":\"1076\"}}},\"id\":\"1081\",\"type\":\"Text\"},{\"attributes\":{},\"id\":\"1044\",\"type\":\"AllLabels\"},{\"attributes\":{\"range\":null,\"value\":0.05},\"id\":\"1076\",\"type\":\"Dodge\"},{\"attributes\":{\"line_alpha\":{\"value\":0.2},\"line_width\":{\"value\":2}},\"id\":\"1059\",\"type\":\"MultiLine\"},{\"attributes\":{\"range\":null,\"value\":-0.05},\"id\":\"1087\",\"type\":\"Dodge\"},{\"attributes\":{},\"id\":\"1078\",\"type\":\"Selection\"}],\"root_ids\":[\"1002\"]},\"title\":\"Bokeh Application\",\"version\":\"2.4.3\"}}\n",
       "        </script>\n",
       "        <script type=\"text/javascript\">\n",
       "          (function() {\n",
       "            const fn = function() {\n",
       "              Bokeh.safely(function() {\n",
       "                (function(root) {\n",
       "                  function embed_document(root) {\n",
       "                  const docs_json = document.getElementById('1243').textContent;\n",
       "                  const render_items = [{\"docid\":\"7e460e1f-de35-4068-b410-00256ffb36e1\",\"root_ids\":[\"1002\"],\"roots\":{\"1002\":\"4a1b3b0a-8737-46df-a613-f994f0cbeb12\"}}];\n",
       "                  root.Bokeh.embed.embed_items(docs_json, render_items);\n",
       "                  }\n",
       "                  if (root.Bokeh !== undefined) {\n",
       "                    embed_document(root);\n",
       "                  } else {\n",
       "                    let attempts = 0;\n",
       "                    const timer = setInterval(function(root) {\n",
       "                      if (root.Bokeh !== undefined) {\n",
       "                        clearInterval(timer);\n",
       "                        embed_document(root);\n",
       "                      } else {\n",
       "                        attempts++;\n",
       "                        if (attempts > 100) {\n",
       "                          clearInterval(timer);\n",
       "                          console.log(\"Bokeh: ERROR: Unable to run BokehJS code because BokehJS library is missing\");\n",
       "                        }\n",
       "                      }\n",
       "                    }, 10, root)\n",
       "                  }\n",
       "                })(window);\n",
       "              });\n",
       "            };\n",
       "            if (document.readyState != \"loading\") fn();\n",
       "            else document.addEventListener(\"DOMContentLoaded\", fn);\n",
       "          })();\n",
       "        </script>\n",
       "  </body>\n",
       "</html>"
      ],
      "text/plain": [
       "<IPython.core.display.HTML object>"
      ]
     },
     "execution_count": 13,
     "metadata": {},
     "output_type": "execute_result"
    }
   ],
   "source": [
    "auth = token_manager.get_auth\n",
    "postfix = \"/explore/upstream\"\n",
    "params = {\n",
    "    \"starting_id\": model_run_id,\n",
    "    \"depth\": 1\n",
    "}\n",
    "\n",
    "endpoint = prov_api + postfix\n",
    "\n",
    "response_json = handle_request('GET', endpoint, params, None, auth())\n",
    "result_graph = response_json[\"graph\"]\n",
    "\n",
    "networkx_graph = json_graph.node_link_graph(result_graph)\n",
    "im = hv.Graph.from_networkx(networkx_graph, nx.layout.circular_layout).opts(tools=['hover','tap'],\n",
    "                                                                          node_size=10,\n",
    "                                                                          node_color='item_category',\n",
    "                                                                          cmap = ['blue','orange', 'green', 'red'],\n",
    "                                                                          directed=True, \n",
    "                                                                          arrowhead_length=0.02,\n",
    "                                                                          bgcolor='pink')\n",
    "\n",
    "labels = hv.Labels(im.nodes, ['x', 'y'], 'item_category').opts(opts.Labels(text_font_size='12pt', text_color='blue', xoffset=0, yoffset=0.05, bgcolor='white'))\n",
    "labels_2 = hv.Labels(im.nodes, ['x', 'y'], 'item_subtype').opts(opts.Labels(text_font_size='8pt', xoffset=0, yoffset=-0.05, bgcolor='white'))\n",
    "hv_graph = (im * labels * labels_2)\n",
    "hv.save(hv_graph, 'lineage_network.html', backend='bokeh')\n",
    "HTML('lineage_network.html')"
   ]
  },
  {
   "cell_type": "markdown",
   "metadata": {},
   "source": [
    "### Explore Downstream Provence\n",
    "Lets explore forward downstream from the generated model definition defined above.  We will limit it to a depth of one, so only the directly linked elements\n",
    "\n",
    "[Return to Top](#toc)"
   ]
  },
  {
   "cell_type": "code",
   "execution_count": 14,
   "metadata": {},
   "outputs": [
    {
     "data": {
      "text/html": [
       "\n",
       "\n",
       "<!DOCTYPE html>\n",
       "<html lang=\"en\">\n",
       "  <head>\n",
       "      <meta charset=\"utf-8\">\n",
       "      <title>network</title>\n",
       "              <link rel=\"stylesheet\" href=\"https://cdn.holoviz.org/panel/0.14.1/dist/css/loading.css\" type=\"text/css\" />\n",
       "            <link rel=\"stylesheet\" href=\"https://cdn.holoviz.org/panel/0.14.1/dist/css/debugger.css\" type=\"text/css\" />\n",
       "            <link rel=\"stylesheet\" href=\"https://cdn.holoviz.org/panel/0.14.1/dist/css/json.css\" type=\"text/css\" />\n",
       "            <link rel=\"stylesheet\" href=\"https://cdn.holoviz.org/panel/0.14.1/dist/css/alerts.css\" type=\"text/css\" />\n",
       "            <link rel=\"stylesheet\" href=\"https://cdn.holoviz.org/panel/0.14.1/dist/css/dataframe.css\" type=\"text/css\" />\n",
       "            <link rel=\"stylesheet\" href=\"https://cdn.holoviz.org/panel/0.14.1/dist/css/card.css\" type=\"text/css\" />\n",
       "            <link rel=\"stylesheet\" href=\"https://cdn.holoviz.org/panel/0.14.1/dist/css/widgets.css\" type=\"text/css\" />\n",
       "            <link rel=\"stylesheet\" href=\"https://cdn.holoviz.org/panel/0.14.1/dist/css/markdown.css\" type=\"text/css\" />\n",
       "            <style>\n",
       "                \n",
       "            .bk.pn-loading.arc:before {\n",
       "              background-image: url(\"data:image/svg+xml;base64,PHN2ZyB4bWxucz0iaHR0cDovL3d3dy53My5vcmcvMjAwMC9zdmciIHN0eWxlPSJtYXJnaW46IGF1dG87IGJhY2tncm91bmQ6IG5vbmU7IGRpc3BsYXk6IGJsb2NrOyBzaGFwZS1yZW5kZXJpbmc6IGF1dG87IiB2aWV3Qm94PSIwIDAgMTAwIDEwMCIgcHJlc2VydmVBc3BlY3RSYXRpbz0ieE1pZFlNaWQiPiAgPGNpcmNsZSBjeD0iNTAiIGN5PSI1MCIgZmlsbD0ibm9uZSIgc3Ryb2tlPSIjYzNjM2MzIiBzdHJva2Utd2lkdGg9IjEwIiByPSIzNSIgc3Ryb2tlLWRhc2hhcnJheT0iMTY0LjkzMzYxNDMxMzQ2NDE1IDU2Ljk3Nzg3MTQzNzgyMTM4Ij4gICAgPGFuaW1hdGVUcmFuc2Zvcm0gYXR0cmlidXRlTmFtZT0idHJhbnNmb3JtIiB0eXBlPSJyb3RhdGUiIHJlcGVhdENvdW50PSJpbmRlZmluaXRlIiBkdXI9IjFzIiB2YWx1ZXM9IjAgNTAgNTA7MzYwIDUwIDUwIiBrZXlUaW1lcz0iMDsxIj48L2FuaW1hdGVUcmFuc2Zvcm0+ICA8L2NpcmNsZT48L3N2Zz4=\");\n",
       "              background-size: auto calc(min(50%, 400px));\n",
       "            }\n",
       "            \n",
       "            </style>\n",
       "\n",
       "          <script type=\"text/javascript\" src=\"https://cdn.bokeh.org/bokeh/release/bokeh-2.4.3.min.js\"></script><script type=\"text/javascript\" src=\"https://cdn.bokeh.org/bokeh/release/bokeh-gl-2.4.3.min.js\"></script><script type=\"text/javascript\" src=\"https://cdn.bokeh.org/bokeh/release/bokeh-widgets-2.4.3.min.js\"></script><script type=\"text/javascript\" src=\"https://cdn.bokeh.org/bokeh/release/bokeh-tables-2.4.3.min.js\"></script><script type=\"text/javascript\" src=\"https://cdn.holoviz.org/panel/0.14.1/dist/panel.min.js\"></script><script type=\"text/javascript\">\n",
       "            Bokeh.set_log_level(\"info\");\n",
       "        </script>\n",
       "  </head>\n",
       "  <body>\n",
       "          \n",
       "              <div class=\"bk-root\" id=\"cfbe8229-ddd9-40a6-99dc-2abec5989a9f\" data-root-id=\"1244\"></div>\n",
       "      \n",
       "        <script type=\"application/json\" id=\"1485\">\n",
       "          {\"9d4ea0c6-62d2-4a43-b40b-c1ab77b054af\":{\"defs\":[{\"extends\":null,\"module\":null,\"name\":\"ReactiveHTML1\",\"overrides\":[],\"properties\":[]},{\"extends\":null,\"module\":null,\"name\":\"FlexBox1\",\"overrides\":[],\"properties\":[{\"default\":\"flex-start\",\"kind\":null,\"name\":\"align_content\"},{\"default\":\"flex-start\",\"kind\":null,\"name\":\"align_items\"},{\"default\":\"row\",\"kind\":null,\"name\":\"flex_direction\"},{\"default\":\"wrap\",\"kind\":null,\"name\":\"flex_wrap\"},{\"default\":\"flex-start\",\"kind\":null,\"name\":\"justify_content\"}]},{\"extends\":null,\"module\":null,\"name\":\"GridStack1\",\"overrides\":[],\"properties\":[{\"default\":\"warn\",\"kind\":null,\"name\":\"mode\"},{\"default\":null,\"kind\":null,\"name\":\"ncols\"},{\"default\":null,\"kind\":null,\"name\":\"nrows\"},{\"default\":true,\"kind\":null,\"name\":\"allow_resize\"},{\"default\":true,\"kind\":null,\"name\":\"allow_drag\"},{\"default\":[],\"kind\":null,\"name\":\"state\"}]},{\"extends\":null,\"module\":null,\"name\":\"click1\",\"overrides\":[],\"properties\":[{\"default\":\"\",\"kind\":null,\"name\":\"terminal_output\"},{\"default\":\"\",\"kind\":null,\"name\":\"debug_name\"},{\"default\":0,\"kind\":null,\"name\":\"clears\"}]},{\"extends\":null,\"module\":null,\"name\":\"NotificationAreaBase1\",\"overrides\":[],\"properties\":[{\"default\":\"bottom-right\",\"kind\":null,\"name\":\"position\"},{\"default\":0,\"kind\":null,\"name\":\"_clear\"}]},{\"extends\":null,\"module\":null,\"name\":\"NotificationArea1\",\"overrides\":[],\"properties\":[{\"default\":[],\"kind\":null,\"name\":\"notifications\"},{\"default\":\"bottom-right\",\"kind\":null,\"name\":\"position\"},{\"default\":0,\"kind\":null,\"name\":\"_clear\"},{\"default\":[{\"background\":\"#ffc107\",\"icon\":{\"className\":\"fas fa-exclamation-triangle\",\"color\":\"white\",\"tagName\":\"i\"},\"type\":\"warning\"},{\"background\":\"#007bff\",\"icon\":{\"className\":\"fas fa-info-circle\",\"color\":\"white\",\"tagName\":\"i\"},\"type\":\"info\"}],\"kind\":null,\"name\":\"types\"}]},{\"extends\":null,\"module\":null,\"name\":\"Notification\",\"overrides\":[],\"properties\":[{\"default\":null,\"kind\":null,\"name\":\"background\"},{\"default\":3000,\"kind\":null,\"name\":\"duration\"},{\"default\":null,\"kind\":null,\"name\":\"icon\"},{\"default\":\"\",\"kind\":null,\"name\":\"message\"},{\"default\":null,\"kind\":null,\"name\":\"notification_type\"},{\"default\":false,\"kind\":null,\"name\":\"_destroyed\"}]},{\"extends\":null,\"module\":null,\"name\":\"TemplateActions1\",\"overrides\":[],\"properties\":[{\"default\":0,\"kind\":null,\"name\":\"open_modal\"},{\"default\":0,\"kind\":null,\"name\":\"close_modal\"}]},{\"extends\":null,\"module\":null,\"name\":\"MaterialTemplateActions1\",\"overrides\":[],\"properties\":[{\"default\":0,\"kind\":null,\"name\":\"open_modal\"},{\"default\":0,\"kind\":null,\"name\":\"close_modal\"}]}],\"roots\":{\"references\":[{\"attributes\":{\"data\":{\"index\":{\"__ndarray__\":\"AAAAAAEAAAA=\",\"dtype\":\"int32\",\"order\":\"little\",\"shape\":[2]},\"index_hover\":[\"10378.1/1691958\",\"10378.1/1695740\"],\"item_category\":[\"ENTITY\",\"ACTIVITY\"],\"item_subtype\":[\"DATASET\",\"MODEL_RUN\"],\"node_color\":[\"ENTITY\",\"ACTIVITY\"]},\"selected\":{\"id\":\"1352\"},\"selection_policy\":{\"id\":\"1351\"}},\"id\":\"1288\",\"type\":\"ColumnDataSource\"},{\"attributes\":{\"factors\":[\"ENTITY\",\"ACTIVITY\"],\"palette\":[\"blue\",\"orange\"]},\"id\":\"1287\",\"type\":\"CategoricalColorMapper\"},{\"attributes\":{\"fill_color\":{\"field\":\"node_color\",\"transform\":{\"id\":\"1287\"}},\"hatch_color\":{\"field\":\"node_color\",\"transform\":{\"id\":\"1287\"}},\"size\":{\"value\":10}},\"id\":\"1293\",\"type\":\"Circle\"},{\"attributes\":{},\"id\":\"1266\",\"type\":\"SaveTool\"},{\"attributes\":{\"line_width\":{\"value\":2}},\"id\":\"1298\",\"type\":\"MultiLine\"},{\"attributes\":{},\"id\":\"1353\",\"type\":\"UnionRenderers\"},{\"attributes\":{\"text\":{\"field\":\"index\"},\"text_align\":{\"value\":\"center\"},\"text_alpha\":{\"value\":0.2},\"text_baseline\":{\"value\":\"middle\"},\"text_color\":{\"value\":\"black\"},\"text_font_size\":{\"value\":\"8pt\"},\"x\":{\"field\":\"x\",\"transform\":{\"id\":\"1328\"}},\"y\":{\"field\":\"y\",\"transform\":{\"id\":\"1329\"}}},\"id\":\"1335\",\"type\":\"Text\"},{\"attributes\":{},\"id\":\"1354\",\"type\":\"Selection\"},{\"attributes\":{\"source\":{\"id\":\"1289\"}},\"id\":\"1303\",\"type\":\"CDSView\"},{\"attributes\":{\"range\":null,\"value\":-0.05},\"id\":\"1329\",\"type\":\"Dodge\"},{\"attributes\":{\"source\":{\"id\":\"1288\"}},\"id\":\"1297\",\"type\":\"CDSView\"},{\"attributes\":{\"line_alpha\":{\"value\":0.2},\"line_width\":{\"value\":2}},\"id\":\"1301\",\"type\":\"MultiLine\"},{\"attributes\":{\"text\":{\"field\":\"index\"},\"text_align\":{\"value\":\"center\"},\"text_alpha\":{\"value\":0.1},\"text_baseline\":{\"value\":\"middle\"},\"text_color\":{\"value\":\"black\"},\"text_font_size\":{\"value\":\"8pt\"},\"x\":{\"field\":\"x\",\"transform\":{\"id\":\"1328\"}},\"y\":{\"field\":\"y\",\"transform\":{\"id\":\"1329\"}}},\"id\":\"1334\",\"type\":\"Text\"},{\"attributes\":{},\"id\":\"1263\",\"type\":\"BasicTicker\"},{\"attributes\":{\"text\":{\"field\":\"index\"},\"text_align\":{\"value\":\"center\"},\"text_alpha\":{\"value\":0.2},\"text_baseline\":{\"value\":\"middle\"},\"text_color\":{\"value\":\"blue\"},\"text_font_size\":{\"value\":\"12pt\"},\"x\":{\"field\":\"x\",\"transform\":{\"id\":\"1317\"}},\"y\":{\"field\":\"y\",\"transform\":{\"id\":\"1318\"}}},\"id\":\"1324\",\"type\":\"Text\"},{\"attributes\":{\"margin\":[5,5,5,5],\"name\":\"HSpacer01490\",\"sizing_mode\":\"stretch_width\"},\"id\":\"1245\",\"type\":\"Spacer\"},{\"attributes\":{\"text\":{\"field\":\"index\"},\"text_align\":{\"value\":\"center\"},\"text_baseline\":{\"value\":\"middle\"},\"text_color\":{\"value\":\"black\"},\"text_font_size\":{\"value\":\"8pt\"},\"x\":{\"field\":\"x\",\"transform\":{\"id\":\"1328\"}},\"y\":{\"field\":\"y\",\"transform\":{\"id\":\"1329\"}}},\"id\":\"1333\",\"type\":\"Text\"},{\"attributes\":{},\"id\":\"1346\",\"type\":\"UnionRenderers\"},{\"attributes\":{\"data\":{\"index\":[\"10378.1/1691958\",\"10378.1/1695740\"],\"x\":{\"__ndarray__\":\"mXJjhCxz7T+WcmOELHPtvw==\",\"dtype\":\"float64\",\"order\":\"little\",\"shape\":[2]},\"y\":{\"__ndarray__\":\"AAAAAAAA8L8AAAAAAADwPw==\",\"dtype\":\"float64\",\"order\":\"little\",\"shape\":[2]}},\"selected\":{\"id\":\"1331\"},\"selection_policy\":{\"id\":\"1348\"}},\"id\":\"1330\",\"type\":\"ColumnDataSource\"},{\"attributes\":{\"coordinates\":null,\"data_source\":{\"id\":\"1289\"},\"glyph\":{\"id\":\"1298\"},\"group\":null,\"hover_glyph\":{\"id\":\"1300\"},\"muted_glyph\":{\"id\":\"1301\"},\"nonselection_glyph\":{\"id\":\"1299\"},\"view\":{\"id\":\"1303\"}},\"id\":\"1302\",\"type\":\"GlyphRenderer\"},{\"attributes\":{},\"id\":\"1268\",\"type\":\"WheelZoomTool\"},{\"attributes\":{\"angle\":{\"value\":0},\"text\":{\"field\":\"index\"},\"text_align\":{\"value\":\"center\"},\"text_alpha\":{\"value\":1.0},\"text_baseline\":{\"value\":\"middle\"},\"text_color\":{\"value\":\"black\"},\"text_font_size\":{\"value\":\"8pt\"},\"text_font_style\":{\"value\":\"normal\"},\"text_line_height\":{\"value\":1.2},\"x\":{\"field\":\"x\",\"transform\":{\"id\":\"1328\"}},\"x_offset\":{\"value\":0},\"y\":{\"field\":\"y\",\"transform\":{\"id\":\"1329\"}},\"y_offset\":{\"value\":0}},\"id\":\"1338\",\"type\":\"Text\"},{\"attributes\":{\"margin\":[5,5,5,5],\"name\":\"HSpacer01491\",\"sizing_mode\":\"stretch_width\"},\"id\":\"1355\",\"type\":\"Spacer\"},{\"attributes\":{\"axis\":{\"id\":\"1262\"},\"coordinates\":null,\"dimension\":1,\"grid_line_color\":null,\"group\":null,\"ticker\":null},\"id\":\"1265\",\"type\":\"Grid\"},{\"attributes\":{\"line_alpha\":{\"value\":0.2},\"line_width\":{\"value\":2}},\"id\":\"1299\",\"type\":\"MultiLine\"},{\"attributes\":{\"data\":{\"index\":[\"10378.1/1691958\",\"10378.1/1695740\"],\"x\":{\"__ndarray__\":\"mXJjhCxz7T+WcmOELHPtvw==\",\"dtype\":\"float64\",\"order\":\"little\",\"shape\":[2]},\"y\":{\"__ndarray__\":\"AAAAAAAA8L8AAAAAAADwPw==\",\"dtype\":\"float64\",\"order\":\"little\",\"shape\":[2]}},\"selected\":{\"id\":\"1320\"},\"selection_policy\":{\"id\":\"1346\"}},\"id\":\"1319\",\"type\":\"ColumnDataSource\"},{\"attributes\":{\"range\":null,\"value\":0.05},\"id\":\"1318\",\"type\":\"Dodge\"},{\"attributes\":{},\"id\":\"1348\",\"type\":\"UnionRenderers\"},{\"attributes\":{\"fill_color\":{\"field\":\"node_color\",\"transform\":{\"id\":\"1287\"}},\"hatch_color\":{\"field\":\"node_color\",\"transform\":{\"id\":\"1287\"}},\"size\":{\"value\":10}},\"id\":\"1291\",\"type\":\"Circle\"},{\"attributes\":{\"graph_layout\":{\"0\":[0.9203093133651975,-1.0],\"1\":[-0.9203093133651972,1.0]}},\"id\":\"1290\",\"type\":\"StaticLayoutProvider\"},{\"attributes\":{},\"id\":\"1315\",\"type\":\"NodesAndLinkedEdges\"},{\"attributes\":{},\"id\":\"1286\",\"type\":\"AllLabels\"},{\"attributes\":{\"axis_label\":\"y\",\"coordinates\":null,\"formatter\":{\"id\":\"1285\"},\"group\":null,\"major_label_policy\":{\"id\":\"1286\"},\"ticker\":{\"id\":\"1263\"}},\"id\":\"1262\",\"type\":\"LinearAxis\"},{\"attributes\":{},\"id\":\"1313\",\"type\":\"NodesAndLinkedEdges\"},{\"attributes\":{\"fill_color\":{\"value\":\"limegreen\"},\"hatch_color\":{\"field\":\"node_color\",\"transform\":{\"id\":\"1287\"}},\"size\":{\"value\":10}},\"id\":\"1294\",\"type\":\"Circle\"},{\"attributes\":{},\"id\":\"1259\",\"type\":\"BasicTicker\"},{\"attributes\":{\"fill_alpha\":{\"value\":0.2},\"fill_color\":{\"field\":\"node_color\",\"transform\":{\"id\":\"1287\"}},\"hatch_alpha\":{\"value\":0.2},\"hatch_color\":{\"field\":\"node_color\",\"transform\":{\"id\":\"1287\"}},\"line_alpha\":{\"value\":0.2},\"size\":{\"value\":10}},\"id\":\"1295\",\"type\":\"Circle\"},{\"attributes\":{},\"id\":\"1267\",\"type\":\"PanTool\"},{\"attributes\":{\"axis_label\":\"x\",\"coordinates\":null,\"formatter\":{\"id\":\"1282\"},\"group\":null,\"major_label_policy\":{\"id\":\"1283\"},\"ticker\":{\"id\":\"1259\"}},\"id\":\"1258\",\"type\":\"LinearAxis\"},{\"attributes\":{},\"id\":\"1256\",\"type\":\"LinearScale\"},{\"attributes\":{\"overlay\":{\"id\":\"1272\"}},\"id\":\"1269\",\"type\":\"BoxZoomTool\"},{\"attributes\":{\"axis\":{\"id\":\"1258\"},\"coordinates\":null,\"grid_line_color\":null,\"group\":null,\"ticker\":null},\"id\":\"1261\",\"type\":\"Grid\"},{\"attributes\":{},\"id\":\"1270\",\"type\":\"ResetTool\"},{\"attributes\":{},\"id\":\"1283\",\"type\":\"AllLabels\"},{\"attributes\":{\"callback\":null},\"id\":\"1271\",\"type\":\"TapTool\"},{\"attributes\":{\"coordinates\":null,\"group\":null,\"text_color\":\"black\",\"text_font_size\":\"12pt\"},\"id\":\"1250\",\"type\":\"Title\"},{\"attributes\":{\"fill_alpha\":{\"value\":0.2},\"fill_color\":{\"field\":\"node_color\",\"transform\":{\"id\":\"1287\"}},\"hatch_alpha\":{\"value\":0.2},\"hatch_color\":{\"field\":\"node_color\",\"transform\":{\"id\":\"1287\"}},\"line_alpha\":{\"value\":0.2},\"size\":{\"value\":10}},\"id\":\"1292\",\"type\":\"Circle\"},{\"attributes\":{\"coordinates\":null,\"data_source\":{\"id\":\"1288\"},\"glyph\":{\"id\":\"1291\"},\"group\":null,\"hover_glyph\":{\"id\":\"1294\"},\"muted_glyph\":{\"id\":\"1295\"},\"nonselection_glyph\":{\"id\":\"1292\"},\"selection_glyph\":{\"id\":\"1293\"},\"view\":{\"id\":\"1297\"}},\"id\":\"1296\",\"type\":\"GlyphRenderer\"},{\"attributes\":{\"range\":null},\"id\":\"1317\",\"type\":\"Dodge\"},{\"attributes\":{\"bottom_units\":\"screen\",\"coordinates\":null,\"fill_alpha\":0.5,\"fill_color\":\"lightgrey\",\"group\":null,\"left_units\":\"screen\",\"level\":\"overlay\",\"line_alpha\":1.0,\"line_color\":\"black\",\"line_dash\":[4,4],\"line_width\":2,\"right_units\":\"screen\",\"syncable\":false,\"top_units\":\"screen\"},\"id\":\"1272\",\"type\":\"BoxAnnotation\"},{\"attributes\":{\"background_fill_color\":\"pink\",\"below\":[{\"id\":\"1258\"}],\"center\":[{\"id\":\"1261\"},{\"id\":\"1265\"}],\"left\":[{\"id\":\"1262\"}],\"margin\":[5,5,5,5],\"min_border_bottom\":10,\"min_border_left\":10,\"min_border_right\":10,\"min_border_top\":10,\"renderers\":[{\"id\":\"1304\"},{\"id\":\"1325\"},{\"id\":\"1336\"}],\"sizing_mode\":\"fixed\",\"title\":{\"id\":\"1250\"},\"toolbar\":{\"id\":\"1273\"},\"width\":800,\"x_range\":{\"id\":\"1246\"},\"x_scale\":{\"id\":\"1254\"},\"y_range\":{\"id\":\"1247\"},\"y_scale\":{\"id\":\"1256\"}},\"id\":\"1249\",\"subtype\":\"Figure\",\"type\":\"Plot\"},{\"attributes\":{},\"id\":\"1320\",\"type\":\"Selection\"},{\"attributes\":{},\"id\":\"1254\",\"type\":\"LinearScale\"},{\"attributes\":{\"source\":{\"id\":\"1319\"}},\"id\":\"1326\",\"type\":\"CDSView\"},{\"attributes\":{\"coordinates\":null,\"data_source\":{\"id\":\"1319\"},\"glyph\":{\"id\":\"1322\"},\"group\":null,\"hover_glyph\":null,\"muted_glyph\":{\"id\":\"1324\"},\"nonselection_glyph\":{\"id\":\"1323\"},\"selection_glyph\":{\"id\":\"1327\"},\"view\":{\"id\":\"1326\"}},\"id\":\"1325\",\"type\":\"GlyphRenderer\"},{\"attributes\":{},\"id\":\"1282\",\"type\":\"BasicTickFormatter\"},{\"attributes\":{\"tools\":[{\"id\":\"1248\"},{\"id\":\"1266\"},{\"id\":\"1267\"},{\"id\":\"1268\"},{\"id\":\"1269\"},{\"id\":\"1270\"},{\"id\":\"1271\"}]},\"id\":\"1273\",\"type\":\"Toolbar\"},{\"attributes\":{\"text\":{\"field\":\"index\"},\"text_align\":{\"value\":\"center\"},\"text_baseline\":{\"value\":\"middle\"},\"text_color\":{\"value\":\"blue\"},\"text_font_size\":{\"value\":\"12pt\"},\"x\":{\"field\":\"x\",\"transform\":{\"id\":\"1317\"}},\"y\":{\"field\":\"y\",\"transform\":{\"id\":\"1318\"}}},\"id\":\"1322\",\"type\":\"Text\"},{\"attributes\":{\"line_color\":{\"value\":\"limegreen\"},\"line_width\":{\"value\":2}},\"id\":\"1300\",\"type\":\"MultiLine\"},{\"attributes\":{\"range\":null},\"id\":\"1328\",\"type\":\"Dodge\"},{\"attributes\":{},\"id\":\"1351\",\"type\":\"UnionRenderers\"},{\"attributes\":{},\"id\":\"1352\",\"type\":\"Selection\"},{\"attributes\":{\"children\":[{\"id\":\"1245\"},{\"id\":\"1249\"},{\"id\":\"1355\"}],\"margin\":[0,0,0,0],\"name\":\"Row01486\",\"tags\":[\"embedded\"]},\"id\":\"1244\",\"type\":\"Row\"},{\"attributes\":{\"angle\":{\"value\":0},\"text\":{\"field\":\"index\"},\"text_align\":{\"value\":\"center\"},\"text_alpha\":{\"value\":1.0},\"text_baseline\":{\"value\":\"middle\"},\"text_color\":{\"value\":\"blue\"},\"text_font_size\":{\"value\":\"12pt\"},\"text_font_style\":{\"value\":\"normal\"},\"text_line_height\":{\"value\":1.2},\"x\":{\"field\":\"x\",\"transform\":{\"id\":\"1317\"}},\"x_offset\":{\"value\":0},\"y\":{\"field\":\"y\",\"transform\":{\"id\":\"1318\"}},\"y_offset\":{\"value\":0}},\"id\":\"1327\",\"type\":\"Text\"},{\"attributes\":{\"data\":{\"end\":{\"__ndarray__\":\"AQAAAA==\",\"dtype\":\"int32\",\"order\":\"little\",\"shape\":[1]},\"start\":{\"__ndarray__\":\"AAAAAA==\",\"dtype\":\"int32\",\"order\":\"little\",\"shape\":[1]},\"xs\":[{\"__ndarray__\":\"mXJjhCxz7T+WcmOELHPtvwAAAAAAAPh/hZ99Jirf67+WcmOELHPtv7IMwsb12ey/\",\"dtype\":\"float64\",\"order\":\"little\",\"shape\":[6]}],\"ys\":[{\"__ndarray__\":\"AAAAAAAA8L8AAAAAAADwPwAAAAAAAPh/9XYS96pE7z8AAAAAAADwP2HuJsXbXe4/\",\"dtype\":\"float64\",\"order\":\"little\",\"shape\":[6]}]},\"selected\":{\"id\":\"1354\"},\"selection_policy\":{\"id\":\"1353\"}},\"id\":\"1289\",\"type\":\"ColumnDataSource\"},{\"attributes\":{},\"id\":\"1285\",\"type\":\"BasicTickFormatter\"},{\"attributes\":{\"text\":{\"field\":\"index\"},\"text_align\":{\"value\":\"center\"},\"text_alpha\":{\"value\":0.1},\"text_baseline\":{\"value\":\"middle\"},\"text_color\":{\"value\":\"blue\"},\"text_font_size\":{\"value\":\"12pt\"},\"x\":{\"field\":\"x\",\"transform\":{\"id\":\"1317\"}},\"y\":{\"field\":\"y\",\"transform\":{\"id\":\"1318\"}}},\"id\":\"1323\",\"type\":\"Text\"},{\"attributes\":{\"coordinates\":null,\"data_source\":{\"id\":\"1330\"},\"glyph\":{\"id\":\"1333\"},\"group\":null,\"hover_glyph\":null,\"muted_glyph\":{\"id\":\"1335\"},\"nonselection_glyph\":{\"id\":\"1334\"},\"selection_glyph\":{\"id\":\"1338\"},\"view\":{\"id\":\"1337\"}},\"id\":\"1336\",\"type\":\"GlyphRenderer\"},{\"attributes\":{\"end\":1.0583557103699772,\"reset_end\":1.0583557103699772,\"reset_start\":-1.0583557103699768,\"start\":-1.0583557103699768,\"tags\":[[[\"x\",\"x\",null]]]},\"id\":\"1246\",\"type\":\"Range1d\"},{\"attributes\":{\"coordinates\":null,\"edge_renderer\":{\"id\":\"1302\"},\"group\":null,\"inspection_policy\":{\"id\":\"1315\"},\"layout_provider\":{\"id\":\"1290\"},\"node_renderer\":{\"id\":\"1296\"},\"selection_policy\":{\"id\":\"1313\"}},\"id\":\"1304\",\"type\":\"GraphRenderer\"},{\"attributes\":{\"callback\":null,\"renderers\":[{\"id\":\"1304\"}],\"tags\":[\"hv_created\"],\"tooltips\":[[\"index\",\"@{index_hover}\"],[\"item_category\",\"@{item_category}\"],[\"item_subtype\",\"@{item_subtype}\"]]},\"id\":\"1248\",\"type\":\"HoverTool\"},{\"attributes\":{\"end\":1.2,\"reset_end\":1.2,\"reset_start\":-1.2,\"start\":-1.2,\"tags\":[[[\"y\",\"y\",null]]]},\"id\":\"1247\",\"type\":\"Range1d\"},{\"attributes\":{\"source\":{\"id\":\"1330\"}},\"id\":\"1337\",\"type\":\"CDSView\"},{\"attributes\":{},\"id\":\"1331\",\"type\":\"Selection\"}],\"root_ids\":[\"1244\"]},\"title\":\"Bokeh Application\",\"version\":\"2.4.3\"}}\n",
       "        </script>\n",
       "        <script type=\"text/javascript\">\n",
       "          (function() {\n",
       "            const fn = function() {\n",
       "              Bokeh.safely(function() {\n",
       "                (function(root) {\n",
       "                  function embed_document(root) {\n",
       "                  const docs_json = document.getElementById('1485').textContent;\n",
       "                  const render_items = [{\"docid\":\"9d4ea0c6-62d2-4a43-b40b-c1ab77b054af\",\"root_ids\":[\"1244\"],\"roots\":{\"1244\":\"cfbe8229-ddd9-40a6-99dc-2abec5989a9f\"}}];\n",
       "                  root.Bokeh.embed.embed_items(docs_json, render_items);\n",
       "                  }\n",
       "                  if (root.Bokeh !== undefined) {\n",
       "                    embed_document(root);\n",
       "                  } else {\n",
       "                    let attempts = 0;\n",
       "                    const timer = setInterval(function(root) {\n",
       "                      if (root.Bokeh !== undefined) {\n",
       "                        clearInterval(timer);\n",
       "                        embed_document(root);\n",
       "                      } else {\n",
       "                        attempts++;\n",
       "                        if (attempts > 100) {\n",
       "                          clearInterval(timer);\n",
       "                          console.log(\"Bokeh: ERROR: Unable to run BokehJS code because BokehJS library is missing\");\n",
       "                        }\n",
       "                      }\n",
       "                    }, 10, root)\n",
       "                  }\n",
       "                })(window);\n",
       "              });\n",
       "            };\n",
       "            if (document.readyState != \"loading\") fn();\n",
       "            else document.addEventListener(\"DOMContentLoaded\", fn);\n",
       "          })();\n",
       "        </script>\n",
       "  </body>\n",
       "</html>"
      ],
      "text/plain": [
       "<IPython.core.display.HTML object>"
      ]
     },
     "execution_count": 14,
     "metadata": {},
     "output_type": "execute_result"
    }
   ],
   "source": [
    "auth = token_manager.get_auth\n",
    "postfix = \"/explore/downstream\"\n",
    "params = {\n",
    "    #\"starting_id\": \"10378.1/1691197\",\n",
    "    \"starting_id\": model_run_id,\n",
    "    \"depth\": 1\n",
    "}\n",
    "endpoint = prov_api + postfix \n",
    "\n",
    "response_json = handle_request('GET', endpoint, params, None, auth())\n",
    "\n",
    "result_graph = response_json[\"graph\"]\n",
    "\n",
    "networkx_graph = json_graph.node_link_graph(result_graph)\n",
    "im = hv.Graph.from_networkx(networkx_graph, nx.layout.fruchterman_reingold_layout).opts(tools=['hover','tap'],\n",
    "                                                                          node_size=10,\n",
    "                                                                          node_color='item_category',\n",
    "                                                                          cmap = ['blue','orange', 'green', 'red'],\n",
    "                                                                          directed=True, \n",
    "                                                                          arrowhead_length=0.02,\n",
    "                                                                          bgcolor='pink')\n",
    "labels = hv.Labels(im.nodes, ['x', 'y'], 'index').opts(opts.Labels(text_font_size='12pt', text_color='blue', xoffset=0, yoffset=0.05, bgcolor='white'))\n",
    "labels_2 = hv.Labels(im.nodes, ['x', 'y'], 'index').opts(opts.Labels(text_font_size='8pt', xoffset=0, yoffset=-0.05, bgcolor='white'))\n",
    "hv_graph = (im * labels * labels_2)\n",
    "hv.save(hv_graph, 'network.html', backend='bokeh')\n",
    "HTML(\"network.html\")"
   ]
  },
  {
   "cell_type": "markdown",
   "metadata": {},
   "source": [
    "[Return to Top](#toc)"
   ]
  },
  {
   "cell_type": "markdown",
   "metadata": {},
   "source": []
  }
 ],
 "metadata": {
  "kernelspec": {
   "display_name": "Python 3.10.4 ('.venv': venv)",
   "language": "python",
   "name": "python3"
  },
  "language_info": {
   "codemirror_mode": {
    "name": "ipython",
    "version": 3
   },
   "file_extension": ".py",
   "mimetype": "text/x-python",
   "name": "python",
   "nbconvert_exporter": "python",
   "pygments_lexer": "ipython3",
   "version": "3.10.4"
  },
  "vscode": {
   "interpreter": {
    "hash": "3d1275a2fb951f0c374bcc16cfb7eb7840ea16246984712301e7ada442de4250"
   }
  }
 },
 "nbformat": 4,
 "nbformat_minor": 4
}
