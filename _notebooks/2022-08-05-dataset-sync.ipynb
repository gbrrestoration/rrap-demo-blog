{
 "cells": [
  {
   "cell_type": "markdown",
   "metadata": {},
   "source": [
    "# RRAP-IS Dataset sync Demo Notebook\n",
    "\n",
    "> A tutorial of RRAP uploading and downloading dataset using Jupyter notebooks.\n",
    "\n",
    "- toc: true \n",
    "- badges: true\n",
    "- comments: true\n",
    "- categories: [jupyter]"
   ]
  },
  {
   "cell_type": "markdown",
   "metadata": {},
   "source": [
    "## About\n",
    "\n",
    "This notebook is a demonstration of downloading and uploading dataset to RRAP data repository. "
   ]
  },
  {
   "cell_type": "markdown",
   "metadata": {},
   "source": [
    "### Run all imports\n",
    "\n",
    "Keep all your imports at the top of a notebook.  It allows for easier management."
   ]
  },
  {
   "cell_type": "code",
   "execution_count": 6,
   "metadata": {},
   "outputs": [],
   "source": [
    "import requests\n",
    "import os\n",
    "import sys\n",
    "import json\n",
    "from bs4 import BeautifulSoup\n",
    "from json2html import *\n",
    "from IPython.display import IFrame, display, HTML, JSON, Markdown, Image\n",
    "from mdsisclienttools.auth.TokenManager import DeviceFlowManager\n",
    "import mdsisclienttools.datastore.ReadWriteHelper as IOHelper\n",
    "import mdsisclienttools\n",
    "import numpy as np\n",
    "import pandas as pd\n",
    "\n",
    "from cloudpathlib import S3Client\n",
    "import cloudpathlib\n"
   ]
  },
  {
   "cell_type": "markdown",
   "metadata": {},
   "source": [
    "### Define global variables\n",
    "\n",
    "Similar to import we like to define notebook variable at the top and reuse them throughout the notebook"
   ]
  },
  {
   "cell_type": "code",
   "execution_count": 7,
   "metadata": {},
   "outputs": [
    {
     "data": {
      "text/plain": [
       "'Checking base urls'"
      ]
     },
     "metadata": {},
     "output_type": "display_data"
    },
    {
     "name": "stdout",
     "output_type": "stream",
     "text": [
      "Testing - https://data-api.testing.rrap-is.com - Passed\n",
      "Testing - https://registry-api.testing.rrap-is.com - Passed\n",
      "Testing - https://prov-api.testing.rrap-is.com - Passed\n",
      "Testing - https://auth.dev.rrap-is.com/auth/realms/rrap - Passed\n",
      "Testing - https://data.testing.rrap-is.com - Passed\n"
     ]
    }
   ],
   "source": [
    "data_store = \"https://data.testing.rrap-is.com\"\n",
    "data_api = \"https://data-api.testing.rrap-is.com\"\n",
    "registry_api = \"https://registry-api.testing.rrap-is.com\"\n",
    "prov_api = \"https://prov-api.testing.rrap-is.com\"\n",
    "auth_server = \"https://auth.dev.rrap-is.com/auth/realms/rrap\"\n",
    "# garbage = \"https://frogs.are.green\"\n",
    "base_urls = {'data_api': data_api, 'registry_api': registry_api, 'prov_api': prov_api, 'auth_server': auth_server, 'data_store': data_store}#, 'garbage': garbage}\n",
    "display(f'Checking base urls')\n",
    "\n",
    "for key, url in base_urls.items():\n",
    "    try:\n",
    "        print(f'Testing - {url}', end=\"\")\n",
    "        r = requests.get(url)\n",
    "        r.raise_for_status()\n",
    "        print(f' - Passed')\n",
    "    except requests.exceptions.HTTPError as err:\n",
    "        print(f' - Fail')\n",
    "        raise SystemExit(err)\n",
    "    except requests.exceptions.RequestException as e:\n",
    "        # catastrophic error. bail.\n",
    "        print(f' - Fail')\n",
    "        raise SystemExit(e)"
   ]
  },
  {
   "cell_type": "markdown",
   "metadata": {},
   "source": [
    "## Authentication\n",
    "\n",
    "### Setup tokens using device authorisation flow against keycloak server\n",
    "\n",
    "This could result in a browser window being opened if you don't have valid tokens cached in local storage.\n",
    "\n",
    "[Return to Top](#toc)"
   ]
  },
  {
   "cell_type": "code",
   "execution_count": 8,
   "metadata": {},
   "outputs": [
    {
     "name": "stdout",
     "output_type": "stream",
     "text": [
      "Using storage type: FILE.\n",
      "Attempting to generate authorisation tokens.\n",
      "\n",
      "Looking for existing tokens in local storage.\n",
      "\n",
      "Validating found tokens\n",
      "\n",
      "Found tokens valid, using.\n",
      "\n"
     ]
    }
   ],
   "source": [
    "# this caches the tokens\n",
    "local_token_storage = \".tokens.json\"\n",
    "\n",
    "token_manager = DeviceFlowManager(\n",
    "    stage=\"TEST\",\n",
    "    keycloak_endpoint=auth_server,\n",
    "    local_storage_location=local_token_storage\n",
    ")"
   ]
  },
  {
   "cell_type": "markdown",
   "metadata": {},
   "source": [
    "## Helper functions\n",
    "\n",
    "[Return to Top](#toc)"
   ]
  },
  {
   "cell_type": "code",
   "execution_count": 9,
   "metadata": {},
   "outputs": [
    {
     "data": {
      "text/plain": [
       "['mdsisclienttools==1.5.1']"
      ]
     },
     "metadata": {},
     "output_type": "display_data"
    }
   ],
   "source": [
    "def wrap_html_table(data):\n",
    "    soup = BeautifulSoup(data)\n",
    "\n",
    "    ul_tag = soup.find(\"table\")\n",
    "    div_tag = soup.new_tag(\"div\")\n",
    "    div_tag['style'] = \"width: auto; height: 400px; overflow-y: auto; \"\n",
    "    ul_tag.wrap(div_tag)\n",
    "    new_tag = soup.new_tag(\"details\")\n",
    "    div_tag.wrap(new_tag)\n",
    "    \n",
    "    tag = soup.new_tag(\"summary\")\n",
    "    tag.string = \"Results\"\n",
    "    soup.div.insert_after(tag)\n",
    "\n",
    "    return soup.prettify()\n",
    "    \n",
    "def json_to_md(response_json):\n",
    "        json_obj_in_html = json2html.convert( response_json  )\n",
    "        return wrap_html_table(json_obj_in_html)\n",
    "    \n",
    "def handle_request(method, url, params=None, payload=None, auth=None):\n",
    "    try:\n",
    "        if params:\n",
    "            response = requests.request(method, url=url, params=params, auth=auth)\n",
    "        elif payload:\n",
    "            response = requests.request(method, url=url, json=payload, auth=auth)\n",
    "        else:\n",
    "            response = requests.request(method, url=url, auth=auth)\n",
    "        # If the response was successful, no Exception will be raised\n",
    "        response.raise_for_status()\n",
    "\n",
    "    except HTTPError as http_err:\n",
    "        print(f'HTTP error occurred: {http_err}')  # Python 3.6\n",
    "        return {\"error\": http_err}\n",
    "    except Exception as err:\n",
    "        print(f'Other error occurred: {err}')  # Python 3.6\n",
    "        return {\"error\": err }\n",
    "    else:\n",
    "        return response.json()\n",
    "\n",
    "## This is used to identify the current version of a package\n",
    "try:\n",
    "    from pip._internal.operations import freeze\n",
    "except ImportError:  # pip < 10.0\n",
    "    from pip.operations import freeze\n",
    "\n",
    "packages = freeze.freeze()\n",
    "found = [package for package in packages if package.find('mdsisclienttools') > -1]\n",
    "\n",
    "display(found)"
   ]
  },
  {
   "cell_type": "markdown",
   "metadata": {},
   "source": [
    "### Logging and Warning \n",
    "Sometimes it nice to not have warnings in the output area.\n",
    "\n",
    "Comment this next cell out so that warnings appear"
   ]
  },
  {
   "cell_type": "code",
   "execution_count": 10,
   "metadata": {},
   "outputs": [],
   "source": [
    "import logging\n",
    "import re\n",
    "import warnings\n",
    "logging.basicConfig(filename=\"log.txt\",level=logging.ERROR)\n",
    "logging.captureWarnings(True)\n",
    "warnings.filterwarnings('always', category=DeprecationWarning,\n",
    "                        module=r'^{0}\\.'.format(re.escape(__name__)))\n",
    "warnings.warn(\"This is a DeprecationWarning\",category=DeprecationWarning)"
   ]
  },
  {
   "cell_type": "markdown",
   "metadata": {},
   "source": [
    "## Endpoint Documentation\n",
    "Endpoint documentation can be found by appending either `/docs` or `/redoc` on the end a base URL.\n",
    "\n",
    "For example:\n",
    "<ul>\n",
    "  <li><a href=\"https://data-api.testing.rrap-is.com/redoc\" target=\"_blank\">Redoc FastAPI</a></li>\n",
    "  <li><a href=\"https://data-api.testing.rrap-is.com/docs\" target=\"_blank\">Docs FastAPI</a> </li>\n",
    "</ul>\n",
    "\n",
    "Then select from the menu an endpoint function call e.g. `/register/mint-dataset`\n",
    "\n",
    "Then append the function call onto the base url e.g. `https://data-api.testing.rrap-is.com/register/mint-dataset`\n",
    "\n",
    "[Return to Top](#toc)"
   ]
  },
  {
   "cell_type": "markdown",
   "metadata": {},
   "source": [
    "## Demonstration\n",
    "\n",
    "Initially we need to have a registered s3 folder, once this is done we can upload and download datasets to it."
   ]
  },
  {
   "cell_type": "markdown",
   "metadata": {},
   "source": [
    "### Register a dataset\n",
    "see [Rigistering and uploading a dataset](https://gbrrestoration.github.io/rrap-mds-knowledge-hub/information-system/data-store/registering-and-uploading-a-dataset.html)\n",
    "\n",
    "[Return to Top](#toc)"
   ]
  },
  {
   "cell_type": "code",
   "execution_count": 12,
   "metadata": {},
   "outputs": [
    {
     "data": {
      "text/html": [
       "<details>\n",
       " <div style=\"width: auto; height: 400px; overflow-y: auto; \">\n",
       "  <table border=\"1\">\n",
       "   <tr>\n",
       "    <th>\n",
       "     status\n",
       "    </th>\n",
       "    <td>\n",
       "     <table border=\"1\">\n",
       "      <tr>\n",
       "       <th>\n",
       "        success\n",
       "       </th>\n",
       "       <td>\n",
       "        True\n",
       "       </td>\n",
       "      </tr>\n",
       "      <tr>\n",
       "       <th>\n",
       "        details\n",
       "       </th>\n",
       "       <td>\n",
       "        Successfully seeded location - see location details.\n",
       "       </td>\n",
       "      </tr>\n",
       "     </table>\n",
       "    </td>\n",
       "   </tr>\n",
       "   <tr>\n",
       "    <th>\n",
       "     handle\n",
       "    </th>\n",
       "    <td>\n",
       "     10378.1/1695186\n",
       "    </td>\n",
       "   </tr>\n",
       "   <tr>\n",
       "    <th>\n",
       "     s3_location\n",
       "    </th>\n",
       "    <td>\n",
       "     <table border=\"1\">\n",
       "      <tr>\n",
       "       <th>\n",
       "        bucket_name\n",
       "       </th>\n",
       "       <td>\n",
       "        restored-dev-dev-rrap-storage-bucket-11102022-11102022\n",
       "       </td>\n",
       "      </tr>\n",
       "      <tr>\n",
       "       <th>\n",
       "        path\n",
       "       </th>\n",
       "       <td>\n",
       "        datasets/10378-1-1695186/\n",
       "       </td>\n",
       "      </tr>\n",
       "      <tr>\n",
       "       <th>\n",
       "        s3_uri\n",
       "       </th>\n",
       "       <td>\n",
       "        s3://restored-dev-dev-rrap-storage-bucket-11102022-11102022/datasets/10378-1-1695186/\n",
       "       </td>\n",
       "      </tr>\n",
       "     </table>\n",
       "    </td>\n",
       "   </tr>\n",
       "  </table>\n",
       " </div>\n",
       " <summary>\n",
       "  Results\n",
       " </summary>\n",
       "</details>"
      ],
      "text/plain": [
       "<IPython.core.display.HTML object>"
      ]
     },
     "execution_count": 12,
     "metadata": {},
     "output_type": "execute_result"
    }
   ],
   "source": [
    "# Using RRAP-IS python packages\n",
    "auth = token_manager.get_auth\n",
    "postfix = \"/register/mint-dataset\"\n",
    "payload =  {\n",
    "  \"author\": {\n",
    "    \"name\": \"Andrew Freebairn\",\n",
    "    \"email\": \"andrew.freebairn@csiro.au\",\n",
    "    \"orcid\": \"https://orcid.org/0000-0001-9429-6559\",\n",
    "    \"organisation\": {\n",
    "      \"name\": \"CSIRO\",\n",
    "      \"ror\": \"https://ror.org/03qn8fb07\"\n",
    "    }\n",
    "  },\n",
    "  \"dataset_info\": {\n",
    "    \"name\": \"MVP Demo Dataset\",\n",
    "    \"description\": \"For demonstration purposes\",\n",
    "    \"publisher\": {\n",
    "      \"name\": \"Andrew\",\n",
    "      \"ror\": \"https://ror.org/057xz1h85\"\n",
    "    },\n",
    "    \"created_date\": \"2022-08-05\",\n",
    "    \"published_date\": \"2022-08-05\",\n",
    "    \"license\": \"https://creativecommons.org/licenses/by/4.0/\",\n",
    "    \"keywords\": [\n",
    "      \"keyword1\"\n",
    "    ],\n",
    "  }\n",
    "}\n",
    "endpoint = data_api + postfix \n",
    "\n",
    "response_json = handle_request(\"POST\", endpoint, None, payload, auth())\n",
    "new_handle = response_json['handle']\n",
    "HTML(json_to_md(response_json))"
   ]
  },
  {
   "cell_type": "markdown",
   "metadata": {},
   "source": [
    "## Find the newly minited dataset"
   ]
  },
  {
   "cell_type": "code",
   "execution_count": 13,
   "metadata": {},
   "outputs": [
    {
     "name": "stdout",
     "output_type": "stream",
     "text": [
      "Did NOT find new handle: 10378.1/1695186\n"
     ]
    }
   ],
   "source": [
    "\n",
    "auth = token_manager.get_auth\n",
    "postfix = \"/registry/items/list-all-datasets\"\n",
    "endpoint = data_api + postfix \n",
    "# response = requests.get(endpoint, auth=auth())\n",
    "response_json = handle_request(\"GET\", endpoint, None, None, auth())\n",
    "reg_items = response_json['registry_items']\n",
    "if any( item['handle'] == new_handle for item in reg_items):\n",
    "    print(f'Found new handle: {new_handle}')\n",
    "else:\n",
    "    print(f'Did NOT find new handle: {new_handle}')\n"
   ]
  },
  {
   "cell_type": "markdown",
   "metadata": {},
   "source": [
    "#### Download data from a data registry\n",
    "[Return to Top](#toc)"
   ]
  },
  {
   "cell_type": "code",
   "execution_count": 14,
   "metadata": {},
   "outputs": [
    {
     "name": "stdout",
     "output_type": "stream",
     "text": [
      "Found dataset: MVP Demo Dataset.\n",
      "{'detail': [{'loc': ['body', 'dataset_id'], 'msg': 'field required', 'type': 'value_error.missing'}]}\n"
     ]
    },
    {
     "ename": "AssertionError",
     "evalue": "",
     "output_type": "error",
     "traceback": [
      "\u001b[0;31m---------------------------------------------------------------------------\u001b[0m",
      "\u001b[0;31mAssertionError\u001b[0m                            Traceback (most recent call last)",
      "Cell \u001b[0;32mIn [14], line 2\u001b[0m\n\u001b[1;32m      1\u001b[0m auth \u001b[39m=\u001b[39m token_manager\u001b[39m.\u001b[39mget_auth\n\u001b[0;32m----> 2\u001b[0m IOHelper\u001b[39m.\u001b[39;49mdownload(\u001b[39m'\u001b[39;49m\u001b[39m./data\u001b[39;49m\u001b[39m'\u001b[39;49m, new_handle, auth(), data_api)\n",
      "File \u001b[0;32m~/repos/rrap-demo-blog/.venv1/lib/python3.10/site-packages/mdsisclienttools/datastore/ReadWriteHelper.py:337\u001b[0m, in \u001b[0;36mdownload\u001b[0;34m(download_path, handle, auth, data_store_api_endpoint)\u001b[0m\n\u001b[1;32m    333\u001b[0m     \u001b[39mraise\u001b[39;00m \u001b[39mValueError\u001b[39;00m(\n\u001b[1;32m    334\u001b[0m         \u001b[39mf\u001b[39m\u001b[39m'\u001b[39m\u001b[39mInvalid input... the dataset with that handle: \u001b[39m\u001b[39m{\u001b[39;00mhandle\u001b[39m}\u001b[39;00m\u001b[39m could not be found.\u001b[39m\u001b[39m'\u001b[39m)\n\u001b[1;32m    336\u001b[0m \u001b[39m# get read credentials for this dataset\u001b[39;00m\n\u001b[0;32m--> 337\u001b[0m creds \u001b[39m=\u001b[39m _read_dataset(s3_loc, auth\u001b[39m=\u001b[39;49mauth, endpoint\u001b[39m=\u001b[39;49mdata_store_api_endpoint)\n\u001b[1;32m    339\u001b[0m \u001b[39mprint\u001b[39m()\n\u001b[1;32m    340\u001b[0m \u001b[39mprint\u001b[39m(\u001b[39mf\u001b[39m\u001b[39m'\u001b[39m\u001b[39mAttempting to download files to \u001b[39m\u001b[39m{\u001b[39;00mdownload_path\u001b[39m}\u001b[39;00m\u001b[39m'\u001b[39m)\n",
      "File \u001b[0;32m~/repos/rrap-demo-blog/.venv1/lib/python3.10/site-packages/mdsisclienttools/datastore/ReadWriteHelper.py:123\u001b[0m, in \u001b[0;36m_read_dataset\u001b[0;34m(s3_info, auth, endpoint)\u001b[0m\n\u001b[1;32m    121\u001b[0m \u001b[39m# Check successful\u001b[39;00m\n\u001b[1;32m    122\u001b[0m \u001b[39mprint\u001b[39m(response\u001b[39m.\u001b[39mjson())\n\u001b[0;32m--> 123\u001b[0m \u001b[39massert\u001b[39;00m response\u001b[39m.\u001b[39mstatus_code \u001b[39m==\u001b[39m \u001b[39m200\u001b[39m\n\u001b[1;32m    124\u001b[0m response \u001b[39m=\u001b[39m response\u001b[39m.\u001b[39mjson()\n\u001b[1;32m    125\u001b[0m \u001b[39massert\u001b[39;00m response[\u001b[39m'\u001b[39m\u001b[39mstatus\u001b[39m\u001b[39m'\u001b[39m][\u001b[39m'\u001b[39m\u001b[39msuccess\u001b[39m\u001b[39m'\u001b[39m]\n",
      "\u001b[0;31mAssertionError\u001b[0m: "
     ]
    }
   ],
   "source": [
    "auth = token_manager.get_auth\n",
    "IOHelper.download('./data', new_handle, auth(), data_api)"
   ]
  },
  {
   "cell_type": "markdown",
   "metadata": {},
   "source": [
    "#### Upload data associated with registered data\n",
    "[Return to Top](#toc)"
   ]
  },
  {
   "cell_type": "code",
   "execution_count": 12,
   "metadata": {},
   "outputs": [
    {
     "name": "stdout",
     "output_type": "stream",
     "text": [
      "Found dataset: MVP Demo Dataset.\n"
     ]
    },
    {
     "ename": "AssertionError",
     "evalue": "Expected response 200OK but got 422",
     "output_type": "error",
     "traceback": [
      "\u001b[0;31m---------------------------------------------------------------------------\u001b[0m",
      "\u001b[0;31mAssertionError\u001b[0m                            Traceback (most recent call last)",
      "Cell \u001b[0;32mIn [12], line 2\u001b[0m\n\u001b[1;32m      1\u001b[0m auth \u001b[39m=\u001b[39m token_manager\u001b[39m.\u001b[39mget_auth\n\u001b[0;32m----> 2\u001b[0m IOHelper\u001b[39m.\u001b[39;49mupload(new_handle, auth(), \u001b[39m\"\u001b[39;49m\u001b[39m./data\u001b[39;49m\u001b[39m\"\u001b[39;49m, data_api)\n",
      "File \u001b[0;32m~/repos/rrap-demo-blog/.venv1/lib/python3.10/site-packages/mdsisclienttools/datastore/ReadWriteHelper.py:286\u001b[0m, in \u001b[0;36mupload\u001b[0;34m(handle, auth, source_dir, data_store_api_endpoint)\u001b[0m\n\u001b[1;32m    282\u001b[0m     \u001b[39mraise\u001b[39;00m \u001b[39mValueError\u001b[39;00m(\n\u001b[1;32m    283\u001b[0m         \u001b[39mf\u001b[39m\u001b[39m'\u001b[39m\u001b[39mInvalid input... the dataset with that handle: \u001b[39m\u001b[39m{\u001b[39;00mhandle\u001b[39m}\u001b[39;00m\u001b[39m could not be found.\u001b[39m\u001b[39m'\u001b[39m)\n\u001b[1;32m    285\u001b[0m \u001b[39m# get write credentials for this dataset\u001b[39;00m\n\u001b[0;32m--> 286\u001b[0m creds \u001b[39m=\u001b[39m _write_dataset(s3_loc, auth\u001b[39m=\u001b[39;49mauth, endpoint\u001b[39m=\u001b[39;49mdata_store_api_endpoint)\n\u001b[1;32m    288\u001b[0m \u001b[39mprint\u001b[39m()\n\u001b[1;32m    289\u001b[0m \u001b[39mprint\u001b[39m(\u001b[39mf\u001b[39m\u001b[39m'\u001b[39m\u001b[39mAttempting to upload files to \u001b[39m\u001b[39m{\u001b[39;00msource_dir\u001b[39m}\u001b[39;00m\u001b[39m'\u001b[39m)\n",
      "File \u001b[0;32m~/repos/rrap-demo-blog/.venv1/lib/python3.10/site-packages/mdsisclienttools/datastore/ReadWriteHelper.py:154\u001b[0m, in \u001b[0;36m_write_dataset\u001b[0;34m(s3_info, auth, endpoint)\u001b[0m\n\u001b[1;32m    147\u001b[0m response \u001b[39m=\u001b[39m requests\u001b[39m.\u001b[39mpost(write_credential_endpoint,\n\u001b[1;32m    148\u001b[0m                          json\u001b[39m=\u001b[39m{\n\u001b[1;32m    149\u001b[0m                              \u001b[39m\"\u001b[39m\u001b[39ms3_location\u001b[39m\u001b[39m\"\u001b[39m: s3_info,\n\u001b[1;32m    150\u001b[0m                              \u001b[39m\"\u001b[39m\u001b[39mconsole_session_required\u001b[39m\u001b[39m\"\u001b[39m: \u001b[39mFalse\u001b[39;00m\n\u001b[1;32m    151\u001b[0m                          }, auth\u001b[39m=\u001b[39mauth)\n\u001b[1;32m    153\u001b[0m \u001b[39m# Check successful\u001b[39;00m\n\u001b[0;32m--> 154\u001b[0m \u001b[39massert\u001b[39;00m response\u001b[39m.\u001b[39mstatus_code \u001b[39m==\u001b[39m \u001b[39m200\u001b[39m, \u001b[39mf\u001b[39m\u001b[39m\"\u001b[39m\u001b[39mExpected response 200OK but got \u001b[39m\u001b[39m{\u001b[39;00mresponse\u001b[39m.\u001b[39mstatus_code\u001b[39m}\u001b[39;00m\u001b[39m\"\u001b[39m\n\u001b[1;32m    155\u001b[0m response \u001b[39m=\u001b[39m response\u001b[39m.\u001b[39mjson()\n\u001b[1;32m    156\u001b[0m \u001b[39massert\u001b[39;00m response[\u001b[39m'\u001b[39m\u001b[39mstatus\u001b[39m\u001b[39m'\u001b[39m][\u001b[39m'\u001b[39m\u001b[39msuccess\u001b[39m\u001b[39m'\u001b[39m]\n",
      "\u001b[0;31mAssertionError\u001b[0m: Expected response 200OK but got 422"
     ]
    }
   ],
   "source": [
    "auth = token_manager.get_auth\n",
    "IOHelper.upload(new_handle, auth(), \"./data\", data_api)"
   ]
  },
  {
   "cell_type": "code",
   "execution_count": null,
   "metadata": {},
   "outputs": [],
   "source": []
  }
 ],
 "metadata": {
  "kernelspec": {
   "display_name": "Python 3.10.4 ('.venv1': venv)",
   "language": "python",
   "name": "python3"
  },
  "language_info": {
   "codemirror_mode": {
    "name": "ipython",
    "version": 3
   },
   "file_extension": ".py",
   "mimetype": "text/x-python",
   "name": "python",
   "nbconvert_exporter": "python",
   "pygments_lexer": "ipython3",
   "version": "3.10.4"
  },
  "vscode": {
   "interpreter": {
    "hash": "b569a0f1ab8748731643dcf3ea277d23d13a1c2a76e866a2a6232d27dbf9a823"
   }
  }
 },
 "nbformat": 4,
 "nbformat_minor": 2
}
