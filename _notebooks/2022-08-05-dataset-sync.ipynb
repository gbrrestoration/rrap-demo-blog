{
 "cells": [
  {
   "cell_type": "markdown",
   "metadata": {},
   "source": [
    "# RRAP-IS Dataset sync Demo Notebook\n",
    "\n",
    "> A tutorial of RRAP uploading and downloading dataset using Jupyter notebooks.\n",
    "\n",
    "- toc: true \n",
    "- badges: true\n",
    "- comments: true\n",
    "- categories: [jupyter]"
   ]
  },
  {
   "cell_type": "markdown",
   "metadata": {},
   "source": [
    "## About\n",
    "\n",
    "This notebook is a demonstration of downloading and uploading dataset to RRAP data repository. "
   ]
  },
  {
   "cell_type": "markdown",
   "metadata": {},
   "source": [
    "### Run all imports\n",
    "\n",
    "Keep all your imports at the top of a notebook.  It allows for easier management."
   ]
  },
  {
   "cell_type": "code",
   "execution_count": 38,
   "metadata": {},
   "outputs": [],
   "source": [
    "import requests\n",
    "import os\n",
    "import sys\n",
    "import json\n",
    "from bs4 import BeautifulSoup\n",
    "from IPython.display import IFrame, display, HTML, JSON, Markdown, Image\n",
    "from mdsisclienttools.auth.TokenManager import DeviceFlowManager\n",
    "import mdsisclienttools.datastore.ReadWriteHelper as IOHelper\n",
    "import mdsisclienttools\n",
    "import numpy as np\n",
    "import pandas as pd\n",
    "\n",
    "from cloudpathlib import S3Client\n",
    "import cloudpathlib\n"
   ]
  },
  {
   "cell_type": "markdown",
   "metadata": {},
   "source": [
    "### Logging and Warning \n",
    "Sometimes it nice to not have warnings in the output area.\n",
    "\n",
    "Comment this next cell out so that warnings appear"
   ]
  },
  {
   "cell_type": "code",
   "execution_count": 39,
   "metadata": {},
   "outputs": [],
   "source": [
    "import logging\n",
    "import re\n",
    "import warnings\n",
    "logging.basicConfig(filename=\"log.txt\",level=logging.ERROR)\n",
    "logging.captureWarnings(True)\n",
    "warnings.filterwarnings('always', category=DeprecationWarning,\n",
    "                        module=r'^{0}\\.'.format(re.escape(__name__)))\n",
    "warnings.warn(\"This is a DeprecationWarning\",category=DeprecationWarning)"
   ]
  },
  {
   "cell_type": "code",
   "execution_count": 40,
   "metadata": {},
   "outputs": [
    {
     "data": {
      "text/plain": [
       "['mdsisclienttools==1.4.1']"
      ]
     },
     "metadata": {},
     "output_type": "display_data"
    }
   ],
   "source": [
    "try:\n",
    "    from pip._internal.operations import freeze\n",
    "except ImportError:  # pip < 10.0\n",
    "    from pip.operations import freeze\n",
    "\n",
    "packages = freeze.freeze()\n",
    "found = [package for package in packages if package.find('mdsisclienttools') > -1]\n",
    "\n",
    "display(found)"
   ]
  },
  {
   "cell_type": "markdown",
   "metadata": {},
   "source": [
    "### Define global variables\n",
    "\n",
    "Similar to import we like to define notebook variable at the top and reuse them throughout the notebook"
   ]
  },
  {
   "cell_type": "code",
   "execution_count": 41,
   "metadata": {},
   "outputs": [
    {
     "data": {
      "text/plain": [
       "'Checking base urls'"
      ]
     },
     "metadata": {},
     "output_type": "display_data"
    },
    {
     "name": "stdout",
     "output_type": "stream",
     "text": [
      "Testing - https://data-api.testing.rrap-is.com - Passed\n",
      "Testing - https://registry-api.testing.rrap-is.com - Passed\n",
      "Testing - https://prov-api.testing.rrap-is.com - Passed\n",
      "Testing - https://auth.dev.rrap-is.com/auth/realms/rrap - Passed\n",
      "Testing - https://data.testing.rrap-is.com - Passed\n"
     ]
    }
   ],
   "source": [
    "data_store = \"https://data.testing.rrap-is.com\"\n",
    "data_api = \"https://data-api.testing.rrap-is.com\"\n",
    "registry_api = \"https://registry-api.testing.rrap-is.com\"\n",
    "prov_api = \"https://prov-api.testing.rrap-is.com\"\n",
    "auth_server = \"https://auth.dev.rrap-is.com/auth/realms/rrap\"\n",
    "# garbage = \"https://frogs.are.green\"\n",
    "base_urls = {'data_api': data_api, 'registry_api': registry_api, 'prov_api': prov_api, 'auth_server': auth_server, 'data_store': data_store}#, 'garbage': garbage}\n",
    "display(f'Checking base urls')\n",
    "\n",
    "for key, url in base_urls.items():\n",
    "    try:\n",
    "        print(f'Testing - {url}', end=\"\")\n",
    "        r = requests.get(url)\n",
    "        r.raise_for_status()\n",
    "        print(f' - Passed')\n",
    "    except requests.exceptions.HTTPError as err:\n",
    "        print(f' - Fail')\n",
    "        raise SystemExit(err)\n",
    "    except requests.exceptions.RequestException as e:\n",
    "        # catastrophic error. bail.\n",
    "        print(f' - Fail')\n",
    "        raise SystemExit(e)"
   ]
  },
  {
   "cell_type": "markdown",
   "metadata": {},
   "source": [
    "## Authentication\n",
    "\n",
    "### Setup tokens using device authorisation flow against keycloak server\n",
    "\n",
    "This could result in a browser window being opened if you don't have valid tokens cached in local storage.\n",
    "\n",
    "[Return to Top](#toc)"
   ]
  },
  {
   "cell_type": "code",
   "execution_count": 42,
   "metadata": {},
   "outputs": [
    {
     "name": "stdout",
     "output_type": "stream",
     "text": [
      "Attempting to generate authorisation tokens.\n",
      "\n",
      "Looking for existing tokens in local storage.\n",
      "\n",
      "Validating found tokens\n",
      "\n",
      "Found tokens valid, using.\n",
      "\n"
     ]
    }
   ],
   "source": [
    "# this caches the tokens\n",
    "local_token_storage = \".tokens.json\"\n",
    "\n",
    "token_manager = DeviceFlowManager(\n",
    "    stage=\"TEST\",\n",
    "    keycloak_endpoint=auth_server,\n",
    "    local_storage_location=local_token_storage\n",
    ")"
   ]
  },
  {
   "cell_type": "markdown",
   "metadata": {},
   "source": [
    "## Endpoint Documentation\n",
    "Endpoint documentation can be found by appending either `/docs` or `/redoc` on the end a base URL.\n",
    "\n",
    "For example:\n",
    "<ul>\n",
    "  <li><a href=\"https://data-api.testing.rrap-is.com/redoc\" target=\"_blank\">Redoc FastAPI</a></li>\n",
    "  <li><a href=\"https://data-api.testing.rrap-is.com/docs\" target=\"_blank\">Docs FastAPI</a> </li>\n",
    "</ul>\n",
    "\n",
    "Then select from the menu an endpoint function call e.g. `/register/mint-dataset`\n",
    "\n",
    "Then append the function call onto the base url e.g. `https://data-api.testing.rrap-is.com/register/mint-dataset`\n",
    "\n",
    "[Return to Top](#toc)"
   ]
  },
  {
   "cell_type": "markdown",
   "metadata": {},
   "source": [
    "## Demonstration\n",
    "\n",
    "Initially we need to have a registered s3 folder, once this is done we can upload and download datasets to it."
   ]
  },
  {
   "cell_type": "markdown",
   "metadata": {},
   "source": [
    "### Register a dataset\n",
    "see [Rigistering and uploading a dataset](https://gbrrestoration.github.io/rrap-mds-knowledge-hub/information-system/data-store/registering-and-uploading-a-dataset.html)\n",
    "\n",
    "[Return to Top](#toc)"
   ]
  },
  {
   "cell_type": "code",
   "execution_count": 43,
   "metadata": {},
   "outputs": [
    {
     "data": {
      "text/plain": [
       "'10378.1/1688646'"
      ]
     },
     "metadata": {},
     "output_type": "display_data"
    },
    {
     "name": "stdout",
     "output_type": "stream",
     "text": [
      "{\n",
      "  \"status\": {\n",
      "    \"success\": true,\n",
      "    \"details\": \"Successfully seeded location - see location details.\"\n",
      "  },\n",
      "  \"handle\": \"10378.1/1688646\",\n",
      "  \"s3_location\": {\n",
      "    \"bucket_name\": \"dev-rrap-storage-bucket\",\n",
      "    \"path\": \"datasets/10378-1-1688646/\",\n",
      "    \"s3_uri\": \"s3://dev-rrap-storage-bucket/datasets/10378-1-1688646/\"\n",
      "  }\n",
      "}\n"
     ]
    }
   ],
   "source": [
    "# Using RRAP-IS python packages\n",
    "auth = token_manager.get_auth\n",
    "postfix = \"/register/mint-dataset\"\n",
    "payload =  {\n",
    "  \"author\": {\n",
    "    \"name\": \"Andrew Freebairn\",\n",
    "    \"email\": \"andrew.freebairn@csiro.au\",\n",
    "    \"orcid\": \"https://orcid.org/0000-0001-9429-6559\",\n",
    "    \"organisation\": {\n",
    "      \"name\": \"CSIRO\",\n",
    "      \"ror\": \"https://ror.org/03qn8fb07\"\n",
    "    }\n",
    "  },\n",
    "  \"dataset_info\": {\n",
    "    \"name\": \"MVP Demo Dataset\",\n",
    "    \"description\": \"For demonstration purposes\",\n",
    "    \"publisher\": {\n",
    "      \"name\": \"Andrew\",\n",
    "      \"ror\": \"https://ror.org/057xz1h85\"\n",
    "    },\n",
    "    \"created_date\": \"2022-08-05\",\n",
    "    \"published_date\": \"2022-08-05\",\n",
    "    \"license\": \"https://creativecommons.org/licenses/by/4.0/\",\n",
    "    \"keywords\": [\n",
    "      \"keyword1\"\n",
    "    ],\n",
    "    \"version\": \"0.0.1\"\n",
    "  }\n",
    "}\n",
    "endpoint = data_api + postfix \n",
    "\n",
    "response = requests.post(endpoint, json=payload, auth=auth())\n",
    "new_handle = response.json()['handle']\n",
    "display(new_handle)\n",
    "print(json.dumps(response.json(), indent=2))"
   ]
  },
  {
   "cell_type": "code",
   "execution_count": 44,
   "metadata": {},
   "outputs": [
    {
     "name": "stdout",
     "output_type": "stream",
     "text": [
      "Found new handle: 10378.1/1688646\n"
     ]
    }
   ],
   "source": [
    "\n",
    "auth = token_manager.get_auth\n",
    "postfix = \"/registry/items/list-all-datasets\"\n",
    "endpoint = data_api + postfix \n",
    "response = requests.get(endpoint, auth=auth())\n",
    "reg_items = response.json()['registry_items']\n",
    "if any( item['handle'] == new_handle for item in reg_items):\n",
    "    print(f'Found new handle: {new_handle}')\n",
    "else:\n",
    "    print(f'Did NOT find new handle: {new_handle}')\n"
   ]
  },
  {
   "cell_type": "markdown",
   "metadata": {},
   "source": [
    "#### Download data from a data registry\n",
    "[Return to Top](#toc)"
   ]
  },
  {
   "cell_type": "code",
   "execution_count": 45,
   "metadata": {},
   "outputs": [
    {
     "name": "stdout",
     "output_type": "stream",
     "text": [
      "Found dataset: MVP Demo Dataset.\n",
      "\n",
      "Attempting to download files to ./data\n",
      "Download complete.\n"
     ]
    }
   ],
   "source": [
    "auth = token_manager.get_auth\n",
    "IOHelper.download('./data', new_handle, auth(), data_api)"
   ]
  },
  {
   "cell_type": "markdown",
   "metadata": {},
   "source": [
    "#### Upload data associated with registered data\n",
    "[Return to Top](#toc)"
   ]
  },
  {
   "cell_type": "code",
   "execution_count": 46,
   "metadata": {},
   "outputs": [
    {
     "name": "stdout",
     "output_type": "stream",
     "text": [
      "Found dataset: MVP Demo Dataset.\n",
      "\n",
      "Attempting to upload files to ./data\n",
      "Upload complete.\n"
     ]
    }
   ],
   "source": [
    "auth = token_manager.get_auth\n",
    "IOHelper.upload(new_handle, auth(), \"./data\", data_api)"
   ]
  }
 ],
 "metadata": {
  "kernelspec": {
   "display_name": "Python 3",
   "language": "python",
   "name": "python3"
  },
  "language_info": {
   "codemirror_mode": {
    "name": "ipython",
    "version": 3
   },
   "file_extension": ".py",
   "mimetype": "text/x-python",
   "name": "python",
   "nbconvert_exporter": "python",
   "pygments_lexer": "ipython3",
   "version": "3.8.10"
  },
  "vscode": {
   "interpreter": {
    "hash": "82192c8bf994ccb98e90315dae66d7955fd943f30aa2f212d7500edf0bb63e27"
   }
  }
 },
 "nbformat": 4,
 "nbformat_minor": 2
}
