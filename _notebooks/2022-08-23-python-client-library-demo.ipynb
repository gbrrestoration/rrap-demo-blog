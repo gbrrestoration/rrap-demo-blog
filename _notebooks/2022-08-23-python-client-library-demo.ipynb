{
 "cells": [
  {
   "cell_type": "markdown",
   "metadata": {},
   "source": [
    "# Python API Client Wrapper Demo"
   ]
  },
  {
   "cell_type": "markdown",
   "metadata": {},
   "source": [
    "## Import client libraries"
   ]
  },
  {
   "cell_type": "code",
   "execution_count": 5,
   "metadata": {},
   "outputs": [],
   "source": [
    "import rrap_mds_is_data_api\n",
    "import rrap_mds_is_prov_api\n",
    "import rrap_mds_is_registry_api\n",
    "import rrap_mds_is_landing_portal_api\n",
    "from mdsisclienttools.auth.TokenManager import DeviceFlowManager"
   ]
  },
  {
   "cell_type": "markdown",
   "metadata": {},
   "source": [
    "### Setup authorisation"
   ]
  },
  {
   "cell_type": "code",
   "execution_count": 6,
   "metadata": {},
   "outputs": [
    {
     "name": "stdout",
     "output_type": "stream",
     "text": [
      "No storage or object provided, using default location: .tokens.json.\n",
      "Using storage type: FILE.\n",
      "Attempting to generate authorisation tokens.\n",
      "\n",
      "Looking for existing tokens in local storage.\n",
      "\n",
      "Validating found tokens\n",
      "\n",
      "Found tokens valid, using.\n",
      "\n"
     ]
    }
   ],
   "source": [
    "get_token = DeviceFlowManager(\n",
    "    stage=\"TEST\",\n",
    "    keycloak_endpoint=\"https://auth.dev.rrap-is.com/auth/realms/rrap\"\n",
    ").get_token"
   ]
  },
  {
   "cell_type": "markdown",
   "metadata": {},
   "source": [
    "### Demonstrate registry API client"
   ]
  },
  {
   "cell_type": "code",
   "execution_count": 7,
   "metadata": {},
   "outputs": [
    {
     "ename": "SyntaxError",
     "evalue": "invalid syntax (seeded_item.py, line 41)",
     "output_type": "error",
     "traceback": [
      "Traceback \u001b[0;36m(most recent call last)\u001b[0m:\n",
      "\u001b[0m  File \u001b[1;32m~/repos/rrap-demo-blog/.venv/lib/python3.10/site-packages/IPython/core/interactiveshell.py:3433\u001b[0m in \u001b[1;35mrun_code\u001b[0m\n    exec(code_obj, self.user_global_ns, self.user_ns)\u001b[0m\n",
      "\u001b[0m  Cell \u001b[1;32mIn[7], line 3\u001b[0m\n    import rrap_mds_is_registry_api.models as registry_models\u001b[0m\n",
      "\u001b[0;36m  File \u001b[0;32m~/repos/rrap-demo-blog/.venv/lib/python3.10/site-packages/rrap_mds_is_registry_api/models/__init__.py:125\u001b[0;36m\n\u001b[0;31m    from rrap_mds_is_registry_api.model.seeded_item import SeededItem\u001b[0;36m\n",
      "\u001b[0;36m  File \u001b[0;32m~/repos/rrap-demo-blog/.venv/lib/python3.10/site-packages/rrap_mds_is_registry_api/model/seeded_item.py:41\u001b[0;36m\u001b[0m\n\u001b[0;31m    globals()['from rrap_mds_is_registry_api.model.item_category import ItemCategory'] = from rrap_mds_is_registry_api.model.item_category import ItemCategory\u001b[0m\n\u001b[0m                                                                                         ^\u001b[0m\n\u001b[0;31mSyntaxError\u001b[0m\u001b[0;31m:\u001b[0m invalid syntax\n"
     ]
    }
   ],
   "source": [
    "from rrap_mds_is_registry_api.configuration import Configuration\n",
    "import rrap_mds_is_registry_api.apis as registry_apis\n",
    "import rrap_mds_is_registry_api.models as registry_models"
   ]
  },
  {
   "cell_type": "code",
   "execution_count": null,
   "metadata": {},
   "outputs": [],
   "source": [
    "# Setup configuration object\n",
    "# We want token to be ready at the time that we call the API so \n",
    "# write a function which generates the config on demand\n",
    "def get_config() -> Configuration:\n",
    "    config = Configuration(host=\"https://registry-api.testing.rrap-is.com\")\n",
    "    config.access_token = get_token()\n",
    "    return config"
   ]
  },
  {
   "cell_type": "code",
   "execution_count": null,
   "metadata": {},
   "outputs": [],
   "source": [
    "# Get a client\n",
    "def get_client() -> rrap_mds_is_registry_api.ApiClient:\n",
    "    return rrap_mds_is_registry_api.ApiClient(\n",
    "        configuration=get_config()\n",
    "    )"
   ]
  },
  {
   "cell_type": "code",
   "execution_count": null,
   "metadata": {},
   "outputs": [
    {
     "name": "stdout",
     "output_type": "stream",
     "text": [
      "{'display_name': 'Reef Modeller for eReef', 'first_name': 'John', 'last_name': 'Doe', 'email': 'John.Doe@uni-of.au', 'orcid': 'https://orcid.org/0000-0000-000-0000', 'id': '10378.1/1687652', 'created_timestamp': 1658822301, 'updated_timestamp': 1658822301, 'item_category': 'AGENT', 'item_subtype': 'PERSON'}\n"
     ]
    }
   ],
   "source": [
    "# List all people\n",
    "person_api = registry_apis.PersonApi(get_client())\n",
    "all_people = person_api.list_agent_person(_check_return_type=False)\n",
    "items = all_people.items\n",
    "example_people: registry_models.ItemPerson = list(filter(\n",
    "    lambda person: person['first_name'] == \"John\" and person['last_name'] == 'Doe', items))\n",
    "assert len(example_people) > 0\n",
    "example_person = example_people[0]\n",
    "print(example_person)\n"
   ]
  },
  {
   "cell_type": "code",
   "execution_count": null,
   "metadata": {},
   "outputs": [
    {
     "name": "stdout",
     "output_type": "stream",
     "text": [
      "{'item': {'created_timestamp': 1658822301,\n",
      "          'display_name': 'Reef Modeller for eReef',\n",
      "          'email': 'John.Doe@uni-of.au',\n",
      "          'first_name': 'John',\n",
      "          'id': '10378.1/1687652',\n",
      "          'item_category': 'AGENT',\n",
      "          'item_subtype': 'PERSON',\n",
      "          'last_name': 'Doe',\n",
      "          'orcid': 'https://orcid.org/0000-0000-000-0000',\n",
      "          'updated_timestamp': 1658822301},\n",
      " 'item_is_seed': False,\n",
      " 'status': {'details': 'Successfully retrieved complete item and parsed into '\n",
      "                       'current data model.',\n",
      "            'success': True}}\n"
     ]
    }
   ],
   "source": [
    "# Fetch particular person\n",
    "person_api = registry_apis.PersonApi(get_client())\n",
    "result_person = person_api.fetch_agent_person(id=example_person['id'],_check_return_type=False)\n",
    "print(result_person)"
   ]
  }
 ],
 "metadata": {
  "kernelspec": {
   "display_name": "Python 3.10.4 ('.venv': venv)",
   "language": "python",
   "name": "python3"
  },
  "language_info": {
   "codemirror_mode": {
    "name": "ipython",
    "version": 3
   },
   "file_extension": ".py",
   "mimetype": "text/x-python",
   "name": "python",
   "nbconvert_exporter": "python",
   "pygments_lexer": "ipython3",
   "version": "3.10.4"
  },
  "vscode": {
   "interpreter": {
    "hash": "3d1275a2fb951f0c374bcc16cfb7eb7840ea16246984712301e7ada442de4250"
   }
  }
 },
 "nbformat": 4,
 "nbformat_minor": 4
}
