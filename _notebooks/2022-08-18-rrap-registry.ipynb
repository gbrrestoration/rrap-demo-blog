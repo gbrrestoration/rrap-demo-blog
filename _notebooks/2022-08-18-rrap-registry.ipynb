{
 "cells": [
  {
   "cell_type": "markdown",
   "metadata": {},
   "source": [
    "# RRAP-IS Register Models, Entities and Actors Demo Notebook\n",
    "\n",
    "> A tutorial of RRAP-IS registering Models (Tools), Entities (Data, software) and Agent (Person, Organisation) using Jupyter notebooks.\n",
    "\n",
    "- toc: true \n",
    "- badges: true\n",
    "- comments: true\n",
    "- categories: [jupyter]"
   ]
  },
  {
   "cell_type": "markdown",
   "metadata": {},
   "source": [
    "## About\n",
    "\n",
    "This notebook is a demonstration of registering elements that will enable provenance traces. "
   ]
  },
  {
   "cell_type": "markdown",
   "metadata": {},
   "source": [
    "### Run all imports\n",
    "\n",
    "Keep all your imports at the top of a notebook.  It allows for easier management."
   ]
  },
  {
   "cell_type": "code",
   "execution_count": null,
   "metadata": {},
   "outputs": [],
   "source": [
    "import requests\n",
    "import os\n",
    "import sys\n",
    "import json\n",
    "from bs4 import BeautifulSoup\n",
    "from IPython.display import IFrame, display, HTML, JSON, Markdown, Image\n",
    "from mdsisclienttools.auth.TokenManager import DeviceFlowManager\n",
    "\n",
    "import numpy as np\n",
    "import pandas as pd\n",
    "\n",
    "import warnings\n",
    "warnings.filterwarnings(action='once')"
   ]
  },
  {
   "cell_type": "markdown",
   "metadata": {},
   "source": [
    "### Define global variables\n",
    "\n",
    "Similar to import we like to define notebook variable at the top and reuse them throughout the notebook"
   ]
  },
  {
   "cell_type": "code",
   "execution_count": null,
   "metadata": {},
   "outputs": [],
   "source": [
    "data_store = \"https://data.testing.rrap-is.com\"\n",
    "data_api = \"https://data-api.testing.rrap-is.com\"\n",
    "registry_api = \"https://registry-api.testing.rrap-is.com\"\n",
    "prov_api = \"https://prov-api.testing.rrap-is.com\"\n",
    "auth_server = \"https://auth.dev.rrap-is.com/auth/realms/rrap\"\n",
    "# garbage = \"https://frogs.are.green\"\n",
    "base_urls = {'data_api': data_api, 'registry_api': registry_api, 'prov_api': prov_api, 'auth_server': auth_server, 'data_store': data_store}#, 'garbage': garbage}\n",
    "display(f'Checking base urls')\n",
    "\n",
    "for key, url in base_urls.items():\n",
    "    try:\n",
    "        print(f'Testing - {url}', end=\"\")\n",
    "        r = requests.get(url)\n",
    "        r.raise_for_status()\n",
    "        print(f' - Passed')\n",
    "    except requests.exceptions.HTTPError as err:\n",
    "        print(f' - Fail')\n",
    "        raise SystemExit(err)\n",
    "    except requests.exceptions.RequestException as e:\n",
    "        # catastrophic error. bail.\n",
    "        print(f' - Fail')\n",
    "        raise SystemExit(e)"
   ]
  },
  {
   "cell_type": "markdown",
   "metadata": {},
   "source": [
    "## Authentication\n",
    "\n",
    "### Setup tokens using device authorisation flow against keycloak server\n",
    "\n",
    "This could result in a browser window being opened if you don't have valid tokens cached in local storage.\n",
    "\n",
    "[Return to Top](#toc)"
   ]
  },
  {
   "cell_type": "code",
   "execution_count": null,
   "metadata": {},
   "outputs": [],
   "source": [
    "# this caches the tokens\n",
    "local_token_storage = \".tokens.json\"\n",
    "\n",
    "token_manager = DeviceFlowManager(\n",
    "    stage=\"TEST\",\n",
    "    keycloak_endpoint=auth_server,\n",
    "    local_storage_location=local_token_storage\n",
    ")"
   ]
  },
  {
   "cell_type": "markdown",
   "metadata": {},
   "source": [
    "## Endpoint Documentation\n",
    "Endpoint documentation can be found by appending either `/docs` or `/redoc` on the end a base URL.\n",
    "\n",
    "For example:\n",
    "<ul>\n",
    "  <li><a href=\"https://prov-api.testing.rrap-is.com/redoc\" target=\"_blank\">Provenance API</a></li>\n",
    "  <li><a href=\"https://data-api.testing.rrap-is.com/redoc\" target=\"_blank\">Data API</a></li>\n",
    "  <li><a href=\"https://registry-api.testing.rrap-is.com/redoc\" target=\"_blank\">Registry API</a></li>\n",
    "</ul>\n",
    "\n",
    "\n",
    "\n",
    "Then select from the menu an endpoint function call e.g. `/register/mint-dataset`\n",
    "\n",
    "Then append the function call onto the base url e.g. `https://data-api.testing.rrap-is.com/register/mint-dataset`\n",
    "\n",
    "[Return to Top](#toc)"
   ]
  },
  {
   "cell_type": "markdown",
   "metadata": {},
   "source": [
    "## Demonstration\n",
    "\n",
    "This demonstration is for registering elements that will enable provenance traces"
   ]
  },
  {
   "cell_type": "code",
   "execution_count": null,
   "metadata": {},
   "outputs": [],
   "source": [
    "def register_model(model, auth):\n",
    "    postfix = \"/registry/entity/model/create\"\n",
    "    payload =  model\n",
    "    endpoint = registry_api + postfix \n",
    "    return requests.post(endpoint, json=payload, auth=auth())"
   ]
  },
  {
   "cell_type": "markdown",
   "metadata": {},
   "source": [
    "### Register a model (CoCoNet)"
   ]
  },
  {
   "cell_type": "code",
   "execution_count": null,
   "metadata": {},
   "outputs": [],
   "source": [
    "models = [{\n",
    "    \"display_name\": \"ADRIA\",\n",
    "    \"name\": \"ADRIA\",\n",
    "    \"description\": \"Coral Community Network\",\n",
    "    \"documentation_url\": \"https://github.com/gbrrestoration/CoCoNet-model/blob/main/README.md\",\n",
    "    \"source_url\": \"https://gbrrestoration.org/\"\n",
    "    }]\n",
    "auth = token_manager.get_auth\n",
    "responses = [register_model(model, auth) for model in models]\n",
    "[print(json.dumps(result.json(), indent=2)) for result in responses]"
   ]
  },
  {
   "cell_type": "markdown",
   "metadata": {},
   "source": [
    "### Register Models\n",
    "\n",
    "- ADRIA\n",
    "- eReefs\n",
    "- RECOM\n",
    "- Reefmod\n",
    "- CoCoNet\n",
    "- IPMF\n",
    "\n",
    "[Return to Top](#toc)"
   ]
  },
  {
   "cell_type": "code",
   "execution_count": null,
   "metadata": {},
   "outputs": [],
   "source": [
    "models = [{\n",
    "    \"display_name\": \"ADRIA\",\n",
    "    \"name\": \"ADRIA\",\n",
    "    \"description\": \"Coral Community Network\",\n",
    "    \"documentation_url\": \"https://github.com/gbrrestoration/CoCoNet-model/blob/main/README.md\",\n",
    "    \"source_url\": \"https://gbrrestoration.org/\"\n",
    "    },{\n",
    "    \"display_name\": \"eReefs\",\n",
    "    \"name\": \"eReefs\",\n",
    "    \"description\": \"https://research.csiro.au/ereefs/summary/\",\n",
    "    \"documentation_url\": \"https://gbrrestoration.org/wp-content/uploads/2020/09/T14-Environmental-Modelling-of-Large-Scale-SRM_v3.03-3.pdf#page=17\",\n",
    "    \"source_url\": \"https://github.com/csiro-coasts/EMS/\"\n",
    "    },{\n",
    "    \"display_name\": \"RECOM\",\n",
    "    \"name\": \"RECOM\",\n",
    "    \"description\": \"The Relocatable Coastal Model (RECOM) is designed for non-expert modellers to generate high resolution models over limited area coastal or reef domains within the GBR, and produces hydrodynamic, sediment transport, wave and biogeochemical outputs\",\n",
    "    \"documentation_url\": \"https://research.csiro.au/ereefs/models/models-about/recom/ \",\n",
    "    \"source_url\": \"https://research.csiro.au/ereefs/models/models-about/recom/ \"\n",
    "    },{\n",
    "    \"display_name\": \"Reefmod\",\n",
    "    \"name\": \"Reefmod\",\n",
    "    \"description\": \"Modelling fine-scale ecological processes\",\n",
    "    \"documentation_url\": \"https://gbrrestoration.org/wp-content/uploads/2020/09/T6-Modelling-Methods-and-Findings_26April_FINAL3.pdf#page=24\",\n",
    "    \"source_url\": \"https://gbrrestoration.org/\"\n",
    "    },{\n",
    "    \"display_name\": \"CoCoNet\",\n",
    "    \"name\": \"CoCoNet\",\n",
    "    \"description\": \"Coral Community Network -  Great Barrier Reef-scale community model.\",\n",
    "    \"documentation_url\": \"https://gbrrestoration.org/wp-content/uploads/2020/09/T6-Modelling-Methods-and-Findings_26April_FINAL3.pdf#page=23\",\n",
    "    \"source_url\": \"https://github.com/gbrrestoration/CoCoNet-model\"\n",
    "    },{\n",
    "    \"display_name\": \"IPMF\",\n",
    "    \"name\": \"IPMF\",\n",
    "    \"description\": \"Coral Community Network\",\n",
    "    \"documentation_url\": \"https://github.com/gbrrestoration/CoCoNet-model/blob/main/README.md\",\n",
    "    \"source_url\": \"https://gbrrestoration.org/\"\n",
    "    }]\n",
    "auth = token_manager.get_auth\n",
    "responses = [register_model(model, auth) for model in models]\n",
    "[print(json.dumps(result.json(), indent=2)) for result in responses]\n",
    "\n"
   ]
  },
  {
   "cell_type": "markdown",
   "metadata": {},
   "source": [
    "### Register Modeller/Person/People\n",
    "\n",
    "[Return to Top](#toc)"
   ]
  },
  {
   "cell_type": "code",
   "execution_count": null,
   "metadata": {},
   "outputs": [],
   "source": [
    "def register_person(person, auth):\n",
    "    postfix = \"/registry/agent/person/create\"\n",
    "    payload =  person\n",
    "    endpoint = registry_api + postfix \n",
    "    return requests.post(endpoint, json=payload, auth=auth())"
   ]
  },
  {
   "cell_type": "code",
   "execution_count": null,
   "metadata": {},
   "outputs": [],
   "source": [
    "people = [{\n",
    "    \"display_name\": \"Andrew Freebairn\",\n",
    "    \"first_name\": \"Andrew\",\n",
    "    \"last_name\": \"Freebairn\",\n",
    "    \"email\": \"andrew.freebairn@csiro.au \",\n",
    "    \"orcid\": \"https://orcid.org/0000-0001-9429-6559\"\n",
    "    }]\n",
    "auth = token_manager.get_auth\n",
    "responses = [register_person(person, auth) for person in people]\n",
    "[print(json.dumps(result.json(), indent=2)) for result in responses]"
   ]
  },
  {
   "cell_type": "code",
   "execution_count": null,
   "metadata": {},
   "outputs": [],
   "source": [
    "people = [{\n",
    "    \"display_name\": \"Andrew Freebairn\",\n",
    "    \"first_name\": \"Andrew\",\n",
    "    \"last_name\": \"Freebairn\",\n",
    "    \"email\": \"andrew.freebairn@csiro.au \",\n",
    "    \"orcid\": \"https://orcid.org/0000-0001-9429-6559\"\n",
    "    },{\n",
    "    \"display_name\": \"Ross Petridis\",\n",
    "    \"first_name\": \"Ross\",\n",
    "    \"last_name\": \"Petridis\",\n",
    "    \"email\": \"ross.petridis@csiro.au\",\n",
    "    \"orcid\": \"https://orcid.org/\"\n",
    "    },{\n",
    "    \"display_name\": \"Peter Baker\",\n",
    "    \"first_name\": \"Peter\",\n",
    "    \"last_name\": \"Baker\",\n",
    "    \"email\": \"peter.baker122@csiro.au\",\n",
    "    \"orcid\": \"https://orcid.org/\"\n",
    "    },{\n",
    "    \"display_name\": \"Jonathan Yu\",\n",
    "    \"first_name\": \"Jonathan\",\n",
    "    \"last_name\": \"Yu\",\n",
    "    \"email\": \"jonathan.yu@csiro.au\",\n",
    "    \"orcid\": \"https://orcid.org/\"\n",
    "    }]\n",
    "auth = token_manager.get_auth\n",
    "responses = [register_person(person, auth) for person in people]\n",
    "[print(json.dumps(result.json(), indent=2)) for result in responses]"
   ]
  },
  {
   "cell_type": "markdown",
   "metadata": {},
   "source": [
    "### Register Organisation/s\n",
    "\n",
    "[Return to Top](#toc)"
   ]
  },
  {
   "cell_type": "code",
   "execution_count": null,
   "metadata": {},
   "outputs": [],
   "source": [
    "def register_organistation(org, auth):\n",
    "    postfix = \"/registry/agent/organisation/create\"\n",
    "    payload =  org\n",
    "    endpoint = registry_api + postfix \n",
    "    return requests.post(endpoint, json=payload, auth=auth())"
   ]
  },
  {
   "cell_type": "code",
   "execution_count": null,
   "metadata": {},
   "outputs": [],
   "source": [
    "organisations = [{\n",
    "    \"display_name\": \"Commonwealth Scientific and Industrial Research Organisation\",\n",
    "    \"name\": \"Commonwealth Scientific and Industrial Research Organisation (CSIRO)\",\n",
    "    \"ror\": \"https://ror.org/03qn8fb07\"\n",
    "    }]\n",
    "auth = token_manager.get_auth\n",
    "responses = [register_organistation(org, auth) for org in organisations]\n",
    "[print(json.dumps(result.json(), indent=2)) for result in responses]"
   ]
  },
  {
   "cell_type": "code",
   "execution_count": null,
   "metadata": {},
   "outputs": [],
   "source": [
    "organisations = [{\n",
    "    \"display_name\": \"Commonwealth Scientific and Industrial Research Organisation\",\n",
    "    \"name\": \"Commonwealth Scientific and Industrial Research Organisation (CSIRO)\",\n",
    "    \"ror\": \"https://ror.org/03qn8fb07\"\n",
    "    },{\n",
    "    \"display_name\": \"The Great Barrier Reef Foundation\",\n",
    "    \"name\": \"The Great Barrier Reef Foundation (GBRF)\",\n",
    "    \"ror\": \"https://ror.org/00d4phf77\"\n",
    "    },{\n",
    "    \"display_name\": \"Australian Institute of Marine Science\",\n",
    "    \"name\": \"Australian Institute of Marine Science (AIMS)\",\n",
    "    \"ror\": \" https://ror.org/03x57gn41\"\n",
    "    },{\n",
    "    \"display_name\": \"Queensland University of Technology\",\n",
    "    \"name\": \"Queensland University of Technology (QUT)\",\n",
    "    \"ror\": \"https://ror.org/03pnv4752\"\n",
    "    },{\n",
    "    \"display_name\": \"James Cook University\",\n",
    "    \"name\": \"James Cook University (JCU)\",\n",
    "    \"ror\": \"https://ror.org/03pnv4752\"\n",
    "    },{\n",
    "    \"display_name\": \"The University of Queensland\",\n",
    "    \"name\": \"The University of Queensland (UQ)\",\n",
    "    \"ror\": \"https://ror.org/00rqy9422\"\n",
    "    },{\n",
    "    \"display_name\": \"Southern Cross University\",\n",
    "    \"name\": \"Southern Cross University (SCU)\",\n",
    "    \"ror\": \"https://ror.org/001xkv632\"\n",
    "    }]\n",
    "auth = token_manager.get_auth\n",
    "responses = [register_organistation(org, auth) for org in organisations]\n",
    "[print(json.dumps(result.json(), indent=2)) for result in responses]"
   ]
  },
  {
   "cell_type": "markdown",
   "metadata": {},
   "source": [
    "[Return to Top](#toc)"
   ]
  }
 ],
 "metadata": {
  "kernelspec": {
   "display_name": "Python 3.8.10 ('.venv_mvp_demo': venv)",
   "language": "python",
   "name": "python3"
  },
  "language_info": {
   "codemirror_mode": {
    "name": "ipython",
    "version": 3
   },
   "file_extension": ".py",
   "mimetype": "text/x-python",
   "name": "python",
   "nbconvert_exporter": "python",
   "pygments_lexer": "ipython3",
   "version": "3.8.10"
  },
  "orig_nbformat": 4,
  "vscode": {
   "interpreter": {
    "hash": "9710ff2faa7bc16d880bb18615b17fc9b712f9f6ed8c7dc063de886c1cfb5013"
   }
  }
 },
 "nbformat": 4,
 "nbformat_minor": 2
}
