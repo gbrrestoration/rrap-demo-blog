{
 "cells": [
  {
   "cell_type": "markdown",
   "metadata": {},
   "source": [
    "# Provenance Query MVP Demo Notebook \n",
    "> A tutorial of RRAP Provenance Query using Jupyter notebooks.\n",
    "\n",
    "- toc: true \n",
    "- badges: true\n",
    "- comments: true\n",
    "- categories: [jupyter]\n",
    "<!-- - image: images/chart-preview.png -->"
   ]
  },
  {
   "cell_type": "markdown",
   "metadata": {},
   "source": [
    "# About\n",
    "\n",
    "This notebook is a demonstration of some of capabilities of RRAP Provenance with notebooks.\n",
    "\n",
    "With `RRAP-IS Provenance` you can query the database to determine all 'Activities', 'Entities' and 'Actors' associated with particular 'Outputs', 'Inputs', or 'Reef Interventions'\n",
    "\n",
    "Please read documenation on **Provenance** to understand terms used in this notebook and the future systems "
   ]
  },
  {
   "cell_type": "markdown",
   "metadata": {},
   "source": [
    "https://github.com/gbrrestoration/rrap-is-proto/blob/main/utilities/packages/python/keycloak-utils/KeycloakRestUtilities/TokenManager.py\n",
    "\n",
    "https://github.com/gbrrestoration/rrap-is-proto/blob/main/admin-tooling/data-store/import_db.py\n",
    "Construct Json directly\n",
    "\n",
    "APIs:\n",
    "https://data-api.testing.rrap-is.com/docs\n",
    "https://registry-api.testing.rrap-is.com/docs\n",
    "https://prov-api.testing.rrap-is.com/docs\n",
    "\n",
    "Auth:\n",
    "'Authorization' : 'Bearer <JWT token>'\n",
    "https://data-api.testing.rrap-is.com/check-access/check-general-access\n",
    "https://data-api.testing.rrap-is.com/\n",
    "\n",
    "token:\n",
    "https://data.testing.rrap-is.com/\n",
    "\n",
    "Maintain session\n",
    "https://github.com/gbrrestoration/rrap-is-proto/blob/main/utilities/packages/python/keycloak-utils/KeycloakRestUtilities/TokenManager.py"
   ]
  },
  {
   "cell_type": "code",
   "execution_count": 5,
   "metadata": {},
   "outputs": [
    {
     "data": {
      "text/plain": [
       "401"
      ]
     },
     "metadata": {},
     "output_type": "display_data"
    },
    {
     "data": {
      "text/plain": [
       "200"
      ]
     },
     "metadata": {},
     "output_type": "display_data"
    },
    {
     "data": {
      "text/plain": [
       "{'username': 'fareed',\n",
       " 'email': 'fareed.mirza@csiro.au',\n",
       " 'roles': ['default-roles-rrap',\n",
       "  'data-store-write',\n",
       "  'offline_access',\n",
       "  'handle-write',\n",
       "  'data-store-admin',\n",
       "  'data-store-read',\n",
       "  'handle-read',\n",
       "  'uma_authorization',\n",
       "  'handle-admin'],\n",
       " 'access_token': 'eyJhbGciOiJSUzI1NiIsInR5cCIgOiAiSldUIiwia2lkIiA6ICIzMVBQVkZZdE53a2JEcVZnNjFqX08xNXdiN2FRZU1BaExCbWdpY2VvY2dBIn0.eyJleHAiOjE2NTgyODY3OTgsImlhdCI6MTY1ODI3OTU5OCwiYXV0aF90aW1lIjoxNjU4Mjc5NTk2LCJqdGkiOiI2YjI2YmVjOC1iYWRiLTQyMjgtYmFjNi1lYmYxMjYxZDk0NmYiLCJpc3MiOiJodHRwczovL2F1dGguZGV2LnJyYXAtaXMuY29tL2F1dGgvcmVhbG1zL3JyYXAiLCJhdWQiOlsicmVhbG0tbWFuYWdlbWVudCIsImFjY291bnQiXSwic3ViIjoiZWFiZDg2YjAtNWM1NC00NzNiLWI1MWUtMzZiZTMxMzdkNGRiIiwidHlwIjoiQmVhcmVyIiwiYXpwIjoiZGF0YS1zdG9yZS11aSIsIm5vbmNlIjoiOTZmMjcyMzYtN2M3OC00NTlmLThhNGQtZmRjMmJhZGVlN2QwIiwic2Vzc2lvbl9zdGF0ZSI6ImU4YmQxYmZjLTliMGQtNDFkMy1hNDIxLWFiZWFhNGIzYzI5MiIsImFjciI6IjEiLCJyZWFsbV9hY2Nlc3MiOnsicm9sZXMiOlsiZGVmYXVsdC1yb2xlcy1ycmFwIiwiZGF0YS1zdG9yZS13cml0ZSIsIm9mZmxpbmVfYWNjZXNzIiwiaGFuZGxlLXdyaXRlIiwiZGF0YS1zdG9yZS1hZG1pbiIsImRhdGEtc3RvcmUtcmVhZCIsImhhbmRsZS1yZWFkIiwidW1hX2F1dGhvcml6YXRpb24iLCJoYW5kbGUtYWRtaW4iXX0sInJlc291cmNlX2FjY2VzcyI6eyJyZWFsbS1tYW5hZ2VtZW50Ijp7InJvbGVzIjpbInZpZXctcmVhbG0iLCJ2aWV3LWlkZW50aXR5LXByb3ZpZGVycyIsIm1hbmFnZS1pZGVudGl0eS1wcm92aWRlcnMiLCJpbXBlcnNvbmF0aW9uIiwicmVhbG0tYWRtaW4iLCJjcmVhdGUtY2xpZW50IiwibWFuYWdlLXVzZXJzIiwicXVlcnktcmVhbG1zIiwidmlldy1hdXRob3JpemF0aW9uIiwicXVlcnktY2xpZW50cyIsInF1ZXJ5LXVzZXJzIiwibWFuYWdlLWV2ZW50cyIsIm1hbmFnZS1yZWFsbSIsInZpZXctZXZlbnRzIiwidmlldy11c2VycyIsInZpZXctY2xpZW50cyIsIm1hbmFnZS1hdXRob3JpemF0aW9uIiwibWFuYWdlLWNsaWVudHMiLCJxdWVyeS1ncm91cHMiXX0sImFjY291bnQiOnsicm9sZXMiOlsibWFuYWdlLWFjY291bnQiLCJtYW5hZ2UtYWNjb3VudC1saW5rcyIsImRlbGV0ZS1hY2NvdW50Iiwidmlldy1wcm9maWxlIl19fSwic2NvcGUiOiJvcGVuaWQgZW1haWwgcHJvZmlsZSByb2xlcyIsInNpZCI6ImU4YmQxYmZjLTliMGQtNDFkMy1hNDIxLWFiZWFhNGIzYzI5MiIsImVtYWlsX3ZlcmlmaWVkIjpmYWxzZSwibmFtZSI6IkZhcmVlZCBNaXJ6YSIsInByZWZlcnJlZF91c2VybmFtZSI6ImZhcmVlZCIsImdpdmVuX25hbWUiOiJGYXJlZWQiLCJmYW1pbHlfbmFtZSI6Ik1pcnphIiwiZW1haWwiOiJmYXJlZWQubWlyemFAY3Npcm8uYXUifQ.oqLZTiS5fJGm0Gf1DMJGA5r0hUxvOPV3KuDZbp7ksg2PLYKeFCC2mNndUOubcR-m_SphQrzN0ZXm7WxnQ4Krv3EEW1iB1NUJwQL8ZIeESCNZmX-mAACLilWW99m1k9SJovki-eACn_q-YiQehUA0YR7JMSEQ-3X7tp6VipHBSYqHOqcMTWeZgeH35sfXwINYqU3pJbtDRpBZBPBLaE6mlUD_IarJnPMKx9ImKqHxNmPEImrP2zI2z2I_PSe4rHay0_UXybiBDb46tv3kmK7ox1wsh6hdP7XRK_y8gyFaSUtvrJeN9xzukz1igDnbyN29MWAmuHDfyosBhE2seTOO0Q'}"
      ]
     },
     "metadata": {},
     "output_type": "display_data"
    }
   ],
   "source": [
    "import requests\n",
    "x=requests.get(\"https://data-api.testing.rrap-is.com/check-access/check-general-access\")\n",
    "display(x.status_code)\n",
    "\n",
    "x=requests.get(\"https://data-api.testing.rrap-is.com/\")\n",
    "display(x.status_code)\n",
    "\n",
    "myToken = 'eyJhbGciOiJSUzI1NiIsInR5cCIgOiAiSldUIiwia2lkIiA6ICIzMVBQVkZZdE53a2JEcVZnNjFqX08xNXdiN2FRZU1BaExCbWdpY2VvY2dBIn0.eyJleHAiOjE2NTgyODY3OTgsImlhdCI6MTY1ODI3OTU5OCwiYXV0aF90aW1lIjoxNjU4Mjc5NTk2LCJqdGkiOiI2YjI2YmVjOC1iYWRiLTQyMjgtYmFjNi1lYmYxMjYxZDk0NmYiLCJpc3MiOiJodHRwczovL2F1dGguZGV2LnJyYXAtaXMuY29tL2F1dGgvcmVhbG1zL3JyYXAiLCJhdWQiOlsicmVhbG0tbWFuYWdlbWVudCIsImFjY291bnQiXSwic3ViIjoiZWFiZDg2YjAtNWM1NC00NzNiLWI1MWUtMzZiZTMxMzdkNGRiIiwidHlwIjoiQmVhcmVyIiwiYXpwIjoiZGF0YS1zdG9yZS11aSIsIm5vbmNlIjoiOTZmMjcyMzYtN2M3OC00NTlmLThhNGQtZmRjMmJhZGVlN2QwIiwic2Vzc2lvbl9zdGF0ZSI6ImU4YmQxYmZjLTliMGQtNDFkMy1hNDIxLWFiZWFhNGIzYzI5MiIsImFjciI6IjEiLCJyZWFsbV9hY2Nlc3MiOnsicm9sZXMiOlsiZGVmYXVsdC1yb2xlcy1ycmFwIiwiZGF0YS1zdG9yZS13cml0ZSIsIm9mZmxpbmVfYWNjZXNzIiwiaGFuZGxlLXdyaXRlIiwiZGF0YS1zdG9yZS1hZG1pbiIsImRhdGEtc3RvcmUtcmVhZCIsImhhbmRsZS1yZWFkIiwidW1hX2F1dGhvcml6YXRpb24iLCJoYW5kbGUtYWRtaW4iXX0sInJlc291cmNlX2FjY2VzcyI6eyJyZWFsbS1tYW5hZ2VtZW50Ijp7InJvbGVzIjpbInZpZXctcmVhbG0iLCJ2aWV3LWlkZW50aXR5LXByb3ZpZGVycyIsIm1hbmFnZS1pZGVudGl0eS1wcm92aWRlcnMiLCJpbXBlcnNvbmF0aW9uIiwicmVhbG0tYWRtaW4iLCJjcmVhdGUtY2xpZW50IiwibWFuYWdlLXVzZXJzIiwicXVlcnktcmVhbG1zIiwidmlldy1hdXRob3JpemF0aW9uIiwicXVlcnktY2xpZW50cyIsInF1ZXJ5LXVzZXJzIiwibWFuYWdlLWV2ZW50cyIsIm1hbmFnZS1yZWFsbSIsInZpZXctZXZlbnRzIiwidmlldy11c2VycyIsInZpZXctY2xpZW50cyIsIm1hbmFnZS1hdXRob3JpemF0aW9uIiwibWFuYWdlLWNsaWVudHMiLCJxdWVyeS1ncm91cHMiXX0sImFjY291bnQiOnsicm9sZXMiOlsibWFuYWdlLWFjY291bnQiLCJtYW5hZ2UtYWNjb3VudC1saW5rcyIsImRlbGV0ZS1hY2NvdW50Iiwidmlldy1wcm9maWxlIl19fSwic2NvcGUiOiJvcGVuaWQgZW1haWwgcHJvZmlsZSByb2xlcyIsInNpZCI6ImU4YmQxYmZjLTliMGQtNDFkMy1hNDIxLWFiZWFhNGIzYzI5MiIsImVtYWlsX3ZlcmlmaWVkIjpmYWxzZSwibmFtZSI6IkZhcmVlZCBNaXJ6YSIsInByZWZlcnJlZF91c2VybmFtZSI6ImZhcmVlZCIsImdpdmVuX25hbWUiOiJGYXJlZWQiLCJmYW1pbHlfbmFtZSI6Ik1pcnphIiwiZW1haWwiOiJmYXJlZWQubWlyemFAY3Npcm8uYXUifQ.oqLZTiS5fJGm0Gf1DMJGA5r0hUxvOPV3KuDZbp7ksg2PLYKeFCC2mNndUOubcR-m_SphQrzN0ZXm7WxnQ4Krv3EEW1iB1NUJwQL8ZIeESCNZmX-mAACLilWW99m1k9SJovki-eACn_q-YiQehUA0YR7JMSEQ-3X7tp6VipHBSYqHOqcMTWeZgeH35sfXwINYqU3pJbtDRpBZBPBLaE6mlUD_IarJnPMKx9ImKqHxNmPEImrP2zI2z2I_PSe4rHay0_UXybiBDb46tv3kmK7ox1wsh6hdP7XRK_y8gyFaSUtvrJeN9xzukz1igDnbyN29MWAmuHDfyosBhE2seTOO0Q'\n",
    "myUrl = 'https://data-api.testing.rrap-is.com/check-access/check-general-access'\n",
    "head = {'Authorization': 'Bearer {}'.format(myToken)}\n",
    "response = requests.get(myUrl, headers=head)\n",
    "display(response.json())\n"
   ]
  },
  {
   "cell_type": "markdown",
   "metadata": {},
   "source": [
    "## Demos\n",
    "[Use cases](https://confluence.csiro.au/display/RRAPIS/Provenance+use+cases)\n",
    "1. Simple result lineage\n",
    "1. Traceability\n",
    "1. Reproducibility\n",
    "1. Find all inputs used for a particular Reef Intervnetion\n",
    "1. Find all outputs generated by a particular 'Actor'"
   ]
  },
  {
   "cell_type": "code",
   "execution_count": null,
   "metadata": {},
   "outputs": [],
   "source": [
    "def build_query():\n",
    "    #todo: Build url query for provenance api endpoint\n",
    "    "
   ]
  },
  {
   "cell_type": "markdown",
   "metadata": {},
   "source": [
    "## Demo 1"
   ]
  },
  {
   "cell_type": "code",
   "execution_count": null,
   "metadata": {},
   "outputs": [],
   "source": [
    "example_url_query_string = build_query()"
   ]
  },
  {
   "cell_type": "markdown",
   "metadata": {},
   "source": [
    "## Demo 2"
   ]
  },
  {
   "cell_type": "code",
   "execution_count": null,
   "metadata": {},
   "outputs": [],
   "source": []
  },
  {
   "cell_type": "markdown",
   "metadata": {},
   "source": [
    "## Demo 3"
   ]
  },
  {
   "cell_type": "code",
   "execution_count": null,
   "metadata": {},
   "outputs": [],
   "source": []
  },
  {
   "cell_type": "markdown",
   "metadata": {},
   "source": [
    "## Demo 4"
   ]
  },
  {
   "cell_type": "code",
   "execution_count": null,
   "metadata": {},
   "outputs": [],
   "source": []
  }
 ],
 "metadata": {
  "interpreter": {
   "hash": "45a0c7d279f30dc7391fa60fed42ba90ae0b786babc7df2559d7ff3a562ffd5c"
  },
  "kernelspec": {
   "display_name": "visualization-curriculum-gF8wUgMm",
   "language": "python",
   "name": "python3"
  },
  "language_info": {
   "codemirror_mode": {
    "name": "ipython",
    "version": 3
   },
   "file_extension": ".py",
   "mimetype": "text/x-python",
   "name": "python",
   "nbconvert_exporter": "python",
   "pygments_lexer": "ipython3",
   "version": "3.9.7"
  },
  "varInspector": {
   "cols": {
    "lenName": 16,
    "lenType": 16,
    "lenVar": 40
   },
   "kernels_config": {
    "python": {
     "delete_cmd_postfix": "",
     "delete_cmd_prefix": "del ",
     "library": "var_list.py",
     "varRefreshCmd": "print(var_dic_list())"
    },
    "r": {
     "delete_cmd_postfix": ") ",
     "delete_cmd_prefix": "rm(",
     "library": "var_list.r",
     "varRefreshCmd": "cat(var_dic_list()) "
    }
   },
   "types_to_exclude": [
    "module",
    "function",
    "builtin_function_or_method",
    "instance",
    "_Feature"
   ],
   "window_display": false
  }
 },
 "nbformat": 4,
 "nbformat_minor": 4
}
