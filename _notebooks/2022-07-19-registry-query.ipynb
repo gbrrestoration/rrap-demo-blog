{
 "cells": [
  {
   "cell_type": "markdown",
   "metadata": {},
   "source": [
    "# Registery Query MVP Demo Notebook \n",
    "> A tutorial of RRAP Registry Query using Jupyter notebooks.\n",
    "\n",
    "- toc: true \n",
    "- badges: true\n",
    "- comments: true\n",
    "- categories: [jupyter, registry]\n",
    "<!-- - image: images/chart-preview.png -->"
   ]
  },
  {
   "cell_type": "markdown",
   "metadata": {},
   "source": [
    "## About\n",
    "\n",
    "This page captures simple demonstrations of some of capabilities of RRAP to Registry Activities, Entities and Actors.  If you select the 'Binder' button above, a Jupyter Notebook will be lauched that you can use to further explore these examples.  You can change parameters and see results to further expand your understand of RRAP Registry.\n",
    "\n",
    "With `RRAP-IS Registry` system can be queried to find all 'Activities', 'Entities' and 'Actors' associated with particular 'Outputs', 'Inputs', or 'Reef Interventions'\n",
    "\n",
    "Please read documenation ### to understand terms used in this notebook and the future systems\n",
    "\n"
   ]
  },
  {
   "cell_type": "markdown",
   "metadata": {},
   "source": [
    "## Import general dependencies"
   ]
  },
  {
   "cell_type": "code",
   "execution_count": 3,
   "metadata": {},
   "outputs": [],
   "source": [
    "import requests\n",
    "import os\n",
    "import sys\n",
    "import json\n",
    "from IPython.display import IFrame, display, HTML, JSON\n",
    "from mdsisclienttools.auth.TokenManager import DeviceFlowManager"
   ]
  },
  {
   "cell_type": "markdown",
   "metadata": {},
   "source": [
    "### Define global variables, base urls\n",
    "Note the use structure of the base url, pointing to test servers.  If you wish to test your code first, please use the test servers (listed below).  Note that these may not retain data and could be down at the time of testing.\n",
    "\n",
    "Remove `testing` from the url to use the production urls.  Please be careful using production urls, filling the system with test data will require considerable effort to cleanup."
   ]
  },
  {
   "cell_type": "code",
   "execution_count": 4,
   "metadata": {},
   "outputs": [
    {
     "data": {
      "text/plain": [
       "'Checking base urls'"
      ]
     },
     "metadata": {},
     "output_type": "display_data"
    },
    {
     "name": "stdout",
     "output_type": "stream",
     "text": [
      "Testing - https://data-api.testing.rrap-is.com - Passed\n",
      "Testing - https://registry-api.testing.rrap-is.com - Passed\n",
      "Testing - https://prov-api.testing.rrap-is.com - Passed\n",
      "Testing - https://auth.dev.rrap-is.com/auth/realms/rrap - Passed\n"
     ]
    }
   ],
   "source": [
    "\n",
    "data_api = \"https://data-api.testing.rrap-is.com\"\n",
    "registry_api = \"https://registry-api.testing.rrap-is.com\"\n",
    "prov_api = \"https://prov-api.testing.rrap-is.com\"\n",
    "auth_server = \"https://auth.dev.rrap-is.com/auth/realms/rrap\"\n",
    "# garbage = \"https://frogs.are.green\"\n",
    "base_urls = {'data_api': data_api, 'registry_api': registry_api, 'prov_api': prov_api, 'auth_server': auth_server}#, 'garbage': garbage}\n",
    "display('Checking base urls')\n",
    "# [display(Testing':',value) for key, value in base_urls.items()]\n",
    "for key, url in base_urls.items():\n",
    "    try:\n",
    "        print(f'Testing - {url}', end=\"\")\n",
    "        r = requests.get(url)\n",
    "        r.raise_for_status()\n",
    "        print(f' - Passed')\n",
    "    except requests.exceptions.HTTPError as err:\n",
    "        print(f' - Fail')\n",
    "        raise SystemExit(err)\n",
    "    except requests.exceptions.RequestException as e:\n",
    "        # catastrophic error. bail.\n",
    "        print(f' - Fail')\n",
    "        raise SystemExit(e)"
   ]
  },
  {
   "cell_type": "markdown",
   "metadata": {},
   "source": [
    "### Setup tokens using device authorisation flow against keycloak server\n",
    "\n",
    "This could result in a browser window being opened if you don't have valid tokens cached in local storage."
   ]
  },
  {
   "cell_type": "code",
   "execution_count": 5,
   "metadata": {},
   "outputs": [
    {
     "name": "stdout",
     "output_type": "stream",
     "text": [
      "Attempting to generate authorisation tokens.\n",
      "\n",
      "Looking for existing tokens in local storage.\n",
      "\n",
      "Validating found tokens\n",
      "\n",
      "Trying to use found tokens to refresh the access token.\n",
      "\n",
      "Tokens found in storage but they are not valid.\n",
      "\n",
      "Initiating device auth flow to setup offline access token.\n",
      "\n",
      "Decoding response\n",
      "\n",
      "Please authorise using the following endpoint.\n",
      "\n",
      "Verification URL: https://auth.dev.rrap-is.com/auth/realms/rrap/device?user_code=DSFA-OPPX\n",
      "User Code: DSFA-OPPX\n",
      "\n",
      "Awaiting completion\n",
      "\n",
      "\n",
      "Token generation complete. Authorisation successful.\n",
      "\n"
     ]
    }
   ],
   "source": [
    "# this caches the tokens\n",
    "local_token_storage = \".tokens.json\"\n",
    "\n",
    "token_manager = DeviceFlowManager(\n",
    "    stage=\"TEST\",\n",
    "    keycloak_endpoint=auth_server,\n",
    "    local_storage_location=local_token_storage\n",
    ")"
   ]
  },
  {
   "cell_type": "markdown",
   "metadata": {},
   "source": [
    "# Demonstrations"
   ]
  },
  {
   "cell_type": "markdown",
   "metadata": {},
   "source": [
    "## Dataset Registry APIs\n",
    "### List all datasets"
   ]
  },
  {
   "cell_type": "code",
   "execution_count": 27,
   "metadata": {},
   "outputs": [
    {
     "name": "stdout",
     "output_type": "stream",
     "text": [
      "Token validation failed due to error: Signature has expired.\n",
      "Refreshing using refresh token\n",
      "\n"
     ]
    },
    {
     "data": {
      "application/json": {
       "num_items": 85,
       "registry_items": [
        {
         "collection_format": {
          "author": {
           "email": "rosspetridis@gmail.com",
           "name": "Ross Petridis",
           "orcid": "https://orcid.org/0000-0002-7190-5187",
           "organisation": {
            "name": "University of Melbourne",
            "ror": "https://ror.org/00rqy9422"
           }
          },
          "dataset_info": {
           "created_date": "2021-12-25",
           "description": "Results of counterfactual model run - updated",
           "keywords": [
            "keyword1",
            "keyword2",
            "coralLover"
           ],
           "license": "https://creativecommons.org/licenses/by/4.0/",
           "name": "Coral results 2021-02-30 - updated",
           "published_date": "2021-12-25",
           "publisher": {
            "name": "University of Melbourne",
            "ror": "https://ror.org/00rqy9422"
           },
           "version": "1.2.6"
          }
         },
         "created_time": "2022-06-28T07:37:45.631493",
         "handle": "10378.1/1687269",
         "rocrate_metadata": {
          "@context": [
           "https://w3id.org/ro/crate/1.1/context",
           {
            "@vocab": "https://schema.org/"
           }
          ],
          "@graph": [
           {
            "@id": "ro-crate-metadata.json",
            "@type": "CreativeWork",
            "about": {
             "@id": "./"
            },
            "author": {
             "@id": "https://orcid.org/0000-0002-7190-5187"
            },
            "conformsTo": {
             "@id": "https://w3id.org/ro/crate/1.1"
            },
            "dateCreated": "2022-06-28",
            "dateModified": "2022-06-28",
            "datePublished": "2022-06-28"
           },
           {
            "@id": "https://orcid.org/0000-0002-7190-5187",
            "@type": [
             "Person",
             "ContactPoint"
            ],
            "email": "rosspetridis@gmail.com",
            "name": "Ross Petridis",
            "worksFor": {
             "@id": "https://ror.org/00rqy9422"
            }
           },
           {
            "@id": "https://ror.org/00rqy9422",
            "@type": "Organization",
            "name": "University of Melbourne"
           },
           {
            "@id": "./",
            "@type": "Dataset",
            "dateCreated": "2021-12-25",
            "datePublished": "2021-12-25",
            "description": "Results of counterfactual model run - updated",
            "identifier": "10378.1/1687269",
            "keywords": [
             "keyword1",
             "keyword2",
             "coralLover"
            ],
            "license": {
             "@id": "https://creativecommons.org/licenses/by/4.0/"
            },
            "name": "Coral results 2021-02-30 - updated",
            "publisher": {
             "@id": "https://ror.org/00rqy9422"
            },
            "version": "1.2.6"
           }
          ]
         },
         "s3": {
          "bucket_name": "dev-rrap-storage-bucket",
          "path": "datasets/10378-1-1687269/",
          "s3_uri": "s3://dev-rrap-storage-bucket/datasets/10378-1-1687269/"
         },
         "updated_time": "2022-06-28T07:37:45.935384"
        },
        {
         "collection_format": {
          "author": {
           "email": "peter.baker122@csiro.au",
           "name": "Peter Baker",
           "orcid": "https://orcid.org/0000-0002-2237-0091",
           "organisation": {
            "name": "Australian National University",
            "ror": "https://ror.org/019wvm592"
           }
          },
          "dataset_info": {
           "created_date": "2022-06-24",
           "description": "Test",
           "keywords": null,
           "license": "https://gbrrestoration.github.io/rrap-mds-knowledge-hub/information-system/licenses.html#copyright-all-rights-reserved-",
           "name": "Test",
           "published_date": "2022-06-24",
           "publisher": {
            "name": "Commonwealth Scientific and Industrial Research Organisation",
            "ror": "https://ror.org/03qn8fb07"
           },
           "version": null
          }
         },
         "created_time": "2022-06-24T01:05:44.738974",
         "handle": "10378.1/1687201",
         "rocrate_metadata": {
          "@context": [
           "https://w3id.org/ro/crate/1.1/context",
           {
            "@vocab": "https://schema.org/"
           }
          ],
          "@graph": [
           {
            "@id": "ro-crate-metadata.json",
            "@type": "CreativeWork",
            "about": {
             "@id": "./"
            },
            "author": {
             "@id": "https://orcid.org/0000-0002-2237-0091"
            },
            "conformsTo": {
             "@id": "https://w3id.org/ro/crate/1.1"
            },
            "dateCreated": "2022-06-24",
            "dateModified": "2022-06-24",
            "datePublished": "2022-06-24"
           },
           {
            "@id": "https://orcid.org/0000-0002-2237-0091",
            "@type": [
             "Person",
             "ContactPoint"
            ],
            "email": "peter.baker122@csiro.au",
            "name": "Peter Baker",
            "worksFor": {
             "@id": "https://ror.org/019wvm592"
            }
           },
           {
            "@id": "https://ror.org/019wvm592",
            "@type": "Organization",
            "name": "Australian National University"
           },
           {
            "@id": "./",
            "@type": "Dataset",
            "dateCreated": "2022-06-24",
            "datePublished": "2022-06-24",
            "description": "Test",
            "identifier": "10378.1/1687201",
            "license": {
             "@id": "https://gbrrestoration.github.io/rrap-mds-knowledge-hub/information-system/licenses.html#copyright-all-rights-reserved-"
            },
            "name": "Test",
            "publisher": {
             "@id": "https://ror.org/03qn8fb07"
            }
           },
           {
            "@id": "https://ror.org/03qn8fb07",
            "@type": "Organization",
            "name": "Commonwealth Scientific and Industrial Research Organisation"
           }
          ]
         },
         "s3": {
          "bucket_name": "dev-rrap-storage-bucket",
          "path": "datasets/10378-1-1687201/",
          "s3_uri": "s3://dev-rrap-storage-bucket/datasets/10378-1-1687201/"
         },
         "updated_time": "2022-06-24T01:27:22.748449"
        },
        {
         "collection_format": {
          "author": {
           "email": "peter.baker1626@gmail.com",
           "name": "Peter Baker",
           "orcid": "https://orcid.org/0000-0002-7190-5187",
           "organisation": {
            "name": "ANU",
            "ror": "https://ror.org/ANUfake"
           }
          },
          "dataset_info": {
           "created_date": "2021-12-25",
           "description": "Results of counterfactual model run",
           "keywords": [
            "keyword1",
            "keyword2"
           ],
           "license": "https://creativecommons.org/licenses/by/4.0/",
           "name": "Coral results 2021-02-30",
           "published_date": "2021-12-25",
           "publisher": {
            "name": "University of Canberra",
            "ror": "https://ror.org/UCFake"
           },
           "version": "1.2.4"
          }
         },
         "created_time": "2022-06-30T06:02:45.528431",
         "handle": "10378.1/1687286",
         "rocrate_metadata": {
          "@context": [
           "https://w3id.org/ro/crate/1.1/context",
           {
            "@vocab": "https://schema.org/"
           }
          ],
          "@graph": [
           {
            "@id": "ro-crate-metadata.json",
            "@type": "CreativeWork",
            "about": {
             "@id": "./"
            },
            "author": {
             "@id": "https://orcid.org/0000-0002-7190-5187"
            },
            "conformsTo": {
             "@id": "https://w3id.org/ro/crate/1.1"
            },
            "dateCreated": "2022-06-30",
            "dateModified": "2022-06-30",
            "datePublished": "2022-06-30"
           },
           {
            "@id": "https://orcid.org/0000-0002-7190-5187",
            "@type": [
             "Person",
             "ContactPoint"
            ],
            "email": "peter.baker1626@gmail.com",
            "name": "Peter Baker",
            "worksFor": {
             "@id": "https://ror.org/ANUfake"
            }
           },
           {
            "@id": "https://ror.org/ANUfake",
            "@type": "Organization",
            "name": "ANU"
           },
           {
            "@id": "./",
            "@type": "Dataset",
            "dateCreated": "2021-12-25",
            "datePublished": "2021-12-25",
            "description": "Results of counterfactual model run",
            "identifier": "10378.1/1687286",
            "keywords": [
             "keyword1",
             "keyword2"
            ],
            "license": {
             "@id": "https://creativecommons.org/licenses/by/4.0/"
            },
            "name": "Coral results 2021-02-30",
            "publisher": {
             "@id": "https://ror.org/UCFake"
            },
            "version": "1.2.4"
           },
           {
            "@id": "https://ror.org/UCFake",
            "@type": "Organization",
            "name": "University of Canberra"
           }
          ]
         },
         "s3": {
          "bucket_name": "dev-rrap-storage-bucket",
          "path": "datasets/10378-1-1687286/",
          "s3_uri": "s3://dev-rrap-storage-bucket/datasets/10378-1-1687286/"
         },
         "updated_time": "2022-06-30T06:02:45.528431"
        },
        {
         "collection_format": {
          "author": {
           "email": "peter.baker1626@gmail.com",
           "name": "Peter Baker",
           "orcid": null,
           "organisation": {
            "name": "ANU",
            "ror": null
           }
          },
          "dataset_info": {
           "created_date": "2021-12-25",
           "description": "Results of counterfactual model run",
           "keywords": null,
           "license": "https://creativecommons.org/licenses/by/4.0/",
           "name": "Coral results 2021-02-30",
           "published_date": "2021-12-25",
           "publisher": {
            "name": "University of Canberra",
            "ror": null
           },
           "version": null
          }
         },
         "created_time": "2022-06-30T01:18:34.749681",
         "handle": "10378.1/1687280",
         "rocrate_metadata": {
          "@context": [
           "https://w3id.org/ro/crate/1.1/context",
           {
            "@vocab": "https://schema.org/"
           }
          ],
          "@graph": [
           {
            "@id": "ro-crate-metadata.json",
            "@type": "CreativeWork",
            "about": {
             "@id": "./"
            },
            "author": {
             "@id": "record/author"
            },
            "conformsTo": {
             "@id": "https://w3id.org/ro/crate/1.1"
            },
            "dateCreated": "2022-06-30",
            "dateModified": "2022-06-30",
            "datePublished": "2022-06-30"
           },
           {
            "@id": "record/author",
            "@type": [
             "Person",
             "ContactPoint"
            ],
            "email": "peter.baker1626@gmail.com",
            "name": "Peter Baker",
            "worksFor": {
             "@id": "record/author/worksFor"
            }
           },
           {
            "@id": "record/author/worksFor",
            "@type": "Organization",
            "name": "ANU"
           },
           {
            "@id": "./",
            "@type": "Dataset",
            "dateCreated": "2021-12-25",
            "datePublished": "2021-12-25",
            "description": "Results of counterfactual model run",
            "identifier": "10378.1/1687280",
            "license": {
             "@id": "https://creativecommons.org/licenses/by/4.0/"
            },
            "name": "Coral results 2021-02-30",
            "publisher": {
             "@id": "dataset/publisher"
            }
           },
           {
            "@id": "dataset/publisher",
            "@type": "Organization",
            "name": "University of Canberra"
           }
          ]
         },
         "s3": {
          "bucket_name": "dev-rrap-storage-bucket",
          "path": "datasets/10378-1-1687280/",
          "s3_uri": "s3://dev-rrap-storage-bucket/datasets/10378-1-1687280/"
         },
         "updated_time": "2022-06-30T01:18:34.749681"
        },
        {
         "collection_format": {
          "author": {
           "email": "rosspetridis@gmail.com",
           "name": "Ross Petridis",
           "orcid": "https://orcid.org/0000-0002-7190-5187",
           "organisation": {
            "name": "University of Melbourne",
            "ror": "https://ror.org/00rqy9422"
           }
          },
          "dataset_info": {
           "created_date": "2021-12-25",
           "description": "Results of counterfactual model run - updated",
           "keywords": [
            "keyword1",
            "keyword2",
            "coralLover"
           ],
           "license": "https://creativecommons.org/licenses/by/4.0/",
           "name": "Coral results 2021-02-30 - updated",
           "published_date": "2021-12-25",
           "publisher": {
            "name": "University of Melbourne",
            "ror": "https://ror.org/00rqy9422"
           },
           "version": "1.2.6"
          }
         },
         "created_time": "2022-06-08T05:29:50.023825",
         "handle": "10378.1/1686902",
         "rocrate_metadata": {
          "@context": [
           "https://w3id.org/ro/crate/1.1/context",
           {
            "@vocab": "https://schema.org/"
           }
          ],
          "@graph": [
           {
            "@id": "ro-crate-metadata.json",
            "@type": "CreativeWork",
            "about": {
             "@id": "./"
            },
            "author": {
             "@id": "https://orcid.org/0000-0002-7190-5187"
            },
            "conformsTo": {
             "@id": "https://w3id.org/ro/crate/1.1"
            },
            "dateCreated": "2022-06-08",
            "dateModified": "2022-06-08",
            "datePublished": "2022-06-08"
           },
           {
            "@id": "https://orcid.org/0000-0002-7190-5187",
            "@type": [
             "Person",
             "ContactPoint"
            ],
            "email": "rosspetridis@gmail.com",
            "name": "Ross Petridis",
            "worksFor": {
             "@id": "https://ror.org/00rqy9422"
            }
           },
           {
            "@id": "https://ror.org/00rqy9422",
            "@type": "Organization",
            "name": "University of Melbourne"
           },
           {
            "@id": "./",
            "@type": "Dataset",
            "dateCreated": "2021-12-25",
            "datePublished": "2021-12-25",
            "description": "Results of counterfactual model run - updated",
            "identifier": "10378.1/1686902",
            "keywords": [
             "keyword1",
             "keyword2",
             "coralLover"
            ],
            "license": {
             "@id": "https://creativecommons.org/licenses/by/4.0/"
            },
            "name": "Coral results 2021-02-30 - updated",
            "publisher": {
             "@id": "https://ror.org/00rqy9422"
            },
            "version": "1.2.6"
           }
          ]
         },
         "s3": {
          "bucket_name": "dev-rrap-storage-bucket",
          "path": "datasets/10378-1-1686902/",
          "s3_uri": "s3://dev-rrap-storage-bucket/datasets/10378-1-1686902/"
         },
         "updated_time": "2022-06-08T05:29:50.328636"
        },
        {
         "collection_format": {
          "author": {
           "email": "peter.baker1626@gmail.com",
           "name": "Peter Baker",
           "orcid": null,
           "organisation": {
            "name": "ANU",
            "ror": null
           }
          },
          "dataset_info": {
           "created_date": "2021-12-25",
           "description": "Results of counterfactual model run",
           "keywords": null,
           "license": "https://creativecommons.org/licenses/by/4.0/",
           "name": "Coral results 2021-02-30",
           "published_date": "2021-12-25",
           "publisher": {
            "name": "University of Canberra",
            "ror": null
           },
           "version": null
          }
         },
         "created_time": "2022-07-07T06:33:47.013820",
         "handle": "10378.1/1687368",
         "rocrate_metadata": {
          "@context": [
           "https://w3id.org/ro/crate/1.1/context",
           {
            "@vocab": "https://schema.org/"
           }
          ],
          "@graph": [
           {
            "@id": "ro-crate-metadata.json",
            "@type": "CreativeWork",
            "about": {
             "@id": "./"
            },
            "author": {
             "@id": "record/author"
            },
            "conformsTo": {
             "@id": "https://w3id.org/ro/crate/1.1"
            },
            "dateCreated": "2022-07-07",
            "dateModified": "2022-07-07",
            "datePublished": "2022-07-07"
           },
           {
            "@id": "record/author",
            "@type": [
             "Person",
             "ContactPoint"
            ],
            "email": "peter.baker1626@gmail.com",
            "name": "Peter Baker",
            "worksFor": {
             "@id": "record/author/worksFor"
            }
           },
           {
            "@id": "record/author/worksFor",
            "@type": "Organization",
            "name": "ANU"
           },
           {
            "@id": "./",
            "@type": "Dataset",
            "dateCreated": "2021-12-25",
            "datePublished": "2021-12-25",
            "description": "Results of counterfactual model run",
            "identifier": "10378.1/1687368",
            "license": {
             "@id": "https://creativecommons.org/licenses/by/4.0/"
            },
            "name": "Coral results 2021-02-30",
            "publisher": {
             "@id": "dataset/publisher"
            }
           },
           {
            "@id": "dataset/publisher",
            "@type": "Organization",
            "name": "University of Canberra"
           }
          ]
         },
         "s3": {
          "bucket_name": "dev-rrap-storage-bucket",
          "path": "datasets/10378-1-1687368/",
          "s3_uri": "s3://dev-rrap-storage-bucket/datasets/10378-1-1687368/"
         },
         "updated_time": "2022-07-07T06:33:47.013820"
        },
        {
         "collection_format": {
          "author": {
           "email": "peter.baker1626@gmail.com",
           "name": "Peter Baker",
           "orcid": "https://orcid.org/0000-0002-7190-5187",
           "organisation": {
            "name": "ANU",
            "ror": "https://ror.org/ANUfake"
           }
          },
          "dataset_info": {
           "created_date": "2021-12-25",
           "description": "Results of counterfactual model run",
           "keywords": [
            "keyword1",
            "keyword2"
           ],
           "license": "https://creativecommons.org/licenses/by/4.0/",
           "name": "Coral results 2021-02-30",
           "published_date": "2021-12-25",
           "publisher": {
            "name": "University of Canberra",
            "ror": "https://ror.org/UCFake"
           },
           "version": "1.2.4"
          }
         },
         "created_time": "2022-06-06T00:12:55.806071",
         "handle": "10378.1/1686823",
         "rocrate_metadata": {
          "@context": [
           "https://w3id.org/ro/crate/1.1/context",
           {
            "@vocab": "https://schema.org/"
           }
          ],
          "@graph": [
           {
            "@id": "ro-crate-metadata.json",
            "@type": "CreativeWork",
            "about": {
             "@id": "./"
            },
            "author": {
             "@id": "https://orcid.org/0000-0002-7190-5187"
            },
            "conformsTo": {
             "@id": "https://w3id.org/ro/crate/1.1"
            },
            "dateCreated": "2022-06-06",
            "dateModified": "2022-06-06",
            "datePublished": "2022-06-06"
           },
           {
            "@id": "https://orcid.org/0000-0002-7190-5187",
            "@type": [
             "Person",
             "ContactPoint"
            ],
            "email": "peter.baker1626@gmail.com",
            "name": "Peter Baker",
            "worksFor": {
             "@id": "https://ror.org/ANUfake"
            }
           },
           {
            "@id": "https://ror.org/ANUfake",
            "@type": "Organization",
            "name": "ANU"
           },
           {
            "@id": "./",
            "@type": "Dataset",
            "dateCreated": "2021-12-25",
            "datePublished": "2021-12-25",
            "description": "Results of counterfactual model run",
            "identifier": "10378.1/1686823",
            "keywords": [
             "keyword1",
             "keyword2"
            ],
            "license": {
             "@id": "https://creativecommons.org/licenses/by/4.0/"
            },
            "name": "Coral results 2021-02-30",
            "publisher": {
             "@id": "https://ror.org/UCFake"
            },
            "version": "1.2.4"
           },
           {
            "@id": "https://ror.org/UCFake",
            "@type": "Organization",
            "name": "University of Canberra"
           }
          ]
         },
         "s3": {
          "bucket_name": "dev-rrap-storage-bucket",
          "path": "datasets/10378-1-1686823/",
          "s3_uri": "s3://dev-rrap-storage-bucket/datasets/10378-1-1686823/"
         },
         "updated_time": "2022-06-06T00:12:55.806071"
        },
        {
         "collection_format": {
          "author": {
           "email": "peter.baker1626@gmail.com",
           "name": "Peter Baker",
           "orcid": null,
           "organisation": {
            "name": "ANU",
            "ror": null
           }
          },
          "dataset_info": {
           "created_date": "2021-12-25",
           "description": "Results of counterfactual model run",
           "keywords": null,
           "license": "https://creativecommons.org/licenses/by/4.0/",
           "name": "Coral results 2021-02-30",
           "published_date": "2021-12-25",
           "publisher": {
            "name": "University of Canberra",
            "ror": null
           },
           "version": null
          }
         },
         "created_time": "2022-06-27T07:04:24.068429",
         "handle": "10378.1/1687241",
         "rocrate_metadata": {
          "@context": [
           "https://w3id.org/ro/crate/1.1/context",
           {
            "@vocab": "https://schema.org/"
           }
          ],
          "@graph": [
           {
            "@id": "ro-crate-metadata.json",
            "@type": "CreativeWork",
            "about": {
             "@id": "./"
            },
            "author": {
             "@id": "record/author"
            },
            "conformsTo": {
             "@id": "https://w3id.org/ro/crate/1.1"
            },
            "dateCreated": "2022-06-27",
            "dateModified": "2022-06-27",
            "datePublished": "2022-06-27"
           },
           {
            "@id": "record/author",
            "@type": [
             "Person",
             "ContactPoint"
            ],
            "email": "peter.baker1626@gmail.com",
            "name": "Peter Baker",
            "worksFor": {
             "@id": "record/author/worksFor"
            }
           },
           {
            "@id": "record/author/worksFor",
            "@type": "Organization",
            "name": "ANU"
           },
           {
            "@id": "./",
            "@type": "Dataset",
            "dateCreated": "2021-12-25",
            "datePublished": "2021-12-25",
            "description": "Results of counterfactual model run",
            "identifier": "10378.1/1687241",
            "license": {
             "@id": "https://creativecommons.org/licenses/by/4.0/"
            },
            "name": "Coral results 2021-02-30",
            "publisher": {
             "@id": "dataset/publisher"
            }
           },
           {
            "@id": "dataset/publisher",
            "@type": "Organization",
            "name": "University of Canberra"
           }
          ]
         },
         "s3": {
          "bucket_name": "dev-rrap-storage-bucket",
          "path": "datasets/10378-1-1687241/",
          "s3_uri": "s3://dev-rrap-storage-bucket/datasets/10378-1-1687241/"
         },
         "updated_time": "2022-06-27T07:04:24.068429"
        },
        {
         "collection_format": {
          "author": {
           "email": "rosspetridis@gmail.com",
           "name": "Ross Petridis",
           "orcid": "https://orcid.org/0000-0002-7190-5187",
           "organisation": {
            "name": "University of Melbourne",
            "ror": "https://ror.org/00rqy9422"
           }
          },
          "dataset_info": {
           "created_date": "2021-12-25",
           "description": "Results of counterfactual model run - updated",
           "keywords": [
            "keyword1",
            "keyword2",
            "coralLover"
           ],
           "license": "https://creativecommons.org/licenses/by/4.0/",
           "name": "Coral results 2021-02-30 - updated",
           "published_date": "2021-12-25",
           "publisher": {
            "name": "University of Melbourne",
            "ror": "https://ror.org/00rqy9422"
           },
           "version": "1.2.6"
          }
         },
         "created_time": "2022-06-30T06:02:53.875475",
         "handle": "10378.1/1687288",
         "rocrate_metadata": {
          "@context": [
           "https://w3id.org/ro/crate/1.1/context",
           {
            "@vocab": "https://schema.org/"
           }
          ],
          "@graph": [
           {
            "@id": "ro-crate-metadata.json",
            "@type": "CreativeWork",
            "about": {
             "@id": "./"
            },
            "author": {
             "@id": "https://orcid.org/0000-0002-7190-5187"
            },
            "conformsTo": {
             "@id": "https://w3id.org/ro/crate/1.1"
            },
            "dateCreated": "2022-06-30",
            "dateModified": "2022-07-01",
            "datePublished": "2022-07-01"
           },
           {
            "@id": "https://orcid.org/0000-0002-7190-5187",
            "@type": [
             "Person",
             "ContactPoint"
            ],
            "email": "rosspetridis@gmail.com",
            "name": "Ross Petridis",
            "worksFor": {
             "@id": "https://ror.org/00rqy9422"
            }
           },
           {
            "@id": "https://ror.org/00rqy9422",
            "@type": "Organization",
            "name": "University of Melbourne"
           },
           {
            "@id": "./",
            "@type": "Dataset",
            "dateCreated": "2021-12-25",
            "datePublished": "2021-12-25",
            "description": "Results of counterfactual model run - updated",
            "identifier": "10378.1/1687288",
            "keywords": [
             "keyword1",
             "keyword2",
             "coralLover"
            ],
            "license": {
             "@id": "https://creativecommons.org/licenses/by/4.0/"
            },
            "name": "Coral results 2021-02-30 - updated",
            "publisher": {
             "@id": "https://ror.org/00rqy9422"
            },
            "version": "1.2.6"
           }
          ]
         },
         "s3": {
          "bucket_name": "dev-rrap-storage-bucket",
          "path": "datasets/10378-1-1687288/",
          "s3_uri": "s3://dev-rrap-storage-bucket/datasets/10378-1-1687288/"
         },
         "updated_time": "2022-07-01T00:47:50.116958"
        },
        {
         "collection_format": {
          "author": {
           "email": "peter.baker1626@gmail.com",
           "name": "Peter Baker",
           "orcid": null,
           "organisation": {
            "name": "ANU",
            "ror": null
           }
          },
          "dataset_info": {
           "created_date": "2021-12-25",
           "description": "Results of counterfactual model run",
           "keywords": null,
           "license": "https://creativecommons.org/licenses/by/4.0/",
           "name": "Coral results 2021-02-30",
           "published_date": "2021-12-25",
           "publisher": {
            "name": "University of Canberra",
            "ror": null
           },
           "version": null
          }
         },
         "created_time": "2022-06-27T04:54:22.842609",
         "handle": "10378.1/1687236",
         "rocrate_metadata": {
          "@context": [
           "https://w3id.org/ro/crate/1.1/context",
           {
            "@vocab": "https://schema.org/"
           }
          ],
          "@graph": [
           {
            "@id": "ro-crate-metadata.json",
            "@type": "CreativeWork",
            "about": {
             "@id": "./"
            },
            "author": {
             "@id": "record/author"
            },
            "conformsTo": {
             "@id": "https://w3id.org/ro/crate/1.1"
            },
            "dateCreated": "2022-06-27",
            "dateModified": "2022-06-27",
            "datePublished": "2022-06-27"
           },
           {
            "@id": "record/author",
            "@type": [
             "Person",
             "ContactPoint"
            ],
            "email": "peter.baker1626@gmail.com",
            "name": "Peter Baker",
            "worksFor": {
             "@id": "record/author/worksFor"
            }
           },
           {
            "@id": "record/author/worksFor",
            "@type": "Organization",
            "name": "ANU"
           },
           {
            "@id": "./",
            "@type": "Dataset",
            "dateCreated": "2021-12-25",
            "datePublished": "2021-12-25",
            "description": "Results of counterfactual model run",
            "identifier": "10378.1/1687236",
            "license": {
             "@id": "https://creativecommons.org/licenses/by/4.0/"
            },
            "name": "Coral results 2021-02-30",
            "publisher": {
             "@id": "dataset/publisher"
            }
           },
           {
            "@id": "dataset/publisher",
            "@type": "Organization",
            "name": "University of Canberra"
           }
          ]
         },
         "s3": {
          "bucket_name": "dev-rrap-storage-bucket",
          "path": "datasets/10378-1-1687236/",
          "s3_uri": "s3://dev-rrap-storage-bucket/datasets/10378-1-1687236/"
         },
         "updated_time": "2022-06-27T04:54:22.842609"
        },
        {
         "collection_format": {
          "author": {
           "email": "peter.baker1626@gmail.com",
           "name": "Peter Baker",
           "orcid": null,
           "organisation": {
            "name": "ANU",
            "ror": null
           }
          },
          "dataset_info": {
           "created_date": "2021-12-25",
           "description": "Results of counterfactual model run",
           "keywords": null,
           "license": "https://creativecommons.org/licenses/by/4.0/",
           "name": "Coral results 2021-02-30",
           "published_date": "2021-12-25",
           "publisher": {
            "name": "University of Canberra",
            "ror": null
           },
           "version": null
          }
         },
         "created_time": "2022-06-28T03:58:06.170439",
         "handle": "10378.1/1687260",
         "rocrate_metadata": {
          "@context": [
           "https://w3id.org/ro/crate/1.1/context",
           {
            "@vocab": "https://schema.org/"
           }
          ],
          "@graph": [
           {
            "@id": "ro-crate-metadata.json",
            "@type": "CreativeWork",
            "about": {
             "@id": "./"
            },
            "author": {
             "@id": "record/author"
            },
            "conformsTo": {
             "@id": "https://w3id.org/ro/crate/1.1"
            },
            "dateCreated": "2022-06-28",
            "dateModified": "2022-06-28",
            "datePublished": "2022-06-28"
           },
           {
            "@id": "record/author",
            "@type": [
             "Person",
             "ContactPoint"
            ],
            "email": "peter.baker1626@gmail.com",
            "name": "Peter Baker",
            "worksFor": {
             "@id": "record/author/worksFor"
            }
           },
           {
            "@id": "record/author/worksFor",
            "@type": "Organization",
            "name": "ANU"
           },
           {
            "@id": "./",
            "@type": "Dataset",
            "dateCreated": "2021-12-25",
            "datePublished": "2021-12-25",
            "description": "Results of counterfactual model run",
            "identifier": "10378.1/1687260",
            "license": {
             "@id": "https://creativecommons.org/licenses/by/4.0/"
            },
            "name": "Coral results 2021-02-30",
            "publisher": {
             "@id": "dataset/publisher"
            }
           },
           {
            "@id": "dataset/publisher",
            "@type": "Organization",
            "name": "University of Canberra"
           }
          ]
         },
         "s3": {
          "bucket_name": "dev-rrap-storage-bucket",
          "path": "datasets/10378-1-1687260/",
          "s3_uri": "s3://dev-rrap-storage-bucket/datasets/10378-1-1687260/"
         },
         "updated_time": "2022-06-28T03:58:06.170439"
        },
        {
         "collection_format": {
          "author": {
           "email": "peter.baker1626@gmail.com",
           "name": "Peter Baker",
           "orcid": null,
           "organisation": {
            "name": "ANU",
            "ror": null
           }
          },
          "dataset_info": {
           "created_date": "2021-12-25",
           "description": "Results of counterfactual model run",
           "keywords": null,
           "license": "https://creativecommons.org/licenses/by/4.0/",
           "name": "Coral results 2021-02-30",
           "published_date": "2021-12-25",
           "publisher": {
            "name": "University of Canberra",
            "ror": null
           },
           "version": null
          }
         },
         "created_time": "2022-06-30T06:02:49.955032",
         "handle": "10378.1/1687287",
         "rocrate_metadata": {
          "@context": [
           "https://w3id.org/ro/crate/1.1/context",
           {
            "@vocab": "https://schema.org/"
           }
          ],
          "@graph": [
           {
            "@id": "ro-crate-metadata.json",
            "@type": "CreativeWork",
            "about": {
             "@id": "./"
            },
            "author": {
             "@id": "record/author"
            },
            "conformsTo": {
             "@id": "https://w3id.org/ro/crate/1.1"
            },
            "dateCreated": "2022-06-30",
            "dateModified": "2022-06-30",
            "datePublished": "2022-06-30"
           },
           {
            "@id": "record/author",
            "@type": [
             "Person",
             "ContactPoint"
            ],
            "email": "peter.baker1626@gmail.com",
            "name": "Peter Baker",
            "worksFor": {
             "@id": "record/author/worksFor"
            }
           },
           {
            "@id": "record/author/worksFor",
            "@type": "Organization",
            "name": "ANU"
           },
           {
            "@id": "./",
            "@type": "Dataset",
            "dateCreated": "2021-12-25",
            "datePublished": "2021-12-25",
            "description": "Results of counterfactual model run",
            "identifier": "10378.1/1687287",
            "license": {
             "@id": "https://creativecommons.org/licenses/by/4.0/"
            },
            "name": "Coral results 2021-02-30",
            "publisher": {
             "@id": "dataset/publisher"
            }
           },
           {
            "@id": "dataset/publisher",
            "@type": "Organization",
            "name": "University of Canberra"
           }
          ]
         },
         "s3": {
          "bucket_name": "dev-rrap-storage-bucket",
          "path": "datasets/10378-1-1687287/",
          "s3_uri": "s3://dev-rrap-storage-bucket/datasets/10378-1-1687287/"
         },
         "updated_time": "2022-06-30T06:02:49.955032"
        },
        {
         "collection_format": {
          "author": {
           "email": "peter.baker1626@gmail.com",
           "name": "Peter Baker",
           "orcid": "https://orcid.org/0000-0002-7190-5187",
           "organisation": {
            "name": "ANU",
            "ror": "https://ror.org/ANUfake"
           }
          },
          "dataset_info": {
           "created_date": "2021-12-25",
           "description": "Results of counterfactual model run",
           "keywords": [
            "keyword1",
            "keyword2"
           ],
           "license": "https://creativecommons.org/licenses/by/4.0/",
           "name": "Coral results 2021-02-30",
           "published_date": "2021-12-25",
           "publisher": {
            "name": "University of Canberra",
            "ror": "https://ror.org/UCFake"
           },
           "version": "1.2.4"
          }
         },
         "created_time": "2022-06-28T07:37:36.754998",
         "handle": "10378.1/1687267",
         "rocrate_metadata": {
          "@context": [
           "https://w3id.org/ro/crate/1.1/context",
           {
            "@vocab": "https://schema.org/"
           }
          ],
          "@graph": [
           {
            "@id": "ro-crate-metadata.json",
            "@type": "CreativeWork",
            "about": {
             "@id": "./"
            },
            "author": {
             "@id": "https://orcid.org/0000-0002-7190-5187"
            },
            "conformsTo": {
             "@id": "https://w3id.org/ro/crate/1.1"
            },
            "dateCreated": "2022-06-28",
            "dateModified": "2022-06-28",
            "datePublished": "2022-06-28"
           },
           {
            "@id": "https://orcid.org/0000-0002-7190-5187",
            "@type": [
             "Person",
             "ContactPoint"
            ],
            "email": "peter.baker1626@gmail.com",
            "name": "Peter Baker",
            "worksFor": {
             "@id": "https://ror.org/ANUfake"
            }
           },
           {
            "@id": "https://ror.org/ANUfake",
            "@type": "Organization",
            "name": "ANU"
           },
           {
            "@id": "./",
            "@type": "Dataset",
            "dateCreated": "2021-12-25",
            "datePublished": "2021-12-25",
            "description": "Results of counterfactual model run",
            "identifier": "10378.1/1687267",
            "keywords": [
             "keyword1",
             "keyword2"
            ],
            "license": {
             "@id": "https://creativecommons.org/licenses/by/4.0/"
            },
            "name": "Coral results 2021-02-30",
            "publisher": {
             "@id": "https://ror.org/UCFake"
            },
            "version": "1.2.4"
           },
           {
            "@id": "https://ror.org/UCFake",
            "@type": "Organization",
            "name": "University of Canberra"
           }
          ]
         },
         "s3": {
          "bucket_name": "dev-rrap-storage-bucket",
          "path": "datasets/10378-1-1687267/",
          "s3_uri": "s3://dev-rrap-storage-bucket/datasets/10378-1-1687267/"
         },
         "updated_time": "2022-06-28T07:37:36.754998"
        },
        {
         "collection_format": {
          "author": {
           "email": "peter.baker1626@gmail.com",
           "name": "Peter Baker",
           "orcid": "https://orcid.org/0000-0002-7190-5187",
           "organisation": {
            "name": "ANU",
            "ror": "https://ror.org/ANUfake"
           }
          },
          "dataset_info": {
           "created_date": "2021-12-25",
           "description": "Results of counterfactual model run",
           "keywords": [
            "keyword1",
            "keyword2"
           ],
           "license": "https://creativecommons.org/licenses/by/4.0/",
           "name": "Coral results 2021-02-30",
           "published_date": "2021-12-25",
           "publisher": {
            "name": "University of Canberra",
            "ror": "https://ror.org/UCFake"
           },
           "version": "1.2.4"
          }
         },
         "created_time": "2022-06-24T02:16:00.507929",
         "handle": "10378.1/1687206",
         "rocrate_metadata": {
          "@context": [
           "https://w3id.org/ro/crate/1.1/context",
           {
            "@vocab": "https://schema.org/"
           }
          ],
          "@graph": [
           {
            "@id": "ro-crate-metadata.json",
            "@type": "CreativeWork",
            "about": {
             "@id": "./"
            },
            "author": {
             "@id": "https://orcid.org/0000-0002-7190-5187"
            },
            "conformsTo": {
             "@id": "https://w3id.org/ro/crate/1.1"
            },
            "dateCreated": "2022-06-24",
            "dateModified": "2022-06-24",
            "datePublished": "2022-06-24"
           },
           {
            "@id": "https://orcid.org/0000-0002-7190-5187",
            "@type": [
             "Person",
             "ContactPoint"
            ],
            "email": "peter.baker1626@gmail.com",
            "name": "Peter Baker",
            "worksFor": {
             "@id": "https://ror.org/ANUfake"
            }
           },
           {
            "@id": "https://ror.org/ANUfake",
            "@type": "Organization",
            "name": "ANU"
           },
           {
            "@id": "./",
            "@type": "Dataset",
            "dateCreated": "2021-12-25",
            "datePublished": "2021-12-25",
            "description": "Results of counterfactual model run",
            "identifier": "10378.1/1687206",
            "keywords": [
             "keyword1",
             "keyword2"
            ],
            "license": {
             "@id": "https://creativecommons.org/licenses/by/4.0/"
            },
            "name": "Coral results 2021-02-30",
            "publisher": {
             "@id": "https://ror.org/UCFake"
            },
            "version": "1.2.4"
           },
           {
            "@id": "https://ror.org/UCFake",
            "@type": "Organization",
            "name": "University of Canberra"
           }
          ]
         },
         "s3": {
          "bucket_name": "dev-rrap-storage-bucket",
          "path": "datasets/10378-1-1687206/",
          "s3_uri": "s3://dev-rrap-storage-bucket/datasets/10378-1-1687206/"
         },
         "updated_time": "2022-06-24T02:16:00.507929"
        },
        {
         "collection_format": {
          "author": {
           "email": "rosspetridis@gmail.com",
           "name": "Ross Petridis",
           "orcid": "https://orcid.org/0000-0002-7190-5187",
           "organisation": {
            "name": "University of Melbourne",
            "ror": "https://ror.org/00rqy9422"
           }
          },
          "dataset_info": {
           "created_date": "2021-12-25",
           "description": "Results of counterfactual model run - updated",
           "keywords": [
            "keyword1",
            "keyword2",
            "coralLover"
           ],
           "license": "https://creativecommons.org/licenses/by/4.0/",
           "name": "Coral results 2021-02-30 - updated",
           "published_date": "2021-12-25",
           "publisher": {
            "name": "University of Melbourne",
            "ror": "https://ror.org/00rqy9422"
           },
           "version": "1.2.6"
          }
         },
         "created_time": "2022-06-27T07:04:28.568891",
         "handle": "10378.1/1687242",
         "rocrate_metadata": {
          "@context": [
           "https://w3id.org/ro/crate/1.1/context",
           {
            "@vocab": "https://schema.org/"
           }
          ],
          "@graph": [
           {
            "@id": "ro-crate-metadata.json",
            "@type": "CreativeWork",
            "about": {
             "@id": "./"
            },
            "author": {
             "@id": "https://orcid.org/0000-0002-7190-5187"
            },
            "conformsTo": {
             "@id": "https://w3id.org/ro/crate/1.1"
            },
            "dateCreated": "2022-06-27",
            "dateModified": "2022-06-28",
            "datePublished": "2022-06-28"
           },
           {
            "@id": "https://orcid.org/0000-0002-7190-5187",
            "@type": [
             "Person",
             "ContactPoint"
            ],
            "email": "rosspetridis@gmail.com",
            "name": "Ross Petridis",
            "worksFor": {
             "@id": "https://ror.org/00rqy9422"
            }
           },
           {
            "@id": "https://ror.org/00rqy9422",
            "@type": "Organization",
            "name": "University of Melbourne"
           },
           {
            "@id": "./",
            "@type": "Dataset",
            "dateCreated": "2021-12-25",
            "datePublished": "2021-12-25",
            "description": "Results of counterfactual model run - updated",
            "identifier": "10378.1/1687242",
            "keywords": [
             "keyword1",
             "keyword2",
             "coralLover"
            ],
            "license": {
             "@id": "https://creativecommons.org/licenses/by/4.0/"
            },
            "name": "Coral results 2021-02-30 - updated",
            "publisher": {
             "@id": "https://ror.org/00rqy9422"
            },
            "version": "1.2.6"
           }
          ]
         },
         "s3": {
          "bucket_name": "dev-rrap-storage-bucket",
          "path": "datasets/10378-1-1687242/",
          "s3_uri": "s3://dev-rrap-storage-bucket/datasets/10378-1-1687242/"
         },
         "updated_time": "2022-06-28T01:30:07.357489"
        },
        {
         "collection_format": {
          "author": {
           "email": "rosspetridis@gmail.com",
           "name": "Ross Petridis",
           "orcid": "https://orcid.org/0000-0002-7190-5187",
           "organisation": {
            "name": "University of Melbourne",
            "ror": "https://ror.org/00rqy9422"
           }
          },
          "dataset_info": {
           "created_date": "2021-12-25",
           "description": "Results of counterfactual model run - updated",
           "keywords": [
            "keyword1",
            "keyword2",
            "coralLover"
           ],
           "license": "https://creativecommons.org/licenses/by/4.0/",
           "name": "Coral results 2021-02-30 - updated",
           "published_date": "2021-12-25",
           "publisher": {
            "name": "University of Melbourne",
            "ror": "https://ror.org/00rqy9422"
           },
           "version": "1.2.6"
          }
         },
         "created_time": "2022-06-06T03:06:35.568399",
         "handle": "10378.1/1686858",
         "rocrate_metadata": {
          "@context": [
           "https://w3id.org/ro/crate/1.1/context",
           {
            "@vocab": "https://schema.org/"
           }
          ],
          "@graph": [
           {
            "@id": "ro-crate-metadata.json",
            "@type": "CreativeWork",
            "about": {
             "@id": "./"
            },
            "author": {
             "@id": "https://orcid.org/0000-0002-7190-5187"
            },
            "conformsTo": {
             "@id": "https://w3id.org/ro/crate/1.1"
            },
            "dateCreated": "2022-06-06",
            "dateModified": "2022-06-06",
            "datePublished": "2022-06-06"
           },
           {
            "@id": "https://orcid.org/0000-0002-7190-5187",
            "@type": [
             "Person",
             "ContactPoint"
            ],
            "email": "rosspetridis@gmail.com",
            "name": "Ross Petridis",
            "worksFor": {
             "@id": "https://ror.org/00rqy9422"
            }
           },
           {
            "@id": "https://ror.org/00rqy9422",
            "@type": "Organization",
            "name": "University of Melbourne"
           },
           {
            "@id": "./",
            "@type": "Dataset",
            "dateCreated": "2021-12-25",
            "datePublished": "2021-12-25",
            "description": "Results of counterfactual model run - updated",
            "identifier": "10378.1/1686858",
            "keywords": [
             "keyword1",
             "keyword2",
             "coralLover"
            ],
            "license": {
             "@id": "https://creativecommons.org/licenses/by/4.0/"
            },
            "name": "Coral results 2021-02-30 - updated",
            "publisher": {
             "@id": "https://ror.org/00rqy9422"
            },
            "version": "1.2.6"
           }
          ]
         },
         "s3": {
          "bucket_name": "dev-rrap-storage-bucket",
          "path": "datasets/10378-1-1686858/",
          "s3_uri": "s3://dev-rrap-storage-bucket/datasets/10378-1-1686858/"
         },
         "updated_time": "2022-06-06T03:06:35.874247"
        },
        {
         "collection_format": {
          "author": {
           "email": "rosspetridis@gmail.com",
           "name": "Ross Petridis",
           "orcid": "https://orcid.org/0000-0002-7190-5187",
           "organisation": {
            "name": "University of Melbourne",
            "ror": "https://ror.org/00rqy9422"
           }
          },
          "dataset_info": {
           "created_date": "2021-12-25",
           "description": "Results of counterfactual model run - updated",
           "keywords": [
            "keyword1",
            "keyword2",
            "coralLover"
           ],
           "license": "https://creativecommons.org/licenses/by/4.0/",
           "name": "Coral results 2021-02-30 - updated",
           "published_date": "2021-12-25",
           "publisher": {
            "name": "University of Melbourne",
            "ror": "https://ror.org/00rqy9422"
           },
           "version": "1.2.6"
          }
         },
         "created_time": "2022-06-28T02:13:33.788949",
         "handle": "10378.1/1687250",
         "rocrate_metadata": {
          "@context": [
           "https://w3id.org/ro/crate/1.1/context",
           {
            "@vocab": "https://schema.org/"
           }
          ],
          "@graph": [
           {
            "@id": "ro-crate-metadata.json",
            "@type": "CreativeWork",
            "about": {
             "@id": "./"
            },
            "author": {
             "@id": "https://orcid.org/0000-0002-7190-5187"
            },
            "conformsTo": {
             "@id": "https://w3id.org/ro/crate/1.1"
            },
            "dateCreated": "2022-06-28",
            "dateModified": "2022-06-28",
            "datePublished": "2022-06-28"
           },
           {
            "@id": "https://orcid.org/0000-0002-7190-5187",
            "@type": [
             "Person",
             "ContactPoint"
            ],
            "email": "rosspetridis@gmail.com",
            "name": "Ross Petridis",
            "worksFor": {
             "@id": "https://ror.org/00rqy9422"
            }
           },
           {
            "@id": "https://ror.org/00rqy9422",
            "@type": "Organization",
            "name": "University of Melbourne"
           },
           {
            "@id": "./",
            "@type": "Dataset",
            "dateCreated": "2021-12-25",
            "datePublished": "2021-12-25",
            "description": "Results of counterfactual model run - updated",
            "identifier": "10378.1/1687250",
            "keywords": [
             "keyword1",
             "keyword2",
             "coralLover"
            ],
            "license": {
             "@id": "https://creativecommons.org/licenses/by/4.0/"
            },
            "name": "Coral results 2021-02-30 - updated",
            "publisher": {
             "@id": "https://ror.org/00rqy9422"
            },
            "version": "1.2.6"
           }
          ]
         },
         "s3": {
          "bucket_name": "dev-rrap-storage-bucket",
          "path": "datasets/10378-1-1687250/",
          "s3_uri": "s3://dev-rrap-storage-bucket/datasets/10378-1-1687250/"
         },
         "updated_time": "2022-06-28T02:28:59.521436"
        },
        {
         "collection_format": {
          "author": {
           "email": "rosspetridis@gmail.com",
           "name": "Ross Petridis",
           "orcid": "https://orcid.org/0000-0002-7190-5187",
           "organisation": {
            "name": "University of Melbourne",
            "ror": "https://ror.org/00rqy9422"
           }
          },
          "dataset_info": {
           "created_date": "2021-12-25",
           "description": "Results of counterfactual model run - updated",
           "keywords": [
            "keyword1",
            "keyword2",
            "coralLover"
           ],
           "license": "https://creativecommons.org/licenses/by/4.0/",
           "name": "Coral results 2021-02-30 - updated",
           "published_date": "2021-12-25",
           "publisher": {
            "name": "University of Melbourne",
            "ror": "https://ror.org/00rqy9422"
           },
           "version": "1.2.6"
          }
         },
         "created_time": "2022-06-17T05:46:38.799226",
         "handle": "10378.1/1686982",
         "rocrate_metadata": {
          "@context": [
           "https://w3id.org/ro/crate/1.1/context",
           {
            "@vocab": "https://schema.org/"
           }
          ],
          "@graph": [
           {
            "@id": "ro-crate-metadata.json",
            "@type": "CreativeWork",
            "about": {
             "@id": "./"
            },
            "author": {
             "@id": "https://orcid.org/0000-0002-7190-5187"
            },
            "conformsTo": {
             "@id": "https://w3id.org/ro/crate/1.1"
            },
            "dateCreated": "2022-06-17",
            "dateModified": "2022-06-17",
            "datePublished": "2022-06-17"
           },
           {
            "@id": "https://orcid.org/0000-0002-7190-5187",
            "@type": [
             "Person",
             "ContactPoint"
            ],
            "email": "rosspetridis@gmail.com",
            "name": "Ross Petridis",
            "worksFor": {
             "@id": "https://ror.org/00rqy9422"
            }
           },
           {
            "@id": "https://ror.org/00rqy9422",
            "@type": "Organization",
            "name": "University of Melbourne"
           },
           {
            "@id": "./",
            "@type": "Dataset",
            "dateCreated": "2021-12-25",
            "datePublished": "2021-12-25",
            "description": "Results of counterfactual model run - updated",
            "identifier": "10378.1/1686982",
            "keywords": [
             "keyword1",
             "keyword2",
             "coralLover"
            ],
            "license": {
             "@id": "https://creativecommons.org/licenses/by/4.0/"
            },
            "name": "Coral results 2021-02-30 - updated",
            "publisher": {
             "@id": "https://ror.org/00rqy9422"
            },
            "version": "1.2.6"
           }
          ]
         },
         "s3": {
          "bucket_name": "dev-rrap-storage-bucket",
          "path": "datasets/10378-1-1686982/",
          "s3_uri": "s3://dev-rrap-storage-bucket/datasets/10378-1-1686982/"
         },
         "updated_time": "2022-06-17T05:46:39.114905"
        },
        {
         "collection_format": {
          "author": {
           "email": "peter.baker1626@gmail.com",
           "name": "Peter Baker",
           "orcid": null,
           "organisation": {
            "name": "ANU",
            "ror": null
           }
          },
          "dataset_info": {
           "created_date": "2021-12-25",
           "description": "Results of counterfactual model run",
           "keywords": null,
           "license": "https://creativecommons.org/licenses/by/4.0/",
           "name": "Coral results 2021-02-30",
           "published_date": "2021-12-25",
           "publisher": {
            "name": "University of Canberra",
            "ror": null
           },
           "version": null
          }
         },
         "created_time": "2022-07-19T23:51:29.379525",
         "handle": "10378.1/1687595",
         "rocrate_metadata": {
          "@context": [
           "https://w3id.org/ro/crate/1.1/context",
           {
            "@vocab": "https://schema.org/"
           }
          ],
          "@graph": [
           {
            "@id": "ro-crate-metadata.json",
            "@type": "CreativeWork",
            "about": {
             "@id": "./"
            },
            "author": {
             "@id": "record/author"
            },
            "conformsTo": {
             "@id": "https://w3id.org/ro/crate/1.1"
            },
            "dateCreated": "2022-07-19",
            "dateModified": "2022-07-19",
            "datePublished": "2022-07-19"
           },
           {
            "@id": "record/author",
            "@type": [
             "Person",
             "ContactPoint"
            ],
            "email": "peter.baker1626@gmail.com",
            "name": "Peter Baker",
            "worksFor": {
             "@id": "record/author/worksFor"
            }
           },
           {
            "@id": "record/author/worksFor",
            "@type": "Organization",
            "name": "ANU"
           },
           {
            "@id": "./",
            "@type": "Dataset",
            "dateCreated": "2021-12-25",
            "datePublished": "2021-12-25",
            "description": "Results of counterfactual model run",
            "identifier": "10378.1/1687595",
            "license": {
             "@id": "https://creativecommons.org/licenses/by/4.0/"
            },
            "name": "Coral results 2021-02-30",
            "publisher": {
             "@id": "dataset/publisher"
            }
           },
           {
            "@id": "dataset/publisher",
            "@type": "Organization",
            "name": "University of Canberra"
           }
          ]
         },
         "s3": {
          "bucket_name": "dev-rrap-storage-bucket",
          "path": "datasets/10378-1-1687595/",
          "s3_uri": "s3://dev-rrap-storage-bucket/datasets/10378-1-1687595/"
         },
         "updated_time": "2022-07-19T23:51:29.379525"
        },
        {
         "collection_format": {
          "author": {
           "email": "peter.baker122@csiro.au",
           "name": "Peter Baker",
           "orcid": "https://orcid.org/0000-0002-9821-4079",
           "organisation": {
            "name": "CSIRO Oceans and Atmosphere",
            "ror": "https://ror.org/026nh4520"
           }
          },
          "dataset_info": {
           "created_date": "2022-07-01",
           "description": "Test",
           "keywords": null,
           "license": "https://gbrrestoration.github.io/rrap-mds-knowledge-hub/information-system/licenses.html#copyright-all-rights-reserved-",
           "name": "Test",
           "published_date": "2022-07-01",
           "publisher": {
            "name": "Australian National University",
            "ror": "https://ror.org/019wvm592"
           },
           "version": null
          }
         },
         "created_time": "2022-07-01T11:58:00.696137",
         "handle": "10378.1/1687304",
         "rocrate_metadata": {
          "@context": [
           "https://w3id.org/ro/crate/1.1/context",
           {
            "@vocab": "https://schema.org/"
           }
          ],
          "@graph": [
           {
            "@id": "ro-crate-metadata.json",
            "@type": "CreativeWork",
            "about": {
             "@id": "./"
            },
            "author": {
             "@id": "https://orcid.org/0000-0002-9821-4079"
            },
            "conformsTo": {
             "@id": "https://w3id.org/ro/crate/1.1"
            },
            "dateCreated": "2022-07-01",
            "dateModified": "2022-07-01",
            "datePublished": "2022-07-01"
           },
           {
            "@id": "https://orcid.org/0000-0002-9821-4079",
            "@type": [
             "Person",
             "ContactPoint"
            ],
            "email": "peter.baker122@csiro.au",
            "name": "Peter Baker",
            "worksFor": {
             "@id": "https://ror.org/026nh4520"
            }
           },
           {
            "@id": "https://ror.org/026nh4520",
            "@type": "Organization",
            "name": "CSIRO Oceans and Atmosphere"
           },
           {
            "@id": "./",
            "@type": "Dataset",
            "dateCreated": "2022-07-01",
            "datePublished": "2022-07-01",
            "description": "Test",
            "identifier": "10378.1/1687304",
            "license": {
             "@id": "https://gbrrestoration.github.io/rrap-mds-knowledge-hub/information-system/licenses.html#copyright-all-rights-reserved-"
            },
            "name": "Test",
            "publisher": {
             "@id": "https://ror.org/019wvm592"
            }
           },
           {
            "@id": "https://ror.org/019wvm592",
            "@type": "Organization",
            "name": "Australian National University"
           }
          ]
         },
         "s3": {
          "bucket_name": "dev-rrap-storage-bucket",
          "path": "datasets/10378-1-1687304/",
          "s3_uri": "s3://dev-rrap-storage-bucket/datasets/10378-1-1687304/"
         },
         "updated_time": "2022-07-01T11:58:00.696137"
        },
        {
         "collection_format": {
          "author": {
           "email": "peter.baker1626@gmail.com",
           "name": "Peter Baker",
           "orcid": null,
           "organisation": {
            "name": "ANU",
            "ror": null
           }
          },
          "dataset_info": {
           "created_date": "2021-12-25",
           "description": "Results of counterfactual model run",
           "keywords": null,
           "license": "https://creativecommons.org/licenses/by/4.0/",
           "name": "Coral results 2021-02-30",
           "published_date": "2021-12-25",
           "publisher": {
            "name": "University of Canberra",
            "ror": null
           },
           "version": null
          }
         },
         "created_time": "2022-06-17T05:46:34.828740",
         "handle": "10378.1/1686981",
         "rocrate_metadata": {
          "@context": [
           "https://w3id.org/ro/crate/1.1/context",
           {
            "@vocab": "https://schema.org/"
           }
          ],
          "@graph": [
           {
            "@id": "ro-crate-metadata.json",
            "@type": "CreativeWork",
            "about": {
             "@id": "./"
            },
            "author": {
             "@id": "record/author"
            },
            "conformsTo": {
             "@id": "https://w3id.org/ro/crate/1.1"
            },
            "dateCreated": "2022-06-17",
            "dateModified": "2022-06-17",
            "datePublished": "2022-06-17"
           },
           {
            "@id": "record/author",
            "@type": [
             "Person",
             "ContactPoint"
            ],
            "email": "peter.baker1626@gmail.com",
            "name": "Peter Baker",
            "worksFor": {
             "@id": "record/author/worksFor"
            }
           },
           {
            "@id": "record/author/worksFor",
            "@type": "Organization",
            "name": "ANU"
           },
           {
            "@id": "./",
            "@type": "Dataset",
            "dateCreated": "2021-12-25",
            "datePublished": "2021-12-25",
            "description": "Results of counterfactual model run",
            "identifier": "10378.1/1686981",
            "license": {
             "@id": "https://creativecommons.org/licenses/by/4.0/"
            },
            "name": "Coral results 2021-02-30",
            "publisher": {
             "@id": "dataset/publisher"
            }
           },
           {
            "@id": "dataset/publisher",
            "@type": "Organization",
            "name": "University of Canberra"
           }
          ]
         },
         "s3": {
          "bucket_name": "dev-rrap-storage-bucket",
          "path": "datasets/10378-1-1686981/",
          "s3_uri": "s3://dev-rrap-storage-bucket/datasets/10378-1-1686981/"
         },
         "updated_time": "2022-06-17T05:46:34.828740"
        },
        {
         "collection_format": {
          "author": {
           "email": "peter.baker1626@gmail.com",
           "name": "Peter Baker",
           "orcid": null,
           "organisation": {
            "name": "ANU",
            "ror": null
           }
          },
          "dataset_info": {
           "created_date": "2021-12-25",
           "description": "Results of counterfactual model run",
           "keywords": null,
           "license": "https://creativecommons.org/licenses/by/4.0/",
           "name": "Coral results 2021-02-30",
           "published_date": "2021-12-25",
           "publisher": {
            "name": "University of Canberra",
            "ror": null
           },
           "version": null
          }
         },
         "created_time": "2022-07-19T01:56:02.014285",
         "handle": "10378.1/1687571",
         "rocrate_metadata": {
          "@context": [
           "https://w3id.org/ro/crate/1.1/context",
           {
            "@vocab": "https://schema.org/"
           }
          ],
          "@graph": [
           {
            "@id": "ro-crate-metadata.json",
            "@type": "CreativeWork",
            "about": {
             "@id": "./"
            },
            "author": {
             "@id": "record/author"
            },
            "conformsTo": {
             "@id": "https://w3id.org/ro/crate/1.1"
            },
            "dateCreated": "2022-07-19",
            "dateModified": "2022-07-19",
            "datePublished": "2022-07-19"
           },
           {
            "@id": "record/author",
            "@type": [
             "Person",
             "ContactPoint"
            ],
            "email": "peter.baker1626@gmail.com",
            "name": "Peter Baker",
            "worksFor": {
             "@id": "record/author/worksFor"
            }
           },
           {
            "@id": "record/author/worksFor",
            "@type": "Organization",
            "name": "ANU"
           },
           {
            "@id": "./",
            "@type": "Dataset",
            "dateCreated": "2021-12-25",
            "datePublished": "2021-12-25",
            "description": "Results of counterfactual model run",
            "identifier": "10378.1/1687571",
            "license": {
             "@id": "https://creativecommons.org/licenses/by/4.0/"
            },
            "name": "Coral results 2021-02-30",
            "publisher": {
             "@id": "dataset/publisher"
            }
           },
           {
            "@id": "dataset/publisher",
            "@type": "Organization",
            "name": "University of Canberra"
           }
          ]
         },
         "s3": {
          "bucket_name": "dev-rrap-storage-bucket",
          "path": "datasets/10378-1-1687571/",
          "s3_uri": "s3://dev-rrap-storage-bucket/datasets/10378-1-1687571/"
         },
         "updated_time": "2022-07-19T01:56:02.014285"
        },
        {
         "collection_format": {
          "author": {
           "email": "rosspetridis@gmail.com",
           "name": "Ross Petridis",
           "orcid": "https://orcid.org/0000-0002-7190-5187",
           "organisation": {
            "name": "University of Melbourne",
            "ror": "https://ror.org/00rqy9422"
           }
          },
          "dataset_info": {
           "created_date": "2021-12-25",
           "description": "Results of counterfactual model run - updated",
           "keywords": [
            "keyword1",
            "keyword2",
            "coralLover"
           ],
           "license": "https://creativecommons.org/licenses/by/4.0/",
           "name": "Coral results 2021-02-30 - updated",
           "published_date": "2021-12-25",
           "publisher": {
            "name": "University of Melbourne",
            "ror": "https://ror.org/00rqy9422"
           },
           "version": "1.2.6"
          }
         },
         "created_time": "2022-07-07T06:33:50.876341",
         "handle": "10378.1/1687369",
         "rocrate_metadata": {
          "@context": [
           "https://w3id.org/ro/crate/1.1/context",
           {
            "@vocab": "https://schema.org/"
           }
          ],
          "@graph": [
           {
            "@id": "ro-crate-metadata.json",
            "@type": "CreativeWork",
            "about": {
             "@id": "./"
            },
            "author": {
             "@id": "https://orcid.org/0000-0002-7190-5187"
            },
            "conformsTo": {
             "@id": "https://w3id.org/ro/crate/1.1"
            },
            "dateCreated": "2022-07-07",
            "dateModified": "2022-07-07",
            "datePublished": "2022-07-07"
           },
           {
            "@id": "https://orcid.org/0000-0002-7190-5187",
            "@type": [
             "Person",
             "ContactPoint"
            ],
            "email": "rosspetridis@gmail.com",
            "name": "Ross Petridis",
            "worksFor": {
             "@id": "https://ror.org/00rqy9422"
            }
           },
           {
            "@id": "https://ror.org/00rqy9422",
            "@type": "Organization",
            "name": "University of Melbourne"
           },
           {
            "@id": "./",
            "@type": "Dataset",
            "dateCreated": "2021-12-25",
            "datePublished": "2021-12-25",
            "description": "Results of counterfactual model run - updated",
            "identifier": "10378.1/1687369",
            "keywords": [
             "keyword1",
             "keyword2",
             "coralLover"
            ],
            "license": {
             "@id": "https://creativecommons.org/licenses/by/4.0/"
            },
            "name": "Coral results 2021-02-30 - updated",
            "publisher": {
             "@id": "https://ror.org/00rqy9422"
            },
            "version": "1.2.6"
           }
          ]
         },
         "s3": {
          "bucket_name": "dev-rrap-storage-bucket",
          "path": "datasets/10378-1-1687369/",
          "s3_uri": "s3://dev-rrap-storage-bucket/datasets/10378-1-1687369/"
         },
         "updated_time": "2022-07-07T06:33:51.195839"
        },
        {
         "collection_format": {
          "author": {
           "email": "rosspetridis@gmail.com",
           "name": "Ross Petridis",
           "orcid": "https://orcid.org/0000-0002-7190-5187",
           "organisation": {
            "name": "University of Melbourne",
            "ror": "https://ror.org/00rqy9422"
           }
          },
          "dataset_info": {
           "created_date": "2021-12-25",
           "description": "Results of counterfactual model run - updated",
           "keywords": [
            "keyword1",
            "keyword2",
            "coralLover"
           ],
           "license": "https://creativecommons.org/licenses/by/4.0/",
           "name": "Coral results 2021-02-30 - updated",
           "published_date": "2021-12-25",
           "publisher": {
            "name": "University of Melbourne",
            "ror": "https://ror.org/00rqy9422"
           },
           "version": "1.2.6"
          }
         },
         "created_time": "2022-07-14T01:36:15.904166",
         "handle": "10378.1/1687491",
         "rocrate_metadata": {
          "@context": [
           "https://w3id.org/ro/crate/1.1/context",
           {
            "@vocab": "https://schema.org/"
           }
          ],
          "@graph": [
           {
            "@id": "ro-crate-metadata.json",
            "@type": "CreativeWork",
            "about": {
             "@id": "./"
            },
            "author": {
             "@id": "https://orcid.org/0000-0002-7190-5187"
            },
            "conformsTo": {
             "@id": "https://w3id.org/ro/crate/1.1"
            },
            "dateCreated": "2022-07-14",
            "dateModified": "2022-07-14",
            "datePublished": "2022-07-14"
           },
           {
            "@id": "https://orcid.org/0000-0002-7190-5187",
            "@type": [
             "Person",
             "ContactPoint"
            ],
            "email": "rosspetridis@gmail.com",
            "name": "Ross Petridis",
            "worksFor": {
             "@id": "https://ror.org/00rqy9422"
            }
           },
           {
            "@id": "https://ror.org/00rqy9422",
            "@type": "Organization",
            "name": "University of Melbourne"
           },
           {
            "@id": "./",
            "@type": "Dataset",
            "dateCreated": "2021-12-25",
            "datePublished": "2021-12-25",
            "description": "Results of counterfactual model run - updated",
            "identifier": "10378.1/1687491",
            "keywords": [
             "keyword1",
             "keyword2",
             "coralLover"
            ],
            "license": {
             "@id": "https://creativecommons.org/licenses/by/4.0/"
            },
            "name": "Coral results 2021-02-30 - updated",
            "publisher": {
             "@id": "https://ror.org/00rqy9422"
            },
            "version": "1.2.6"
           }
          ]
         },
         "s3": {
          "bucket_name": "dev-rrap-storage-bucket",
          "path": "datasets/10378-1-1687491/",
          "s3_uri": "s3://dev-rrap-storage-bucket/datasets/10378-1-1687491/"
         },
         "updated_time": "2022-07-14T01:36:16.174835"
        },
        {
         "collection_format": {
          "author": {
           "email": "peter.baker1626@gmail.com",
           "name": "Peter Baker",
           "orcid": null,
           "organisation": {
            "name": "ANU",
            "ror": null
           }
          },
          "dataset_info": {
           "created_date": "2021-12-25",
           "description": "Results of counterfactual model run",
           "keywords": null,
           "license": "https://creativecommons.org/licenses/by/4.0/",
           "name": "Coral results 2021-02-30",
           "published_date": "2021-12-25",
           "publisher": {
            "name": "University of Canberra",
            "ror": null
           },
           "version": null
          }
         },
         "created_time": "2022-06-30T00:43:03.034846",
         "handle": "10378.1/1687275",
         "rocrate_metadata": {
          "@context": [
           "https://w3id.org/ro/crate/1.1/context",
           {
            "@vocab": "https://schema.org/"
           }
          ],
          "@graph": [
           {
            "@id": "ro-crate-metadata.json",
            "@type": "CreativeWork",
            "about": {
             "@id": "./"
            },
            "author": {
             "@id": "record/author"
            },
            "conformsTo": {
             "@id": "https://w3id.org/ro/crate/1.1"
            },
            "dateCreated": "2022-06-30",
            "dateModified": "2022-06-30",
            "datePublished": "2022-06-30"
           },
           {
            "@id": "record/author",
            "@type": [
             "Person",
             "ContactPoint"
            ],
            "email": "peter.baker1626@gmail.com",
            "name": "Peter Baker",
            "worksFor": {
             "@id": "record/author/worksFor"
            }
           },
           {
            "@id": "record/author/worksFor",
            "@type": "Organization",
            "name": "ANU"
           },
           {
            "@id": "./",
            "@type": "Dataset",
            "dateCreated": "2021-12-25",
            "datePublished": "2021-12-25",
            "description": "Results of counterfactual model run",
            "identifier": "10378.1/1687275",
            "license": {
             "@id": "https://creativecommons.org/licenses/by/4.0/"
            },
            "name": "Coral results 2021-02-30",
            "publisher": {
             "@id": "dataset/publisher"
            }
           },
           {
            "@id": "dataset/publisher",
            "@type": "Organization",
            "name": "University of Canberra"
           }
          ]
         },
         "s3": {
          "bucket_name": "dev-rrap-storage-bucket",
          "path": "datasets/10378-1-1687275/",
          "s3_uri": "s3://dev-rrap-storage-bucket/datasets/10378-1-1687275/"
         },
         "updated_time": "2022-06-30T00:43:03.034846"
        },
        {
         "collection_format": {
          "author": {
           "email": "peter.baker1626@gmail.com",
           "name": "Peter Baker",
           "orcid": null,
           "organisation": {
            "name": "ANU",
            "ror": null
           }
          },
          "dataset_info": {
           "created_date": "2021-12-25",
           "description": "Results of counterfactual model run",
           "keywords": null,
           "license": "https://creativecommons.org/licenses/by/4.0/",
           "name": "Coral results 2021-02-30",
           "published_date": "2021-12-25",
           "publisher": {
            "name": "University of Canberra",
            "ror": null
           },
           "version": null
          }
         },
         "created_time": "2022-06-06T00:50:08.238323",
         "handle": "10378.1/1686830",
         "rocrate_metadata": {
          "@context": [
           "https://w3id.org/ro/crate/1.1/context",
           {
            "@vocab": "https://schema.org/"
           }
          ],
          "@graph": [
           {
            "@id": "ro-crate-metadata.json",
            "@type": "CreativeWork",
            "about": {
             "@id": "./"
            },
            "author": {
             "@id": "record/author"
            },
            "conformsTo": {
             "@id": "https://w3id.org/ro/crate/1.1"
            },
            "dateCreated": "2022-06-06",
            "dateModified": "2022-06-06",
            "datePublished": "2022-06-06"
           },
           {
            "@id": "record/author",
            "@type": [
             "Person",
             "ContactPoint"
            ],
            "email": "peter.baker1626@gmail.com",
            "name": "Peter Baker",
            "worksFor": {
             "@id": "record/author/worksFor"
            }
           },
           {
            "@id": "record/author/worksFor",
            "@type": "Organization",
            "name": "ANU"
           },
           {
            "@id": "./",
            "@type": "Dataset",
            "dateCreated": "2021-12-25",
            "datePublished": "2021-12-25",
            "description": "Results of counterfactual model run",
            "identifier": "10378.1/1686830",
            "license": {
             "@id": "https://creativecommons.org/licenses/by/4.0/"
            },
            "name": "Coral results 2021-02-30",
            "publisher": {
             "@id": "dataset/publisher"
            }
           },
           {
            "@id": "dataset/publisher",
            "@type": "Organization",
            "name": "University of Canberra"
           }
          ]
         },
         "s3": {
          "bucket_name": "dev-rrap-storage-bucket",
          "path": "datasets/10378-1-1686830/",
          "s3_uri": "s3://dev-rrap-storage-bucket/datasets/10378-1-1686830/"
         },
         "updated_time": "2022-06-06T00:50:08.238323"
        },
        {
         "collection_format": {
          "author": {
           "email": "jonathan.yu@csiro.au",
           "name": "Jonathan Yu",
           "orcid": "https://orcid.org/0000-0002-2237-0091",
           "organisation": {
            "name": "CSIRO Land and Water",
            "ror": "https://ror.org/057xz1h85"
           }
          },
          "dataset_info": {
           "created_date": "2022-07-15",
           "description": "Dataset produced by 3rd model processing step",
           "keywords": null,
           "license": "https://creativecommons.org/licenses/by/4.0/",
           "name": "Dataset produced by 3rd model processing step",
           "published_date": "2022-07-15",
           "publisher": {
            "name": "Commonwealth Scientific and Industrial Research Organisation",
            "ror": "https://ror.org/03qn8fb07"
           },
           "version": "2.0"
          }
         },
         "created_time": "2022-07-19T08:46:56.440421",
         "handle": "10378.1/1687589",
         "rocrate_metadata": {
          "@context": [
           "https://w3id.org/ro/crate/1.1/context",
           {
            "@vocab": "https://schema.org/"
           }
          ],
          "@graph": [
           {
            "@id": "ro-crate-metadata.json",
            "@type": "CreativeWork",
            "about": {
             "@id": "./"
            },
            "author": {
             "@id": "https://orcid.org/0000-0002-2237-0091"
            },
            "conformsTo": {
             "@id": "https://w3id.org/ro/crate/1.1"
            },
            "dateCreated": "2022-07-19",
            "dateModified": "2022-07-19",
            "datePublished": "2022-07-19"
           },
           {
            "@id": "https://orcid.org/0000-0002-2237-0091",
            "@type": [
             "Person",
             "ContactPoint"
            ],
            "email": "jonathan.yu@csiro.au",
            "name": "Jonathan Yu",
            "worksFor": {
             "@id": "https://ror.org/057xz1h85"
            }
           },
           {
            "@id": "https://ror.org/057xz1h85",
            "@type": "Organization",
            "name": "CSIRO Land and Water"
           },
           {
            "@id": "./",
            "@type": "Dataset",
            "dateCreated": "2022-07-15",
            "datePublished": "2022-07-15",
            "description": "Dataset produced by 3rd model processing step",
            "identifier": "10378.1/1687589",
            "license": {
             "@id": "https://creativecommons.org/licenses/by/4.0/"
            },
            "name": "Dataset produced by 3rd model processing step",
            "publisher": {
             "@id": "https://ror.org/03qn8fb07"
            },
            "version": "2.0"
           },
           {
            "@id": "https://ror.org/03qn8fb07",
            "@type": "Organization",
            "name": "Commonwealth Scientific and Industrial Research Organisation"
           }
          ]
         },
         "s3": {
          "bucket_name": "dev-rrap-storage-bucket",
          "path": "datasets/10378-1-1687589/",
          "s3_uri": "s3://dev-rrap-storage-bucket/datasets/10378-1-1687589/"
         },
         "updated_time": "2022-07-19T08:46:56.440421"
        },
        {
         "collection_format": {
          "author": {
           "email": "jonathan.yu@csiro.au",
           "name": "Jonathan Yu",
           "orcid": null,
           "organisation": {
            "name": "Commonwealth Scientific and Industrial Research Organisation",
            "ror": "https://ror.org/03qn8fb07"
           }
          },
          "dataset_info": {
           "created_date": "2022-06-01",
           "description": "test jy",
           "keywords": null,
           "license": "https://creativecommons.org/publicdomain/zero/1.0/",
           "name": "Test dataset",
           "published_date": "2022-06-08",
           "publisher": {
            "name": "Commonwealth Scientific and Industrial Research Organisation",
            "ror": "https://ror.org/03qn8fb07"
           },
           "version": null
          }
         },
         "created_time": "2022-06-24T04:05:37.717191",
         "handle": "10378.1/1687209",
         "rocrate_metadata": {
          "@context": [
           "https://w3id.org/ro/crate/1.1/context",
           {
            "@vocab": "https://schema.org/"
           }
          ],
          "@graph": [
           {
            "@id": "ro-crate-metadata.json",
            "@type": "CreativeWork",
            "about": {
             "@id": "./"
            },
            "author": {
             "@id": "record/author"
            },
            "conformsTo": {
             "@id": "https://w3id.org/ro/crate/1.1"
            },
            "dateCreated": "2022-06-24",
            "dateModified": "2022-06-27",
            "datePublished": "2022-06-27"
           },
           {
            "@id": "record/author",
            "@type": [
             "Person",
             "ContactPoint"
            ],
            "email": "jonathan.yu@csiro.au",
            "name": "Jonathan Yu",
            "worksFor": {
             "@id": "https://ror.org/03qn8fb07"
            }
           },
           {
            "@id": "https://ror.org/03qn8fb07",
            "@type": "Organization",
            "name": "Commonwealth Scientific and Industrial Research Organisation"
           },
           {
            "@id": "./",
            "@type": "Dataset",
            "dateCreated": "2022-06-01",
            "datePublished": "2022-06-08",
            "description": "test jy",
            "identifier": "10378.1/1687209",
            "license": {
             "@id": "https://creativecommons.org/publicdomain/zero/1.0/"
            },
            "name": "Test dataset",
            "publisher": {
             "@id": "https://ror.org/03qn8fb07"
            }
           }
          ]
         },
         "s3": {
          "bucket_name": "dev-rrap-storage-bucket",
          "path": "datasets/10378-1-1687209/",
          "s3_uri": "s3://dev-rrap-storage-bucket/datasets/10378-1-1687209/"
         },
         "updated_time": "2022-06-27T01:05:33.702746"
        },
        {
         "collection_format": {
          "author": {
           "email": "peter.baker122@csiro.au",
           "name": "Peter Baker",
           "orcid": "https://orcid.org/0000-0002-2237-0091",
           "organisation": {
            "name": "Commonwealth Scientific and Industrial Research Organisation",
            "ror": "https://ror.org/03qn8fb07"
           }
          },
          "dataset_info": {
           "created_date": "2022-06-24",
           "description": "Test",
           "keywords": null,
           "license": "https://gbrrestoration.github.io/rrap-mds-knowledge-hub/information-system/licenses.html#copyright-all-rights-reserved-",
           "name": "Test",
           "published_date": "2022-06-24",
           "publisher": {
            "name": "Australian National University",
            "ror": "https://ror.org/019wvm592"
           },
           "version": null
          }
         },
         "created_time": "2022-06-24T01:02:42.377144",
         "handle": "10378.1/1687200",
         "rocrate_metadata": {
          "@context": [
           "https://w3id.org/ro/crate/1.1/context",
           {
            "@vocab": "https://schema.org/"
           }
          ],
          "@graph": [
           {
            "@id": "ro-crate-metadata.json",
            "@type": "CreativeWork",
            "about": {
             "@id": "./"
            },
            "author": {
             "@id": "https://orcid.org/0000-0002-2237-0091"
            },
            "conformsTo": {
             "@id": "https://w3id.org/ro/crate/1.1"
            },
            "dateCreated": "2022-06-24",
            "dateModified": "2022-06-24",
            "datePublished": "2022-06-24"
           },
           {
            "@id": "https://orcid.org/0000-0002-2237-0091",
            "@type": [
             "Person",
             "ContactPoint"
            ],
            "email": "peter.baker122@csiro.au",
            "name": "Peter Baker",
            "worksFor": {
             "@id": "https://ror.org/03qn8fb07"
            }
           },
           {
            "@id": "https://ror.org/03qn8fb07",
            "@type": "Organization",
            "name": "Commonwealth Scientific and Industrial Research Organisation"
           },
           {
            "@id": "./",
            "@type": "Dataset",
            "dateCreated": "2022-06-24",
            "datePublished": "2022-06-24",
            "description": "Test",
            "identifier": "10378.1/1687200",
            "license": {
             "@id": "https://gbrrestoration.github.io/rrap-mds-knowledge-hub/information-system/licenses.html#copyright-all-rights-reserved-"
            },
            "name": "Test",
            "publisher": {
             "@id": "https://ror.org/019wvm592"
            }
           },
           {
            "@id": "https://ror.org/019wvm592",
            "@type": "Organization",
            "name": "Australian National University"
           }
          ]
         },
         "s3": {
          "bucket_name": "dev-rrap-storage-bucket",
          "path": "datasets/10378-1-1687200/",
          "s3_uri": "s3://dev-rrap-storage-bucket/datasets/10378-1-1687200/"
         },
         "updated_time": "2022-06-24T01:02:42.377144"
        },
        {
         "collection_format": {
          "author": {
           "email": "peter.baker122@csiro.au",
           "name": "Peter Baker",
           "orcid": "https://orcid.org/0000-0002-2237-0091",
           "organisation": {
            "name": "Commonwealth Scientific and Industrial Research Organisation",
            "ror": "https://ror.org/03qn8fb07"
           }
          },
          "dataset_info": {
           "created_date": "2022-06-10",
           "description": "Test",
           "keywords": null,
           "license": "https://gbrrestoration.github.io/rrap-mds-knowledge-hub/information-system/licenses.html#copyright-all-rights-reserved-",
           "name": "Test",
           "published_date": "2022-06-16",
           "publisher": {
            "name": "Commonwealth Scientific and Industrial Research Organisation",
            "ror": "https://ror.org/03qn8fb07"
           },
           "version": null
          }
         },
         "created_time": "2022-06-17T06:49:03.846668",
         "handle": "10378.1/1687068",
         "rocrate_metadata": {
          "@context": [
           "https://w3id.org/ro/crate/1.1/context",
           {
            "@vocab": "https://schema.org/"
           }
          ],
          "@graph": [
           {
            "@id": "ro-crate-metadata.json",
            "@type": "CreativeWork",
            "about": {
             "@id": "./"
            },
            "author": {
             "@id": "https://orcid.org/0000-0002-2237-0091"
            },
            "conformsTo": {
             "@id": "https://w3id.org/ro/crate/1.1"
            },
            "dateCreated": "2022-06-17",
            "dateModified": "2022-06-24",
            "datePublished": "2022-06-24"
           },
           {
            "@id": "https://orcid.org/0000-0002-2237-0091",
            "@type": [
             "Person",
             "ContactPoint"
            ],
            "email": "peter.baker122@csiro.au",
            "name": "Peter Baker",
            "worksFor": {
             "@id": "https://ror.org/03qn8fb07"
            }
           },
           {
            "@id": "https://ror.org/03qn8fb07",
            "@type": "Organization",
            "name": "Commonwealth Scientific and Industrial Research Organisation"
           },
           {
            "@id": "./",
            "@type": "Dataset",
            "dateCreated": "2022-06-10",
            "datePublished": "2022-06-16",
            "description": "Test",
            "identifier": "10378.1/1687068",
            "license": {
             "@id": "https://gbrrestoration.github.io/rrap-mds-knowledge-hub/information-system/licenses.html#copyright-all-rights-reserved-"
            },
            "name": "Test",
            "publisher": {
             "@id": "https://ror.org/03qn8fb07"
            }
           }
          ]
         },
         "s3": {
          "bucket_name": "dev-rrap-storage-bucket",
          "path": "datasets/10378-1-1687068/",
          "s3_uri": "s3://dev-rrap-storage-bucket/datasets/10378-1-1687068/"
         },
         "updated_time": "2022-06-24T00:55:38.665292"
        },
        {
         "collection_format": {
          "author": {
           "email": "rosspetridis@gmail.com",
           "name": "Ross Petridis",
           "orcid": "https://orcid.org/0000-0002-7190-5187",
           "organisation": {
            "name": "University of Melbourne",
            "ror": "https://ror.org/00rqy9422"
           }
          },
          "dataset_info": {
           "created_date": "2021-12-25",
           "description": "Results of counterfactual model run - updated",
           "keywords": [
            "keyword1",
            "keyword2",
            "coralLover"
           ],
           "license": "https://creativecommons.org/licenses/by/4.0/",
           "name": "Coral results 2021-02-30 - updated",
           "published_date": "2021-12-25",
           "publisher": {
            "name": "University of Melbourne",
            "ror": "https://ror.org/00rqy9422"
           },
           "version": "1.2.6"
          }
         },
         "created_time": "2022-07-19T23:51:32.628436",
         "handle": "10378.1/1687596",
         "rocrate_metadata": {
          "@context": [
           "https://w3id.org/ro/crate/1.1/context",
           {
            "@vocab": "https://schema.org/"
           }
          ],
          "@graph": [
           {
            "@id": "ro-crate-metadata.json",
            "@type": "CreativeWork",
            "about": {
             "@id": "./"
            },
            "author": {
             "@id": "https://orcid.org/0000-0002-7190-5187"
            },
            "conformsTo": {
             "@id": "https://w3id.org/ro/crate/1.1"
            },
            "dateCreated": "2022-07-19",
            "dateModified": "2022-07-19",
            "datePublished": "2022-07-19"
           },
           {
            "@id": "https://orcid.org/0000-0002-7190-5187",
            "@type": [
             "Person",
             "ContactPoint"
            ],
            "email": "rosspetridis@gmail.com",
            "name": "Ross Petridis",
            "worksFor": {
             "@id": "https://ror.org/00rqy9422"
            }
           },
           {
            "@id": "https://ror.org/00rqy9422",
            "@type": "Organization",
            "name": "University of Melbourne"
           },
           {
            "@id": "./",
            "@type": "Dataset",
            "dateCreated": "2021-12-25",
            "datePublished": "2021-12-25",
            "description": "Results of counterfactual model run - updated",
            "identifier": "10378.1/1687596",
            "keywords": [
             "keyword1",
             "keyword2",
             "coralLover"
            ],
            "license": {
             "@id": "https://creativecommons.org/licenses/by/4.0/"
            },
            "name": "Coral results 2021-02-30 - updated",
            "publisher": {
             "@id": "https://ror.org/00rqy9422"
            },
            "version": "1.2.6"
           }
          ]
         },
         "s3": {
          "bucket_name": "dev-rrap-storage-bucket",
          "path": "datasets/10378-1-1687596/",
          "s3_uri": "s3://dev-rrap-storage-bucket/datasets/10378-1-1687596/"
         },
         "updated_time": "2022-07-19T23:51:32.911384"
        },
        {
         "collection_format": {
          "author": {
           "email": "rosspetridis@gmail.com",
           "name": "Ross Petridis",
           "orcid": "https://orcid.org/0000-0002-7190-5187",
           "organisation": {
            "name": "University of Melbourne",
            "ror": "https://ror.org/00rqy9422"
           }
          },
          "dataset_info": {
           "created_date": "2021-12-25",
           "description": "Results of counterfactual model run - updated",
           "keywords": [
            "keyword1",
            "keyword2",
            "coralLover"
           ],
           "license": "https://creativecommons.org/licenses/by/4.0/",
           "name": "Coral results 2021-02-30 - updated",
           "published_date": "2021-12-25",
           "publisher": {
            "name": "University of Melbourne",
            "ror": "https://ror.org/00rqy9422"
           },
           "version": "1.2.6"
          }
         },
         "created_time": "2022-06-27T04:54:26.741087",
         "handle": "10378.1/1687237",
         "rocrate_metadata": {
          "@context": [
           "https://w3id.org/ro/crate/1.1/context",
           {
            "@vocab": "https://schema.org/"
           }
          ],
          "@graph": [
           {
            "@id": "ro-crate-metadata.json",
            "@type": "CreativeWork",
            "about": {
             "@id": "./"
            },
            "author": {
             "@id": "https://orcid.org/0000-0002-7190-5187"
            },
            "conformsTo": {
             "@id": "https://w3id.org/ro/crate/1.1"
            },
            "dateCreated": "2022-06-27",
            "dateModified": "2022-06-27",
            "datePublished": "2022-06-27"
           },
           {
            "@id": "https://orcid.org/0000-0002-7190-5187",
            "@type": [
             "Person",
             "ContactPoint"
            ],
            "email": "rosspetridis@gmail.com",
            "name": "Ross Petridis",
            "worksFor": {
             "@id": "https://ror.org/00rqy9422"
            }
           },
           {
            "@id": "https://ror.org/00rqy9422",
            "@type": "Organization",
            "name": "University of Melbourne"
           },
           {
            "@id": "./",
            "@type": "Dataset",
            "dateCreated": "2021-12-25",
            "datePublished": "2021-12-25",
            "description": "Results of counterfactual model run - updated",
            "identifier": "10378.1/1687237",
            "keywords": [
             "keyword1",
             "keyword2",
             "coralLover"
            ],
            "license": {
             "@id": "https://creativecommons.org/licenses/by/4.0/"
            },
            "name": "Coral results 2021-02-30 - updated",
            "publisher": {
             "@id": "https://ror.org/00rqy9422"
            },
            "version": "1.2.6"
           }
          ]
         },
         "s3": {
          "bucket_name": "dev-rrap-storage-bucket",
          "path": "datasets/10378-1-1687237/",
          "s3_uri": "s3://dev-rrap-storage-bucket/datasets/10378-1-1687237/"
         },
         "updated_time": "2022-06-27T04:54:27.045649"
        },
        {
         "collection_format": {
          "author": {
           "email": "peter.baker122@csiro.au",
           "name": "Peter Baker",
           "orcid": "https://orcid.org/0000-0002-2237-0091",
           "organisation": {
            "name": "Commonwealth Scientific and Industrial Research Organisation",
            "ror": "https://ror.org/03qn8fb07"
           }
          },
          "dataset_info": {
           "created_date": "2020-10-10",
           "description": "Test new dataset",
           "keywords": null,
           "license": "https://creativecommons.org/licenses/by-sa/3.0/",
           "name": "Test new dataset",
           "published_date": "2020-10-08",
           "publisher": {
            "name": "Australian National University",
            "ror": "https://ror.org/019wvm592"
           },
           "version": null
          }
         },
         "created_time": "2022-06-06T00:23:05.791858",
         "handle": "10378.1/1686826",
         "rocrate_metadata": {
          "@context": [
           "https://w3id.org/ro/crate/1.1/context",
           {
            "@vocab": "https://schema.org/"
           }
          ],
          "@graph": [
           {
            "@id": "ro-crate-metadata.json",
            "@type": "CreativeWork",
            "about": {
             "@id": "./"
            },
            "author": {
             "@id": "https://orcid.org/0000-0002-2237-0091"
            },
            "conformsTo": {
             "@id": "https://w3id.org/ro/crate/1.1"
            },
            "dateCreated": "2022-06-06",
            "dateModified": "2022-06-06",
            "datePublished": "2022-06-06"
           },
           {
            "@id": "https://orcid.org/0000-0002-2237-0091",
            "@type": [
             "Person",
             "ContactPoint"
            ],
            "email": "peter.baker122@csiro.au",
            "name": "Peter Baker",
            "worksFor": {
             "@id": "https://ror.org/03qn8fb07"
            }
           },
           {
            "@id": "https://ror.org/03qn8fb07",
            "@type": "Organization",
            "name": "Commonwealth Scientific and Industrial Research Organisation"
           },
           {
            "@id": "./",
            "@type": "Dataset",
            "dateCreated": "2020-10-10",
            "datePublished": "2020-10-08",
            "description": "Test new dataset",
            "identifier": "10378.1/1686826",
            "license": {
             "@id": "https://creativecommons.org/licenses/by-sa/3.0/"
            },
            "name": "Test new dataset",
            "publisher": {
             "@id": "https://ror.org/019wvm592"
            }
           },
           {
            "@id": "https://ror.org/019wvm592",
            "@type": "Organization",
            "name": "Australian National University"
           }
          ]
         },
         "s3": {
          "bucket_name": "dev-rrap-storage-bucket",
          "path": "datasets/10378-1-1686826/",
          "s3_uri": "s3://dev-rrap-storage-bucket/datasets/10378-1-1686826/"
         },
         "updated_time": "2022-06-06T00:23:05.791858"
        },
        {
         "collection_format": {
          "author": {
           "email": "peter.baker1626@gmail.com",
           "name": "Peter Baker",
           "orcid": "https://orcid.org/0000-0002-7190-5187",
           "organisation": {
            "name": "ANU",
            "ror": "https://ror.org/ANUfake"
           }
          },
          "dataset_info": {
           "created_date": "2021-12-25",
           "description": "Results of counterfactual model run",
           "keywords": [
            "keyword1",
            "keyword2"
           ],
           "license": "https://creativecommons.org/licenses/by/4.0/",
           "name": "Coral results 2021-02-30",
           "published_date": "2021-12-25",
           "publisher": {
            "name": "University of Canberra",
            "ror": "https://ror.org/UCFake"
           },
           "version": "1.2.4"
          }
         },
         "created_time": "2022-06-28T02:13:25.385934",
         "handle": "10378.1/1687248",
         "rocrate_metadata": {
          "@context": [
           "https://w3id.org/ro/crate/1.1/context",
           {
            "@vocab": "https://schema.org/"
           }
          ],
          "@graph": [
           {
            "@id": "ro-crate-metadata.json",
            "@type": "CreativeWork",
            "about": {
             "@id": "./"
            },
            "author": {
             "@id": "https://orcid.org/0000-0002-7190-5187"
            },
            "conformsTo": {
             "@id": "https://w3id.org/ro/crate/1.1"
            },
            "dateCreated": "2022-06-28",
            "dateModified": "2022-06-28",
            "datePublished": "2022-06-28"
           },
           {
            "@id": "https://orcid.org/0000-0002-7190-5187",
            "@type": [
             "Person",
             "ContactPoint"
            ],
            "email": "peter.baker1626@gmail.com",
            "name": "Peter Baker",
            "worksFor": {
             "@id": "https://ror.org/ANUfake"
            }
           },
           {
            "@id": "https://ror.org/ANUfake",
            "@type": "Organization",
            "name": "ANU"
           },
           {
            "@id": "./",
            "@type": "Dataset",
            "dateCreated": "2021-12-25",
            "datePublished": "2021-12-25",
            "description": "Results of counterfactual model run",
            "identifier": "10378.1/1687248",
            "keywords": [
             "keyword1",
             "keyword2"
            ],
            "license": {
             "@id": "https://creativecommons.org/licenses/by/4.0/"
            },
            "name": "Coral results 2021-02-30",
            "publisher": {
             "@id": "https://ror.org/UCFake"
            },
            "version": "1.2.4"
           },
           {
            "@id": "https://ror.org/UCFake",
            "@type": "Organization",
            "name": "University of Canberra"
           }
          ]
         },
         "s3": {
          "bucket_name": "dev-rrap-storage-bucket",
          "path": "datasets/10378-1-1687248/",
          "s3_uri": "s3://dev-rrap-storage-bucket/datasets/10378-1-1687248/"
         },
         "updated_time": "2022-06-28T02:13:25.385934"
        },
        {
         "collection_format": {
          "author": {
           "email": "peter.baker1626@gmail.com",
           "name": "Peter Baker",
           "orcid": "https://orcid.org/0000-0002-7190-5187",
           "organisation": {
            "name": "ANU",
            "ror": "https://ror.org/ANUfake"
           }
          },
          "dataset_info": {
           "created_date": "2021-12-25",
           "description": "Results of counterfactual model run",
           "keywords": [
            "keyword1",
            "keyword2"
           ],
           "license": "https://creativecommons.org/licenses/by/4.0/",
           "name": "Coral results 2021-02-30",
           "published_date": "2021-12-25",
           "publisher": {
            "name": "University of Canberra",
            "ror": "https://ror.org/UCFake"
           },
           "version": "1.2.4"
          }
         },
         "created_time": "2022-06-17T06:44:52.208170",
         "handle": "10378.1/1687065",
         "rocrate_metadata": {
          "@context": [
           "https://w3id.org/ro/crate/1.1/context",
           {
            "@vocab": "https://schema.org/"
           }
          ],
          "@graph": [
           {
            "@id": "ro-crate-metadata.json",
            "@type": "CreativeWork",
            "about": {
             "@id": "./"
            },
            "author": {
             "@id": "https://orcid.org/0000-0002-7190-5187"
            },
            "conformsTo": {
             "@id": "https://w3id.org/ro/crate/1.1"
            },
            "dateCreated": "2022-06-17",
            "dateModified": "2022-06-17",
            "datePublished": "2022-06-17"
           },
           {
            "@id": "https://orcid.org/0000-0002-7190-5187",
            "@type": [
             "Person",
             "ContactPoint"
            ],
            "email": "peter.baker1626@gmail.com",
            "name": "Peter Baker",
            "worksFor": {
             "@id": "https://ror.org/ANUfake"
            }
           },
           {
            "@id": "https://ror.org/ANUfake",
            "@type": "Organization",
            "name": "ANU"
           },
           {
            "@id": "./",
            "@type": "Dataset",
            "dateCreated": "2021-12-25",
            "datePublished": "2021-12-25",
            "description": "Results of counterfactual model run",
            "identifier": "10378.1/1687065",
            "keywords": [
             "keyword1",
             "keyword2"
            ],
            "license": {
             "@id": "https://creativecommons.org/licenses/by/4.0/"
            },
            "name": "Coral results 2021-02-30",
            "publisher": {
             "@id": "https://ror.org/UCFake"
            },
            "version": "1.2.4"
           },
           {
            "@id": "https://ror.org/UCFake",
            "@type": "Organization",
            "name": "University of Canberra"
           }
          ]
         },
         "s3": {
          "bucket_name": "dev-rrap-storage-bucket",
          "path": "datasets/10378-1-1687065/",
          "s3_uri": "s3://dev-rrap-storage-bucket/datasets/10378-1-1687065/"
         },
         "updated_time": "2022-06-17T06:44:52.208170"
        },
        {
         "collection_format": {
          "author": {
           "email": "peter.baker1626@gmail.com",
           "name": "Peter Baker",
           "orcid": "https://orcid.org/0000-0002-7190-5187",
           "organisation": {
            "name": "ANU",
            "ror": "https://ror.org/ANUfake"
           }
          },
          "dataset_info": {
           "created_date": "2021-12-25",
           "description": "Results of counterfactual model run",
           "keywords": [
            "keyword1",
            "keyword2"
           ],
           "license": "https://creativecommons.org/licenses/by/4.0/",
           "name": "Coral results 2021-02-30",
           "published_date": "2021-12-25",
           "publisher": {
            "name": "University of Canberra",
            "ror": "https://ror.org/UCFake"
           },
           "version": "1.2.4"
          }
         },
         "created_time": "2022-06-17T05:09:40.194018",
         "handle": "10378.1/1686975",
         "rocrate_metadata": {
          "@context": [
           "https://w3id.org/ro/crate/1.1/context",
           {
            "@vocab": "https://schema.org/"
           }
          ],
          "@graph": [
           {
            "@id": "ro-crate-metadata.json",
            "@type": "CreativeWork",
            "about": {
             "@id": "./"
            },
            "author": {
             "@id": "https://orcid.org/0000-0002-7190-5187"
            },
            "conformsTo": {
             "@id": "https://w3id.org/ro/crate/1.1"
            },
            "dateCreated": "2022-06-17",
            "dateModified": "2022-06-17",
            "datePublished": "2022-06-17"
           },
           {
            "@id": "https://orcid.org/0000-0002-7190-5187",
            "@type": [
             "Person",
             "ContactPoint"
            ],
            "email": "peter.baker1626@gmail.com",
            "name": "Peter Baker",
            "worksFor": {
             "@id": "https://ror.org/ANUfake"
            }
           },
           {
            "@id": "https://ror.org/ANUfake",
            "@type": "Organization",
            "name": "ANU"
           },
           {
            "@id": "./",
            "@type": "Dataset",
            "dateCreated": "2021-12-25",
            "datePublished": "2021-12-25",
            "description": "Results of counterfactual model run",
            "identifier": "10378.1/1686975",
            "keywords": [
             "keyword1",
             "keyword2"
            ],
            "license": {
             "@id": "https://creativecommons.org/licenses/by/4.0/"
            },
            "name": "Coral results 2021-02-30",
            "publisher": {
             "@id": "https://ror.org/UCFake"
            },
            "version": "1.2.4"
           },
           {
            "@id": "https://ror.org/UCFake",
            "@type": "Organization",
            "name": "University of Canberra"
           }
          ]
         },
         "s3": {
          "bucket_name": "dev-rrap-storage-bucket",
          "path": "datasets/10378-1-1686975/",
          "s3_uri": "s3://dev-rrap-storage-bucket/datasets/10378-1-1686975/"
         },
         "updated_time": "2022-06-17T05:09:40.194018"
        },
        {
         "collection_format": {
          "author": {
           "email": "peter.baker1626@gmail.com",
           "name": "Peter Baker",
           "orcid": "https://orcid.org/0000-0002-7190-5187",
           "organisation": {
            "name": "ANU",
            "ror": "https://ror.org/ANUfake"
           }
          },
          "dataset_info": {
           "created_date": "2021-12-25",
           "description": "Results of counterfactual model run",
           "keywords": [
            "keyword1",
            "keyword2"
           ],
           "license": "https://creativecommons.org/licenses/by/4.0/",
           "name": "Coral results 2021-02-30",
           "published_date": "2021-12-25",
           "publisher": {
            "name": "University of Canberra",
            "ror": "https://ror.org/UCFake"
           },
           "version": "1.2.4"
          }
         },
         "created_time": "2022-06-06T03:06:26.943071",
         "handle": "10378.1/1686856",
         "rocrate_metadata": {
          "@context": [
           "https://w3id.org/ro/crate/1.1/context",
           {
            "@vocab": "https://schema.org/"
           }
          ],
          "@graph": [
           {
            "@id": "ro-crate-metadata.json",
            "@type": "CreativeWork",
            "about": {
             "@id": "./"
            },
            "author": {
             "@id": "https://orcid.org/0000-0002-7190-5187"
            },
            "conformsTo": {
             "@id": "https://w3id.org/ro/crate/1.1"
            },
            "dateCreated": "2022-06-06",
            "dateModified": "2022-06-06",
            "datePublished": "2022-06-06"
           },
           {
            "@id": "https://orcid.org/0000-0002-7190-5187",
            "@type": [
             "Person",
             "ContactPoint"
            ],
            "email": "peter.baker1626@gmail.com",
            "name": "Peter Baker",
            "worksFor": {
             "@id": "https://ror.org/ANUfake"
            }
           },
           {
            "@id": "https://ror.org/ANUfake",
            "@type": "Organization",
            "name": "ANU"
           },
           {
            "@id": "./",
            "@type": "Dataset",
            "dateCreated": "2021-12-25",
            "datePublished": "2021-12-25",
            "description": "Results of counterfactual model run",
            "identifier": "10378.1/1686856",
            "keywords": [
             "keyword1",
             "keyword2"
            ],
            "license": {
             "@id": "https://creativecommons.org/licenses/by/4.0/"
            },
            "name": "Coral results 2021-02-30",
            "publisher": {
             "@id": "https://ror.org/UCFake"
            },
            "version": "1.2.4"
           },
           {
            "@id": "https://ror.org/UCFake",
            "@type": "Organization",
            "name": "University of Canberra"
           }
          ]
         },
         "s3": {
          "bucket_name": "dev-rrap-storage-bucket",
          "path": "datasets/10378-1-1686856/",
          "s3_uri": "s3://dev-rrap-storage-bucket/datasets/10378-1-1686856/"
         },
         "updated_time": "2022-06-06T03:06:26.943071"
        },
        {
         "collection_format": {
          "author": {
           "email": "peter.baker1626@gmail.com",
           "name": "Peter Baker",
           "orcid": null,
           "organisation": {
            "name": "ANU",
            "ror": null
           }
          },
          "dataset_info": {
           "created_date": "2021-12-25",
           "description": "Results of counterfactual model run",
           "keywords": null,
           "license": "https://creativecommons.org/licenses/by/4.0/",
           "name": "Coral results 2021-02-30",
           "published_date": "2021-12-25",
           "publisher": {
            "name": "University of Canberra",
            "ror": null
           },
           "version": null
          }
         },
         "created_time": "2022-06-17T06:44:56.671689",
         "handle": "10378.1/1687066",
         "rocrate_metadata": {
          "@context": [
           "https://w3id.org/ro/crate/1.1/context",
           {
            "@vocab": "https://schema.org/"
           }
          ],
          "@graph": [
           {
            "@id": "ro-crate-metadata.json",
            "@type": "CreativeWork",
            "about": {
             "@id": "./"
            },
            "author": {
             "@id": "record/author"
            },
            "conformsTo": {
             "@id": "https://w3id.org/ro/crate/1.1"
            },
            "dateCreated": "2022-06-17",
            "dateModified": "2022-06-17",
            "datePublished": "2022-06-17"
           },
           {
            "@id": "record/author",
            "@type": [
             "Person",
             "ContactPoint"
            ],
            "email": "peter.baker1626@gmail.com",
            "name": "Peter Baker",
            "worksFor": {
             "@id": "record/author/worksFor"
            }
           },
           {
            "@id": "record/author/worksFor",
            "@type": "Organization",
            "name": "ANU"
           },
           {
            "@id": "./",
            "@type": "Dataset",
            "dateCreated": "2021-12-25",
            "datePublished": "2021-12-25",
            "description": "Results of counterfactual model run",
            "identifier": "10378.1/1687066",
            "license": {
             "@id": "https://creativecommons.org/licenses/by/4.0/"
            },
            "name": "Coral results 2021-02-30",
            "publisher": {
             "@id": "dataset/publisher"
            }
           },
           {
            "@id": "dataset/publisher",
            "@type": "Organization",
            "name": "University of Canberra"
           }
          ]
         },
         "s3": {
          "bucket_name": "dev-rrap-storage-bucket",
          "path": "datasets/10378-1-1687066/",
          "s3_uri": "s3://dev-rrap-storage-bucket/datasets/10378-1-1687066/"
         },
         "updated_time": "2022-06-17T06:44:56.671689"
        },
        {
         "collection_format": {
          "author": {
           "email": "rosspetridis@gmail.com",
           "name": "Ross Petridis",
           "orcid": "https://orcid.org/0000-0002-7190-5187",
           "organisation": {
            "name": "University of Melbourne",
            "ror": "https://ror.org/00rqy9422"
           }
          },
          "dataset_info": {
           "created_date": "2021-12-25",
           "description": "Results of counterfactual model run - updated",
           "keywords": [
            "keyword1",
            "keyword2",
            "coralLover"
           ],
           "license": "https://creativecommons.org/licenses/by/4.0/",
           "name": "Coral results 2021-02-30 - updated",
           "published_date": "2021-12-25",
           "publisher": {
            "name": "University of Melbourne",
            "ror": "https://ror.org/00rqy9422"
           },
           "version": "1.2.6"
          }
         },
         "created_time": "2022-07-04T01:41:16.204545",
         "handle": "10378.1/1687309",
         "rocrate_metadata": {
          "@context": [
           "https://w3id.org/ro/crate/1.1/context",
           {
            "@vocab": "https://schema.org/"
           }
          ],
          "@graph": [
           {
            "@id": "ro-crate-metadata.json",
            "@type": "CreativeWork",
            "about": {
             "@id": "./"
            },
            "author": {
             "@id": "https://orcid.org/0000-0002-7190-5187"
            },
            "conformsTo": {
             "@id": "https://w3id.org/ro/crate/1.1"
            },
            "dateCreated": "2022-07-04",
            "dateModified": "2022-07-04",
            "datePublished": "2022-07-04"
           },
           {
            "@id": "https://orcid.org/0000-0002-7190-5187",
            "@type": [
             "Person",
             "ContactPoint"
            ],
            "email": "rosspetridis@gmail.com",
            "name": "Ross Petridis",
            "worksFor": {
             "@id": "https://ror.org/00rqy9422"
            }
           },
           {
            "@id": "https://ror.org/00rqy9422",
            "@type": "Organization",
            "name": "University of Melbourne"
           },
           {
            "@id": "./",
            "@type": "Dataset",
            "dateCreated": "2021-12-25",
            "datePublished": "2021-12-25",
            "description": "Results of counterfactual model run - updated",
            "identifier": "10378.1/1687309",
            "keywords": [
             "keyword1",
             "keyword2",
             "coralLover"
            ],
            "license": {
             "@id": "https://creativecommons.org/licenses/by/4.0/"
            },
            "name": "Coral results 2021-02-30 - updated",
            "publisher": {
             "@id": "https://ror.org/00rqy9422"
            },
            "version": "1.2.6"
           }
          ]
         },
         "s3": {
          "bucket_name": "dev-rrap-storage-bucket",
          "path": "datasets/10378-1-1687309/",
          "s3_uri": "s3://dev-rrap-storage-bucket/datasets/10378-1-1687309/"
         },
         "updated_time": "2022-07-04T01:41:16.484662"
        },
        {
         "collection_format": {
          "author": {
           "email": "peter.baker1626@gmail.com",
           "name": "Peter Baker",
           "orcid": null,
           "organisation": {
            "name": "ANU",
            "ror": null
           }
          },
          "dataset_info": {
           "created_date": "2021-12-25",
           "description": "Results of counterfactual model run",
           "keywords": null,
           "license": "https://creativecommons.org/licenses/by/4.0/",
           "name": "Coral results 2021-02-30",
           "published_date": "2021-12-25",
           "publisher": {
            "name": "University of Canberra",
            "ror": null
           },
           "version": null
          }
         },
         "created_time": "2022-06-28T07:37:41.476717",
         "handle": "10378.1/1687268",
         "rocrate_metadata": {
          "@context": [
           "https://w3id.org/ro/crate/1.1/context",
           {
            "@vocab": "https://schema.org/"
           }
          ],
          "@graph": [
           {
            "@id": "ro-crate-metadata.json",
            "@type": "CreativeWork",
            "about": {
             "@id": "./"
            },
            "author": {
             "@id": "record/author"
            },
            "conformsTo": {
             "@id": "https://w3id.org/ro/crate/1.1"
            },
            "dateCreated": "2022-06-28",
            "dateModified": "2022-06-28",
            "datePublished": "2022-06-28"
           },
           {
            "@id": "record/author",
            "@type": [
             "Person",
             "ContactPoint"
            ],
            "email": "peter.baker1626@gmail.com",
            "name": "Peter Baker",
            "worksFor": {
             "@id": "record/author/worksFor"
            }
           },
           {
            "@id": "record/author/worksFor",
            "@type": "Organization",
            "name": "ANU"
           },
           {
            "@id": "./",
            "@type": "Dataset",
            "dateCreated": "2021-12-25",
            "datePublished": "2021-12-25",
            "description": "Results of counterfactual model run",
            "identifier": "10378.1/1687268",
            "license": {
             "@id": "https://creativecommons.org/licenses/by/4.0/"
            },
            "name": "Coral results 2021-02-30",
            "publisher": {
             "@id": "dataset/publisher"
            }
           },
           {
            "@id": "dataset/publisher",
            "@type": "Organization",
            "name": "University of Canberra"
           }
          ]
         },
         "s3": {
          "bucket_name": "dev-rrap-storage-bucket",
          "path": "datasets/10378-1-1687268/",
          "s3_uri": "s3://dev-rrap-storage-bucket/datasets/10378-1-1687268/"
         },
         "updated_time": "2022-06-28T07:37:41.476717"
        },
        {
         "collection_format": {
          "author": {
           "email": "rosspetridis@gmail.com",
           "name": "Ross Petridis",
           "orcid": "https://orcid.org/0000-0002-7190-5187",
           "organisation": {
            "name": "University of Melbourne",
            "ror": "https://ror.org/00rqy9422"
           }
          },
          "dataset_info": {
           "created_date": "2021-12-25",
           "description": "Results of counterfactual model run - updated",
           "keywords": [
            "keyword1",
            "keyword2",
            "coralLover"
           ],
           "license": "https://creativecommons.org/licenses/by/4.0/",
           "name": "Coral results 2021-02-30 - updated",
           "published_date": "2021-12-25",
           "publisher": {
            "name": "University of Melbourne",
            "ror": "https://ror.org/00rqy9422"
           },
           "version": "1.2.6"
          }
         },
         "created_time": "2022-06-30T01:18:38.985014",
         "handle": "10378.1/1687281",
         "rocrate_metadata": {
          "@context": [
           "https://w3id.org/ro/crate/1.1/context",
           {
            "@vocab": "https://schema.org/"
           }
          ],
          "@graph": [
           {
            "@id": "ro-crate-metadata.json",
            "@type": "CreativeWork",
            "about": {
             "@id": "./"
            },
            "author": {
             "@id": "https://orcid.org/0000-0002-7190-5187"
            },
            "conformsTo": {
             "@id": "https://w3id.org/ro/crate/1.1"
            },
            "dateCreated": "2022-06-30",
            "dateModified": "2022-06-30",
            "datePublished": "2022-06-30"
           },
           {
            "@id": "https://orcid.org/0000-0002-7190-5187",
            "@type": [
             "Person",
             "ContactPoint"
            ],
            "email": "rosspetridis@gmail.com",
            "name": "Ross Petridis",
            "worksFor": {
             "@id": "https://ror.org/00rqy9422"
            }
           },
           {
            "@id": "https://ror.org/00rqy9422",
            "@type": "Organization",
            "name": "University of Melbourne"
           },
           {
            "@id": "./",
            "@type": "Dataset",
            "dateCreated": "2021-12-25",
            "datePublished": "2021-12-25",
            "description": "Results of counterfactual model run - updated",
            "identifier": "10378.1/1687281",
            "keywords": [
             "keyword1",
             "keyword2",
             "coralLover"
            ],
            "license": {
             "@id": "https://creativecommons.org/licenses/by/4.0/"
            },
            "name": "Coral results 2021-02-30 - updated",
            "publisher": {
             "@id": "https://ror.org/00rqy9422"
            },
            "version": "1.2.6"
           }
          ]
         },
         "s3": {
          "bucket_name": "dev-rrap-storage-bucket",
          "path": "datasets/10378-1-1687281/",
          "s3_uri": "s3://dev-rrap-storage-bucket/datasets/10378-1-1687281/"
         },
         "updated_time": "2022-06-30T01:18:39.282406"
        },
        {
         "collection_format": {
          "author": {
           "email": "rosspetridis@gmail.com",
           "name": "Ross Petridis",
           "orcid": "https://orcid.org/0000-0002-7190-5187",
           "organisation": {
            "name": "University of Melbourne",
            "ror": "https://ror.org/00rqy9422"
           }
          },
          "dataset_info": {
           "created_date": "2021-12-25",
           "description": "Results of counterfactual model run - updated",
           "keywords": [
            "keyword1",
            "keyword2",
            "coralLover"
           ],
           "license": "https://creativecommons.org/licenses/by/4.0/",
           "name": "Coral results 2021-02-30 - updated",
           "published_date": "2021-12-25",
           "publisher": {
            "name": "University of Melbourne",
            "ror": "https://ror.org/00rqy9422"
           },
           "version": "1.2.6"
          }
         },
         "created_time": "2022-06-28T03:58:10.499070",
         "handle": "10378.1/1687261",
         "rocrate_metadata": {
          "@context": [
           "https://w3id.org/ro/crate/1.1/context",
           {
            "@vocab": "https://schema.org/"
           }
          ],
          "@graph": [
           {
            "@id": "ro-crate-metadata.json",
            "@type": "CreativeWork",
            "about": {
             "@id": "./"
            },
            "author": {
             "@id": "https://orcid.org/0000-0002-7190-5187"
            },
            "conformsTo": {
             "@id": "https://w3id.org/ro/crate/1.1"
            },
            "dateCreated": "2022-06-28",
            "dateModified": "2022-06-28",
            "datePublished": "2022-06-28"
           },
           {
            "@id": "https://orcid.org/0000-0002-7190-5187",
            "@type": [
             "Person",
             "ContactPoint"
            ],
            "email": "rosspetridis@gmail.com",
            "name": "Ross Petridis",
            "worksFor": {
             "@id": "https://ror.org/00rqy9422"
            }
           },
           {
            "@id": "https://ror.org/00rqy9422",
            "@type": "Organization",
            "name": "University of Melbourne"
           },
           {
            "@id": "./",
            "@type": "Dataset",
            "dateCreated": "2021-12-25",
            "datePublished": "2021-12-25",
            "description": "Results of counterfactual model run - updated",
            "identifier": "10378.1/1687261",
            "keywords": [
             "keyword1",
             "keyword2",
             "coralLover"
            ],
            "license": {
             "@id": "https://creativecommons.org/licenses/by/4.0/"
            },
            "name": "Coral results 2021-02-30 - updated",
            "publisher": {
             "@id": "https://ror.org/00rqy9422"
            },
            "version": "1.2.6"
           }
          ]
         },
         "s3": {
          "bucket_name": "dev-rrap-storage-bucket",
          "path": "datasets/10378-1-1687261/",
          "s3_uri": "s3://dev-rrap-storage-bucket/datasets/10378-1-1687261/"
         },
         "updated_time": "2022-06-28T03:58:10.812854"
        },
        {
         "collection_format": {
          "author": {
           "email": "rosspetridis@gmail.com",
           "name": "Ross Petridis",
           "orcid": "https://orcid.org/0000-0002-7190-5187",
           "organisation": {
            "name": "University of Melbourne",
            "ror": "https://ror.org/00rqy9422"
           }
          },
          "dataset_info": {
           "created_date": "2021-12-25",
           "description": "Results of counterfactual model run - updated",
           "keywords": [
            "keyword1",
            "keyword2",
            "coralLover"
           ],
           "license": "https://creativecommons.org/licenses/by/4.0/",
           "name": "Coral results 2021-02-30 - updated",
           "published_date": "2021-12-25",
           "publisher": {
            "name": "University of Melbourne",
            "ror": "https://ror.org/00rqy9422"
           },
           "version": "1.2.6"
          }
         },
         "created_time": "2022-06-06T07:15:31.522037",
         "handle": "10378.1/1686877",
         "rocrate_metadata": {
          "@context": [
           "https://w3id.org/ro/crate/1.1/context",
           {
            "@vocab": "https://schema.org/"
           }
          ],
          "@graph": [
           {
            "@id": "ro-crate-metadata.json",
            "@type": "CreativeWork",
            "about": {
             "@id": "./"
            },
            "author": {
             "@id": "https://orcid.org/0000-0002-7190-5187"
            },
            "conformsTo": {
             "@id": "https://w3id.org/ro/crate/1.1"
            },
            "dateCreated": "2022-06-06",
            "dateModified": "2022-06-06",
            "datePublished": "2022-06-06"
           },
           {
            "@id": "https://orcid.org/0000-0002-7190-5187",
            "@type": [
             "Person",
             "ContactPoint"
            ],
            "email": "rosspetridis@gmail.com",
            "name": "Ross Petridis",
            "worksFor": {
             "@id": "https://ror.org/00rqy9422"
            }
           },
           {
            "@id": "https://ror.org/00rqy9422",
            "@type": "Organization",
            "name": "University of Melbourne"
           },
           {
            "@id": "./",
            "@type": "Dataset",
            "dateCreated": "2021-12-25",
            "datePublished": "2021-12-25",
            "description": "Results of counterfactual model run - updated",
            "identifier": "10378.1/1686877",
            "keywords": [
             "keyword1",
             "keyword2",
             "coralLover"
            ],
            "license": {
             "@id": "https://creativecommons.org/licenses/by/4.0/"
            },
            "name": "Coral results 2021-02-30 - updated",
            "publisher": {
             "@id": "https://ror.org/00rqy9422"
            },
            "version": "1.2.6"
           }
          ]
         },
         "s3": {
          "bucket_name": "dev-rrap-storage-bucket",
          "path": "datasets/10378-1-1686877/",
          "s3_uri": "s3://dev-rrap-storage-bucket/datasets/10378-1-1686877/"
         },
         "updated_time": "2022-06-06T07:15:31.815354"
        },
        {
         "collection_format": {
          "author": {
           "email": "rosspetridis@gmail.com",
           "name": "Ross Petridis",
           "orcid": "https://orcid.org/0000-0002-7190-5187",
           "organisation": {
            "name": "University of Melbourne",
            "ror": "https://ror.org/00rqy9422"
           }
          },
          "dataset_info": {
           "created_date": "2021-12-25",
           "description": "Results of counterfactual model run - updated",
           "keywords": [
            "keyword1",
            "keyword2",
            "coralLover"
           ],
           "license": "https://creativecommons.org/licenses/by/4.0/",
           "name": "Coral results 2021-02-30 - updated",
           "published_date": "2021-12-25",
           "publisher": {
            "name": "University of Melbourne",
            "ror": "https://ror.org/00rqy9422"
           },
           "version": "1.2.6"
          }
         },
         "created_time": "2022-07-19T01:56:05.699552",
         "handle": "10378.1/1687572",
         "rocrate_metadata": {
          "@context": [
           "https://w3id.org/ro/crate/1.1/context",
           {
            "@vocab": "https://schema.org/"
           }
          ],
          "@graph": [
           {
            "@id": "ro-crate-metadata.json",
            "@type": "CreativeWork",
            "about": {
             "@id": "./"
            },
            "author": {
             "@id": "https://orcid.org/0000-0002-7190-5187"
            },
            "conformsTo": {
             "@id": "https://w3id.org/ro/crate/1.1"
            },
            "dateCreated": "2022-07-19",
            "dateModified": "2022-07-19",
            "datePublished": "2022-07-19"
           },
           {
            "@id": "https://orcid.org/0000-0002-7190-5187",
            "@type": [
             "Person",
             "ContactPoint"
            ],
            "email": "rosspetridis@gmail.com",
            "name": "Ross Petridis",
            "worksFor": {
             "@id": "https://ror.org/00rqy9422"
            }
           },
           {
            "@id": "https://ror.org/00rqy9422",
            "@type": "Organization",
            "name": "University of Melbourne"
           },
           {
            "@id": "./",
            "@type": "Dataset",
            "dateCreated": "2021-12-25",
            "datePublished": "2021-12-25",
            "description": "Results of counterfactual model run - updated",
            "identifier": "10378.1/1687572",
            "keywords": [
             "keyword1",
             "keyword2",
             "coralLover"
            ],
            "license": {
             "@id": "https://creativecommons.org/licenses/by/4.0/"
            },
            "name": "Coral results 2021-02-30 - updated",
            "publisher": {
             "@id": "https://ror.org/00rqy9422"
            },
            "version": "1.2.6"
           }
          ]
         },
         "s3": {
          "bucket_name": "dev-rrap-storage-bucket",
          "path": "datasets/10378-1-1687572/",
          "s3_uri": "s3://dev-rrap-storage-bucket/datasets/10378-1-1687572/"
         },
         "updated_time": "2022-07-19T01:56:06.002643"
        },
        {
         "collection_format": {
          "author": {
           "email": "peter.baker1626@gmail.com",
           "name": "Peter Baker",
           "orcid": null,
           "organisation": {
            "name": "ANU",
            "ror": null
           }
          },
          "dataset_info": {
           "created_date": "2021-12-25",
           "description": "Results of counterfactual model run",
           "keywords": null,
           "license": "https://creativecommons.org/licenses/by/4.0/",
           "name": "Coral results 2021-02-30",
           "published_date": "2021-12-25",
           "publisher": {
            "name": "University of Canberra",
            "ror": null
           },
           "version": null
          }
         },
         "created_time": "2022-06-17T05:09:44.317029",
         "handle": "10378.1/1686976",
         "rocrate_metadata": {
          "@context": [
           "https://w3id.org/ro/crate/1.1/context",
           {
            "@vocab": "https://schema.org/"
           }
          ],
          "@graph": [
           {
            "@id": "ro-crate-metadata.json",
            "@type": "CreativeWork",
            "about": {
             "@id": "./"
            },
            "author": {
             "@id": "record/author"
            },
            "conformsTo": {
             "@id": "https://w3id.org/ro/crate/1.1"
            },
            "dateCreated": "2022-06-17",
            "dateModified": "2022-06-17",
            "datePublished": "2022-06-17"
           },
           {
            "@id": "record/author",
            "@type": [
             "Person",
             "ContactPoint"
            ],
            "email": "peter.baker1626@gmail.com",
            "name": "Peter Baker",
            "worksFor": {
             "@id": "record/author/worksFor"
            }
           },
           {
            "@id": "record/author/worksFor",
            "@type": "Organization",
            "name": "ANU"
           },
           {
            "@id": "./",
            "@type": "Dataset",
            "dateCreated": "2021-12-25",
            "datePublished": "2021-12-25",
            "description": "Results of counterfactual model run",
            "identifier": "10378.1/1686976",
            "license": {
             "@id": "https://creativecommons.org/licenses/by/4.0/"
            },
            "name": "Coral results 2021-02-30",
            "publisher": {
             "@id": "dataset/publisher"
            }
           },
           {
            "@id": "dataset/publisher",
            "@type": "Organization",
            "name": "University of Canberra"
           }
          ]
         },
         "s3": {
          "bucket_name": "dev-rrap-storage-bucket",
          "path": "datasets/10378-1-1686976/",
          "s3_uri": "s3://dev-rrap-storage-bucket/datasets/10378-1-1686976/"
         },
         "updated_time": "2022-06-17T05:09:44.317029"
        },
        {
         "collection_format": {
          "author": {
           "email": "peter.baker1626@gmail.com",
           "name": "Peter Baker",
           "orcid": "https://orcid.org/0000-0002-7190-5187",
           "organisation": {
            "name": "ANU",
            "ror": "https://ror.org/ANUfake"
           }
          },
          "dataset_info": {
           "created_date": "2021-12-25",
           "description": "Results of counterfactual model run",
           "keywords": [
            "keyword1",
            "keyword2"
           ],
           "license": "https://creativecommons.org/licenses/by/4.0/",
           "name": "Coral results 2021-02-30",
           "published_date": "2021-12-25",
           "publisher": {
            "name": "University of Canberra",
            "ror": "https://ror.org/UCFake"
           },
           "version": "1.2.4"
          }
         },
         "created_time": "2022-06-27T01:29:39.622410",
         "handle": "10378.1/1687219",
         "rocrate_metadata": {
          "@context": [
           "https://w3id.org/ro/crate/1.1/context",
           {
            "@vocab": "https://schema.org/"
           }
          ],
          "@graph": [
           {
            "@id": "ro-crate-metadata.json",
            "@type": "CreativeWork",
            "about": {
             "@id": "./"
            },
            "author": {
             "@id": "https://orcid.org/0000-0002-7190-5187"
            },
            "conformsTo": {
             "@id": "https://w3id.org/ro/crate/1.1"
            },
            "dateCreated": "2022-06-27",
            "dateModified": "2022-06-27",
            "datePublished": "2022-06-27"
           },
           {
            "@id": "https://orcid.org/0000-0002-7190-5187",
            "@type": [
             "Person",
             "ContactPoint"
            ],
            "email": "peter.baker1626@gmail.com",
            "name": "Peter Baker",
            "worksFor": {
             "@id": "https://ror.org/ANUfake"
            }
           },
           {
            "@id": "https://ror.org/ANUfake",
            "@type": "Organization",
            "name": "ANU"
           },
           {
            "@id": "./",
            "@type": "Dataset",
            "dateCreated": "2021-12-25",
            "datePublished": "2021-12-25",
            "description": "Results of counterfactual model run",
            "identifier": "10378.1/1687219",
            "keywords": [
             "keyword1",
             "keyword2"
            ],
            "license": {
             "@id": "https://creativecommons.org/licenses/by/4.0/"
            },
            "name": "Coral results 2021-02-30",
            "publisher": {
             "@id": "https://ror.org/UCFake"
            },
            "version": "1.2.4"
           },
           {
            "@id": "https://ror.org/UCFake",
            "@type": "Organization",
            "name": "University of Canberra"
           }
          ]
         },
         "s3": {
          "bucket_name": "dev-rrap-storage-bucket",
          "path": "datasets/10378-1-1687219/",
          "s3_uri": "s3://dev-rrap-storage-bucket/datasets/10378-1-1687219/"
         },
         "updated_time": "2022-06-27T01:29:39.622410"
        },
        {
         "collection_format": {
          "author": {
           "email": "peter.baker1626@gmail.com",
           "name": "Peter Baker",
           "orcid": "https://orcid.org/0000-0002-7190-5187",
           "organisation": {
            "name": "ANU",
            "ror": "https://ror.org/ANUfake"
           }
          },
          "dataset_info": {
           "created_date": "2021-12-25",
           "description": "Results of counterfactual model run",
           "keywords": [
            "keyword1",
            "keyword2"
           ],
           "license": "https://creativecommons.org/licenses/by/4.0/",
           "name": "Coral results 2021-02-30",
           "published_date": "2021-12-25",
           "publisher": {
            "name": "University of Canberra",
            "ror": "https://ror.org/UCFake"
           },
           "version": "1.2.4"
          }
         },
         "created_time": "2022-06-27T07:04:20.225746",
         "handle": "10378.1/1687240",
         "rocrate_metadata": {
          "@context": [
           "https://w3id.org/ro/crate/1.1/context",
           {
            "@vocab": "https://schema.org/"
           }
          ],
          "@graph": [
           {
            "@id": "ro-crate-metadata.json",
            "@type": "CreativeWork",
            "about": {
             "@id": "./"
            },
            "author": {
             "@id": "https://orcid.org/0000-0002-7190-5187"
            },
            "conformsTo": {
             "@id": "https://w3id.org/ro/crate/1.1"
            },
            "dateCreated": "2022-06-27",
            "dateModified": "2022-06-27",
            "datePublished": "2022-06-27"
           },
           {
            "@id": "https://orcid.org/0000-0002-7190-5187",
            "@type": [
             "Person",
             "ContactPoint"
            ],
            "email": "peter.baker1626@gmail.com",
            "name": "Peter Baker",
            "worksFor": {
             "@id": "https://ror.org/ANUfake"
            }
           },
           {
            "@id": "https://ror.org/ANUfake",
            "@type": "Organization",
            "name": "ANU"
           },
           {
            "@id": "./",
            "@type": "Dataset",
            "dateCreated": "2021-12-25",
            "datePublished": "2021-12-25",
            "description": "Results of counterfactual model run",
            "identifier": "10378.1/1687240",
            "keywords": [
             "keyword1",
             "keyword2"
            ],
            "license": {
             "@id": "https://creativecommons.org/licenses/by/4.0/"
            },
            "name": "Coral results 2021-02-30",
            "publisher": {
             "@id": "https://ror.org/UCFake"
            },
            "version": "1.2.4"
           },
           {
            "@id": "https://ror.org/UCFake",
            "@type": "Organization",
            "name": "University of Canberra"
           }
          ]
         },
         "s3": {
          "bucket_name": "dev-rrap-storage-bucket",
          "path": "datasets/10378-1-1687240/",
          "s3_uri": "s3://dev-rrap-storage-bucket/datasets/10378-1-1687240/"
         },
         "updated_time": "2022-06-27T07:04:20.225746"
        },
        {
         "collection_format": {
          "author": {
           "email": "rosspetridis@gmail.com",
           "name": "Ross Petridis",
           "orcid": "https://orcid.org/0000-0002-7190-5187",
           "organisation": {
            "name": "University of Melbourne",
            "ror": "https://ror.org/00rqy9422"
           }
          },
          "dataset_info": {
           "created_date": "2021-12-25",
           "description": "Results of counterfactual model run - updated",
           "keywords": [
            "keyword1",
            "keyword2",
            "coralLover"
           ],
           "license": "https://creativecommons.org/licenses/by/4.0/",
           "name": "Coral results 2021-02-30 - updated",
           "published_date": "2021-12-25",
           "publisher": {
            "name": "University of Melbourne",
            "ror": "https://ror.org/00rqy9422"
           },
           "version": "1.2.6"
          }
         },
         "created_time": "2022-06-24T02:16:08.654584",
         "handle": "10378.1/1687208",
         "rocrate_metadata": {
          "@context": [
           "https://w3id.org/ro/crate/1.1/context",
           {
            "@vocab": "https://schema.org/"
           }
          ],
          "@graph": [
           {
            "@id": "ro-crate-metadata.json",
            "@type": "CreativeWork",
            "about": {
             "@id": "./"
            },
            "author": {
             "@id": "https://orcid.org/0000-0002-7190-5187"
            },
            "conformsTo": {
             "@id": "https://w3id.org/ro/crate/1.1"
            },
            "dateCreated": "2022-06-24",
            "dateModified": "2022-06-24",
            "datePublished": "2022-06-24"
           },
           {
            "@id": "https://orcid.org/0000-0002-7190-5187",
            "@type": [
             "Person",
             "ContactPoint"
            ],
            "email": "rosspetridis@gmail.com",
            "name": "Ross Petridis",
            "worksFor": {
             "@id": "https://ror.org/00rqy9422"
            }
           },
           {
            "@id": "https://ror.org/00rqy9422",
            "@type": "Organization",
            "name": "University of Melbourne"
           },
           {
            "@id": "./",
            "@type": "Dataset",
            "dateCreated": "2021-12-25",
            "datePublished": "2021-12-25",
            "description": "Results of counterfactual model run - updated",
            "identifier": "10378.1/1687208",
            "keywords": [
             "keyword1",
             "keyword2",
             "coralLover"
            ],
            "license": {
             "@id": "https://creativecommons.org/licenses/by/4.0/"
            },
            "name": "Coral results 2021-02-30 - updated",
            "publisher": {
             "@id": "https://ror.org/00rqy9422"
            },
            "version": "1.2.6"
           }
          ]
         },
         "s3": {
          "bucket_name": "dev-rrap-storage-bucket",
          "path": "datasets/10378-1-1687208/",
          "s3_uri": "s3://dev-rrap-storage-bucket/datasets/10378-1-1687208/"
         },
         "updated_time": "2022-06-24T02:27:07.009738"
        },
        {
         "collection_format": {
          "author": {
           "email": "peter.baker1626@gmail.com",
           "name": "Peter Baker",
           "orcid": null,
           "organisation": {
            "name": "ANU",
            "ror": null
           }
          },
          "dataset_info": {
           "created_date": "2021-12-25",
           "description": "Results of counterfactual model run",
           "keywords": null,
           "license": "https://creativecommons.org/licenses/by/4.0/",
           "name": "Coral results 2021-02-30",
           "published_date": "2021-12-25",
           "publisher": {
            "name": "University of Canberra",
            "ror": null
           },
           "version": null
          }
         },
         "created_time": "2022-07-07T05:55:28.627783",
         "handle": "10378.1/1687363",
         "rocrate_metadata": {
          "@context": [
           "https://w3id.org/ro/crate/1.1/context",
           {
            "@vocab": "https://schema.org/"
           }
          ],
          "@graph": [
           {
            "@id": "ro-crate-metadata.json",
            "@type": "CreativeWork",
            "about": {
             "@id": "./"
            },
            "author": {
             "@id": "record/author"
            },
            "conformsTo": {
             "@id": "https://w3id.org/ro/crate/1.1"
            },
            "dateCreated": "2022-07-07",
            "dateModified": "2022-07-07",
            "datePublished": "2022-07-07"
           },
           {
            "@id": "record/author",
            "@type": [
             "Person",
             "ContactPoint"
            ],
            "email": "peter.baker1626@gmail.com",
            "name": "Peter Baker",
            "worksFor": {
             "@id": "record/author/worksFor"
            }
           },
           {
            "@id": "record/author/worksFor",
            "@type": "Organization",
            "name": "ANU"
           },
           {
            "@id": "./",
            "@type": "Dataset",
            "dateCreated": "2021-12-25",
            "datePublished": "2021-12-25",
            "description": "Results of counterfactual model run",
            "identifier": "10378.1/1687363",
            "license": {
             "@id": "https://creativecommons.org/licenses/by/4.0/"
            },
            "name": "Coral results 2021-02-30",
            "publisher": {
             "@id": "dataset/publisher"
            }
           },
           {
            "@id": "dataset/publisher",
            "@type": "Organization",
            "name": "University of Canberra"
           }
          ]
         },
         "s3": {
          "bucket_name": "dev-rrap-storage-bucket",
          "path": "datasets/10378-1-1687363/",
          "s3_uri": "s3://dev-rrap-storage-bucket/datasets/10378-1-1687363/"
         },
         "updated_time": "2022-07-07T05:55:28.627783"
        },
        {
         "collection_format": {
          "author": {
           "email": "rosspetridis@gmail.com",
           "name": "Ross Petridis",
           "orcid": "https://orcid.org/0000-0002-7190-5187",
           "organisation": {
            "name": "University of Melbourne",
            "ror": "https://ror.org/00rqy9422"
           }
          },
          "dataset_info": {
           "created_date": "2021-12-25",
           "description": "Results of counterfactual model run - updated",
           "keywords": [
            "keyword1",
            "keyword2",
            "coralLover"
           ],
           "license": "https://creativecommons.org/licenses/by/4.0/",
           "name": "Coral results 2021-02-30 - updated",
           "published_date": "2021-12-25",
           "publisher": {
            "name": "University of Melbourne",
            "ror": "https://ror.org/00rqy9422"
           },
           "version": "1.2.6"
          }
         },
         "created_time": "2022-06-27T01:29:48.436319",
         "handle": "10378.1/1687221",
         "rocrate_metadata": {
          "@context": [
           "https://w3id.org/ro/crate/1.1/context",
           {
            "@vocab": "https://schema.org/"
           }
          ],
          "@graph": [
           {
            "@id": "ro-crate-metadata.json",
            "@type": "CreativeWork",
            "about": {
             "@id": "./"
            },
            "author": {
             "@id": "https://orcid.org/0000-0002-7190-5187"
            },
            "conformsTo": {
             "@id": "https://w3id.org/ro/crate/1.1"
            },
            "dateCreated": "2022-06-27",
            "dateModified": "2022-06-27",
            "datePublished": "2022-06-27"
           },
           {
            "@id": "https://orcid.org/0000-0002-7190-5187",
            "@type": [
             "Person",
             "ContactPoint"
            ],
            "email": "rosspetridis@gmail.com",
            "name": "Ross Petridis",
            "worksFor": {
             "@id": "https://ror.org/00rqy9422"
            }
           },
           {
            "@id": "https://ror.org/00rqy9422",
            "@type": "Organization",
            "name": "University of Melbourne"
           },
           {
            "@id": "./",
            "@type": "Dataset",
            "dateCreated": "2021-12-25",
            "datePublished": "2021-12-25",
            "description": "Results of counterfactual model run - updated",
            "identifier": "10378.1/1687221",
            "keywords": [
             "keyword1",
             "keyword2",
             "coralLover"
            ],
            "license": {
             "@id": "https://creativecommons.org/licenses/by/4.0/"
            },
            "name": "Coral results 2021-02-30 - updated",
            "publisher": {
             "@id": "https://ror.org/00rqy9422"
            },
            "version": "1.2.6"
           }
          ]
         },
         "s3": {
          "bucket_name": "dev-rrap-storage-bucket",
          "path": "datasets/10378-1-1687221/",
          "s3_uri": "s3://dev-rrap-storage-bucket/datasets/10378-1-1687221/"
         },
         "updated_time": "2022-06-27T01:29:48.747135"
        },
        {
         "collection_format": {
          "author": {
           "email": "ross.petridis@csiro.au",
           "name": "Ross Petridis",
           "orcid": "https://orcid.org/0000-0002-3798-9719",
           "organisation": {
            "name": "Commonwealth Scientific and Industrial Research Organisation",
            "ror": "https://ror.org/03qn8fb07"
           }
          },
          "dataset_info": {
           "created_date": "2022-06-17",
           "description": "This is a test",
           "keywords": [
            "keyword 2",
            "keyword2 "
           ],
           "license": "https://creativecommons.org/publicdomain/zero/1.0/",
           "name": "orcid test upload",
           "published_date": "2022-06-24",
           "publisher": {
            "name": "Commonwealth Scientific and Industrial Research Organisation",
            "ror": "https://ror.org/03qn8fb07"
           },
           "version": "1.1.1"
          }
         },
         "created_time": "2022-06-09T02:25:22.997316",
         "handle": "10378.1/1686927",
         "rocrate_metadata": {
          "@context": [
           "https://w3id.org/ro/crate/1.1/context",
           {
            "@vocab": "https://schema.org/"
           }
          ],
          "@graph": [
           {
            "@id": "ro-crate-metadata.json",
            "@type": "CreativeWork",
            "about": {
             "@id": "./"
            },
            "author": {
             "@id": "https://orcid.org/0000-0002-3798-9719"
            },
            "conformsTo": {
             "@id": "https://w3id.org/ro/crate/1.1"
            },
            "dateCreated": "2022-06-09",
            "dateModified": "2022-06-09",
            "datePublished": "2022-06-09"
           },
           {
            "@id": "https://orcid.org/0000-0002-3798-9719",
            "@type": [
             "Person",
             "ContactPoint"
            ],
            "email": "ross.petridis@csiro.au",
            "name": "Ross Petridis",
            "worksFor": {
             "@id": "https://ror.org/03qn8fb07"
            }
           },
           {
            "@id": "https://ror.org/03qn8fb07",
            "@type": "Organization",
            "name": "Commonwealth Scientific and Industrial Research Organisation"
           },
           {
            "@id": "./",
            "@type": "Dataset",
            "dateCreated": "2022-06-17",
            "datePublished": "2022-06-24",
            "description": "This is a test",
            "identifier": "10378.1/1686927",
            "keywords": [
             "keyword 2",
             "keyword2 "
            ],
            "license": {
             "@id": "https://creativecommons.org/publicdomain/zero/1.0/"
            },
            "name": "orcid test upload",
            "publisher": {
             "@id": "https://ror.org/03qn8fb07"
            },
            "version": "1.1.1"
           }
          ]
         },
         "s3": {
          "bucket_name": "dev-rrap-storage-bucket",
          "path": "datasets/10378-1-1686927/",
          "s3_uri": "s3://dev-rrap-storage-bucket/datasets/10378-1-1686927/"
         },
         "updated_time": "2022-06-09T02:25:22.997316"
        },
        {
         "collection_format": {
          "author": {
           "email": "peter.baker1626@gmail.com",
           "name": "Peter Baker",
           "orcid": null,
           "organisation": {
            "name": "ANU",
            "ror": null
           }
          },
          "dataset_info": {
           "created_date": "2021-12-25",
           "description": "Results of counterfactual model run",
           "keywords": null,
           "license": "https://creativecommons.org/licenses/by/4.0/",
           "name": "Coral results 2021-02-30",
           "published_date": "2021-12-25",
           "publisher": {
            "name": "University of Canberra",
            "ror": null
           },
           "version": null
          }
         },
         "created_time": "2022-06-06T07:15:27.624693",
         "handle": "10378.1/1686876",
         "rocrate_metadata": {
          "@context": [
           "https://w3id.org/ro/crate/1.1/context",
           {
            "@vocab": "https://schema.org/"
           }
          ],
          "@graph": [
           {
            "@id": "ro-crate-metadata.json",
            "@type": "CreativeWork",
            "about": {
             "@id": "./"
            },
            "author": {
             "@id": "record/author"
            },
            "conformsTo": {
             "@id": "https://w3id.org/ro/crate/1.1"
            },
            "dateCreated": "2022-06-06",
            "dateModified": "2022-06-06",
            "datePublished": "2022-06-06"
           },
           {
            "@id": "record/author",
            "@type": [
             "Person",
             "ContactPoint"
            ],
            "email": "peter.baker1626@gmail.com",
            "name": "Peter Baker",
            "worksFor": {
             "@id": "record/author/worksFor"
            }
           },
           {
            "@id": "record/author/worksFor",
            "@type": "Organization",
            "name": "ANU"
           },
           {
            "@id": "./",
            "@type": "Dataset",
            "dateCreated": "2021-12-25",
            "datePublished": "2021-12-25",
            "description": "Results of counterfactual model run",
            "identifier": "10378.1/1686876",
            "license": {
             "@id": "https://creativecommons.org/licenses/by/4.0/"
            },
            "name": "Coral results 2021-02-30",
            "publisher": {
             "@id": "dataset/publisher"
            }
           },
           {
            "@id": "dataset/publisher",
            "@type": "Organization",
            "name": "University of Canberra"
           }
          ]
         },
         "s3": {
          "bucket_name": "dev-rrap-storage-bucket",
          "path": "datasets/10378-1-1686876/",
          "s3_uri": "s3://dev-rrap-storage-bucket/datasets/10378-1-1686876/"
         },
         "updated_time": "2022-06-06T07:15:27.624693"
        },
        {
         "collection_format": {
          "author": {
           "email": "rosspetridis@gmail.com",
           "name": "Ross Petridis",
           "orcid": "https://orcid.org/0000-0002-7190-5187",
           "organisation": {
            "name": "University of Melbourne",
            "ror": "https://ror.org/00rqy9422"
           }
          },
          "dataset_info": {
           "created_date": "2021-12-25",
           "description": "Results of counterfactual model run - updated",
           "keywords": [
            "keyword1",
            "keyword2",
            "coralLover"
           ],
           "license": "https://creativecommons.org/licenses/by/4.0/",
           "name": "Coral results 2021-02-30 - updated",
           "published_date": "2021-12-25",
           "publisher": {
            "name": "University of Melbourne",
            "ror": "https://ror.org/00rqy9422"
           },
           "version": "1.2.6"
          }
         },
         "created_time": "2022-07-07T05:55:32.568072",
         "handle": "10378.1/1687364",
         "rocrate_metadata": {
          "@context": [
           "https://w3id.org/ro/crate/1.1/context",
           {
            "@vocab": "https://schema.org/"
           }
          ],
          "@graph": [
           {
            "@id": "ro-crate-metadata.json",
            "@type": "CreativeWork",
            "about": {
             "@id": "./"
            },
            "author": {
             "@id": "https://orcid.org/0000-0002-7190-5187"
            },
            "conformsTo": {
             "@id": "https://w3id.org/ro/crate/1.1"
            },
            "dateCreated": "2022-07-07",
            "dateModified": "2022-07-07",
            "datePublished": "2022-07-07"
           },
           {
            "@id": "https://orcid.org/0000-0002-7190-5187",
            "@type": [
             "Person",
             "ContactPoint"
            ],
            "email": "rosspetridis@gmail.com",
            "name": "Ross Petridis",
            "worksFor": {
             "@id": "https://ror.org/00rqy9422"
            }
           },
           {
            "@id": "https://ror.org/00rqy9422",
            "@type": "Organization",
            "name": "University of Melbourne"
           },
           {
            "@id": "./",
            "@type": "Dataset",
            "dateCreated": "2021-12-25",
            "datePublished": "2021-12-25",
            "description": "Results of counterfactual model run - updated",
            "identifier": "10378.1/1687364",
            "keywords": [
             "keyword1",
             "keyword2",
             "coralLover"
            ],
            "license": {
             "@id": "https://creativecommons.org/licenses/by/4.0/"
            },
            "name": "Coral results 2021-02-30 - updated",
            "publisher": {
             "@id": "https://ror.org/00rqy9422"
            },
            "version": "1.2.6"
           }
          ]
         },
         "s3": {
          "bucket_name": "dev-rrap-storage-bucket",
          "path": "datasets/10378-1-1687364/",
          "s3_uri": "s3://dev-rrap-storage-bucket/datasets/10378-1-1687364/"
         },
         "updated_time": "2022-07-07T05:55:32.887410"
        },
        {
         "collection_format": {
          "author": {
           "email": "rosspetridis@gmail.com",
           "name": "Ross Petridis",
           "orcid": "https://orcid.org/0000-0002-7190-5187",
           "organisation": {
            "name": "University of Melbourne",
            "ror": "https://ror.org/00rqy9422"
           }
          },
          "dataset_info": {
           "created_date": "2021-12-25",
           "description": "Results of counterfactual model run - updated",
           "keywords": [
            "keyword1",
            "keyword2",
            "coralLover"
           ],
           "license": "https://creativecommons.org/licenses/by/4.0/",
           "name": "Coral results 2021-02-30 - updated",
           "published_date": "2021-12-25",
           "publisher": {
            "name": "University of Melbourne",
            "ror": "https://ror.org/00rqy9422"
           },
           "version": "1.2.6"
          }
         },
         "created_time": "2022-06-06T00:50:11.961417",
         "handle": "10378.1/1686831",
         "rocrate_metadata": {
          "@context": [
           "https://w3id.org/ro/crate/1.1/context",
           {
            "@vocab": "https://schema.org/"
           }
          ],
          "@graph": [
           {
            "@id": "ro-crate-metadata.json",
            "@type": "CreativeWork",
            "about": {
             "@id": "./"
            },
            "author": {
             "@id": "https://orcid.org/0000-0002-7190-5187"
            },
            "conformsTo": {
             "@id": "https://w3id.org/ro/crate/1.1"
            },
            "dateCreated": "2022-06-06",
            "dateModified": "2022-06-06",
            "datePublished": "2022-06-06"
           },
           {
            "@id": "https://orcid.org/0000-0002-7190-5187",
            "@type": [
             "Person",
             "ContactPoint"
            ],
            "email": "rosspetridis@gmail.com",
            "name": "Ross Petridis",
            "worksFor": {
             "@id": "https://ror.org/00rqy9422"
            }
           },
           {
            "@id": "https://ror.org/00rqy9422",
            "@type": "Organization",
            "name": "University of Melbourne"
           },
           {
            "@id": "./",
            "@type": "Dataset",
            "dateCreated": "2021-12-25",
            "datePublished": "2021-12-25",
            "description": "Results of counterfactual model run - updated",
            "identifier": "10378.1/1686831",
            "keywords": [
             "keyword1",
             "keyword2",
             "coralLover"
            ],
            "license": {
             "@id": "https://creativecommons.org/licenses/by/4.0/"
            },
            "name": "Coral results 2021-02-30 - updated",
            "publisher": {
             "@id": "https://ror.org/00rqy9422"
            },
            "version": "1.2.6"
           }
          ]
         },
         "s3": {
          "bucket_name": "dev-rrap-storage-bucket",
          "path": "datasets/10378-1-1686831/",
          "s3_uri": "s3://dev-rrap-storage-bucket/datasets/10378-1-1686831/"
         },
         "updated_time": "2022-06-06T00:50:12.264608"
        },
        {
         "collection_format": {
          "author": {
           "email": "peter.baker1626@gmail.com",
           "name": "Peter Baker",
           "orcid": null,
           "organisation": {
            "name": "ANU",
            "ror": null
           }
          },
          "dataset_info": {
           "created_date": "2021-12-25",
           "description": "Results of counterfactual model run",
           "keywords": null,
           "license": "https://creativecommons.org/licenses/by/4.0/",
           "name": "Coral results 2021-02-30",
           "published_date": "2021-12-25",
           "publisher": {
            "name": "University of Canberra",
            "ror": null
           },
           "version": null
          }
         },
         "created_time": "2022-07-14T01:36:12.803682",
         "handle": "10378.1/1687490",
         "rocrate_metadata": {
          "@context": [
           "https://w3id.org/ro/crate/1.1/context",
           {
            "@vocab": "https://schema.org/"
           }
          ],
          "@graph": [
           {
            "@id": "ro-crate-metadata.json",
            "@type": "CreativeWork",
            "about": {
             "@id": "./"
            },
            "author": {
             "@id": "record/author"
            },
            "conformsTo": {
             "@id": "https://w3id.org/ro/crate/1.1"
            },
            "dateCreated": "2022-07-14",
            "dateModified": "2022-07-14",
            "datePublished": "2022-07-14"
           },
           {
            "@id": "record/author",
            "@type": [
             "Person",
             "ContactPoint"
            ],
            "email": "peter.baker1626@gmail.com",
            "name": "Peter Baker",
            "worksFor": {
             "@id": "record/author/worksFor"
            }
           },
           {
            "@id": "record/author/worksFor",
            "@type": "Organization",
            "name": "ANU"
           },
           {
            "@id": "./",
            "@type": "Dataset",
            "dateCreated": "2021-12-25",
            "datePublished": "2021-12-25",
            "description": "Results of counterfactual model run",
            "identifier": "10378.1/1687490",
            "license": {
             "@id": "https://creativecommons.org/licenses/by/4.0/"
            },
            "name": "Coral results 2021-02-30",
            "publisher": {
             "@id": "dataset/publisher"
            }
           },
           {
            "@id": "dataset/publisher",
            "@type": "Organization",
            "name": "University of Canberra"
           }
          ]
         },
         "s3": {
          "bucket_name": "dev-rrap-storage-bucket",
          "path": "datasets/10378-1-1687490/",
          "s3_uri": "s3://dev-rrap-storage-bucket/datasets/10378-1-1687490/"
         },
         "updated_time": "2022-07-14T01:36:12.803682"
        },
        {
         "collection_format": {
          "author": {
           "email": "peter.baker1626@gmail.com",
           "name": "Peter Baker",
           "orcid": "https://orcid.org/0000-0002-7190-5187",
           "organisation": {
            "name": "ANU",
            "ror": "https://ror.org/ANUfake"
           }
          },
          "dataset_info": {
           "created_date": "2021-12-25",
           "description": "Results of counterfactual model run",
           "keywords": [
            "keyword1",
            "keyword2"
           ],
           "license": "https://creativecommons.org/licenses/by/4.0/",
           "name": "Coral results 2021-02-30",
           "published_date": "2021-12-25",
           "publisher": {
            "name": "University of Canberra",
            "ror": "https://ror.org/UCFake"
           },
           "version": "1.2.4"
          }
         },
         "created_time": "2022-06-28T03:58:01.783273",
         "handle": "10378.1/1687259",
         "rocrate_metadata": {
          "@context": [
           "https://w3id.org/ro/crate/1.1/context",
           {
            "@vocab": "https://schema.org/"
           }
          ],
          "@graph": [
           {
            "@id": "ro-crate-metadata.json",
            "@type": "CreativeWork",
            "about": {
             "@id": "./"
            },
            "author": {
             "@id": "https://orcid.org/0000-0002-7190-5187"
            },
            "conformsTo": {
             "@id": "https://w3id.org/ro/crate/1.1"
            },
            "dateCreated": "2022-06-28",
            "dateModified": "2022-06-28",
            "datePublished": "2022-06-28"
           },
           {
            "@id": "https://orcid.org/0000-0002-7190-5187",
            "@type": [
             "Person",
             "ContactPoint"
            ],
            "email": "peter.baker1626@gmail.com",
            "name": "Peter Baker",
            "worksFor": {
             "@id": "https://ror.org/ANUfake"
            }
           },
           {
            "@id": "https://ror.org/ANUfake",
            "@type": "Organization",
            "name": "ANU"
           },
           {
            "@id": "./",
            "@type": "Dataset",
            "dateCreated": "2021-12-25",
            "datePublished": "2021-12-25",
            "description": "Results of counterfactual model run",
            "identifier": "10378.1/1687259",
            "keywords": [
             "keyword1",
             "keyword2"
            ],
            "license": {
             "@id": "https://creativecommons.org/licenses/by/4.0/"
            },
            "name": "Coral results 2021-02-30",
            "publisher": {
             "@id": "https://ror.org/UCFake"
            },
            "version": "1.2.4"
           },
           {
            "@id": "https://ror.org/UCFake",
            "@type": "Organization",
            "name": "University of Canberra"
           }
          ]
         },
         "s3": {
          "bucket_name": "dev-rrap-storage-bucket",
          "path": "datasets/10378-1-1687259/",
          "s3_uri": "s3://dev-rrap-storage-bucket/datasets/10378-1-1687259/"
         },
         "updated_time": "2022-06-28T03:58:01.783273"
        },
        {
         "collection_format": {
          "author": {
           "email": "peter.baker1626@gmail.com",
           "name": "Peter Baker",
           "orcid": "https://orcid.org/0000-0002-7190-5187",
           "organisation": {
            "name": "ANU",
            "ror": "https://ror.org/ANUfake"
           }
          },
          "dataset_info": {
           "created_date": "2021-12-25",
           "description": "Results of counterfactual model run",
           "keywords": [
            "keyword1",
            "keyword2"
           ],
           "license": "https://creativecommons.org/licenses/by/4.0/",
           "name": "Coral results 2021-02-30",
           "published_date": "2021-12-25",
           "publisher": {
            "name": "University of Canberra",
            "ror": "https://ror.org/UCFake"
           },
           "version": "1.2.4"
          }
         },
         "created_time": "2022-07-04T01:41:08.083564",
         "handle": "10378.1/1687307",
         "rocrate_metadata": {
          "@context": [
           "https://w3id.org/ro/crate/1.1/context",
           {
            "@vocab": "https://schema.org/"
           }
          ],
          "@graph": [
           {
            "@id": "ro-crate-metadata.json",
            "@type": "CreativeWork",
            "about": {
             "@id": "./"
            },
            "author": {
             "@id": "https://orcid.org/0000-0002-7190-5187"
            },
            "conformsTo": {
             "@id": "https://w3id.org/ro/crate/1.1"
            },
            "dateCreated": "2022-07-04",
            "dateModified": "2022-07-04",
            "datePublished": "2022-07-04"
           },
           {
            "@id": "https://orcid.org/0000-0002-7190-5187",
            "@type": [
             "Person",
             "ContactPoint"
            ],
            "email": "peter.baker1626@gmail.com",
            "name": "Peter Baker",
            "worksFor": {
             "@id": "https://ror.org/ANUfake"
            }
           },
           {
            "@id": "https://ror.org/ANUfake",
            "@type": "Organization",
            "name": "ANU"
           },
           {
            "@id": "./",
            "@type": "Dataset",
            "dateCreated": "2021-12-25",
            "datePublished": "2021-12-25",
            "description": "Results of counterfactual model run",
            "identifier": "10378.1/1687307",
            "keywords": [
             "keyword1",
             "keyword2"
            ],
            "license": {
             "@id": "https://creativecommons.org/licenses/by/4.0/"
            },
            "name": "Coral results 2021-02-30",
            "publisher": {
             "@id": "https://ror.org/UCFake"
            },
            "version": "1.2.4"
           },
           {
            "@id": "https://ror.org/UCFake",
            "@type": "Organization",
            "name": "University of Canberra"
           }
          ]
         },
         "s3": {
          "bucket_name": "dev-rrap-storage-bucket",
          "path": "datasets/10378-1-1687307/",
          "s3_uri": "s3://dev-rrap-storage-bucket/datasets/10378-1-1687307/"
         },
         "updated_time": "2022-07-04T01:41:08.083564"
        },
        {
         "collection_format": {
          "author": {
           "email": "rosspetridis@gmail.com",
           "name": "Ross Petridis",
           "orcid": "https://orcid.org/0000-0002-7190-5187",
           "organisation": {
            "name": "University of Melbourne",
            "ror": "https://ror.org/00rqy9422"
           }
          },
          "dataset_info": {
           "created_date": "2021-12-25",
           "description": "Results of counterfactual model run - updated",
           "keywords": [
            "keyword1",
            "keyword2",
            "coralLover"
           ],
           "license": "https://creativecommons.org/licenses/by/4.0/",
           "name": "Coral results 2021-02-30 - updated",
           "published_date": "2021-12-25",
           "publisher": {
            "name": "University of Melbourne",
            "ror": "https://ror.org/00rqy9422"
           },
           "version": "1.2.6"
          }
         },
         "created_time": "2022-06-17T05:09:48.533734",
         "handle": "10378.1/1686977",
         "rocrate_metadata": {
          "@context": [
           "https://w3id.org/ro/crate/1.1/context",
           {
            "@vocab": "https://schema.org/"
           }
          ],
          "@graph": [
           {
            "@id": "ro-crate-metadata.json",
            "@type": "CreativeWork",
            "about": {
             "@id": "./"
            },
            "author": {
             "@id": "https://orcid.org/0000-0002-7190-5187"
            },
            "conformsTo": {
             "@id": "https://w3id.org/ro/crate/1.1"
            },
            "dateCreated": "2022-06-17",
            "dateModified": "2022-06-17",
            "datePublished": "2022-06-17"
           },
           {
            "@id": "https://orcid.org/0000-0002-7190-5187",
            "@type": [
             "Person",
             "ContactPoint"
            ],
            "email": "rosspetridis@gmail.com",
            "name": "Ross Petridis",
            "worksFor": {
             "@id": "https://ror.org/00rqy9422"
            }
           },
           {
            "@id": "https://ror.org/00rqy9422",
            "@type": "Organization",
            "name": "University of Melbourne"
           },
           {
            "@id": "./",
            "@type": "Dataset",
            "dateCreated": "2021-12-25",
            "datePublished": "2021-12-25",
            "description": "Results of counterfactual model run - updated",
            "identifier": "10378.1/1686977",
            "keywords": [
             "keyword1",
             "keyword2",
             "coralLover"
            ],
            "license": {
             "@id": "https://creativecommons.org/licenses/by/4.0/"
            },
            "name": "Coral results 2021-02-30 - updated",
            "publisher": {
             "@id": "https://ror.org/00rqy9422"
            },
            "version": "1.2.6"
           }
          ]
         },
         "s3": {
          "bucket_name": "dev-rrap-storage-bucket",
          "path": "datasets/10378-1-1686977/",
          "s3_uri": "s3://dev-rrap-storage-bucket/datasets/10378-1-1686977/"
         },
         "updated_time": "2022-06-17T05:09:48.841269"
        },
        {
         "collection_format": {
          "author": {
           "email": "peter.baker1626@gmail.com",
           "name": "Peter Baker",
           "orcid": null,
           "organisation": {
            "name": "ANU",
            "ror": null
           }
          },
          "dataset_info": {
           "created_date": "2021-12-25",
           "description": "Results of counterfactual model run",
           "keywords": null,
           "license": "https://creativecommons.org/licenses/by/4.0/",
           "name": "Coral results 2021-02-30",
           "published_date": "2021-12-25",
           "publisher": {
            "name": "University of Canberra",
            "ror": null
           },
           "version": null
          }
         },
         "created_time": "2022-06-24T02:16:04.894934",
         "handle": "10378.1/1687207",
         "rocrate_metadata": {
          "@context": [
           "https://w3id.org/ro/crate/1.1/context",
           {
            "@vocab": "https://schema.org/"
           }
          ],
          "@graph": [
           {
            "@id": "ro-crate-metadata.json",
            "@type": "CreativeWork",
            "about": {
             "@id": "./"
            },
            "author": {
             "@id": "record/author"
            },
            "conformsTo": {
             "@id": "https://w3id.org/ro/crate/1.1"
            },
            "dateCreated": "2022-06-24",
            "dateModified": "2022-06-24",
            "datePublished": "2022-06-24"
           },
           {
            "@id": "record/author",
            "@type": [
             "Person",
             "ContactPoint"
            ],
            "email": "peter.baker1626@gmail.com",
            "name": "Peter Baker",
            "worksFor": {
             "@id": "record/author/worksFor"
            }
           },
           {
            "@id": "record/author/worksFor",
            "@type": "Organization",
            "name": "ANU"
           },
           {
            "@id": "./",
            "@type": "Dataset",
            "dateCreated": "2021-12-25",
            "datePublished": "2021-12-25",
            "description": "Results of counterfactual model run",
            "identifier": "10378.1/1687207",
            "license": {
             "@id": "https://creativecommons.org/licenses/by/4.0/"
            },
            "name": "Coral results 2021-02-30",
            "publisher": {
             "@id": "dataset/publisher"
            }
           },
           {
            "@id": "dataset/publisher",
            "@type": "Organization",
            "name": "University of Canberra"
           }
          ]
         },
         "s3": {
          "bucket_name": "dev-rrap-storage-bucket",
          "path": "datasets/10378-1-1687207/",
          "s3_uri": "s3://dev-rrap-storage-bucket/datasets/10378-1-1687207/"
         },
         "updated_time": "2022-06-24T02:16:04.894934"
        },
        {
         "collection_format": {
          "author": {
           "email": "rosspetridis@gmail.com",
           "name": "Ross Petridis",
           "orcid": "https://orcid.org/0000-0002-7190-5187",
           "organisation": {
            "name": "University of Melbourne",
            "ror": "https://ror.org/00rqy9422"
           }
          },
          "dataset_info": {
           "created_date": "2021-12-25",
           "description": "Results of counterfactual model run - updated",
           "keywords": [
            "keyword1",
            "keyword2",
            "coralLover"
           ],
           "license": "https://creativecommons.org/licenses/by/4.0/",
           "name": "Coral results 2021-02-30 - updated",
           "published_date": "2021-12-25",
           "publisher": {
            "name": "University of Melbourne",
            "ror": "https://ror.org/00rqy9422"
           },
           "version": "1.2.6"
          }
         },
         "created_time": "2022-06-06T00:13:03.230556",
         "handle": "10378.1/1686825",
         "rocrate_metadata": {
          "@context": [
           "https://w3id.org/ro/crate/1.1/context",
           {
            "@vocab": "https://schema.org/"
           }
          ],
          "@graph": [
           {
            "@id": "ro-crate-metadata.json",
            "@type": "CreativeWork",
            "about": {
             "@id": "./"
            },
            "author": {
             "@id": "https://orcid.org/0000-0002-7190-5187"
            },
            "conformsTo": {
             "@id": "https://w3id.org/ro/crate/1.1"
            },
            "dateCreated": "2022-06-06",
            "dateModified": "2022-06-06",
            "datePublished": "2022-06-06"
           },
           {
            "@id": "https://orcid.org/0000-0002-7190-5187",
            "@type": [
             "Person",
             "ContactPoint"
            ],
            "email": "rosspetridis@gmail.com",
            "name": "Ross Petridis",
            "worksFor": {
             "@id": "https://ror.org/00rqy9422"
            }
           },
           {
            "@id": "https://ror.org/00rqy9422",
            "@type": "Organization",
            "name": "University of Melbourne"
           },
           {
            "@id": "./",
            "@type": "Dataset",
            "dateCreated": "2021-12-25",
            "datePublished": "2021-12-25",
            "description": "Results of counterfactual model run - updated",
            "identifier": "10378.1/1686825",
            "keywords": [
             "keyword1",
             "keyword2",
             "coralLover"
            ],
            "license": {
             "@id": "https://creativecommons.org/licenses/by/4.0/"
            },
            "name": "Coral results 2021-02-30 - updated",
            "publisher": {
             "@id": "https://ror.org/00rqy9422"
            },
            "version": "1.2.6"
           }
          ]
         },
         "s3": {
          "bucket_name": "dev-rrap-storage-bucket",
          "path": "datasets/10378-1-1686825/",
          "s3_uri": "s3://dev-rrap-storage-bucket/datasets/10378-1-1686825/"
         },
         "updated_time": "2022-06-06T00:13:03.552719"
        },
        {
         "collection_format": {
          "author": {
           "email": "peter.baker1626@gmail.com",
           "name": "Peter Baker",
           "orcid": null,
           "organisation": {
            "name": "ANU",
            "ror": null
           }
          },
          "dataset_info": {
           "created_date": "2021-12-25",
           "description": "Results of counterfactual model run",
           "keywords": null,
           "license": "https://creativecommons.org/licenses/by/4.0/",
           "name": "Coral results 2021-02-30",
           "published_date": "2021-12-25",
           "publisher": {
            "name": "University of Canberra",
            "ror": null
           },
           "version": null
          }
         },
         "created_time": "2022-06-06T03:06:31.223110",
         "handle": "10378.1/1686857",
         "rocrate_metadata": {
          "@context": [
           "https://w3id.org/ro/crate/1.1/context",
           {
            "@vocab": "https://schema.org/"
           }
          ],
          "@graph": [
           {
            "@id": "ro-crate-metadata.json",
            "@type": "CreativeWork",
            "about": {
             "@id": "./"
            },
            "author": {
             "@id": "record/author"
            },
            "conformsTo": {
             "@id": "https://w3id.org/ro/crate/1.1"
            },
            "dateCreated": "2022-06-06",
            "dateModified": "2022-06-06",
            "datePublished": "2022-06-06"
           },
           {
            "@id": "record/author",
            "@type": [
             "Person",
             "ContactPoint"
            ],
            "email": "peter.baker1626@gmail.com",
            "name": "Peter Baker",
            "worksFor": {
             "@id": "record/author/worksFor"
            }
           },
           {
            "@id": "record/author/worksFor",
            "@type": "Organization",
            "name": "ANU"
           },
           {
            "@id": "./",
            "@type": "Dataset",
            "dateCreated": "2021-12-25",
            "datePublished": "2021-12-25",
            "description": "Results of counterfactual model run",
            "identifier": "10378.1/1686857",
            "license": {
             "@id": "https://creativecommons.org/licenses/by/4.0/"
            },
            "name": "Coral results 2021-02-30",
            "publisher": {
             "@id": "dataset/publisher"
            }
           },
           {
            "@id": "dataset/publisher",
            "@type": "Organization",
            "name": "University of Canberra"
           }
          ]
         },
         "s3": {
          "bucket_name": "dev-rrap-storage-bucket",
          "path": "datasets/10378-1-1686857/",
          "s3_uri": "s3://dev-rrap-storage-bucket/datasets/10378-1-1686857/"
         },
         "updated_time": "2022-06-06T03:06:31.223110"
        },
        {
         "collection_format": {
          "author": {
           "email": "peter.baker1626@gmail.com",
           "name": "Peter Baker",
           "orcid": "https://orcid.org/0000-0002-7190-5187",
           "organisation": {
            "name": "ANU",
            "ror": "https://ror.org/ANUfake"
           }
          },
          "dataset_info": {
           "created_date": "2021-12-25",
           "description": "Results of counterfactual model run",
           "keywords": [
            "keyword1",
            "keyword2"
           ],
           "license": "https://creativecommons.org/licenses/by/4.0/",
           "name": "Coral results 2021-02-30",
           "published_date": "2021-12-25",
           "publisher": {
            "name": "University of Canberra",
            "ror": "https://ror.org/UCFake"
           },
           "version": "1.2.4"
          }
         },
         "created_time": "2022-07-19T01:55:58.297885",
         "handle": "10378.1/1687570",
         "rocrate_metadata": {
          "@context": [
           "https://w3id.org/ro/crate/1.1/context",
           {
            "@vocab": "https://schema.org/"
           }
          ],
          "@graph": [
           {
            "@id": "ro-crate-metadata.json",
            "@type": "CreativeWork",
            "about": {
             "@id": "./"
            },
            "author": {
             "@id": "https://orcid.org/0000-0002-7190-5187"
            },
            "conformsTo": {
             "@id": "https://w3id.org/ro/crate/1.1"
            },
            "dateCreated": "2022-07-19",
            "dateModified": "2022-07-19",
            "datePublished": "2022-07-19"
           },
           {
            "@id": "https://orcid.org/0000-0002-7190-5187",
            "@type": [
             "Person",
             "ContactPoint"
            ],
            "email": "peter.baker1626@gmail.com",
            "name": "Peter Baker",
            "worksFor": {
             "@id": "https://ror.org/ANUfake"
            }
           },
           {
            "@id": "https://ror.org/ANUfake",
            "@type": "Organization",
            "name": "ANU"
           },
           {
            "@id": "./",
            "@type": "Dataset",
            "dateCreated": "2021-12-25",
            "datePublished": "2021-12-25",
            "description": "Results of counterfactual model run",
            "identifier": "10378.1/1687570",
            "keywords": [
             "keyword1",
             "keyword2"
            ],
            "license": {
             "@id": "https://creativecommons.org/licenses/by/4.0/"
            },
            "name": "Coral results 2021-02-30",
            "publisher": {
             "@id": "https://ror.org/UCFake"
            },
            "version": "1.2.4"
           },
           {
            "@id": "https://ror.org/UCFake",
            "@type": "Organization",
            "name": "University of Canberra"
           }
          ]
         },
         "s3": {
          "bucket_name": "dev-rrap-storage-bucket",
          "path": "datasets/10378-1-1687570/",
          "s3_uri": "s3://dev-rrap-storage-bucket/datasets/10378-1-1687570/"
         },
         "updated_time": "2022-07-19T01:55:58.297885"
        },
        {
         "collection_format": {
          "author": {
           "email": "peter.baker1626@gmail.com",
           "name": "Peter Baker",
           "orcid": null,
           "organisation": {
            "name": "ANU",
            "ror": null
           }
          },
          "dataset_info": {
           "created_date": "2021-12-25",
           "description": "Results of counterfactual model run",
           "keywords": null,
           "license": "https://creativecommons.org/licenses/by/4.0/",
           "name": "Coral results 2021-02-30",
           "published_date": "2021-12-25",
           "publisher": {
            "name": "University of Canberra",
            "ror": null
           },
           "version": null
          }
         },
         "created_time": "2022-06-28T02:13:29.672710",
         "handle": "10378.1/1687249",
         "rocrate_metadata": {
          "@context": [
           "https://w3id.org/ro/crate/1.1/context",
           {
            "@vocab": "https://schema.org/"
           }
          ],
          "@graph": [
           {
            "@id": "ro-crate-metadata.json",
            "@type": "CreativeWork",
            "about": {
             "@id": "./"
            },
            "author": {
             "@id": "record/author"
            },
            "conformsTo": {
             "@id": "https://w3id.org/ro/crate/1.1"
            },
            "dateCreated": "2022-06-28",
            "dateModified": "2022-06-28",
            "datePublished": "2022-06-28"
           },
           {
            "@id": "record/author",
            "@type": [
             "Person",
             "ContactPoint"
            ],
            "email": "peter.baker1626@gmail.com",
            "name": "Peter Baker",
            "worksFor": {
             "@id": "record/author/worksFor"
            }
           },
           {
            "@id": "record/author/worksFor",
            "@type": "Organization",
            "name": "ANU"
           },
           {
            "@id": "./",
            "@type": "Dataset",
            "dateCreated": "2021-12-25",
            "datePublished": "2021-12-25",
            "description": "Results of counterfactual model run",
            "identifier": "10378.1/1687249",
            "license": {
             "@id": "https://creativecommons.org/licenses/by/4.0/"
            },
            "name": "Coral results 2021-02-30",
            "publisher": {
             "@id": "dataset/publisher"
            }
           },
           {
            "@id": "dataset/publisher",
            "@type": "Organization",
            "name": "University of Canberra"
           }
          ]
         },
         "s3": {
          "bucket_name": "dev-rrap-storage-bucket",
          "path": "datasets/10378-1-1687249/",
          "s3_uri": "s3://dev-rrap-storage-bucket/datasets/10378-1-1687249/"
         },
         "updated_time": "2022-06-28T02:13:29.672710"
        },
        {
         "collection_format": {
          "author": {
           "email": "linda.thomas@csiro.au",
           "name": "Linda Thomas",
           "orcid": "https://orcid.org/0000-0001-8989-8109",
           "organisation": {
            "name": "CSIRO Oceans and Atmosphere",
            "ror": "https://ror.org/026nh4520"
           }
          },
          "dataset_info": {
           "created_date": "2022-07-11",
           "description": "Lorem ipsum dolor sit amet, consectetur adipiscing elit. Donec eget tempus est. Sed a viverra dolor, sed pellentesque massa. Orci varius natoque penatibus et magnis dis parturient montes, nascetur ridiculus mus. Aenean sit amet consectetur lacus, non ultrices lectus. Sed auctor sed leo vel vehicula. Suspendisse tristique felis eu tempor interdum. Praesent vitae quam sagittis, pellentesque felis sed, tristique leo.\n\nDonec sagittis tempor nibh, vel porttitor sapien vehicula ut. Pellentesque fringilla gravida euismod. Praesent eget lorem bibendum, ultrices arcu condimentum, consequat eros. Aenean imperdiet erat at egestas vulputate. Integer cursus mauris eget lectus fermentum laoreet. Donec at erat est. Curabitur posuere est non rutrum ultrices. Donec vitae vehicula dui. Etiam nulla risus, vehicula ac facilisis a, lacinia a lorem. Pellentesque tempor accumsan ligula, vitae pulvinar tellus rutrum non. Maecenas eget diam ut felis tincidunt efficitur. Nam magna turpis, placerat eu diam nec, euismod tincidunt velit.\n\nPhasellus ullamcorper luctus velit eget blandit. Proin justo orci, commodo eget ornare nec, fringilla eu est. Nam a ex ut ante mollis ornare. Phasellus non venenatis dolor. Cras mauris erat, tincidunt ac gravida id, facilisis a risus. Ut in libero leo. Quisque volutpat venenatis dolor, ut lacinia nibh cursus vel. Suspendisse eu tincidunt sem. Maecenas porttitor eros tellus. Integer porta fringilla condimentum. Mauris eget molestie magna. Aenean nec lacinia mauris. Phasellus sit amet ligula felis. Etiam lacinia ac erat id sollicitudin. Suspendisse vel sem orci. Donec iaculis rhoncus euismod.",
           "keywords": null,
           "license": "https://gbrrestoration.github.io/rrap-mds-knowledge-hub/information-system/licenses.html#copyright-all-rights-reserved-",
           "name": "Test dataset for Sponges",
           "published_date": "2020-01-11",
           "publisher": {
            "name": "CSIRO Oceans and Atmosphere",
            "ror": "https://ror.org/026nh4520"
           },
           "version": "v1"
          }
         },
         "created_time": "2022-07-11T05:25:04.342668",
         "handle": "10378.1/1687388",
         "rocrate_metadata": {
          "@context": [
           "https://w3id.org/ro/crate/1.1/context",
           {
            "@vocab": "https://schema.org/"
           }
          ],
          "@graph": [
           {
            "@id": "ro-crate-metadata.json",
            "@type": "CreativeWork",
            "about": {
             "@id": "./"
            },
            "author": {
             "@id": "https://orcid.org/0000-0001-8989-8109"
            },
            "conformsTo": {
             "@id": "https://w3id.org/ro/crate/1.1"
            },
            "dateCreated": "2022-07-11",
            "dateModified": "2022-07-11",
            "datePublished": "2022-07-11"
           },
           {
            "@id": "https://orcid.org/0000-0001-8989-8109",
            "@type": [
             "Person",
             "ContactPoint"
            ],
            "email": "linda.thomas@csiro.au",
            "name": "Linda Thomas",
            "worksFor": {
             "@id": "https://ror.org/026nh4520"
            }
           },
           {
            "@id": "https://ror.org/026nh4520",
            "@type": "Organization",
            "name": "CSIRO Oceans and Atmosphere"
           },
           {
            "@id": "./",
            "@type": "Dataset",
            "dateCreated": "2022-07-11",
            "datePublished": "2020-01-11",
            "description": "Lorem ipsum dolor sit amet, consectetur adipiscing elit. Donec eget tempus est. Sed a viverra dolor, sed pellentesque massa. Orci varius natoque penatibus et magnis dis parturient montes, nascetur ridiculus mus. Aenean sit amet consectetur lacus, non ultrices lectus. Sed auctor sed leo vel vehicula. Suspendisse tristique felis eu tempor interdum. Praesent vitae quam sagittis, pellentesque felis sed, tristique leo.\n\nDonec sagittis tempor nibh, vel porttitor sapien vehicula ut. Pellentesque fringilla gravida euismod. Praesent eget lorem bibendum, ultrices arcu condimentum, consequat eros. Aenean imperdiet erat at egestas vulputate. Integer cursus mauris eget lectus fermentum laoreet. Donec at erat est. Curabitur posuere est non rutrum ultrices. Donec vitae vehicula dui. Etiam nulla risus, vehicula ac facilisis a, lacinia a lorem. Pellentesque tempor accumsan ligula, vitae pulvinar tellus rutrum non. Maecenas eget diam ut felis tincidunt efficitur. Nam magna turpis, placerat eu diam nec, euismod tincidunt velit.\n\nPhasellus ullamcorper luctus velit eget blandit. Proin justo orci, commodo eget ornare nec, fringilla eu est. Nam a ex ut ante mollis ornare. Phasellus non venenatis dolor. Cras mauris erat, tincidunt ac gravida id, facilisis a risus. Ut in libero leo. Quisque volutpat venenatis dolor, ut lacinia nibh cursus vel. Suspendisse eu tincidunt sem. Maecenas porttitor eros tellus. Integer porta fringilla condimentum. Mauris eget molestie magna. Aenean nec lacinia mauris. Phasellus sit amet ligula felis. Etiam lacinia ac erat id sollicitudin. Suspendisse vel sem orci. Donec iaculis rhoncus euismod.",
            "identifier": "10378.1/1687388",
            "license": {
             "@id": "https://gbrrestoration.github.io/rrap-mds-knowledge-hub/information-system/licenses.html#copyright-all-rights-reserved-"
            },
            "name": "Test dataset for Sponges",
            "publisher": {
             "@id": "https://ror.org/026nh4520"
            },
            "version": "v1"
           }
          ]
         },
         "s3": {
          "bucket_name": "dev-rrap-storage-bucket",
          "path": "datasets/10378-1-1687388/",
          "s3_uri": "s3://dev-rrap-storage-bucket/datasets/10378-1-1687388/"
         },
         "updated_time": "2022-07-11T05:25:04.342668"
        },
        {
         "collection_format": {
          "author": {
           "email": "rosspetridis@gmail.com",
           "name": "Ross Petridis",
           "orcid": "https://orcid.org/0000-0002-7190-5187",
           "organisation": {
            "name": "University of Melbourne",
            "ror": "https://ror.org/00rqy9422"
           }
          },
          "dataset_info": {
           "created_date": "2021-12-25",
           "description": "Results of counterfactual model run - updated",
           "keywords": [
            "keyword1",
            "keyword2",
            "coralLover"
           ],
           "license": "https://creativecommons.org/licenses/by/4.0/",
           "name": "Coral results 2021-02-30 - updated",
           "published_date": "2021-12-25",
           "publisher": {
            "name": "University of Melbourne",
            "ror": "https://ror.org/00rqy9422"
           },
           "version": "1.2.6"
          }
         },
         "created_time": "2022-06-30T00:43:07.367066",
         "handle": "10378.1/1687276",
         "rocrate_metadata": {
          "@context": [
           "https://w3id.org/ro/crate/1.1/context",
           {
            "@vocab": "https://schema.org/"
           }
          ],
          "@graph": [
           {
            "@id": "ro-crate-metadata.json",
            "@type": "CreativeWork",
            "about": {
             "@id": "./"
            },
            "author": {
             "@id": "https://orcid.org/0000-0002-7190-5187"
            },
            "conformsTo": {
             "@id": "https://w3id.org/ro/crate/1.1"
            },
            "dateCreated": "2022-06-30",
            "dateModified": "2022-06-30",
            "datePublished": "2022-06-30"
           },
           {
            "@id": "https://orcid.org/0000-0002-7190-5187",
            "@type": [
             "Person",
             "ContactPoint"
            ],
            "email": "rosspetridis@gmail.com",
            "name": "Ross Petridis",
            "worksFor": {
             "@id": "https://ror.org/00rqy9422"
            }
           },
           {
            "@id": "https://ror.org/00rqy9422",
            "@type": "Organization",
            "name": "University of Melbourne"
           },
           {
            "@id": "./",
            "@type": "Dataset",
            "dateCreated": "2021-12-25",
            "datePublished": "2021-12-25",
            "description": "Results of counterfactual model run - updated",
            "identifier": "10378.1/1687276",
            "keywords": [
             "keyword1",
             "keyword2",
             "coralLover"
            ],
            "license": {
             "@id": "https://creativecommons.org/licenses/by/4.0/"
            },
            "name": "Coral results 2021-02-30 - updated",
            "publisher": {
             "@id": "https://ror.org/00rqy9422"
            },
            "version": "1.2.6"
           }
          ]
         },
         "s3": {
          "bucket_name": "dev-rrap-storage-bucket",
          "path": "datasets/10378-1-1687276/",
          "s3_uri": "s3://dev-rrap-storage-bucket/datasets/10378-1-1687276/"
         },
         "updated_time": "2022-06-30T00:43:07.667875"
        },
        {
         "collection_format": {
          "author": {
           "email": "peter.baker1626@gmail.com",
           "name": "Peter Baker",
           "orcid": "https://orcid.org/0000-0002-7190-5187",
           "organisation": {
            "name": "ANU",
            "ror": "https://ror.org/ANUfake"
           }
          },
          "dataset_info": {
           "created_date": "2021-12-25",
           "description": "Results of counterfactual model run",
           "keywords": [
            "keyword1",
            "keyword2"
           ],
           "license": "https://creativecommons.org/licenses/by/4.0/",
           "name": "Coral results 2021-02-30",
           "published_date": "2021-12-25",
           "publisher": {
            "name": "University of Canberra",
            "ror": "https://ror.org/UCFake"
           },
           "version": "1.2.4"
          }
         },
         "created_time": "2022-06-08T05:29:41.306181",
         "handle": "10378.1/1686900",
         "rocrate_metadata": {
          "@context": [
           "https://w3id.org/ro/crate/1.1/context",
           {
            "@vocab": "https://schema.org/"
           }
          ],
          "@graph": [
           {
            "@id": "ro-crate-metadata.json",
            "@type": "CreativeWork",
            "about": {
             "@id": "./"
            },
            "author": {
             "@id": "https://orcid.org/0000-0002-7190-5187"
            },
            "conformsTo": {
             "@id": "https://w3id.org/ro/crate/1.1"
            },
            "dateCreated": "2022-06-08",
            "dateModified": "2022-06-08",
            "datePublished": "2022-06-08"
           },
           {
            "@id": "https://orcid.org/0000-0002-7190-5187",
            "@type": [
             "Person",
             "ContactPoint"
            ],
            "email": "peter.baker1626@gmail.com",
            "name": "Peter Baker",
            "worksFor": {
             "@id": "https://ror.org/ANUfake"
            }
           },
           {
            "@id": "https://ror.org/ANUfake",
            "@type": "Organization",
            "name": "ANU"
           },
           {
            "@id": "./",
            "@type": "Dataset",
            "dateCreated": "2021-12-25",
            "datePublished": "2021-12-25",
            "description": "Results of counterfactual model run",
            "identifier": "10378.1/1686900",
            "keywords": [
             "keyword1",
             "keyword2"
            ],
            "license": {
             "@id": "https://creativecommons.org/licenses/by/4.0/"
            },
            "name": "Coral results 2021-02-30",
            "publisher": {
             "@id": "https://ror.org/UCFake"
            },
            "version": "1.2.4"
           },
           {
            "@id": "https://ror.org/UCFake",
            "@type": "Organization",
            "name": "University of Canberra"
           }
          ]
         },
         "s3": {
          "bucket_name": "dev-rrap-storage-bucket",
          "path": "datasets/10378-1-1686900/",
          "s3_uri": "s3://dev-rrap-storage-bucket/datasets/10378-1-1686900/"
         },
         "updated_time": "2022-06-08T05:29:41.306181"
        },
        {
         "collection_format": {
          "author": {
           "email": "peter.baker1626@gmail.com",
           "name": "Peter Baker",
           "orcid": "https://orcid.org/0000-0002-7190-5187",
           "organisation": {
            "name": "ANU",
            "ror": "https://ror.org/ANUfake"
           }
          },
          "dataset_info": {
           "created_date": "2021-12-25",
           "description": "Results of counterfactual model run",
           "keywords": [
            "keyword1",
            "keyword2"
           ],
           "license": "https://creativecommons.org/licenses/by/4.0/",
           "name": "Coral results 2021-02-30",
           "published_date": "2021-12-25",
           "publisher": {
            "name": "University of Canberra",
            "ror": "https://ror.org/UCFake"
           },
           "version": "1.2.4"
          }
         },
         "created_time": "2022-07-07T06:33:42.890707",
         "handle": "10378.1/1687367",
         "rocrate_metadata": {
          "@context": [
           "https://w3id.org/ro/crate/1.1/context",
           {
            "@vocab": "https://schema.org/"
           }
          ],
          "@graph": [
           {
            "@id": "ro-crate-metadata.json",
            "@type": "CreativeWork",
            "about": {
             "@id": "./"
            },
            "author": {
             "@id": "https://orcid.org/0000-0002-7190-5187"
            },
            "conformsTo": {
             "@id": "https://w3id.org/ro/crate/1.1"
            },
            "dateCreated": "2022-07-07",
            "dateModified": "2022-07-07",
            "datePublished": "2022-07-07"
           },
           {
            "@id": "https://orcid.org/0000-0002-7190-5187",
            "@type": [
             "Person",
             "ContactPoint"
            ],
            "email": "peter.baker1626@gmail.com",
            "name": "Peter Baker",
            "worksFor": {
             "@id": "https://ror.org/ANUfake"
            }
           },
           {
            "@id": "https://ror.org/ANUfake",
            "@type": "Organization",
            "name": "ANU"
           },
           {
            "@id": "./",
            "@type": "Dataset",
            "dateCreated": "2021-12-25",
            "datePublished": "2021-12-25",
            "description": "Results of counterfactual model run",
            "identifier": "10378.1/1687367",
            "keywords": [
             "keyword1",
             "keyword2"
            ],
            "license": {
             "@id": "https://creativecommons.org/licenses/by/4.0/"
            },
            "name": "Coral results 2021-02-30",
            "publisher": {
             "@id": "https://ror.org/UCFake"
            },
            "version": "1.2.4"
           },
           {
            "@id": "https://ror.org/UCFake",
            "@type": "Organization",
            "name": "University of Canberra"
           }
          ]
         },
         "s3": {
          "bucket_name": "dev-rrap-storage-bucket",
          "path": "datasets/10378-1-1687367/",
          "s3_uri": "s3://dev-rrap-storage-bucket/datasets/10378-1-1687367/"
         },
         "updated_time": "2022-07-07T06:33:42.890707"
        },
        {
         "collection_format": {
          "author": {
           "email": "peter.baker1626@gmail.com",
           "name": "Peter Baker",
           "orcid": null,
           "organisation": {
            "name": "ANU",
            "ror": null
           }
          },
          "dataset_info": {
           "created_date": "2021-12-25",
           "description": "Results of counterfactual model run",
           "keywords": null,
           "license": "https://creativecommons.org/licenses/by/4.0/",
           "name": "Coral results 2021-02-30",
           "published_date": "2021-12-25",
           "publisher": {
            "name": "University of Canberra",
            "ror": null
           },
           "version": null
          }
         },
         "created_time": "2022-07-04T01:41:12.039258",
         "handle": "10378.1/1687308",
         "rocrate_metadata": {
          "@context": [
           "https://w3id.org/ro/crate/1.1/context",
           {
            "@vocab": "https://schema.org/"
           }
          ],
          "@graph": [
           {
            "@id": "ro-crate-metadata.json",
            "@type": "CreativeWork",
            "about": {
             "@id": "./"
            },
            "author": {
             "@id": "record/author"
            },
            "conformsTo": {
             "@id": "https://w3id.org/ro/crate/1.1"
            },
            "dateCreated": "2022-07-04",
            "dateModified": "2022-07-04",
            "datePublished": "2022-07-04"
           },
           {
            "@id": "record/author",
            "@type": [
             "Person",
             "ContactPoint"
            ],
            "email": "peter.baker1626@gmail.com",
            "name": "Peter Baker",
            "worksFor": {
             "@id": "record/author/worksFor"
            }
           },
           {
            "@id": "record/author/worksFor",
            "@type": "Organization",
            "name": "ANU"
           },
           {
            "@id": "./",
            "@type": "Dataset",
            "dateCreated": "2021-12-25",
            "datePublished": "2021-12-25",
            "description": "Results of counterfactual model run",
            "identifier": "10378.1/1687308",
            "license": {
             "@id": "https://creativecommons.org/licenses/by/4.0/"
            },
            "name": "Coral results 2021-02-30",
            "publisher": {
             "@id": "dataset/publisher"
            }
           },
           {
            "@id": "dataset/publisher",
            "@type": "Organization",
            "name": "University of Canberra"
           }
          ]
         },
         "s3": {
          "bucket_name": "dev-rrap-storage-bucket",
          "path": "datasets/10378-1-1687308/",
          "s3_uri": "s3://dev-rrap-storage-bucket/datasets/10378-1-1687308/"
         },
         "updated_time": "2022-07-04T01:41:12.039258"
        },
        {
         "collection_format": {
          "author": {
           "email": "peter.baker1626@gmail.com",
           "name": "Peter Baker",
           "orcid": null,
           "organisation": {
            "name": "ANU",
            "ror": null
           }
          },
          "dataset_info": {
           "created_date": "2021-12-25",
           "description": "Results of counterfactual model run",
           "keywords": null,
           "license": "https://creativecommons.org/licenses/by/4.0/",
           "name": "Coral results 2021-02-30",
           "published_date": "2021-12-25",
           "publisher": {
            "name": "University of Canberra",
            "ror": null
           },
           "version": null
          }
         },
         "created_time": "2022-06-27T01:29:44.008441",
         "handle": "10378.1/1687220",
         "rocrate_metadata": {
          "@context": [
           "https://w3id.org/ro/crate/1.1/context",
           {
            "@vocab": "https://schema.org/"
           }
          ],
          "@graph": [
           {
            "@id": "ro-crate-metadata.json",
            "@type": "CreativeWork",
            "about": {
             "@id": "./"
            },
            "author": {
             "@id": "record/author"
            },
            "conformsTo": {
             "@id": "https://w3id.org/ro/crate/1.1"
            },
            "dateCreated": "2022-06-27",
            "dateModified": "2022-06-27",
            "datePublished": "2022-06-27"
           },
           {
            "@id": "record/author",
            "@type": [
             "Person",
             "ContactPoint"
            ],
            "email": "peter.baker1626@gmail.com",
            "name": "Peter Baker",
            "worksFor": {
             "@id": "record/author/worksFor"
            }
           },
           {
            "@id": "record/author/worksFor",
            "@type": "Organization",
            "name": "ANU"
           },
           {
            "@id": "./",
            "@type": "Dataset",
            "dateCreated": "2021-12-25",
            "datePublished": "2021-12-25",
            "description": "Results of counterfactual model run",
            "identifier": "10378.1/1687220",
            "license": {
             "@id": "https://creativecommons.org/licenses/by/4.0/"
            },
            "name": "Coral results 2021-02-30",
            "publisher": {
             "@id": "dataset/publisher"
            }
           },
           {
            "@id": "dataset/publisher",
            "@type": "Organization",
            "name": "University of Canberra"
           }
          ]
         },
         "s3": {
          "bucket_name": "dev-rrap-storage-bucket",
          "path": "datasets/10378-1-1687220/",
          "s3_uri": "s3://dev-rrap-storage-bucket/datasets/10378-1-1687220/"
         },
         "updated_time": "2022-06-27T01:29:44.008441"
        },
        {
         "collection_format": {
          "author": {
           "email": "peter.baker1626@gmail.com",
           "name": "Peter Baker",
           "orcid": "https://orcid.org/0000-0002-7190-5187",
           "organisation": {
            "name": "ANU",
            "ror": "https://ror.org/ANUfake"
           }
          },
          "dataset_info": {
           "created_date": "2021-12-25",
           "description": "Results of counterfactual model run",
           "keywords": [
            "keyword1",
            "keyword2"
           ],
           "license": "https://creativecommons.org/licenses/by/4.0/",
           "name": "Coral results 2021-02-30",
           "published_date": "2021-12-25",
           "publisher": {
            "name": "University of Canberra",
            "ror": "https://ror.org/UCFake"
           },
           "version": "1.2.4"
          }
         },
         "created_time": "2022-07-07T05:55:24.515053",
         "handle": "10378.1/1687362",
         "rocrate_metadata": {
          "@context": [
           "https://w3id.org/ro/crate/1.1/context",
           {
            "@vocab": "https://schema.org/"
           }
          ],
          "@graph": [
           {
            "@id": "ro-crate-metadata.json",
            "@type": "CreativeWork",
            "about": {
             "@id": "./"
            },
            "author": {
             "@id": "https://orcid.org/0000-0002-7190-5187"
            },
            "conformsTo": {
             "@id": "https://w3id.org/ro/crate/1.1"
            },
            "dateCreated": "2022-07-07",
            "dateModified": "2022-07-07",
            "datePublished": "2022-07-07"
           },
           {
            "@id": "https://orcid.org/0000-0002-7190-5187",
            "@type": [
             "Person",
             "ContactPoint"
            ],
            "email": "peter.baker1626@gmail.com",
            "name": "Peter Baker",
            "worksFor": {
             "@id": "https://ror.org/ANUfake"
            }
           },
           {
            "@id": "https://ror.org/ANUfake",
            "@type": "Organization",
            "name": "ANU"
           },
           {
            "@id": "./",
            "@type": "Dataset",
            "dateCreated": "2021-12-25",
            "datePublished": "2021-12-25",
            "description": "Results of counterfactual model run",
            "identifier": "10378.1/1687362",
            "keywords": [
             "keyword1",
             "keyword2"
            ],
            "license": {
             "@id": "https://creativecommons.org/licenses/by/4.0/"
            },
            "name": "Coral results 2021-02-30",
            "publisher": {
             "@id": "https://ror.org/UCFake"
            },
            "version": "1.2.4"
           },
           {
            "@id": "https://ror.org/UCFake",
            "@type": "Organization",
            "name": "University of Canberra"
           }
          ]
         },
         "s3": {
          "bucket_name": "dev-rrap-storage-bucket",
          "path": "datasets/10378-1-1687362/",
          "s3_uri": "s3://dev-rrap-storage-bucket/datasets/10378-1-1687362/"
         },
         "updated_time": "2022-07-07T05:55:24.515053"
        },
        {
         "collection_format": {
          "author": {
           "email": "peter.baker1626@gmail.com",
           "name": "Peter Baker",
           "orcid": "https://orcid.org/0000-0002-7190-5187",
           "organisation": {
            "name": "ANU",
            "ror": "https://ror.org/ANUfake"
           }
          },
          "dataset_info": {
           "created_date": "2021-12-25",
           "description": "Results of counterfactual model run",
           "keywords": [
            "keyword1",
            "keyword2"
           ],
           "license": "https://creativecommons.org/licenses/by/4.0/",
           "name": "Coral results 2021-02-30",
           "published_date": "2021-12-25",
           "publisher": {
            "name": "University of Canberra",
            "ror": "https://ror.org/UCFake"
           },
           "version": "1.2.4"
          }
         },
         "created_time": "2022-06-30T00:42:59.091537",
         "handle": "10378.1/1687274",
         "rocrate_metadata": {
          "@context": [
           "https://w3id.org/ro/crate/1.1/context",
           {
            "@vocab": "https://schema.org/"
           }
          ],
          "@graph": [
           {
            "@id": "ro-crate-metadata.json",
            "@type": "CreativeWork",
            "about": {
             "@id": "./"
            },
            "author": {
             "@id": "https://orcid.org/0000-0002-7190-5187"
            },
            "conformsTo": {
             "@id": "https://w3id.org/ro/crate/1.1"
            },
            "dateCreated": "2022-06-30",
            "dateModified": "2022-06-30",
            "datePublished": "2022-06-30"
           },
           {
            "@id": "https://orcid.org/0000-0002-7190-5187",
            "@type": [
             "Person",
             "ContactPoint"
            ],
            "email": "peter.baker1626@gmail.com",
            "name": "Peter Baker",
            "worksFor": {
             "@id": "https://ror.org/ANUfake"
            }
           },
           {
            "@id": "https://ror.org/ANUfake",
            "@type": "Organization",
            "name": "ANU"
           },
           {
            "@id": "./",
            "@type": "Dataset",
            "dateCreated": "2021-12-25",
            "datePublished": "2021-12-25",
            "description": "Results of counterfactual model run",
            "identifier": "10378.1/1687274",
            "keywords": [
             "keyword1",
             "keyword2"
            ],
            "license": {
             "@id": "https://creativecommons.org/licenses/by/4.0/"
            },
            "name": "Coral results 2021-02-30",
            "publisher": {
             "@id": "https://ror.org/UCFake"
            },
            "version": "1.2.4"
           },
           {
            "@id": "https://ror.org/UCFake",
            "@type": "Organization",
            "name": "University of Canberra"
           }
          ]
         },
         "s3": {
          "bucket_name": "dev-rrap-storage-bucket",
          "path": "datasets/10378-1-1687274/",
          "s3_uri": "s3://dev-rrap-storage-bucket/datasets/10378-1-1687274/"
         },
         "updated_time": "2022-06-30T00:42:59.091537"
        },
        {
         "collection_format": {
          "author": {
           "email": "rosspetridis@gmail.com",
           "name": "Ross Petridis",
           "orcid": "https://orcid.org/0000-0002-7190-5187",
           "organisation": {
            "name": "University of Melbourne",
            "ror": "https://ror.org/00rqy9422"
           }
          },
          "dataset_info": {
           "created_date": "2021-12-25",
           "description": "Results of counterfactual model run - updated",
           "keywords": [
            "keyword1",
            "keyword2",
            "coralLover"
           ],
           "license": "https://creativecommons.org/licenses/by/4.0/",
           "name": "Coral results 2021-02-30 - updated",
           "published_date": "2021-12-25",
           "publisher": {
            "name": "University of Melbourne",
            "ror": "https://ror.org/00rqy9422"
           },
           "version": "1.2.6"
          }
         },
         "created_time": "2022-06-17T06:45:00.730073",
         "handle": "10378.1/1687067",
         "rocrate_metadata": {
          "@context": [
           "https://w3id.org/ro/crate/1.1/context",
           {
            "@vocab": "https://schema.org/"
           }
          ],
          "@graph": [
           {
            "@id": "ro-crate-metadata.json",
            "@type": "CreativeWork",
            "about": {
             "@id": "./"
            },
            "author": {
             "@id": "https://orcid.org/0000-0002-7190-5187"
            },
            "conformsTo": {
             "@id": "https://w3id.org/ro/crate/1.1"
            },
            "dateCreated": "2022-06-17",
            "dateModified": "2022-06-17",
            "datePublished": "2022-06-17"
           },
           {
            "@id": "https://orcid.org/0000-0002-7190-5187",
            "@type": [
             "Person",
             "ContactPoint"
            ],
            "email": "rosspetridis@gmail.com",
            "name": "Ross Petridis",
            "worksFor": {
             "@id": "https://ror.org/00rqy9422"
            }
           },
           {
            "@id": "https://ror.org/00rqy9422",
            "@type": "Organization",
            "name": "University of Melbourne"
           },
           {
            "@id": "./",
            "@type": "Dataset",
            "dateCreated": "2021-12-25",
            "datePublished": "2021-12-25",
            "description": "Results of counterfactual model run - updated",
            "identifier": "10378.1/1687067",
            "keywords": [
             "keyword1",
             "keyword2",
             "coralLover"
            ],
            "license": {
             "@id": "https://creativecommons.org/licenses/by/4.0/"
            },
            "name": "Coral results 2021-02-30 - updated",
            "publisher": {
             "@id": "https://ror.org/00rqy9422"
            },
            "version": "1.2.6"
           }
          ]
         },
         "s3": {
          "bucket_name": "dev-rrap-storage-bucket",
          "path": "datasets/10378-1-1687067/",
          "s3_uri": "s3://dev-rrap-storage-bucket/datasets/10378-1-1687067/"
         },
         "updated_time": "2022-06-17T06:47:24.696078"
        },
        {
         "collection_format": {
          "author": {
           "email": "peter.baker1626@gmail.com",
           "name": "Peter Baker",
           "orcid": "https://orcid.org/0000-0002-7190-5187",
           "organisation": {
            "name": "ANU",
            "ror": "https://ror.org/ANUfake"
           }
          },
          "dataset_info": {
           "created_date": "2021-12-25",
           "description": "Results of counterfactual model run",
           "keywords": [
            "keyword1",
            "keyword2"
           ],
           "license": "https://creativecommons.org/licenses/by/4.0/",
           "name": "Coral results 2021-02-30",
           "published_date": "2021-12-25",
           "publisher": {
            "name": "University of Canberra",
            "ror": "https://ror.org/UCFake"
           },
           "version": "1.2.4"
          }
         },
         "created_time": "2022-06-30T01:18:30.371979",
         "handle": "10378.1/1687279",
         "rocrate_metadata": {
          "@context": [
           "https://w3id.org/ro/crate/1.1/context",
           {
            "@vocab": "https://schema.org/"
           }
          ],
          "@graph": [
           {
            "@id": "ro-crate-metadata.json",
            "@type": "CreativeWork",
            "about": {
             "@id": "./"
            },
            "author": {
             "@id": "https://orcid.org/0000-0002-7190-5187"
            },
            "conformsTo": {
             "@id": "https://w3id.org/ro/crate/1.1"
            },
            "dateCreated": "2022-06-30",
            "dateModified": "2022-06-30",
            "datePublished": "2022-06-30"
           },
           {
            "@id": "https://orcid.org/0000-0002-7190-5187",
            "@type": [
             "Person",
             "ContactPoint"
            ],
            "email": "peter.baker1626@gmail.com",
            "name": "Peter Baker",
            "worksFor": {
             "@id": "https://ror.org/ANUfake"
            }
           },
           {
            "@id": "https://ror.org/ANUfake",
            "@type": "Organization",
            "name": "ANU"
           },
           {
            "@id": "./",
            "@type": "Dataset",
            "dateCreated": "2021-12-25",
            "datePublished": "2021-12-25",
            "description": "Results of counterfactual model run",
            "identifier": "10378.1/1687279",
            "keywords": [
             "keyword1",
             "keyword2"
            ],
            "license": {
             "@id": "https://creativecommons.org/licenses/by/4.0/"
            },
            "name": "Coral results 2021-02-30",
            "publisher": {
             "@id": "https://ror.org/UCFake"
            },
            "version": "1.2.4"
           },
           {
            "@id": "https://ror.org/UCFake",
            "@type": "Organization",
            "name": "University of Canberra"
           }
          ]
         },
         "s3": {
          "bucket_name": "dev-rrap-storage-bucket",
          "path": "datasets/10378-1-1687279/",
          "s3_uri": "s3://dev-rrap-storage-bucket/datasets/10378-1-1687279/"
         },
         "updated_time": "2022-06-30T01:18:30.371979"
        },
        {
         "collection_format": {
          "author": {
           "email": "peter.baker1626@gmail.com",
           "name": "Peter Baker",
           "orcid": "https://orcid.org/0000-0002-7190-5187",
           "organisation": {
            "name": "ANU",
            "ror": "https://ror.org/ANUfake"
           }
          },
          "dataset_info": {
           "created_date": "2021-12-25",
           "description": "Results of counterfactual model run",
           "keywords": [
            "keyword1",
            "keyword2"
           ],
           "license": "https://creativecommons.org/licenses/by/4.0/",
           "name": "Coral results 2021-02-30",
           "published_date": "2021-12-25",
           "publisher": {
            "name": "University of Canberra",
            "ror": "https://ror.org/UCFake"
           },
           "version": "1.2.4"
          }
         },
         "created_time": "2022-06-06T07:15:23.245480",
         "handle": "10378.1/1686874",
         "rocrate_metadata": {
          "@context": [
           "https://w3id.org/ro/crate/1.1/context",
           {
            "@vocab": "https://schema.org/"
           }
          ],
          "@graph": [
           {
            "@id": "ro-crate-metadata.json",
            "@type": "CreativeWork",
            "about": {
             "@id": "./"
            },
            "author": {
             "@id": "https://orcid.org/0000-0002-7190-5187"
            },
            "conformsTo": {
             "@id": "https://w3id.org/ro/crate/1.1"
            },
            "dateCreated": "2022-06-06",
            "dateModified": "2022-06-06",
            "datePublished": "2022-06-06"
           },
           {
            "@id": "https://orcid.org/0000-0002-7190-5187",
            "@type": [
             "Person",
             "ContactPoint"
            ],
            "email": "peter.baker1626@gmail.com",
            "name": "Peter Baker",
            "worksFor": {
             "@id": "https://ror.org/ANUfake"
            }
           },
           {
            "@id": "https://ror.org/ANUfake",
            "@type": "Organization",
            "name": "ANU"
           },
           {
            "@id": "./",
            "@type": "Dataset",
            "dateCreated": "2021-12-25",
            "datePublished": "2021-12-25",
            "description": "Results of counterfactual model run",
            "identifier": "10378.1/1686874",
            "keywords": [
             "keyword1",
             "keyword2"
            ],
            "license": {
             "@id": "https://creativecommons.org/licenses/by/4.0/"
            },
            "name": "Coral results 2021-02-30",
            "publisher": {
             "@id": "https://ror.org/UCFake"
            },
            "version": "1.2.4"
           },
           {
            "@id": "https://ror.org/UCFake",
            "@type": "Organization",
            "name": "University of Canberra"
           }
          ]
         },
         "s3": {
          "bucket_name": "dev-rrap-storage-bucket",
          "path": "datasets/10378-1-1686874/",
          "s3_uri": "s3://dev-rrap-storage-bucket/datasets/10378-1-1686874/"
         },
         "updated_time": "2022-06-06T07:15:23.245480"
        },
        {
         "collection_format": {
          "author": {
           "email": "peter.baker1626@gmail.com",
           "name": "Peter Baker",
           "orcid": null,
           "organisation": {
            "name": "ANU",
            "ror": null
           }
          },
          "dataset_info": {
           "created_date": "2021-12-25",
           "description": "Results of counterfactual model run",
           "keywords": null,
           "license": "https://creativecommons.org/licenses/by/4.0/",
           "name": "Coral results 2021-02-30",
           "published_date": "2021-12-25",
           "publisher": {
            "name": "University of Canberra",
            "ror": null
           },
           "version": null
          }
         },
         "created_time": "2022-06-08T05:29:45.666145",
         "handle": "10378.1/1686901",
         "rocrate_metadata": {
          "@context": [
           "https://w3id.org/ro/crate/1.1/context",
           {
            "@vocab": "https://schema.org/"
           }
          ],
          "@graph": [
           {
            "@id": "ro-crate-metadata.json",
            "@type": "CreativeWork",
            "about": {
             "@id": "./"
            },
            "author": {
             "@id": "record/author"
            },
            "conformsTo": {
             "@id": "https://w3id.org/ro/crate/1.1"
            },
            "dateCreated": "2022-06-08",
            "dateModified": "2022-06-08",
            "datePublished": "2022-06-08"
           },
           {
            "@id": "record/author",
            "@type": [
             "Person",
             "ContactPoint"
            ],
            "email": "peter.baker1626@gmail.com",
            "name": "Peter Baker",
            "worksFor": {
             "@id": "record/author/worksFor"
            }
           },
           {
            "@id": "record/author/worksFor",
            "@type": "Organization",
            "name": "ANU"
           },
           {
            "@id": "./",
            "@type": "Dataset",
            "dateCreated": "2021-12-25",
            "datePublished": "2021-12-25",
            "description": "Results of counterfactual model run",
            "identifier": "10378.1/1686901",
            "license": {
             "@id": "https://creativecommons.org/licenses/by/4.0/"
            },
            "name": "Coral results 2021-02-30",
            "publisher": {
             "@id": "dataset/publisher"
            }
           },
           {
            "@id": "dataset/publisher",
            "@type": "Organization",
            "name": "University of Canberra"
           }
          ]
         },
         "s3": {
          "bucket_name": "dev-rrap-storage-bucket",
          "path": "datasets/10378-1-1686901/",
          "s3_uri": "s3://dev-rrap-storage-bucket/datasets/10378-1-1686901/"
         },
         "updated_time": "2022-06-08T05:29:45.666145"
        },
        {
         "collection_format": {
          "author": {
           "email": "peter.baker1626@gmail.com",
           "name": "Peter Baker",
           "orcid": "https://orcid.org/0000-0002-7190-5187",
           "organisation": {
            "name": "ANU",
            "ror": "https://ror.org/ANUfake"
           }
          },
          "dataset_info": {
           "created_date": "2021-12-25",
           "description": "Results of counterfactual model run",
           "keywords": [
            "keyword1",
            "keyword2"
           ],
           "license": "https://creativecommons.org/licenses/by/4.0/",
           "name": "Coral results 2021-02-30",
           "published_date": "2021-12-25",
           "publisher": {
            "name": "University of Canberra",
            "ror": "https://ror.org/UCFake"
           },
           "version": "1.2.4"
          }
         },
         "created_time": "2022-07-19T23:51:26.284765",
         "handle": "10378.1/1687594",
         "rocrate_metadata": {
          "@context": [
           "https://w3id.org/ro/crate/1.1/context",
           {
            "@vocab": "https://schema.org/"
           }
          ],
          "@graph": [
           {
            "@id": "ro-crate-metadata.json",
            "@type": "CreativeWork",
            "about": {
             "@id": "./"
            },
            "author": {
             "@id": "https://orcid.org/0000-0002-7190-5187"
            },
            "conformsTo": {
             "@id": "https://w3id.org/ro/crate/1.1"
            },
            "dateCreated": "2022-07-19",
            "dateModified": "2022-07-19",
            "datePublished": "2022-07-19"
           },
           {
            "@id": "https://orcid.org/0000-0002-7190-5187",
            "@type": [
             "Person",
             "ContactPoint"
            ],
            "email": "peter.baker1626@gmail.com",
            "name": "Peter Baker",
            "worksFor": {
             "@id": "https://ror.org/ANUfake"
            }
           },
           {
            "@id": "https://ror.org/ANUfake",
            "@type": "Organization",
            "name": "ANU"
           },
           {
            "@id": "./",
            "@type": "Dataset",
            "dateCreated": "2021-12-25",
            "datePublished": "2021-12-25",
            "description": "Results of counterfactual model run",
            "identifier": "10378.1/1687594",
            "keywords": [
             "keyword1",
             "keyword2"
            ],
            "license": {
             "@id": "https://creativecommons.org/licenses/by/4.0/"
            },
            "name": "Coral results 2021-02-30",
            "publisher": {
             "@id": "https://ror.org/UCFake"
            },
            "version": "1.2.4"
           },
           {
            "@id": "https://ror.org/UCFake",
            "@type": "Organization",
            "name": "University of Canberra"
           }
          ]
         },
         "s3": {
          "bucket_name": "dev-rrap-storage-bucket",
          "path": "datasets/10378-1-1687594/",
          "s3_uri": "s3://dev-rrap-storage-bucket/datasets/10378-1-1687594/"
         },
         "updated_time": "2022-07-19T23:51:26.284765"
        },
        {
         "collection_format": {
          "author": {
           "email": "peter.baker122@csiro.au",
           "name": "Peter Baker",
           "orcid": "https://orcid.org/0000-0001-5228-6336",
           "organisation": {
            "name": "SpinalCure Australia",
            "ror": "https://ror.org/05291fa13"
           }
          },
          "dataset_info": {
           "created_date": "2022-06-24",
           "description": "Test",
           "keywords": null,
           "license": "https://gbrrestoration.github.io/rrap-mds-knowledge-hub/information-system/licenses.html#copyright-all-rights-reserved-",
           "name": "Test",
           "published_date": "2022-06-24",
           "publisher": {
            "name": "John T. Reid Charitable Trusts",
            "ror": "https://ror.org/017xs2h64"
           },
           "version": null
          }
         },
         "created_time": "2022-06-24T01:30:11.651085",
         "handle": "10378.1/1687202",
         "rocrate_metadata": {
          "@context": [
           "https://w3id.org/ro/crate/1.1/context",
           {
            "@vocab": "https://schema.org/"
           }
          ],
          "@graph": [
           {
            "@id": "ro-crate-metadata.json",
            "@type": "CreativeWork",
            "about": {
             "@id": "./"
            },
            "author": {
             "@id": "https://orcid.org/0000-0001-5228-6336"
            },
            "conformsTo": {
             "@id": "https://w3id.org/ro/crate/1.1"
            },
            "dateCreated": "2022-06-24",
            "dateModified": "2022-06-24",
            "datePublished": "2022-06-24"
           },
           {
            "@id": "https://orcid.org/0000-0001-5228-6336",
            "@type": [
             "Person",
             "ContactPoint"
            ],
            "email": "peter.baker122@csiro.au",
            "name": "Peter Baker",
            "worksFor": {
             "@id": "https://ror.org/05291fa13"
            }
           },
           {
            "@id": "https://ror.org/05291fa13",
            "@type": "Organization",
            "name": "SpinalCure Australia"
           },
           {
            "@id": "./",
            "@type": "Dataset",
            "dateCreated": "2022-06-24",
            "datePublished": "2022-06-24",
            "description": "Test",
            "identifier": "10378.1/1687202",
            "license": {
             "@id": "https://gbrrestoration.github.io/rrap-mds-knowledge-hub/information-system/licenses.html#copyright-all-rights-reserved-"
            },
            "name": "Test",
            "publisher": {
             "@id": "https://ror.org/017xs2h64"
            }
           },
           {
            "@id": "https://ror.org/017xs2h64",
            "@type": "Organization",
            "name": "John T. Reid Charitable Trusts"
           }
          ]
         },
         "s3": {
          "bucket_name": "dev-rrap-storage-bucket",
          "path": "datasets/10378-1-1687202/",
          "s3_uri": "s3://dev-rrap-storage-bucket/datasets/10378-1-1687202/"
         },
         "updated_time": "2022-06-24T01:52:50.889369"
        },
        {
         "collection_format": {
          "author": {
           "email": "peter.baker1626@gmail.com",
           "name": "Peter Baker",
           "orcid": "https://orcid.org/0000-0002-7190-5187",
           "organisation": {
            "name": "ANU",
            "ror": "https://ror.org/ANUfake"
           }
          },
          "dataset_info": {
           "created_date": "2021-12-25",
           "description": "Results of counterfactual model run",
           "keywords": [
            "keyword1",
            "keyword2"
           ],
           "license": "https://creativecommons.org/licenses/by/4.0/",
           "name": "Coral results 2021-02-30",
           "published_date": "2021-12-25",
           "publisher": {
            "name": "University of Canberra",
            "ror": "https://ror.org/UCFake"
           },
           "version": "1.2.4"
          }
         },
         "created_time": "2022-06-27T04:54:18.920024",
         "handle": "10378.1/1687235",
         "rocrate_metadata": {
          "@context": [
           "https://w3id.org/ro/crate/1.1/context",
           {
            "@vocab": "https://schema.org/"
           }
          ],
          "@graph": [
           {
            "@id": "ro-crate-metadata.json",
            "@type": "CreativeWork",
            "about": {
             "@id": "./"
            },
            "author": {
             "@id": "https://orcid.org/0000-0002-7190-5187"
            },
            "conformsTo": {
             "@id": "https://w3id.org/ro/crate/1.1"
            },
            "dateCreated": "2022-06-27",
            "dateModified": "2022-06-27",
            "datePublished": "2022-06-27"
           },
           {
            "@id": "https://orcid.org/0000-0002-7190-5187",
            "@type": [
             "Person",
             "ContactPoint"
            ],
            "email": "peter.baker1626@gmail.com",
            "name": "Peter Baker",
            "worksFor": {
             "@id": "https://ror.org/ANUfake"
            }
           },
           {
            "@id": "https://ror.org/ANUfake",
            "@type": "Organization",
            "name": "ANU"
           },
           {
            "@id": "./",
            "@type": "Dataset",
            "dateCreated": "2021-12-25",
            "datePublished": "2021-12-25",
            "description": "Results of counterfactual model run",
            "identifier": "10378.1/1687235",
            "keywords": [
             "keyword1",
             "keyword2"
            ],
            "license": {
             "@id": "https://creativecommons.org/licenses/by/4.0/"
            },
            "name": "Coral results 2021-02-30",
            "publisher": {
             "@id": "https://ror.org/UCFake"
            },
            "version": "1.2.4"
           },
           {
            "@id": "https://ror.org/UCFake",
            "@type": "Organization",
            "name": "University of Canberra"
           }
          ]
         },
         "s3": {
          "bucket_name": "dev-rrap-storage-bucket",
          "path": "datasets/10378-1-1687235/",
          "s3_uri": "s3://dev-rrap-storage-bucket/datasets/10378-1-1687235/"
         },
         "updated_time": "2022-06-27T04:54:18.920024"
        },
        {
         "collection_format": {
          "author": {
           "email": "peter.baker1626@gmail.com",
           "name": "Peter Baker",
           "orcid": "https://orcid.org/0000-0002-7190-5187",
           "organisation": {
            "name": "ANU",
            "ror": "https://ror.org/ANUfake"
           }
          },
          "dataset_info": {
           "created_date": "2021-12-25",
           "description": "Results of counterfactual model run",
           "keywords": [
            "keyword1",
            "keyword2"
           ],
           "license": "https://creativecommons.org/licenses/by/4.0/",
           "name": "Coral results 2021-02-30",
           "published_date": "2021-12-25",
           "publisher": {
            "name": "University of Canberra",
            "ror": "https://ror.org/UCFake"
           },
           "version": "1.2.4"
          }
         },
         "created_time": "2022-06-06T00:50:03.746456",
         "handle": "10378.1/1686829",
         "rocrate_metadata": {
          "@context": [
           "https://w3id.org/ro/crate/1.1/context",
           {
            "@vocab": "https://schema.org/"
           }
          ],
          "@graph": [
           {
            "@id": "ro-crate-metadata.json",
            "@type": "CreativeWork",
            "about": {
             "@id": "./"
            },
            "author": {
             "@id": "https://orcid.org/0000-0002-7190-5187"
            },
            "conformsTo": {
             "@id": "https://w3id.org/ro/crate/1.1"
            },
            "dateCreated": "2022-06-06",
            "dateModified": "2022-06-06",
            "datePublished": "2022-06-06"
           },
           {
            "@id": "https://orcid.org/0000-0002-7190-5187",
            "@type": [
             "Person",
             "ContactPoint"
            ],
            "email": "peter.baker1626@gmail.com",
            "name": "Peter Baker",
            "worksFor": {
             "@id": "https://ror.org/ANUfake"
            }
           },
           {
            "@id": "https://ror.org/ANUfake",
            "@type": "Organization",
            "name": "ANU"
           },
           {
            "@id": "./",
            "@type": "Dataset",
            "dateCreated": "2021-12-25",
            "datePublished": "2021-12-25",
            "description": "Results of counterfactual model run",
            "identifier": "10378.1/1686829",
            "keywords": [
             "keyword1",
             "keyword2"
            ],
            "license": {
             "@id": "https://creativecommons.org/licenses/by/4.0/"
            },
            "name": "Coral results 2021-02-30",
            "publisher": {
             "@id": "https://ror.org/UCFake"
            },
            "version": "1.2.4"
           },
           {
            "@id": "https://ror.org/UCFake",
            "@type": "Organization",
            "name": "University of Canberra"
           }
          ]
         },
         "s3": {
          "bucket_name": "dev-rrap-storage-bucket",
          "path": "datasets/10378-1-1686829/",
          "s3_uri": "s3://dev-rrap-storage-bucket/datasets/10378-1-1686829/"
         },
         "updated_time": "2022-06-06T00:50:03.746456"
        },
        {
         "collection_format": {
          "author": {
           "email": "linda.thomas@csiro.au",
           "name": "Linda Thomas",
           "orcid": "https://orcid.org/0000-0001-8989-8109",
           "organisation": {
            "name": "CSIRO Oceans and Atmosphere",
            "ror": "https://ror.org/026nh4520"
           }
          },
          "dataset_info": {
           "created_date": "2007-01-30",
           "description": "It went through such rapid contortions that the little bear was forced to change his hold on it so many times he became confused in the darkness, and could not, for the life of him, tell whether he held the sheep right side up, or upside down. But that point was decided for him a moment later by the animal itself, who, with a sudden twist, jabbed its horns so hard into his lowest ribs that he gave a grunt of anger and disgust.",
           "keywords": [
            "coral"
           ],
           "license": "https://gbrrestoration.github.io/rrap-mds-knowledge-hub/information-system/licenses.html#copyright-all-rights-reserved-",
           "name": "Test dataset of coral types at Lady Musgrave Island",
           "published_date": "2001-01-01",
           "publisher": {
            "name": "Sydney Institute of Marine Science",
            "ror": "https://ror.org/03ry2ah66"
           },
           "version": null
          }
         },
         "created_time": "2022-07-01T03:06:16.577117",
         "handle": "10378.1/1687302",
         "rocrate_metadata": {
          "@context": [
           "https://w3id.org/ro/crate/1.1/context",
           {
            "@vocab": "https://schema.org/"
           }
          ],
          "@graph": [
           {
            "@id": "ro-crate-metadata.json",
            "@type": "CreativeWork",
            "about": {
             "@id": "./"
            },
            "author": {
             "@id": "https://orcid.org/0000-0001-8989-8109"
            },
            "conformsTo": {
             "@id": "https://w3id.org/ro/crate/1.1"
            },
            "dateCreated": "2022-07-01",
            "dateModified": "2022-07-01",
            "datePublished": "2022-07-01"
           },
           {
            "@id": "https://orcid.org/0000-0001-8989-8109",
            "@type": [
             "Person",
             "ContactPoint"
            ],
            "email": "linda.thomas@csiro.au",
            "name": "Linda Thomas",
            "worksFor": {
             "@id": "https://ror.org/026nh4520"
            }
           },
           {
            "@id": "https://ror.org/026nh4520",
            "@type": "Organization",
            "name": "CSIRO Oceans and Atmosphere"
           },
           {
            "@id": "./",
            "@type": "Dataset",
            "dateCreated": "2007-01-30",
            "datePublished": "2001-01-01",
            "description": "It went through such rapid contortions that the little bear was forced to change his hold on it so many times he became confused in the darkness, and could not, for the life of him, tell whether he held the sheep right side up, or upside down. But that point was decided for him a moment later by the animal itself, who, with a sudden twist, jabbed its horns so hard into his lowest ribs that he gave a grunt of anger and disgust.",
            "identifier": "10378.1/1687302",
            "keywords": [
             "coral"
            ],
            "license": {
             "@id": "https://gbrrestoration.github.io/rrap-mds-knowledge-hub/information-system/licenses.html#copyright-all-rights-reserved-"
            },
            "name": "Test dataset of coral types at Lady Musgrave Island",
            "publisher": {
             "@id": "https://ror.org/03ry2ah66"
            }
           },
           {
            "@id": "https://ror.org/03ry2ah66",
            "@type": "Organization",
            "name": "Sydney Institute of Marine Science"
           }
          ]
         },
         "s3": {
          "bucket_name": "dev-rrap-storage-bucket",
          "path": "datasets/10378-1-1687302/",
          "s3_uri": "s3://dev-rrap-storage-bucket/datasets/10378-1-1687302/"
         },
         "updated_time": "2022-07-01T03:06:16.577117"
        },
        {
         "collection_format": {
          "author": {
           "email": "peter.baker1626@gmail.com",
           "name": "Peter Baker",
           "orcid": null,
           "organisation": {
            "name": "ANU",
            "ror": null
           }
          },
          "dataset_info": {
           "created_date": "2021-12-25",
           "description": "Results of counterfactual model run",
           "keywords": null,
           "license": "https://creativecommons.org/licenses/by/4.0/",
           "name": "Coral results 2021-02-30",
           "published_date": "2021-12-25",
           "publisher": {
            "name": "University of Canberra",
            "ror": null
           },
           "version": null
          }
         },
         "created_time": "2022-06-06T00:12:59.334226",
         "handle": "10378.1/1686824",
         "rocrate_metadata": {
          "@context": [
           "https://w3id.org/ro/crate/1.1/context",
           {
            "@vocab": "https://schema.org/"
           }
          ],
          "@graph": [
           {
            "@id": "ro-crate-metadata.json",
            "@type": "CreativeWork",
            "about": {
             "@id": "./"
            },
            "author": {
             "@id": "record/author"
            },
            "conformsTo": {
             "@id": "https://w3id.org/ro/crate/1.1"
            },
            "dateCreated": "2022-06-06",
            "dateModified": "2022-06-06",
            "datePublished": "2022-06-06"
           },
           {
            "@id": "record/author",
            "@type": [
             "Person",
             "ContactPoint"
            ],
            "email": "peter.baker1626@gmail.com",
            "name": "Peter Baker",
            "worksFor": {
             "@id": "record/author/worksFor"
            }
           },
           {
            "@id": "record/author/worksFor",
            "@type": "Organization",
            "name": "ANU"
           },
           {
            "@id": "./",
            "@type": "Dataset",
            "dateCreated": "2021-12-25",
            "datePublished": "2021-12-25",
            "description": "Results of counterfactual model run",
            "identifier": "10378.1/1686824",
            "license": {
             "@id": "https://creativecommons.org/licenses/by/4.0/"
            },
            "name": "Coral results 2021-02-30",
            "publisher": {
             "@id": "dataset/publisher"
            }
           },
           {
            "@id": "dataset/publisher",
            "@type": "Organization",
            "name": "University of Canberra"
           }
          ]
         },
         "s3": {
          "bucket_name": "dev-rrap-storage-bucket",
          "path": "datasets/10378-1-1686824/",
          "s3_uri": "s3://dev-rrap-storage-bucket/datasets/10378-1-1686824/"
         },
         "updated_time": "2022-06-06T00:12:59.334226"
        },
        {
         "collection_format": {
          "author": {
           "email": "peter.baker122@csiro.au",
           "name": "Peter Baker",
           "orcid": "https://orcid.org/0000-0002-6900-6983",
           "organisation": {
            "name": "Australian National University",
            "ror": "https://ror.org/019wvm592"
           }
          },
          "dataset_info": {
           "created_date": "2022-06-28",
           "description": "Test",
           "keywords": null,
           "license": "https://gbrrestoration.github.io/rrap-mds-knowledge-hub/information-system/licenses.html#copyright-all-rights-reserved-",
           "name": "Test",
           "published_date": "2022-06-28",
           "publisher": {
            "name": "CSIRO Oceans and Atmosphere",
            "ror": "https://ror.org/026nh4520"
           },
           "version": null
          }
         },
         "created_time": "2022-06-28T07:19:31.146407",
         "handle": "10378.1/1687264",
         "rocrate_metadata": {
          "@context": [
           "https://w3id.org/ro/crate/1.1/context",
           {
            "@vocab": "https://schema.org/"
           }
          ],
          "@graph": [
           {
            "@id": "ro-crate-metadata.json",
            "@type": "CreativeWork",
            "about": {
             "@id": "./"
            },
            "author": {
             "@id": "https://orcid.org/0000-0002-6900-6983"
            },
            "conformsTo": {
             "@id": "https://w3id.org/ro/crate/1.1"
            },
            "dateCreated": "2022-06-28",
            "dateModified": "2022-06-28",
            "datePublished": "2022-06-28"
           },
           {
            "@id": "https://orcid.org/0000-0002-6900-6983",
            "@type": [
             "Person",
             "ContactPoint"
            ],
            "email": "peter.baker122@csiro.au",
            "name": "Peter Baker",
            "worksFor": {
             "@id": "https://ror.org/019wvm592"
            }
           },
           {
            "@id": "https://ror.org/019wvm592",
            "@type": "Organization",
            "name": "Australian National University"
           },
           {
            "@id": "./",
            "@type": "Dataset",
            "dateCreated": "2022-06-28",
            "datePublished": "2022-06-28",
            "description": "Test",
            "identifier": "10378.1/1687264",
            "license": {
             "@id": "https://gbrrestoration.github.io/rrap-mds-knowledge-hub/information-system/licenses.html#copyright-all-rights-reserved-"
            },
            "name": "Test",
            "publisher": {
             "@id": "https://ror.org/026nh4520"
            }
           },
           {
            "@id": "https://ror.org/026nh4520",
            "@type": "Organization",
            "name": "CSIRO Oceans and Atmosphere"
           }
          ]
         },
         "s3": {
          "bucket_name": "dev-rrap-storage-bucket",
          "path": "datasets/10378-1-1687264/",
          "s3_uri": "s3://dev-rrap-storage-bucket/datasets/10378-1-1687264/"
         },
         "updated_time": "2022-06-28T07:19:31.146407"
        },
        {
         "collection_format": {
          "author": {
           "email": "jonathan.yu@csiro.au",
           "name": "Jonathan Yu",
           "orcid": "https://orcid.org/0000-0002-2237-0091",
           "organisation": {
            "name": "CSIRO Land and Water",
            "ror": "https://ror.org/057xz1h85"
           }
          },
          "dataset_info": {
           "created_date": "2022-07-11",
           "description": "Dataset produced by 2nd model processing step",
           "keywords": null,
           "license": "https://creativecommons.org/licenses/by/4.0/",
           "name": "Dataset produced by 2nd model processing step",
           "published_date": "2022-07-11",
           "publisher": {
            "name": "Commonwealth Scientific and Industrial Research Organisation",
            "ror": "https://ror.org/03qn8fb07"
           },
           "version": "1.0"
          }
         },
         "created_time": "2022-07-19T08:43:36.414628",
         "handle": "10378.1/1687588",
         "rocrate_metadata": {
          "@context": [
           "https://w3id.org/ro/crate/1.1/context",
           {
            "@vocab": "https://schema.org/"
           }
          ],
          "@graph": [
           {
            "@id": "ro-crate-metadata.json",
            "@type": "CreativeWork",
            "about": {
             "@id": "./"
            },
            "author": {
             "@id": "https://orcid.org/0000-0002-2237-0091"
            },
            "conformsTo": {
             "@id": "https://w3id.org/ro/crate/1.1"
            },
            "dateCreated": "2022-07-19",
            "dateModified": "2022-07-19",
            "datePublished": "2022-07-19"
           },
           {
            "@id": "https://orcid.org/0000-0002-2237-0091",
            "@type": [
             "Person",
             "ContactPoint"
            ],
            "email": "jonathan.yu@csiro.au",
            "name": "Jonathan Yu",
            "worksFor": {
             "@id": "https://ror.org/057xz1h85"
            }
           },
           {
            "@id": "https://ror.org/057xz1h85",
            "@type": "Organization",
            "name": "CSIRO Land and Water"
           },
           {
            "@id": "./",
            "@type": "Dataset",
            "dateCreated": "2022-07-11",
            "datePublished": "2022-07-11",
            "description": "Dataset produced by 2nd model processing step",
            "identifier": "10378.1/1687588",
            "license": {
             "@id": "https://creativecommons.org/licenses/by/4.0/"
            },
            "name": "Dataset produced by 2nd model processing step",
            "publisher": {
             "@id": "https://ror.org/03qn8fb07"
            },
            "version": "1.0"
           },
           {
            "@id": "https://ror.org/03qn8fb07",
            "@type": "Organization",
            "name": "Commonwealth Scientific and Industrial Research Organisation"
           }
          ]
         },
         "s3": {
          "bucket_name": "dev-rrap-storage-bucket",
          "path": "datasets/10378-1-1687588/",
          "s3_uri": "s3://dev-rrap-storage-bucket/datasets/10378-1-1687588/"
         },
         "updated_time": "2022-07-19T08:43:36.414628"
        },
        {
         "collection_format": {
          "author": {
           "email": "peter.baker1626@gmail.com",
           "name": "Peter Baker",
           "orcid": "https://orcid.org/0000-0002-7190-5187",
           "organisation": {
            "name": "ANU",
            "ror": "https://ror.org/ANUfake"
           }
          },
          "dataset_info": {
           "created_date": "2021-12-25",
           "description": "Results of counterfactual model run",
           "keywords": [
            "keyword1",
            "keyword2"
           ],
           "license": "https://creativecommons.org/licenses/by/4.0/",
           "name": "Coral results 2021-02-30",
           "published_date": "2021-12-25",
           "publisher": {
            "name": "University of Canberra",
            "ror": "https://ror.org/UCFake"
           },
           "version": "1.2.4"
          }
         },
         "created_time": "2022-06-17T05:46:30.793497",
         "handle": "10378.1/1686980",
         "rocrate_metadata": {
          "@context": [
           "https://w3id.org/ro/crate/1.1/context",
           {
            "@vocab": "https://schema.org/"
           }
          ],
          "@graph": [
           {
            "@id": "ro-crate-metadata.json",
            "@type": "CreativeWork",
            "about": {
             "@id": "./"
            },
            "author": {
             "@id": "https://orcid.org/0000-0002-7190-5187"
            },
            "conformsTo": {
             "@id": "https://w3id.org/ro/crate/1.1"
            },
            "dateCreated": "2022-06-17",
            "dateModified": "2022-06-17",
            "datePublished": "2022-06-17"
           },
           {
            "@id": "https://orcid.org/0000-0002-7190-5187",
            "@type": [
             "Person",
             "ContactPoint"
            ],
            "email": "peter.baker1626@gmail.com",
            "name": "Peter Baker",
            "worksFor": {
             "@id": "https://ror.org/ANUfake"
            }
           },
           {
            "@id": "https://ror.org/ANUfake",
            "@type": "Organization",
            "name": "ANU"
           },
           {
            "@id": "./",
            "@type": "Dataset",
            "dateCreated": "2021-12-25",
            "datePublished": "2021-12-25",
            "description": "Results of counterfactual model run",
            "identifier": "10378.1/1686980",
            "keywords": [
             "keyword1",
             "keyword2"
            ],
            "license": {
             "@id": "https://creativecommons.org/licenses/by/4.0/"
            },
            "name": "Coral results 2021-02-30",
            "publisher": {
             "@id": "https://ror.org/UCFake"
            },
            "version": "1.2.4"
           },
           {
            "@id": "https://ror.org/UCFake",
            "@type": "Organization",
            "name": "University of Canberra"
           }
          ]
         },
         "s3": {
          "bucket_name": "dev-rrap-storage-bucket",
          "path": "datasets/10378-1-1686980/",
          "s3_uri": "s3://dev-rrap-storage-bucket/datasets/10378-1-1686980/"
         },
         "updated_time": "2022-06-17T05:46:30.793497"
        },
        {
         "collection_format": {
          "author": {
           "email": "peter.baker1626@gmail.com",
           "name": "Peter Baker",
           "orcid": "https://orcid.org/0000-0002-7190-5187",
           "organisation": {
            "name": "ANU",
            "ror": "https://ror.org/ANUfake"
           }
          },
          "dataset_info": {
           "created_date": "2021-12-25",
           "description": "Results of counterfactual model run",
           "keywords": [
            "keyword1",
            "keyword2"
           ],
           "license": "https://creativecommons.org/licenses/by/4.0/",
           "name": "Coral results 2021-02-30",
           "published_date": "2021-12-25",
           "publisher": {
            "name": "University of Canberra",
            "ror": "https://ror.org/UCFake"
           },
           "version": "1.2.4"
          }
         },
         "created_time": "2022-07-14T01:36:09.645808",
         "handle": "10378.1/1687489",
         "rocrate_metadata": {
          "@context": [
           "https://w3id.org/ro/crate/1.1/context",
           {
            "@vocab": "https://schema.org/"
           }
          ],
          "@graph": [
           {
            "@id": "ro-crate-metadata.json",
            "@type": "CreativeWork",
            "about": {
             "@id": "./"
            },
            "author": {
             "@id": "https://orcid.org/0000-0002-7190-5187"
            },
            "conformsTo": {
             "@id": "https://w3id.org/ro/crate/1.1"
            },
            "dateCreated": "2022-07-14",
            "dateModified": "2022-07-14",
            "datePublished": "2022-07-14"
           },
           {
            "@id": "https://orcid.org/0000-0002-7190-5187",
            "@type": [
             "Person",
             "ContactPoint"
            ],
            "email": "peter.baker1626@gmail.com",
            "name": "Peter Baker",
            "worksFor": {
             "@id": "https://ror.org/ANUfake"
            }
           },
           {
            "@id": "https://ror.org/ANUfake",
            "@type": "Organization",
            "name": "ANU"
           },
           {
            "@id": "./",
            "@type": "Dataset",
            "dateCreated": "2021-12-25",
            "datePublished": "2021-12-25",
            "description": "Results of counterfactual model run",
            "identifier": "10378.1/1687489",
            "keywords": [
             "keyword1",
             "keyword2"
            ],
            "license": {
             "@id": "https://creativecommons.org/licenses/by/4.0/"
            },
            "name": "Coral results 2021-02-30",
            "publisher": {
             "@id": "https://ror.org/UCFake"
            },
            "version": "1.2.4"
           },
           {
            "@id": "https://ror.org/UCFake",
            "@type": "Organization",
            "name": "University of Canberra"
           }
          ]
         },
         "s3": {
          "bucket_name": "dev-rrap-storage-bucket",
          "path": "datasets/10378-1-1687489/",
          "s3_uri": "s3://dev-rrap-storage-bucket/datasets/10378-1-1687489/"
         },
         "updated_time": "2022-07-14T01:36:09.645808"
        }
       ],
       "status": {
        "details": "Successfully retrieved all (85) registry entries.",
        "success": true
       }
      },
      "text/plain": [
       "<IPython.core.display.JSON object>"
      ]
     },
     "execution_count": 27,
     "metadata": {
      "application/json": {
       "expanded": false,
       "root": "root"
      }
     },
     "output_type": "execute_result"
    }
   ],
   "source": [
    "# Pull out the BearerAuth function (don't call it yet)\n",
    "auth = token_manager.get_auth\n",
    "\n",
    "# Setup postfix and endpoint\n",
    "postfix = \"/registry/items/list-all-datasets\"\n",
    "endpoint = data_api + postfix\n",
    "\n",
    "# When making the request, use auth=auth() - this will ensure tokens are valid\n",
    "# right at the point of using them, including potentially auto refreshing!\n",
    "response = requests.get(endpoint, auth=auth())\n",
    "\n",
    "JSON(response.json(), expanded=False)"
   ]
  },
  {
   "cell_type": "markdown",
   "metadata": {},
   "source": [
    "## Model Registry APIs\n",
    "### List all registered models"
   ]
  },
  {
   "cell_type": "code",
   "execution_count": 26,
   "metadata": {},
   "outputs": [
    {
     "data": {
      "application/json": {
       "complete_item_count": 10,
       "items": [
        {
         "created_timestamp": 1658798529,
         "display_name": "RRAP-model (repo commit id - 1234)",
         "id": "10378.1/1687627",
         "item_category": "ENTITY",
         "item_subtype": "MODEL",
         "name": "RRAP-model-commit-1234",
         "updated_timestamp": 1658798529,
         "url": "https://bitbucket.csiro.au/projects/MAE/repos/pybrat/commits/824fc954c7e85c8b4b94044fc22cdbf83e365735"
        },
        {
         "created_timestamp": 1658380814,
         "display_name": "CoCoNet-model (commit 8d6a1b7)",
         "id": "10378.1/1687602",
         "item_category": "ENTITY",
         "item_subtype": "MODEL",
         "name": "CoCoNet-model-commit-8d6a1b7",
         "updated_timestamp": 1658380814,
         "url": "https://github.com/gbrrestoration/CoCoNet-model/commit/8d6a1b7"
        },
        {
         "created_timestamp": 1658727663,
         "display_name": "RRAP-model (repo commit id - 1234)",
         "id": "10378.1/1687616",
         "item_category": "ENTITY",
         "item_subtype": "MODEL",
         "name": "RRAP-model-commit-1234",
         "updated_timestamp": 1658727663,
         "url": "https://bitbucket.csiro.au/projects/MAE/repos/pybrat/commits/824fc954c7e85c8b4b94044fc22cdbf83e365735"
        },
        {
         "created_timestamp": 1658219443,
         "display_name": "Jonno's Awesome Model",
         "id": "10378.1/1687582",
         "item_category": "ENTITY",
         "item_subtype": "MODEL",
         "name": "JonnoModel1.0",
         "updated_timestamp": 1658219443,
         "url": "https://www.fake.model.com"
        },
        {
         "created_timestamp": 1658727781,
         "display_name": "RRAP-model (repo commit id - 1234)",
         "id": "10378.1/1687621",
         "item_category": "ENTITY",
         "item_subtype": "MODEL",
         "name": "RRAP-model-commit-1234",
         "updated_timestamp": 1658727781,
         "url": "https://bitbucket.csiro.au/projects/MAE/repos/pybrat/commits/824fc954c7e85c8b4b94044fc22cdbf83e365735"
        },
        {
         "created_timestamp": 1658380827,
         "display_name": "CoCoNet-model (commit 8d6a1b7)",
         "id": "10378.1/1687604",
         "item_category": "ENTITY",
         "item_subtype": "MODEL",
         "name": "CoCoNet-model-commit-8d6a1b7",
         "updated_timestamp": 1658380827,
         "url": "https://github.com/gbrrestoration/CoCoNet-model/commit/8d6a1b7"
        },
        {
         "created_timestamp": 1658378534,
         "display_name": "CoCoNet-model (commit 8d6a1b7)",
         "id": "10378.1/1687600",
         "item_category": "ENTITY",
         "item_subtype": "MODEL",
         "name": "CoCoNet-model-commit-8d6a1b7",
         "updated_timestamp": 1658378534,
         "url": "https://github.com/gbrrestoration/CoCoNet-model/commit/8d6a1b7"
        },
        {
         "created_timestamp": 1658798670,
         "display_name": "RRAP-model (repo commit id - 1234)",
         "id": "10378.1/1687634",
         "item_category": "ENTITY",
         "item_subtype": "MODEL",
         "name": "RRAP-model-commit-1234",
         "updated_timestamp": 1658798670,
         "url": "https://bitbucket.csiro.au/projects/MAE/repos/pybrat/commits/824fc954c7e85c8b4b94044fc22cdbf83e365735"
        },
        {
         "created_timestamp": 1658708576,
         "display_name": "pyBRAT-model (commit 824fc954c7e85c8b4b94044fc22cdbf83e365735)",
         "id": "10378.1/1687610",
         "item_category": "ENTITY",
         "item_subtype": "MODEL",
         "name": "pyBRAT-model-commit-824fc954c7e85c8b4b94044fc22cdbf83e365735",
         "updated_timestamp": 1658708576,
         "url": "https://bitbucket.csiro.au/projects/MAE/repos/pybrat/commits/824fc954c7e85c8b4b94044fc22cdbf83e365735"
        },
        {
         "created_timestamp": 1658380822,
         "display_name": "CoCoNet-model (commit 8d6a1b7)",
         "id": "10378.1/1687603",
         "item_category": "ENTITY",
         "item_subtype": "MODEL",
         "name": "CoCoNet-model-commit-8d6a1b7",
         "updated_timestamp": 1658380822,
         "url": "https://github.com/gbrrestoration/CoCoNet-model/commit/8d6a1b7"
        }
       ],
       "seed_item_count": 0,
       "seed_items": [],
       "status": {
        "details": "Successfully listed items. No parsing failures.",
        "success": true
       },
       "total_item_count": 10,
       "unparsable_item_count": 0,
       "unparsable_items": []
      },
      "text/plain": [
       "<IPython.core.display.JSON object>"
      ]
     },
     "execution_count": 26,
     "metadata": {
      "application/json": {
       "expanded": false,
       "root": "root"
      }
     },
     "output_type": "execute_result"
    }
   ],
   "source": [
    "# Pull out the BearerAuth function (don't call it yet)\n",
    "auth = token_manager.get_auth\n",
    "\n",
    "# Setup postfix and endpoint\n",
    "postfix = \"/registry/entity/model/list\"\n",
    "endpoint = registry_api + postfix\n",
    "\n",
    "# When making the request, use auth=auth() - this will ensure tokens are valid\n",
    "# right at the point of using them, including potentially auto refreshing!\n",
    "response = requests.get(endpoint, auth=auth())\n",
    "\n",
    "JSON(response.json(), expanded=False)"
   ]
  },
  {
   "cell_type": "markdown",
   "metadata": {},
   "source": [
    "### Fetch registered model\n",
    "From the above output copy the handle id and use it to fetch "
   ]
  },
  {
   "cell_type": "code",
   "execution_count": 24,
   "metadata": {},
   "outputs": [
    {
     "data": {
      "application/json": {
       "item": {
        "created_timestamp": 1658727663,
        "display_name": "RRAP-model (repo commit id - 1234)",
        "id": "10378.1/1687616",
        "item_category": "ENTITY",
        "item_subtype": "MODEL",
        "name": "RRAP-model-commit-1234",
        "updated_timestamp": 1658727663,
        "url": "https://bitbucket.csiro.au/projects/MAE/repos/pybrat/commits/824fc954c7e85c8b4b94044fc22cdbf83e365735"
       },
       "item_is_seed": false,
       "status": {
        "details": "Successfully retrieved complete item and parsed into current data model.",
        "success": true
       }
      },
      "text/plain": [
       "<IPython.core.display.JSON object>"
      ]
     },
     "execution_count": 24,
     "metadata": {
      "application/json": {
       "expanded": true,
       "root": "root"
      }
     },
     "output_type": "execute_result"
    }
   ],
   "source": [
    "# Pull out the BearerAuth function (don't call it yet)\n",
    "auth = token_manager.get_auth\n",
    "\n",
    "# Setup postfix and endpoint\n",
    "postfix = \"/registry/entity/model/fetch\"\n",
    "params = {\"id\" : \"10378.1/1687616\"}\n",
    "endpoint = registry_api + postfix\n",
    "\n",
    "# When making the request, use auth=auth() - this will ensure tokens are valid\n",
    "# right at the point of using them, including potentially auto refreshing!\n",
    "response = requests.get(endpoint, params=params, auth=auth())\n",
    "\n",
    "JSON(response.json(), expanded=True)"
   ]
  },
  {
   "cell_type": "markdown",
   "metadata": {},
   "source": [
    "### Register a model"
   ]
  },
  {
   "cell_type": "code",
   "execution_count": 23,
   "metadata": {},
   "outputs": [
    {
     "data": {
      "application/json": {
       "created_item": {
        "created_timestamp": 1658798670,
        "display_name": "RRAP-model (repo commit id - 1234)",
        "id": "10378.1/1687634",
        "item_category": "ENTITY",
        "item_subtype": "MODEL",
        "name": "RRAP-model-commit-1234",
        "updated_timestamp": 1658798670,
        "url": "https://bitbucket.csiro.au/projects/MAE/repos/pybrat/commits/824fc954c7e85c8b4b94044fc22cdbf83e365735"
       },
       "status": {
        "details": "Successfully uploaded the complete item. Return item includes handle id.",
        "success": true
       }
      },
      "text/plain": [
       "<IPython.core.display.JSON object>"
      ]
     },
     "execution_count": 23,
     "metadata": {
      "application/json": {
       "expanded": true,
       "root": "root"
      }
     },
     "output_type": "execute_result"
    }
   ],
   "source": [
    "# Pull out the BearerAuth function (don't call it yet)\n",
    "auth = token_manager.get_auth\n",
    "\n",
    "# Setup postfix and endpoint\n",
    "postfix = \"/registry/entity/model/create\"\n",
    "payload = {\n",
    "    \"display_name\" : \"RRAP-model (repo commit id - 1234)\",\n",
    "    \"name\" : \"RRAP-model-commit-1234\",\n",
    "    \"url\" : \"https://bitbucket.csiro.au/projects/MAE/repos/pybrat/commits/824fc954c7e85c8b4b94044fc22cdbf83e365735\"\n",
    "}\n",
    "endpoint = registry_api + postfix \n",
    "\n",
    "# When making the request, use auth=auth() - this will ensure tokens are valid\n",
    "# right at the point of using them, including potentially auto refreshing!\n",
    "response = requests.post(endpoint, json=payload, auth=auth())\n",
    "\n",
    "JSON(response.json(), expanded=True)"
   ]
  },
  {
   "cell_type": "markdown",
   "metadata": {},
   "source": [
    "### Delete a registered model"
   ]
  },
  {
   "cell_type": "code",
   "execution_count": 12,
   "metadata": {},
   "outputs": [
    {
     "data": {
      "application/json": {
       "status": {
        "details": "Item deleted.",
        "success": true
       }
      },
      "text/plain": [
       "<IPython.core.display.JSON object>"
      ]
     },
     "execution_count": 12,
     "metadata": {
      "application/json": {
       "expanded": true,
       "root": "root"
      }
     },
     "output_type": "execute_result"
    }
   ],
   "source": [
    "# Pull out the BearerAuth function (don't call it yet)\n",
    "auth = token_manager.get_auth\n",
    "\n",
    "# Setup postfix and endpoint\n",
    "postfix = \"/registry/entity/model/delete\"\n",
    "params = { 'id': '10378.1/1687609' }\n",
    "endpoint = registry_api + postfix\n",
    "\n",
    "# When making the request, use auth=auth() - this will ensure tokens are valid\n",
    "# right at the point of using them, including potentially auto refreshing!\n",
    "response = requests.delete(endpoint, params=params, auth=auth())\n",
    "\n",
    "JSON(response.json(), expanded=True)"
   ]
  },
  {
   "cell_type": "markdown",
   "metadata": {},
   "source": [
    "## Configuration File Registry APIs\n",
    "### Create a Configuration File registry"
   ]
  },
  {
   "cell_type": "code",
   "execution_count": 13,
   "metadata": {},
   "outputs": [
    {
     "data": {
      "application/json": {
       "created_item": {
        "created_timestamp": 1658798571,
        "display_name": "Demo Notebook Configuration File",
        "id": "10378.1/1687628",
        "item_category": "ENTITY",
        "item_subtype": "CONFIG_FILE",
        "updated_timestamp": 1658798571,
        "url": "https://www.fake.model.com/demo_config_file"
       },
       "status": {
        "details": "Successfully uploaded the complete item. Return item includes handle id.",
        "success": true
       }
      },
      "text/plain": [
       "<IPython.core.display.JSON object>"
      ]
     },
     "execution_count": 13,
     "metadata": {
      "application/json": {
       "expanded": true,
       "root": "root"
      }
     },
     "output_type": "execute_result"
    }
   ],
   "source": [
    "# Pull out the BearerAuth function (don't call it yet)\n",
    "auth = token_manager.get_auth\n",
    "\n",
    "# Setup postfix and endpoint\n",
    "postfix = \"/registry/entity/config_file/create\"\n",
    "payload = { \n",
    "    \"display_name\" : \"Demo Notebook Configuration File\",\n",
    "    \"url\" : \"https://www.fake.model.com/demo_config_file\"\n",
    "}\n",
    "endpoint = registry_api + postfix \n",
    "\n",
    "# When making the request, use auth=auth() - this will ensure tokens are valid\n",
    "# right at the point of using them, including potentially auto refreshing!\n",
    "response = requests.post(endpoint, json=payload, auth=auth())\n",
    "\n",
    "JSON(response.json(), expanded=True)"
   ]
  },
  {
   "cell_type": "markdown",
   "metadata": {},
   "source": [
    "### Fetch Configuration File"
   ]
  },
  {
   "cell_type": "code",
   "execution_count": 14,
   "metadata": {},
   "outputs": [
    {
     "data": {
      "application/json": {
       "item": {
        "created_timestamp": 1658713068,
        "display_name": "Demo Notebook Configuration File",
        "id": "10378.1/1687612",
        "item_category": "ENTITY",
        "item_subtype": "CONFIG_FILE",
        "updated_timestamp": 1658713068,
        "url": "https://www.fake.model.com/demo_config_file"
       },
       "item_is_seed": false,
       "status": {
        "details": "Successfully retrieved complete item and parsed into current data model.",
        "success": true
       }
      },
      "text/plain": [
       "<IPython.core.display.JSON object>"
      ]
     },
     "execution_count": 14,
     "metadata": {
      "application/json": {
       "expanded": true,
       "root": "root"
      }
     },
     "output_type": "execute_result"
    }
   ],
   "source": [
    "# Pull out the BearerAuth function (don't call it yet)\n",
    "auth = token_manager.get_auth\n",
    "\n",
    "# Setup postfix and endpoint\n",
    "postfix = \"/registry/entity/config_file/fetch\"\n",
    "params = \"?id=10378.1/1687612\"\n",
    "endpoint = registry_api + postfix + params\n",
    "\n",
    "# When making the request, use auth=auth() - this will ensure tokens are valid\n",
    "# right at the point of using them, including potentially auto refreshing!\n",
    "response = requests.get(endpoint, auth=auth())\n",
    "\n",
    "JSON(response.json(), expanded=True)"
   ]
  },
  {
   "cell_type": "markdown",
   "metadata": {},
   "source": [
    "## Parameter File Registry APIs\n",
    "### Create Parameter File"
   ]
  },
  {
   "cell_type": "code",
   "execution_count": 16,
   "metadata": {},
   "outputs": [
    {
     "data": {
      "application/json": {
       "created_item": {
        "created_timestamp": 1658798598,
        "display_name": "Demo Notebook Parameter File",
        "id": "10378.1/1687630",
        "item_category": "ENTITY",
        "item_subtype": "PARAMETER_FILE",
        "updated_timestamp": 1658798598,
        "url": "https://www.fake.model.com/demo_pramater_file"
       },
       "status": {
        "details": "Successfully uploaded the complete item. Return item includes handle id.",
        "success": true
       }
      },
      "text/plain": [
       "<IPython.core.display.JSON object>"
      ]
     },
     "execution_count": 16,
     "metadata": {
      "application/json": {
       "expanded": true,
       "root": "root"
      }
     },
     "output_type": "execute_result"
    }
   ],
   "source": [
    "# Pull out the BearerAuth function (don't call it yet)\n",
    "auth = token_manager.get_auth\n",
    "\n",
    "# Setup postfix and endpoint\n",
    "postfix = \"/registry/entity/parameter_file/create\"\n",
    "payload = { \n",
    "    \"display_name\" : \"Demo Notebook Parameter File\",\n",
    "    \"url\" : \"https://www.fake.model.com/demo_pramater_file\"\n",
    "}\n",
    "endpoint = registry_api + postfix \n",
    "\n",
    "# When making the request, use auth=auth() - this will ensure tokens are valid\n",
    "# right at the point of using them, including potentially auto refreshing!\n",
    "response = requests.post(endpoint, json=payload, auth=auth())\n",
    "\n",
    "JSON(response.json(), expanded=True)"
   ]
  },
  {
   "cell_type": "markdown",
   "metadata": {},
   "source": [
    "### Fetch Parameter File"
   ]
  },
  {
   "cell_type": "code",
   "execution_count": 17,
   "metadata": {},
   "outputs": [
    {
     "data": {
      "application/json": {
       "item": {
        "created_timestamp": 1658714126,
        "display_name": "Demo Notebook Parameter File",
        "id": "10378.1/1687613",
        "item_category": "ENTITY",
        "item_subtype": "PARAMETER_FILE",
        "updated_timestamp": 1658714126,
        "url": "https://www.fake.model.com/demo_pramater_file"
       },
       "item_is_seed": false,
       "status": {
        "details": "Successfully retrieved complete item and parsed into current data model.",
        "success": true
       }
      },
      "text/plain": [
       "<IPython.core.display.JSON object>"
      ]
     },
     "execution_count": 17,
     "metadata": {
      "application/json": {
       "expanded": true,
       "root": "root"
      }
     },
     "output_type": "execute_result"
    }
   ],
   "source": [
    "# Pull out the BearerAuth function (don't call it yet)\n",
    "auth = token_manager.get_auth\n",
    "\n",
    "# Setup postfix and endpoint\n",
    "postfix = \"/registry/entity/parameter_file/fetch\"\n",
    "params = { 'id': '10378.1/1687613' }\n",
    "endpoint = registry_api + postfix \n",
    "\n",
    "# When making the request, use auth=auth() - this will ensure tokens are valid\n",
    "# right at the point of using them, including potentially auto refreshing!\n",
    "response = requests.get(endpoint, params=params, auth=auth())\n",
    "\n",
    "JSON(response.json(), expanded=True)"
   ]
  },
  {
   "cell_type": "markdown",
   "metadata": {},
   "source": [
    "## Agent Registry APIs\n",
    "### Create a Agent"
   ]
  },
  {
   "cell_type": "code",
   "execution_count": 19,
   "metadata": {},
   "outputs": [
    {
     "data": {
      "application/json": {
       "created_item": {
        "created_timestamp": 1658798614,
        "display_name": "Reef Modeller for eReef",
        "email": "John.Doe@uni-of.au",
        "first_name": "John",
        "id": "10378.1/1687632",
        "item_category": "AGENT",
        "item_subtype": "PERSON",
        "last_name": "Doe",
        "orcid": "https://orcid.org/0000-0000-000-0000",
        "updated_timestamp": 1658798614
       },
       "status": {
        "details": "Successfully uploaded the complete item. Return item includes handle id.",
        "success": true
       }
      },
      "text/plain": [
       "<IPython.core.display.JSON object>"
      ]
     },
     "execution_count": 19,
     "metadata": {
      "application/json": {
       "expanded": true,
       "root": "root"
      }
     },
     "output_type": "execute_result"
    }
   ],
   "source": [
    "# Pull out the BearerAuth function (don't call it yet)\n",
    "auth = token_manager.get_auth\n",
    "\n",
    "# Setup postfix and endpoint\n",
    "postfix = \"/registry/agent/person/create\"\n",
    "payload = { \n",
    "    \"display_name\" : \"Reef Modeller for eReef\",\n",
    "    \"first_name\" : \"John\",\n",
    "    \"last_name\" : \"Doe\",\n",
    "    \"email\" : \"John.Doe@uni-of.au\",\n",
    "    \"orcid\" : \"https://orcid.org/0000-0000-000-0000\"\n",
    "}\n",
    "endpoint = registry_api + postfix \n",
    "\n",
    "# When making the request, use auth=auth() - this will ensure tokens are valid\n",
    "# right at the point of using them, including potentially auto refreshing!\n",
    "response = requests.post(endpoint, json=payload, auth=auth())\n",
    "\n",
    "JSON(response.json(), expanded=True)"
   ]
  },
  {
   "cell_type": "markdown",
   "metadata": {},
   "source": [
    "### List all Agents"
   ]
  },
  {
   "cell_type": "code",
   "execution_count": 21,
   "metadata": {},
   "outputs": [
    {
     "data": {
      "application/json": {
       "complete_item_count": 5,
       "items": [
        {
         "created_timestamp": 1658219513,
         "display_name": "Jonno",
         "email": "Jonathan.Yu@csiro.au",
         "first_name": "Jon",
         "id": "10378.1/1687585",
         "item_category": "AGENT",
         "item_subtype": "PERSON",
         "last_name": "Yu",
         "orcid": "https://orcid.org/0000-0002-2237-0091",
         "updated_timestamp": 1658219513
        },
        {
         "created_timestamp": 1658798611,
         "display_name": "Reef Modeller for eReef",
         "email": "John.Doe@uni-of.au",
         "first_name": "John",
         "id": "10378.1/1687631",
         "item_category": "AGENT",
         "item_subtype": "PERSON",
         "last_name": "Doe",
         "orcid": "https://orcid.org/0000-0000-000-0000",
         "updated_timestamp": 1658798611
        },
        {
         "created_timestamp": 1658726528,
         "display_name": "Reef Modeller for eReef",
         "email": "John.Doe@uni-of.au",
         "first_name": "John",
         "id": "10378.1/1687614",
         "item_category": "AGENT",
         "item_subtype": "PERSON",
         "last_name": "Doe",
         "orcid": "https://orcid.org/0000-0000-000-0000",
         "updated_timestamp": 1658726528
        },
        {
         "created_timestamp": 1658798614,
         "display_name": "Reef Modeller for eReef",
         "email": "John.Doe@uni-of.au",
         "first_name": "John",
         "id": "10378.1/1687632",
         "item_category": "AGENT",
         "item_subtype": "PERSON",
         "last_name": "Doe",
         "orcid": "https://orcid.org/0000-0000-000-0000",
         "updated_timestamp": 1658798614
        },
        {
         "created_timestamp": 1658727725,
         "display_name": "Reef Modeller for eReef",
         "email": "John.Doe@uni-of.au",
         "first_name": "John",
         "id": "10378.1/1687619",
         "item_category": "AGENT",
         "item_subtype": "PERSON",
         "last_name": "Doe",
         "orcid": "https://orcid.org/0000-0000-000-0000",
         "updated_timestamp": 1658727725
        }
       ],
       "seed_item_count": 0,
       "seed_items": [],
       "status": {
        "details": "Successfully listed items. No parsing failures.",
        "success": true
       },
       "total_item_count": 5,
       "unparsable_item_count": 0,
       "unparsable_items": []
      },
      "text/plain": [
       "<IPython.core.display.JSON object>"
      ]
     },
     "execution_count": 21,
     "metadata": {
      "application/json": {
       "expanded": false,
       "root": "root"
      }
     },
     "output_type": "execute_result"
    }
   ],
   "source": [
    "\n",
    "# Pull out the BearerAuth function (don't call it yet)\n",
    "auth = token_manager.get_auth\n",
    "\n",
    "# Setup postfix and endpoint\n",
    "postfix = \"/registry/agent/person/list\"\n",
    "endpoint = registry_api + postfix\n",
    "\n",
    "# When making the request, use auth=auth() - this will ensure tokens are valid\n",
    "# right at the point of using them, including potentially auto refreshing!\n",
    "response = requests.get(endpoint, auth=auth())\n",
    "\n",
    "JSON(response.json(), expanded=False)"
   ]
  },
  {
   "cell_type": "markdown",
   "metadata": {},
   "source": [
    "## Organistation Registry APIs\n",
    "### Create a Organisation"
   ]
  },
  {
   "cell_type": "code",
   "execution_count": 22,
   "metadata": {},
   "outputs": [
    {
     "data": {
      "application/json": {
       "created_item": {
        "created_timestamp": 1658798643,
        "display_name": "Reef Research",
        "id": "10378.1/1687633",
        "item_category": "AGENT",
        "item_subtype": "ORGANISATION",
        "name": "Reef Research",
        "ror": null,
        "updated_timestamp": 1658798643
       },
       "status": {
        "details": "Successfully uploaded the complete item. Return item includes handle id.",
        "success": true
       }
      },
      "text/plain": [
       "<IPython.core.display.JSON object>"
      ]
     },
     "execution_count": 22,
     "metadata": {
      "application/json": {
       "expanded": true,
       "root": "root"
      }
     },
     "output_type": "execute_result"
    }
   ],
   "source": [
    "# Pull out the BearerAuth function (don't call it yet)\n",
    "auth = token_manager.get_auth\n",
    "\n",
    "# Setup postfix and endpoint\n",
    "postfix = \"/registry/agent/organisation/create\"\n",
    "payload = { \n",
    "    \"display_name\" : \"Reef Research\",\n",
    "    \"name\" : \"Reef Research\"\n",
    "}\n",
    "endpoint = registry_api + postfix \n",
    "\n",
    "# When making the request, use auth=auth() - this will ensure tokens are valid\n",
    "# right at the point of using them, including potentially auto refreshing!\n",
    "response = requests.post(endpoint, json=payload, auth=auth())\n",
    "\n",
    "JSON(response.json(), expanded=True)"
   ]
  }
 ],
 "metadata": {
  "kernelspec": {
   "display_name": "Python 3 (ipykernel)",
   "language": "python",
   "name": "python3"
  },
  "language_info": {
   "codemirror_mode": {
    "name": "ipython",
    "version": 3
   },
   "file_extension": ".py",
   "mimetype": "text/x-python",
   "name": "python",
   "nbconvert_exporter": "python",
   "pygments_lexer": "ipython3",
   "version": "3.10.5"
  },
  "varInspector": {
   "cols": {
    "lenName": 16,
    "lenType": 16,
    "lenVar": 40
   },
   "kernels_config": {
    "python": {
     "delete_cmd_postfix": "",
     "delete_cmd_prefix": "del ",
     "library": "var_list.py",
     "varRefreshCmd": "print(var_dic_list())"
    },
    "r": {
     "delete_cmd_postfix": ") ",
     "delete_cmd_prefix": "rm(",
     "library": "var_list.r",
     "varRefreshCmd": "cat(var_dic_list()) "
    }
   },
   "types_to_exclude": [
    "module",
    "function",
    "builtin_function_or_method",
    "instance",
    "_Feature"
   ],
   "window_display": false
  },
  "vscode": {
   "interpreter": {
    "hash": "ac4b160577bf49ade887bc59f35ef976a6f1ce2a02f9392a36d55432483e6fd1"
   }
  }
 },
 "nbformat": 4,
 "nbformat_minor": 4
}
