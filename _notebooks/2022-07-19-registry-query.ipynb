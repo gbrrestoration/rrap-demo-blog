{
 "cells": [
  {
   "cell_type": "markdown",
   "metadata": {},
   "source": [
    "# Registery Query MVP Demo Notebook \n",
    "> A tutorial of RRAP Registry Query using Jupyter notebooks.\n",
    "\n",
    "- toc: true \n",
    "- badges: true\n",
    "- comments: true\n",
    "- categories: [jupyter, registry]\n",
    "<!-- - image: images/chart-preview.png -->"
   ]
  },
  {
   "cell_type": "markdown",
   "metadata": {},
   "source": [
    "## About\n",
    "\n",
    "This page captures simple demonstrations of some of capabilities of RRAP to Registry Activities, Entities and Actors.  If you select the 'Binder' button above, a Jupyter Notebook will be lauched that you can use to further explore these examples.  You can change parameters and see results to further expand your understand of RRAP Registry.\n",
    "\n",
    "With `RRAP-IS Registry` system can be queried to find all 'Activities', 'Entities' and 'Actors' associated with particular 'Outputs', 'Inputs', or 'Reef Interventions'\n",
    "\n",
    "Please read documenation ### to understand terms used in this notebook and the future systems\n",
    "\n"
   ]
  },
  {
   "cell_type": "markdown",
   "metadata": {},
   "source": [
    "## Import general dependencies"
   ]
  },
  {
   "cell_type": "code",
   "execution_count": null,
   "metadata": {},
   "outputs": [],
   "source": [
    "import requests\n",
    "import os\n",
    "import sys\n",
    "import json\n",
    "from IPython.core.display import display, HTML\n",
    "from IPython.display import IFrame\n",
    "from mdsisclienttools.auth.TokenManager import DeviceFlowManager"
   ]
  },
  {
   "cell_type": "markdown",
   "metadata": {},
   "source": [
    "### Define global variables, base urls\n",
    "Note the use structure of the base url, pointing to test servers.  If you wish to test your code first, please use the test servers (listed below).  Note that these may not retain data and could be down at the time of testing.\n",
    "\n",
    "Remove `testing` from the url to use the production urls.  Please be careful using production urls, filling the system with test data will require considerable effort to cleanup."
   ]
  },
  {
   "cell_type": "code",
   "execution_count": null,
   "metadata": {},
   "outputs": [],
   "source": [
    "\n",
    "data_api = \"https://data-api.testing.rrap-is.com\"\n",
    "registry_api = \"https://registry-api.testing.rrap-is.com\"\n",
    "prov_api = \"https://prov-api.testing.rrap-is.com\"\n",
    "auth_server = \"https://auth.dev.rrap-is.com/auth/realms/rrap\"\n",
    "# garbage = \"https://frogs.are.green\"\n",
    "base_urls = {'data_api': data_api, 'registry_api': registry_api, 'prov_api': prov_api, 'auth_server': auth_server}#, 'garbage': garbage}\n",
    "display('Checking base urls')\n",
    "# [display(Testing':',value) for key, value in base_urls.items()]\n",
    "for key, url in base_urls.items():\n",
    "    try:\n",
    "        print(f'Testing - {url}', end=\"\")\n",
    "        r = requests.get(url)\n",
    "        r.raise_for_status()\n",
    "        print(f' - Passed')\n",
    "    except requests.exceptions.HTTPError as err:\n",
    "        print(f' - Fail')\n",
    "        raise SystemExit(err)\n",
    "    except requests.exceptions.RequestException as e:\n",
    "        # catastrophic error. bail.\n",
    "        print(f' - Fail')\n",
    "        raise SystemExit(e)"
   ]
  },
  {
   "cell_type": "markdown",
   "metadata": {},
   "source": [
    "### Setup tokens using device authorisation flow against keycloak server\n",
    "\n",
    "This could result in a browser window being opened if you don't have valid tokens cached in local storage."
   ]
  },
  {
   "cell_type": "code",
   "execution_count": null,
   "metadata": {},
   "outputs": [],
   "source": [
    "# this caches the tokens\n",
    "local_token_storage = \".tokens.json\"\n",
    "\n",
    "token_manager = DeviceFlowManager(\n",
    "    stage=\"TEST\",\n",
    "    keycloak_endpoint=auth_server,\n",
    "    local_storage_location=local_token_storage\n",
    ")"
   ]
  },
  {
   "cell_type": "markdown",
   "metadata": {},
   "source": [
    "# Demonstrations"
   ]
  },
  {
   "cell_type": "markdown",
   "metadata": {},
   "source": [
    "## Dataset Registry APIs\n",
    "### List all datasets"
   ]
  },
  {
   "cell_type": "code",
   "execution_count": null,
   "metadata": {},
   "outputs": [],
   "source": [
    "# Pull out the BearerAuth function (don't call it yet)\n",
    "auth = token_manager.get_auth\n",
    "\n",
    "# Setup postfix and endpoint\n",
    "postfix = \"/registry/items/list-all-datasets\"\n",
    "endpoint = data_api + postfix\n",
    "\n",
    "# When making the request, use auth=auth() - this will ensure tokens are valid\n",
    "# right at the point of using them, including potentially auto refreshing!\n",
    "response = requests.get(endpoint, auth=auth())\n",
    "\n",
    "print(json.dumps(response.json(), indent=4, sort_keys=True))"
   ]
  },
  {
   "cell_type": "markdown",
   "metadata": {},
   "source": [
    "## Model Registry APIs\n",
    "### List all registered models"
   ]
  },
  {
   "cell_type": "code",
   "execution_count": null,
   "metadata": {},
   "outputs": [],
   "source": [
    "# Pull out the BearerAuth function (don't call it yet)\n",
    "auth = token_manager.get_auth\n",
    "\n",
    "# Setup postfix and endpoint\n",
    "postfix = \"/registry/entity/model/list\"\n",
    "endpoint = registry_api + postfix\n",
    "\n",
    "# When making the request, use auth=auth() - this will ensure tokens are valid\n",
    "# right at the point of using them, including potentially auto refreshing!\n",
    "response = requests.get(endpoint, auth=auth())\n",
    "\n",
    "print(json.dumps(response.json(), indent=4, sort_keys=True))"
   ]
  },
  {
   "cell_type": "markdown",
   "metadata": {},
   "source": [
    "### Fetch registered model\n",
    "From the above output copy the handle id and use it to fetch "
   ]
  },
  {
   "cell_type": "code",
   "execution_count": null,
   "metadata": {},
   "outputs": [],
   "source": [
    "# Pull out the BearerAuth function (don't call it yet)\n",
    "auth = token_manager.get_auth\n",
    "\n",
    "# Setup postfix and endpoint\n",
    "postfix = \"/registry/entity/model/fetch\"\n",
    "params = {\"id\" : \"10378.1/1687616\"}\n",
    "endpoint = registry_api + postfix\n",
    "\n",
    "# When making the request, use auth=auth() - this will ensure tokens are valid\n",
    "# right at the point of using them, including potentially auto refreshing!\n",
    "response = requests.get(endpoint, params=params, auth=auth())\n",
    "\n",
    "print(json.dumps(response.json(), indent=4, sort_keys=True))"
   ]
  },
  {
   "cell_type": "markdown",
   "metadata": {},
   "source": [
    "### Register a model"
   ]
  },
  {
   "cell_type": "code",
   "execution_count": null,
   "metadata": {},
   "outputs": [],
   "source": [
    "# Pull out the BearerAuth function (don't call it yet)\n",
    "auth = token_manager.get_auth\n",
    "\n",
    "# Setup postfix and endpoint\n",
    "postfix = \"/registry/entity/model/create\"\n",
    "payload = {\n",
    "    \"display_name\" : \"RRAP-model (repo commit id - 1234)\",\n",
    "    \"name\" : \"RRAP-model-commit-1234\",\n",
    "    \"url\" : \"https://bitbucket.csiro.au/projects/MAE/repos/pybrat/commits/824fc954c7e85c8b4b94044fc22cdbf83e365735\"\n",
    "}\n",
    "endpoint = registry_api + postfix \n",
    "\n",
    "# When making the request, use auth=auth() - this will ensure tokens are valid\n",
    "# right at the point of using them, including potentially auto refreshing!\n",
    "response = requests.post(endpoint, json=payload, auth=auth())\n",
    "\n",
    "print(json.dumps(response.json(), indent=4, sort_keys=True))"
   ]
  },
  {
   "cell_type": "markdown",
   "metadata": {},
   "source": [
    "### Delete a registered model"
   ]
  },
  {
   "cell_type": "code",
   "execution_count": null,
   "metadata": {},
   "outputs": [],
   "source": [
    "# Pull out the BearerAuth function (don't call it yet)\n",
    "auth = token_manager.get_auth\n",
    "\n",
    "# Setup postfix and endpoint\n",
    "postfix = \"/registry/entity/model/delete\"\n",
    "params = { 'id': '10378.1/1687609' }\n",
    "endpoint = registry_api + postfix\n",
    "\n",
    "# When making the request, use auth=auth() - this will ensure tokens are valid\n",
    "# right at the point of using them, including potentially auto refreshing!\n",
    "response = requests.delete(endpoint, params=params, auth=auth())\n",
    "\n",
    "print(json.dumps(response.json(), indent=4, sort_keys=True))"
   ]
  },
  {
   "cell_type": "markdown",
   "metadata": {},
   "source": [
    "## Configuration File Registry APIs\n",
    "### Create a Configuration File registry"
   ]
  },
  {
   "cell_type": "code",
   "execution_count": null,
   "metadata": {},
   "outputs": [],
   "source": [
    "# Pull out the BearerAuth function (don't call it yet)\n",
    "auth = token_manager.get_auth\n",
    "\n",
    "# Setup postfix and endpoint\n",
    "postfix = \"/registry/entity/config_file/create\"\n",
    "payload = { \n",
    "    \"display_name\" : \"Demo Notebook Configuration File\",\n",
    "    \"url\" : \"https://www.fake.model.com/demo_config_file\"\n",
    "}\n",
    "endpoint = registry_api + postfix \n",
    "\n",
    "# When making the request, use auth=auth() - this will ensure tokens are valid\n",
    "# right at the point of using them, including potentially auto refreshing!\n",
    "response = requests.post(endpoint, json=payload, auth=auth())\n",
    "\n",
    "print(json.dumps(response.json(), indent=4, sort_keys=True))"
   ]
  },
  {
   "cell_type": "markdown",
   "metadata": {},
   "source": [
    "### Fetch Configuration File"
   ]
  },
  {
   "cell_type": "code",
   "execution_count": null,
   "metadata": {},
   "outputs": [],
   "source": [
    "# Pull out the BearerAuth function (don't call it yet)\n",
    "auth = token_manager.get_auth\n",
    "\n",
    "# Setup postfix and endpoint\n",
    "postfix = \"/registry/entity/config_file/fetch\"\n",
    "params = \"?id=10378.1/1687612\"\n",
    "endpoint = registry_api + postfix + params\n",
    "\n",
    "# When making the request, use auth=auth() - this will ensure tokens are valid\n",
    "# right at the point of using them, including potentially auto refreshing!\n",
    "response = requests.get(endpoint, auth=auth())\n",
    "\n",
    "print(json.dumps(response.json(), indent=4, sort_keys=True))"
   ]
  },
  {
   "cell_type": "markdown",
   "metadata": {},
   "source": [
    "## Parameter File Registry APIs\n",
    "### Create Parameter File"
   ]
  },
  {
   "cell_type": "code",
   "execution_count": null,
   "metadata": {},
   "outputs": [],
   "source": [
    "# Pull out the BearerAuth function (don't call it yet)\n",
    "auth = token_manager.get_auth\n",
    "\n",
    "# Setup postfix and endpoint\n",
    "postfix = \"/registry/entity/parameter_file/create\"\n",
    "payload = { \n",
    "    \"display_name\" : \"Demo Notebook Parameter File\",\n",
    "    \"url\" : \"https://www.fake.model.com/demo_pramater_file\"\n",
    "}\n",
    "endpoint = registry_api + postfix \n",
    "\n",
    "# When making the request, use auth=auth() - this will ensure tokens are valid\n",
    "# right at the point of using them, including potentially auto refreshing!\n",
    "response = requests.post(endpoint, json=payload, auth=auth())\n",
    "\n",
    "print(json.dumps(response.json(), indent=4, sort_keys=True))"
   ]
  },
  {
   "cell_type": "markdown",
   "metadata": {},
   "source": [
    "### Fetch Parameter File"
   ]
  },
  {
   "cell_type": "code",
   "execution_count": null,
   "metadata": {},
   "outputs": [],
   "source": [
    "# Pull out the BearerAuth function (don't call it yet)\n",
    "auth = token_manager.get_auth\n",
    "\n",
    "# Setup postfix and endpoint\n",
    "postfix = \"/registry/entity/parameter_file/fetch\"\n",
    "params = { 'id': '10378.1/1687613' }\n",
    "endpoint = registry_api + postfix \n",
    "\n",
    "# When making the request, use auth=auth() - this will ensure tokens are valid\n",
    "# right at the point of using them, including potentially auto refreshing!\n",
    "response = requests.get(endpoint, params=params, auth=auth())\n",
    "\n",
    "print(json.dumps(response.json(), indent=4, sort_keys=True))"
   ]
  },
  {
   "cell_type": "markdown",
   "metadata": {},
   "source": [
    "## Agent Registry APIs\n",
    "### Create a Agent"
   ]
  },
  {
   "cell_type": "code",
   "execution_count": null,
   "metadata": {},
   "outputs": [],
   "source": [
    "# Pull out the BearerAuth function (don't call it yet)\n",
    "auth = token_manager.get_auth\n",
    "\n",
    "# Setup postfix and endpoint\n",
    "postfix = \"/registry/agent/person/create\"\n",
    "payload = { \n",
    "    \"display_name\" : \"Reef Modeller for eReef\",\n",
    "    \"first_name\" : \"John\",\n",
    "    \"last_name\" : \"Doe\",\n",
    "    \"email\" : \"John.Doe@uni-of.au\",\n",
    "    \"orcid\" : \"https://orcid.org/0000-0000-000-0000\"\n",
    "}\n",
    "endpoint = registry_api + postfix \n",
    "\n",
    "# When making the request, use auth=auth() - this will ensure tokens are valid\n",
    "# right at the point of using them, including potentially auto refreshing!\n",
    "response = requests.post(endpoint, json=payload, auth=auth())\n",
    "\n",
    "print(json.dumps(response.json(), indent=4, sort_keys=True))"
   ]
  },
  {
   "cell_type": "markdown",
   "metadata": {},
   "source": [
    "### List all Agents"
   ]
  },
  {
   "cell_type": "code",
   "execution_count": null,
   "metadata": {},
   "outputs": [],
   "source": [
    "\n",
    "# Pull out the BearerAuth function (don't call it yet)\n",
    "auth = token_manager.get_auth\n",
    "\n",
    "# Setup postfix and endpoint\n",
    "postfix = \"/registry/agent/person/list\"\n",
    "endpoint = registry_api + postfix\n",
    "\n",
    "# When making the request, use auth=auth() - this will ensure tokens are valid\n",
    "# right at the point of using them, including potentially auto refreshing!\n",
    "response = requests.get(endpoint, auth=auth())\n",
    "\n",
    "print(json.dumps(response.json(), indent=4, sort_keys=True))"
   ]
  },
  {
   "cell_type": "markdown",
   "metadata": {},
   "source": [
    "## Organistation Registry APIs\n",
    "### Create a Organisation"
   ]
  },
  {
   "cell_type": "code",
   "execution_count": null,
   "metadata": {},
   "outputs": [],
   "source": [
    "# Pull out the BearerAuth function (don't call it yet)\n",
    "auth = token_manager.get_auth\n",
    "\n",
    "# Setup postfix and endpoint\n",
    "postfix = \"/registry/agent/organisation/create\"\n",
    "payload = { \n",
    "    \"display_name\" : \"Reef Research\",\n",
    "    \"name\" : \"Reef Research\"\n",
    "}\n",
    "endpoint = registry_api + postfix \n",
    "\n",
    "# When making the request, use auth=auth() - this will ensure tokens are valid\n",
    "# right at the point of using them, including potentially auto refreshing!\n",
    "response = requests.post(endpoint, json=payload, auth=auth())\n",
    "\n",
    "print(json.dumps(response.json(), indent=4, sort_keys=True))"
   ]
  }
 ],
 "metadata": {
  "kernelspec": {
   "display_name": "Python 3.10.4 ('.venv': venv)",
   "language": "python",
   "name": "python3"
  },
  "language_info": {
   "codemirror_mode": {
    "name": "ipython",
    "version": 3
   },
   "file_extension": ".py",
   "mimetype": "text/x-python",
   "name": "python",
   "nbconvert_exporter": "python",
   "pygments_lexer": "ipython3",
   "version": "3.10.4"
  },
  "varInspector": {
   "cols": {
    "lenName": 16,
    "lenType": 16,
    "lenVar": 40
   },
   "kernels_config": {
    "python": {
     "delete_cmd_postfix": "",
     "delete_cmd_prefix": "del ",
     "library": "var_list.py",
     "varRefreshCmd": "print(var_dic_list())"
    },
    "r": {
     "delete_cmd_postfix": ") ",
     "delete_cmd_prefix": "rm(",
     "library": "var_list.r",
     "varRefreshCmd": "cat(var_dic_list()) "
    }
   },
   "types_to_exclude": [
    "module",
    "function",
    "builtin_function_or_method",
    "instance",
    "_Feature"
   ],
   "window_display": false
  },
  "vscode": {
   "interpreter": {
    "hash": "ac4b160577bf49ade887bc59f35ef976a6f1ce2a02f9392a36d55432483e6fd1"
   }
  }
 },
 "nbformat": 4,
 "nbformat_minor": 4
}
