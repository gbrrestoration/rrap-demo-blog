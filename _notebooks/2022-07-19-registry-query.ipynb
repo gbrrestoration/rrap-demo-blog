{
 "cells": [
  {
   "cell_type": "markdown",
   "metadata": {},
   "source": [
    "# Registery Query MVP Demo Notebook \n",
    "> A tutorial of RRAP Registry Query using Jupyter notebooks.\n",
    "\n",
    "- toc: true \n",
    "- badges: true\n",
    "- comments: true\n",
    "- categories: [jupyter, provenance]\n",
    "<!-- - image: images/chart-preview.png -->"
   ]
  },
  {
   "cell_type": "markdown",
   "metadata": {},
   "source": [
    "## About\n",
    "\n",
    "This notebook is a demonstration of some of capabilities of RRAP Provenance with notebooks.\n",
    "\n",
    "With `RRAP-IS Provenance` system can be queried to determine all 'Activities', 'Entities' and 'Actors' associated with particular 'Outputs', 'Inputs', or 'Reef Interventions'\n",
    "\n",
    "Please read documenation on **Provenance** to understand terms used in this notebook and the future systems "
   ]
  },
  {
   "cell_type": "markdown",
   "metadata": {},
   "source": [
    "### Import general dependencies"
   ]
  },
  {
   "cell_type": "code",
   "execution_count": 25,
   "metadata": {},
   "outputs": [],
   "source": [
    "import requests\n",
    "import os\n",
    "import sys\n",
    "import json\n",
    "from IPython.core.display import display, HTML\n",
    "from IPython.display import IFrame\n",
    "sys.path.append(\"python_packages/rrap_packages\")\n",
    "    \n",
    "from python_packages.rrap_packages.token_manager import DeviceFlowManager"
   ]
  },
  {
   "cell_type": "markdown",
   "metadata": {},
   "source": [
    "### Define global variables, base urls\n",
    "Note the use structure of the base url, pointing to test servers.  If you wish to test your code first, please use the test servers (listed below).  Note that these may not retain data and could be down at the time of testing.\n",
    "\n",
    "Remove `testing` from the url to use the production urls.  Please be careful using production urls, filling the system with test data will require considerable effort to cleanup."
   ]
  },
  {
   "cell_type": "code",
   "execution_count": 26,
   "metadata": {},
   "outputs": [
    {
     "data": {
      "text/plain": [
       "'Checking base urls'"
      ]
     },
     "metadata": {},
     "output_type": "display_data"
    },
    {
     "name": "stdout",
     "output_type": "stream",
     "text": [
      "Testing - https://data-api.testing.rrap-is.com - Passed\n",
      "Testing - https://registry-api.testing.rrap-is.com - Passed\n",
      "Testing - https://prov-api.testing.rrap-is.com - Passed\n",
      "Testing - https://auth.dev.rrap-is.com/auth/realms/rrap - Passed\n"
     ]
    }
   ],
   "source": [
    "\n",
    "data_api = \"https://data-api.testing.rrap-is.com\"\n",
    "registry_api = \"https://registry-api.testing.rrap-is.com\"\n",
    "prov_api = \"https://prov-api.testing.rrap-is.com\"\n",
    "auth_server = \"https://auth.dev.rrap-is.com/auth/realms/rrap\"\n",
    "# garbage = \"https://frogs.are.green\"\n",
    "base_urls = {'data_api': data_api, 'registry_api': registry_api, 'prov_api': prov_api, 'auth_server': auth_server}#, 'garbage': garbage}\n",
    "display('Checking base urls')\n",
    "# [display(Testing':',value) for key, value in base_urls.items()]\n",
    "for key, url in base_urls.items():\n",
    "    try:\n",
    "        print(f'Testing - {url}', end=\"\")\n",
    "        r = requests.get(url)\n",
    "        r.raise_for_status()\n",
    "        print(f' - Passed')\n",
    "    except requests.exceptions.HTTPError as err:\n",
    "        print(f' - Fail')\n",
    "        raise SystemExit(err)\n",
    "    except requests.exceptions.RequestException as e:\n",
    "        # catastrophic error. bail.\n",
    "        print(f' - Fail')\n",
    "        raise SystemExit(e)"
   ]
  },
  {
   "cell_type": "markdown",
   "metadata": {},
   "source": [
    "### Setup tokens using device authorisation flow against keycloak server\n",
    "\n",
    "This could result in a browser window being opened if you don't have valid tokens cached in local storage."
   ]
  },
  {
   "cell_type": "code",
   "execution_count": null,
   "metadata": {},
   "outputs": [],
   "source": [
    "# this caches the tokens\n",
    "local_token_storage = \".tokens.json\"\n",
    "\n",
    "token_manager = DeviceFlowManager(\n",
    "    stage=\"TEST\",\n",
    "    keycloak_endpoint=auth_server,\n",
    "    local_storage_location=local_token_storage\n",
    ")"
   ]
  },
  {
   "cell_type": "markdown",
   "metadata": {},
   "source": [
    "### Authenticate"
   ]
  },
  {
   "cell_type": "code",
   "execution_count": null,
   "metadata": {},
   "outputs": [],
   "source": [
    "# Pull out the BearerAuth function (don't call it yet)\n",
    "auth = token_manager.get_auth\n",
    "\n",
    "# Setup postfix and endpoint\n",
    "postfix = \"/registry/items/list-all-datasets\"\n",
    "endpoint = data_api + postfix\n",
    "\n",
    "# When making the request, use auth=auth() - this will ensure tokens are valid\n",
    "# right at the point of using them, including potentially auto refreshing!\n",
    "response = requests.get(endpoint, auth=auth())\n",
    "\n",
    "print(json.dumps(response.json(), indent=4, sort_keys=True))"
   ]
  },
  {
   "cell_type": "markdown",
   "metadata": {},
   "source": [
    "## Demonstrations\n",
    "[Use cases](https://confluence.csiro.au/display/RRAPIS/Provenance+use+cases)\n"
   ]
  },
  {
   "cell_type": "markdown",
   "metadata": {},
   "source": [
    "## List all registered models"
   ]
  },
  {
   "cell_type": "code",
   "execution_count": 31,
   "metadata": {},
   "outputs": [
    {
     "name": "stdout",
     "output_type": "stream",
     "text": [
      "Token validation failed due to error: Signature has expired.\n",
      "Refreshing using refresh token\n",
      "\n",
      "{\n",
      "    \"complete_item_count\": 5,\n",
      "    \"items\": [\n",
      "        {\n",
      "            \"created_timestamp\": 1658380814,\n",
      "            \"display_name\": \"CoCoNet-model (commit 8d6a1b7)\",\n",
      "            \"id\": \"10378.1/1687602\",\n",
      "            \"item_category\": \"ENTITY\",\n",
      "            \"item_subtype\": \"MODEL\",\n",
      "            \"name\": \"CoCoNet-model-commit-8d6a1b7\",\n",
      "            \"updated_timestamp\": 1658380814,\n",
      "            \"url\": \"https://github.com/gbrrestoration/CoCoNet-model/commit/8d6a1b7\"\n",
      "        },\n",
      "        {\n",
      "            \"created_timestamp\": 1658219443,\n",
      "            \"display_name\": \"Jonno's Awesome Model\",\n",
      "            \"id\": \"10378.1/1687582\",\n",
      "            \"item_category\": \"ENTITY\",\n",
      "            \"item_subtype\": \"MODEL\",\n",
      "            \"name\": \"JonnoModel1.0\",\n",
      "            \"updated_timestamp\": 1658219443,\n",
      "            \"url\": \"https://www.fake.model.com\"\n",
      "        },\n",
      "        {\n",
      "            \"created_timestamp\": 1658380827,\n",
      "            \"display_name\": \"CoCoNet-model (commit 8d6a1b7)\",\n",
      "            \"id\": \"10378.1/1687604\",\n",
      "            \"item_category\": \"ENTITY\",\n",
      "            \"item_subtype\": \"MODEL\",\n",
      "            \"name\": \"CoCoNet-model-commit-8d6a1b7\",\n",
      "            \"updated_timestamp\": 1658380827,\n",
      "            \"url\": \"https://github.com/gbrrestoration/CoCoNet-model/commit/8d6a1b7\"\n",
      "        },\n",
      "        {\n",
      "            \"created_timestamp\": 1658378534,\n",
      "            \"display_name\": \"CoCoNet-model (commit 8d6a1b7)\",\n",
      "            \"id\": \"10378.1/1687600\",\n",
      "            \"item_category\": \"ENTITY\",\n",
      "            \"item_subtype\": \"MODEL\",\n",
      "            \"name\": \"CoCoNet-model-commit-8d6a1b7\",\n",
      "            \"updated_timestamp\": 1658378534,\n",
      "            \"url\": \"https://github.com/gbrrestoration/CoCoNet-model/commit/8d6a1b7\"\n",
      "        },\n",
      "        {\n",
      "            \"created_timestamp\": 1658380822,\n",
      "            \"display_name\": \"CoCoNet-model (commit 8d6a1b7)\",\n",
      "            \"id\": \"10378.1/1687603\",\n",
      "            \"item_category\": \"ENTITY\",\n",
      "            \"item_subtype\": \"MODEL\",\n",
      "            \"name\": \"CoCoNet-model-commit-8d6a1b7\",\n",
      "            \"updated_timestamp\": 1658380822,\n",
      "            \"url\": \"https://github.com/gbrrestoration/CoCoNet-model/commit/8d6a1b7\"\n",
      "        }\n",
      "    ],\n",
      "    \"seed_item_count\": 0,\n",
      "    \"seed_items\": [],\n",
      "    \"status\": {\n",
      "        \"details\": \"Successfully listed items. No parsing failures.\",\n",
      "        \"success\": true\n",
      "    },\n",
      "    \"total_item_count\": 5,\n",
      "    \"unparsable_item_count\": 0,\n",
      "    \"unparsable_items\": []\n",
      "}\n"
     ]
    }
   ],
   "source": [
    "# Pull out the BearerAuth function (don't call it yet)\n",
    "auth = token_manager.get_auth\n",
    "\n",
    "# Setup postfix and endpoint\n",
    "postfix = \"/registry/entity/model/list\"\n",
    "endpoint = registry_api + postfix\n",
    "\n",
    "# When making the request, use auth=auth() - this will ensure tokens are valid\n",
    "# right at the point of using them, including potentially auto refreshing!\n",
    "response = requests.get(endpoint, auth=auth())\n",
    "\n",
    "print(json.dumps(response.json(), indent=4, sort_keys=True))"
   ]
  },
  {
   "cell_type": "markdown",
   "metadata": {},
   "source": [
    "## Fetch registered model\n",
    "From the above output copy the handle id and use it to fetch "
   ]
  },
  {
   "cell_type": "code",
   "execution_count": 33,
   "metadata": {},
   "outputs": [
    {
     "name": "stdout",
     "output_type": "stream",
     "text": [
      "{\n",
      "    \"item\": {\n",
      "        \"created_timestamp\": 1658219443,\n",
      "        \"display_name\": \"Jonno's Awesome Model\",\n",
      "        \"id\": \"10378.1/1687582\",\n",
      "        \"item_category\": \"ENTITY\",\n",
      "        \"item_subtype\": \"MODEL\",\n",
      "        \"name\": \"JonnoModel1.0\",\n",
      "        \"updated_timestamp\": 1658219443,\n",
      "        \"url\": \"https://www.fake.model.com\"\n",
      "    },\n",
      "    \"item_is_seed\": false,\n",
      "    \"status\": {\n",
      "        \"details\": \"Successfully retrieved complete item and parsed into current data model.\",\n",
      "        \"success\": true\n",
      "    }\n",
      "}\n"
     ]
    }
   ],
   "source": [
    "# Pull out the BearerAuth function (don't call it yet)\n",
    "auth = token_manager.get_auth\n",
    "\n",
    "# Setup postfix and endpoint\n",
    "postfix = \"/registry/entity/model/fetch\"\n",
    "params = \"?id=10378.1/1687582\"\n",
    "endpoint = registry_api + postfix + params\n",
    "\n",
    "# When making the request, use auth=auth() - this will ensure tokens are valid\n",
    "# right at the point of using them, including potentially auto refreshing!\n",
    "response = requests.get(endpoint, auth=auth())\n",
    "\n",
    "print(json.dumps(response.json(), indent=4, sort_keys=True))"
   ]
  }
 ],
 "metadata": {
  "kernelspec": {
   "display_name": "Python 3.8.8 64-bit",
   "language": "python",
   "name": "python3"
  },
  "language_info": {
   "codemirror_mode": {
    "name": "ipython",
    "version": 3
   },
   "file_extension": ".py",
   "mimetype": "text/x-python",
   "name": "python",
   "nbconvert_exporter": "python",
   "pygments_lexer": "ipython3",
   "version": "3.8.8"
  },
  "varInspector": {
   "cols": {
    "lenName": 16,
    "lenType": 16,
    "lenVar": 40
   },
   "kernels_config": {
    "python": {
     "delete_cmd_postfix": "",
     "delete_cmd_prefix": "del ",
     "library": "var_list.py",
     "varRefreshCmd": "print(var_dic_list())"
    },
    "r": {
     "delete_cmd_postfix": ") ",
     "delete_cmd_prefix": "rm(",
     "library": "var_list.r",
     "varRefreshCmd": "cat(var_dic_list()) "
    }
   },
   "types_to_exclude": [
    "module",
    "function",
    "builtin_function_or_method",
    "instance",
    "_Feature"
   ],
   "window_display": false
  },
  "vscode": {
   "interpreter": {
    "hash": "f38341ab6b4850169c0ae14e493bcf0848f0d768242f4d802d3fbfac2edcaf23"
   }
  }
 },
 "nbformat": 4,
 "nbformat_minor": 4
}
