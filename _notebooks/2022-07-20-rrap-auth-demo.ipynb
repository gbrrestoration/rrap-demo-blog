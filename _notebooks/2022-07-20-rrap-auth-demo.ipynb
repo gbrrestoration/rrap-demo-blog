{
 "cells": [
  {
   "cell_type": "markdown",
   "metadata": {},
   "source": [
    "# RRAP-IS Authentication Demo Notebook\n",
    "\n",
    "> A tutorial of RRAP authentication using Jupyter notebooks.\n",
    "\n",
    "- toc: true \n",
    "- badges: true\n",
    "- comments: true\n",
    "- categories: [jupyter, authentication]"
   ]
  },
  {
   "cell_type": "code",
   "execution_count": null,
   "metadata": {},
   "outputs": [],
   "source": []
  },
  {
   "cell_type": "markdown",
   "metadata": {},
   "source": [
    "## About\n",
    "\n",
    "This notebook is a demonstration of authenticating with the RRAP-IS system.  "
   ]
  },
  {
   "cell_type": "markdown",
   "metadata": {},
   "source": [
    "## Run all imports\n",
    "\n",
    "Keep all your imports at the top of a notebook.  It allows for easier management."
   ]
  },
  {
   "cell_type": "code",
   "execution_count": null,
   "metadata": {},
   "outputs": [],
   "source": [
    "import requests\n",
    "import os\n",
    "import sys\n",
    "import json\n",
    "from IPython.core.display import display, HTML\n",
    "from IPython.display import IFrame\n",
    "sys.path.append(\"python_packages/rrap_packages\")\n",
    "    \n",
    "from python_packages.rrap_packages.token_manager import DeviceFlowManager"
   ]
  },
  {
   "cell_type": "markdown",
   "metadata": {},
   "source": [
    "## Define global variables\n",
    "\n",
    "Similar to import we like to define notebook variable at the top and reuse them throughout the notebook"
   ]
  },
  {
   "cell_type": "code",
   "execution_count": null,
   "metadata": {},
   "outputs": [],
   "source": [
    "data_api = \"https://data-api.testing.rrap-is.com\"\n",
    "registry_api = \"https://registry-api.testing.rrap-is.com\"\n",
    "prov_api = \"https://prov-api.testing.rrap-is.com\"\n",
    "auth_server = \"https://auth.dev.rrap-is.com/auth/realms/rrap\"\n",
    "# garbage = \"https://frogs.are.green\"\n",
    "base_urls = {'data_api': data_api, 'registry_api': registry_api, 'prov_api': prov_api, 'auth_server': auth_server}#, 'garbage': garbage}\n",
    "display(f'Checking base urls')\n",
    "\n",
    "for key, url in base_urls.items():\n",
    "    try:\n",
    "        print(f'Testing - {url}', end=\"\")\n",
    "        r = requests.get(url)\n",
    "        r.raise_for_status()\n",
    "        print(f' - Passed')\n",
    "    except requests.exceptions.HTTPError as err:\n",
    "        print(f' - Fail')\n",
    "        raise SystemExit(err)\n",
    "    except requests.exceptions.RequestException as e:\n",
    "        # catastrophic error. bail.\n",
    "        print(f' - Fail')\n",
    "        raise SystemExit(e)"
   ]
  },
  {
   "cell_type": "markdown",
   "metadata": {},
   "source": [
    "## Authentication steps\n",
    "\n",
    "### Setup tokens using device authorisation flow against keycloak server\n",
    "\n",
    "This could result in a browser window being opened if you don't have valid tokens cached in local storage."
   ]
  },
  {
   "cell_type": "code",
   "execution_count": null,
   "metadata": {},
   "outputs": [],
   "source": [
    "# this caches the tokens\n",
    "local_token_storage = \".tokens.json\"\n",
    "\n",
    "token_manager = DeviceFlowManager(\n",
    "    stage=\"TEST\",\n",
    "    keycloak_endpoint=auth_server,\n",
    "    local_storage_location=local_token_storage\n",
    ")"
   ]
  },
  {
   "cell_type": "markdown",
   "metadata": {},
   "source": [
    "### Authenticated call"
   ]
  },
  {
   "cell_type": "code",
   "execution_count": null,
   "metadata": {},
   "outputs": [],
   "source": [
    "# Pull out the BearerAuth function (don't call it yet)\n",
    "auth = token_manager.get_auth\n",
    "\n",
    "# Setup postfix and endpoint\n",
    "postfix = \"/registry/items/list-all-datasets\"\n",
    "endpoint = data_api + postfix\n",
    "\n",
    "# When making the request, use auth=auth() - this will ensure tokens are valid\n",
    "# right at the point of using them, including potentially auto refreshing!\n",
    "response = requests.get(endpoint, auth=auth())\n",
    "\n",
    "print(json.dumps(response.json(), indent=4, sort_keys=True))"
   ]
  },
  {
   "cell_type": "markdown",
   "metadata": {},
   "source": [
    "## Test your auth against a endpoint \n",
    "Endpoint documentation can be found by appending either `/docs` or `/redoc` on the end a base URL.\n",
    "\n",
    "For example:\n",
    "- https://registry-api.testing.rrap-is.com/redoc\n",
    "or\n",
    "- https://registry-api.testing.rrap-is.com/docs\n",
    "\n",
    "Then select from the menu an endpoint function call e.g. `/check-access/check-general-access`\n",
    "\n",
    "Then append the function call onto the base url e.g. `https://registry-api.testing.rrap-is.com/check-access/check-general-access`"
   ]
  },
  {
   "cell_type": "markdown",
   "metadata": {},
   "source": [
    "### Endpoint documentation redoc"
   ]
  },
  {
   "cell_type": "code",
   "execution_count": null,
   "metadata": {},
   "outputs": [],
   "source": [
    "IFrame(\"https://registry-api.testing.rrap-is.com/redoc\", width=1024, height=600)"
   ]
  },
  {
   "cell_type": "markdown",
   "metadata": {},
   "source": [
    "## Testing General Access Endpoint"
   ]
  },
  {
   "cell_type": "code",
   "execution_count": null,
   "metadata": {},
   "outputs": [],
   "source": [
    "#test general access endpoint\n",
    "auth = token_manager.get_auth\n",
    "base_url = \"https://registry-api.testing.rrap-is.com\"\n",
    "url_query_string = \"/check-access/check-general-access\"\n",
    "endpoint = base_url + url_query_string\n",
    "\n",
    "response = requests.get(endpoint, auth=auth())\n",
    "\n",
    "print(json.dumps(response.json(), indent=4, sort_keys=True))"
   ]
  },
  {
   "cell_type": "code",
   "execution_count": null,
   "metadata": {},
   "outputs": [],
   "source": [
    "#test read access endpoint\n",
    "auth = token_manager.get_auth\n",
    "base_url = \"https://registry-api.testing.rrap-is.com\"\n",
    "url_query_string = \"/check-access/check-read-access\"\n",
    "endpoint = base_url + url_query_string\n",
    "\n",
    "response = requests.get(endpoint, auth=auth())\n",
    "\n",
    "print(json.dumps(response.json(), indent=4, sort_keys=True))"
   ]
  },
  {
   "cell_type": "code",
   "execution_count": null,
   "metadata": {},
   "outputs": [],
   "source": [
    "#test write access endpoint\n",
    "auth = token_manager.get_auth\n",
    "base_url = \"https://registry-api.testing.rrap-is.com\"\n",
    "url_query_string = \"/check-access/check-write-access\"\n",
    "endpoint = base_url + url_query_string\n",
    "\n",
    "response = requests.get(endpoint, auth=auth())\n",
    "\n",
    "print(json.dumps(response.json(), indent=4, sort_keys=True))"
   ]
  },
  {
   "cell_type": "code",
   "execution_count": null,
   "metadata": {},
   "outputs": [],
   "source": [
    "#test admin access endpoint\n",
    "auth = token_manager.get_auth\n",
    "base_url = \"https://registry-api.testing.rrap-is.com\"\n",
    "url_query_string = \"/check-access/check-admin-access\"\n",
    "endpoint = base_url + url_query_string\n",
    "\n",
    "response = requests.get(endpoint, auth=auth())\n",
    "\n",
    "print(json.dumps(response.json(), indent=4, sort_keys=True))"
   ]
  }
 ],
 "metadata": {
  "kernelspec": {
   "display_name": "Python 3.8.8 64-bit",
   "language": "python",
   "name": "python3"
  },
  "language_info": {
   "codemirror_mode": {
    "name": "ipython",
    "version": 3
   },
   "file_extension": ".py",
   "mimetype": "text/x-python",
   "name": "python",
   "nbconvert_exporter": "python",
   "pygments_lexer": "ipython3",
   "version": "3.8.8"
  },
  "orig_nbformat": 4,
  "vscode": {
   "interpreter": {
    "hash": "f38341ab6b4850169c0ae14e493bcf0848f0d768242f4d802d3fbfac2edcaf23"
   }
  }
 },
 "nbformat": 4,
 "nbformat_minor": 2
}
