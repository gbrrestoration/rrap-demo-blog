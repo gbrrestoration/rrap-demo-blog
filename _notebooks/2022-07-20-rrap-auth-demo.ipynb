{
 "cells": [
  {
   "cell_type": "markdown",
   "metadata": {},
   "source": [
    "# RRAP-IS Authentication Demo Notebook\n",
    "\n",
    "> A tutorial of RRAP authentication using Jupyter notebooks.\n",
    "\n",
    "- toc: true \n",
    "- badges: true\n",
    "- comments: true\n",
    "- categories: [jupyter]"
   ]
  },
  {
   "cell_type": "markdown",
   "metadata": {},
   "source": [
    "## About\n",
    "\n",
    "This notebook is a demonstration of authenticating with the RRAP-IS system.  "
   ]
  },
  {
   "cell_type": "markdown",
   "metadata": {},
   "source": [
    "#hide\n",
    "\n",
    "Handy links\n",
    "https://github.com/gbrrestoration/rrap-is-proto/blob/main/utilities/packages/python/keycloak-utils/KeycloakRestUtilities/TokenManager.py\n",
    "\n",
    "https://github.com/gbrrestoration/rrap-is-proto/blob/main/admin-tooling/data-store/import_db.py\n",
    "Construct Json directly\n",
    "\n",
    "APIs:\n",
    "https://data-api.testing.rrap-is.com/docs\n",
    "https://registry-api.testing.rrap-is.com/docs\n",
    "https://prov-api.testing.rrap-is.com/docs\n",
    "\n",
    "Auth:\n",
    "'Authorization' : 'Bearer <JWT token>'\n",
    "https://data-api.testing.rrap-is.com/check-access/check-general-access\n",
    "https://data-api.testing.rrap-is.com/\n",
    "\n",
    "token:\n",
    "https://data.testing.rrap-is.com/\n",
    "\n",
    "Maintain session\n",
    "https://github.com/gbrrestoration/rrap-is-proto/blob/main/utilities/packages/python/keycloak-utils/KeycloakRestUtilities/TokenManager.py"
   ]
  },
  {
   "cell_type": "markdown",
   "metadata": {},
   "source": [
    "## Run all imports\n",
    "\n",
    "Keep all your imports at the top of a notebook.  It allows for easier management."
   ]
  },
  {
   "cell_type": "code",
   "execution_count": 1,
   "metadata": {},
   "outputs": [],
   "source": [
    "import requests\n",
    "import os\n",
    "import sys\n",
    "import json\n",
    "   \n",
    "sys.path.append(\"python_packages/rrap_packages\")\n",
    "    \n",
    "from python_packages.rrap_packages.token_manager import DeviceFlowManager"
   ]
  },
  {
   "cell_type": "markdown",
   "metadata": {},
   "source": [
    "## Define global variables\n",
    "\n",
    "Similar to import we like to define notebook variable at the top and reuse them throughout the notebook"
   ]
  },
  {
   "cell_type": "code",
   "execution_count": 2,
   "metadata": {},
   "outputs": [],
   "source": [
    "data_api = \"https://data-api.testing.rrap-is.com\"\n",
    "registry_api = \"https://registry-api.testing.rrap-is.com\"\n",
    "prov_api = \"https://prov-api.testing.rrap-is.com\"\n",
    "auth_server = \"https://auth.dev.rrap-is.com/auth/realms/rrap\""
   ]
  },
  {
   "cell_type": "markdown",
   "metadata": {},
   "source": [
    "## Authentication steps\n",
    "\n",
    "### Setup tokens using device authorisation flow against keycloak server\n",
    "\n",
    "This could result in a browser window being opened if you don't have valid tokens cached in local storage."
   ]
  },
  {
   "cell_type": "code",
   "execution_count": null,
   "metadata": {},
   "outputs": [],
   "source": [
    "# this caches the tokens\n",
    "local_token_storage = \".tokens.json\"\n",
    "\n",
    "token_manager = DeviceFlowManager(\n",
    "    stage=\"TEST\",\n",
    "    keycloak_endpoint=auth_server,\n",
    "    local_storage_location=local_token_storage\n",
    ")"
   ]
  },
  {
   "cell_type": "markdown",
   "metadata": {},
   "source": [
    "### Authenticated call"
   ]
  },
  {
   "cell_type": "code",
   "execution_count": null,
   "metadata": {},
   "outputs": [],
   "source": [
    "# Pull out the BearerAuth function (don't call it yet)\n",
    "auth = token_manager.get_auth\n",
    "\n",
    "# Setup postfix and endpoint\n",
    "postfix = \"/registry/items/list-all-datasets\"\n",
    "endpoint = data_api + postfix\n",
    "\n",
    "# When making the request, use auth=auth() - this will ensure tokens are valid\n",
    "# right at the point of using them, including potentially auto refreshing!\n",
    "response = requests.get(endpoint, auth=auth())\n",
    "\n",
    "print(json.dumps(response.json(), indent=4, sort_keys=True))"
   ]
  }
 ],
 "metadata": {
  "kernelspec": {
   "display_name": "Python 3.8.8 64-bit",
   "language": "python",
   "name": "python3"
  },
  "language_info": {
   "codemirror_mode": {
    "name": "ipython",
    "version": 3
   },
   "file_extension": ".py",
   "mimetype": "text/x-python",
   "name": "python",
   "nbconvert_exporter": "python",
   "pygments_lexer": "ipython3",
   "version": "3.8.8"
  },
  "orig_nbformat": 4,
  "vscode": {
   "interpreter": {
    "hash": "f38341ab6b4850169c0ae14e493bcf0848f0d768242f4d802d3fbfac2edcaf23"
   }
  }
 },
 "nbformat": 4,
 "nbformat_minor": 2
}
