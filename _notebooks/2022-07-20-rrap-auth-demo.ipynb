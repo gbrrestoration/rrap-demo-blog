{
 "cells": [
  {
   "cell_type": "markdown",
   "metadata": {},
   "source": [
    "# RRAP-IS Authentication Demo Notebook\n",
    "\n",
    "> A tutorial of RRAP authentication using Jupyter notebooks.\n",
    "\n",
    "- toc: true \n",
    "- badges: true\n",
    "- comments: true\n",
    "- categories: [jupyter]"
   ]
  },
  {
   "cell_type": "markdown",
   "metadata": {},
   "source": [
    "## About\n",
    "\n",
    "This notebook is a demonstration of authenticating with the RRAP-IS system.  "
   ]
  },
  {
   "cell_type": "markdown",
   "metadata": {},
   "source": [
    "#hide\n",
    "\n",
    "Handy links\n",
    "https://github.com/gbrrestoration/rrap-is-proto/blob/main/utilities/packages/python/keycloak-utils/KeycloakRestUtilities/TokenManager.py\n",
    "\n",
    "https://github.com/gbrrestoration/rrap-is-proto/blob/main/admin-tooling/data-store/import_db.py\n",
    "Construct Json directly\n",
    "\n",
    "APIs:\n",
    "https://data-api.testing.rrap-is.com/docs\n",
    "https://registry-api.testing.rrap-is.com/docs\n",
    "https://prov-api.testing.rrap-is.com/docs\n",
    "\n",
    "Auth:\n",
    "'Authorization' : 'Bearer <JWT token>'\n",
    "https://data-api.testing.rrap-is.com/check-access/check-general-access\n",
    "https://data-api.testing.rrap-is.com/\n",
    "\n",
    "token:\n",
    "https://data.testing.rrap-is.com/\n",
    "\n",
    "Maintain session\n",
    "https://github.com/gbrrestoration/rrap-is-proto/blob/main/utilities/packages/python/keycloak-utils/KeycloakRestUtilities/TokenManager.py"
   ]
  },
  {
   "cell_type": "markdown",
   "metadata": {},
   "source": [
    "## Run all imports\n",
    "\n",
    "Keep all your imports at the top of a notebook.  It allows for easier management."
   ]
  },
  {
   "cell_type": "code",
   "execution_count": 20,
   "metadata": {},
   "outputs": [],
   "source": [
    "import requests\n",
    "import os\n",
    "import sys\n",
    "import json\n",
    "   \n",
    "sys.path.append(\"python_packages/rrap_packages\")\n",
    "    \n",
    "from python_packages.rrap_packages.token_manager import DeviceFlowManager"
   ]
  },
  {
   "cell_type": "markdown",
   "metadata": {},
   "source": [
    "## Define global variables\n",
    "\n",
    "Similar to import we like to define notebook variable at the top and reuse them throughout the notebook"
   ]
  },
  {
   "cell_type": "code",
   "execution_count": 21,
   "metadata": {},
   "outputs": [],
   "source": [
    "data_api = \"https://data-api.testing.rrap-is.com\"\n",
    "registry_api = \"https://registry-api.testing.rrap-is.com\"\n",
    "prov_api = \"https://prov-api.testing.rrap-is.com\"\n",
    "auth_server = \"https://auth.dev.rrap-is.com/auth/realms/rrap\""
   ]
  },
  {
   "cell_type": "markdown",
   "metadata": {},
   "source": [
    "## Authentication steps\n",
    "\n",
    "### Setup tokens using device authorisation flow against keycloak server\n",
    "\n",
    "This could result in a browser window being opened if you don't have valid tokens cached in local storage."
   ]
  },
  {
   "cell_type": "code",
   "execution_count": 22,
   "metadata": {},
   "outputs": [
    {
     "name": "stdout",
     "output_type": "stream",
     "text": [
      "Attempting to generate authorisation tokens.\n",
      "\n",
      "Looking for existing tokens in local storage.\n",
      "\n",
      "Validating found tokens\n",
      "\n",
      "Found tokens valid, using.\n",
      "\n"
     ]
    }
   ],
   "source": [
    "# this caches the tokens\n",
    "local_token_storage = \".tokens.json\"\n",
    "\n",
    "token_manager = DeviceFlowManager(\n",
    "    stage=\"TEST\",\n",
    "    keycloak_endpoint=auth_server,\n",
    "    local_storage_location=local_token_storage\n",
    ")"
   ]
  },
  {
   "cell_type": "markdown",
   "metadata": {},
   "source": [
    "### Authenticated call"
   ]
  },
  {
   "cell_type": "code",
   "execution_count": null,
   "metadata": {},
   "outputs": [],
   "source": [
    "# Pull out the BearerAuth function (don't call it yet)\n",
    "auth = token_manager.get_auth\n",
    "\n",
    "# Setup postfix and endpoint\n",
    "postfix = \"/registry/items/list-all-datasets\"\n",
    "endpoint = data_api + postfix\n",
    "\n",
    "# When making the request, use auth=auth() - this will ensure tokens are valid\n",
    "# right at the point of using them, including potentially auto refreshing!\n",
    "response = requests.get(endpoint, auth=auth())\n",
    "\n",
    "print(json.dumps(response.json(), indent=4, sort_keys=True))"
   ]
  },
  {
   "cell_type": "markdown",
   "metadata": {},
   "source": [
    "## Test your auth agains a endpoint \n",
    "https://registry-api.testing.rrap-is.com/docs#/Access%20check/check_general_access_check_access_check_general_access_get"
   ]
  },
  {
   "cell_type": "code",
   "execution_count": 25,
   "metadata": {},
   "outputs": [
    {
     "name": "stdout",
     "output_type": "stream",
     "text": [
      "{\n",
      "    \"access_token\": \"eyJhbGciOiJSUzI1NiIsInR5cCIgOiAiSldUIiwia2lkIiA6ICIzMVBQVkZZdE53a2JEcVZnNjFqX08xNXdiN2FRZU1BaExCbWdpY2VvY2dBIn0.eyJleHAiOjE2NTg0NTM5ODUsImlhdCI6MTY1ODQ1MzY4NSwiYXV0aF90aW1lIjoxNjU4NDUxODAzLCJqdGkiOiI1N2EyYTJjOC00ZTYxLTQ1YmItYmEwYS03MDRlMmU3MzVmM2UiLCJpc3MiOiJodHRwczovL2F1dGguZGV2LnJyYXAtaXMuY29tL2F1dGgvcmVhbG1zL3JyYXAiLCJhdWQiOlsicmVhbG0tbWFuYWdlbWVudCIsImFjY291bnQiXSwic3ViIjoiMzllOGQ2YjMtM2U5NS00MjU2LWEzMzEtNmZmZjkzYzU4NjFkIiwidHlwIjoiQmVhcmVyIiwiYXpwIjoiYWRtaW4tdG9vbHMiLCJzZXNzaW9uX3N0YXRlIjoiOGFkNzlhMjYtY2E1ZS00YTQxLTg4YjAtYzhkNGI4OThiYzkwIiwiYWNyIjoiMCIsInJlYWxtX2FjY2VzcyI6eyJyb2xlcyI6WyJlbnRpdHktcmVnaXN0cnktYWRtaW4iLCJkYXRhLXN0b3JlLXdyaXRlIiwic3lzLWFkbWluLXJlYWQiLCJwcm92LWFkbWluIiwiaGFuZGxlLXdyaXRlIiwic3lzLWFkbWluLXdyaXRlIiwiaGFuZGxlLWFkbWluIiwicHJvdi1yZWFkIiwiZW50aXR5LXJlZ2lzdHJ5LXdyaXRlIiwiZGVmYXVsdC1yb2xlcy1ycmFwIiwicHJvdi13cml0ZSIsImVudGl0eS1yZWdpc3RyeS1yZWFkIiwib2ZmbGluZV9hY2Nlc3MiLCJkYXRhLXN0b3JlLWFkbWluIiwiZGF0YS1zdG9yZS1yZWFkIiwiaGFuZGxlLXJlYWQiLCJ1bWFfYXV0aG9yaXphdGlvbiJdfSwicmVzb3VyY2VfYWNjZXNzIjp7InJlYWxtLW1hbmFnZW1lbnQiOnsicm9sZXMiOlsidmlldy1yZWFsbSIsInZpZXctaWRlbnRpdHktcHJvdmlkZXJzIiwibWFuYWdlLWlkZW50aXR5LXByb3ZpZGVycyIsImltcGVyc29uYXRpb24iLCJyZWFsbS1hZG1pbiIsImNyZWF0ZS1jbGllbnQiLCJtYW5hZ2UtdXNlcnMiLCJxdWVyeS1yZWFsbXMiLCJ2aWV3LWF1dGhvcml6YXRpb24iLCJxdWVyeS1jbGllbnRzIiwicXVlcnktdXNlcnMiLCJtYW5hZ2UtZXZlbnRzIiwibWFuYWdlLXJlYWxtIiwidmlldy1ldmVudHMiLCJ2aWV3LXVzZXJzIiwidmlldy1jbGllbnRzIiwibWFuYWdlLWF1dGhvcml6YXRpb24iLCJtYW5hZ2UtY2xpZW50cyIsInF1ZXJ5LWdyb3VwcyJdfSwiYWNjb3VudCI6eyJyb2xlcyI6WyJtYW5hZ2UtYWNjb3VudCIsIm1hbmFnZS1hY2NvdW50LWxpbmtzIiwiZGVsZXRlLWFjY291bnQiLCJ2aWV3LXByb2ZpbGUiXX19LCJzY29wZSI6ImVtYWlsIHByb2ZpbGUgcm9sZXMiLCJzaWQiOiI4YWQ3OWEyNi1jYTVlLTRhNDEtODhiMC1jOGQ0Yjg5OGJjOTAiLCJlbWFpbF92ZXJpZmllZCI6ZmFsc2UsIm5hbWUiOiJBbmRyZXcgRnJlZWJhaXJuIiwicHJlZmVycmVkX3VzZXJuYW1lIjoiYW5kcmV3IiwiZ2l2ZW5fbmFtZSI6IkFuZHJldyIsImZhbWlseV9uYW1lIjoiRnJlZWJhaXJuIiwiZW1haWwiOiJhbmRyZXcuZnJlZWJhaXJuQGNzaXJvLmF1In0.GUqf6UNv4X8czIRUERuk9963HiAIBkA_hNRi1TI2GFI8X-87AkYD-1CF9UJqCppDxGIhv8WDGPxDv_fb4mB1ihGol-wfiF8IVcMMkhGxcs97KqDRlHCYKc-9g_n29cVvroUdAD83mFZrT2-0BomdS8Xp5BzWI2UMwvkDwTxSbVEdcs1pbzaA3OLWFo2xGFszLtzmxp_a3LRznBXbXC-d50fpNvoPmwAmg0j462IJrVGShwuhsW1QSFytM_wQeq6mos4lHON8Z-YHUNfQ2O2CTgw8IoErt3uTPLT2Io5aKRu07hLKgc8r2QdkJbBHDJMve1W5QOPq-C6YFaDqrKCpbQ\",\n",
      "    \"email\": \"andrew.freebairn@csiro.au\",\n",
      "    \"roles\": [\n",
      "        \"entity-registry-admin\",\n",
      "        \"data-store-write\",\n",
      "        \"sys-admin-read\",\n",
      "        \"prov-admin\",\n",
      "        \"handle-write\",\n",
      "        \"sys-admin-write\",\n",
      "        \"handle-admin\",\n",
      "        \"prov-read\",\n",
      "        \"entity-registry-write\",\n",
      "        \"default-roles-rrap\",\n",
      "        \"prov-write\",\n",
      "        \"entity-registry-read\",\n",
      "        \"offline_access\",\n",
      "        \"data-store-admin\",\n",
      "        \"data-store-read\",\n",
      "        \"handle-read\",\n",
      "        \"uma_authorization\"\n",
      "    ],\n",
      "    \"username\": \"andrew\"\n",
      "}\n"
     ]
    }
   ],
   "source": [
    "#test general access endpoint\n",
    "auth = token_manager.get_auth\n",
    "base_url = \"https://registry-api.testing.rrap-is.com\"\n",
    "url_query_string = \"/check-access/check-general-access\"\n",
    "endpoint = base_url + url_query_string\n",
    "\n",
    "response = requests.get(endpoint, auth=auth())\n",
    "\n",
    "print(json.dumps(response.json(), indent=4, sort_keys=True))"
   ]
  }
 ],
 "metadata": {
  "kernelspec": {
   "display_name": "Python 3.8.8 64-bit",
   "language": "python",
   "name": "python3"
  },
  "language_info": {
   "codemirror_mode": {
    "name": "ipython",
    "version": 3
   },
   "file_extension": ".py",
   "mimetype": "text/x-python",
   "name": "python",
   "nbconvert_exporter": "python",
   "pygments_lexer": "ipython3",
   "version": "3.8.8"
  },
  "orig_nbformat": 4,
  "vscode": {
   "interpreter": {
    "hash": "f38341ab6b4850169c0ae14e493bcf0848f0d768242f4d802d3fbfac2edcaf23"
   }
  }
 },
 "nbformat": 4,
 "nbformat_minor": 2
}
