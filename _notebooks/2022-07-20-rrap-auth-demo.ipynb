{
 "cells": [
  {
   "cell_type": "markdown",
   "metadata": {},
   "source": [
    "# RRAP-IS Authentication Demo Notebook\n",
    "\n",
    "> A tutorial of RRAP authentication using Jupyter notebooks.\n",
    "\n",
    "- toc: true \n",
    "- badges: true\n",
    "- comments: true\n",
    "- categories: [jupyter, authentication]"
   ]
  },
  {
   "cell_type": "markdown",
   "metadata": {},
   "source": [
    "## About\n",
    "\n",
    "This notebook is a demonstration of authenticating with the RRAP-IS system.  "
   ]
  },
  {
   "cell_type": "markdown",
   "metadata": {},
   "source": [
    "### Run all imports\n",
    "\n",
    "Keep all your imports at the top of a notebook.  It allows for easier management."
   ]
  },
  {
   "cell_type": "code",
   "execution_count": 9,
   "metadata": {},
   "outputs": [
    {
     "name": "stderr",
     "output_type": "stream",
     "text": [
      "/tmp/ipykernel_19616/723406562.py:5: DeprecationWarning: Importing display from IPython.core.display is deprecated since IPython 7.14, please import from IPython display\n",
      "  from IPython.core.display import display, HTML\n"
     ]
    }
   ],
   "source": [
    "import requests\n",
    "import os\n",
    "import sys\n",
    "import json\n",
    "from IPython.core.display import display, HTML\n",
    "from IPython.display import IFrame\n",
    "from mdsisclienttools.auth.TokenManager import DeviceFlowManager"
   ]
  },
  {
   "cell_type": "markdown",
   "metadata": {},
   "source": [
    "### Define global variables\n",
    "\n",
    "Similar to import we like to define notebook variable at the top and reuse them throughout the notebook"
   ]
  },
  {
   "cell_type": "code",
   "execution_count": 10,
   "metadata": {},
   "outputs": [
    {
     "data": {
      "text/plain": [
       "'Checking base urls'"
      ]
     },
     "metadata": {},
     "output_type": "display_data"
    },
    {
     "name": "stdout",
     "output_type": "stream",
     "text": [
      "Testing - https://data-api.testing.rrap-is.com - Passed\n",
      "Testing - https://registry-api.testing.rrap-is.com - Passed\n",
      "Testing - https://prov-api.testing.rrap-is.com - Passed\n",
      "Testing - https://auth.dev.rrap-is.com/auth/realms/rrap - Passed\n"
     ]
    }
   ],
   "source": [
    "data_api = \"https://data-api.testing.rrap-is.com\"\n",
    "registry_api = \"https://registry-api.testing.rrap-is.com\"\n",
    "prov_api = \"https://prov-api.testing.rrap-is.com\"\n",
    "auth_server = \"https://auth.dev.rrap-is.com/auth/realms/rrap\"\n",
    "# garbage = \"https://frogs.are.green\"\n",
    "base_urls = {'data_api': data_api, 'registry_api': registry_api, 'prov_api': prov_api, 'auth_server': auth_server}#, 'garbage': garbage}\n",
    "display(f'Checking base urls')\n",
    "\n",
    "for key, url in base_urls.items():\n",
    "    try:\n",
    "        print(f'Testing - {url}', end=\"\")\n",
    "        r = requests.get(url)\n",
    "        r.raise_for_status()\n",
    "        print(f' - Passed')\n",
    "    except requests.exceptions.HTTPError as err:\n",
    "        print(f' - Fail')\n",
    "        raise SystemExit(err)\n",
    "    except requests.exceptions.RequestException as e:\n",
    "        # catastrophic error. bail.\n",
    "        print(f' - Fail')\n",
    "        raise SystemExit(e)"
   ]
  },
  {
   "cell_type": "markdown",
   "metadata": {},
   "source": [
    "## Authentication\n",
    "\n",
    "### Setup tokens using device authorisation flow against keycloak server\n",
    "\n",
    "This could result in a browser window being opened if you don't have valid tokens cached in local storage.\n",
    "\n",
    "[Return to Top](#toc)"
   ]
  },
  {
   "cell_type": "code",
   "execution_count": 11,
   "metadata": {},
   "outputs": [
    {
     "name": "stdout",
     "output_type": "stream",
     "text": [
      "Using storage type: FILE.\n",
      "Attempting to generate authorisation tokens.\n",
      "\n",
      "Looking for existing tokens in local storage.\n",
      "\n",
      "Validating found tokens\n",
      "\n",
      "Trying to use found tokens to refresh the access token.\n",
      "\n",
      "Tokens found in storage but they are not valid.\n",
      "\n",
      "Initiating device auth flow to setup offline access token.\n",
      "\n",
      "Decoding response\n",
      "\n",
      "Please authorise using the following endpoint.\n",
      "\n",
      "Verification URL: https://auth.dev.rrap-is.com/auth/realms/rrap/device?user_code=HVXR-VLRW\n",
      "User Code: HVXR-VLRW\n",
      "\n",
      "Awaiting completion\n",
      "\n",
      "\n",
      "Token generation complete. Authorisation successful.\n",
      "\n"
     ]
    }
   ],
   "source": [
    "# this caches the tokens\n",
    "local_token_storage = \".tokens.json\"\n",
    "\n",
    "token_manager = DeviceFlowManager(\n",
    "    stage=\"TEST\",\n",
    "    keycloak_endpoint=auth_server,\n",
    "    local_storage_location=local_token_storage\n",
    ")"
   ]
  },
  {
   "cell_type": "markdown",
   "metadata": {},
   "source": [
    "## Endpoint Documentation\n",
    "Endpoint documentation can be found by appending either `/docs` or `/redoc` on the end a base URL.\n",
    "\n",
    "For example:\n",
    "<ul>\n",
    "  <li><a href=\"https://registry-api.testing.rrap-is.com/redoc#tag/Access-check\" target=\"_blank\">Redoc FastAPI - Access-check</a></li>\n",
    "  <li><a href=\"https://registry-api.testing.rrap-is.com/docs#/Access%20check\" target=\"_blank\">Docs FastAPI - Access-check</a> </li>\n",
    "</ul>\n",
    "\n",
    "Then select from the menu an endpoint function call e.g. `/check-access/check-general-access`\n",
    "\n",
    "Then append the function call onto the base url e.g. `https://registry-api.testing.rrap-is.com/check-access/check-general-access`\n",
    "\n",
    "[Return to Top](#toc)"
   ]
  },
  {
   "cell_type": "markdown",
   "metadata": {},
   "source": [
    "## Testing"
   ]
  },
  {
   "cell_type": "markdown",
   "metadata": {},
   "source": [
    "### Test general access "
   ]
  },
  {
   "cell_type": "code",
   "execution_count": 18,
   "metadata": {
    "scrolled": true,
    "tags": []
   },
   "outputs": [
    {
     "name": "stdout",
     "output_type": "stream",
     "text": [
      "{\n",
      "    \"access_token\": \"eyJhbGciOiJSUzI1NiIsInR5cCIgOiAiSldUIiwia2lkIiA6ICIzMVBQVkZZdE53a2JEcVZnNjFqX08xNXdiN2FRZU1BaExCbWdpY2VvY2dBIn0.eyJleHAiOjE2NzE0MjgyMzUsImlhdCI6MTY3MTQyNzkzNSwiYXV0aF90aW1lIjoxNjcxNDI3Mjk0LCJqdGkiOiIxYTRlZTM2My0zNzUwLTQ1YjItOWY5OC04YTE0ZjliM2UwMTUiLCJpc3MiOiJodHRwczovL2F1dGguZGV2LnJyYXAtaXMuY29tL2F1dGgvcmVhbG1zL3JyYXAiLCJhdWQiOlsicmVhbG0tbWFuYWdlbWVudCIsImFjY291bnQiXSwic3ViIjoiYWRjMDRiYzItNTZiOS00YzFhLTk0MTktMGE2ZTcxYTU5Zjg2IiwidHlwIjoiQmVhcmVyIiwiYXpwIjoiY2xpZW50LXRvb2xzIiwic2Vzc2lvbl9zdGF0ZSI6IjgyMTFkNTBlLWQ5YTQtNGNiZC1iYmVjLWQ2MzAwYTQ4Njg4NiIsImFjciI6IjAiLCJyZWFsbV9hY2Nlc3MiOnsicm9sZXMiOlsic2VhcmNoLXJlYWQiLCJlbnRpdHktcmVnaXN0cnktYWRtaW4iLCJkYXRhLXN0b3JlLXdyaXRlIiwic3lzLWFkbWluLXJlYWQiLCJwcm92LWFkbWluIiwiaGFuZGxlLXdyaXRlIiwic3lzLWFkbWluLXdyaXRlIiwiaGFuZGxlLWFkbWluIiwicHJvdi1yZWFkIiwiZW50aXR5LXJlZ2lzdHJ5LXdyaXRlIiwiZGVmYXVsdC1yb2xlcy1ycmFwIiwicHJvdi13cml0ZSIsImVudGl0eS1yZWdpc3RyeS1yZWFkIiwib2ZmbGluZV9hY2Nlc3MiLCJkYXRhLXN0b3JlLWFkbWluIiwiZGF0YS1zdG9yZS1yZWFkIiwiaGFuZGxlLXJlYWQiLCJ1bWFfYXV0aG9yaXphdGlvbiIsInN5cy1hZG1pbi1hZG1pbiJdfSwicmVzb3VyY2VfYWNjZXNzIjp7InJlYWxtLW1hbmFnZW1lbnQiOnsicm9sZXMiOlsidmlldy1yZWFsbSIsInZpZXctaWRlbnRpdHktcHJvdmlkZXJzIiwibWFuYWdlLWlkZW50aXR5LXByb3ZpZGVycyIsImltcGVyc29uYXRpb24iLCJyZWFsbS1hZG1pbiIsImNyZWF0ZS1jbGllbnQiLCJtYW5hZ2UtdXNlcnMiLCJxdWVyeS1yZWFsbXMiLCJ2aWV3LWF1dGhvcml6YXRpb24iLCJxdWVyeS1jbGllbnRzIiwicXVlcnktdXNlcnMiLCJtYW5hZ2UtZXZlbnRzIiwibWFuYWdlLXJlYWxtIiwidmlldy1ldmVudHMiLCJ2aWV3LXVzZXJzIiwidmlldy1jbGllbnRzIiwibWFuYWdlLWF1dGhvcml6YXRpb24iLCJtYW5hZ2UtY2xpZW50cyIsInF1ZXJ5LWdyb3VwcyJdfSwiYWNjb3VudCI6eyJyb2xlcyI6WyJtYW5hZ2UtYWNjb3VudCIsIm1hbmFnZS1hY2NvdW50LWxpbmtzIiwiZGVsZXRlLWFjY291bnQiLCJ2aWV3LXByb2ZpbGUiXX19LCJzY29wZSI6ImVtYWlsIHByb2ZpbGUgcm9sZXMiLCJzaWQiOiI4MjExZDUwZS1kOWE0LTRjYmQtYmJlYy1kNjMwMGE0ODY4ODYiLCJlbWFpbF92ZXJpZmllZCI6ZmFsc2UsIm5hbWUiOiJSb3NzIFBldHJpZGlzIiwicHJlZmVycmVkX3VzZXJuYW1lIjoicm9zcyIsImdpdmVuX25hbWUiOiJSb3NzIiwiZmFtaWx5X25hbWUiOiJQZXRyaWRpcyIsImVtYWlsIjoicm9zcy5wZXRyaWRpc0Bjc2lyby5hdSJ9.llDfdBTYMOg2o0DJvEGMcZwby3k2M271BcZ9ujHEjboqxbuEeD5xtuVI8Tk2qo2v_iVKUaz52vbxGiyesH88kOXlxhdz1t-q_mLuxh9BFajxqsl3ccbFc6hbKh9FK38VWYdJ8HsVPeambrBA4z27KTLOtxih6wn0z-7zUwPUP7duGlfQcolbGFFHkkmst7XDMqfeFD2CyMSxdQA4MVydFkaYsw48d-pV1m6Eo6_8ztpCzZdJYUx5LvdG5b2ps7K_DzO16IF7Gez_GMW7jc0hWhBWHcnjuA9KsuQ5-vRcTjZH2QpaosCe6JAf0zXjhCcIIQYbHUscYvsktBhNu7E7RQ\",\n",
      "    \"email\": \"ross.petridis@csiro.au\",\n",
      "    \"roles\": [\n",
      "        \"search-read\",\n",
      "        \"entity-registry-admin\",\n",
      "        \"data-store-write\",\n",
      "        \"sys-admin-read\",\n",
      "        \"prov-admin\",\n",
      "        \"handle-write\",\n",
      "        \"sys-admin-write\",\n",
      "        \"handle-admin\",\n",
      "        \"prov-read\",\n",
      "        \"entity-registry-write\",\n",
      "        \"default-roles-rrap\",\n",
      "        \"prov-write\",\n",
      "        \"entity-registry-read\",\n",
      "        \"offline_access\",\n",
      "        \"data-store-admin\",\n",
      "        \"data-store-read\",\n",
      "        \"handle-read\",\n",
      "        \"uma_authorization\",\n",
      "        \"sys-admin-admin\"\n",
      "    ],\n",
      "    \"username\": \"ross\"\n",
      "}\n"
     ]
    }
   ],
   "source": [
    "auth = token_manager.get_auth\n",
    "base_url = \"https://registry-api.testing.rrap-is.com\"\n",
    "url_query_string = \"/check-access/check-general-access\"\n",
    "endpoint = base_url + url_query_string\n",
    "\n",
    "response = requests.get(endpoint, auth=auth())\n",
    "\n",
    "print(json.dumps(response.json(), indent=4, sort_keys=True))"
   ]
  },
  {
   "cell_type": "markdown",
   "metadata": {},
   "source": [
    "### Test read access"
   ]
  },
  {
   "cell_type": "code",
   "execution_count": 19,
   "metadata": {},
   "outputs": [
    {
     "name": "stdout",
     "output_type": "stream",
     "text": [
      "[\n",
      "    \"search-read\",\n",
      "    \"entity-registry-admin\",\n",
      "    \"data-store-write\",\n",
      "    \"sys-admin-read\",\n",
      "    \"prov-admin\",\n",
      "    \"handle-write\",\n",
      "    \"sys-admin-write\",\n",
      "    \"handle-admin\",\n",
      "    \"prov-read\",\n",
      "    \"entity-registry-write\",\n",
      "    \"default-roles-rrap\",\n",
      "    \"prov-write\",\n",
      "    \"entity-registry-read\",\n",
      "    \"offline_access\",\n",
      "    \"data-store-admin\",\n",
      "    \"data-store-read\",\n",
      "    \"handle-read\",\n",
      "    \"uma_authorization\",\n",
      "    \"sys-admin-admin\"\n",
      "]\n"
     ]
    }
   ],
   "source": [
    "auth = token_manager.get_auth\n",
    "base_url = \"https://registry-api.testing.rrap-is.com\"\n",
    "url_query_string = \"/check-access/check-read-access\"\n",
    "endpoint = base_url + url_query_string\n",
    "\n",
    "response = requests.get(endpoint, auth=auth())\n",
    "\n",
    "print(json.dumps(response.json()['roles'], indent=4, sort_keys=True))"
   ]
  },
  {
   "cell_type": "markdown",
   "metadata": {},
   "source": [
    "### Test write access"
   ]
  },
  {
   "cell_type": "code",
   "execution_count": 20,
   "metadata": {},
   "outputs": [
    {
     "name": "stdout",
     "output_type": "stream",
     "text": [
      "[\n",
      "    \"search-read\",\n",
      "    \"entity-registry-admin\",\n",
      "    \"data-store-write\",\n",
      "    \"sys-admin-read\",\n",
      "    \"prov-admin\",\n",
      "    \"handle-write\",\n",
      "    \"sys-admin-write\",\n",
      "    \"handle-admin\",\n",
      "    \"prov-read\",\n",
      "    \"entity-registry-write\",\n",
      "    \"default-roles-rrap\",\n",
      "    \"prov-write\",\n",
      "    \"entity-registry-read\",\n",
      "    \"offline_access\",\n",
      "    \"data-store-admin\",\n",
      "    \"data-store-read\",\n",
      "    \"handle-read\",\n",
      "    \"uma_authorization\",\n",
      "    \"sys-admin-admin\"\n",
      "]\n"
     ]
    }
   ],
   "source": [
    "auth = token_manager.get_auth\n",
    "base_url = \"https://registry-api.testing.rrap-is.com\"\n",
    "url_query_string = \"/check-access/check-write-access\"\n",
    "endpoint = base_url + url_query_string\n",
    "\n",
    "response = requests.get(endpoint, auth=auth())\n",
    "\n",
    "print(json.dumps(response.json()['roles'], indent=4, sort_keys=True))"
   ]
  },
  {
   "cell_type": "markdown",
   "metadata": {},
   "source": [
    "### Test administration access"
   ]
  },
  {
   "cell_type": "code",
   "execution_count": 21,
   "metadata": {},
   "outputs": [
    {
     "name": "stdout",
     "output_type": "stream",
     "text": [
      "Token validation failed due to error: Signature has expired.\n",
      "Refreshing using refresh token\n",
      "\n",
      "[\n",
      "    \"search-read\",\n",
      "    \"entity-registry-admin\",\n",
      "    \"data-store-write\",\n",
      "    \"sys-admin-read\",\n",
      "    \"prov-admin\",\n",
      "    \"handle-write\",\n",
      "    \"sys-admin-write\",\n",
      "    \"handle-admin\",\n",
      "    \"prov-read\",\n",
      "    \"entity-registry-write\",\n",
      "    \"default-roles-rrap\",\n",
      "    \"prov-write\",\n",
      "    \"entity-registry-read\",\n",
      "    \"offline_access\",\n",
      "    \"data-store-admin\",\n",
      "    \"data-store-read\",\n",
      "    \"handle-read\",\n",
      "    \"uma_authorization\",\n",
      "    \"sys-admin-admin\"\n",
      "]\n"
     ]
    }
   ],
   "source": [
    "auth = token_manager.get_auth\n",
    "base_url = \"https://registry-api.testing.rrap-is.com\"\n",
    "url_query_string = \"/check-access/check-admin-access\"\n",
    "endpoint = base_url + url_query_string\n",
    "\n",
    "response = requests.get(endpoint, auth=auth())\n",
    "\n",
    "print(json.dumps(response.json()['roles'], indent=4, sort_keys=True))"
   ]
  },
  {
   "cell_type": "markdown",
   "metadata": {},
   "source": [
    "[Return to Top](#toc)"
   ]
  }
 ],
 "metadata": {
  "kernelspec": {
   "display_name": ".venv",
   "language": "python",
   "name": "python3"
  },
  "language_info": {
   "codemirror_mode": {
    "name": "ipython",
    "version": 3
   },
   "file_extension": ".py",
   "mimetype": "text/x-python",
   "name": "python",
   "nbconvert_exporter": "python",
   "pygments_lexer": "ipython3",
   "version": "3.8.10"
  },
  "vscode": {
   "interpreter": {
    "hash": "3d1275a2fb951f0c374bcc16cfb7eb7840ea16246984712301e7ada442de4250"
   }
  }
 },
 "nbformat": 4,
 "nbformat_minor": 4
}
