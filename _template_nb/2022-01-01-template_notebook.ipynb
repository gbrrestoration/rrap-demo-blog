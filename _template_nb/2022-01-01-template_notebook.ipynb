{
 "cells": [
  {
   "cell_type": "markdown",
   "metadata": {},
   "source": [
    "# RRAP-IS Template Demo Notebook\n",
    "\n",
    "> A tutorial of RRAP uploading and downloading dataset using Jupyter notebooks.\n",
    "\n",
    "- toc: true \n",
    "- badges: true\n",
    "- comments: true\n",
    "- categories: [jupyter]"
   ]
  },
  {
   "cell_type": "markdown",
   "metadata": {},
   "source": [
    "## About\n",
    "\n",
    "This notebook is a demonstration of ... RRAP data repository. "
   ]
  },
  {
   "cell_type": "markdown",
   "metadata": {},
   "source": [
    "### Run all imports\n",
    "\n",
    "Keep all your imports at the top of a notebook.  It allows for easier management."
   ]
  },
  {
   "cell_type": "code",
   "execution_count": 2,
   "metadata": {},
   "outputs": [],
   "source": [
    "import requests\n",
    "import os\n",
    "import sys\n",
    "import json\n",
    "from bs4 import BeautifulSoup\n",
    "from IPython.display import IFrame, display, HTML, JSON, Markdown, Image\n",
    "from mdsisclienttools.auth.TokenManager import DeviceFlowManager\n",
    "\n",
    "import numpy as np\n",
    "import pandas as pd\n",
    "\n",
    "import warnings\n",
    "warnings.filterwarnings(action='once')"
   ]
  },
  {
   "cell_type": "markdown",
   "metadata": {},
   "source": [
    "### Define global variables\n",
    "\n",
    "Similar to import we like to define notebook variable at the top and reuse them throughout the notebook"
   ]
  },
  {
   "cell_type": "code",
   "execution_count": 4,
   "metadata": {},
   "outputs": [
    {
     "data": {
      "text/plain": [
       "'Checking base urls'"
      ]
     },
     "metadata": {},
     "output_type": "display_data"
    },
    {
     "name": "stdout",
     "output_type": "stream",
     "text": [
      "Testing - https://data-api.testing.rrap-is.com - Passed\n",
      "Testing - https://registry-api.testing.rrap-is.com - Passed\n",
      "Testing - https://prov-api.testing.rrap-is.com - Passed\n",
      "Testing - https://auth.dev.rrap-is.com/auth/realms/rrap - Passed\n",
      "Testing - https://data.testing.rrap-is.com - Passed\n"
     ]
    }
   ],
   "source": [
    "data_store = \"https://data.testing.rrap-is.com\"\n",
    "data_api = \"https://data-api.testing.rrap-is.com\"\n",
    "registry_api = \"https://registry-api.testing.rrap-is.com\"\n",
    "prov_api = \"https://prov-api.testing.rrap-is.com\"\n",
    "auth_server = \"https://auth.dev.rrap-is.com/auth/realms/rrap\"\n",
    "# garbage = \"https://frogs.are.green\"\n",
    "base_urls = {'data_api': data_api, 'registry_api': registry_api, 'prov_api': prov_api, 'auth_server': auth_server, 'data_store': data_store}#, 'garbage': garbage}\n",
    "display(f'Checking base urls')\n",
    "\n",
    "for key, url in base_urls.items():\n",
    "    try:\n",
    "        print(f'Testing - {url}', end=\"\")\n",
    "        r = requests.get(url)\n",
    "        r.raise_for_status()\n",
    "        print(f' - Passed')\n",
    "    except requests.exceptions.HTTPError as err:\n",
    "        print(f' - Fail')\n",
    "        raise SystemExit(err)\n",
    "    except requests.exceptions.RequestException as e:\n",
    "        # catastrophic error. bail.\n",
    "        print(f' - Fail')\n",
    "        raise SystemExit(e)"
   ]
  },
  {
   "cell_type": "markdown",
   "metadata": {},
   "source": [
    "## Authentication\n",
    "\n",
    "### Setup tokens using device authorisation flow against keycloak server\n",
    "\n",
    "This could result in a browser window being opened if you don't have valid tokens cached in local storage.\n",
    "\n",
    "[Return to Top](#toc)"
   ]
  },
  {
   "cell_type": "code",
   "execution_count": null,
   "metadata": {},
   "outputs": [],
   "source": [
    "# this caches the tokens\n",
    "local_token_storage = \".tokens.json\"\n",
    "\n",
    "token_manager = DeviceFlowManager(\n",
    "    stage=\"TEST\",\n",
    "    keycloak_endpoint=auth_server,\n",
    "    local_storage_location=local_token_storage\n",
    ")"
   ]
  },
  {
   "cell_type": "markdown",
   "metadata": {},
   "source": [
    "## Endpoint Documentation\n",
    "Endpoint documentation can be found by appending either `/docs` or `/redoc` on the end a base URL.\n",
    "\n",
    "For example:\n",
    "<ul>\n",
    "  <li><a href=\"https://prov-api.testing.rrap-is.com/redoc\" target=\"_blank\">Provenance API</a></li>\n",
    "  <li><a href=\"https://data-api.testing.rrap-is.com/redoc\" target=\"_blank\">Data API</a></li>\n",
    "  <li><a href=\"https://registry-api.testing.rrap-is.com/redoc\" target=\"_blank\">Registry API</a></li>\n",
    "</ul>\n",
    "\n",
    "\n",
    "\n",
    "Then select from the menu an endpoint function call e.g. `/register/mint-dataset`\n",
    "\n",
    "Then append the function call onto the base url e.g. `https://data-api.testing.rrap-is.com/register/mint-dataset`\n",
    "\n",
    "[Return to Top](#toc)"
   ]
  },
  {
   "cell_type": "markdown",
   "metadata": {},
   "source": [
    "## Demonstration\n",
    "\n",
    "Write an overview of the demonstration"
   ]
  }
 ],
 "metadata": {
  "kernelspec": {
   "display_name": "Python 3.8.10 ('.venv_mvp_demo': venv)",
   "language": "python",
   "name": "python3"
  },
  "language_info": {
   "codemirror_mode": {
    "name": "ipython",
    "version": 3
   },
   "file_extension": ".py",
   "mimetype": "text/x-python",
   "name": "python",
   "nbconvert_exporter": "python",
   "pygments_lexer": "ipython3",
   "version": "3.8.10"
  },
  "orig_nbformat": 4,
  "vscode": {
   "interpreter": {
    "hash": "9710ff2faa7bc16d880bb18615b17fc9b712f9f6ed8c7dc063de886c1cfb5013"
   }
  }
 },
 "nbformat": 4,
 "nbformat_minor": 2
}
